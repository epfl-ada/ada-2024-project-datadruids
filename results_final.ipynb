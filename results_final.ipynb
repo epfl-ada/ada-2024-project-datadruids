{
 "cells": [
  {
   "cell_type": "code",
   "execution_count": 57,
   "metadata": {},
   "outputs": [],
   "source": [
    "import sys \n",
    "import matplotlib.pyplot as plt\n",
    "import pandas as pd \n",
    "import plotly.express as px\n",
    "import json\n",
    "import seaborn as sns\n",
    "from datetime import datetime\n",
    "from datasets import Dataset\n",
    "from datasets import load_dataset\n",
    "import tqdm as tqdm\n",
    "sys.path.append('./src/utils')\n",
    "import general_utils as gu\n",
    "from regression_utils import multi_one_hot_encode_columns"
   ]
  },
  {
   "cell_type": "markdown",
   "metadata": {},
   "source": [
    "## Loading the Data"
   ]
  },
  {
   "cell_type": "code",
   "execution_count": 41,
   "metadata": {},
   "outputs": [],
   "source": [
    "#Data set created in books movies cleaning\n",
    "data = pd.read_csv('data/final_dataset.csv')\n",
    "data = data.dropna(subset=['revenue']).query('revenue != 0')\n",
    "data = data.dropna(subset=['revenue']).query('budget != 0')\n",
    "\n",
    "#Unique books is later used to plot different Authors so it contains only one row per book id \n",
    "unique_books = data[['length', 'book_id', 'BookTitle', 'Author', 'normalized_rating_y', 'BookYear', 'review_count']].drop_duplicates(subset='book_id')\n",
    "\n",
    "#Dataset used for regression, prepared in books movies cleaning\n",
    "regression_dataset_tmdb_raw_df = load_dataset(\"ada-datadruids/regression_dataset_tmdb\")['train'].to_pandas()"
   ]
  },
  {
   "cell_type": "markdown",
   "metadata": {},
   "source": [
    "## Data Visualization"
   ]
  },
  {
   "cell_type": "markdown",
   "metadata": {},
   "source": [
    "### Scatter Plot to compare ratings of books and movies"
   ]
  },
  {
   "cell_type": "code",
   "execution_count": 42,
   "metadata": {},
   "outputs": [
    {
     "data": {
      "application/vnd.plotly.v1+json": {
       "config": {
        "plotlyServerURL": "https://plot.ly"
       },
       "data": [
        {
         "hovertemplate": "<b>%{hovertext}</b><br><br>Normalized Movie Rating=%{x}<br>Normalized Book Rating=%{y}<extra></extra>",
         "hovertext": [
          "Mary Poppins",
          "Straw Dogs",
          "The Forbidden Kingdom",
          "Beastmaster 2: Through the Portal of Time",
          "Shaft",
          "The Last Song",
          "For Love of the Game",
          "Queen of the Damned",
          "Laura",
          "The Last Picture Show",
          "Dr. Strangelove or: How I Learned to Stop Worrying and Love the Bomb",
          "Zorba the Greek",
          "Lolita",
          "Bee Season",
          "The Other Boleyn Girl",
          "L.A. Confidential",
          "Giant",
          "The Birth of a Nation",
          "Original Sin",
          "Cirque du Freak: The Vampire's Assistant",
          "Tarzan",
          "Pharaoh",
          "Battlefield Earth",
          "No Country for Old Men",
          "The Rescuers",
          "Altered States",
          "The Stepford Wives",
          "Death Wish",
          "Munich",
          "A Patch of Blue",
          "The Girl with the Dragon Tattoo",
          "The Wizard of Oz",
          "Gulliver's Travels",
          "Stir of Echoes",
          "The Secret Life of Bees",
          "Willy Wonka & the Chocolate Factory",
          "The Hustler",
          "The Iron Giant",
          "Catch-22",
          "In Country",
          "War Horse",
          "The Sisterhood of the Traveling Pants",
          "The Sand Pebbles",
          "The Time Traveler's Wife",
          "Howards End",
          "Valmont",
          "Fanaa",
          "The First Wives Club",
          "Jaws: The Revenge",
          "Airport '77",
          "Where the Wild Things Are",
          "Striptease",
          "Jackie Brown",
          "Dreamcatcher",
          "Harry Potter and the Half-Blood Prince",
          "Vanity Fair",
          "Don't Say a Word",
          "Casino Royale",
          "The Desperate Hours",
          "Johnny Handsome",
          "The Night of the Iguana",
          "The Bourne Supremacy",
          "Clockers",
          "Anna and the King",
          "The Lord of the Rings: The Two Towers",
          "Dying Young",
          "Gigi",
          "Airport",
          "The Hunchback of Notre Dame",
          "The Poseidon Adventure",
          "The Missing",
          "The American",
          "Force 10 from Navarone",
          "Freaky Friday",
          "Pinocchio",
          "The Name of the Rose",
          "The Nanny Diaries",
          "Anna Karenina",
          "Abbott and Costello Meet Frankenstein",
          "Harry Potter and the Goblet of Fire",
          "Payback",
          "Moonraker",
          "Glory",
          "The Invisible Woman",
          "Gentlemen Prefer Blondes",
          "I Am Legend",
          "American Psycho",
          "Journey to the Center of the Earth",
          "Message in a Bottle",
          "The Hot Rock",
          "To Catch a Thief",
          "Body Snatchers",
          "The Long Goodbye",
          "Dune",
          "The Firm",
          "Dances with Wolves",
          "The Chronicles of Narnia: The Voyage of the Dawn Treader",
          "Barry Lyndon",
          "Pirates of the Caribbean: On Stranger Tides",
          "Emma",
          "Fever Pitch",
          "Freedomland",
          "The Big Sleep",
          "Manhunter",
          "Invisible Agent",
          "War of the Worlds",
          "Rebecca",
          "Beloved",
          "Pooh's Heffalump Movie",
          "The Silence of the Lambs",
          "The NeverEnding Story II: The Next Chapter",
          "Enemy Mine",
          "The Adventures of Huck Finn",
          "Possession",
          "Cocoon",
          "Clear and Present Danger",
          "The Bourne Identity",
          "The Andromeda Strain",
          "The Reader",
          "Conquest of the Planet of the Apes",
          "Planet of the Apes",
          "The Joy Luck Club",
          "Trading Places",
          "Moby Dick",
          "The Cowboys",
          "The Boy in the Striped Pyjamas",
          "Three Days of the Condor",
          "The Rescuers Down Under",
          "Children of Men",
          "Harry Potter and the Order of the Phoenix",
          "The Ghost Writer",
          "Lolita",
          "Lifeforce",
          "Stardust",
          "Mississippi Mermaid",
          "Winnie the Pooh",
          "The Running Man",
          "Mercury Rising",
          "The Apple Dumpling Gang Rides Again",
          "Contempt",
          "Carlito's Way",
          "Paper Moon",
          "The Girl Who Played with Fire",
          "Valley of the Dolls",
          "Return to Never Land",
          "Psycho",
          "Tess",
          "The Beastmaster",
          "Babylon A.D.",
          "Shalako",
          "Pet Sematary",
          "Blue Fin",
          "Zardoz",
          "Dragon Seed",
          "Vampires",
          "The Wind in the Willows",
          "The Invasion",
          "The Blue Lagoon",
          "Marathon Man",
          "Bullitt",
          "102 Dalmatians",
          "Billy Bathgate",
          "The Girl with the Dragon Tattoo",
          "Air America",
          "Congo",
          "About a Boy",
          "Les Misérables",
          "The Bonfire of the Vanities",
          "Peter Pan",
          "Double Indemnity",
          "Oliver Twist",
          "Song of the South",
          "Rambo III",
          "A Farewell to Arms",
          "Sideways",
          "Around the World in 80 Days",
          "The Black Stallion",
          "Derailed",
          "The Exorcist",
          "First Blood",
          "Birdy",
          "Across to Singapore",
          "Ben-Hur",
          "The Da Vinci Code",
          "Duel in the Sun",
          "Wolfen",
          "Point Blank",
          "The Sea Beast",
          "20,000 Leagues Under the Sea",
          "Straw Dogs",
          "Water for Elephants",
          "The Jackal",
          "Great Expectations",
          "The African Queen",
          "I Am Number Four",
          "The Jungle Book 2",
          "The Bedroom Window",
          "The Agony and the Ecstasy",
          "In the Heat of the Night",
          "Black Rain",
          "Spartacus",
          "Schindler's List",
          "The Age of Innocence",
          "Die Hard",
          "The Adventures of Huckleberry Finn",
          "Tarzan and the Lost City",
          "The Pope of Greenwich Village",
          "The Ninth Gate",
          "The Time Machine",
          "Dark Passage",
          "Stuart Little",
          "Marnie",
          "Runaway Jury",
          "Black Knight",
          "The Curse of Frankenstein",
          "Bicentennial Man",
          "The Constant Gardener",
          "20,000 Leagues Under the Sea",
          "The Spy Who Loved Me",
          "Timeline",
          "The Postman",
          "Murphy's Romance",
          "Percy Jackson & the Olympians: The Lightning Thief",
          "The Drowning Pool",
          "Anthony Adverse",
          "Rise of the Planet of the Apes",
          "Return to the Blue Lagoon",
          "Limitless",
          "Exorcist: The Beginning",
          "The Exorcist III",
          "Blood Work",
          "Gettysburg",
          "The Guns of Navarone",
          "After Hours",
          "The Lincoln Lawyer",
          "Village of the Damned",
          "Escape from the Planet of the Apes",
          "The Outlaw Josey Wales",
          "The Talented Mr. Ripley",
          "Sorcerer",
          "The Shipping News",
          "Harry Potter and the Deathly Hallows – Part 2",
          "Chocolat",
          "Oliver!",
          "Flight of the Phoenix",
          "Live and Let Die",
          "Swiss Family Robinson",
          "The Color of Money",
          "Naked Lunch",
          "The Trouble with Harry",
          "Ice Station Zebra",
          "Psycho",
          "Treasure Planet",
          "The Molly Maguires",
          "The Phantom of the Opera",
          "The Witches of Eastwick",
          "Ride with the Devil",
          "Farewell to the King",
          "The Quiet American",
          "Mary Reilly",
          "Cry Wolf",
          "Fahrenheit 451",
          "Fight Club",
          "Love Story",
          "The Man in the Iron Mask",
          "Peter Pan",
          "From Here to Eternity",
          "The Deep",
          "Identity",
          "The Bourne Legacy",
          "Hannibal",
          "Random Hearts",
          "Twilight",
          "The Woman in Black",
          "The Cider House Rules",
          "The Sword in the Stone",
          "The NeverEnding Story",
          "Sex Drive",
          "Jaws 2",
          "Mother of Mine",
          "Jumanji",
          "The Thief of Bagdad",
          "The Hunt for Red October",
          "Fair Game",
          "The Nutty Professor",
          "Rambo: First Blood Part II",
          "Oliver & Company",
          "Cimarron",
          "Cross of Iron",
          "Frankenstein",
          "The Color Purple",
          "Pinocchio and the Emperor of the Night",
          "Young Frankenstein",
          "The King and I",
          "The Wiz",
          "The Bridge on the River Kwai",
          "Misery",
          "The Godfather",
          "The Road",
          "Ivanhoe",
          "The Getaway",
          "The Swarm",
          "Hook",
          "Gone with the Wind",
          "The Scarlet Letter",
          "Race to Witch Mountain",
          "Layer Cake",
          "The Client",
          "Dominion: Prequel to the Exorcist",
          "Battle for the Planet of the Apes",
          "Fear and Loathing in Las Vegas",
          "The 13th Warrior",
          "The Night of the Generals",
          "Frankenstein Unbound",
          "Fletch",
          "Matilda",
          "Dad",
          "A Good Year",
          "The Princess Diaries 2: Royal Engagement",
          "The Big Bounce",
          "The Caine Mutiny",
          "Bad Girl",
          "Casino Royale",
          "Who Framed Roger Rabbit",
          "Muppet Treasure Island",
          "The Bourne Ultimatum",
          "Election",
          "The House of the Spirits",
          "Revolutionary Road",
          "Big Trouble",
          "3:10 to Yuma",
          "Mildred Pierce",
          "Harry Potter and the Chamber of Secrets",
          "Harry Potter and the Prisoner of Azkaban",
          "Get Shorty",
          "Nutty Professor II: The Klumps",
          "Atonement",
          "Thunderball",
          "A Passage to India",
          "Logan's Run",
          "Mr. Hobbs Takes a Vacation",
          "The Natural",
          "The War of the Roses",
          "The Beach",
          "The Golden Bowl",
          "The Dirty Dozen",
          "Desperate Hours",
          "Rob Roy",
          "Alice Adams",
          "Firefox",
          "To Kill a Mockingbird",
          "Psycho II",
          "The Island",
          "Dangerous Liaisons",
          "A Place in the Sun",
          "James and the Giant Peach",
          "Return of the Living Dead 3",
          "Suspicion",
          "The Rainmaker",
          "The Killer Inside Me",
          "Solaris",
          "Flicka",
          "What Dreams May Come",
          "City of Ember",
          "The Black Hole",
          "Kiss of the Spider Woman",
          "The Shaggy Dog",
          "The Power of One",
          "Lost Horizon",
          "The Flim-Flam Man",
          "You Only Live Twice",
          "Being Julia",
          "Pride & Prejudice",
          "Rosemary's Baby",
          "One Flew Over the Cuckoo's Nest",
          "Cocoon: The Return",
          "The Robe",
          "The Outsiders",
          "The Human Stain",
          "The Lovely Bones",
          "Diamonds Are Forever",
          "The Spiderwick Chronicles",
          "Blade Runner",
          "An Awfully Big Adventure",
          "The World According to Garp",
          "Frenzy",
          "The Detective",
          "The Caveman's Valentine",
          "Never Say Never Again",
          "Bad Moon",
          "The Bridges of Madison County",
          "The Sisterhood of the Traveling Pants 2",
          "Something Wicked This Way Comes",
          "Van Helsing",
          "Amityville II: The Possession",
          "Beaches",
          "Father of the Bride",
          "Kandukondain Kandukondain",
          "Elmer Gantry",
          "The Watcher in the Woods",
          "Elegy",
          "A History of Violence",
          "Trainspotting",
          "Jurassic Park III",
          "The Shaggy Dog",
          "Contact",
          "Jude",
          "Murder on the Orient Express",
          "The Secret of NIMH",
          "Stuart Little 2",
          "Hud",
          "Exodus",
          "The Razor's Edge",
          "Cobra",
          "Nanny McPhee",
          "The Black Dahlia",
          "Starship Troopers",
          "The Hunchback of Notre Dame",
          "I Know What You Did Last Summer",
          "A Time to Kill",
          "All Quiet on the Western Front",
          "Little Caesar",
          "Return to Oz",
          "Angel Heart",
          "The Dreamers",
          "Friendly Persuasion",
          "The Grapes of Wrath",
          "The Notebook",
          "Exorcist II: The Heretic",
          "The Painted Veil",
          "Invasion of the Body Snatchers",
          "Quest for Camelot",
          "The Best Years of Our Lives",
          "Silver Bullet",
          "The Towering Inferno",
          "The Deep End of the Ocean",
          "Topaz",
          "Bringing Out the Dead",
          "The Postman Always Rings Twice",
          "The Man with the Golden Gun",
          "Divine Secrets of the Ya-Ya Sisterhood",
          "Village of the Damned",
          "Along Came a Spider",
          "The Fury",
          "Cold Mountain",
          "Nanny McPhee and the Big Bang",
          "Funny Farm",
          "All the King's Men",
          "Gods and Monsters",
          "Harper",
          "Strangers on a Train",
          "The Adventures of Mark Twain",
          "Fletch Lives",
          "Dr. No",
          "From Russia with Love",
          "O Brother, Where Art Thou?",
          "Sahara",
          "Exit Wounds",
          "The Lost World: Jurassic Park",
          "The Manchurian Candidate",
          "Finding Neverland",
          "Beau Geste",
          "The Devil Wears Prada",
          "Where the Boys Are",
          "Beowulf",
          "Hombre",
          "The Devil's Advocate",
          "Pinocchio",
          "The Clan of the Cave Bear",
          "The Door in the Floor",
          "The Egyptian",
          "The Lady from Shanghai",
          "Bridget Jones: The Edge of Reason",
          "Cruel Intentions",
          "The Golden Compass",
          "The Women of Brewster Place",
          "The Prince of Tides",
          "Let the Right One In",
          "December Boys",
          "Christine",
          "Journey 2: The Mysterious Island",
          "The Chronicles of Narnia: Prince Caspian",
          "Monte Carlo",
          "Freejack",
          "Jurassic Park",
          "The Manchurian Candidate",
          "Death Sentence",
          "The Polar Express",
          "The Haunting",
          "On Her Majesty's Secret Service",
          "Red Dragon",
          "The Count of Monte Cristo",
          "Diabolique",
          "The King and I",
          "The Jungle Book",
          "Sphere",
          "The Good German",
          "Journey to the Center of the Earth",
          "Mystic River",
          "John Carter",
          "The Shining",
          "Killer Elite",
          "Charlotte's Web",
          "The Fox and the Hound",
          "True Grit",
          "Dave",
          "The Amityville Horror",
          "Cool Hand Luke",
          "Disclosure",
          "The Help",
          "Anna Karenina",
          "Forrest Gump",
          "Presumed Innocent",
          "Watership Down",
          "The Last Detail",
          "Bridget Jones's Diary",
          "The Four Feathers",
          "The Hobbit: An Unexpected Journey",
          "The Hours",
          "Family Plot",
          "Bel Ami",
          "The Pleasure Seekers",
          "High Fidelity",
          "The End of the Affair",
          "A Clockwork Orange",
          "The League of Extraordinary Gentlemen",
          "The Great Gatsby",
          "The Fan",
          "No Way Out",
          "How Green Was My Valley",
          "The Treasure of the Sierra Madre",
          "Crouching Tiger, Hidden Dragon",
          "When Worlds Collide",
          "Anatomy of a Murder",
          "Willard",
          "Bright Lights, Big City",
          "Fantastic Mr. Fox",
          "Empire of the Sun",
          "A Simple Plan",
          "Cape Fear",
          "Cape Fear",
          "Young Adam",
          "Like Water for Chocolate",
          "The Great Gatsby",
          "Fried Green Tomatoes",
          "Alatriste",
          "Poseidon",
          "The Devils",
          "The Three Musketeers",
          "Clueless",
          "The Host",
          "Ordinary People",
          "American Splendor",
          "The Last of the Mohicans",
          "The Postman Always Rings Twice",
          "Vertigo",
          "Dear John",
          "The Deep End",
          "The Unbearable Lightness of Being",
          "Big Fish",
          "A Room with a View",
          "For Whom the Bell Tolls",
          "Flight of the Intruder",
          "Invasion of the Body Snatchers",
          "The Sum of All Fears",
          "Taps",
          "One Hundred and One Dalmatians",
          "The Musketeer",
          "Open Range",
          "Gods and Generals",
          "Harry Potter and the Philosopher's Stone",
          "City of God",
          "Sense and Sensibility",
          "Hawaii",
          "The Sea Hawk",
          "Woman Thou Art Loosed",
          "Black Sunday",
          "The Boys from Brazil",
          "Excalibur",
          "The Vikings",
          "The Hand",
          "Return of the Living Dead Part II",
          "Death on the Nile",
          "Planet of the Apes",
          "Out of Sight",
          "Terms of Endearment",
          "Charlie and the Chocolate Factory",
          "Maurice",
          "Shutter Island",
          "The Parent Trap",
          "The Three Musketeers",
          "Hellraiser",
          "The Fan",
          "King Solomon's Mines",
          "The Howling",
          "At Play in the Fields of the Lord",
          "The Black Cauldron",
          "The Chronicles of Narnia: The Lion, the Witch and the Wardrobe",
          "The Lucky One",
          "Evil Under the Sun",
          "Goldfinger",
          "Confessions of a Shopaholic",
          "Hart's War",
          "Battle Royale",
          "The Painted Veil",
          "The Green Mile",
          "Kiss the Girls",
          "The Pelican Brief",
          "Let Me In",
          "Be Cool",
          "Where Eagles Dare",
          "Desert Hearts",
          "Buck Rogers in the 25th Century",
          "Firestarter",
          "Eragon",
          "White Fang",
          "Psycho III",
          "Patriot Games",
          "Sleeping with the Enemy",
          "South Pacific",
          "Shaft",
          "The Island of Dr. Moreau",
          "There Will Be Blood",
          "Abandon",
          "The Maltese Falcon",
          "Jaws",
          "The Great Mouse Detective",
          "Jaws 3-D",
          "The Remains of the Day",
          "Brideshead Revisited",
          "Rambo",
          "A Walk to Remember",
          "Scarface",
          "The Hunger Games",
          "The Dead Zone",
          "The Rules of Attraction",
          "To Sir, with Love",
          "The English Patient",
          "A Scanner Darkly",
          "About Schmidt",
          "The Assassination of Jesse James by the Coward Robert Ford",
          "A.I. Artificial Intelligence",
          "Bedknobs and Broomsticks",
          "The Lord of the Rings: The Fellowship of the Ring",
          "Bridge to Terabithia",
          "101 Dalmatians",
          "The Chamber",
          "Field of Dreams",
          "Piglet's Big Movie",
          "Man on Fire",
          "The Princess Bride",
          "Beneath the Planet of the Apes",
          "Shaft in Africa",
          "The Tigger Movie",
          "The Lord of the Rings: The Return of the King",
          "Absolute Power",
          "The Time Machine",
          "The Warriors",
          "Rising Sun"
         ],
         "legendgroup": "",
         "marker": {
          "color": "#636efa",
          "symbol": "circle"
         },
         "mode": "markers",
         "name": "",
         "orientation": "v",
         "showlegend": false,
         "type": "scatter",
         "x": [
          0.802816901408451,
          0.76056338028169,
          0.633802816901408,
          0.253521126760563,
          0.633802816901408,
          0.535211267605634,
          0.633802816901408,
          0.450704225352113,
          0.830985915492958,
          0.845070422535211,
          0.887323943661972,
          0.788732394366197,
          0.774647887323944,
          0.47887323943662,
          0.647887323943662,
          0.873239436619718,
          0.788732394366197,
          0.633802816901408,
          0.549295774647887,
          0.535211267605634,
          0.732394366197183,
          0.774647887323944,
          0.0563380281690141,
          0.845070422535211,
          0.676056338028169,
          0.676056338028169,
          0.450704225352113,
          0.690140845070423,
          0.774647887323944,
          0.830985915492958,
          0.802816901408451,
          0.830985915492958,
          0.394366197183099,
          0.690140845070423,
          0.732394366197183,
          0.802816901408451,
          0.830985915492958,
          0.830985915492958,
          0.71830985915493,
          0.535211267605634,
          0.71830985915493,
          0.619718309859155,
          0.788732394366197,
          0.704225352112676,
          0.76056338028169,
          0.690140845070423,
          0.71830985915493,
          0.591549295774648,
          0.112676056338028,
          0.492957746478873,
          0.661971830985915,
          0.323943661971831,
          0.76056338028169,
          0.47887323943662,
          0.774647887323944,
          0.577464788732394,
          0.591549295774648,
          0.436619718309859,
          0.76056338028169,
          0.563380281690141,
          0.802816901408451,
          0.802816901408451,
          0.676056338028169,
          0.647887323943662,
          0.929577464788732,
          0.549295774647887,
          0.661971830985915,
          0.633802816901408,
          0.676056338028169,
          0.704225352112676,
          0.619718309859155,
          0.591549295774648,
          0.605633802816901,
          0.577464788732394,
          0.76056338028169,
          0.802816901408451,
          0.577464788732394,
          0.704225352112676,
          0.774647887323944,
          0.788732394366197,
          0.704225352112676,
          0.591549295774648,
          0.816901408450704,
          0.577464788732394,
          0.71830985915493,
          0.71830985915493,
          0.774647887323944,
          0.704225352112676,
          0.577464788732394,
          0.661971830985915,
          0.76056338028169,
          0.535211267605634,
          0.788732394366197,
          0.633802816901408,
          0.661971830985915,
          0.830985915492958,
          0.591549295774648,
          0.845070422535211,
          0.633802816901408,
          0.647887323943662,
          0.577464788732394,
          0.422535211267606,
          0.830985915492958,
          0.71830985915493,
          0.563380281690141,
          0.619718309859155,
          0.845070422535211,
          0.535211267605634,
          0.605633802816901,
          0.915492957746479,
          0.422535211267606,
          0.676056338028169,
          0.577464788732394,
          0.605633802816901,
          0.647887323943662,
          0.676056338028169,
          0.816901408450704,
          0.71830985915493,
          0.774647887323944,
          0.563380281690141,
          0.830985915492958,
          0.774647887323944,
          0.76056338028169,
          0.746478873239437,
          0.746478873239437,
          0.802816901408451,
          0.76056338028169,
          0.676056338028169,
          0.816901408450704,
          0.76056338028169,
          0.71830985915493,
          0.676056338028169,
          0.563380281690141,
          0.788732394366197,
          0.704225352112676,
          0.71830985915493,
          0.647887323943662,
          0.563380281690141,
          0.549295774647887,
          0.788732394366197,
          0.816901408450704,
          0.845070422535211,
          0.71830985915493,
          0.549295774647887,
          0.52112676056338,
          0.352112676056338,
          0.732394366197183,
          0.577464788732394,
          0.492957746478873,
          0.47887323943662,
          0.633802816901408,
          0.563380281690141,
          0.535211267605634,
          0.577464788732394,
          0.563380281690141,
          0.591549295774648,
          0.535211267605634,
          0.507042253521127,
          0.76056338028169,
          0.76056338028169,
          0.394366197183099,
          0.535211267605634,
          0.802816901408451,
          0.52112676056338,
          0.422535211267606,
          0.704225352112676,
          0.774647887323944,
          0.47887323943662,
          0.732394366197183,
          0.873239436619718,
          0.676056338028169,
          0.732394366197183,
          0.52112676056338,
          0.535211267605634,
          0.76056338028169,
          0.535211267605634,
          0.746478873239437,
          0.633802816901408,
          0.830985915492958,
          0.788732394366197,
          0.732394366197183,
          0.71830985915493,
          0.845070422535211,
          0.633802816901408,
          0.676056338028169,
          0.591549295774648,
          0.746478873239437,
          0.633802816901408,
          0.676056338028169,
          0.52112676056338,
          0.676056338028169,
          0.605633802816901,
          0.661971830985915,
          0.816901408450704,
          0.563380281690141,
          0.464788732394366,
          0.605633802816901,
          0.71830985915493,
          0.830985915492958,
          0.633802816901408,
          0.816901408450704,
          0.95774647887324,
          0.71830985915493,
          0.859154929577465,
          0.591549295774648,
          0.267605633802817,
          0.647887323943662,
          0.647887323943662,
          0.774647887323944,
          0.774647887323944,
          0.535211267605634,
          0.71830985915493,
          0.704225352112676,
          0.380281690140845,
          0.71830985915493,
          0.676056338028169,
          0.746478873239437,
          0.71830985915493,
          0.704225352112676,
          0.492957746478873,
          0.549295774647887,
          0.690140845070423,
          0.535211267605634,
          0.619718309859155,
          0.619718309859155,
          0.774647887323944,
          0.436619718309859,
          0.746478873239437,
          0.422535211267606,
          0.591549295774648,
          0.605633802816901,
          0.788732394366197,
          0.774647887323944,
          0.788732394366197,
          0.732394366197183,
          0.732394366197183,
          0.591549295774648,
          0.816901408450704,
          0.746478873239437,
          0.788732394366197,
          0.661971830985915,
          0.845070422535211,
          0.732394366197183,
          0.76056338028169,
          0.563380281690141,
          0.661971830985915,
          0.71830985915493,
          0.690140845070423,
          0.704225352112676,
          0.704225352112676,
          0.633802816901408,
          0.901408450704225,
          0.704225352112676,
          0.676056338028169,
          0.732394366197183,
          0.619718309859155,
          0.661971830985915,
          0.591549295774648,
          0.704225352112676,
          0.52112676056338,
          0.633802816901408,
          0.732394366197183,
          0.943661971830986,
          0.676056338028169,
          0.619718309859155,
          0.676056338028169,
          0.788732394366197,
          0.577464788732394,
          0.732394366197183,
          0.647887323943662,
          0.661971830985915,
          0.422535211267606,
          0.436619718309859,
          0.605633802816901,
          0.746478873239437,
          0.71830985915493,
          0.746478873239437,
          0.619718309859155,
          0.507042253521127,
          0.788732394366197,
          0.676056338028169,
          0.802816901408451,
          0.774647887323944,
          0.295774647887324,
          0.492957746478873,
          0.605633802816901,
          0.647887323943662,
          0.549295774647887,
          0.76056338028169,
          0.816901408450704,
          0.802816901408451,
          0.661971830985915,
          0.830985915492958,
          0.76056338028169,
          0.450704225352113,
          0.859154929577465,
          0.802816901408451,
          1,
          0.732394366197183,
          0.661971830985915,
          0.76056338028169,
          0.323943661971831,
          0.647887323943662,
          0.859154929577465,
          0.436619718309859,
          0.507042253521127,
          0.732394366197183,
          0.647887323943662,
          0.450704225352113,
          0.47887323943662,
          0.788732394366197,
          0.633802816901408,
          0.732394366197183,
          0.47887323943662,
          0.676056338028169,
          0.676056338028169,
          0.577464788732394,
          0.690140845070423,
          0.52112676056338,
          0.394366197183099,
          0.802816901408451,
          0.633802816901408,
          0.830985915492958,
          0.788732394366197,
          0.690140845070423,
          0.830985915492958,
          0.732394366197183,
          0.676056338028169,
          0.732394366197183,
          0.619718309859155,
          0.788732394366197,
          0.830985915492958,
          0.746478873239437,
          0.816901408450704,
          0.676056338028169,
          0.323943661971831,
          0.802816901408451,
          0.690140845070423,
          0.746478873239437,
          0.661971830985915,
          0.676056338028169,
          0.76056338028169,
          0.661971830985915,
          0.633802816901408,
          0.549295774647887,
          0.802816901408451,
          0.464788732394366,
          0.676056338028169,
          0.690140845070423,
          0.535211267605634,
          0.873239436619718,
          0.605633802816901,
          0.450704225352113,
          0.774647887323944,
          0.802816901408451,
          0.647887323943662,
          0.535211267605634,
          0.746478873239437,
          0.704225352112676,
          0.563380281690141,
          0.577464788732394,
          0.577464788732394,
          0.690140845070423,
          0.619718309859155,
          0.535211267605634,
          0.746478873239437,
          0.619718309859155,
          0.71830985915493,
          0.450704225352113,
          0.690140845070423,
          0.676056338028169,
          0.690140845070423,
          0.802816901408451,
          0.830985915492958,
          0.929577464788732,
          0.450704225352113,
          0.661971830985915,
          0.71830985915493,
          0.591549295774648,
          0.647887323943662,
          0.647887323943662,
          0.633802816901408,
          0.859154929577465,
          0.549295774647887,
          0.71830985915493,
          0.76056338028169,
          0.619718309859155,
          0.535211267605634,
          0.577464788732394,
          0.52112676056338,
          0.774647887323944,
          0.577464788732394,
          0.661971830985915,
          0.563380281690141,
          0.47887323943662,
          0.676056338028169,
          0.619718309859155,
          0.774647887323944,
          0.802816901408451,
          0.605633802816901,
          0.661971830985915,
          0.76056338028169,
          0.859154929577465,
          0.535211267605634,
          0.323943661971831,
          0.746478873239437,
          0.690140845070423,
          0.732394366197183,
          0.774647887323944,
          0.47887323943662,
          0.816901408450704,
          0.661971830985915,
          0.633802816901408,
          0.507042253521127,
          0.633802816901408,
          0.492957746478873,
          0.71830985915493,
          0.816901408450704,
          0.507042253521127,
          0.746478873239437,
          0.845070422535211,
          0.732394366197183,
          0.661971830985915,
          0.732394366197183,
          0.71830985915493,
          0.76056338028169,
          0.845070422535211,
          0.816901408450704,
          0.225352112676056,
          0.647887323943662,
          0.746478873239437,
          0.591549295774648,
          0.845070422535211,
          0.605633802816901,
          0.676056338028169,
          0.605633802816901,
          0.591549295774648,
          0.661971830985915,
          0.76056338028169,
          0.661971830985915,
          0.549295774647887,
          0.492957746478873,
          0.591549295774648,
          0.605633802816901,
          0.71830985915493,
          0.563380281690141,
          0.577464788732394,
          0.577464788732394,
          0.76056338028169,
          0.690140845070423,
          0.830985915492958,
          0.71830985915493,
          0.563380281690141,
          0.732394366197183,
          0.746478873239437,
          0.802816901408451,
          0.549295774647887,
          0.47887323943662,
          0.619718309859155,
          0.830985915492958,
          0.788732394366197,
          0.704225352112676,
          0.676056338028169,
          0.647887323943662,
          0.577464788732394,
          0.746478873239437,
          0.76056338028169,
          0.309859154929577,
          0.464788732394366,
          0.647887323943662,
          0.633802816901408,
          0.788732394366197,
          0.549295774647887,
          0.661971830985915,
          0.563380281690141,
          0.788732394366197,
          0.647887323943662,
          0.816901408450704,
          0.633802816901408,
          0.647887323943662,
          0.52112676056338,
          0.619718309859155,
          0.52112676056338,
          0.450704225352113,
          0.845070422535211,
          0.633802816901408,
          0.661971830985915,
          0.633802816901408,
          0.394366197183099,
          0.661971830985915,
          0.71830985915493,
          0.802816901408451,
          0.464788732394366,
          0.295774647887324,
          0.774647887323944,
          0.563380281690141,
          0.563380281690141,
          0.52112676056338,
          0.830985915492958,
          0.633802816901408,
          0.887323943661972,
          0.619718309859155,
          0.591549295774648,
          0.732394366197183,
          0.774647887323944,
          0.661971830985915,
          0.549295774647887,
          0.845070422535211,
          0.563380281690141,
          0.845070422535211,
          0.605633802816901,
          0.943661971830986,
          0.676056338028169,
          0.788732394366197,
          0.774647887323944,
          0.647887323943662,
          0.619718309859155,
          0.816901408450704,
          0.774647887323944,
          0.661971830985915,
          0.464788732394366,
          0.507042253521127,
          0.76056338028169,
          0.704225352112676,
          0.873239436619718,
          0.52112676056338,
          0.732394366197183,
          0.52112676056338,
          0.704225352112676,
          0.802816901408451,
          0.859154929577465,
          0.816901408450704,
          0.647887323943662,
          0.830985915492958,
          0.577464788732394,
          0.507042253521127,
          0.816901408450704,
          0.802816901408451,
          0.76056338028169,
          0.732394366197183,
          0.802816901408451,
          0.619718309859155,
          0.71830985915493,
          0.605633802816901,
          0.788732394366197,
          0.563380281690141,
          0.492957746478873,
          0.816901408450704,
          0.52112676056338,
          0.661971830985915,
          0.535211267605634,
          0.802816901408451,
          0.76056338028169,
          0.802816901408451,
          0.633802816901408,
          0.873239436619718,
          0.591549295774648,
          0.633802816901408,
          0.746478873239437,
          0.830985915492958,
          0.746478873239437,
          0.690140845070423,
          0.52112676056338,
          0.802816901408451,
          0.605633802816901,
          0.661971830985915,
          0.71830985915493,
          0.380281690140845,
          0.76056338028169,
          0.605633802816901,
          0.774647887323944,
          0.915492957746479,
          0.788732394366197,
          0.633802816901408,
          0.788732394366197,
          0.661971830985915,
          0.661971830985915,
          0.690140845070423,
          0.746478873239437,
          0.704225352112676,
          0.464788732394366,
          0.52112676056338,
          0.732394366197183,
          0.507042253521127,
          0.690140845070423,
          0.746478873239437,
          0.647887323943662,
          0.788732394366197,
          0.845070422535211,
          0.619718309859155,
          0.605633802816901,
          0.690140845070423,
          0.52112676056338,
          0.436619718309859,
          0.633802816901408,
          0.661971830985915,
          0.619718309859155,
          0.676056338028169,
          0.619718309859155,
          0.704225352112676,
          0.788732394366197,
          0.535211267605634,
          0.591549295774648,
          0.788732394366197,
          0.76056338028169,
          0.901408450704225,
          0.633802816901408,
          0.633802816901408,
          0.704225352112676,
          0.507042253521127,
          0.788732394366197,
          0.690140845070423,
          0.633802816901408,
          0.549295774647887,
          0.422535211267606,
          0.647887323943662,
          0.450704225352113,
          0.676056338028169,
          0.577464788732394,
          0.676056338028169,
          0.535211267605634,
          0.338028169014085,
          0.859154929577465,
          0.394366197183099,
          0.845070422535211,
          0.830985915492958,
          0.71830985915493,
          0.211267605633803,
          0.816901408450704,
          0.647887323943662,
          0.690140845070423,
          0.746478873239437,
          0.873239436619718,
          0.71830985915493,
          0.71830985915493,
          0.647887323943662,
          0.788732394366197,
          0.746478873239437,
          0.704225352112676,
          0.71830985915493,
          0.76056338028169,
          0.704225352112676,
          0.704225352112676,
          0.943661971830986,
          0.71830985915493,
          0.507042253521127,
          0.549295774647887,
          0.76056338028169,
          0.563380281690141,
          0.788732394366197,
          0.845070422535211,
          0.563380281690141,
          0.549295774647887,
          0.591549295774648,
          0.95774647887324,
          0.647887323943662,
          0.535211267605634,
          0.788732394366197,
          0.577464788732394
         ],
         "xaxis": "x",
         "y": [
          0.68,
          0.476666666666667,
          0.67,
          0.666666666666667,
          0.45,
          0.716666666666667,
          0.613333333333333,
          0.626666666666667,
          0.666666666666667,
          0.656666666666667,
          0.563333333333333,
          0.693333333333333,
          0.63,
          0.52,
          0.683333333333333,
          0.733333333333333,
          0.666666666666667,
          0.44,
          0.6,
          0.723333333333333,
          0.63,
          0.583333333333333,
          0.503333333333333,
          0.71,
          0.696666666666667,
          0.606666666666667,
          0.58,
          0.526666666666667,
          0.703333333333333,
          0.64,
          0.71,
          0.663333333333333,
          0.52,
          0.63,
          0.676666666666667,
          0.706666666666667,
          0.706666666666667,
          0.643333333333333,
          0.66,
          0.523333333333333,
          0.713333333333333,
          0.59,
          0.743333333333334,
          0.653333333333333,
          0.653333333333333,
          0.69,
          0.723333333333333,
          0.63,
          0.656666666666667,
          0.646666666666667,
          0.74,
          0.613333333333333,
          0.626666666666667,
          0.536666666666667,
          0.853333333333333,
          0.593333333333333,
          0.563333333333333,
          0.58,
          0.566666666666667,
          0.613333333333333,
          0.62,
          0.703333333333333,
          0.69,
          0.59,
          0.81,
          0.496666666666667,
          0.576666666666667,
          0.646666666666667,
          0.663333333333333,
          0.643333333333333,
          0.65,
          0.543333333333333,
          0.606666666666667,
          0.57,
          0.62,
          0.706666666666667,
          0.47,
          0.68,
          0.593333333333333,
          0.85,
          0.683333333333333,
          0.573333333333333,
          0.713333333333333,
          0.543333333333333,
          0.543333333333333,
          0.686666666666667,
          0.606666666666667,
          0.616666666666667,
          0.65,
          0.646666666666667,
          0.663333333333333,
          0.63,
          0.74,
          0.736666666666667,
          0.666666666666667,
          0.733333333333333,
          0.696666666666667,
          0.543333333333333,
          0.616666666666667,
          0.663333333333333,
          0.576666666666667,
          0.523333333333333,
          0.67,
          0.676666666666667,
          0.543333333333333,
          0.603333333333333,
          0.74,
          0.6,
          0.78,
          0.723333333333333,
          0.726666666666667,
          0.716666666666667,
          0.603333333333333,
          0.626666666666667,
          0.65,
          0.7,
          0.666666666666667,
          0.63,
          0.58,
          0.643333333333333,
          0.643333333333333,
          0.636666666666667,
          0.616666666666667,
          0.496666666666667,
          0.736666666666667,
          0.706666666666667,
          0.696666666666667,
          0.656666666666667,
          0.56,
          0.826666666666667,
          0.566666666666667,
          0.63,
          0.45,
          0.693333333333333,
          0.6,
          0.78,
          0.62,
          0.563333333333333,
          0.44,
          0.633333333333333,
          0.71,
          0.706666666666667,
          0.743333333333334,
          0.576666666666667,
          0.696666666666667,
          0.703333333333333,
          0.596666666666667,
          0.666666666666667,
          0.446666666666667,
          0.643333333333333,
          0.65,
          0.54,
          0.663333333333333,
          0.686666666666667,
          0.586666666666667,
          0.66,
          0.63,
          0.53,
          0.706666666666667,
          0.64,
          0.706666666666667,
          0.596666666666667,
          0.71,
          0.64,
          0.526666666666667,
          0.6,
          0.72,
          0.613333333333333,
          0.696666666666667,
          0.703333333333333,
          0.62,
          0.713333333333333,
          0.66,
          0.6,
          0.563333333333333,
          0.64,
          0.73,
          0.59,
          0.72,
          0.66,
          0.68,
          0.5,
          0.676666666666667,
          0.606666666666667,
          0.313333333333333,
          0.616666666666667,
          0.683333333333333,
          0.496666666666667,
          0.7,
          0.476666666666667,
          0.693333333333333,
          0.753333333333333,
          0.586666666666667,
          0.683333333333333,
          0.646666666666667,
          0.61,
          0.453333333333333,
          0.69,
          0.593333333333333,
          0.66,
          0.603333333333333,
          0.78,
          0.646666666666667,
          0.52,
          0.603333333333333,
          0.63,
          0.623333333333333,
          0.603333333333333,
          0.626666666666667,
          0.656666666666667,
          0.63,
          0.63,
          0.656666666666667,
          0.59,
          0.593333333333333,
          0.693333333333333,
          0.596666666666667,
          0.626666666666667,
          0.466666666666667,
          0.613333333333333,
          0.626666666666667,
          0.423333333333333,
          0.746666666666667,
          0.666666666666667,
          0.68,
          0.643333333333333,
          0.57,
          0.606666666666667,
          0.72,
          0.72,
          0.706666666666667,
          0.69,
          0.71,
          0.66,
          0.716666666666667,
          0.643333333333333,
          0.643333333333333,
          0.686666666666667,
          0.646666666666667,
          0.53,
          0.616666666666667,
          0.876666666666667,
          0.653333333333333,
          0.62,
          0.603333333333333,
          0.543333333333333,
          0.64,
          0.61,
          0.483333333333333,
          0.573333333333333,
          0.66,
          0.703333333333333,
          0.61,
          0.5,
          0.656666666666667,
          0.423333333333333,
          0.733333333333333,
          0.616666666666667,
          0.656666666666667,
          0.6,
          0.62,
          0.66,
          0.733333333333333,
          0.536666666666667,
          0.663333333333333,
          0.696666666666667,
          0.696666666666667,
          0.58,
          0.75,
          0.623333333333333,
          0.583333333333333,
          0.406666666666667,
          0.526666666666667,
          0.566666666666667,
          0.706666666666667,
          0.636666666666667,
          0.726666666666667,
          0.453333333333333,
          0.656666666666667,
          0.356666666666667,
          0.68,
          0.596666666666667,
          0.683333333333333,
          0.576666666666667,
          0.6,
          0.66,
          0.62,
          0.583333333333333,
          0.726666666666667,
          0.593333333333333,
          0.73,
          0.62,
          0.593333333333333,
          0.59,
          0.663333333333333,
          0.676666666666667,
          0.713333333333333,
          0.79,
          0.653333333333333,
          0.583333333333333,
          0.646666666666667,
          0.363333333333333,
          0.696666666666667,
          0.763333333333333,
          0.463333333333333,
          0.626666666666667,
          0.66,
          0.663333333333333,
          0.72,
          0.643333333333333,
          0.693333333333333,
          0.553333333333333,
          0.616666666666667,
          0.593333333333333,
          0.64,
          0.766666666666667,
          0.716666666666667,
          0.546666666666667,
          0.593333333333333,
          0.473333333333333,
          0.746666666666667,
          0.37,
          0.58,
          0.566666666666667,
          0.61,
          0.683333333333333,
          0.62,
          0.74,
          0.633333333333333,
          0.606666666666667,
          0.65,
          0.64,
          0.8,
          0.85,
          0.653333333333333,
          0.6,
          0.63,
          0.6,
          0.56,
          0.556666666666667,
          0.563333333333333,
          0.543333333333333,
          0.476666666666667,
          0.643333333333333,
          0.593333333333333,
          0.66,
          0.566666666666667,
          0.566666666666667,
          0.543333333333333,
          0.64,
          0.756666666666666,
          0.703333333333333,
          0.44,
          0.69,
          0.646666666666667,
          0.666666666666667,
          0.49,
          0.506666666666667,
          0.643333333333333,
          0.623333333333333,
          0.663333333333333,
          0.716666666666667,
          0.65,
          0.62,
          0.626666666666667,
          0.653333333333333,
          0.31,
          0.783333333333333,
          0.64,
          0.596666666666667,
          0.583333333333333,
          0.713333333333333,
          0.75,
          0.66,
          0.73,
          0.65,
          0.736666666666667,
          0.693333333333333,
          0.623333333333333,
          0.596666666666667,
          0.533333333333333,
          0.63,
          0.693333333333333,
          0.54,
          0.693333333333333,
          0.463333333333333,
          0.4,
          0.563333333333333,
          0.6,
          0.75,
          0.53,
          0.59,
          0.65,
          0.593333333333333,
          0.393333333333333,
          0.716666666666667,
          0.56,
          0.686666666666667,
          0.666666666666667,
          0.48,
          0.54,
          0.486666666666667,
          0.696666666666667,
          0.666666666666667,
          0.31,
          0.71,
          0.603333333333333,
          0.72,
          0.713333333333333,
          0.63,
          0.643333333333333,
          0.78,
          0.726666666666667,
          0.576666666666667,
          0.616666666666667,
          0.583333333333333,
          0.666666666666667,
          0.663333333333333,
          0.5,
          0.683333333333333,
          0.65,
          0.566666666666667,
          0.663333333333333,
          0.64,
          0.566666666666667,
          0.636666666666667,
          0.65,
          0.693333333333333,
          0.72,
          0.64,
          0.63,
          0.516666666666667,
          0.716666666666667,
          0.546666666666667,
          0.573333333333333,
          0.62,
          0.596666666666667,
          0.566666666666667,
          0.6,
          0.52,
          0.603333333333333,
          0.643333333333333,
          0.7,
          0.453333333333333,
          0.616666666666667,
          0.616666666666667,
          0.53,
          0.696666666666667,
          0.703333333333333,
          0.606666666666667,
          0.596666666666667,
          0.633333333333333,
          0.64,
          0.59,
          0.63,
          0.583333333333333,
          0.653333333333333,
          0.523333333333333,
          0.666666666666667,
          0.696666666666667,
          0.696666666666667,
          0.666666666666667,
          0.576666666666667,
          0.386666666666667,
          0.476666666666667,
          0.653333333333333,
          0.666666666666667,
          0.62,
          0.676666666666667,
          0.583333333333333,
          0.7,
          0.543333333333333,
          0.52,
          0.69,
          0.653333333333333,
          0.716666666666667,
          0.743333333333334,
          0.69,
          0.336666666666667,
          0.583333333333333,
          0.7,
          0.656666666666667,
          0.36,
          0.606666666666667,
          0.666666666666667,
          0.696666666666667,
          0.52,
          0.766666666666667,
          0.623333333333333,
          0.653333333333333,
          0.676666666666667,
          0.746666666666667,
          0.57,
          0.59,
          0.646666666666667,
          0.596666666666667,
          0.58,
          0.586666666666667,
          0.726666666666667,
          0.6,
          0.733333333333333,
          0.633333333333333,
          0.72,
          0.75,
          0.713333333333333,
          0.616666666666667,
          0.613333333333333,
          0.71,
          0.59,
          0.82,
          0.68,
          0.686666666666667,
          0.7,
          0.69,
          0.616666666666667,
          0.586666666666667,
          0.633333333333333,
          0.753333333333333,
          0.643333333333333,
          0.606666666666667,
          0.61,
          0.5,
          0.646666666666667,
          0.65,
          0.663333333333333,
          0.6,
          0.636666666666667,
          null,
          0.606666666666667,
          0.72,
          0.696666666666667,
          0.53,
          0.636666666666667,
          0.666666666666667,
          0.626666666666667,
          0.586666666666667,
          0.68,
          0.663333333333333,
          0.636666666666667,
          0.693333333333333,
          0.693333333333333,
          0.583333333333333,
          0.646666666666667,
          0.636666666666667,
          0.756666666666666,
          0.556666666666667,
          0.643333333333333,
          0.636666666666667,
          0.69,
          0.663333333333333,
          0.613333333333333,
          0.633333333333333,
          0.673333333333333,
          0.566666666666667,
          0.6,
          0.613333333333333,
          0.676666666666667,
          0.613333333333333,
          0.696666666666667,
          0.553333333333333,
          0.633333333333333,
          0.653333333333333,
          0.69,
          0.63,
          0.67,
          0.55,
          0.706666666666667,
          0.69,
          0.633333333333333,
          0.69,
          0.82,
          0.636666666666667,
          0.686666666666667,
          0.733333333333333,
          0.683333333333333,
          0.786666666666667,
          0.533333333333333,
          0.686666666666667,
          0.643333333333333,
          0.593333333333333,
          0.49,
          0.49,
          0.696666666666667,
          0.643333333333333,
          0.643333333333333,
          0.716666666666667,
          0.706666666666667,
          0.67,
          0.696666666666667,
          0.7,
          0.69,
          0.653333333333333,
          0.486666666666667,
          0.6,
          0.643333333333333,
          0.68,
          0.666666666666667,
          0.736666666666667,
          0.703333333333333,
          0.653333333333333,
          0.603333333333333,
          0.543333333333333,
          0.65,
          0.75,
          0.64,
          0.813333333333333,
          0.65,
          0.66,
          0.69,
          0.496666666666667,
          0.71,
          0.633333333333333,
          0.443333333333333,
          0.623333333333333,
          0.626666666666667,
          0.653333333333333,
          0.703333333333333,
          0.71,
          0.67,
          0.68,
          0.45,
          0.573333333333333,
          0.563333333333333,
          0.426666666666667,
          0.636666666666667,
          0.656666666666667,
          0.64,
          0.656666666666667,
          0.706666666666667,
          0.666666666666667,
          0.66,
          0.72,
          0.586666666666667,
          0.776666666666667,
          0.636666666666667,
          0.57,
          0.72,
          0.626666666666667,
          0.676666666666667,
          0.4,
          0.636666666666667,
          0.62,
          0.623333333333333,
          0.783333333333333,
          0.663333333333333,
          0.706666666666667,
          0.593333333333333,
          0.656666666666667,
          0.78,
          0.743333333333334,
          0.753333333333333,
          0.643333333333333,
          0.45,
          0.78,
          0.84,
          0.72,
          0.626666666666667,
          0.48,
          0.543333333333333
         ],
         "yaxis": "y"
        }
       ],
       "layout": {
        "height": 500,
        "legend": {
         "tracegroupgap": 0
        },
        "template": {
         "data": {
          "bar": [
           {
            "error_x": {
             "color": "#2a3f5f"
            },
            "error_y": {
             "color": "#2a3f5f"
            },
            "marker": {
             "line": {
              "color": "white",
              "width": 0.5
             },
             "pattern": {
              "fillmode": "overlay",
              "size": 10,
              "solidity": 0.2
             }
            },
            "type": "bar"
           }
          ],
          "barpolar": [
           {
            "marker": {
             "line": {
              "color": "white",
              "width": 0.5
             },
             "pattern": {
              "fillmode": "overlay",
              "size": 10,
              "solidity": 0.2
             }
            },
            "type": "barpolar"
           }
          ],
          "carpet": [
           {
            "aaxis": {
             "endlinecolor": "#2a3f5f",
             "gridcolor": "#C8D4E3",
             "linecolor": "#C8D4E3",
             "minorgridcolor": "#C8D4E3",
             "startlinecolor": "#2a3f5f"
            },
            "baxis": {
             "endlinecolor": "#2a3f5f",
             "gridcolor": "#C8D4E3",
             "linecolor": "#C8D4E3",
             "minorgridcolor": "#C8D4E3",
             "startlinecolor": "#2a3f5f"
            },
            "type": "carpet"
           }
          ],
          "choropleth": [
           {
            "colorbar": {
             "outlinewidth": 0,
             "ticks": ""
            },
            "type": "choropleth"
           }
          ],
          "contour": [
           {
            "colorbar": {
             "outlinewidth": 0,
             "ticks": ""
            },
            "colorscale": [
             [
              0,
              "#0d0887"
             ],
             [
              0.1111111111111111,
              "#46039f"
             ],
             [
              0.2222222222222222,
              "#7201a8"
             ],
             [
              0.3333333333333333,
              "#9c179e"
             ],
             [
              0.4444444444444444,
              "#bd3786"
             ],
             [
              0.5555555555555556,
              "#d8576b"
             ],
             [
              0.6666666666666666,
              "#ed7953"
             ],
             [
              0.7777777777777778,
              "#fb9f3a"
             ],
             [
              0.8888888888888888,
              "#fdca26"
             ],
             [
              1,
              "#f0f921"
             ]
            ],
            "type": "contour"
           }
          ],
          "contourcarpet": [
           {
            "colorbar": {
             "outlinewidth": 0,
             "ticks": ""
            },
            "type": "contourcarpet"
           }
          ],
          "heatmap": [
           {
            "colorbar": {
             "outlinewidth": 0,
             "ticks": ""
            },
            "colorscale": [
             [
              0,
              "#0d0887"
             ],
             [
              0.1111111111111111,
              "#46039f"
             ],
             [
              0.2222222222222222,
              "#7201a8"
             ],
             [
              0.3333333333333333,
              "#9c179e"
             ],
             [
              0.4444444444444444,
              "#bd3786"
             ],
             [
              0.5555555555555556,
              "#d8576b"
             ],
             [
              0.6666666666666666,
              "#ed7953"
             ],
             [
              0.7777777777777778,
              "#fb9f3a"
             ],
             [
              0.8888888888888888,
              "#fdca26"
             ],
             [
              1,
              "#f0f921"
             ]
            ],
            "type": "heatmap"
           }
          ],
          "heatmapgl": [
           {
            "colorbar": {
             "outlinewidth": 0,
             "ticks": ""
            },
            "colorscale": [
             [
              0,
              "#0d0887"
             ],
             [
              0.1111111111111111,
              "#46039f"
             ],
             [
              0.2222222222222222,
              "#7201a8"
             ],
             [
              0.3333333333333333,
              "#9c179e"
             ],
             [
              0.4444444444444444,
              "#bd3786"
             ],
             [
              0.5555555555555556,
              "#d8576b"
             ],
             [
              0.6666666666666666,
              "#ed7953"
             ],
             [
              0.7777777777777778,
              "#fb9f3a"
             ],
             [
              0.8888888888888888,
              "#fdca26"
             ],
             [
              1,
              "#f0f921"
             ]
            ],
            "type": "heatmapgl"
           }
          ],
          "histogram": [
           {
            "marker": {
             "pattern": {
              "fillmode": "overlay",
              "size": 10,
              "solidity": 0.2
             }
            },
            "type": "histogram"
           }
          ],
          "histogram2d": [
           {
            "colorbar": {
             "outlinewidth": 0,
             "ticks": ""
            },
            "colorscale": [
             [
              0,
              "#0d0887"
             ],
             [
              0.1111111111111111,
              "#46039f"
             ],
             [
              0.2222222222222222,
              "#7201a8"
             ],
             [
              0.3333333333333333,
              "#9c179e"
             ],
             [
              0.4444444444444444,
              "#bd3786"
             ],
             [
              0.5555555555555556,
              "#d8576b"
             ],
             [
              0.6666666666666666,
              "#ed7953"
             ],
             [
              0.7777777777777778,
              "#fb9f3a"
             ],
             [
              0.8888888888888888,
              "#fdca26"
             ],
             [
              1,
              "#f0f921"
             ]
            ],
            "type": "histogram2d"
           }
          ],
          "histogram2dcontour": [
           {
            "colorbar": {
             "outlinewidth": 0,
             "ticks": ""
            },
            "colorscale": [
             [
              0,
              "#0d0887"
             ],
             [
              0.1111111111111111,
              "#46039f"
             ],
             [
              0.2222222222222222,
              "#7201a8"
             ],
             [
              0.3333333333333333,
              "#9c179e"
             ],
             [
              0.4444444444444444,
              "#bd3786"
             ],
             [
              0.5555555555555556,
              "#d8576b"
             ],
             [
              0.6666666666666666,
              "#ed7953"
             ],
             [
              0.7777777777777778,
              "#fb9f3a"
             ],
             [
              0.8888888888888888,
              "#fdca26"
             ],
             [
              1,
              "#f0f921"
             ]
            ],
            "type": "histogram2dcontour"
           }
          ],
          "mesh3d": [
           {
            "colorbar": {
             "outlinewidth": 0,
             "ticks": ""
            },
            "type": "mesh3d"
           }
          ],
          "parcoords": [
           {
            "line": {
             "colorbar": {
              "outlinewidth": 0,
              "ticks": ""
             }
            },
            "type": "parcoords"
           }
          ],
          "pie": [
           {
            "automargin": true,
            "type": "pie"
           }
          ],
          "scatter": [
           {
            "fillpattern": {
             "fillmode": "overlay",
             "size": 10,
             "solidity": 0.2
            },
            "type": "scatter"
           }
          ],
          "scatter3d": [
           {
            "line": {
             "colorbar": {
              "outlinewidth": 0,
              "ticks": ""
             }
            },
            "marker": {
             "colorbar": {
              "outlinewidth": 0,
              "ticks": ""
             }
            },
            "type": "scatter3d"
           }
          ],
          "scattercarpet": [
           {
            "marker": {
             "colorbar": {
              "outlinewidth": 0,
              "ticks": ""
             }
            },
            "type": "scattercarpet"
           }
          ],
          "scattergeo": [
           {
            "marker": {
             "colorbar": {
              "outlinewidth": 0,
              "ticks": ""
             }
            },
            "type": "scattergeo"
           }
          ],
          "scattergl": [
           {
            "marker": {
             "colorbar": {
              "outlinewidth": 0,
              "ticks": ""
             }
            },
            "type": "scattergl"
           }
          ],
          "scattermapbox": [
           {
            "marker": {
             "colorbar": {
              "outlinewidth": 0,
              "ticks": ""
             }
            },
            "type": "scattermapbox"
           }
          ],
          "scatterpolar": [
           {
            "marker": {
             "colorbar": {
              "outlinewidth": 0,
              "ticks": ""
             }
            },
            "type": "scatterpolar"
           }
          ],
          "scatterpolargl": [
           {
            "marker": {
             "colorbar": {
              "outlinewidth": 0,
              "ticks": ""
             }
            },
            "type": "scatterpolargl"
           }
          ],
          "scatterternary": [
           {
            "marker": {
             "colorbar": {
              "outlinewidth": 0,
              "ticks": ""
             }
            },
            "type": "scatterternary"
           }
          ],
          "surface": [
           {
            "colorbar": {
             "outlinewidth": 0,
             "ticks": ""
            },
            "colorscale": [
             [
              0,
              "#0d0887"
             ],
             [
              0.1111111111111111,
              "#46039f"
             ],
             [
              0.2222222222222222,
              "#7201a8"
             ],
             [
              0.3333333333333333,
              "#9c179e"
             ],
             [
              0.4444444444444444,
              "#bd3786"
             ],
             [
              0.5555555555555556,
              "#d8576b"
             ],
             [
              0.6666666666666666,
              "#ed7953"
             ],
             [
              0.7777777777777778,
              "#fb9f3a"
             ],
             [
              0.8888888888888888,
              "#fdca26"
             ],
             [
              1,
              "#f0f921"
             ]
            ],
            "type": "surface"
           }
          ],
          "table": [
           {
            "cells": {
             "fill": {
              "color": "#EBF0F8"
             },
             "line": {
              "color": "white"
             }
            },
            "header": {
             "fill": {
              "color": "#C8D4E3"
             },
             "line": {
              "color": "white"
             }
            },
            "type": "table"
           }
          ]
         },
         "layout": {
          "annotationdefaults": {
           "arrowcolor": "#2a3f5f",
           "arrowhead": 0,
           "arrowwidth": 1
          },
          "autotypenumbers": "strict",
          "coloraxis": {
           "colorbar": {
            "outlinewidth": 0,
            "ticks": ""
           }
          },
          "colorscale": {
           "diverging": [
            [
             0,
             "#8e0152"
            ],
            [
             0.1,
             "#c51b7d"
            ],
            [
             0.2,
             "#de77ae"
            ],
            [
             0.3,
             "#f1b6da"
            ],
            [
             0.4,
             "#fde0ef"
            ],
            [
             0.5,
             "#f7f7f7"
            ],
            [
             0.6,
             "#e6f5d0"
            ],
            [
             0.7,
             "#b8e186"
            ],
            [
             0.8,
             "#7fbc41"
            ],
            [
             0.9,
             "#4d9221"
            ],
            [
             1,
             "#276419"
            ]
           ],
           "sequential": [
            [
             0,
             "#0d0887"
            ],
            [
             0.1111111111111111,
             "#46039f"
            ],
            [
             0.2222222222222222,
             "#7201a8"
            ],
            [
             0.3333333333333333,
             "#9c179e"
            ],
            [
             0.4444444444444444,
             "#bd3786"
            ],
            [
             0.5555555555555556,
             "#d8576b"
            ],
            [
             0.6666666666666666,
             "#ed7953"
            ],
            [
             0.7777777777777778,
             "#fb9f3a"
            ],
            [
             0.8888888888888888,
             "#fdca26"
            ],
            [
             1,
             "#f0f921"
            ]
           ],
           "sequentialminus": [
            [
             0,
             "#0d0887"
            ],
            [
             0.1111111111111111,
             "#46039f"
            ],
            [
             0.2222222222222222,
             "#7201a8"
            ],
            [
             0.3333333333333333,
             "#9c179e"
            ],
            [
             0.4444444444444444,
             "#bd3786"
            ],
            [
             0.5555555555555556,
             "#d8576b"
            ],
            [
             0.6666666666666666,
             "#ed7953"
            ],
            [
             0.7777777777777778,
             "#fb9f3a"
            ],
            [
             0.8888888888888888,
             "#fdca26"
            ],
            [
             1,
             "#f0f921"
            ]
           ]
          },
          "colorway": [
           "#636efa",
           "#EF553B",
           "#00cc96",
           "#ab63fa",
           "#FFA15A",
           "#19d3f3",
           "#FF6692",
           "#B6E880",
           "#FF97FF",
           "#FECB52"
          ],
          "font": {
           "color": "#2a3f5f"
          },
          "geo": {
           "bgcolor": "white",
           "lakecolor": "white",
           "landcolor": "white",
           "showlakes": true,
           "showland": true,
           "subunitcolor": "#C8D4E3"
          },
          "hoverlabel": {
           "align": "left"
          },
          "hovermode": "closest",
          "mapbox": {
           "style": "light"
          },
          "paper_bgcolor": "white",
          "plot_bgcolor": "white",
          "polar": {
           "angularaxis": {
            "gridcolor": "#EBF0F8",
            "linecolor": "#EBF0F8",
            "ticks": ""
           },
           "bgcolor": "white",
           "radialaxis": {
            "gridcolor": "#EBF0F8",
            "linecolor": "#EBF0F8",
            "ticks": ""
           }
          },
          "scene": {
           "xaxis": {
            "backgroundcolor": "white",
            "gridcolor": "#DFE8F3",
            "gridwidth": 2,
            "linecolor": "#EBF0F8",
            "showbackground": true,
            "ticks": "",
            "zerolinecolor": "#EBF0F8"
           },
           "yaxis": {
            "backgroundcolor": "white",
            "gridcolor": "#DFE8F3",
            "gridwidth": 2,
            "linecolor": "#EBF0F8",
            "showbackground": true,
            "ticks": "",
            "zerolinecolor": "#EBF0F8"
           },
           "zaxis": {
            "backgroundcolor": "white",
            "gridcolor": "#DFE8F3",
            "gridwidth": 2,
            "linecolor": "#EBF0F8",
            "showbackground": true,
            "ticks": "",
            "zerolinecolor": "#EBF0F8"
           }
          },
          "shapedefaults": {
           "line": {
            "color": "#2a3f5f"
           }
          },
          "ternary": {
           "aaxis": {
            "gridcolor": "#DFE8F3",
            "linecolor": "#A2B1C6",
            "ticks": ""
           },
           "baxis": {
            "gridcolor": "#DFE8F3",
            "linecolor": "#A2B1C6",
            "ticks": ""
           },
           "bgcolor": "white",
           "caxis": {
            "gridcolor": "#DFE8F3",
            "linecolor": "#A2B1C6",
            "ticks": ""
           }
          },
          "title": {
           "x": 0.05
          },
          "xaxis": {
           "automargin": true,
           "gridcolor": "#EBF0F8",
           "linecolor": "#EBF0F8",
           "ticks": "",
           "title": {
            "standoff": 15
           },
           "zerolinecolor": "#EBF0F8",
           "zerolinewidth": 2
          },
          "yaxis": {
           "automargin": true,
           "gridcolor": "#EBF0F8",
           "linecolor": "#EBF0F8",
           "ticks": "",
           "title": {
            "standoff": 15
           },
           "zerolinecolor": "#EBF0F8",
           "zerolinewidth": 2
          }
         }
        },
        "title": {
         "text": "Movie Rating vs. Book Ratings"
        },
        "width": 690,
        "xaxis": {
         "anchor": "y",
         "domain": [
          0,
          1
         ],
         "title": {
          "text": "Normalized Movie Rating"
         },
         "type": "linear"
        },
        "yaxis": {
         "anchor": "x",
         "domain": [
          0,
          1
         ],
         "title": {
          "text": "Normalized Book Rating"
         }
        }
       }
      }
     },
     "metadata": {},
     "output_type": "display_data"
    }
   ],
   "source": [
    "labels={ 'normalized_rating_x': 'Normalized Movie Rating', 'normalized_rating_y': 'Normalized Book Rating'}\n",
    "gu.px_scatter_plot(data,'normalized_rating_x','normalized_rating_y','movie_name', 'Movie Rating vs. Book Ratings', labels)"
   ]
  },
  {
   "cell_type": "markdown",
   "metadata": {},
   "source": [
    "One can see that most book and movie ratings are around 0.6 which is around 3 stars in the standard 5 star rating system. This seem very reasonable. Additionally, there seems to be a positive correlation between book and movie ratings, which was expected."
   ]
  },
  {
   "cell_type": "markdown",
   "metadata": {},
   "source": [
    "### Book Length Distribution"
   ]
  },
  {
   "cell_type": "code",
   "execution_count": 43,
   "metadata": {},
   "outputs": [
    {
     "data": {
      "image/png": "[encoded data removed]",
      "text/plain": [
       "<Figure size 800x500 with 1 Axes>"
      ]
     },
     "metadata": {},
     "output_type": "display_data"
    }
   ],
   "source": [
    "\n",
    "plt.figure(figsize=(8, 5))\n",
    "sns.histplot(unique_books['length'], bins=50, kde=True)\n",
    "plt.title('Distribution of Book Length')\n",
    "plt.xlabel('Book Length (pages)')\n",
    "plt.ylabel('Frequency')\n",
    "plt.show()"
   ]
  },
  {
   "cell_type": "markdown",
   "metadata": {},
   "source": [
    "This graph shows what one would expect, an average book is between 200 and 400 pages. This range is also present here which means that the data can be assumed correct on a first assumption."
   ]
  },
  {
   "cell_type": "markdown",
   "metadata": {},
   "source": [
    "### Comparison of Revenue with Book and Movie Ratings"
   ]
  },
  {
   "cell_type": "code",
   "execution_count": 44,
   "metadata": {},
   "outputs": [
    {
     "data": {
      "application/vnd.plotly.v1+json": {
       "config": {
        "plotlyServerURL": "https://plot.ly"
       },
       "data": [
        {
         "hovertemplate": "<b>%{hovertext}</b><br><br>Movie Revenue ($), logscale=%{x}<br>Normalized Book Rating=%{y}<extra></extra>",
         "hovertext": [
          "Mary Poppins",
          "Straw Dogs",
          "The Forbidden Kingdom",
          "Beastmaster 2: Through the Portal of Time",
          "Shaft",
          "The Last Song",
          "For Love of the Game",
          "Queen of the Damned",
          "Laura",
          "The Last Picture Show",
          "Dr. Strangelove or: How I Learned to Stop Worrying and Love the Bomb",
          "Zorba the Greek",
          "Lolita",
          "Bee Season",
          "The Other Boleyn Girl",
          "L.A. Confidential",
          "Giant",
          "The Birth of a Nation",
          "Original Sin",
          "Cirque du Freak: The Vampire's Assistant",
          "Tarzan",
          "Pharaoh",
          "Battlefield Earth",
          "No Country for Old Men",
          "The Rescuers",
          "Altered States",
          "The Stepford Wives",
          "Death Wish",
          "Munich",
          "A Patch of Blue",
          "The Girl with the Dragon Tattoo",
          "The Wizard of Oz",
          "Gulliver's Travels",
          "Stir of Echoes",
          "The Secret Life of Bees",
          "Willy Wonka & the Chocolate Factory",
          "The Hustler",
          "The Iron Giant",
          "Catch-22",
          "In Country",
          "War Horse",
          "The Sisterhood of the Traveling Pants",
          "The Sand Pebbles",
          "The Time Traveler's Wife",
          "Howards End",
          "Valmont",
          "Fanaa",
          "The First Wives Club",
          "Jaws: The Revenge",
          "Airport '77",
          "Where the Wild Things Are",
          "Striptease",
          "Jackie Brown",
          "Dreamcatcher",
          "Harry Potter and the Half-Blood Prince",
          "Vanity Fair",
          "Don't Say a Word",
          "Casino Royale",
          "The Desperate Hours",
          "Johnny Handsome",
          "The Night of the Iguana",
          "The Bourne Supremacy",
          "Clockers",
          "Anna and the King",
          "The Lord of the Rings: The Two Towers",
          "Dying Young",
          "Gigi",
          "Airport",
          "The Hunchback of Notre Dame",
          "The Poseidon Adventure",
          "The Missing",
          "The American",
          "Force 10 from Navarone",
          "Freaky Friday",
          "Pinocchio",
          "The Name of the Rose",
          "The Nanny Diaries",
          "Anna Karenina",
          "Abbott and Costello Meet Frankenstein",
          "Harry Potter and the Goblet of Fire",
          "Payback",
          "Moonraker",
          "Glory",
          "The Invisible Woman",
          "Gentlemen Prefer Blondes",
          "I Am Legend",
          "American Psycho",
          "Journey to the Center of the Earth",
          "Message in a Bottle",
          "The Hot Rock",
          "To Catch a Thief",
          "Body Snatchers",
          "The Long Goodbye",
          "Dune",
          "The Firm",
          "Dances with Wolves",
          "The Chronicles of Narnia: The Voyage of the Dawn Treader",
          "Barry Lyndon",
          "Pirates of the Caribbean: On Stranger Tides",
          "Emma",
          "Fever Pitch",
          "Freedomland",
          "The Big Sleep",
          "Manhunter",
          "Invisible Agent",
          "War of the Worlds",
          "Rebecca",
          "Beloved",
          "Pooh's Heffalump Movie",
          "The Silence of the Lambs",
          "The NeverEnding Story II: The Next Chapter",
          "Enemy Mine",
          "The Adventures of Huck Finn",
          "Possession",
          "Cocoon",
          "Clear and Present Danger",
          "The Bourne Identity",
          "The Andromeda Strain",
          "The Reader",
          "Conquest of the Planet of the Apes",
          "Planet of the Apes",
          "The Joy Luck Club",
          "Trading Places",
          "Moby Dick",
          "The Cowboys",
          "The Boy in the Striped Pyjamas",
          "Three Days of the Condor",
          "The Rescuers Down Under",
          "Children of Men",
          "Harry Potter and the Order of the Phoenix",
          "The Ghost Writer",
          "Lolita",
          "Lifeforce",
          "Stardust",
          "Mississippi Mermaid",
          "Winnie the Pooh",
          "The Running Man",
          "Mercury Rising",
          "The Apple Dumpling Gang Rides Again",
          "Contempt",
          "Carlito's Way",
          "Paper Moon",
          "The Girl Who Played with Fire",
          "Valley of the Dolls",
          "Return to Never Land",
          "Psycho",
          "Tess",
          "The Beastmaster",
          "Babylon A.D.",
          "Shalako",
          "Pet Sematary",
          "Blue Fin",
          "Zardoz",
          "Dragon Seed",
          "Vampires",
          "The Wind in the Willows",
          "The Invasion",
          "The Blue Lagoon",
          "Marathon Man",
          "Bullitt",
          "102 Dalmatians",
          "Billy Bathgate",
          "The Girl with the Dragon Tattoo",
          "Air America",
          "Congo",
          "About a Boy",
          "Les Misérables",
          "The Bonfire of the Vanities",
          "Peter Pan",
          "Double Indemnity",
          "Oliver Twist",
          "Song of the South",
          "Rambo III",
          "A Farewell to Arms",
          "Sideways",
          "Around the World in 80 Days",
          "The Black Stallion",
          "Derailed",
          "The Exorcist",
          "First Blood",
          "Birdy",
          "Across to Singapore",
          "Ben-Hur",
          "The Da Vinci Code",
          "Duel in the Sun",
          "Wolfen",
          "Point Blank",
          "The Sea Beast",
          "20,000 Leagues Under the Sea",
          "Straw Dogs",
          "Water for Elephants",
          "The Jackal",
          "Great Expectations",
          "The African Queen",
          "I Am Number Four",
          "The Jungle Book 2",
          "The Bedroom Window",
          "The Agony and the Ecstasy",
          "In the Heat of the Night",
          "Black Rain",
          "Spartacus",
          "Schindler's List",
          "The Age of Innocence",
          "Die Hard",
          "The Adventures of Huckleberry Finn",
          "Tarzan and the Lost City",
          "The Pope of Greenwich Village",
          "The Ninth Gate",
          "The Time Machine",
          "Dark Passage",
          "Stuart Little",
          "Marnie",
          "Runaway Jury",
          "Black Knight",
          "The Curse of Frankenstein",
          "Bicentennial Man",
          "The Constant Gardener",
          "20,000 Leagues Under the Sea",
          "The Spy Who Loved Me",
          "Timeline",
          "The Postman",
          "Murphy's Romance",
          "Percy Jackson & the Olympians: The Lightning Thief",
          "The Drowning Pool",
          "Anthony Adverse",
          "Rise of the Planet of the Apes",
          "Return to the Blue Lagoon",
          "Limitless",
          "Exorcist: The Beginning",
          "The Exorcist III",
          "Blood Work",
          "Gettysburg",
          "The Guns of Navarone",
          "After Hours",
          "The Lincoln Lawyer",
          "Village of the Damned",
          "Escape from the Planet of the Apes",
          "The Outlaw Josey Wales",
          "The Talented Mr. Ripley",
          "Sorcerer",
          "The Shipping News",
          "Harry Potter and the Deathly Hallows – Part 2",
          "Chocolat",
          "Oliver!",
          "Flight of the Phoenix",
          "Live and Let Die",
          "Swiss Family Robinson",
          "The Color of Money",
          "Naked Lunch",
          "The Trouble with Harry",
          "Ice Station Zebra",
          "Psycho",
          "Treasure Planet",
          "The Molly Maguires",
          "The Phantom of the Opera",
          "The Witches of Eastwick",
          "Ride with the Devil",
          "Farewell to the King",
          "The Quiet American",
          "Mary Reilly",
          "Cry Wolf",
          "Fahrenheit 451",
          "Fight Club",
          "Love Story",
          "The Man in the Iron Mask",
          "Peter Pan",
          "From Here to Eternity",
          "The Deep",
          "Identity",
          "The Bourne Legacy",
          "Hannibal",
          "Random Hearts",
          "Twilight",
          "The Woman in Black",
          "The Cider House Rules",
          "The Sword in the Stone",
          "The NeverEnding Story",
          "Sex Drive",
          "Jaws 2",
          "Mother of Mine",
          "Jumanji",
          "The Thief of Bagdad",
          "The Hunt for Red October",
          "Fair Game",
          "The Nutty Professor",
          "Rambo: First Blood Part II",
          "Oliver & Company",
          "Cimarron",
          "Cross of Iron",
          "Frankenstein",
          "The Color Purple",
          "Pinocchio and the Emperor of the Night",
          "Young Frankenstein",
          "The King and I",
          "The Wiz",
          "The Bridge on the River Kwai",
          "Misery",
          "The Godfather",
          "The Road",
          "Ivanhoe",
          "The Getaway",
          "The Swarm",
          "Hook",
          "Gone with the Wind",
          "The Scarlet Letter",
          "Race to Witch Mountain",
          "Layer Cake",
          "The Client",
          "Dominion: Prequel to the Exorcist",
          "Battle for the Planet of the Apes",
          "Fear and Loathing in Las Vegas",
          "The 13th Warrior",
          "The Night of the Generals",
          "Frankenstein Unbound",
          "Fletch",
          "Matilda",
          "Dad",
          "A Good Year",
          "The Princess Diaries 2: Royal Engagement",
          "The Big Bounce",
          "The Caine Mutiny",
          "Bad Girl",
          "Casino Royale",
          "Who Framed Roger Rabbit",
          "Muppet Treasure Island",
          "The Bourne Ultimatum",
          "Election",
          "The House of the Spirits",
          "Revolutionary Road",
          "Big Trouble",
          "3:10 to Yuma",
          "Mildred Pierce",
          "Harry Potter and the Chamber of Secrets",
          "Harry Potter and the Prisoner of Azkaban",
          "Get Shorty",
          "Nutty Professor II: The Klumps",
          "Atonement",
          "Thunderball",
          "A Passage to India",
          "Logan's Run",
          "Mr. Hobbs Takes a Vacation",
          "The Natural",
          "The War of the Roses",
          "The Beach",
          "The Golden Bowl",
          "The Dirty Dozen",
          "Desperate Hours",
          "Rob Roy",
          "Alice Adams",
          "Firefox",
          "To Kill a Mockingbird",
          "Psycho II",
          "The Island",
          "Dangerous Liaisons",
          "A Place in the Sun",
          "James and the Giant Peach",
          "Return of the Living Dead 3",
          "Suspicion",
          "The Rainmaker",
          "The Killer Inside Me",
          "Solaris",
          "Flicka",
          "What Dreams May Come",
          "City of Ember",
          "The Black Hole",
          "Kiss of the Spider Woman",
          "The Shaggy Dog",
          "The Power of One",
          "Lost Horizon",
          "The Flim-Flam Man",
          "You Only Live Twice",
          "Being Julia",
          "Pride & Prejudice",
          "Rosemary's Baby",
          "One Flew Over the Cuckoo's Nest",
          "Cocoon: The Return",
          "The Robe",
          "The Outsiders",
          "The Human Stain",
          "The Lovely Bones",
          "Diamonds Are Forever",
          "The Spiderwick Chronicles",
          "Blade Runner",
          "An Awfully Big Adventure",
          "The World According to Garp",
          "Frenzy",
          "The Detective",
          "The Caveman's Valentine",
          "Never Say Never Again",
          "Bad Moon",
          "The Bridges of Madison County",
          "The Sisterhood of the Traveling Pants 2",
          "Something Wicked This Way Comes",
          "Van Helsing",
          "Amityville II: The Possession",
          "Beaches",
          "Father of the Bride",
          "Kandukondain Kandukondain",
          "Elmer Gantry",
          "The Watcher in the Woods",
          "Elegy",
          "A History of Violence",
          "Trainspotting",
          "Jurassic Park III",
          "The Shaggy Dog",
          "Contact",
          "Jude",
          "Murder on the Orient Express",
          "The Secret of NIMH",
          "Stuart Little 2",
          "Hud",
          "Exodus",
          "The Razor's Edge",
          "Cobra",
          "Nanny McPhee",
          "The Black Dahlia",
          "Starship Troopers",
          "The Hunchback of Notre Dame",
          "I Know What You Did Last Summer",
          "A Time to Kill",
          "All Quiet on the Western Front",
          "Little Caesar",
          "Return to Oz",
          "Angel Heart",
          "The Dreamers",
          "Friendly Persuasion",
          "The Grapes of Wrath",
          "The Notebook",
          "Exorcist II: The Heretic",
          "The Painted Veil",
          "Invasion of the Body Snatchers",
          "Quest for Camelot",
          "The Best Years of Our Lives",
          "Silver Bullet",
          "The Towering Inferno",
          "The Deep End of the Ocean",
          "Topaz",
          "Bringing Out the Dead",
          "The Postman Always Rings Twice",
          "The Man with the Golden Gun",
          "Divine Secrets of the Ya-Ya Sisterhood",
          "Village of the Damned",
          "Along Came a Spider",
          "The Fury",
          "Cold Mountain",
          "Nanny McPhee and the Big Bang",
          "Funny Farm",
          "All the King's Men",
          "Gods and Monsters",
          "Harper",
          "Strangers on a Train",
          "The Adventures of Mark Twain",
          "Fletch Lives",
          "Dr. No",
          "From Russia with Love",
          "O Brother, Where Art Thou?",
          "Sahara",
          "Exit Wounds",
          "The Lost World: Jurassic Park",
          "The Manchurian Candidate",
          "Finding Neverland",
          "Beau Geste",
          "The Devil Wears Prada",
          "Where the Boys Are",
          "Beowulf",
          "Hombre",
          "The Devil's Advocate",
          "Pinocchio",
          "The Clan of the Cave Bear",
          "The Door in the Floor",
          "The Egyptian",
          "The Lady from Shanghai",
          "Bridget Jones: The Edge of Reason",
          "Cruel Intentions",
          "The Golden Compass",
          "The Women of Brewster Place",
          "The Prince of Tides",
          "Let the Right One In",
          "December Boys",
          "Christine",
          "Journey 2: The Mysterious Island",
          "The Chronicles of Narnia: Prince Caspian",
          "Monte Carlo",
          "Freejack",
          "Jurassic Park",
          "The Manchurian Candidate",
          "Death Sentence",
          "The Polar Express",
          "The Haunting",
          "On Her Majesty's Secret Service",
          "Red Dragon",
          "The Count of Monte Cristo",
          "Diabolique",
          "The King and I",
          "The Jungle Book",
          "Sphere",
          "The Good German",
          "Journey to the Center of the Earth",
          "Mystic River",
          "John Carter",
          "The Shining",
          "Killer Elite",
          "Charlotte's Web",
          "The Fox and the Hound",
          "True Grit",
          "Dave",
          "The Amityville Horror",
          "Cool Hand Luke",
          "Disclosure",
          "The Help",
          "Anna Karenina",
          "Forrest Gump",
          "Presumed Innocent",
          "Watership Down",
          "The Last Detail",
          "Bridget Jones's Diary",
          "The Four Feathers",
          "The Hobbit: An Unexpected Journey",
          "The Hours",
          "Family Plot",
          "Bel Ami",
          "The Pleasure Seekers",
          "High Fidelity",
          "The End of the Affair",
          "A Clockwork Orange",
          "The League of Extraordinary Gentlemen",
          "The Great Gatsby",
          "The Fan",
          "No Way Out",
          "How Green Was My Valley",
          "The Treasure of the Sierra Madre",
          "Crouching Tiger, Hidden Dragon",
          "When Worlds Collide",
          "Anatomy of a Murder",
          "Willard",
          "Bright Lights, Big City",
          "Fantastic Mr. Fox",
          "Empire of the Sun",
          "A Simple Plan",
          "Cape Fear",
          "Cape Fear",
          "Young Adam",
          "Like Water for Chocolate",
          "The Great Gatsby",
          "Fried Green Tomatoes",
          "Alatriste",
          "Poseidon",
          "The Devils",
          "The Three Musketeers",
          "Clueless",
          "The Host",
          "Ordinary People",
          "American Splendor",
          "The Last of the Mohicans",
          "The Postman Always Rings Twice",
          "Vertigo",
          "Dear John",
          "The Deep End",
          "The Unbearable Lightness of Being",
          "Big Fish",
          "A Room with a View",
          "For Whom the Bell Tolls",
          "Flight of the Intruder",
          "Invasion of the Body Snatchers",
          "The Sum of All Fears",
          "Taps",
          "One Hundred and One Dalmatians",
          "The Musketeer",
          "Open Range",
          "Gods and Generals",
          "Harry Potter and the Philosopher's Stone",
          "City of God",
          "Sense and Sensibility",
          "Hawaii",
          "The Sea Hawk",
          "Woman Thou Art Loosed",
          "Black Sunday",
          "The Boys from Brazil",
          "Excalibur",
          "The Vikings",
          "The Hand",
          "Return of the Living Dead Part II",
          "Death on the Nile",
          "Planet of the Apes",
          "Out of Sight",
          "Terms of Endearment",
          "Charlie and the Chocolate Factory",
          "Maurice",
          "Shutter Island",
          "The Parent Trap",
          "The Three Musketeers",
          "Hellraiser",
          "The Fan",
          "King Solomon's Mines",
          "The Howling",
          "At Play in the Fields of the Lord",
          "The Black Cauldron",
          "The Chronicles of Narnia: The Lion, the Witch and the Wardrobe",
          "The Lucky One",
          "Evil Under the Sun",
          "Goldfinger",
          "Confessions of a Shopaholic",
          "Hart's War",
          "Battle Royale",
          "The Painted Veil",
          "The Green Mile",
          "Kiss the Girls",
          "The Pelican Brief",
          "Let Me In",
          "Be Cool",
          "Where Eagles Dare",
          "Desert Hearts",
          "Buck Rogers in the 25th Century",
          "Firestarter",
          "Eragon",
          "White Fang",
          "Psycho III",
          "Patriot Games",
          "Sleeping with the Enemy",
          "South Pacific",
          "Shaft",
          "The Island of Dr. Moreau",
          "There Will Be Blood",
          "Abandon",
          "The Maltese Falcon",
          "Jaws",
          "The Great Mouse Detective",
          "Jaws 3-D",
          "The Remains of the Day",
          "Brideshead Revisited",
          "Rambo",
          "A Walk to Remember",
          "Scarface",
          "The Hunger Games",
          "The Dead Zone",
          "The Rules of Attraction",
          "To Sir, with Love",
          "The English Patient",
          "A Scanner Darkly",
          "About Schmidt",
          "The Assassination of Jesse James by the Coward Robert Ford",
          "A.I. Artificial Intelligence",
          "Bedknobs and Broomsticks",
          "The Lord of the Rings: The Fellowship of the Ring",
          "Bridge to Terabithia",
          "101 Dalmatians",
          "The Chamber",
          "Field of Dreams",
          "Piglet's Big Movie",
          "Man on Fire",
          "The Princess Bride",
          "Beneath the Planet of the Apes",
          "Shaft in Africa",
          "The Tigger Movie",
          "The Lord of the Rings: The Return of the King",
          "Absolute Power",
          "The Time Machine",
          "The Warriors",
          "Rising Sun"
         ],
         "legendgroup": "",
         "marker": {
          "color": "#636efa",
          "symbol": "circle"
         },
         "mode": "markers",
         "name": "",
         "orientation": "v",
         "showlegend": false,
         "type": "scatter",
         "x": [
          103082380,
          3251794,
          127906624,
          869325,
          12121618,
          89137047,
          46112640,
          45479110,
          2000000,
          29133000,
          9523464,
          9000000,
          9250000,
          6856989,
          78269970,
          126216940,
          32855818,
          11000000,
          35402320,
          28169671,
          448191819,
          10000000,
          29000000,
          171627166,
          71215869,
          19853892,
          102000000,
          22000000,
          130982129,
          6792000,
          109421911,
          33754967,
          237382724,
          21133087,
          38105395,
          4000000,
          7600000,
          23159305,
          24911670,
          3531971,
          177584879,
          39053061,
          20000000,
          101344412,
          26126837,
          1132112,
          22175908,
          116400000,
          51881013,
          30000000,
          100140916,
          113309743,
          39673162,
          75700000,
          933959197,
          16123851,
          100020092,
          41744718,
          2500000,
          7237794,
          12000000,
          288500217,
          13071518,
          113996937,
          926287400,
          82264675,
          13200000,
          100489151,
          325338851,
          84563118,
          38364277,
          67876281,
          7230000,
          160846332,
          84300000,
          77200000,
          47817020,
          1439000,
          4812444,
          895921036,
          161626121,
          210308099,
          26828365,
          659600,
          5300000,
          585410052,
          34266564,
          10000000,
          118880016,
          3500000,
          8750000,
          428868,
          959000,
          30925690,
          270248367,
          424208848,
          415686217,
          198992,
          1045713802,
          22231658,
          50500000,
          14655628,
          4900000,
          8620929,
          1040000,
          603873119,
          7592465,
          22900000,
          52900000,
          272742922,
          16283667,
          12303411,
          24103594,
          10113733,
          85313124,
          215887717,
          214034224,
          12376563,
          108902486,
          9700000,
          32589624,
          32861136,
          90404800,
          10400000,
          7500000,
          20416563,
          41509797,
          47431461,
          70595464,
          938212738,
          60331447,
          1071255,
          11603545,
          137515140,
          7356000,
          14460000,
          38122105,
          93107289,
          20931111,
          528428,
          63848322,
          30900000,
          67126795,
          50000000,
          109862682,
          37141130,
          20101247,
          14056528,
          72109200,
          2620000,
          57469467,
          703,
          1800000,
          4627000,
          20308772,
          2300000,
          40170558,
          58853106,
          21709020,
          42300873,
          183611771,
          15565363,
          232617430,
          57700000,
          152022101,
          129000000,
          441809770,
          15691192,
          87404651,
          2500000,
          42580321,
          65000000,
          189015611,
          20000000,
          109502303,
          72178895,
          37799643,
          57479076,
          441405644,
          125212904,
          1400000,
          596000,
          164000000,
          767820459,
          20400000,
          10626725,
          3200000,
          938000,
          8000000,
          10324441,
          117094902,
          159330280,
          55494066,
          10750000,
          149878437,
          135680000,
          12640385,
          4000000,
          27379978,
          134212055,
          60000000,
          321365567,
          32255440,
          140767956,
          2750000,
          2172941,
          6836201,
          58401898,
          5902,
          3430000,
          300135367,
          7000000,
          80154140,
          33422806,
          8000000,
          87423861,
          82468097,
          28200000,
          185438673,
          43935763,
          17626234,
          30867525,
          226497209,
          2600000,
          2750000,
          482860185,
          2807854,
          161849455,
          78000586,
          39024251,
          31794718,
          12700000,
          28900000,
          10609321,
          85412898,
          2175000,
          12348905,
          31800000,
          128798265,
          9000000,
          24690441,
          1341511219,
          152500343,
          37402877,
          21009180,
          126377836,
          40356000,
          52293982,
          2641357,
          7000000,
          4600000,
          32000000,
          109578115,
          2200000,
          154648887,
          63766510,
          635096,
          2420917,
          27674124,
          12379402,
          2690000,
          2000000,
          100853753,
          136400000,
          182968902,
          121975011,
          30500000,
          100000000,
          90259536,
          276572938,
          351692268,
          74608570,
          393616788,
          127730736,
          88545092,
          22182353,
          20158808,
          18755936,
          187884007,
          2851888,
          262821940,
          1490419,
          200512643,
          11534477,
          128769345,
          300400432,
          74151346,
          1383000,
          201,
          12000000,
          146292000,
          3261638,
          86273333,
          21300000,
          21049053,
          44908000,
          61276872,
          245066411,
          27635305,
          10878000,
          36734619,
          7700000,
          300855000,
          402352579,
          10382407,
          106303988,
          11850214,
          117615211,
          251495,
          8844595,
          10680275,
          61698899,
          2400000,
          334748,
          59612888,
          33459416,
          19738015,
          42064105,
          134734481,
          6808550,
          21750000,
          1100000,
          599045960,
          329803958,
          34327391,
          442824138,
          14902041,
          6265311,
          75981180,
          8493890,
          70016220,
          5638000,
          876688482,
          789804554,
          115101622,
          123307945,
          131016624,
          141195658,
          27201487,
          25000000,
          4000000,
          47951979,
          160188546,
          144056873,
          5753678,
          45300000,
          2742912,
          31596911,
          770000,
          70687344,
          13129846,
          34725000,
          15700000,
          34670720,
          7000000,
          28946127,
          54207,
          4500000,
          45916769,
          3977192,
          30002758,
          21000000,
          71485043,
          17869048,
          35841901,
          17005229,
          17658000,
          2827107,
          3800000,
          1200000,
          111584787,
          14339171,
          121616555,
          33395426,
          108981275,
          25024919,
          36000000,
          33697647,
          24900000,
          93621340,
          116019547,
          164170327,
          41722424,
          851545,
          29712172,
          12600000,
          6500000,
          794481,
          160000000,
          1100000,
          182016617,
          44352417,
          8400000,
          300257475,
          12534817,
          57041866,
          89325780,
          500000,
          10400000,
          5000000,
          14894347,
          60740827,
          16491080,
          368780809,
          87134280,
          171120329,
          409144,
          35700000,
          14665733,
          169956806,
          10000000,
          21750000,
          6551987,
          49042224,
          123276807,
          49111202,
          121214377,
          6877900,
          125586134,
          152266007,
          3270000,
          752000,
          11137801,
          17186348,
          15121165,
          8000000,
          1591000,
          115603229,
          30749142,
          1120000,
          24946533,
          38172500,
          23650000,
          12400000,
          116000000,
          28121100,
          6000000,
          16800000,
          5086000,
          97572000,
          73839240,
          9418365,
          105178561,
          24000000,
          173013509,
          93251121,
          25537221,
          9450897,
          6451628,
          12000000,
          7000000,
          2350000,
          35150960,
          59567035,
          78900000,
          71870729,
          119269486,
          79958599,
          618638999,
          7700000,
          116766556,
          1500000,
          326706115,
          3500000,
          195735876,
          12000000,
          152944660,
          41323171,
          1953732,
          6715067,
          15000000,
          1564609,
          262500000,
          76347426,
          372234864,
          100000,
          74787599,
          10785801,
          46474,
          21200000,
          355692760,
          419665568,
          39782683,
          17129026,
          920100000,
          96105964,
          16974459,
          310634054,
          177311151,
          64574493,
          209196298,
          75395048,
          52400000,
          12000000,
          205843612,
          37020277,
          5914908,
          101702060,
          156822020,
          284139100,
          44781695,
          57777106,
          144000000,
          29800000,
          252276927,
          92000000,
          108047131,
          16217773,
          214015089,
          216639112,
          858553,
          677387716,
          221303188,
          3713768,
          10000000,
          281929795,
          29882645,
          1021103568,
          41597830,
          7900000,
          8303261,
          2000000,
          47126295,
          10827816,
          26589000,
          179265204,
          351040419,
          3100000,
          35509515,
          6000000,
          4307000,
          213525736,
          1600000,
          8000000,
          8564586,
          16118077,
          46471023,
          66700000,
          16316273,
          182300000,
          103000000,
          2500000,
          21744201,
          26533200,
          119418501,
          23321954,
          181674817,
          11000000,
          132274484,
          56631572,
          63327201,
          54766923,
          6003587,
          75505856,
          12376625,
          7797728,
          114977104,
          10031529,
          10006806,
          123218424,
          20966644,
          17800000,
          14587732,
          3000000,
          193921372,
          35856053,
          85000000,
          27053815,
          68296293,
          12923936,
          976475550,
          30641770,
          134582776,
          34562222,
          2000000,
          6804016,
          15769322,
          19000000,
          34967437,
          20311,
          566736,
          9205924,
          14560084,
          362211740,
          77745966,
          108423749,
          474968763,
          2438304,
          294800000,
          92108518,
          53898845,
          14575193,
          18626419,
          15057465,
          17985893,
          1345903,
          21288692,
          745013115,
          99357138,
          6110804,
          124881062,
          108332743,
          32287044,
          30600000,
          26910847,
          286801374,
          60527873,
          195268056,
          24145613,
          95226116,
          21000000,
          2400000,
          21700000,
          17080167,
          249288105,
          34793160,
          14481606,
          178051587,
          174999005,
          36800000,
          107626125,
          49627779,
          77208711,
          10719357,
          1772000,
          470653000,
          38625550,
          87987055,
          23237911,
          13204291,
          113244290,
          47494916,
          66023329,
          694394724,
          20766616,
          11832822,
          42432803,
          231976425,
          7659918,
          105834556,
          14711793,
          235926552,
          17900000,
          871368364,
          137587063,
          320689294,
          22540359,
          84431625,
          62870546,
          130293714,
          30861665,
          18999718,
          1458000,
          45554533,
          1118888979,
          50068310,
          123729176,
          22490039,
          107198790
         ],
         "xaxis": "x",
         "y": [
          0.68,
          0.476666666666667,
          0.67,
          0.666666666666667,
          0.45,
          0.716666666666667,
          0.613333333333333,
          0.626666666666667,
          0.666666666666667,
          0.656666666666667,
          0.563333333333333,
          0.693333333333333,
          0.63,
          0.52,
          0.683333333333333,
          0.733333333333333,
          0.666666666666667,
          0.44,
          0.6,
          0.723333333333333,
          0.63,
          0.583333333333333,
          0.503333333333333,
          0.71,
          0.696666666666667,
          0.606666666666667,
          0.58,
          0.526666666666667,
          0.703333333333333,
          0.64,
          0.71,
          0.663333333333333,
          0.52,
          0.63,
          0.676666666666667,
          0.706666666666667,
          0.706666666666667,
          0.643333333333333,
          0.66,
          0.523333333333333,
          0.713333333333333,
          0.59,
          0.743333333333334,
          0.653333333333333,
          0.653333333333333,
          0.69,
          0.723333333333333,
          0.63,
          0.656666666666667,
          0.646666666666667,
          0.74,
          0.613333333333333,
          0.626666666666667,
          0.536666666666667,
          0.853333333333333,
          0.593333333333333,
          0.563333333333333,
          0.58,
          0.566666666666667,
          0.613333333333333,
          0.62,
          0.703333333333333,
          0.69,
          0.59,
          0.81,
          0.496666666666667,
          0.576666666666667,
          0.646666666666667,
          0.663333333333333,
          0.643333333333333,
          0.65,
          0.543333333333333,
          0.606666666666667,
          0.57,
          0.62,
          0.706666666666667,
          0.47,
          0.68,
          0.593333333333333,
          0.85,
          0.683333333333333,
          0.573333333333333,
          0.713333333333333,
          0.543333333333333,
          0.543333333333333,
          0.686666666666667,
          0.606666666666667,
          0.616666666666667,
          0.65,
          0.646666666666667,
          0.663333333333333,
          0.63,
          0.74,
          0.736666666666667,
          0.666666666666667,
          0.733333333333333,
          0.696666666666667,
          0.543333333333333,
          0.616666666666667,
          0.663333333333333,
          0.576666666666667,
          0.523333333333333,
          0.67,
          0.676666666666667,
          0.543333333333333,
          0.603333333333333,
          0.74,
          0.6,
          0.78,
          0.723333333333333,
          0.726666666666667,
          0.716666666666667,
          0.603333333333333,
          0.626666666666667,
          0.65,
          0.7,
          0.666666666666667,
          0.63,
          0.58,
          0.643333333333333,
          0.643333333333333,
          0.636666666666667,
          0.616666666666667,
          0.496666666666667,
          0.736666666666667,
          0.706666666666667,
          0.696666666666667,
          0.656666666666667,
          0.56,
          0.826666666666667,
          0.566666666666667,
          0.63,
          0.45,
          0.693333333333333,
          0.6,
          0.78,
          0.62,
          0.563333333333333,
          0.44,
          0.633333333333333,
          0.71,
          0.706666666666667,
          0.743333333333334,
          0.576666666666667,
          0.696666666666667,
          0.703333333333333,
          0.596666666666667,
          0.666666666666667,
          0.446666666666667,
          0.643333333333333,
          0.65,
          0.54,
          0.663333333333333,
          0.686666666666667,
          0.586666666666667,
          0.66,
          0.63,
          0.53,
          0.706666666666667,
          0.64,
          0.706666666666667,
          0.596666666666667,
          0.71,
          0.64,
          0.526666666666667,
          0.6,
          0.72,
          0.613333333333333,
          0.696666666666667,
          0.703333333333333,
          0.62,
          0.713333333333333,
          0.66,
          0.6,
          0.563333333333333,
          0.64,
          0.73,
          0.59,
          0.72,
          0.66,
          0.68,
          0.5,
          0.676666666666667,
          0.606666666666667,
          0.313333333333333,
          0.616666666666667,
          0.683333333333333,
          0.496666666666667,
          0.7,
          0.476666666666667,
          0.693333333333333,
          0.753333333333333,
          0.586666666666667,
          0.683333333333333,
          0.646666666666667,
          0.61,
          0.453333333333333,
          0.69,
          0.593333333333333,
          0.66,
          0.603333333333333,
          0.78,
          0.646666666666667,
          0.52,
          0.603333333333333,
          0.63,
          0.623333333333333,
          0.603333333333333,
          0.626666666666667,
          0.656666666666667,
          0.63,
          0.63,
          0.656666666666667,
          0.59,
          0.593333333333333,
          0.693333333333333,
          0.596666666666667,
          0.626666666666667,
          0.466666666666667,
          0.613333333333333,
          0.626666666666667,
          0.423333333333333,
          0.746666666666667,
          0.666666666666667,
          0.68,
          0.643333333333333,
          0.57,
          0.606666666666667,
          0.72,
          0.72,
          0.706666666666667,
          0.69,
          0.71,
          0.66,
          0.716666666666667,
          0.643333333333333,
          0.643333333333333,
          0.686666666666667,
          0.646666666666667,
          0.53,
          0.616666666666667,
          0.876666666666667,
          0.653333333333333,
          0.62,
          0.603333333333333,
          0.543333333333333,
          0.64,
          0.61,
          0.483333333333333,
          0.573333333333333,
          0.66,
          0.703333333333333,
          0.61,
          0.5,
          0.656666666666667,
          0.423333333333333,
          0.733333333333333,
          0.616666666666667,
          0.656666666666667,
          0.6,
          0.62,
          0.66,
          0.733333333333333,
          0.536666666666667,
          0.663333333333333,
          0.696666666666667,
          0.696666666666667,
          0.58,
          0.75,
          0.623333333333333,
          0.583333333333333,
          0.406666666666667,
          0.526666666666667,
          0.566666666666667,
          0.706666666666667,
          0.636666666666667,
          0.726666666666667,
          0.453333333333333,
          0.656666666666667,
          0.356666666666667,
          0.68,
          0.596666666666667,
          0.683333333333333,
          0.576666666666667,
          0.6,
          0.66,
          0.62,
          0.583333333333333,
          0.726666666666667,
          0.593333333333333,
          0.73,
          0.62,
          0.593333333333333,
          0.59,
          0.663333333333333,
          0.676666666666667,
          0.713333333333333,
          0.79,
          0.653333333333333,
          0.583333333333333,
          0.646666666666667,
          0.363333333333333,
          0.696666666666667,
          0.763333333333333,
          0.463333333333333,
          0.626666666666667,
          0.66,
          0.663333333333333,
          0.72,
          0.643333333333333,
          0.693333333333333,
          0.553333333333333,
          0.616666666666667,
          0.593333333333333,
          0.64,
          0.766666666666667,
          0.716666666666667,
          0.546666666666667,
          0.593333333333333,
          0.473333333333333,
          0.746666666666667,
          0.37,
          0.58,
          0.566666666666667,
          0.61,
          0.683333333333333,
          0.62,
          0.74,
          0.633333333333333,
          0.606666666666667,
          0.65,
          0.64,
          0.8,
          0.85,
          0.653333333333333,
          0.6,
          0.63,
          0.6,
          0.56,
          0.556666666666667,
          0.563333333333333,
          0.543333333333333,
          0.476666666666667,
          0.643333333333333,
          0.593333333333333,
          0.66,
          0.566666666666667,
          0.566666666666667,
          0.543333333333333,
          0.64,
          0.756666666666666,
          0.703333333333333,
          0.44,
          0.69,
          0.646666666666667,
          0.666666666666667,
          0.49,
          0.506666666666667,
          0.643333333333333,
          0.623333333333333,
          0.663333333333333,
          0.716666666666667,
          0.65,
          0.62,
          0.626666666666667,
          0.653333333333333,
          0.31,
          0.783333333333333,
          0.64,
          0.596666666666667,
          0.583333333333333,
          0.713333333333333,
          0.75,
          0.66,
          0.73,
          0.65,
          0.736666666666667,
          0.693333333333333,
          0.623333333333333,
          0.596666666666667,
          0.533333333333333,
          0.63,
          0.693333333333333,
          0.54,
          0.693333333333333,
          0.463333333333333,
          0.4,
          0.563333333333333,
          0.6,
          0.75,
          0.53,
          0.59,
          0.65,
          0.593333333333333,
          0.393333333333333,
          0.716666666666667,
          0.56,
          0.686666666666667,
          0.666666666666667,
          0.48,
          0.54,
          0.486666666666667,
          0.696666666666667,
          0.666666666666667,
          0.31,
          0.71,
          0.603333333333333,
          0.72,
          0.713333333333333,
          0.63,
          0.643333333333333,
          0.78,
          0.726666666666667,
          0.576666666666667,
          0.616666666666667,
          0.583333333333333,
          0.666666666666667,
          0.663333333333333,
          0.5,
          0.683333333333333,
          0.65,
          0.566666666666667,
          0.663333333333333,
          0.64,
          0.566666666666667,
          0.636666666666667,
          0.65,
          0.693333333333333,
          0.72,
          0.64,
          0.63,
          0.516666666666667,
          0.716666666666667,
          0.546666666666667,
          0.573333333333333,
          0.62,
          0.596666666666667,
          0.566666666666667,
          0.6,
          0.52,
          0.603333333333333,
          0.643333333333333,
          0.7,
          0.453333333333333,
          0.616666666666667,
          0.616666666666667,
          0.53,
          0.696666666666667,
          0.703333333333333,
          0.606666666666667,
          0.596666666666667,
          0.633333333333333,
          0.64,
          0.59,
          0.63,
          0.583333333333333,
          0.653333333333333,
          0.523333333333333,
          0.666666666666667,
          0.696666666666667,
          0.696666666666667,
          0.666666666666667,
          0.576666666666667,
          0.386666666666667,
          0.476666666666667,
          0.653333333333333,
          0.666666666666667,
          0.62,
          0.676666666666667,
          0.583333333333333,
          0.7,
          0.543333333333333,
          0.52,
          0.69,
          0.653333333333333,
          0.716666666666667,
          0.743333333333334,
          0.69,
          0.336666666666667,
          0.583333333333333,
          0.7,
          0.656666666666667,
          0.36,
          0.606666666666667,
          0.666666666666667,
          0.696666666666667,
          0.52,
          0.766666666666667,
          0.623333333333333,
          0.653333333333333,
          0.676666666666667,
          0.746666666666667,
          0.57,
          0.59,
          0.646666666666667,
          0.596666666666667,
          0.58,
          0.586666666666667,
          0.726666666666667,
          0.6,
          0.733333333333333,
          0.633333333333333,
          0.72,
          0.75,
          0.713333333333333,
          0.616666666666667,
          0.613333333333333,
          0.71,
          0.59,
          0.82,
          0.68,
          0.686666666666667,
          0.7,
          0.69,
          0.616666666666667,
          0.586666666666667,
          0.633333333333333,
          0.753333333333333,
          0.643333333333333,
          0.606666666666667,
          0.61,
          0.5,
          0.646666666666667,
          0.65,
          0.663333333333333,
          0.6,
          0.636666666666667,
          null,
          0.606666666666667,
          0.72,
          0.696666666666667,
          0.53,
          0.636666666666667,
          0.666666666666667,
          0.626666666666667,
          0.586666666666667,
          0.68,
          0.663333333333333,
          0.636666666666667,
          0.693333333333333,
          0.693333333333333,
          0.583333333333333,
          0.646666666666667,
          0.636666666666667,
          0.756666666666666,
          0.556666666666667,
          0.643333333333333,
          0.636666666666667,
          0.69,
          0.663333333333333,
          0.613333333333333,
          0.633333333333333,
          0.673333333333333,
          0.566666666666667,
          0.6,
          0.613333333333333,
          0.676666666666667,
          0.613333333333333,
          0.696666666666667,
          0.553333333333333,
          0.633333333333333,
          0.653333333333333,
          0.69,
          0.63,
          0.67,
          0.55,
          0.706666666666667,
          0.69,
          0.633333333333333,
          0.69,
          0.82,
          0.636666666666667,
          0.686666666666667,
          0.733333333333333,
          0.683333333333333,
          0.786666666666667,
          0.533333333333333,
          0.686666666666667,
          0.643333333333333,
          0.593333333333333,
          0.49,
          0.49,
          0.696666666666667,
          0.643333333333333,
          0.643333333333333,
          0.716666666666667,
          0.706666666666667,
          0.67,
          0.696666666666667,
          0.7,
          0.69,
          0.653333333333333,
          0.486666666666667,
          0.6,
          0.643333333333333,
          0.68,
          0.666666666666667,
          0.736666666666667,
          0.703333333333333,
          0.653333333333333,
          0.603333333333333,
          0.543333333333333,
          0.65,
          0.75,
          0.64,
          0.813333333333333,
          0.65,
          0.66,
          0.69,
          0.496666666666667,
          0.71,
          0.633333333333333,
          0.443333333333333,
          0.623333333333333,
          0.626666666666667,
          0.653333333333333,
          0.703333333333333,
          0.71,
          0.67,
          0.68,
          0.45,
          0.573333333333333,
          0.563333333333333,
          0.426666666666667,
          0.636666666666667,
          0.656666666666667,
          0.64,
          0.656666666666667,
          0.706666666666667,
          0.666666666666667,
          0.66,
          0.72,
          0.586666666666667,
          0.776666666666667,
          0.636666666666667,
          0.57,
          0.72,
          0.626666666666667,
          0.676666666666667,
          0.4,
          0.636666666666667,
          0.62,
          0.623333333333333,
          0.783333333333333,
          0.663333333333333,
          0.706666666666667,
          0.593333333333333,
          0.656666666666667,
          0.78,
          0.743333333333334,
          0.753333333333333,
          0.643333333333333,
          0.45,
          0.78,
          0.84,
          0.72,
          0.626666666666667,
          0.48,
          0.543333333333333
         ],
         "yaxis": "y"
        }
       ],
       "layout": {
        "height": 500,
        "legend": {
         "tracegroupgap": 0
        },
        "template": {
         "data": {
          "bar": [
           {
            "error_x": {
             "color": "#2a3f5f"
            },
            "error_y": {
             "color": "#2a3f5f"
            },
            "marker": {
             "line": {
              "color": "white",
              "width": 0.5
             },
             "pattern": {
              "fillmode": "overlay",
              "size": 10,
              "solidity": 0.2
             }
            },
            "type": "bar"
           }
          ],
          "barpolar": [
           {
            "marker": {
             "line": {
              "color": "white",
              "width": 0.5
             },
             "pattern": {
              "fillmode": "overlay",
              "size": 10,
              "solidity": 0.2
             }
            },
            "type": "barpolar"
           }
          ],
          "carpet": [
           {
            "aaxis": {
             "endlinecolor": "#2a3f5f",
             "gridcolor": "#C8D4E3",
             "linecolor": "#C8D4E3",
             "minorgridcolor": "#C8D4E3",
             "startlinecolor": "#2a3f5f"
            },
            "baxis": {
             "endlinecolor": "#2a3f5f",
             "gridcolor": "#C8D4E3",
             "linecolor": "#C8D4E3",
             "minorgridcolor": "#C8D4E3",
             "startlinecolor": "#2a3f5f"
            },
            "type": "carpet"
           }
          ],
          "choropleth": [
           {
            "colorbar": {
             "outlinewidth": 0,
             "ticks": ""
            },
            "type": "choropleth"
           }
          ],
          "contour": [
           {
            "colorbar": {
             "outlinewidth": 0,
             "ticks": ""
            },
            "colorscale": [
             [
              0,
              "#0d0887"
             ],
             [
              0.1111111111111111,
              "#46039f"
             ],
             [
              0.2222222222222222,
              "#7201a8"
             ],
             [
              0.3333333333333333,
              "#9c179e"
             ],
             [
              0.4444444444444444,
              "#bd3786"
             ],
             [
              0.5555555555555556,
              "#d8576b"
             ],
             [
              0.6666666666666666,
              "#ed7953"
             ],
             [
              0.7777777777777778,
              "#fb9f3a"
             ],
             [
              0.8888888888888888,
              "#fdca26"
             ],
             [
              1,
              "#f0f921"
             ]
            ],
            "type": "contour"
           }
          ],
          "contourcarpet": [
           {
            "colorbar": {
             "outlinewidth": 0,
             "ticks": ""
            },
            "type": "contourcarpet"
           }
          ],
          "heatmap": [
           {
            "colorbar": {
             "outlinewidth": 0,
             "ticks": ""
            },
            "colorscale": [
             [
              0,
              "#0d0887"
             ],
             [
              0.1111111111111111,
              "#46039f"
             ],
             [
              0.2222222222222222,
              "#7201a8"
             ],
             [
              0.3333333333333333,
              "#9c179e"
             ],
             [
              0.4444444444444444,
              "#bd3786"
             ],
             [
              0.5555555555555556,
              "#d8576b"
             ],
             [
              0.6666666666666666,
              "#ed7953"
             ],
             [
              0.7777777777777778,
              "#fb9f3a"
             ],
             [
              0.8888888888888888,
              "#fdca26"
             ],
             [
              1,
              "#f0f921"
             ]
            ],
            "type": "heatmap"
           }
          ],
          "heatmapgl": [
           {
            "colorbar": {
             "outlinewidth": 0,
             "ticks": ""
            },
            "colorscale": [
             [
              0,
              "#0d0887"
             ],
             [
              0.1111111111111111,
              "#46039f"
             ],
             [
              0.2222222222222222,
              "#7201a8"
             ],
             [
              0.3333333333333333,
              "#9c179e"
             ],
             [
              0.4444444444444444,
              "#bd3786"
             ],
             [
              0.5555555555555556,
              "#d8576b"
             ],
             [
              0.6666666666666666,
              "#ed7953"
             ],
             [
              0.7777777777777778,
              "#fb9f3a"
             ],
             [
              0.8888888888888888,
              "#fdca26"
             ],
             [
              1,
              "#f0f921"
             ]
            ],
            "type": "heatmapgl"
           }
          ],
          "histogram": [
           {
            "marker": {
             "pattern": {
              "fillmode": "overlay",
              "size": 10,
              "solidity": 0.2
             }
            },
            "type": "histogram"
           }
          ],
          "histogram2d": [
           {
            "colorbar": {
             "outlinewidth": 0,
             "ticks": ""
            },
            "colorscale": [
             [
              0,
              "#0d0887"
             ],
             [
              0.1111111111111111,
              "#46039f"
             ],
             [
              0.2222222222222222,
              "#7201a8"
             ],
             [
              0.3333333333333333,
              "#9c179e"
             ],
             [
              0.4444444444444444,
              "#bd3786"
             ],
             [
              0.5555555555555556,
              "#d8576b"
             ],
             [
              0.6666666666666666,
              "#ed7953"
             ],
             [
              0.7777777777777778,
              "#fb9f3a"
             ],
             [
              0.8888888888888888,
              "#fdca26"
             ],
             [
              1,
              "#f0f921"
             ]
            ],
            "type": "histogram2d"
           }
          ],
          "histogram2dcontour": [
           {
            "colorbar": {
             "outlinewidth": 0,
             "ticks": ""
            },
            "colorscale": [
             [
              0,
              "#0d0887"
             ],
             [
              0.1111111111111111,
              "#46039f"
             ],
             [
              0.2222222222222222,
              "#7201a8"
             ],
             [
              0.3333333333333333,
              "#9c179e"
             ],
             [
              0.4444444444444444,
              "#bd3786"
             ],
             [
              0.5555555555555556,
              "#d8576b"
             ],
             [
              0.6666666666666666,
              "#ed7953"
             ],
             [
              0.7777777777777778,
              "#fb9f3a"
             ],
             [
              0.8888888888888888,
              "#fdca26"
             ],
             [
              1,
              "#f0f921"
             ]
            ],
            "type": "histogram2dcontour"
           }
          ],
          "mesh3d": [
           {
            "colorbar": {
             "outlinewidth": 0,
             "ticks": ""
            },
            "type": "mesh3d"
           }
          ],
          "parcoords": [
           {
            "line": {
             "colorbar": {
              "outlinewidth": 0,
              "ticks": ""
             }
            },
            "type": "parcoords"
           }
          ],
          "pie": [
           {
            "automargin": true,
            "type": "pie"
           }
          ],
          "scatter": [
           {
            "fillpattern": {
             "fillmode": "overlay",
             "size": 10,
             "solidity": 0.2
            },
            "type": "scatter"
           }
          ],
          "scatter3d": [
           {
            "line": {
             "colorbar": {
              "outlinewidth": 0,
              "ticks": ""
             }
            },
            "marker": {
             "colorbar": {
              "outlinewidth": 0,
              "ticks": ""
             }
            },
            "type": "scatter3d"
           }
          ],
          "scattercarpet": [
           {
            "marker": {
             "colorbar": {
              "outlinewidth": 0,
              "ticks": ""
             }
            },
            "type": "scattercarpet"
           }
          ],
          "scattergeo": [
           {
            "marker": {
             "colorbar": {
              "outlinewidth": 0,
              "ticks": ""
             }
            },
            "type": "scattergeo"
           }
          ],
          "scattergl": [
           {
            "marker": {
             "colorbar": {
              "outlinewidth": 0,
              "ticks": ""
             }
            },
            "type": "scattergl"
           }
          ],
          "scattermapbox": [
           {
            "marker": {
             "colorbar": {
              "outlinewidth": 0,
              "ticks": ""
             }
            },
            "type": "scattermapbox"
           }
          ],
          "scatterpolar": [
           {
            "marker": {
             "colorbar": {
              "outlinewidth": 0,
              "ticks": ""
             }
            },
            "type": "scatterpolar"
           }
          ],
          "scatterpolargl": [
           {
            "marker": {
             "colorbar": {
              "outlinewidth": 0,
              "ticks": ""
             }
            },
            "type": "scatterpolargl"
           }
          ],
          "scatterternary": [
           {
            "marker": {
             "colorbar": {
              "outlinewidth": 0,
              "ticks": ""
             }
            },
            "type": "scatterternary"
           }
          ],
          "surface": [
           {
            "colorbar": {
             "outlinewidth": 0,
             "ticks": ""
            },
            "colorscale": [
             [
              0,
              "#0d0887"
             ],
             [
              0.1111111111111111,
              "#46039f"
             ],
             [
              0.2222222222222222,
              "#7201a8"
             ],
             [
              0.3333333333333333,
              "#9c179e"
             ],
             [
              0.4444444444444444,
              "#bd3786"
             ],
             [
              0.5555555555555556,
              "#d8576b"
             ],
             [
              0.6666666666666666,
              "#ed7953"
             ],
             [
              0.7777777777777778,
              "#fb9f3a"
             ],
             [
              0.8888888888888888,
              "#fdca26"
             ],
             [
              1,
              "#f0f921"
             ]
            ],
            "type": "surface"
           }
          ],
          "table": [
           {
            "cells": {
             "fill": {
              "color": "#EBF0F8"
             },
             "line": {
              "color": "white"
             }
            },
            "header": {
             "fill": {
              "color": "#C8D4E3"
             },
             "line": {
              "color": "white"
             }
            },
            "type": "table"
           }
          ]
         },
         "layout": {
          "annotationdefaults": {
           "arrowcolor": "#2a3f5f",
           "arrowhead": 0,
           "arrowwidth": 1
          },
          "autotypenumbers": "strict",
          "coloraxis": {
           "colorbar": {
            "outlinewidth": 0,
            "ticks": ""
           }
          },
          "colorscale": {
           "diverging": [
            [
             0,
             "#8e0152"
            ],
            [
             0.1,
             "#c51b7d"
            ],
            [
             0.2,
             "#de77ae"
            ],
            [
             0.3,
             "#f1b6da"
            ],
            [
             0.4,
             "#fde0ef"
            ],
            [
             0.5,
             "#f7f7f7"
            ],
            [
             0.6,
             "#e6f5d0"
            ],
            [
             0.7,
             "#b8e186"
            ],
            [
             0.8,
             "#7fbc41"
            ],
            [
             0.9,
             "#4d9221"
            ],
            [
             1,
             "#276419"
            ]
           ],
           "sequential": [
            [
             0,
             "#0d0887"
            ],
            [
             0.1111111111111111,
             "#46039f"
            ],
            [
             0.2222222222222222,
             "#7201a8"
            ],
            [
             0.3333333333333333,
             "#9c179e"
            ],
            [
             0.4444444444444444,
             "#bd3786"
            ],
            [
             0.5555555555555556,
             "#d8576b"
            ],
            [
             0.6666666666666666,
             "#ed7953"
            ],
            [
             0.7777777777777778,
             "#fb9f3a"
            ],
            [
             0.8888888888888888,
             "#fdca26"
            ],
            [
             1,
             "#f0f921"
            ]
           ],
           "sequentialminus": [
            [
             0,
             "#0d0887"
            ],
            [
             0.1111111111111111,
             "#46039f"
            ],
            [
             0.2222222222222222,
             "#7201a8"
            ],
            [
             0.3333333333333333,
             "#9c179e"
            ],
            [
             0.4444444444444444,
             "#bd3786"
            ],
            [
             0.5555555555555556,
             "#d8576b"
            ],
            [
             0.6666666666666666,
             "#ed7953"
            ],
            [
             0.7777777777777778,
             "#fb9f3a"
            ],
            [
             0.8888888888888888,
             "#fdca26"
            ],
            [
             1,
             "#f0f921"
            ]
           ]
          },
          "colorway": [
           "#636efa",
           "#EF553B",
           "#00cc96",
           "#ab63fa",
           "#FFA15A",
           "#19d3f3",
           "#FF6692",
           "#B6E880",
           "#FF97FF",
           "#FECB52"
          ],
          "font": {
           "color": "#2a3f5f"
          },
          "geo": {
           "bgcolor": "white",
           "lakecolor": "white",
           "landcolor": "white",
           "showlakes": true,
           "showland": true,
           "subunitcolor": "#C8D4E3"
          },
          "hoverlabel": {
           "align": "left"
          },
          "hovermode": "closest",
          "mapbox": {
           "style": "light"
          },
          "paper_bgcolor": "white",
          "plot_bgcolor": "white",
          "polar": {
           "angularaxis": {
            "gridcolor": "#EBF0F8",
            "linecolor": "#EBF0F8",
            "ticks": ""
           },
           "bgcolor": "white",
           "radialaxis": {
            "gridcolor": "#EBF0F8",
            "linecolor": "#EBF0F8",
            "ticks": ""
           }
          },
          "scene": {
           "xaxis": {
            "backgroundcolor": "white",
            "gridcolor": "#DFE8F3",
            "gridwidth": 2,
            "linecolor": "#EBF0F8",
            "showbackground": true,
            "ticks": "",
            "zerolinecolor": "#EBF0F8"
           },
           "yaxis": {
            "backgroundcolor": "white",
            "gridcolor": "#DFE8F3",
            "gridwidth": 2,
            "linecolor": "#EBF0F8",
            "showbackground": true,
            "ticks": "",
            "zerolinecolor": "#EBF0F8"
           },
           "zaxis": {
            "backgroundcolor": "white",
            "gridcolor": "#DFE8F3",
            "gridwidth": 2,
            "linecolor": "#EBF0F8",
            "showbackground": true,
            "ticks": "",
            "zerolinecolor": "#EBF0F8"
           }
          },
          "shapedefaults": {
           "line": {
            "color": "#2a3f5f"
           }
          },
          "ternary": {
           "aaxis": {
            "gridcolor": "#DFE8F3",
            "linecolor": "#A2B1C6",
            "ticks": ""
           },
           "baxis": {
            "gridcolor": "#DFE8F3",
            "linecolor": "#A2B1C6",
            "ticks": ""
           },
           "bgcolor": "white",
           "caxis": {
            "gridcolor": "#DFE8F3",
            "linecolor": "#A2B1C6",
            "ticks": ""
           }
          },
          "title": {
           "x": 0.05
          },
          "xaxis": {
           "automargin": true,
           "gridcolor": "#EBF0F8",
           "linecolor": "#EBF0F8",
           "ticks": "",
           "title": {
            "standoff": 15
           },
           "zerolinecolor": "#EBF0F8",
           "zerolinewidth": 2
          },
          "yaxis": {
           "automargin": true,
           "gridcolor": "#EBF0F8",
           "linecolor": "#EBF0F8",
           "ticks": "",
           "title": {
            "standoff": 15
           },
           "zerolinecolor": "#EBF0F8",
           "zerolinewidth": 2
          }
         }
        },
        "title": {
         "text": "Revenue vs. Book Ratings"
        },
        "width": 900,
        "xaxis": {
         "anchor": "y",
         "domain": [
          0,
          1
         ],
         "title": {
          "text": "Movie Revenue ($), logscale"
         },
         "type": "log"
        },
        "yaxis": {
         "anchor": "x",
         "domain": [
          0,
          1
         ],
         "title": {
          "text": "Normalized Book Rating"
         }
        }
       }
      }
     },
     "metadata": {},
     "output_type": "display_data"
    }
   ],
   "source": [
    "labels = {'revenue': 'Movie Revenue ($), logscale', 'normalized_rating_y': 'Normalized Book Rating'}\n",
    "gu.px_scatter_plot(data,'revenue','normalized_rating_y','movie_name', 'Revenue vs. Book Ratings', labels, width=900 ,xaxis_type=\"log\")"
   ]
  },
  {
   "cell_type": "markdown",
   "metadata": {},
   "source": [
    "This plot shows the general behaviour that movie revenue is slightly correlated with the book ratings."
   ]
  },
  {
   "cell_type": "code",
   "execution_count": 45,
   "metadata": {},
   "outputs": [
    {
     "data": {
      "application/vnd.plotly.v1+json": {
       "config": {
        "plotlyServerURL": "https://plot.ly"
       },
       "data": [
        {
         "hovertemplate": "<b>%{hovertext}</b><br><br>Success Cathegory=High Rating & High Revenue<br>Movie Revenue ($), logscale=%{x}<br>Normalized Movie Rating=%{y}<extra></extra>",
         "hovertext": [
          "Mary Poppins",
          "L.A. Confidential",
          "Tarzan",
          "No Country for Old Men",
          "The Rescuers",
          "Munich",
          "The Girl with the Dragon Tattoo",
          "The Secret Life of Bees",
          "War Horse",
          "The Time Traveler's Wife",
          "Jackie Brown",
          "Harry Potter and the Half-Blood Prince",
          "The Bourne Supremacy",
          "The Lord of the Rings: The Two Towers",
          "The Hunchback of Notre Dame",
          "The Poseidon Adventure",
          "Pinocchio",
          "The Name of the Rose",
          "Harry Potter and the Goblet of Fire",
          "Payback",
          "I Am Legend",
          "Dances with Wolves",
          "The Silence of the Lambs",
          "Clear and Present Danger",
          "The Bourne Identity",
          "The Reader",
          "Trading Places",
          "Three Days of the Condor",
          "The Rescuers Down Under",
          "Children of Men",
          "Harry Potter and the Order of the Phoenix",
          "The Ghost Writer",
          "Stardust",
          "Carlito's Way",
          "The Girl Who Played with Fire",
          "Bullitt",
          "The Girl with the Dragon Tattoo",
          "About a Boy",
          "Les Misérables",
          "Peter Pan",
          "Oliver Twist",
          "Song of the South",
          "Sideways",
          "The Black Stallion",
          "The Exorcist",
          "First Blood",
          "Ben-Hur",
          "Water for Elephants",
          "Spartacus",
          "Schindler's List",
          "Die Hard",
          "Runaway Jury",
          "Bicentennial Man",
          "The Constant Gardener",
          "The Spy Who Loved Me",
          "Rise of the Planet of the Apes",
          "Limitless",
          "The Lincoln Lawyer",
          "The Talented Mr. Ripley",
          "Harry Potter and the Deathly Hallows – Part 2",
          "Chocolat",
          "Oliver!",
          "Swiss Family Robinson",
          "The Color of Money",
          "Treasure Planet",
          "The Phantom of the Opera",
          "Fight Club",
          "Love Story",
          "Peter Pan",
          "Identity",
          "The Cider House Rules",
          "Jumanji",
          "The Hunt for Red October",
          "The Color Purple",
          "Young Frankenstein",
          "The Bridge on the River Kwai",
          "Misery",
          "The Godfather",
          "The Getaway",
          "Gone with the Wind",
          "Fletch",
          "A Good Year",
          "Casino Royale",
          "Who Framed Roger Rabbit",
          "The Bourne Ultimatum",
          "Revolutionary Road",
          "3:10 to Yuma",
          "Harry Potter and the Chamber of Secrets",
          "Harry Potter and the Prisoner of Azkaban",
          "Get Shorty",
          "Atonement",
          "Thunderball",
          "The Natural",
          "The Dirty Dozen",
          "Dangerous Liaisons",
          "The Rainmaker",
          "What Dreams May Come",
          "You Only Live Twice",
          "Pride & Prejudice",
          "One Flew Over the Cuckoo's Nest",
          "Blade Runner",
          "The Bridges of Madison County",
          "Beaches",
          "A History of Violence",
          "Contact",
          "Murder on the Orient Express",
          "Starship Troopers",
          "A Time to Kill",
          "The Notebook",
          "The Towering Inferno",
          "Cold Mountain",
          "Dr. No",
          "From Russia with Love",
          "O Brother, Where Art Thou?",
          "Finding Neverland",
          "The Devil Wears Prada",
          "The Devil's Advocate",
          "Jurassic Park",
          "Red Dragon",
          "The Count of Monte Cristo",
          "The Jungle Book",
          "Mystic River",
          "The Shining",
          "True Grit",
          "The Help",
          "Forrest Gump",
          "Presumed Innocent",
          "The Hobbit: An Unexpected Journey",
          "The Hours",
          "High Fidelity",
          "The Great Gatsby",
          "No Way Out",
          "Crouching Tiger, Hidden Dragon",
          "Fantastic Mr. Fox",
          "Empire of the Sun",
          "Cape Fear",
          "Cape Fear",
          "Fried Green Tomatoes",
          "Ordinary People",
          "The Last of the Mohicans",
          "Big Fish",
          "One Hundred and One Dalmatians",
          "Open Range",
          "Harry Potter and the Philosopher's Stone",
          "Sense and Sensibility",
          "Excalibur",
          "Out of Sight",
          "Terms of Endearment",
          "Shutter Island",
          "The Chronicles of Narnia: The Lion, the Witch and the Wardrobe",
          "Goldfinger",
          "The Green Mile",
          "Patriot Games",
          "South Pacific",
          "There Will Be Blood",
          "Jaws",
          "The Great Mouse Detective",
          "Rambo",
          "A Walk to Remember",
          "Scarface",
          "The Hunger Games",
          "To Sir, with Love",
          "The English Patient",
          "About Schmidt",
          "A.I. Artificial Intelligence",
          "The Lord of the Rings: The Fellowship of the Ring",
          "Bridge to Terabithia",
          "Field of Dreams",
          "Man on Fire",
          "The Lord of the Rings: The Return of the King"
         ],
         "legendgroup": "High Rating & High Revenue",
         "marker": {
          "color": "#636efa",
          "symbol": "circle"
         },
         "mode": "markers",
         "name": "High Rating & High Revenue",
         "orientation": "v",
         "showlegend": true,
         "type": "scatter",
         "x": [
          103082380,
          126216940,
          448191819,
          171627166,
          71215869,
          130982129,
          109421911,
          38105395,
          177584879,
          101344412,
          39673162,
          933959197,
          288500217,
          926287400,
          325338851,
          84563118,
          84300000,
          77200000,
          895921036,
          161626121,
          585410052,
          424208848,
          272742922,
          215887717,
          214034224,
          108902486,
          90404800,
          41509797,
          47431461,
          70595464,
          938212738,
          60331447,
          137515140,
          63848322,
          67126795,
          42300873,
          232617430,
          129000000,
          441809770,
          87404651,
          42580321,
          65000000,
          109502303,
          37799643,
          441405644,
          125212904,
          164000000,
          117094902,
          60000000,
          321365567,
          140767956,
          80154140,
          87423861,
          82468097,
          185438673,
          482860185,
          161849455,
          85412898,
          128798265,
          1341511219,
          152500343,
          37402877,
          40356000,
          52293982,
          109578115,
          154648887,
          100853753,
          136400000,
          121975011,
          90259536,
          88545092,
          262821940,
          200512643,
          146292000,
          86273333,
          44908000,
          61276872,
          245066411,
          36734619,
          402352579,
          59612888,
          42064105,
          599045960,
          329803958,
          442824138,
          75981180,
          70016220,
          876688482,
          789804554,
          115101622,
          131016624,
          141195658,
          47951979,
          45300000,
          34670720,
          45916769,
          71485043,
          111584787,
          121616555,
          108981275,
          41722424,
          182016617,
          57041866,
          60740827,
          171120329,
          35700000,
          121214377,
          152266007,
          115603229,
          116000000,
          173013509,
          59567035,
          78900000,
          71870729,
          116766556,
          326706115,
          152944660,
          920100000,
          209196298,
          75395048,
          205843612,
          156822020,
          44781695,
          252276927,
          216639112,
          677387716,
          221303188,
          1021103568,
          41597830,
          47126295,
          351040419,
          35509515,
          213525736,
          46471023,
          66700000,
          182300000,
          103000000,
          119418501,
          54766923,
          75505856,
          123218424,
          85000000,
          68296293,
          976475550,
          134582776,
          34967437,
          77745966,
          108423749,
          294800000,
          745013115,
          124881062,
          286801374,
          178051587,
          36800000,
          77208711,
          470653000,
          38625550,
          113244290,
          47494916,
          66023329,
          694394724,
          42432803,
          231976425,
          105834556,
          235926552,
          871368364,
          137587063,
          84431625,
          130293714,
          1118888979
         ],
         "xaxis": "x",
         "y": [
          0.802816901408451,
          0.873239436619718,
          0.732394366197183,
          0.845070422535211,
          0.676056338028169,
          0.774647887323944,
          0.802816901408451,
          0.732394366197183,
          0.71830985915493,
          0.704225352112676,
          0.76056338028169,
          0.774647887323944,
          0.802816901408451,
          0.929577464788732,
          0.676056338028169,
          0.704225352112676,
          0.76056338028169,
          0.802816901408451,
          0.788732394366197,
          0.704225352112676,
          0.71830985915493,
          0.830985915492958,
          0.915492957746479,
          0.676056338028169,
          0.816901408450704,
          0.774647887323944,
          0.76056338028169,
          0.76056338028169,
          0.676056338028169,
          0.816901408450704,
          0.76056338028169,
          0.71830985915493,
          0.788732394366197,
          0.816901408450704,
          0.71830985915493,
          0.76056338028169,
          0.802816901408451,
          0.704225352112676,
          0.774647887323944,
          0.732394366197183,
          0.676056338028169,
          0.732394366197183,
          0.76056338028169,
          0.746478873239437,
          0.830985915492958,
          0.788732394366197,
          0.845070422535211,
          0.676056338028169,
          0.816901408450704,
          0.95774647887324,
          0.859154929577465,
          0.704225352112676,
          0.676056338028169,
          0.746478873239437,
          0.704225352112676,
          0.774647887323944,
          0.746478873239437,
          0.732394366197183,
          0.746478873239437,
          0.845070422535211,
          0.732394366197183,
          0.76056338028169,
          0.71830985915493,
          0.690140845070423,
          0.704225352112676,
          0.732394366197183,
          0.943661971830986,
          0.676056338028169,
          0.676056338028169,
          0.732394366197183,
          0.746478873239437,
          0.676056338028169,
          0.774647887323944,
          0.802816901408451,
          0.830985915492958,
          0.859154929577465,
          0.802816901408451,
          1,
          0.76056338028169,
          0.859154929577465,
          0.676056338028169,
          0.690140845070423,
          0.830985915492958,
          0.788732394366197,
          0.830985915492958,
          0.732394366197183,
          0.788732394366197,
          0.746478873239437,
          0.816901408450704,
          0.676056338028169,
          0.802816901408451,
          0.690140845070423,
          0.76056338028169,
          0.802816901408451,
          0.774647887323944,
          0.704225352112676,
          0.690140845070423,
          0.676056338028169,
          0.802816901408451,
          0.929577464788732,
          0.859154929577465,
          0.774647887323944,
          0.676056338028169,
          0.76056338028169,
          0.746478873239437,
          0.732394366197183,
          0.71830985915493,
          0.746478873239437,
          0.816901408450704,
          0.676056338028169,
          0.71830985915493,
          0.732394366197183,
          0.746478873239437,
          0.802816901408451,
          0.788732394366197,
          0.676056338028169,
          0.76056338028169,
          0.845070422535211,
          0.71830985915493,
          0.802816901408451,
          0.774647887323944,
          0.830985915492958,
          0.887323943661972,
          0.774647887323944,
          0.845070422535211,
          0.943661971830986,
          0.676056338028169,
          0.816901408450704,
          0.774647887323944,
          0.76056338028169,
          0.732394366197183,
          0.704225352112676,
          0.816901408450704,
          0.816901408450704,
          0.802816901408451,
          0.732394366197183,
          0.802816901408451,
          0.788732394366197,
          0.802816901408451,
          0.802816901408451,
          0.830985915492958,
          0.71830985915493,
          0.76056338028169,
          0.774647887323944,
          0.788732394366197,
          0.746478873239437,
          0.690140845070423,
          0.746478873239437,
          0.845070422535211,
          0.676056338028169,
          0.788732394366197,
          0.901408450704225,
          0.676056338028169,
          0.676056338028169,
          0.859154929577465,
          0.830985915492958,
          0.71830985915493,
          0.690140845070423,
          0.746478873239437,
          0.873239436619718,
          0.71830985915493,
          0.788732394366197,
          0.746478873239437,
          0.71830985915493,
          0.704225352112676,
          0.943661971830986,
          0.71830985915493,
          0.76056338028169,
          0.788732394366197,
          0.95774647887324
         ],
         "yaxis": "y"
        },
        {
         "hovertemplate": "<b>%{hovertext}</b><br><br>Success Cathegory=High Rating & Low Revenue<br>Movie Revenue ($), logscale=%{x}<br>Normalized Movie Rating=%{y}<extra></extra>",
         "hovertext": [
          "Straw Dogs",
          "Laura",
          "The Last Picture Show",
          "Dr. Strangelove or: How I Learned to Stop Worrying and Love the Bomb",
          "Zorba the Greek",
          "Lolita",
          "Giant",
          "Pharaoh",
          "Altered States",
          "Death Wish",
          "A Patch of Blue",
          "The Wizard of Oz",
          "Stir of Echoes",
          "Willy Wonka & the Chocolate Factory",
          "The Hustler",
          "The Iron Giant",
          "Catch-22",
          "The Sand Pebbles",
          "Howards End",
          "Valmont",
          "Fanaa",
          "The Desperate Hours",
          "The Night of the Iguana",
          "Clockers",
          "Anna Karenina",
          "Abbott and Costello Meet Frankenstein",
          "Glory",
          "Gentlemen Prefer Blondes",
          "American Psycho",
          "Journey to the Center of the Earth",
          "To Catch a Thief",
          "The Long Goodbye",
          "Barry Lyndon",
          "The Big Sleep",
          "Manhunter",
          "Rebecca",
          "Enemy Mine",
          "The Andromeda Strain",
          "Planet of the Apes",
          "The Joy Luck Club",
          "Moby Dick",
          "The Cowboys",
          "The Boy in the Striped Pyjamas",
          "Lolita",
          "Mississippi Mermaid",
          "Winnie the Pooh",
          "Contempt",
          "Paper Moon",
          "Tess",
          "Marathon Man",
          "Double Indemnity",
          "Birdy",
          "Across to Singapore",
          "Duel in the Sun",
          "Point Blank",
          "20,000 Leagues Under the Sea",
          "The African Queen",
          "The Agony and the Ecstasy",
          "In the Heat of the Night",
          "The Age of Innocence",
          "The Time Machine",
          "Dark Passage",
          "Marnie",
          "The Curse of Frankenstein",
          "20,000 Leagues Under the Sea",
          "Murphy's Romance",
          "Gettysburg",
          "The Guns of Navarone",
          "After Hours",
          "Village of the Damned",
          "The Outlaw Josey Wales",
          "Sorcerer",
          "Naked Lunch",
          "The Trouble with Harry",
          "Psycho",
          "The Molly Maguires",
          "The Quiet American",
          "Fahrenheit 451",
          "From Here to Eternity",
          "The Sword in the Stone",
          "The NeverEnding Story",
          "Mother of Mine",
          "The Thief of Bagdad",
          "Cross of Iron",
          "Frankenstein",
          "The King and I",
          "The Road",
          "Layer Cake",
          "Fear and Loathing in Las Vegas",
          "The Night of the Generals",
          "Matilda",
          "The Caine Mutiny",
          "Muppet Treasure Island",
          "Election",
          "The House of the Spirits",
          "Mildred Pierce",
          "A Passage to India",
          "Mr. Hobbs Takes a Vacation",
          "Rob Roy",
          "Alice Adams",
          "To Kill a Mockingbird",
          "A Place in the Sun",
          "Suspicion",
          "Kiss of the Spider Woman",
          "The Power of One",
          "The Flim-Flam Man",
          "Being Julia",
          "Rosemary's Baby",
          "The Outsiders",
          "The World According to Garp",
          "Frenzy",
          "Kandukondain Kandukondain",
          "Elmer Gantry",
          "Trainspotting",
          "Jude",
          "The Secret of NIMH",
          "Hud",
          "The Hunchback of Notre Dame",
          "All Quiet on the Western Front",
          "Little Caesar",
          "Angel Heart",
          "The Dreamers",
          "Friendly Persuasion",
          "The Grapes of Wrath",
          "Invasion of the Body Snatchers",
          "The Best Years of Our Lives",
          "The Postman Always Rings Twice",
          "Gods and Monsters",
          "Harper",
          "Strangers on a Train",
          "The Adventures of Mark Twain",
          "The Manchurian Candidate",
          "Beau Geste",
          "Hombre",
          "The Lady from Shanghai",
          "The Women of Brewster Place",
          "Let the Right One In",
          "The Fox and the Hound",
          "Cool Hand Luke",
          "Watership Down",
          "The Last Detail",
          "The End of the Affair",
          "A Clockwork Orange",
          "How Green Was My Valley",
          "The Treasure of the Sierra Madre",
          "Anatomy of a Murder",
          "A Simple Plan",
          "Like Water for Chocolate",
          "The Devils",
          "American Splendor",
          "Vertigo",
          "The Unbearable Lightness of Being",
          "A Room with a View",
          "For Whom the Bell Tolls",
          "Invasion of the Body Snatchers",
          "City of God",
          "The Sea Hawk",
          "The Boys from Brazil",
          "The Vikings",
          "Death on the Nile",
          "Maurice",
          "Hellraiser",
          "Evil Under the Sun",
          "Battle Royale",
          "The Painted Veil",
          "Let Me In",
          "Where Eagles Dare",
          "Desert Hearts",
          "The Maltese Falcon",
          "The Remains of the Day",
          "The Dead Zone",
          "A Scanner Darkly",
          "The Assassination of Jesse James by the Coward Robert Ford",
          "Bedknobs and Broomsticks",
          "The Princess Bride",
          "The Warriors"
         ],
         "legendgroup": "High Rating & Low Revenue",
         "marker": {
          "color": "#EF553B",
          "symbol": "circle"
         },
         "mode": "markers",
         "name": "High Rating & Low Revenue",
         "orientation": "v",
         "showlegend": true,
         "type": "scatter",
         "x": [
          3251794,
          2000000,
          29133000,
          9523464,
          9000000,
          9250000,
          32855818,
          10000000,
          19853892,
          22000000,
          6792000,
          33754967,
          21133087,
          4000000,
          7600000,
          23159305,
          24911670,
          20000000,
          26126837,
          1132112,
          22175908,
          2500000,
          12000000,
          13071518,
          1439000,
          4812444,
          26828365,
          5300000,
          34266564,
          10000000,
          8750000,
          959000,
          198992,
          4900000,
          8620929,
          7592465,
          12303411,
          12376563,
          32589624,
          32861136,
          10400000,
          7500000,
          20416563,
          1071255,
          7356000,
          14460000,
          528428,
          30900000,
          20101247,
          21709020,
          2500000,
          1400000,
          596000,
          20400000,
          3200000,
          8000000,
          10750000,
          4000000,
          27379978,
          32255440,
          5902,
          3430000,
          7000000,
          8000000,
          28200000,
          30867525,
          12700000,
          28900000,
          10609321,
          2175000,
          31800000,
          9000000,
          2641357,
          7000000,
          32000000,
          2200000,
          27674124,
          2000000,
          30500000,
          22182353,
          20158808,
          2851888,
          1490419,
          201,
          12000000,
          21300000,
          27635305,
          11850214,
          10680275,
          2400000,
          33459416,
          21750000,
          34327391,
          14902041,
          6265311,
          5638000,
          27201487,
          4000000,
          31596911,
          770000,
          13129846,
          7000000,
          4500000,
          17005229,
          2827107,
          1200000,
          14339171,
          33395426,
          33697647,
          29712172,
          12600000,
          500000,
          10400000,
          16491080,
          409144,
          14665733,
          10000000,
          6877900,
          3270000,
          752000,
          17186348,
          15121165,
          8000000,
          1591000,
          24946533,
          23650000,
          5086000,
          6451628,
          12000000,
          7000000,
          2350000,
          7700000,
          1500000,
          12000000,
          1564609,
          100000,
          10785801,
          29800000,
          16217773,
          3713768,
          10000000,
          10827816,
          26589000,
          6000000,
          4307000,
          8000000,
          16316273,
          21744201,
          11000000,
          6003587,
          7797728,
          10006806,
          20966644,
          17800000,
          3000000,
          30641770,
          2000000,
          19000000,
          20311,
          14560084,
          2438304,
          14575193,
          6110804,
          30600000,
          26910847,
          24145613,
          21000000,
          2400000,
          1772000,
          23237911,
          20766616,
          7659918,
          14711793,
          17900000,
          30861665,
          22490039
         ],
         "xaxis": "x",
         "y": [
          0.76056338028169,
          0.830985915492958,
          0.845070422535211,
          0.887323943661972,
          0.788732394366197,
          0.774647887323944,
          0.788732394366197,
          0.774647887323944,
          0.676056338028169,
          0.690140845070423,
          0.830985915492958,
          0.830985915492958,
          0.690140845070423,
          0.802816901408451,
          0.830985915492958,
          0.830985915492958,
          0.71830985915493,
          0.788732394366197,
          0.76056338028169,
          0.690140845070423,
          0.71830985915493,
          0.76056338028169,
          0.802816901408451,
          0.676056338028169,
          0.704225352112676,
          0.774647887323944,
          0.816901408450704,
          0.71830985915493,
          0.774647887323944,
          0.704225352112676,
          0.76056338028169,
          0.788732394366197,
          0.845070422535211,
          0.830985915492958,
          0.71830985915493,
          0.845070422535211,
          0.676056338028169,
          0.71830985915493,
          0.830985915492958,
          0.774647887323944,
          0.746478873239437,
          0.746478873239437,
          0.802816901408451,
          0.676056338028169,
          0.704225352112676,
          0.71830985915493,
          0.788732394366197,
          0.845070422535211,
          0.732394366197183,
          0.76056338028169,
          0.873239436619718,
          0.732394366197183,
          0.71830985915493,
          0.676056338028169,
          0.746478873239437,
          0.676056338028169,
          0.816901408450704,
          0.71830985915493,
          0.830985915492958,
          0.71830985915493,
          0.774647887323944,
          0.774647887323944,
          0.71830985915493,
          0.71830985915493,
          0.71830985915493,
          0.690140845070423,
          0.788732394366197,
          0.774647887323944,
          0.788732394366197,
          0.732394366197183,
          0.816901408450704,
          0.788732394366197,
          0.704225352112676,
          0.704225352112676,
          0.901408450704225,
          0.676056338028169,
          0.704225352112676,
          0.732394366197183,
          0.788732394366197,
          0.71830985915493,
          0.746478873239437,
          0.788732394366197,
          0.802816901408451,
          0.76056338028169,
          0.816901408450704,
          0.76056338028169,
          0.732394366197183,
          0.732394366197183,
          0.788732394366197,
          0.732394366197183,
          0.676056338028169,
          0.802816901408451,
          0.690140845070423,
          0.732394366197183,
          0.676056338028169,
          0.830985915492958,
          0.746478873239437,
          0.676056338028169,
          0.676056338028169,
          0.690140845070423,
          0.873239436619718,
          0.802816901408451,
          0.746478873239437,
          0.746478873239437,
          0.71830985915493,
          0.690140845070423,
          0.690140845070423,
          0.830985915492958,
          0.71830985915493,
          0.71830985915493,
          0.76056338028169,
          0.774647887323944,
          0.802816901408451,
          0.859154929577465,
          0.690140845070423,
          0.774647887323944,
          0.816901408450704,
          0.816901408450704,
          0.845070422535211,
          0.732394366197183,
          0.732394366197183,
          0.71830985915493,
          0.76056338028169,
          0.845070422535211,
          0.746478873239437,
          0.845070422535211,
          0.76056338028169,
          0.76056338028169,
          0.690140845070423,
          0.830985915492958,
          0.71830985915493,
          0.830985915492958,
          0.704225352112676,
          0.746478873239437,
          0.788732394366197,
          0.788732394366197,
          0.816901408450704,
          0.732394366197183,
          0.845070422535211,
          0.788732394366197,
          0.774647887323944,
          0.704225352112676,
          0.873239436619718,
          0.802816901408451,
          0.859154929577465,
          0.830985915492958,
          0.76056338028169,
          0.71830985915493,
          0.816901408450704,
          0.76056338028169,
          0.873239436619718,
          0.746478873239437,
          0.746478873239437,
          0.690140845070423,
          0.802816901408451,
          0.915492957746479,
          0.788732394366197,
          0.690140845070423,
          0.704225352112676,
          0.732394366197183,
          0.788732394366197,
          0.690140845070423,
          0.704225352112676,
          0.788732394366197,
          0.76056338028169,
          0.704225352112676,
          0.788732394366197,
          0.690140845070423,
          0.845070422535211,
          0.816901408450704,
          0.71830985915493,
          0.704225352112676,
          0.76056338028169,
          0.704225352112676,
          0.845070422535211,
          0.788732394366197
         ],
         "yaxis": "y"
        },
        {
         "hovertemplate": "<b>%{hovertext}</b><br><br>Success Cathegory=Low Rating & High Revenue<br>Movie Revenue ($), logscale=%{x}<br>Normalized Movie Rating=%{y}<extra></extra>",
         "hovertext": [
          "The Forbidden Kingdom",
          "The Last Song",
          "For Love of the Game",
          "Queen of the Damned",
          "The Other Boleyn Girl",
          "Original Sin",
          "The Stepford Wives",
          "Gulliver's Travels",
          "The Sisterhood of the Traveling Pants",
          "The First Wives Club",
          "Jaws: The Revenge",
          "Where the Wild Things Are",
          "Striptease",
          "Dreamcatcher",
          "Don't Say a Word",
          "Casino Royale",
          "Anna and the King",
          "Dying Young",
          "Airport",
          "The Missing",
          "The American",
          "Freaky Friday",
          "The Nanny Diaries",
          "Moonraker",
          "Message in a Bottle",
          "The Firm",
          "The Chronicles of Narnia: The Voyage of the Dawn Treader",
          "Pirates of the Caribbean: On Stranger Tides",
          "Fever Pitch",
          "War of the Worlds",
          "Pooh's Heffalump Movie",
          "Cocoon",
          "The Running Man",
          "Mercury Rising",
          "Valley of the Dolls",
          "Return to Never Land",
          "Psycho",
          "Babylon A.D.",
          "Pet Sematary",
          "The Invasion",
          "The Blue Lagoon",
          "102 Dalmatians",
          "Air America",
          "Congo",
          "Rambo III",
          "Around the World in 80 Days",
          "Derailed",
          "The Da Vinci Code",
          "The Jackal",
          "Great Expectations",
          "I Am Number Four",
          "The Jungle Book 2",
          "Black Rain",
          "The Ninth Gate",
          "Stuart Little",
          "Timeline",
          "Percy Jackson & the Olympians: The Lightning Thief",
          "Exorcist: The Beginning",
          "The Exorcist III",
          "Live and Let Die",
          "The Witches of Eastwick",
          "The Man in the Iron Mask",
          "The Deep",
          "The Bourne Legacy",
          "Hannibal",
          "Random Hearts",
          "Twilight",
          "The Woman in Black",
          "Jaws 2",
          "The Nutty Professor",
          "Rambo: First Blood Part II",
          "Oliver & Company",
          "Hook",
          "Race to Witch Mountain",
          "The Client",
          "The 13th Warrior",
          "The Princess Diaries 2: Royal Engagement",
          "Nutty Professor II: The Klumps",
          "The War of the Roses",
          "The Beach",
          "Firefox",
          "Psycho II",
          "The Black Hole",
          "The Robe",
          "The Lovely Bones",
          "Diamonds Are Forever",
          "The Spiderwick Chronicles",
          "Never Say Never Again",
          "The Sisterhood of the Traveling Pants 2",
          "Van Helsing",
          "Father of the Bride",
          "Jurassic Park III",
          "The Shaggy Dog",
          "Stuart Little 2",
          "Cobra",
          "Nanny McPhee",
          "The Black Dahlia",
          "I Know What You Did Last Summer",
          "Quest for Camelot",
          "The Man with the Golden Gun",
          "Divine Secrets of the Ya-Ya Sisterhood",
          "Along Came a Spider",
          "Nanny McPhee and the Big Bang",
          "Fletch Lives",
          "Sahara",
          "Exit Wounds",
          "The Lost World: Jurassic Park",
          "Beowulf",
          "Pinocchio",
          "Bridget Jones: The Edge of Reason",
          "Cruel Intentions",
          "The Golden Compass",
          "The Prince of Tides",
          "Journey 2: The Mysterious Island",
          "The Chronicles of Narnia: Prince Caspian",
          "Monte Carlo",
          "The Manchurian Candidate",
          "The Polar Express",
          "The Haunting",
          "On Her Majesty's Secret Service",
          "Diabolique",
          "Sphere",
          "Journey to the Center of the Earth",
          "John Carter",
          "Killer Elite",
          "Charlotte's Web",
          "Dave",
          "The Amityville Horror",
          "Disclosure",
          "Bridget Jones's Diary",
          "The League of Extraordinary Gentlemen",
          "Poseidon",
          "The Three Musketeers",
          "Clueless",
          "The Host",
          "Dear John",
          "The Sum of All Fears",
          "Taps",
          "Hawaii",
          "Planet of the Apes",
          "Charlie and the Chocolate Factory",
          "The Parent Trap",
          "The Three Musketeers",
          "The Lucky One",
          "Confessions of a Shopaholic",
          "Kiss the Girls",
          "The Pelican Brief",
          "Be Cool",
          "Eragon",
          "White Fang",
          "Sleeping with the Enemy",
          "Shaft",
          "The Island of Dr. Moreau",
          "Jaws 3-D",
          "101 Dalmatians",
          "Piglet's Big Movie",
          "The Tigger Movie",
          "Absolute Power",
          "The Time Machine",
          "Rising Sun"
         ],
         "legendgroup": "Low Rating & High Revenue",
         "marker": {
          "color": "#00cc96",
          "symbol": "circle"
         },
         "mode": "markers",
         "name": "Low Rating & High Revenue",
         "orientation": "v",
         "showlegend": true,
         "type": "scatter",
         "x": [
          127906624,
          89137047,
          46112640,
          45479110,
          78269970,
          35402320,
          102000000,
          237382724,
          39053061,
          116400000,
          51881013,
          100140916,
          113309743,
          75700000,
          100020092,
          41744718,
          113996937,
          82264675,
          100489151,
          38364277,
          67876281,
          160846332,
          47817020,
          210308099,
          118880016,
          270248367,
          415686217,
          1045713802,
          50500000,
          603873119,
          52900000,
          85313124,
          38122105,
          93107289,
          50000000,
          109862682,
          37141130,
          72109200,
          57469467,
          40170558,
          58853106,
          183611771,
          57700000,
          152022101,
          189015611,
          72178895,
          57479076,
          767820459,
          159330280,
          55494066,
          149878437,
          135680000,
          134212055,
          58401898,
          300135367,
          43935763,
          226497209,
          78000586,
          39024251,
          126377836,
          63766510,
          182968902,
          100000000,
          276572938,
          351692268,
          74608570,
          393616788,
          127730736,
          187884007,
          128769345,
          300400432,
          74151346,
          300855000,
          106303988,
          117615211,
          61698899,
          134734481,
          123307945,
          160188546,
          144056873,
          70687344,
          34725000,
          35841901,
          36000000,
          93621340,
          116019547,
          164170327,
          160000000,
          44352417,
          300257475,
          89325780,
          368780809,
          87134280,
          169956806,
          49042224,
          123276807,
          49111202,
          125586134,
          38172500,
          97572000,
          73839240,
          105178561,
          93251121,
          35150960,
          119269486,
          79958599,
          618638999,
          195735876,
          41323171,
          262500000,
          76347426,
          372234864,
          74787599,
          355692760,
          419665568,
          39782683,
          96105964,
          310634054,
          177311151,
          64574493,
          52400000,
          37020277,
          101702060,
          284139100,
          57777106,
          144000000,
          92000000,
          108047131,
          214015089,
          281929795,
          179265204,
          181674817,
          132274484,
          56631572,
          63327201,
          114977104,
          193921372,
          35856053,
          34562222,
          362211740,
          474968763,
          92108518,
          53898845,
          99357138,
          108332743,
          60527873,
          195268056,
          95226116,
          249288105,
          34793160,
          174999005,
          107626125,
          49627779,
          87987055,
          320689294,
          62870546,
          45554533,
          50068310,
          123729176,
          107198790
         ],
         "xaxis": "x",
         "y": [
          0.633802816901408,
          0.535211267605634,
          0.633802816901408,
          0.450704225352113,
          0.647887323943662,
          0.549295774647887,
          0.450704225352113,
          0.394366197183099,
          0.619718309859155,
          0.591549295774648,
          0.112676056338028,
          0.661971830985915,
          0.323943661971831,
          0.47887323943662,
          0.591549295774648,
          0.436619718309859,
          0.647887323943662,
          0.549295774647887,
          0.633802816901408,
          0.619718309859155,
          0.591549295774648,
          0.577464788732394,
          0.577464788732394,
          0.591549295774648,
          0.577464788732394,
          0.661971830985915,
          0.591549295774648,
          0.633802816901408,
          0.577464788732394,
          0.619718309859155,
          0.605633802816901,
          0.647887323943662,
          0.647887323943662,
          0.563380281690141,
          0.549295774647887,
          0.52112676056338,
          0.352112676056338,
          0.492957746478873,
          0.633802816901408,
          0.535211267605634,
          0.507042253521127,
          0.394366197183099,
          0.52112676056338,
          0.422535211267606,
          0.52112676056338,
          0.535211267605634,
          0.633802816901408,
          0.633802816901408,
          0.605633802816901,
          0.661971830985915,
          0.563380281690141,
          0.464788732394366,
          0.633802816901408,
          0.647887323943662,
          0.535211267605634,
          0.492957746478873,
          0.535211267605634,
          0.422535211267606,
          0.591549295774648,
          0.661971830985915,
          0.619718309859155,
          0.619718309859155,
          0.577464788732394,
          0.647887323943662,
          0.661971830985915,
          0.422535211267606,
          0.436619718309859,
          0.605633802816901,
          0.507042253521127,
          0.492957746478873,
          0.605633802816901,
          0.647887323943662,
          0.647887323943662,
          0.507042253521127,
          0.647887323943662,
          0.633802816901408,
          0.52112676056338,
          0.323943661971831,
          0.661971830985915,
          0.633802816901408,
          0.535211267605634,
          0.605633802816901,
          0.535211267605634,
          0.661971830985915,
          0.647887323943662,
          0.647887323943662,
          0.633802816901408,
          0.577464788732394,
          0.577464788732394,
          0.563380281690141,
          0.619718309859155,
          0.535211267605634,
          0.323943661971831,
          0.47887323943662,
          0.507042253521127,
          0.633802816901408,
          0.492957746478873,
          0.507042253521127,
          0.591549295774648,
          0.661971830985915,
          0.549295774647887,
          0.591549295774648,
          0.563380281690141,
          0.563380281690141,
          0.549295774647887,
          0.47887323943662,
          0.619718309859155,
          0.577464788732394,
          0.309859154929577,
          0.549295774647887,
          0.661971830985915,
          0.563380281690141,
          0.647887323943662,
          0.52112676056338,
          0.619718309859155,
          0.52112676056338,
          0.633802816901408,
          0.633802816901408,
          0.394366197183099,
          0.661971830985915,
          0.464788732394366,
          0.563380281690141,
          0.52112676056338,
          0.633802816901408,
          0.619718309859155,
          0.591549295774648,
          0.661971830985915,
          0.549295774647887,
          0.563380281690141,
          0.647887323943662,
          0.52112676056338,
          0.492957746478873,
          0.52112676056338,
          0.661971830985915,
          0.535211267605634,
          0.591549295774648,
          0.605633802816901,
          0.661971830985915,
          0.633802816901408,
          0.507042253521127,
          0.647887323943662,
          0.619718309859155,
          0.605633802816901,
          0.619718309859155,
          0.535211267605634,
          0.633802816901408,
          0.633802816901408,
          0.507042253521127,
          0.422535211267606,
          0.647887323943662,
          0.577464788732394,
          0.535211267605634,
          0.338028169014085,
          0.211267605633803,
          0.507042253521127,
          0.563380281690141,
          0.591549295774648,
          0.647887323943662,
          0.535211267605634,
          0.577464788732394
         ],
         "yaxis": "y"
        },
        {
         "hovertemplate": "<b>%{hovertext}</b><br><br>Success Cathegory=Low Rating & Low Revenue<br>Movie Revenue ($), logscale=%{x}<br>Normalized Movie Rating=%{y}<extra></extra>",
         "hovertext": [
          "Beastmaster 2: Through the Portal of Time",
          "Shaft",
          "Bee Season",
          "The Birth of a Nation",
          "Cirque du Freak: The Vampire's Assistant",
          "Battlefield Earth",
          "In Country",
          "Airport '77",
          "Vanity Fair",
          "Johnny Handsome",
          "Gigi",
          "Force 10 from Navarone",
          "The Invisible Woman",
          "The Hot Rock",
          "Body Snatchers",
          "Dune",
          "Emma",
          "Freedomland",
          "Invisible Agent",
          "Beloved",
          "The NeverEnding Story II: The Next Chapter",
          "The Adventures of Huck Finn",
          "Possession",
          "Conquest of the Planet of the Apes",
          "Lifeforce",
          "The Apple Dumpling Gang Rides Again",
          "The Beastmaster",
          "Shalako",
          "Blue Fin",
          "Zardoz",
          "Dragon Seed",
          "Vampires",
          "The Wind in the Willows",
          "Billy Bathgate",
          "The Bonfire of the Vanities",
          "A Farewell to Arms",
          "Wolfen",
          "The Sea Beast",
          "Straw Dogs",
          "The Bedroom Window",
          "The Adventures of Huckleberry Finn",
          "Tarzan and the Lost City",
          "The Pope of Greenwich Village",
          "Black Knight",
          "The Postman",
          "The Drowning Pool",
          "Anthony Adverse",
          "Return to the Blue Lagoon",
          "Blood Work",
          "Escape from the Planet of the Apes",
          "The Shipping News",
          "Flight of the Phoenix",
          "Ice Station Zebra",
          "Ride with the Devil",
          "Farewell to the King",
          "Mary Reilly",
          "Cry Wolf",
          "Sex Drive",
          "Fair Game",
          "Cimarron",
          "Pinocchio and the Emperor of the Night",
          "The Wiz",
          "Ivanhoe",
          "The Swarm",
          "The Scarlet Letter",
          "Dominion: Prequel to the Exorcist",
          "Battle for the Planet of the Apes",
          "Frankenstein Unbound",
          "Dad",
          "The Big Bounce",
          "Bad Girl",
          "Big Trouble",
          "Logan's Run",
          "The Golden Bowl",
          "Desperate Hours",
          "The Island",
          "James and the Giant Peach",
          "Return of the Living Dead 3",
          "The Killer Inside Me",
          "Solaris",
          "Flicka",
          "City of Ember",
          "The Shaggy Dog",
          "Lost Horizon",
          "Cocoon: The Return",
          "The Human Stain",
          "An Awfully Big Adventure",
          "The Detective",
          "The Caveman's Valentine",
          "Bad Moon",
          "Something Wicked This Way Comes",
          "Amityville II: The Possession",
          "The Watcher in the Woods",
          "Elegy",
          "Exodus",
          "The Razor's Edge",
          "Return to Oz",
          "Exorcist II: The Heretic",
          "The Painted Veil",
          "Silver Bullet",
          "The Deep End of the Ocean",
          "Topaz",
          "Bringing Out the Dead",
          "Village of the Damned",
          "The Fury",
          "Funny Farm",
          "All the King's Men",
          "Where the Boys Are",
          "The Clan of the Cave Bear",
          "The Door in the Floor",
          "The Egyptian",
          "December Boys",
          "Christine",
          "Freejack",
          "Death Sentence",
          "The King and I",
          "The Good German",
          "Anna Karenina",
          "The Four Feathers",
          "Family Plot",
          "Bel Ami",
          "The Pleasure Seekers",
          "The Fan",
          "When Worlds Collide",
          "Willard",
          "Bright Lights, Big City",
          "Young Adam",
          "The Great Gatsby",
          "Alatriste",
          "The Postman Always Rings Twice",
          "The Deep End",
          "Flight of the Intruder",
          "The Musketeer",
          "Gods and Generals",
          "Woman Thou Art Loosed",
          "Black Sunday",
          "The Hand",
          "Return of the Living Dead Part II",
          "The Fan",
          "King Solomon's Mines",
          "The Howling",
          "At Play in the Fields of the Lord",
          "The Black Cauldron",
          "Hart's War",
          "Buck Rogers in the 25th Century",
          "Firestarter",
          "Psycho III",
          "Abandon",
          "Brideshead Revisited",
          "The Rules of Attraction",
          "The Chamber",
          "Beneath the Planet of the Apes",
          "Shaft in Africa"
         ],
         "legendgroup": "Low Rating & Low Revenue",
         "marker": {
          "color": "#ab63fa",
          "symbol": "circle"
         },
         "mode": "markers",
         "name": "Low Rating & Low Revenue",
         "orientation": "v",
         "showlegend": true,
         "type": "scatter",
         "x": [
          869325,
          12121618,
          6856989,
          11000000,
          28169671,
          29000000,
          3531971,
          30000000,
          16123851,
          7237794,
          13200000,
          7230000,
          659600,
          3500000,
          428868,
          30925690,
          22231658,
          14655628,
          1040000,
          22900000,
          16283667,
          24103594,
          10113733,
          9700000,
          11603545,
          20931111,
          14056528,
          2620000,
          703,
          1800000,
          4627000,
          20308772,
          2300000,
          15565363,
          15691192,
          20000000,
          10626725,
          938000,
          10324441,
          12640385,
          2750000,
          2172941,
          6836201,
          33422806,
          17626234,
          2600000,
          2750000,
          2807854,
          31794718,
          12348905,
          24690441,
          21009180,
          4600000,
          635096,
          2420917,
          12379402,
          2690000,
          18755936,
          11534477,
          1383000,
          3261638,
          21049053,
          10878000,
          7700000,
          10382407,
          251495,
          8844595,
          334748,
          19738015,
          6808550,
          1100000,
          8493890,
          25000000,
          5753678,
          2742912,
          15700000,
          28946127,
          54207,
          3977192,
          30002758,
          21000000,
          17869048,
          17658000,
          3800000,
          25024919,
          24900000,
          851545,
          6500000,
          794481,
          1100000,
          8400000,
          12534817,
          5000000,
          14894347,
          21750000,
          6551987,
          11137801,
          30749142,
          1120000,
          12400000,
          28121100,
          6000000,
          16800000,
          9418365,
          24000000,
          25537221,
          9450897,
          3500000,
          1953732,
          6715067,
          15000000,
          46474,
          21200000,
          17129026,
          16974459,
          12000000,
          5914908,
          858553,
          29882645,
          7900000,
          8303261,
          2000000,
          3100000,
          1600000,
          8564586,
          16118077,
          2500000,
          26533200,
          23321954,
          12376625,
          10031529,
          14587732,
          27053815,
          12923936,
          6804016,
          15769322,
          566736,
          9205924,
          18626419,
          15057465,
          17985893,
          1345903,
          21288692,
          32287044,
          21700000,
          17080167,
          14481606,
          10719357,
          13204291,
          11832822,
          22540359,
          18999718,
          1458000
         ],
         "xaxis": "x",
         "y": [
          0.253521126760563,
          0.633802816901408,
          0.47887323943662,
          0.633802816901408,
          0.535211267605634,
          0.0563380281690141,
          0.535211267605634,
          0.492957746478873,
          0.577464788732394,
          0.563380281690141,
          0.661971830985915,
          0.605633802816901,
          0.577464788732394,
          0.661971830985915,
          0.535211267605634,
          0.633802816901408,
          0.647887323943662,
          0.422535211267606,
          0.563380281690141,
          0.535211267605634,
          0.422535211267606,
          0.577464788732394,
          0.605633802816901,
          0.563380281690141,
          0.563380281690141,
          0.549295774647887,
          0.577464788732394,
          0.47887323943662,
          0.563380281690141,
          0.535211267605634,
          0.577464788732394,
          0.563380281690141,
          0.591549295774648,
          0.535211267605634,
          0.47887323943662,
          0.535211267605634,
          0.591549295774648,
          0.633802816901408,
          0.52112676056338,
          0.605633802816901,
          0.591549295774648,
          0.267605633802817,
          0.647887323943662,
          0.380281690140845,
          0.549295774647887,
          0.619718309859155,
          0.619718309859155,
          0.436619718309859,
          0.605633802816901,
          0.591549295774648,
          0.661971830985915,
          0.563380281690141,
          0.633802816901408,
          0.661971830985915,
          0.591549295774648,
          0.52112676056338,
          0.633802816901408,
          0.619718309859155,
          0.295774647887324,
          0.549295774647887,
          0.661971830985915,
          0.450704225352113,
          0.661971830985915,
          0.323943661971831,
          0.436619718309859,
          0.450704225352113,
          0.47887323943662,
          0.47887323943662,
          0.577464788732394,
          0.394366197183099,
          0.633802816901408,
          0.619718309859155,
          0.661971830985915,
          0.549295774647887,
          0.464788732394366,
          0.450704225352113,
          0.647887323943662,
          0.535211267605634,
          0.563380281690141,
          0.577464788732394,
          0.577464788732394,
          0.619718309859155,
          0.619718309859155,
          0.450704225352113,
          0.450704225352113,
          0.591549295774648,
          0.549295774647887,
          0.619718309859155,
          0.535211267605634,
          0.52112676056338,
          0.661971830985915,
          0.47887323943662,
          0.605633802816901,
          0.661971830985915,
          0.661971830985915,
          0.633802816901408,
          0.661971830985915,
          0.225352112676056,
          0.647887323943662,
          0.605633802816901,
          0.605633802816901,
          0.591549295774648,
          0.661971830985915,
          0.492957746478873,
          0.605633802816901,
          0.577464788732394,
          0.577464788732394,
          0.647887323943662,
          0.464788732394366,
          0.647887323943662,
          0.633802816901408,
          0.633802816901408,
          0.647887323943662,
          0.450704225352113,
          0.661971830985915,
          0.295774647887324,
          0.563380281690141,
          0.605633802816901,
          0.619718309859155,
          0.661971830985915,
          0.464788732394366,
          0.507042253521127,
          0.52112676056338,
          0.647887323943662,
          0.577464788732394,
          0.507042253521127,
          0.619718309859155,
          0.605633802816901,
          0.563380281690141,
          0.633802816901408,
          0.633802816901408,
          0.52112676056338,
          0.380281690140845,
          0.605633802816901,
          0.661971830985915,
          0.661971830985915,
          0.464788732394366,
          0.52112676056338,
          0.52112676056338,
          0.436619718309859,
          0.633802816901408,
          0.661971830985915,
          0.619718309859155,
          0.591549295774648,
          0.633802816901408,
          0.549295774647887,
          0.450704225352113,
          0.394366197183099,
          0.647887323943662,
          0.647887323943662,
          0.549295774647887,
          0.563380281690141,
          0.549295774647887
         ],
         "yaxis": "y"
        }
       ],
       "layout": {
        "height": 500,
        "legend": {
         "title": {
          "text": "Success Cathegory"
         },
         "tracegroupgap": 0
        },
        "shapes": [
         {
          "line": {
           "color": "Gray",
           "dash": "dash",
           "width": 1
          },
          "type": "line",
          "x0": 34562222,
          "x1": 34562222,
          "y0": 0.0563380281690141,
          "y1": 1
         },
         {
          "line": {
           "color": "Gray",
           "dash": "dash",
           "width": 1
          },
          "type": "line",
          "x0": 201,
          "x1": 1341511219,
          "y0": 0.676056338028169,
          "y1": 0.676056338028169
         }
        ],
        "template": {
         "data": {
          "bar": [
           {
            "error_x": {
             "color": "#2a3f5f"
            },
            "error_y": {
             "color": "#2a3f5f"
            },
            "marker": {
             "line": {
              "color": "white",
              "width": 0.5
             },
             "pattern": {
              "fillmode": "overlay",
              "size": 10,
              "solidity": 0.2
             }
            },
            "type": "bar"
           }
          ],
          "barpolar": [
           {
            "marker": {
             "line": {
              "color": "white",
              "width": 0.5
             },
             "pattern": {
              "fillmode": "overlay",
              "size": 10,
              "solidity": 0.2
             }
            },
            "type": "barpolar"
           }
          ],
          "carpet": [
           {
            "aaxis": {
             "endlinecolor": "#2a3f5f",
             "gridcolor": "#C8D4E3",
             "linecolor": "#C8D4E3",
             "minorgridcolor": "#C8D4E3",
             "startlinecolor": "#2a3f5f"
            },
            "baxis": {
             "endlinecolor": "#2a3f5f",
             "gridcolor": "#C8D4E3",
             "linecolor": "#C8D4E3",
             "minorgridcolor": "#C8D4E3",
             "startlinecolor": "#2a3f5f"
            },
            "type": "carpet"
           }
          ],
          "choropleth": [
           {
            "colorbar": {
             "outlinewidth": 0,
             "ticks": ""
            },
            "type": "choropleth"
           }
          ],
          "contour": [
           {
            "colorbar": {
             "outlinewidth": 0,
             "ticks": ""
            },
            "colorscale": [
             [
              0,
              "#0d0887"
             ],
             [
              0.1111111111111111,
              "#46039f"
             ],
             [
              0.2222222222222222,
              "#7201a8"
             ],
             [
              0.3333333333333333,
              "#9c179e"
             ],
             [
              0.4444444444444444,
              "#bd3786"
             ],
             [
              0.5555555555555556,
              "#d8576b"
             ],
             [
              0.6666666666666666,
              "#ed7953"
             ],
             [
              0.7777777777777778,
              "#fb9f3a"
             ],
             [
              0.8888888888888888,
              "#fdca26"
             ],
             [
              1,
              "#f0f921"
             ]
            ],
            "type": "contour"
           }
          ],
          "contourcarpet": [
           {
            "colorbar": {
             "outlinewidth": 0,
             "ticks": ""
            },
            "type": "contourcarpet"
           }
          ],
          "heatmap": [
           {
            "colorbar": {
             "outlinewidth": 0,
             "ticks": ""
            },
            "colorscale": [
             [
              0,
              "#0d0887"
             ],
             [
              0.1111111111111111,
              "#46039f"
             ],
             [
              0.2222222222222222,
              "#7201a8"
             ],
             [
              0.3333333333333333,
              "#9c179e"
             ],
             [
              0.4444444444444444,
              "#bd3786"
             ],
             [
              0.5555555555555556,
              "#d8576b"
             ],
             [
              0.6666666666666666,
              "#ed7953"
             ],
             [
              0.7777777777777778,
              "#fb9f3a"
             ],
             [
              0.8888888888888888,
              "#fdca26"
             ],
             [
              1,
              "#f0f921"
             ]
            ],
            "type": "heatmap"
           }
          ],
          "heatmapgl": [
           {
            "colorbar": {
             "outlinewidth": 0,
             "ticks": ""
            },
            "colorscale": [
             [
              0,
              "#0d0887"
             ],
             [
              0.1111111111111111,
              "#46039f"
             ],
             [
              0.2222222222222222,
              "#7201a8"
             ],
             [
              0.3333333333333333,
              "#9c179e"
             ],
             [
              0.4444444444444444,
              "#bd3786"
             ],
             [
              0.5555555555555556,
              "#d8576b"
             ],
             [
              0.6666666666666666,
              "#ed7953"
             ],
             [
              0.7777777777777778,
              "#fb9f3a"
             ],
             [
              0.8888888888888888,
              "#fdca26"
             ],
             [
              1,
              "#f0f921"
             ]
            ],
            "type": "heatmapgl"
           }
          ],
          "histogram": [
           {
            "marker": {
             "pattern": {
              "fillmode": "overlay",
              "size": 10,
              "solidity": 0.2
             }
            },
            "type": "histogram"
           }
          ],
          "histogram2d": [
           {
            "colorbar": {
             "outlinewidth": 0,
             "ticks": ""
            },
            "colorscale": [
             [
              0,
              "#0d0887"
             ],
             [
              0.1111111111111111,
              "#46039f"
             ],
             [
              0.2222222222222222,
              "#7201a8"
             ],
             [
              0.3333333333333333,
              "#9c179e"
             ],
             [
              0.4444444444444444,
              "#bd3786"
             ],
             [
              0.5555555555555556,
              "#d8576b"
             ],
             [
              0.6666666666666666,
              "#ed7953"
             ],
             [
              0.7777777777777778,
              "#fb9f3a"
             ],
             [
              0.8888888888888888,
              "#fdca26"
             ],
             [
              1,
              "#f0f921"
             ]
            ],
            "type": "histogram2d"
           }
          ],
          "histogram2dcontour": [
           {
            "colorbar": {
             "outlinewidth": 0,
             "ticks": ""
            },
            "colorscale": [
             [
              0,
              "#0d0887"
             ],
             [
              0.1111111111111111,
              "#46039f"
             ],
             [
              0.2222222222222222,
              "#7201a8"
             ],
             [
              0.3333333333333333,
              "#9c179e"
             ],
             [
              0.4444444444444444,
              "#bd3786"
             ],
             [
              0.5555555555555556,
              "#d8576b"
             ],
             [
              0.6666666666666666,
              "#ed7953"
             ],
             [
              0.7777777777777778,
              "#fb9f3a"
             ],
             [
              0.8888888888888888,
              "#fdca26"
             ],
             [
              1,
              "#f0f921"
             ]
            ],
            "type": "histogram2dcontour"
           }
          ],
          "mesh3d": [
           {
            "colorbar": {
             "outlinewidth": 0,
             "ticks": ""
            },
            "type": "mesh3d"
           }
          ],
          "parcoords": [
           {
            "line": {
             "colorbar": {
              "outlinewidth": 0,
              "ticks": ""
             }
            },
            "type": "parcoords"
           }
          ],
          "pie": [
           {
            "automargin": true,
            "type": "pie"
           }
          ],
          "scatter": [
           {
            "fillpattern": {
             "fillmode": "overlay",
             "size": 10,
             "solidity": 0.2
            },
            "type": "scatter"
           }
          ],
          "scatter3d": [
           {
            "line": {
             "colorbar": {
              "outlinewidth": 0,
              "ticks": ""
             }
            },
            "marker": {
             "colorbar": {
              "outlinewidth": 0,
              "ticks": ""
             }
            },
            "type": "scatter3d"
           }
          ],
          "scattercarpet": [
           {
            "marker": {
             "colorbar": {
              "outlinewidth": 0,
              "ticks": ""
             }
            },
            "type": "scattercarpet"
           }
          ],
          "scattergeo": [
           {
            "marker": {
             "colorbar": {
              "outlinewidth": 0,
              "ticks": ""
             }
            },
            "type": "scattergeo"
           }
          ],
          "scattergl": [
           {
            "marker": {
             "colorbar": {
              "outlinewidth": 0,
              "ticks": ""
             }
            },
            "type": "scattergl"
           }
          ],
          "scattermapbox": [
           {
            "marker": {
             "colorbar": {
              "outlinewidth": 0,
              "ticks": ""
             }
            },
            "type": "scattermapbox"
           }
          ],
          "scatterpolar": [
           {
            "marker": {
             "colorbar": {
              "outlinewidth": 0,
              "ticks": ""
             }
            },
            "type": "scatterpolar"
           }
          ],
          "scatterpolargl": [
           {
            "marker": {
             "colorbar": {
              "outlinewidth": 0,
              "ticks": ""
             }
            },
            "type": "scatterpolargl"
           }
          ],
          "scatterternary": [
           {
            "marker": {
             "colorbar": {
              "outlinewidth": 0,
              "ticks": ""
             }
            },
            "type": "scatterternary"
           }
          ],
          "surface": [
           {
            "colorbar": {
             "outlinewidth": 0,
             "ticks": ""
            },
            "colorscale": [
             [
              0,
              "#0d0887"
             ],
             [
              0.1111111111111111,
              "#46039f"
             ],
             [
              0.2222222222222222,
              "#7201a8"
             ],
             [
              0.3333333333333333,
              "#9c179e"
             ],
             [
              0.4444444444444444,
              "#bd3786"
             ],
             [
              0.5555555555555556,
              "#d8576b"
             ],
             [
              0.6666666666666666,
              "#ed7953"
             ],
             [
              0.7777777777777778,
              "#fb9f3a"
             ],
             [
              0.8888888888888888,
              "#fdca26"
             ],
             [
              1,
              "#f0f921"
             ]
            ],
            "type": "surface"
           }
          ],
          "table": [
           {
            "cells": {
             "fill": {
              "color": "#EBF0F8"
             },
             "line": {
              "color": "white"
             }
            },
            "header": {
             "fill": {
              "color": "#C8D4E3"
             },
             "line": {
              "color": "white"
             }
            },
            "type": "table"
           }
          ]
         },
         "layout": {
          "annotationdefaults": {
           "arrowcolor": "#2a3f5f",
           "arrowhead": 0,
           "arrowwidth": 1
          },
          "autotypenumbers": "strict",
          "coloraxis": {
           "colorbar": {
            "outlinewidth": 0,
            "ticks": ""
           }
          },
          "colorscale": {
           "diverging": [
            [
             0,
             "#8e0152"
            ],
            [
             0.1,
             "#c51b7d"
            ],
            [
             0.2,
             "#de77ae"
            ],
            [
             0.3,
             "#f1b6da"
            ],
            [
             0.4,
             "#fde0ef"
            ],
            [
             0.5,
             "#f7f7f7"
            ],
            [
             0.6,
             "#e6f5d0"
            ],
            [
             0.7,
             "#b8e186"
            ],
            [
             0.8,
             "#7fbc41"
            ],
            [
             0.9,
             "#4d9221"
            ],
            [
             1,
             "#276419"
            ]
           ],
           "sequential": [
            [
             0,
             "#0d0887"
            ],
            [
             0.1111111111111111,
             "#46039f"
            ],
            [
             0.2222222222222222,
             "#7201a8"
            ],
            [
             0.3333333333333333,
             "#9c179e"
            ],
            [
             0.4444444444444444,
             "#bd3786"
            ],
            [
             0.5555555555555556,
             "#d8576b"
            ],
            [
             0.6666666666666666,
             "#ed7953"
            ],
            [
             0.7777777777777778,
             "#fb9f3a"
            ],
            [
             0.8888888888888888,
             "#fdca26"
            ],
            [
             1,
             "#f0f921"
            ]
           ],
           "sequentialminus": [
            [
             0,
             "#0d0887"
            ],
            [
             0.1111111111111111,
             "#46039f"
            ],
            [
             0.2222222222222222,
             "#7201a8"
            ],
            [
             0.3333333333333333,
             "#9c179e"
            ],
            [
             0.4444444444444444,
             "#bd3786"
            ],
            [
             0.5555555555555556,
             "#d8576b"
            ],
            [
             0.6666666666666666,
             "#ed7953"
            ],
            [
             0.7777777777777778,
             "#fb9f3a"
            ],
            [
             0.8888888888888888,
             "#fdca26"
            ],
            [
             1,
             "#f0f921"
            ]
           ]
          },
          "colorway": [
           "#636efa",
           "#EF553B",
           "#00cc96",
           "#ab63fa",
           "#FFA15A",
           "#19d3f3",
           "#FF6692",
           "#B6E880",
           "#FF97FF",
           "#FECB52"
          ],
          "font": {
           "color": "#2a3f5f"
          },
          "geo": {
           "bgcolor": "white",
           "lakecolor": "white",
           "landcolor": "white",
           "showlakes": true,
           "showland": true,
           "subunitcolor": "#C8D4E3"
          },
          "hoverlabel": {
           "align": "left"
          },
          "hovermode": "closest",
          "mapbox": {
           "style": "light"
          },
          "paper_bgcolor": "white",
          "plot_bgcolor": "white",
          "polar": {
           "angularaxis": {
            "gridcolor": "#EBF0F8",
            "linecolor": "#EBF0F8",
            "ticks": ""
           },
           "bgcolor": "white",
           "radialaxis": {
            "gridcolor": "#EBF0F8",
            "linecolor": "#EBF0F8",
            "ticks": ""
           }
          },
          "scene": {
           "xaxis": {
            "backgroundcolor": "white",
            "gridcolor": "#DFE8F3",
            "gridwidth": 2,
            "linecolor": "#EBF0F8",
            "showbackground": true,
            "ticks": "",
            "zerolinecolor": "#EBF0F8"
           },
           "yaxis": {
            "backgroundcolor": "white",
            "gridcolor": "#DFE8F3",
            "gridwidth": 2,
            "linecolor": "#EBF0F8",
            "showbackground": true,
            "ticks": "",
            "zerolinecolor": "#EBF0F8"
           },
           "zaxis": {
            "backgroundcolor": "white",
            "gridcolor": "#DFE8F3",
            "gridwidth": 2,
            "linecolor": "#EBF0F8",
            "showbackground": true,
            "ticks": "",
            "zerolinecolor": "#EBF0F8"
           }
          },
          "shapedefaults": {
           "line": {
            "color": "#2a3f5f"
           }
          },
          "ternary": {
           "aaxis": {
            "gridcolor": "#DFE8F3",
            "linecolor": "#A2B1C6",
            "ticks": ""
           },
           "baxis": {
            "gridcolor": "#DFE8F3",
            "linecolor": "#A2B1C6",
            "ticks": ""
           },
           "bgcolor": "white",
           "caxis": {
            "gridcolor": "#DFE8F3",
            "linecolor": "#A2B1C6",
            "ticks": ""
           }
          },
          "title": {
           "x": 0.05
          },
          "xaxis": {
           "automargin": true,
           "gridcolor": "#EBF0F8",
           "linecolor": "#EBF0F8",
           "ticks": "",
           "title": {
            "standoff": 15
           },
           "zerolinecolor": "#EBF0F8",
           "zerolinewidth": 2
          },
          "yaxis": {
           "automargin": true,
           "gridcolor": "#EBF0F8",
           "linecolor": "#EBF0F8",
           "ticks": "",
           "title": {
            "standoff": 15
           },
           "zerolinecolor": "#EBF0F8",
           "zerolinewidth": 2
          }
         }
        },
        "title": {
         "text": "Revenue vs. Movie Ratings"
        },
        "width": 900,
        "xaxis": {
         "anchor": "y",
         "domain": [
          0,
          1
         ],
         "title": {
          "text": "Movie Revenue ($), logscale"
         },
         "type": "log"
        },
        "yaxis": {
         "anchor": "x",
         "domain": [
          0,
          1
         ],
         "title": {
          "text": "Normalized Movie Rating"
         }
        }
       }
      }
     },
     "metadata": {},
     "output_type": "display_data"
    }
   ],
   "source": [
    "# We want to check which movies are successful based on the two characteristics revenue and movie ratings. We will show four quadrants each containing about a quarter of movies. \n",
    "gu.quadrant_revenue(data, 'revenue', title='Revenue vs. Movie Ratings')"
   ]
  },
  {
   "cell_type": "markdown",
   "metadata": {},
   "source": [
    "The four categories that have been defined are dependend on the median movie ratings and the median movie revenues. This gives four categories of movies measured on the success metrics that were defined in the project description. There may be some essential differences between movies in the different quadrants of this plot that should be investigated further."
   ]
  },
  {
   "cell_type": "markdown",
   "metadata": {},
   "source": [
    "### Revenue Adaptation for inflation\n",
    "We use the same approach as discussed in this article: https://towardsdatascience.com/adjusting-prices-for-inflation-in-pandas-daaaa782cd89 \n",
    "\n",
    "We use the data from here: https://fred.stlouisfed.org/series/CPIAUCNS "
   ]
  },
  {
   "cell_type": "code",
   "execution_count": 46,
   "metadata": {},
   "outputs": [
    {
     "data": {
      "application/vnd.plotly.v1+json": {
       "config": {
        "plotlyServerURL": "https://plot.ly"
       },
       "data": [
        {
         "hovertemplate": "<extra></extra>",
         "legendgroup": "",
         "marker": {
          "color": "#636efa",
          "symbol": "circle"
         },
         "mode": "markers",
         "name": "",
         "orientation": "v",
         "showlegend": false,
         "type": "scatter",
         "xaxis": "x",
         "yaxis": "y"
        },
        {
         "hovertext": [
          "Mary Poppins",
          "The Siege of Trencher's Farm",
          "Journey to the West",
          "The Beast Master",
          "Shaft",
          "The Last Song",
          "For Love of the Game",
          "The Queen of the Damned",
          "Laura",
          "The Last Picture Show",
          "Red Alert",
          "Zorba the Greek",
          "Lolita",
          "Bee Season",
          "The Other Boleyn Girl",
          "L.A. Confidential",
          "Giant",
          "Waltz into Darkness",
          "Cirque Du Freak: The Saga of Darren Shan",
          "Tarzan",
          "Pharaoh",
          "Battlefield Earth",
          "No Country for Old Men",
          "The Rescuers",
          "Altered States",
          "The Stepford Wives",
          "Death Wish",
          "Vengeance",
          "Be Ready with Bells and Drums",
          "Millennium",
          "The Wonderful Wizard of Oz",
          "Gulliver's Travels",
          "A Stir of Echoes",
          "The Secret Life of Bees",
          "Charlie and the Chocolate Factory",
          "The Hustler",
          "The Iron Man",
          "Catch-22",
          "In Country",
          "War Horse",
          "The Sisterhood of the Traveling Pants",
          "The Sand Pebbles",
          "The Time Traveler's Wife",
          "Howards End",
          "Les Liaisons dangereuses",
          "Eye of the Needle",
          "The First Wives Club",
          "Jaws",
          "Airport",
          "Where the Wild Things Are",
          "Strip Tease",
          "Rum Punch",
          "Dreamcatcher",
          "Harry Potter and the Half-Blood Prince",
          "Vanity Fair",
          "Don't Say a Word",
          "Casino Royale",
          "The Desperate Hours",
          "The Three Worlds of Johnny Handsome",
          "The Night of the Iguana",
          "Bourne",
          "Clockers",
          "Anna and the King of Siam",
          "The Lord of the Rings",
          "Dying Young",
          "Gigi",
          "Airport",
          "The Hunchback of Notre-Dame",
          "The Poseidon Adventure",
          "The Last Ride",
          "A Very Private Gentleman",
          "Force 10 From Navarone",
          "Freaky Friday",
          "The Adventures of Pinocchio",
          "The Name of the Rose",
          "The Nanny Diaries",
          "Anna Karenina",
          "Frankenstein",
          "Harry Potter and the Goblet of Fire",
          "The Hunter",
          "Moonraker",
          "Lay This Laurel",
          "The Invisible Man",
          "Gentlemen Prefer Blondes",
          "I Am Legend",
          "American Psycho",
          "Voyage au centre de la Terre",
          "Message in a Bottle",
          "The Hot Rock",
          "To Catch a Thief",
          "The Body Snatchers",
          "The Long Goodbye",
          "Dune",
          "The Firm",
          "Dances with Wolves",
          "The Chronicles of Narnia",
          "The Luck of Barry Lyndon",
          "On Stranger Tides",
          "Emma",
          "Fever Pitch",
          "Freedomland",
          "The Big Sleep",
          "Red Dragon",
          "The Invisible Man",
          "The War of the Worlds",
          "Rebecca",
          "Beloved",
          "Winnie-the-Pooh",
          "The Silence of the Lambs",
          "The Neverending Story",
          "Enemy Mine",
          "Adventures of Huckleberry Finn",
          "Possession: A Romance",
          "Cocoon",
          "Clear and Present Danger",
          "Bourne",
          "The Andromeda Strain",
          "The Reader",
          "La Planète des singes",
          "La Planète des singes",
          "The Joy Luck Club",
          "The Prince and the Pauper",
          "Moby-Dick",
          "The Cowboys",
          "The Boy in the Striped Pyjamas",
          "Six Days of the Condor",
          "The Rescuers",
          "The Children of Men",
          "Harry Potter and the Order of the Phoenix",
          "The Ghost",
          "Lolita",
          "The Space Vampires",
          "Stardust",
          "Waltz into Darkness",
          "Winnie-the-Pooh",
          "The Running Man",
          "Simple Simon",
          "The Apple Dumpling Gang",
          "Il disprezzo",
          "After Hours",
          "Addie Pray",
          "Millennium",
          "Valley of the Dolls",
          "Peter Pan, or The Boy Who Wouldn't Grow Up",
          "Psycho",
          "Tess of the d'Urbervilles",
          "The Beast Master",
          "Babylon Babies",
          "Shalako",
          "Pet Sematary",
          "Blue Fin",
          "The Wonderful Wizard of Oz",
          "Dragon Seed",
          "Vampire$",
          "The Wind in the Willows",
          "The Body Snatchers",
          "The Blue Lagoon",
          "Marathon Man",
          "Mute Witness",
          "The Hundred and One Dalmatians",
          "Billy Bathgate",
          "Millennium",
          "Air America",
          "Congo",
          "About a Boy",
          "Les Misérables",
          "The Bonfire of the Vanities",
          "Peter Pan, or The Boy Who Wouldn't Grow Up",
          "Double Indemnity",
          "Oliver Twist",
          "Uncle Remus",
          "First Blood",
          "A Farewell to Arms",
          "Sideways",
          "Le tour du monde en quatre-vingts jours",
          "The Black Stallion",
          "Derailed",
          "The Exorcist",
          "First Blood",
          "Birdy",
          "All the Brothers Were Valiant",
          "Ben-Hur: A Tale of the Christ",
          "The Da Vinci Code",
          "Duel in the Sun",
          "The Wolfen",
          "The Hunter",
          "Moby-Dick",
          "The Mysterious Island",
          "The Siege of Trencher's Farm",
          "Water for Elephants",
          "The Day of the Jackal",
          "Great Expectations",
          "The African Queen",
          "I Am Number Four",
          "The Jungle Book",
          "The Witnesses",
          "The Agony and the Ecstasy",
          "In the Heat of the Night",
          "Kuroi Ame",
          "Spartacus",
          "Schindler's Ark",
          "The Age of Innocence",
          "Nothing Lasts Forever",
          "Adventures of Huckleberry Finn",
          "Tarzan",
          "The Pope of Greenwich Village",
          "El Club Dumas",
          "The Time Machine",
          "Dark Passage",
          "Stuart Little",
          "Marnie",
          "The Runaway Jury",
          "A Connecticut Yankee in King Arthur's Court",
          "Frankenstein",
          "The Positronic Man",
          "The Constant Gardener",
          "Vingt mille lieues sous les mers",
          "The Spy Who Loved Me",
          "Timeline",
          "The Postman",
          "Murphy’s Romance: A Novel",
          "Percy Jackson & the Olympians",
          "The Drowning Pool",
          "Anthony Adverse",
          "La Planète des singes",
          "The Garden of God",
          "The Dark Fields",
          "The Exorcist",
          "The Exorcist",
          "Blood Work",
          "Gods and Generals",
          "The Guns of Navarone",
          "The Trial",
          "The Lincoln Lawyer",
          "The Midwich Cuckoos",
          "La Planète des singes",
          "The Rebel Outlaw: Josey Wales",
          "The Talented Mr. Ripley",
          "The Wages of Fear",
          "The Shipping News",
          "Harry Potter and the Deathly Hallows",
          "Chocolat",
          "Oliver Twist",
          "The Flight of the Phoenix",
          "Live and Let Die",
          "Der Schweizerische Robinson",
          "The Color of Money",
          "Naked Lunch",
          "The Trouble with Harry",
          "Ice Station Zebra",
          "Psycho",
          "Treasure Island",
          "The Molly Maguires",
          "The Phantom of the Opera",
          "The Witches of Eastwick",
          "Woe to Live On",
          "Farewell to the King",
          "The Quiet American",
          "Strange Case of Dr Jekyll and Mr Hyde",
          "Cry Wolf",
          "Fahrenheit 451",
          "Fight Club",
          "Love Story",
          "The Vicomte of Bragelonne: Ten Years Later",
          "Peter Pan, or The Boy Who Wouldn't Grow Up",
          "From Here to Eternity",
          "The Deep",
          "And Then There Were None",
          "Bourne",
          "Hannibal",
          "Random Hearts",
          "The Twilight Saga",
          "The Woman in Black",
          "The Cider House Rules",
          "The Sword in the Stone",
          "The Neverending Story",
          "All the Way",
          "Jaws",
          "Äideistä parhain",
          "Jumanji",
          "One Thousand and One Nights",
          "The Hunt for Red October",
          "A Running Duck",
          "Strange Case of Dr Jekyll and Mr Hyde",
          "First Blood",
          "Oliver Twist",
          "Cimarron",
          "The Willing Flesh",
          "Frankenstein",
          "The Color Purple",
          "The Adventures of Pinocchio",
          "Frankenstein",
          "Anna and the King of Siam",
          "The Wonderful Wizard of Oz",
          "Le Pont de la Rivière Kwaï",
          "Misery",
          "The Godfather",
          "The Road",
          "Ivanhoe",
          "The Getaway",
          "The Swarm",
          "Peter Pan, or The Boy Who Wouldn't Grow Up",
          "Gone with the Wind",
          "The Scarlet Letter",
          "Escape to Witch Mountain",
          "Layer Cake",
          "The Client",
          "The Exorcist",
          "La Planète des singes",
          "Fear and Loathing in Las Vegas",
          "Eaters of the Dead",
          "The Night of the Generals",
          "Frankenstein",
          "Fletch",
          "Matilda",
          "Dad",
          "A Good Year",
          "The Princess Diaries",
          "The Big Bounce",
          "The Caine Mutiny",
          "Bad Girl",
          "Casino Royale",
          "Who Censored Roger Rabbit?",
          "Treasure Island",
          "Bourne",
          "Election",
          "La Casa de los Espíritus",
          "Revolutionary Road",
          "Big Trouble",
          "Three-Ten to Yuma",
          "Mildred Pierce",
          "Harry Potter and the Chamber of Secrets",
          "Harry Potter and the Prisoner of Azkaban",
          "Get Shorty",
          "Strange Case of Dr Jekyll and Mr Hyde",
          "Atonement",
          "Thunderball",
          "A Passage to India",
          "Logan's Run",
          "Mr. Hobbs' Vacation",
          "The Natural",
          "The War of the Roses",
          "The Beach",
          "The Golden Bowl",
          "The Dirty Dozen",
          "The Desperate Hours",
          "The Highland Rogue",
          "Alice Adams",
          "Firefox",
          "To Kill a Mockingbird",
          "Psycho",
          "The Island",
          "Les Liaisons dangereuses",
          "An American Tragedy",
          "James and the Giant Peach",
          "Return of the Living Dead",
          "Before the Fact",
          "The Rainmaker",
          "The Killer Inside Me",
          "Solaris",
          "My Friend Flicka",
          "What Dreams May Come",
          "The City of Ember",
          "Vingt mille lieues sous les mers",
          "Kiss of the Spider Woman",
          "The Hound of Florence",
          "The Power of One",
          "Lost Horizon",
          "The Ballad of the Flim-Flam Man",
          "You Only Live Twice",
          "Theatre",
          "Pride and Prejudice",
          "Rosemary's Baby",
          "One Flew Over the Cuckoo's Nest",
          "Cocoon",
          "The Robe",
          "The Outsiders",
          "The Human Stain",
          "The Lovely Bones",
          "Diamonds Are Forever",
          "The Spiderwick Chronicles",
          "Do Androids Dream of Electric Sheep?",
          "An Awfully Big Adventure",
          "The World According to Garp",
          "Goodbye Piccadilly, Farewell Leicester Square",
          "The Detective",
          "The Caveman's Valentine",
          "Thunderball",
          "Thor",
          "The Bridges of Madison County",
          "The Sisterhood of the Traveling Pants",
          "Something Wicked This Way Comes",
          "Frankenstein",
          "Murder in Amityville",
          "Beaches",
          "Father of the Bride",
          "Sense and Sensibility",
          "Elmer Gantry",
          "A Watcher in the Woods",
          "The Dying Animal",
          "A History of Violence",
          "Trainspotting",
          "Jurassic Park",
          "The Hound of Florence",
          "Contact",
          "Jude the Obscure",
          "Murder on the Orient Express",
          "Mrs. Frisby and the Rats of NIMH",
          "Stuart Little",
          "Horseman, Pass By",
          "Exodus",
          "The Razor's Edge",
          "A Running Duck",
          "Nurse Matilda",
          "The Black Dahlia",
          "Starship Troopers",
          "The Hunchback of Notre-Dame",
          "I Know What You Did Last Summer",
          "A Time to Kill",
          "Im Westen Nichts Neues",
          "Little Caesar",
          "The Wonderful Wizard of Oz",
          "Falling Angel",
          "The Holy Innocents",
          "The Friendly Persuasion",
          "The Grapes of Wrath",
          "The Notebook",
          "The Exorcist",
          "The Painted Veil",
          "The Body Snatchers",
          "The King's Damosel",
          "Glory for Me",
          "Cycle of the Werewolf",
          "The Glass Inferno",
          "The Deep End of the Ocean",
          "Topaz",
          "Bringing Out the Dead",
          "The Postman Always Rings Twice",
          "The Man with the Golden Gun",
          "Divine Secrets of the Ya-Ya Sisterhood",
          "The Midwich Cuckoos",
          "Along Came a Spider",
          "The Fury",
          "Cold Mountain",
          "Nurse Matilda",
          "Funny Farm",
          "All the King's Men",
          "Father of Frankenstein",
          "The Moving Target",
          "Strangers on a Train",
          "The Adventures of Tom Sawyer",
          "Fletch",
          "Dr. No",
          "From Russia, with Love",
          "Odyssey",
          "Sahara",
          "Exit Wounds",
          "Jurassic Park",
          "The Manchurian Candidate",
          "Peter Pan, or The Boy Who Wouldn't Grow Up",
          "Beau Geste",
          "The Devil Wears Prada",
          "Where the Boys Are",
          "Beowulf",
          "Hombre",
          "The Devil's Advocate",
          "The Adventures of Pinocchio",
          "The Clan of the Cave Bear",
          "A Widow for One Year",
          "The Egyptian",
          "If I Die Before I Wake",
          "Bridget Jones",
          "Les Liaisons dangereuses",
          "Northern Lights",
          "The Women of Brewster Place",
          "The Prince of Tides",
          "Let the Right One In",
          "December Boys",
          "Christine",
          "The Mysterious Island",
          "The Chronicles of Narnia",
          "Headhunters",
          "Immortality, Inc.",
          "Jurassic Park",
          "The Manchurian Candidate",
          "Death Sentence",
          "The Polar Express",
          "The Haunting of Hill House",
          "On Her Majesty's Secret Service",
          "Red Dragon",
          "Le comte de Monte Cristo",
          "Celle qui n'était plus",
          "Anna and the King of Siam",
          "The Jungle Book",
          "Sphere",
          "The Good German",
          "At the Earth's Core",
          "Mystic River",
          "A Princess of Mars",
          "The Shining",
          "The Feather Men",
          "Charlotte's Web",
          "The Fox and the Hound",
          "True Grit",
          "The Prince and the Pauper",
          "The Amityville Horror",
          "Cool Hand Luke",
          "Disclosure",
          "The Help",
          "Anna Karenina",
          "Forrest Gump",
          "Presumed Innocent",
          "Watership Down",
          "The Last Detail",
          "Bridget Jones",
          "The Four Feathers",
          "The Hobbit",
          "The Hours",
          "The Rainbird Pattern",
          "Bel Ami",
          "Coins in the Fountain",
          "High Fidelity",
          "The End of the Affair",
          "A Clockwork Orange",
          "King Solomon's Mines",
          "The Great Gatsby",
          "The Fan",
          "The Big Clock",
          "How Green Was My Valley",
          "The Treasure of the Sierra Madre",
          "Crouching Tiger, Hidden Dragon",
          "When Worlds Collide",
          "Anatomy of a Murder",
          "Ratman's Notebooks",
          "Bright Lights, Big City",
          "Fantastic Mr Fox",
          "Empire of the Sun",
          "A Simple Plan",
          "The Executioners",
          "The Executioners",
          "Young Adam",
          "Como agua para chocolate",
          "The Great Gatsby",
          "Fried Green Tomatoes at the Whistle Stop Cafe",
          "The Adventures of Captain Alatriste",
          "The Poseidon Adventure",
          "The Devils of Loudun",
          "Les Trois Mousquetaires",
          "Emma",
          "The Host",
          "Ordinary People",
          "American Splendor",
          "The Last of the Mohicans",
          "The Postman Always Rings Twice",
          "D'entre les morts",
          "Dear John",
          "The Blank Wall",
          "The Unbearable Lightness of Being",
          "Big Fish: A Novel of Mythic Proportions",
          "A Room with a View",
          "For Whom the Bell Tolls",
          "Flight of the Intruder",
          "The Body Snatchers",
          "The Sum of All Fears",
          "Father Sky",
          "The Hundred and One Dalmatians",
          "Les Trois Mousquetaires",
          "The Open Range Men",
          "Gods and Generals",
          "Harry Potter and the Philosopher's Stone",
          "City of God",
          "Sense and Sensibility",
          "Hawaii",
          "The Sea Hawk",
          "Woman, Thou Art Loosed!: Healings the Wounds of the Past",
          "Black Sunday",
          "The Boys from Brazil",
          "Le Morte d'Arthur",
          "The Viking",
          "The Lizard's Tail",
          "Return of the Living Dead",
          "Death on the Nile",
          "La Planète des singes",
          "Out of Sight",
          "Terms of Endearment",
          "Charlie and the Chocolate Factory",
          "Maurice",
          "Shutter Island",
          "Lottie and Lisa",
          "Les Trois Mousquetaires",
          "The Hellbound Heart",
          "The Fan",
          "King Solomon's Mines",
          "The Howling",
          "At Play in the Fields of the Lord",
          "The Chronicles of Prydain",
          "The Chronicles of Narnia",
          "The Lucky One",
          "Evil Under the Sun",
          "Goldfinger",
          "The Secret Dreamworld of a Shopaholic",
          "Hart's War",
          "Battle Royale",
          "The Painted Veil",
          "The Green Mile",
          "Kiss the Girls",
          "The Pelican Brief",
          "Let the Right One In",
          "Be Cool",
          "Where Eagles Dare",
          "Desert of the Heart",
          "Armageddon 2419 A.D.",
          "Firestarter",
          "Eragon",
          "White Fang",
          "Psycho",
          "Patriot Games",
          "Sleeping with the Enemy",
          "Tales of the South Pacific",
          "Shaft",
          "The Island of Doctor Moreau",
          "Oil!",
          "Adams Fall",
          "The Maltese Falcon",
          "Jaws",
          "Basil of Baker Street",
          "Jaws",
          "The Remains of the Day",
          "Brideshead Revisited, The Sacred & Profane Memories of Captain Charles Ryder",
          "First Blood",
          "A Walk to Remember",
          "Scarface",
          "The Hunger Games Trilogy",
          "The Dead Zone",
          "The Rules of Attraction",
          "To Sir, With Love",
          "The English Patient",
          "A Scanner Darkly",
          "About Schmidt",
          "The Assassination of Jesse James by the Coward Robert Ford",
          "The Adventures of Pinocchio",
          "The Magic Bed Knob; or, How to Become a Witch in Ten Easy Lessons",
          "The Fellowship of the Ring",
          "Bridge to Terabithia",
          "The Hundred and One Dalmatians",
          "The Chamber",
          "Shoeless Joe",
          "Winnie-the-Pooh",
          "Man on Fire",
          "The Princess Bride",
          "La Planète des singes",
          "Shaft",
          "Winnie-the-Pooh",
          "The Lord of the Rings",
          "Absolute Power",
          "The Time Machine",
          "The Warriors",
          "Rising Sun"
         ],
         "marker": {
          "color": "blue"
         },
         "mode": "markers",
         "name": "Original revenue",
         "type": "scatter",
         "x": [
          1964,
          1971,
          2008,
          1991,
          1971,
          2010,
          1999,
          2002,
          1944,
          1971,
          1964,
          1964,
          1962,
          2005,
          2008,
          1997,
          1956,
          2001,
          2009,
          1999,
          1966,
          2000,
          2007,
          1977,
          1980,
          2004,
          1974,
          2005,
          1965,
          2009,
          1939,
          2010,
          1999,
          2008,
          1971,
          1961,
          1999,
          1970,
          1989,
          2011,
          2005,
          1966,
          2009,
          1992,
          1989,
          2006,
          1996,
          1987,
          1977,
          2009,
          1996,
          1997,
          2003,
          2009,
          2004,
          2001,
          1967,
          1955,
          1989,
          1964,
          2004,
          1995,
          1999,
          2002,
          1991,
          1958,
          1970,
          1996,
          1972,
          2003,
          2010,
          1978,
          2003,
          1940,
          1986,
          2007,
          1935,
          1948,
          2005,
          1999,
          1979,
          1989,
          1940,
          1953,
          2007,
          2000,
          1959,
          1999,
          1972,
          1955,
          1993,
          1973,
          1984,
          1993,
          1990,
          2010,
          1975,
          2011,
          1996,
          2005,
          2006,
          1946,
          1986,
          1942,
          2005,
          1940,
          1998,
          2005,
          1991,
          1990,
          1985,
          1993,
          2002,
          1985,
          1994,
          2002,
          1971,
          2008,
          1972,
          1968,
          1993,
          1983,
          1956,
          1972,
          2008,
          1975,
          1990,
          2006,
          2007,
          2010,
          1997,
          1985,
          2007,
          1969,
          2011,
          1987,
          1998,
          1979,
          1963,
          1993,
          1973,
          2009,
          1967,
          2002,
          1998,
          1979,
          1982,
          2008,
          1968,
          1989,
          1978,
          1974,
          1944,
          1998,
          1996,
          2007,
          1980,
          1976,
          1968,
          2000,
          1991,
          2011,
          1990,
          1995,
          2002,
          2012,
          1990,
          1953,
          1944,
          2005,
          1946,
          1988,
          1957,
          2004,
          2004,
          1979,
          2005,
          1973,
          1982,
          1984,
          1928,
          1959,
          2006,
          1946,
          1981,
          1967,
          1926,
          1916,
          2011,
          2011,
          1997,
          1998,
          1951,
          2011,
          2003,
          1987,
          1965,
          1967,
          1989,
          1960,
          1993,
          1993,
          1988,
          1960,
          1998,
          1984,
          1999,
          1960,
          1947,
          1999,
          1964,
          2003,
          2001,
          1957,
          1999,
          2005,
          1954,
          1977,
          2003,
          1997,
          1985,
          2010,
          1975,
          1936,
          2011,
          1991,
          2011,
          2004,
          1990,
          2002,
          1993,
          1961,
          1985,
          2011,
          1960,
          1971,
          1976,
          1999,
          1977,
          2001,
          2011,
          2000,
          1968,
          2004,
          1973,
          1960,
          1986,
          1991,
          1955,
          1968,
          1960,
          2002,
          1970,
          2004,
          1987,
          1999,
          1989,
          2002,
          1996,
          1947,
          1966,
          1999,
          1970,
          1998,
          2003,
          1953,
          1977,
          2003,
          2012,
          2001,
          1999,
          2008,
          2012,
          1999,
          1963,
          1984,
          2008,
          1978,
          2005,
          1995,
          1924,
          1990,
          1995,
          1996,
          1985,
          1988,
          1931,
          1977,
          1931,
          1985,
          1987,
          1974,
          1956,
          1978,
          1957,
          1990,
          1972,
          2009,
          1952,
          1972,
          1978,
          1991,
          1939,
          1995,
          2009,
          2004,
          1994,
          2005,
          1973,
          1998,
          1999,
          1967,
          1990,
          1985,
          1996,
          1989,
          2006,
          2004,
          2004,
          1954,
          1931,
          2006,
          1988,
          1996,
          2007,
          1999,
          1993,
          2008,
          2002,
          2007,
          1945,
          2002,
          2004,
          1995,
          2000,
          2007,
          1965,
          1984,
          1976,
          1962,
          1984,
          1989,
          2000,
          2000,
          1967,
          1990,
          1995,
          1935,
          1982,
          1962,
          1983,
          1980,
          1988,
          1951,
          1996,
          1993,
          1941,
          1997,
          2010,
          2002,
          2006,
          1998,
          2008,
          1979,
          1985,
          1959,
          1992,
          1973,
          1967,
          1967,
          2004,
          2005,
          1968,
          1975,
          1988,
          1953,
          1983,
          2003,
          2009,
          1971,
          2008,
          1982,
          1995,
          1982,
          1972,
          1968,
          2001,
          1983,
          1996,
          1995,
          2008,
          1983,
          2004,
          1982,
          1988,
          1991,
          2000,
          1960,
          1980,
          2008,
          2005,
          1996,
          2001,
          2006,
          1997,
          1996,
          1974,
          1982,
          2002,
          1963,
          1960,
          1984,
          1986,
          2005,
          2006,
          1997,
          1939,
          1997,
          1996,
          1930,
          1931,
          1985,
          1987,
          2003,
          1956,
          1940,
          2004,
          1977,
          1934,
          1978,
          1998,
          1946,
          1985,
          1974,
          1999,
          1969,
          1999,
          1946,
          1974,
          2002,
          1995,
          2001,
          1978,
          2003,
          2010,
          1988,
          2006,
          1998,
          1966,
          1951,
          1944,
          1989,
          1962,
          1963,
          2000,
          2005,
          2001,
          1997,
          1962,
          2004,
          1926,
          2006,
          1960,
          2007,
          1967,
          1997,
          2002,
          1986,
          2004,
          1954,
          1947,
          2004,
          1999,
          2007,
          1989,
          1991,
          2008,
          2007,
          1983,
          2012,
          2008,
          2011,
          1992,
          1993,
          2004,
          2007,
          2004,
          1999,
          1969,
          2002,
          2002,
          1996,
          1999,
          1967,
          1998,
          2006,
          2008,
          2003,
          2012,
          1980,
          2011,
          2006,
          1981,
          2010,
          1993,
          2005,
          1967,
          1994,
          2011,
          1997,
          1994,
          1990,
          1978,
          1973,
          2001,
          2002,
          2012,
          2002,
          1976,
          2012,
          1964,
          2000,
          1999,
          1971,
          2003,
          2013,
          1981,
          1987,
          1941,
          1948,
          2000,
          1951,
          1959,
          2003,
          1988,
          2009,
          1987,
          1998,
          1991,
          1962,
          2003,
          1992,
          1974,
          1991,
          2006,
          2006,
          1971,
          2011,
          1995,
          2013,
          1980,
          2003,
          1992,
          1981,
          1958,
          2010,
          2001,
          1988,
          2003,
          1985,
          1943,
          1991,
          1956,
          2002,
          1981,
          1961,
          2001,
          2003,
          2003,
          2001,
          2002,
          1995,
          1966,
          1940,
          2004,
          1977,
          1978,
          1981,
          1958,
          1981,
          1988,
          1978,
          2001,
          1998,
          1983,
          2005,
          1987,
          2010,
          1998,
          1993,
          1987,
          1996,
          1985,
          1981,
          1991,
          1985,
          2005,
          2012,
          1982,
          1964,
          2009,
          2002,
          2000,
          2006,
          1999,
          1997,
          1993,
          2010,
          2005,
          1968,
          1985,
          1979,
          1984,
          2006,
          1991,
          1986,
          1992,
          1991,
          1958,
          2000,
          1996,
          2007,
          2002,
          1941,
          1975,
          1986,
          1983,
          1993,
          2008,
          2008,
          2002,
          1983,
          2012,
          1983,
          2002,
          1967,
          1996,
          2006,
          2002,
          2007,
          2001,
          1971,
          2001,
          2007,
          1996,
          1996,
          1989,
          2003,
          2004,
          1987,
          1970,
          1973,
          2000,
          2003,
          1997,
          2002,
          1979,
          1993
         ],
         "y": [
          103082380,
          3251794,
          127906624,
          869325,
          12121618,
          89137047,
          46112640,
          45479110,
          2000000,
          29133000,
          9523464,
          9000000,
          9250000,
          6856989,
          78269970,
          126216940,
          32855818,
          35402320,
          28169671,
          448191819,
          10000000,
          29000000,
          171627166,
          71215869,
          19853892,
          102000000,
          22000000,
          130982129,
          6792000,
          109421911,
          33754967,
          237382724,
          21133087,
          38105395,
          4000000,
          7600000,
          23159305,
          24911670,
          3531971,
          177584879,
          39053061,
          20000000,
          101344412,
          26126837,
          1132112,
          22175908,
          116400000,
          51881013,
          30000000,
          100140916,
          113309743,
          39673162,
          75700000,
          933959197,
          16123851,
          100020092,
          41744718,
          2500000,
          7237794,
          12000000,
          288500217,
          13071518,
          113996937,
          926287400,
          82264675,
          13200000,
          100489151,
          325338851,
          84563118,
          38364277,
          67876281,
          7230000,
          160846332,
          84300000,
          77200000,
          47817020,
          1439000,
          4812444,
          895921036,
          161626121,
          210308099,
          26828365,
          659600,
          5300000,
          585410052,
          34266564,
          10000000,
          118880016,
          3500000,
          8750000,
          428868,
          959000,
          30925690,
          270248367,
          424208848,
          415686217,
          198992,
          1045713802,
          22231658,
          50500000,
          14655628,
          4900000,
          8620929,
          1040000,
          603873119,
          7592465,
          22900000,
          52900000,
          272742922,
          16283667,
          12303411,
          24103594,
          10113733,
          85313124,
          215887717,
          214034224,
          12376563,
          108902486,
          9700000,
          32589624,
          32861136,
          90404800,
          10400000,
          7500000,
          20416563,
          41509797,
          47431461,
          70595464,
          938212738,
          60331447,
          1071255,
          11603545,
          137515140,
          7356000,
          14460000,
          38122105,
          93107289,
          20931111,
          528428,
          63848322,
          30900000,
          67126795,
          50000000,
          109862682,
          37141130,
          20101247,
          14056528,
          72109200,
          2620000,
          57469467,
          703,
          1800000,
          4627000,
          20308772,
          2300000,
          40170558,
          58853106,
          21709020,
          42300873,
          183611771,
          15565363,
          232617430,
          57700000,
          152022101,
          129000000,
          441809770,
          15691192,
          87404651,
          2500000,
          42580321,
          65000000,
          189015611,
          20000000,
          109502303,
          72178895,
          37799643,
          57479076,
          441405644,
          125212904,
          1400000,
          596000,
          164000000,
          767820459,
          20400000,
          10626725,
          3200000,
          938000,
          8000000,
          10324441,
          117094902,
          159330280,
          55494066,
          10750000,
          149878437,
          135680000,
          12640385,
          4000000,
          27379978,
          134212055,
          60000000,
          321365567,
          32255440,
          140767956,
          2750000,
          2172941,
          6836201,
          58401898,
          5902,
          3430000,
          300135367,
          7000000,
          80154140,
          33422806,
          8000000,
          87423861,
          82468097,
          28200000,
          185438673,
          43935763,
          17626234,
          30867525,
          226497209,
          2600000,
          2750000,
          482860185,
          2807854,
          161849455,
          78000586,
          39024251,
          31794718,
          12700000,
          28900000,
          10609321,
          85412898,
          2175000,
          12348905,
          31800000,
          128798265,
          9000000,
          24690441,
          1341511219,
          152500343,
          37402877,
          21009180,
          126377836,
          40356000,
          52293982,
          2641357,
          7000000,
          4600000,
          32000000,
          109578115,
          2200000,
          154648887,
          63766510,
          635096,
          2420917,
          27674124,
          12379402,
          2690000,
          2000000,
          100853753,
          136400000,
          182968902,
          121975011,
          30500000,
          100000000,
          90259536,
          276572938,
          351692268,
          74608570,
          393616788,
          127730736,
          88545092,
          22182353,
          20158808,
          18755936,
          187884007,
          2851888,
          262821940,
          1490419,
          200512643,
          11534477,
          128769345,
          300400432,
          74151346,
          1383000,
          201,
          12000000,
          146292000,
          3261638,
          86273333,
          21300000,
          21049053,
          44908000,
          61276872,
          245066411,
          27635305,
          10878000,
          36734619,
          7700000,
          300855000,
          402352579,
          10382407,
          106303988,
          11850214,
          117615211,
          251495,
          8844595,
          10680275,
          61698899,
          2400000,
          334748,
          59612888,
          33459416,
          19738015,
          42064105,
          134734481,
          6808550,
          21750000,
          1100000,
          599045960,
          329803958,
          34327391,
          442824138,
          14902041,
          6265311,
          75981180,
          8493890,
          70016220,
          5638000,
          876688482,
          789804554,
          115101622,
          123307945,
          131016624,
          141195658,
          27201487,
          25000000,
          4000000,
          47951979,
          160188546,
          144056873,
          5753678,
          45300000,
          2742912,
          31596911,
          770000,
          70687344,
          13129846,
          34725000,
          15700000,
          34670720,
          7000000,
          28946127,
          54207,
          4500000,
          45916769,
          3977192,
          30002758,
          21000000,
          71485043,
          17869048,
          35841901,
          17005229,
          17658000,
          2827107,
          3800000,
          1200000,
          111584787,
          14339171,
          121616555,
          33395426,
          108981275,
          25024919,
          36000000,
          33697647,
          24900000,
          93621340,
          116019547,
          164170327,
          41722424,
          851545,
          29712172,
          12600000,
          6500000,
          794481,
          160000000,
          1100000,
          182016617,
          44352417,
          8400000,
          300257475,
          12534817,
          57041866,
          89325780,
          500000,
          10400000,
          5000000,
          14894347,
          60740827,
          16491080,
          368780809,
          87134280,
          171120329,
          409144,
          35700000,
          14665733,
          169956806,
          10000000,
          21750000,
          6551987,
          49042224,
          123276807,
          49111202,
          121214377,
          6877900,
          125586134,
          152266007,
          3270000,
          752000,
          11137801,
          17186348,
          15121165,
          8000000,
          1591000,
          115603229,
          30749142,
          1120000,
          24946533,
          38172500,
          23650000,
          12400000,
          116000000,
          28121100,
          6000000,
          16800000,
          5086000,
          97572000,
          73839240,
          9418365,
          105178561,
          24000000,
          173013509,
          93251121,
          25537221,
          9450897,
          6451628,
          12000000,
          7000000,
          2350000,
          35150960,
          59567035,
          78900000,
          71870729,
          119269486,
          79958599,
          618638999,
          7700000,
          116766556,
          1500000,
          326706115,
          3500000,
          195735876,
          12000000,
          152944660,
          41323171,
          1953732,
          6715067,
          15000000,
          1564609,
          262500000,
          76347426,
          372234864,
          100000,
          74787599,
          10785801,
          46474,
          21200000,
          355692760,
          419665568,
          39782683,
          17129026,
          920100000,
          96105964,
          16974459,
          310634054,
          177311151,
          64574493,
          209196298,
          75395048,
          52400000,
          12000000,
          205843612,
          37020277,
          5914908,
          101702060,
          156822020,
          284139100,
          44781695,
          57777106,
          144000000,
          29800000,
          252276927,
          92000000,
          108047131,
          16217773,
          214015089,
          216639112,
          858553,
          677387716,
          221303188,
          3713768,
          10000000,
          281929795,
          29882645,
          1021103568,
          41597830,
          7900000,
          8303261,
          2000000,
          47126295,
          10827816,
          26589000,
          179265204,
          351040419,
          3100000,
          35509515,
          6000000,
          4307000,
          213525736,
          1600000,
          8000000,
          8564586,
          16118077,
          46471023,
          66700000,
          16316273,
          182300000,
          103000000,
          2500000,
          21744201,
          26533200,
          119418501,
          23321954,
          181674817,
          11000000,
          132274484,
          56631572,
          63327201,
          54766923,
          6003587,
          75505856,
          12376625,
          7797728,
          114977104,
          10031529,
          10006806,
          123218424,
          20966644,
          17800000,
          14587732,
          3000000,
          193921372,
          35856053,
          85000000,
          27053815,
          68296293,
          12923936,
          976475550,
          30641770,
          134582776,
          34562222,
          2000000,
          6804016,
          15769322,
          19000000,
          34967437,
          20311,
          566736,
          9205924,
          14560084,
          362211740,
          77745966,
          108423749,
          474968763,
          2438304,
          294800000,
          92108518,
          53898845,
          14575193,
          18626419,
          15057465,
          17985893,
          1345903,
          21288692,
          745013115,
          99357138,
          6110804,
          124881062,
          108332743,
          32287044,
          30600000,
          26910847,
          286801374,
          60527873,
          195268056,
          24145613,
          95226116,
          21000000,
          2400000,
          21700000,
          17080167,
          249288105,
          34793160,
          14481606,
          178051587,
          174999005,
          36800000,
          107626125,
          49627779,
          77208711,
          10719357,
          1772000,
          470653000,
          38625550,
          87987055,
          23237911,
          13204291,
          113244290,
          47494916,
          66023329,
          694394724,
          20766616,
          11832822,
          42432803,
          231976425,
          7659918,
          105834556,
          14711793,
          235926552,
          17900000,
          871368364,
          137587063,
          320689294,
          22540359,
          84431625,
          62870546,
          130293714,
          30861665,
          18999718,
          1458000,
          45554533,
          1118888979,
          50068310,
          123729176,
          22490039,
          107198790
         ]
        },
        {
         "hovertext": [
          "Mary Poppins",
          "The Siege of Trencher's Farm",
          "Journey to the West",
          "The Beast Master",
          "Shaft",
          "The Last Song",
          "For Love of the Game",
          "The Queen of the Damned",
          "Laura",
          "The Last Picture Show",
          "Red Alert",
          "Zorba the Greek",
          "Lolita",
          "Bee Season",
          "The Other Boleyn Girl",
          "L.A. Confidential",
          "Giant",
          "Waltz into Darkness",
          "Cirque Du Freak: The Saga of Darren Shan",
          "Tarzan",
          "Pharaoh",
          "Battlefield Earth",
          "No Country for Old Men",
          "The Rescuers",
          "Altered States",
          "The Stepford Wives",
          "Death Wish",
          "Vengeance",
          "Be Ready with Bells and Drums",
          "Millennium",
          "The Wonderful Wizard of Oz",
          "Gulliver's Travels",
          "A Stir of Echoes",
          "The Secret Life of Bees",
          "Charlie and the Chocolate Factory",
          "The Hustler",
          "The Iron Man",
          "Catch-22",
          "In Country",
          "War Horse",
          "The Sisterhood of the Traveling Pants",
          "The Sand Pebbles",
          "The Time Traveler's Wife",
          "Howards End",
          "Les Liaisons dangereuses",
          "Eye of the Needle",
          "The First Wives Club",
          "Jaws",
          "Airport",
          "Where the Wild Things Are",
          "Strip Tease",
          "Rum Punch",
          "Dreamcatcher",
          "Harry Potter and the Half-Blood Prince",
          "Vanity Fair",
          "Don't Say a Word",
          "Casino Royale",
          "The Desperate Hours",
          "The Three Worlds of Johnny Handsome",
          "The Night of the Iguana",
          "Bourne",
          "Clockers",
          "Anna and the King of Siam",
          "The Lord of the Rings",
          "Dying Young",
          "Gigi",
          "Airport",
          "The Hunchback of Notre-Dame",
          "The Poseidon Adventure",
          "The Last Ride",
          "A Very Private Gentleman",
          "Force 10 From Navarone",
          "Freaky Friday",
          "The Adventures of Pinocchio",
          "The Name of the Rose",
          "The Nanny Diaries",
          "Anna Karenina",
          "Frankenstein",
          "Harry Potter and the Goblet of Fire",
          "The Hunter",
          "Moonraker",
          "Lay This Laurel",
          "The Invisible Man",
          "Gentlemen Prefer Blondes",
          "I Am Legend",
          "American Psycho",
          "Voyage au centre de la Terre",
          "Message in a Bottle",
          "The Hot Rock",
          "To Catch a Thief",
          "The Body Snatchers",
          "The Long Goodbye",
          "Dune",
          "The Firm",
          "Dances with Wolves",
          "The Chronicles of Narnia",
          "The Luck of Barry Lyndon",
          "On Stranger Tides",
          "Emma",
          "Fever Pitch",
          "Freedomland",
          "The Big Sleep",
          "Red Dragon",
          "The Invisible Man",
          "The War of the Worlds",
          "Rebecca",
          "Beloved",
          "Winnie-the-Pooh",
          "The Silence of the Lambs",
          "The Neverending Story",
          "Enemy Mine",
          "Adventures of Huckleberry Finn",
          "Possession: A Romance",
          "Cocoon",
          "Clear and Present Danger",
          "Bourne",
          "The Andromeda Strain",
          "The Reader",
          "La Planète des singes",
          "La Planète des singes",
          "The Joy Luck Club",
          "The Prince and the Pauper",
          "Moby-Dick",
          "The Cowboys",
          "The Boy in the Striped Pyjamas",
          "Six Days of the Condor",
          "The Rescuers",
          "The Children of Men",
          "Harry Potter and the Order of the Phoenix",
          "The Ghost",
          "Lolita",
          "The Space Vampires",
          "Stardust",
          "Waltz into Darkness",
          "Winnie-the-Pooh",
          "The Running Man",
          "Simple Simon",
          "The Apple Dumpling Gang",
          "Il disprezzo",
          "After Hours",
          "Addie Pray",
          "Millennium",
          "Valley of the Dolls",
          "Peter Pan, or The Boy Who Wouldn't Grow Up",
          "Psycho",
          "Tess of the d'Urbervilles",
          "The Beast Master",
          "Babylon Babies",
          "Shalako",
          "Pet Sematary",
          "Blue Fin",
          "The Wonderful Wizard of Oz",
          "Dragon Seed",
          "Vampire$",
          "The Wind in the Willows",
          "The Body Snatchers",
          "The Blue Lagoon",
          "Marathon Man",
          "Mute Witness",
          "The Hundred and One Dalmatians",
          "Billy Bathgate",
          "Millennium",
          "Air America",
          "Congo",
          "About a Boy",
          "Les Misérables",
          "The Bonfire of the Vanities",
          "Peter Pan, or The Boy Who Wouldn't Grow Up",
          "Double Indemnity",
          "Oliver Twist",
          "Uncle Remus",
          "First Blood",
          "A Farewell to Arms",
          "Sideways",
          "Le tour du monde en quatre-vingts jours",
          "The Black Stallion",
          "Derailed",
          "The Exorcist",
          "First Blood",
          "Birdy",
          "All the Brothers Were Valiant",
          "Ben-Hur: A Tale of the Christ",
          "The Da Vinci Code",
          "Duel in the Sun",
          "The Wolfen",
          "The Hunter",
          "Moby-Dick",
          "The Mysterious Island",
          "The Siege of Trencher's Farm",
          "Water for Elephants",
          "The Day of the Jackal",
          "Great Expectations",
          "The African Queen",
          "I Am Number Four",
          "The Jungle Book",
          "The Witnesses",
          "The Agony and the Ecstasy",
          "In the Heat of the Night",
          "Kuroi Ame",
          "Spartacus",
          "Schindler's Ark",
          "The Age of Innocence",
          "Nothing Lasts Forever",
          "Adventures of Huckleberry Finn",
          "Tarzan",
          "The Pope of Greenwich Village",
          "El Club Dumas",
          "The Time Machine",
          "Dark Passage",
          "Stuart Little",
          "Marnie",
          "The Runaway Jury",
          "A Connecticut Yankee in King Arthur's Court",
          "Frankenstein",
          "The Positronic Man",
          "The Constant Gardener",
          "Vingt mille lieues sous les mers",
          "The Spy Who Loved Me",
          "Timeline",
          "The Postman",
          "Murphy’s Romance: A Novel",
          "Percy Jackson & the Olympians",
          "The Drowning Pool",
          "Anthony Adverse",
          "La Planète des singes",
          "The Garden of God",
          "The Dark Fields",
          "The Exorcist",
          "The Exorcist",
          "Blood Work",
          "Gods and Generals",
          "The Guns of Navarone",
          "The Trial",
          "The Lincoln Lawyer",
          "The Midwich Cuckoos",
          "La Planète des singes",
          "The Rebel Outlaw: Josey Wales",
          "The Talented Mr. Ripley",
          "The Wages of Fear",
          "The Shipping News",
          "Harry Potter and the Deathly Hallows",
          "Chocolat",
          "Oliver Twist",
          "The Flight of the Phoenix",
          "Live and Let Die",
          "Der Schweizerische Robinson",
          "The Color of Money",
          "Naked Lunch",
          "The Trouble with Harry",
          "Ice Station Zebra",
          "Psycho",
          "Treasure Island",
          "The Molly Maguires",
          "The Phantom of the Opera",
          "The Witches of Eastwick",
          "Woe to Live On",
          "Farewell to the King",
          "The Quiet American",
          "Strange Case of Dr Jekyll and Mr Hyde",
          "Cry Wolf",
          "Fahrenheit 451",
          "Fight Club",
          "Love Story",
          "The Vicomte of Bragelonne: Ten Years Later",
          "Peter Pan, or The Boy Who Wouldn't Grow Up",
          "From Here to Eternity",
          "The Deep",
          "And Then There Were None",
          "Bourne",
          "Hannibal",
          "Random Hearts",
          "The Twilight Saga",
          "The Woman in Black",
          "The Cider House Rules",
          "The Sword in the Stone",
          "The Neverending Story",
          "All the Way",
          "Jaws",
          "Äideistä parhain",
          "Jumanji",
          "One Thousand and One Nights",
          "The Hunt for Red October",
          "A Running Duck",
          "Strange Case of Dr Jekyll and Mr Hyde",
          "First Blood",
          "Oliver Twist",
          "Cimarron",
          "The Willing Flesh",
          "Frankenstein",
          "The Color Purple",
          "The Adventures of Pinocchio",
          "Frankenstein",
          "Anna and the King of Siam",
          "The Wonderful Wizard of Oz",
          "Le Pont de la Rivière Kwaï",
          "Misery",
          "The Godfather",
          "The Road",
          "Ivanhoe",
          "The Getaway",
          "The Swarm",
          "Peter Pan, or The Boy Who Wouldn't Grow Up",
          "Gone with the Wind",
          "The Scarlet Letter",
          "Escape to Witch Mountain",
          "Layer Cake",
          "The Client",
          "The Exorcist",
          "La Planète des singes",
          "Fear and Loathing in Las Vegas",
          "Eaters of the Dead",
          "The Night of the Generals",
          "Frankenstein",
          "Fletch",
          "Matilda",
          "Dad",
          "A Good Year",
          "The Princess Diaries",
          "The Big Bounce",
          "The Caine Mutiny",
          "Bad Girl",
          "Casino Royale",
          "Who Censored Roger Rabbit?",
          "Treasure Island",
          "Bourne",
          "Election",
          "La Casa de los Espíritus",
          "Revolutionary Road",
          "Big Trouble",
          "Three-Ten to Yuma",
          "Mildred Pierce",
          "Harry Potter and the Chamber of Secrets",
          "Harry Potter and the Prisoner of Azkaban",
          "Get Shorty",
          "Strange Case of Dr Jekyll and Mr Hyde",
          "Atonement",
          "Thunderball",
          "A Passage to India",
          "Logan's Run",
          "Mr. Hobbs' Vacation",
          "The Natural",
          "The War of the Roses",
          "The Beach",
          "The Golden Bowl",
          "The Dirty Dozen",
          "The Desperate Hours",
          "The Highland Rogue",
          "Alice Adams",
          "Firefox",
          "To Kill a Mockingbird",
          "Psycho",
          "The Island",
          "Les Liaisons dangereuses",
          "An American Tragedy",
          "James and the Giant Peach",
          "Return of the Living Dead",
          "Before the Fact",
          "The Rainmaker",
          "The Killer Inside Me",
          "Solaris",
          "My Friend Flicka",
          "What Dreams May Come",
          "The City of Ember",
          "Vingt mille lieues sous les mers",
          "Kiss of the Spider Woman",
          "The Hound of Florence",
          "The Power of One",
          "Lost Horizon",
          "The Ballad of the Flim-Flam Man",
          "You Only Live Twice",
          "Theatre",
          "Pride and Prejudice",
          "Rosemary's Baby",
          "One Flew Over the Cuckoo's Nest",
          "Cocoon",
          "The Robe",
          "The Outsiders",
          "The Human Stain",
          "The Lovely Bones",
          "Diamonds Are Forever",
          "The Spiderwick Chronicles",
          "Do Androids Dream of Electric Sheep?",
          "An Awfully Big Adventure",
          "The World According to Garp",
          "Goodbye Piccadilly, Farewell Leicester Square",
          "The Detective",
          "The Caveman's Valentine",
          "Thunderball",
          "Thor",
          "The Bridges of Madison County",
          "The Sisterhood of the Traveling Pants",
          "Something Wicked This Way Comes",
          "Frankenstein",
          "Murder in Amityville",
          "Beaches",
          "Father of the Bride",
          "Sense and Sensibility",
          "Elmer Gantry",
          "A Watcher in the Woods",
          "The Dying Animal",
          "A History of Violence",
          "Trainspotting",
          "Jurassic Park",
          "The Hound of Florence",
          "Contact",
          "Jude the Obscure",
          "Murder on the Orient Express",
          "Mrs. Frisby and the Rats of NIMH",
          "Stuart Little",
          "Horseman, Pass By",
          "Exodus",
          "The Razor's Edge",
          "A Running Duck",
          "Nurse Matilda",
          "The Black Dahlia",
          "Starship Troopers",
          "The Hunchback of Notre-Dame",
          "I Know What You Did Last Summer",
          "A Time to Kill",
          "Im Westen Nichts Neues",
          "Little Caesar",
          "The Wonderful Wizard of Oz",
          "Falling Angel",
          "The Holy Innocents",
          "The Friendly Persuasion",
          "The Grapes of Wrath",
          "The Notebook",
          "The Exorcist",
          "The Painted Veil",
          "The Body Snatchers",
          "The King's Damosel",
          "Glory for Me",
          "Cycle of the Werewolf",
          "The Glass Inferno",
          "The Deep End of the Ocean",
          "Topaz",
          "Bringing Out the Dead",
          "The Postman Always Rings Twice",
          "The Man with the Golden Gun",
          "Divine Secrets of the Ya-Ya Sisterhood",
          "The Midwich Cuckoos",
          "Along Came a Spider",
          "The Fury",
          "Cold Mountain",
          "Nurse Matilda",
          "Funny Farm",
          "All the King's Men",
          "Father of Frankenstein",
          "The Moving Target",
          "Strangers on a Train",
          "The Adventures of Tom Sawyer",
          "Fletch",
          "Dr. No",
          "From Russia, with Love",
          "Odyssey",
          "Sahara",
          "Exit Wounds",
          "Jurassic Park",
          "The Manchurian Candidate",
          "Peter Pan, or The Boy Who Wouldn't Grow Up",
          "Beau Geste",
          "The Devil Wears Prada",
          "Where the Boys Are",
          "Beowulf",
          "Hombre",
          "The Devil's Advocate",
          "The Adventures of Pinocchio",
          "The Clan of the Cave Bear",
          "A Widow for One Year",
          "The Egyptian",
          "If I Die Before I Wake",
          "Bridget Jones",
          "Les Liaisons dangereuses",
          "Northern Lights",
          "The Women of Brewster Place",
          "The Prince of Tides",
          "Let the Right One In",
          "December Boys",
          "Christine",
          "The Mysterious Island",
          "The Chronicles of Narnia",
          "Headhunters",
          "Immortality, Inc.",
          "Jurassic Park",
          "The Manchurian Candidate",
          "Death Sentence",
          "The Polar Express",
          "The Haunting of Hill House",
          "On Her Majesty's Secret Service",
          "Red Dragon",
          "Le comte de Monte Cristo",
          "Celle qui n'était plus",
          "Anna and the King of Siam",
          "The Jungle Book",
          "Sphere",
          "The Good German",
          "At the Earth's Core",
          "Mystic River",
          "A Princess of Mars",
          "The Shining",
          "The Feather Men",
          "Charlotte's Web",
          "The Fox and the Hound",
          "True Grit",
          "The Prince and the Pauper",
          "The Amityville Horror",
          "Cool Hand Luke",
          "Disclosure",
          "The Help",
          "Anna Karenina",
          "Forrest Gump",
          "Presumed Innocent",
          "Watership Down",
          "The Last Detail",
          "Bridget Jones",
          "The Four Feathers",
          "The Hobbit",
          "The Hours",
          "The Rainbird Pattern",
          "Bel Ami",
          "Coins in the Fountain",
          "High Fidelity",
          "The End of the Affair",
          "A Clockwork Orange",
          "King Solomon's Mines",
          "The Great Gatsby",
          "The Fan",
          "The Big Clock",
          "How Green Was My Valley",
          "The Treasure of the Sierra Madre",
          "Crouching Tiger, Hidden Dragon",
          "When Worlds Collide",
          "Anatomy of a Murder",
          "Ratman's Notebooks",
          "Bright Lights, Big City",
          "Fantastic Mr Fox",
          "Empire of the Sun",
          "A Simple Plan",
          "The Executioners",
          "The Executioners",
          "Young Adam",
          "Como agua para chocolate",
          "The Great Gatsby",
          "Fried Green Tomatoes at the Whistle Stop Cafe",
          "The Adventures of Captain Alatriste",
          "The Poseidon Adventure",
          "The Devils of Loudun",
          "Les Trois Mousquetaires",
          "Emma",
          "The Host",
          "Ordinary People",
          "American Splendor",
          "The Last of the Mohicans",
          "The Postman Always Rings Twice",
          "D'entre les morts",
          "Dear John",
          "The Blank Wall",
          "The Unbearable Lightness of Being",
          "Big Fish: A Novel of Mythic Proportions",
          "A Room with a View",
          "For Whom the Bell Tolls",
          "Flight of the Intruder",
          "The Body Snatchers",
          "The Sum of All Fears",
          "Father Sky",
          "The Hundred and One Dalmatians",
          "Les Trois Mousquetaires",
          "The Open Range Men",
          "Gods and Generals",
          "Harry Potter and the Philosopher's Stone",
          "City of God",
          "Sense and Sensibility",
          "Hawaii",
          "The Sea Hawk",
          "Woman, Thou Art Loosed!: Healings the Wounds of the Past",
          "Black Sunday",
          "The Boys from Brazil",
          "Le Morte d'Arthur",
          "The Viking",
          "The Lizard's Tail",
          "Return of the Living Dead",
          "Death on the Nile",
          "La Planète des singes",
          "Out of Sight",
          "Terms of Endearment",
          "Charlie and the Chocolate Factory",
          "Maurice",
          "Shutter Island",
          "Lottie and Lisa",
          "Les Trois Mousquetaires",
          "The Hellbound Heart",
          "The Fan",
          "King Solomon's Mines",
          "The Howling",
          "At Play in the Fields of the Lord",
          "The Chronicles of Prydain",
          "The Chronicles of Narnia",
          "The Lucky One",
          "Evil Under the Sun",
          "Goldfinger",
          "The Secret Dreamworld of a Shopaholic",
          "Hart's War",
          "Battle Royale",
          "The Painted Veil",
          "The Green Mile",
          "Kiss the Girls",
          "The Pelican Brief",
          "Let the Right One In",
          "Be Cool",
          "Where Eagles Dare",
          "Desert of the Heart",
          "Armageddon 2419 A.D.",
          "Firestarter",
          "Eragon",
          "White Fang",
          "Psycho",
          "Patriot Games",
          "Sleeping with the Enemy",
          "Tales of the South Pacific",
          "Shaft",
          "The Island of Doctor Moreau",
          "Oil!",
          "Adams Fall",
          "The Maltese Falcon",
          "Jaws",
          "Basil of Baker Street",
          "Jaws",
          "The Remains of the Day",
          "Brideshead Revisited, The Sacred & Profane Memories of Captain Charles Ryder",
          "First Blood",
          "A Walk to Remember",
          "Scarface",
          "The Hunger Games Trilogy",
          "The Dead Zone",
          "The Rules of Attraction",
          "To Sir, With Love",
          "The English Patient",
          "A Scanner Darkly",
          "About Schmidt",
          "The Assassination of Jesse James by the Coward Robert Ford",
          "The Adventures of Pinocchio",
          "The Magic Bed Knob; or, How to Become a Witch in Ten Easy Lessons",
          "The Fellowship of the Ring",
          "Bridge to Terabithia",
          "The Hundred and One Dalmatians",
          "The Chamber",
          "Shoeless Joe",
          "Winnie-the-Pooh",
          "Man on Fire",
          "The Princess Bride",
          "La Planète des singes",
          "Shaft",
          "Winnie-the-Pooh",
          "The Lord of the Rings",
          "Absolute Power",
          "The Time Machine",
          "The Warriors",
          "Rising Sun"
         ],
         "marker": {
          "color": "red"
         },
         "mode": "markers",
         "name": "adjusted_revenue",
         "type": "scatter",
         "x": [
          1964,
          1971,
          2008,
          1991,
          1971,
          2010,
          1999,
          2002,
          1944,
          1971,
          1964,
          1964,
          1962,
          2005,
          2008,
          1997,
          1956,
          2001,
          2009,
          1999,
          1966,
          2000,
          2007,
          1977,
          1980,
          2004,
          1974,
          2005,
          1965,
          2009,
          1939,
          2010,
          1999,
          2008,
          1971,
          1961,
          1999,
          1970,
          1989,
          2011,
          2005,
          1966,
          2009,
          1992,
          1989,
          2006,
          1996,
          1987,
          1977,
          2009,
          1996,
          1997,
          2003,
          2009,
          2004,
          2001,
          1967,
          1955,
          1989,
          1964,
          2004,
          1995,
          1999,
          2002,
          1991,
          1958,
          1970,
          1996,
          1972,
          2003,
          2010,
          1978,
          2003,
          1940,
          1986,
          2007,
          1935,
          1948,
          2005,
          1999,
          1979,
          1989,
          1940,
          1953,
          2007,
          2000,
          1959,
          1999,
          1972,
          1955,
          1993,
          1973,
          1984,
          1993,
          1990,
          2010,
          1975,
          2011,
          1996,
          2005,
          2006,
          1946,
          1986,
          1942,
          2005,
          1940,
          1998,
          2005,
          1991,
          1990,
          1985,
          1993,
          2002,
          1985,
          1994,
          2002,
          1971,
          2008,
          1972,
          1968,
          1993,
          1983,
          1956,
          1972,
          2008,
          1975,
          1990,
          2006,
          2007,
          2010,
          1997,
          1985,
          2007,
          1969,
          2011,
          1987,
          1998,
          1979,
          1963,
          1993,
          1973,
          2009,
          1967,
          2002,
          1998,
          1979,
          1982,
          2008,
          1968,
          1989,
          1978,
          1974,
          1944,
          1998,
          1996,
          2007,
          1980,
          1976,
          1968,
          2000,
          1991,
          2011,
          1990,
          1995,
          2002,
          2012,
          1990,
          1953,
          1944,
          2005,
          1946,
          1988,
          1957,
          2004,
          2004,
          1979,
          2005,
          1973,
          1982,
          1984,
          1928,
          1959,
          2006,
          1946,
          1981,
          1967,
          1926,
          1916,
          2011,
          2011,
          1997,
          1998,
          1951,
          2011,
          2003,
          1987,
          1965,
          1967,
          1989,
          1960,
          1993,
          1993,
          1988,
          1960,
          1998,
          1984,
          1999,
          1960,
          1947,
          1999,
          1964,
          2003,
          2001,
          1957,
          1999,
          2005,
          1954,
          1977,
          2003,
          1997,
          1985,
          2010,
          1975,
          1936,
          2011,
          1991,
          2011,
          2004,
          1990,
          2002,
          1993,
          1961,
          1985,
          2011,
          1960,
          1971,
          1976,
          1999,
          1977,
          2001,
          2011,
          2000,
          1968,
          2004,
          1973,
          1960,
          1986,
          1991,
          1955,
          1968,
          1960,
          2002,
          1970,
          2004,
          1987,
          1999,
          1989,
          2002,
          1996,
          1947,
          1966,
          1999,
          1970,
          1998,
          2003,
          1953,
          1977,
          2003,
          2012,
          2001,
          1999,
          2008,
          2012,
          1999,
          1963,
          1984,
          2008,
          1978,
          2005,
          1995,
          1924,
          1990,
          1995,
          1996,
          1985,
          1988,
          1931,
          1977,
          1931,
          1985,
          1987,
          1974,
          1956,
          1978,
          1957,
          1990,
          1972,
          2009,
          1952,
          1972,
          1978,
          1991,
          1939,
          1995,
          2009,
          2004,
          1994,
          2005,
          1973,
          1998,
          1999,
          1967,
          1990,
          1985,
          1996,
          1989,
          2006,
          2004,
          2004,
          1954,
          1931,
          2006,
          1988,
          1996,
          2007,
          1999,
          1993,
          2008,
          2002,
          2007,
          1945,
          2002,
          2004,
          1995,
          2000,
          2007,
          1965,
          1984,
          1976,
          1962,
          1984,
          1989,
          2000,
          2000,
          1967,
          1990,
          1995,
          1935,
          1982,
          1962,
          1983,
          1980,
          1988,
          1951,
          1996,
          1993,
          1941,
          1997,
          2010,
          2002,
          2006,
          1998,
          2008,
          1979,
          1985,
          1959,
          1992,
          1973,
          1967,
          1967,
          2004,
          2005,
          1968,
          1975,
          1988,
          1953,
          1983,
          2003,
          2009,
          1971,
          2008,
          1982,
          1995,
          1982,
          1972,
          1968,
          2001,
          1983,
          1996,
          1995,
          2008,
          1983,
          2004,
          1982,
          1988,
          1991,
          2000,
          1960,
          1980,
          2008,
          2005,
          1996,
          2001,
          2006,
          1997,
          1996,
          1974,
          1982,
          2002,
          1963,
          1960,
          1984,
          1986,
          2005,
          2006,
          1997,
          1939,
          1997,
          1996,
          1930,
          1931,
          1985,
          1987,
          2003,
          1956,
          1940,
          2004,
          1977,
          1934,
          1978,
          1998,
          1946,
          1985,
          1974,
          1999,
          1969,
          1999,
          1946,
          1974,
          2002,
          1995,
          2001,
          1978,
          2003,
          2010,
          1988,
          2006,
          1998,
          1966,
          1951,
          1944,
          1989,
          1962,
          1963,
          2000,
          2005,
          2001,
          1997,
          1962,
          2004,
          1926,
          2006,
          1960,
          2007,
          1967,
          1997,
          2002,
          1986,
          2004,
          1954,
          1947,
          2004,
          1999,
          2007,
          1989,
          1991,
          2008,
          2007,
          1983,
          2012,
          2008,
          2011,
          1992,
          1993,
          2004,
          2007,
          2004,
          1999,
          1969,
          2002,
          2002,
          1996,
          1999,
          1967,
          1998,
          2006,
          2008,
          2003,
          2012,
          1980,
          2011,
          2006,
          1981,
          2010,
          1993,
          2005,
          1967,
          1994,
          2011,
          1997,
          1994,
          1990,
          1978,
          1973,
          2001,
          2002,
          2012,
          2002,
          1976,
          2012,
          1964,
          2000,
          1999,
          1971,
          2003,
          2013,
          1981,
          1987,
          1941,
          1948,
          2000,
          1951,
          1959,
          2003,
          1988,
          2009,
          1987,
          1998,
          1991,
          1962,
          2003,
          1992,
          1974,
          1991,
          2006,
          2006,
          1971,
          2011,
          1995,
          2013,
          1980,
          2003,
          1992,
          1981,
          1958,
          2010,
          2001,
          1988,
          2003,
          1985,
          1943,
          1991,
          1956,
          2002,
          1981,
          1961,
          2001,
          2003,
          2003,
          2001,
          2002,
          1995,
          1966,
          1940,
          2004,
          1977,
          1978,
          1981,
          1958,
          1981,
          1988,
          1978,
          2001,
          1998,
          1983,
          2005,
          1987,
          2010,
          1998,
          1993,
          1987,
          1996,
          1985,
          1981,
          1991,
          1985,
          2005,
          2012,
          1982,
          1964,
          2009,
          2002,
          2000,
          2006,
          1999,
          1997,
          1993,
          2010,
          2005,
          1968,
          1985,
          1979,
          1984,
          2006,
          1991,
          1986,
          1992,
          1991,
          1958,
          2000,
          1996,
          2007,
          2002,
          1941,
          1975,
          1986,
          1983,
          1993,
          2008,
          2008,
          2002,
          1983,
          2012,
          1983,
          2002,
          1967,
          1996,
          2006,
          2002,
          2007,
          2001,
          1971,
          2001,
          2007,
          1996,
          1996,
          1989,
          2003,
          2004,
          1987,
          1970,
          1973,
          2000,
          2003,
          1997,
          2002,
          1979,
          1993
         ],
         "y": [
          774221512.7735089,
          18708255.505433217,
          138394835.4805603,
          1486988.3115860003,
          69738220.40487754,
          95228538.08349824,
          64489065.70133573,
          58900240.823882334,
          26484936.049265753,
          167608282.5787199,
          71527944.008705,
          67596359.48414831,
          71234810.60606061,
          8179479.366189461,
          84688026.9564334,
          183178051.35287094,
          281569424.8366953,
          46576927.016754515,
          30588310.615975723,
          626801494.3905222,
          71771116.81643133,
          39232029.132791325,
          192829642.16821292,
          273728713.8064967,
          56124236.300556175,
          125800525.01544164,
          103938938.65134358,
          156244325.53341797,
          50216699.60327955,
          118816843.89788048,
          565377495.0508988,
          253605100.61320016,
          29554869.034066234,
          41229998.15824054,
          23012842.148590244,
          59229679.39782549,
          32388558.576179396,
          149474564.9494527,
          6637249.227571256,
          183914860.48869324,
          46585127.471553236,
          143542233.63286266,
          110045813.22406703,
          43376399.17504752,
          2127455.03785964,
          25626232.142276056,
          172879850.17532676,
          106367872.11316831,
          115309432.14629452,
          108738985.41365048,
          168290132.24437097,
          57577473.405445956,
          95863290.82672706,
          1014148657.2733939,
          19886165.892850526,
          131591051.80940323,
          291523190.1029978,
          21751361.655773416,
          13601199.623615222,
          90128479.31219774,
          355818419.2712631,
          19983174.28427759,
          159426048.04114512,
          1199639811.160065,
          140714474.08209938,
          106556170.9500433,
          602953239.5003972,
          483200445.1640288,
          471093917.74059385,
          48582904.140133634,
          72514843.46541935,
          25819310.871231478,
          203689018.5327384,
          1401899973.2302203,
          164077732.83661523,
          53724238.83145796,
          24424425.71341834,
          46631247.88679376,
          1068715091.6673609,
          226036018.24187553,
          675063883.4918073,
          50415630.50015126,
          10969077.370612731,
          46127243.15068493,
          657730436.7353762,
          46356787.48719513,
          79916666.66666666,
          166255091.06396517,
          19498201.47469111,
          76129765.79520696,
          691603.1502624748,
          5031663.128753754,
          69350475.30053748,
          435809204.62820596,
          756342541.9039991,
          444093584.86342734,
          861379.9181170643,
          1082988084.8466327,
          33018949.34870365,
          60239809.04629828,
          16935880.385093633,
          58487944.0649018,
          18322571.05266099,
          14833185.714285716,
          720340621.3218328,
          126261879.95553243,
          32726653.289709117,
          63102691.06037978,
          466529246.3483877,
          29032940.138717394,
          26645491.864994578,
          38870052.1909951,
          13098350.194813529,
          184762595.6345987,
          339298855.6573593,
          277196878.7021728,
          71204972.66527063,
          117832377.73044516,
          54037872.65842965,
          218264985.73943463,
          52992681.148520336,
          211450186.01740295,
          89126437.76824035,
          41781860.30290952,
          22090700.145940017,
          179684135.74875352,
          84567853.6600453,
          81579331.43732794,
          1054117659.591252,
          64454406.91199985,
          1554707.342786315,
          25129792.37242408,
          154503484.83241692,
          46714192.776010916,
          14975424.133191567,
          78158982.54193252,
          133060697.19859159,
          67186366.7858939,
          4019625.979809524,
          102963384.15123738,
          162125537.72522524,
          72890281.75426422,
          349173744.6914814,
          142283752.4163864,
          53078815.90821022,
          64522602.44551039,
          33933344.71164076,
          78022080.15931074,
          17547126.736942984,
          107996123.25658445,
          2510.508373786408,
          8504094.980564475,
          61272899.54997633,
          29023499.562609274,
          3416010.785251302,
          45133148.238533765,
          166369678.45728588,
          88866949.44311026,
          283304877.71539295,
          248395253.41363484,
          26624694.84553326,
          240909037.00020745,
          102876130.17411827,
          232404846.8850405,
          167068596.24739403,
          448281543.78671116,
          27976587.70847631,
          760704828.1467465,
          33106170.061582193,
          50792681.3102987,
          775860482.4935954,
          372341840.1214397,
          165854939.1871848,
          135053403.99803892,
          89021008.68661211,
          121332340.12154667,
          68564922.02767655,
          2315958815.160173,
          302271843.642867,
          3139482.592652014,
          8091836.134045653,
          1310633333.3333333,
          887284765.3373632,
          243500828.35183606,
          27226514.835143436,
          22347119.66025481,
          12345409.27495292,
          171239509.9540582,
          10692453.866743602,
          121268728.99616192,
          231235285.94424254,
          79307207.75625479,
          96473398.87640451,
          155220827.28180027,
          171819435.92298982,
          25915663.11824349,
          29574028.034911398,
          191207388.95660755,
          252210128.10679957,
          472609467.45562136,
          518242066.37726855,
          52015920.78938564,
          277298787.596829,
          21661267.258382645,
          3105374.966200603,
          15330095.742407352,
          81675736.5703787,
          46489.017948717956,
          35791390.630832404,
          419742816.7582145,
          52574946.26544869,
          101503826.07379389,
          43972586.98743881,
          66341975.67487392,
          122263290.84375656,
          98373513.18201196,
          244670009.31098703,
          712760936.05308,
          55638399.28881314,
          25580870.498125844,
          66849785.500949025,
          241975685.9688493,
          11254662.434190154,
          46199421.57451923,
          500071650.58135164,
          4802859.780450346,
          167618550.0934234,
          96201124.21874614,
          69578230.9501467,
          41177510.88637017,
          20480334.29477935,
          225228649.28909954,
          22976601.8869577,
          88457425.58748476,
          17132093.195266273,
          71045850.3682342,
          130174876.26299605,
          180125878.14974484,
          34592829.643888354,
          32483884.34623729,
          1389329148.268315,
          206306824.1150576,
          250501153.83408004,
          25911430.138665844,
          663076848.4805932,
          317877127.81065094,
          111143497.5072379,
          4518065.149082176,
          60903812.63616557,
          30807932.438907526,
          252058382.64299807,
          141915208.15880242,
          13200401.373685341,
          190734423.31033045,
          130735843.20304362,
          888189.1748261544,
          4549366.20042014,
          35840907.35702571,
          18386161.194331102,
          28069632.885405004,
          14354223.363286264,
          141045151.68602982,
          818424885.1684912,
          261482961.50885436,
          154464015.23231483,
          265449229.4520548,
          384364773.82098174,
          114300873.83690147,
          280624268.7124514,
          462702588.389486,
          104340956.67939866,
          425892959.36422014,
          129601777.53220089,
          123831345.49483214,
          168735877.75838095,
          45205876.289010115,
          20293903.4416538,
          670959278.6259516,
          3401924.5255728615,
          401790873.3134092,
          20274666.463333335,
          357503722.05935013,
          17633412.13843651,
          191251074.49119383,
          650577085.256833,
          146070731.78268623,
          21184415.09589041,
          772.5731953801733,
          183812712.32876712,
          316824520.9327549,
          6687099.453193986,
          407598121.17881525,
          182537800.42918456,
          75169023.92144226,
          372410680.4509048,
          109253508.84808981,
          1365244073.244988,
          30008064.109347496,
          95446597.08097929,
          204645429.24514747,
          27497744.634644866,
          514615211.20663285,
          6739188731.610635,
          15872177.093073938,
          115431216.95176901,
          14615324.92887585,
          184849360.8378788,
          300000.21338809474,
          46405654.37983296,
          15263303.797543582,
          86286630.9825479,
          16760339.745191108,
          596838.4544805154,
          129103605.67917572,
          49694663.445308685,
          37091506.360765666,
          48608810.948668934,
          166173220.07336318,
          8397246.711704757,
          188708251.86219743,
          16849498.630136985,
          692250835.2240916,
          649680795.9478755,
          50983799.080668904,
          497529744.64419776,
          20840678.415571064,
          10103595.570138449,
          82211558.53287816,
          11000482.782788975,
          78665883.5150309,
          73001132.14451134,
          1135403984.7596805,
          974096348.5567325,
          175962407.18400416,
          166814513.46705624,
          147202155.1879922,
          1043931087.0249404,
          60998996.379107185,
          102338739.20046858,
          30804242.424242426,
          107531716.68122496,
          301024924.3847876,
          194884256.4936145,
          7783740.100575881,
          316351412.69048214,
          4890470.917992219,
          48303998.00220661,
          13069359.137826353,
          170643704.52663213,
          101113739.79424243,
          81219224.08383535,
          44381751.946607344,
          68297849.12916638,
          62819887.64044945,
          42991426.966632135,
          87415.54969426017,
          71192317.48726656,
          66638790.87735697,
          4248987.290743259,
          38856733.81868427,
          24267365.96254806,
          102160096.84108941,
          19334291.538757484,
          115048222.08862671,
          36828217.0677603,
          141116850,
          4693630.604522509,
          19937768.393393397,
          8380169.872595554,
          779249558.5478266,
          17685051.373394072,
          145072436.6350224,
          223661745.2122904,
          471749023.7587102,
          49296586.351007685,
          313317123.2876712,
          78816320.88670933,
          31532310.985277463,
          101659640.54759009,
          667484880.3154867,
          177632124.79093176,
          100720561.70607945,
          1301805.356187794,
          71727056.25511228,
          70193525.308888,
          43532948.01149976,
          1045255.8915121423,
          374228246.31860775,
          1633744.2885984487,
          278259172.3582221,
          47989269.530561656,
          19646982.931726906,
          370319097.98834157,
          30259838.42939983,
          112366768.21577762,
          152792558.3450407,
          676414.2953929539,
          81918974.35897437,
          14134315.906562848,
          16115668.119388226,
          72455758.8078067,
          24492916.14801828,
          485185062.0516589,
          100691402.8877682,
          248346128.60272297,
          607669.7029221125,
          168664550.4478621,
          35404003.985755615,
          220111976.75279593,
          76067619.04761904,
          171320931.95266274,
          14692749.381273067,
          104232343.6163917,
          147052897.2973736,
          56752357.704505816,
          175917855.20083323,
          115201116.126423,
          182262565.5721057,
          226148835.71267402,
          45614949.8502994,
          11518929.97260274,
          24121130.793682214,
          35235920.820520714,
          19148806.31484711,
          68558798.2832618,
          26458159.637120765,
          142577910.80078754,
          118188870.1001925,
          19495287.671232875,
          89087453.76022612,
          54552758.633249834,
          282293852.4765158,
          26854674.620390456,
          548041676.5252662,
          39327686.84451448,
          38102930.48614267,
          23494996.247936364,
          60708098.67634501,
          460978641.91313165,
          95629598.25406533,
          14398391.163745489,
          138377771.8359775,
          85707256.0040879,
          219097018.89325708,
          99623761.68325838,
          50305770.02831725,
          10921351.246349884,
          9220095.75153622,
          86125340.17971759,
          62819887.64044945,
          31119799.85788726,
          66055378.74132832,
          458729346.65833336,
          600173514.2857143,
          97228777.03182589,
          142272694.29089397,
          105197225.20967385,
          897827869.4421737,
          59298166.666666664,
          144012686.7553428,
          19742125.706214692,
          377537945.4717767,
          27568885.60157791,
          219916693.89076608,
          83801698.72595555,
          221967865.6733984,
          53517861.79427149,
          4152382.3462480046,
          8281950.530528104,
          130143621.97392926,
          16326394.14096678,
          323751351.1426807,
          106772767.10771424,
          418220013.18633556,
          187919.13148695888,
          127924867.64395462,
          11670225.577379502,
          52215.30483190247,
          49585242.63721553,
          360903063.70218146,
          454077712.50545937,
          41200729.673672885,
          28438018.320233997,
          1483776030.2855496,
          118531183.61093268,
          19071449.650162034,
          383116932.16544163,
          247971715.92037368,
          410079569.6594844,
          270931254.6279963,
          97644533.59197591,
          77825637.02050793,
          16782140.177097403,
          1437503696.4572072,
          52906103.49641889,
          6835201.765276344,
          110041524.21170989,
          198592799.3566025,
          288301262.32420504,
          126591724.7922692,
          59836560.68730064,
          166404795.17175812,
          76349970.67179911,
          269517150.9373359,
          148361476.78107876,
          128885911.67208664,
          113256410.57932802,
          336355749.18376625,
          224361174.69142398,
          1246013.9306432353,
          1064613031.5748918,
          394572193.70251936,
          13262369.363157894,
          52467811.56156157,
          370919857.38684815,
          38701174.82410239,
          1036061026.5118378,
          53873574.14757934,
          32339041.587348074,
          8424889.878609952,
          15021413.218699625,
          63753799.25381098,
          15142827.160318173,
          152972114.97221652,
          227013902.06293997,
          351040419,
          7942446.613509304,
          72802579.05374037,
          94923089.98302208,
          41733635.68457539,
          288863720.5294038,
          14358831.46067416,
          63933333.33333333,
          10845830.89205436,
          31750998.86008386,
          50461011.28288478,
          136750164.6497983,
          23317773.338482186,
          311825806.461482,
          793209242.4242424,
          3165894.677236693,
          36100242.15018708,
          125356029.41017407,
          204266431.05181733,
          26950590.12760531,
          209941393.82466415,
          63285315.908623174,
          136989384.5020098,
          86575910.56131467,
          63327201,
          154818598.18248054,
          7602689.6510509625,
          125356626.59470247,
          31709897.844491802,
          62946669.52954085,
          122834465.52805746,
          13197942.79299934,
          19712406.504763585,
          156038621.0716376,
          45407451.81464209,
          239574545.01685122,
          24952448.136829227,
          25709549.356223177,
          251148615.52254808,
          91866060.23343875,
          662437203.7914692,
          35593248.317618124,
          86487548.19347905,
          16366328.076539071,
          1284696325.7208912,
          39684321.70880241,
          205744357.19477198,
          248056927.25974327,
          33259785.84176086,
          8391654.755033972,
          60611718.838402316,
          67851577.6699029,
          89589355.34959675,
          163959.27183078256,
          1452022.7174044545,
          18134749.103755902,
          51996035.284542665,
          476542491.52574354,
          111107653.88452022,
          253595184.04724315,
          566574803.6846832,
          4999077.563212321,
          314946186.4831048,
          131633342.07925464,
          86918611.3151572,
          29882459.408584524,
          27664368.78026512,
          32609945.417977225,
          46081288.69315829,
          2302179.310992474,
          46104911.02852495,
          888701936.3284725,
          100812553.80312052,
          14751866.079395512,
          937945017.7460237,
          117634160.25571153,
          41815124.94618485,
          41396554.878048785,
          31097874.881482787,
          401095071.7876782,
          87843817.38833195,
          314894099.52533025,
          25795687.70232999,
          113592139.4863495,
          140644908.96023002,
          5197678.95878525,
          69654408.65771042,
          38302062.125778124,
          288074555.91167176,
          59514016.32662302,
          30778615.02996275,
          295605499.8721315,
          299337388.17379004,
          297065688.70921165,
          145599699.01549798,
          73708273.17916003,
          86746920.44031633,
          13882697.105927728,
          28033952.57498585,
          2037323322.5534225,
          82093169.34672698,
          205795258.07118055,
          37474030.36160081,
          14287029.267400905,
          122530205.18830097,
          61510922.05432477,
          154423716.4236655,
          704566444.676104,
          48571589.297824636,
          15324751.637095205,
          296328414.42531854,
          344536508.57566947,
          8851715.873767104,
          137066904.6929164,
          16529258.426622389,
          310395866.53695405,
          102982468.61494134,
          1146412458.1309016,
          154584293.05571222,
          476294820.44288075,
          33477438.890189674,
          158663176.40032604,
          79616610.77454586,
          160696251.2491353,
          63273429.83683535,
          114001774.35765187,
          7649806.925675676,
          61627474.682300135,
          1416913865.2139592,
          72663902.8036289,
          160242323.6369516,
          72190339.50386381,
          172871421.66896453
         ]
        },
        {
         "line": {
          "color": "black",
          "dash": "dash"
         },
         "mode": "lines",
         "name": "Average Original revenue",
         "type": "scatter",
         "x": [
          1916,
          1924,
          1926,
          1928,
          1930,
          1931,
          1934,
          1935,
          1936,
          1939,
          1940,
          1941,
          1942,
          1943,
          1944,
          1945,
          1946,
          1947,
          1948,
          1951,
          1952,
          1953,
          1954,
          1955,
          1956,
          1957,
          1958,
          1959,
          1960,
          1961,
          1962,
          1963,
          1964,
          1965,
          1966,
          1967,
          1968,
          1969,
          1970,
          1971,
          1972,
          1973,
          1974,
          1975,
          1976,
          1977,
          1978,
          1979,
          1980,
          1981,
          1982,
          1983,
          1984,
          1985,
          1986,
          1987,
          1988,
          1989,
          1990,
          1991,
          1992,
          1993,
          1994,
          1995,
          1996,
          1997,
          1998,
          1999,
          2000,
          2001,
          2002,
          2003,
          2004,
          2005,
          2006,
          2007,
          2008,
          2009,
          2010,
          2011,
          2012,
          2013
         ],
         "y": [
          8000000,
          1490419,
          1219000,
          596000,
          3270000,
          3808750,
          1120000,
          1104500,
          2750000,
          147661815.33333334,
          19228613,
          4090666.6666666665,
          1040000,
          17800000,
          2869250,
          5638000,
          23807200,
          2561536.3333333335,
          4559722,
          6587500,
          10878000,
          39801162.75,
          21650000,
          6083333.333333333,
          15111163.6,
          24302666.666666668,
          14454509.75,
          49914500,
          19215211.333333332,
          40500000,
          32774480.166666668,
          27902695.25,
          38212415.14285714,
          50662552.666666664,
          15712444.4,
          46608639.25,
          22551100,
          25976831,
          56600107.8,
          24474042.7,
          57094878.28571428,
          77968134.375,
          55125504.71428572,
          124788612.8,
          21602255,
          55271650.875,
          31008414.8,
          52738862.85714286,
          33159269.333333332,
          18159933.625,
          39337840.75,
          63162819.6,
          19763289.875,
          50483871.8,
          34602574.71428572,
          30631152.363636363,
          82849491.27272727,
          44370152.25,
          98773616.54545455,
          91286945.06666666,
          53564102.333333336,
          134739650.875,
          306226433.25,
          81669320.91666667,
          84179422,
          120770991.07142857,
          50938238.666666664,
          102387984.75,
          84950042.28571428,
          241558607.625,
          137654121.74074075,
          128538252.76190476,
          142962771.0909091,
          190693800.55,
          147140587.05555555,
          211194306,
          101886238.3888889,
          156593391,
          156694906.83333334,
          284385402.2,
          367678221.6666667,
          207183810
         ]
        },
        {
         "line": {
          "color": "black",
          "dash": "dot"
         },
         "mode": "lines",
         "name": "Average adjusted_revenue",
         "type": "scatter",
         "x": [
          1916,
          1924,
          1926,
          1928,
          1930,
          1931,
          1934,
          1935,
          1936,
          1939,
          1940,
          1941,
          1942,
          1943,
          1944,
          1945,
          1946,
          1947,
          1948,
          1951,
          1952,
          1953,
          1954,
          1955,
          1956,
          1957,
          1958,
          1959,
          1960,
          1961,
          1962,
          1963,
          1964,
          1965,
          1966,
          1967,
          1968,
          1969,
          1970,
          1971,
          1972,
          1973,
          1974,
          1975,
          1976,
          1977,
          1978,
          1979,
          1980,
          1981,
          1982,
          1983,
          1984,
          1985,
          1986,
          1987,
          1988,
          1989,
          1990,
          1991,
          1992,
          1993,
          1994,
          1995,
          1996,
          1997,
          1998,
          1999,
          2000,
          2001,
          2002,
          2003,
          2004,
          2005,
          2006,
          2007,
          2008,
          2009,
          2010,
          2011,
          2012,
          2013
         ],
         "y": [
          171239509.9540582,
          20274666.463333335,
          16043767.490583807,
          8091836.134045653,
          45614949.8502994,
          58341389.00684931,
          19495287.671232875,
          18746892.425622344,
          46199421.57451923,
          2473255780.929319,
          319769775.2070494,
          64716453.34842483,
          14833185.714285716,
          239574545.01685122,
          37995951.379677884,
          73001132.14451134,
          284170241.2126388,
          26729139.21906806,
          44182441.78568457,
          59118001.40449439,
          95446597.08097929,
          346399606.0092894,
          187840627.71570456,
          52928313.36238199,
          129500402.13472104,
          201535865.10432115,
          116683122.11515665,
          398900045.8333333,
          151354846.58823144,
          315631844.1594648,
          252398258.09563127,
          212249159.26788095,
          287002238.972676,
          374573938.22104377,
          112769968.25040822,
          325490262.03793716,
          151033209.8310973,
          164965564.30721268,
          339610973.0699357,
          140804320.34823933,
          318070697.13937825,
          409081738.2194011,
          260440293.30102247,
          540174504.8826387,
          88429901.62348074,
          212444755.87281644,
          110735256.06435616,
          169285451.87070847,
          93736717.597627,
          46527194.619817734,
          94964027.41711032,
          147733195.07154116,
          44318931.81149878,
          109332899.25536336,
          73542901.67654908,
          62800826.52384305,
          163205207.60379115,
          83380004.74764134,
          176108274.41072136,
          156147149.01162007,
          88928402.78613752,
          217284495.48676053,
          481279249.31347406,
          124852543.79455756,
          125025136.28183511,
          175274371.28819045,
          72796422.53416832,
          143190792.7104176,
          114922845.99258614,
          317805658.9968811,
          178276596.0224298,
          162775428.0960876,
          176321486.87155652,
          227472438.24643344,
          170034022.5724442,
          237284827.35620108,
          110240805.03886512,
          170038453.21150315,
          167403199.96093532,
          294522269.3798942,
          373064092.3252691,
          207183810
         ]
        }
       ],
       "layout": {
        "height": 500,
        "legend": {
         "tracegroupgap": 0
        },
        "showlegend": true,
        "template": {
         "data": {
          "bar": [
           {
            "error_x": {
             "color": "#2a3f5f"
            },
            "error_y": {
             "color": "#2a3f5f"
            },
            "marker": {
             "line": {
              "color": "#E5ECF6",
              "width": 0.5
             },
             "pattern": {
              "fillmode": "overlay",
              "size": 10,
              "solidity": 0.2
             }
            },
            "type": "bar"
           }
          ],
          "barpolar": [
           {
            "marker": {
             "line": {
              "color": "#E5ECF6",
              "width": 0.5
             },
             "pattern": {
              "fillmode": "overlay",
              "size": 10,
              "solidity": 0.2
             }
            },
            "type": "barpolar"
           }
          ],
          "carpet": [
           {
            "aaxis": {
             "endlinecolor": "#2a3f5f",
             "gridcolor": "white",
             "linecolor": "white",
             "minorgridcolor": "white",
             "startlinecolor": "#2a3f5f"
            },
            "baxis": {
             "endlinecolor": "#2a3f5f",
             "gridcolor": "white",
             "linecolor": "white",
             "minorgridcolor": "white",
             "startlinecolor": "#2a3f5f"
            },
            "type": "carpet"
           }
          ],
          "choropleth": [
           {
            "colorbar": {
             "outlinewidth": 0,
             "ticks": ""
            },
            "type": "choropleth"
           }
          ],
          "contour": [
           {
            "colorbar": {
             "outlinewidth": 0,
             "ticks": ""
            },
            "colorscale": [
             [
              0,
              "#0d0887"
             ],
             [
              0.1111111111111111,
              "#46039f"
             ],
             [
              0.2222222222222222,
              "#7201a8"
             ],
             [
              0.3333333333333333,
              "#9c179e"
             ],
             [
              0.4444444444444444,
              "#bd3786"
             ],
             [
              0.5555555555555556,
              "#d8576b"
             ],
             [
              0.6666666666666666,
              "#ed7953"
             ],
             [
              0.7777777777777778,
              "#fb9f3a"
             ],
             [
              0.8888888888888888,
              "#fdca26"
             ],
             [
              1,
              "#f0f921"
             ]
            ],
            "type": "contour"
           }
          ],
          "contourcarpet": [
           {
            "colorbar": {
             "outlinewidth": 0,
             "ticks": ""
            },
            "type": "contourcarpet"
           }
          ],
          "heatmap": [
           {
            "colorbar": {
             "outlinewidth": 0,
             "ticks": ""
            },
            "colorscale": [
             [
              0,
              "#0d0887"
             ],
             [
              0.1111111111111111,
              "#46039f"
             ],
             [
              0.2222222222222222,
              "#7201a8"
             ],
             [
              0.3333333333333333,
              "#9c179e"
             ],
             [
              0.4444444444444444,
              "#bd3786"
             ],
             [
              0.5555555555555556,
              "#d8576b"
             ],
             [
              0.6666666666666666,
              "#ed7953"
             ],
             [
              0.7777777777777778,
              "#fb9f3a"
             ],
             [
              0.8888888888888888,
              "#fdca26"
             ],
             [
              1,
              "#f0f921"
             ]
            ],
            "type": "heatmap"
           }
          ],
          "heatmapgl": [
           {
            "colorbar": {
             "outlinewidth": 0,
             "ticks": ""
            },
            "colorscale": [
             [
              0,
              "#0d0887"
             ],
             [
              0.1111111111111111,
              "#46039f"
             ],
             [
              0.2222222222222222,
              "#7201a8"
             ],
             [
              0.3333333333333333,
              "#9c179e"
             ],
             [
              0.4444444444444444,
              "#bd3786"
             ],
             [
              0.5555555555555556,
              "#d8576b"
             ],
             [
              0.6666666666666666,
              "#ed7953"
             ],
             [
              0.7777777777777778,
              "#fb9f3a"
             ],
             [
              0.8888888888888888,
              "#fdca26"
             ],
             [
              1,
              "#f0f921"
             ]
            ],
            "type": "heatmapgl"
           }
          ],
          "histogram": [
           {
            "marker": {
             "pattern": {
              "fillmode": "overlay",
              "size": 10,
              "solidity": 0.2
             }
            },
            "type": "histogram"
           }
          ],
          "histogram2d": [
           {
            "colorbar": {
             "outlinewidth": 0,
             "ticks": ""
            },
            "colorscale": [
             [
              0,
              "#0d0887"
             ],
             [
              0.1111111111111111,
              "#46039f"
             ],
             [
              0.2222222222222222,
              "#7201a8"
             ],
             [
              0.3333333333333333,
              "#9c179e"
             ],
             [
              0.4444444444444444,
              "#bd3786"
             ],
             [
              0.5555555555555556,
              "#d8576b"
             ],
             [
              0.6666666666666666,
              "#ed7953"
             ],
             [
              0.7777777777777778,
              "#fb9f3a"
             ],
             [
              0.8888888888888888,
              "#fdca26"
             ],
             [
              1,
              "#f0f921"
             ]
            ],
            "type": "histogram2d"
           }
          ],
          "histogram2dcontour": [
           {
            "colorbar": {
             "outlinewidth": 0,
             "ticks": ""
            },
            "colorscale": [
             [
              0,
              "#0d0887"
             ],
             [
              0.1111111111111111,
              "#46039f"
             ],
             [
              0.2222222222222222,
              "#7201a8"
             ],
             [
              0.3333333333333333,
              "#9c179e"
             ],
             [
              0.4444444444444444,
              "#bd3786"
             ],
             [
              0.5555555555555556,
              "#d8576b"
             ],
             [
              0.6666666666666666,
              "#ed7953"
             ],
             [
              0.7777777777777778,
              "#fb9f3a"
             ],
             [
              0.8888888888888888,
              "#fdca26"
             ],
             [
              1,
              "#f0f921"
             ]
            ],
            "type": "histogram2dcontour"
           }
          ],
          "mesh3d": [
           {
            "colorbar": {
             "outlinewidth": 0,
             "ticks": ""
            },
            "type": "mesh3d"
           }
          ],
          "parcoords": [
           {
            "line": {
             "colorbar": {
              "outlinewidth": 0,
              "ticks": ""
             }
            },
            "type": "parcoords"
           }
          ],
          "pie": [
           {
            "automargin": true,
            "type": "pie"
           }
          ],
          "scatter": [
           {
            "fillpattern": {
             "fillmode": "overlay",
             "size": 10,
             "solidity": 0.2
            },
            "type": "scatter"
           }
          ],
          "scatter3d": [
           {
            "line": {
             "colorbar": {
              "outlinewidth": 0,
              "ticks": ""
             }
            },
            "marker": {
             "colorbar": {
              "outlinewidth": 0,
              "ticks": ""
             }
            },
            "type": "scatter3d"
           }
          ],
          "scattercarpet": [
           {
            "marker": {
             "colorbar": {
              "outlinewidth": 0,
              "ticks": ""
             }
            },
            "type": "scattercarpet"
           }
          ],
          "scattergeo": [
           {
            "marker": {
             "colorbar": {
              "outlinewidth": 0,
              "ticks": ""
             }
            },
            "type": "scattergeo"
           }
          ],
          "scattergl": [
           {
            "marker": {
             "colorbar": {
              "outlinewidth": 0,
              "ticks": ""
             }
            },
            "type": "scattergl"
           }
          ],
          "scattermapbox": [
           {
            "marker": {
             "colorbar": {
              "outlinewidth": 0,
              "ticks": ""
             }
            },
            "type": "scattermapbox"
           }
          ],
          "scatterpolar": [
           {
            "marker": {
             "colorbar": {
              "outlinewidth": 0,
              "ticks": ""
             }
            },
            "type": "scatterpolar"
           }
          ],
          "scatterpolargl": [
           {
            "marker": {
             "colorbar": {
              "outlinewidth": 0,
              "ticks": ""
             }
            },
            "type": "scatterpolargl"
           }
          ],
          "scatterternary": [
           {
            "marker": {
             "colorbar": {
              "outlinewidth": 0,
              "ticks": ""
             }
            },
            "type": "scatterternary"
           }
          ],
          "surface": [
           {
            "colorbar": {
             "outlinewidth": 0,
             "ticks": ""
            },
            "colorscale": [
             [
              0,
              "#0d0887"
             ],
             [
              0.1111111111111111,
              "#46039f"
             ],
             [
              0.2222222222222222,
              "#7201a8"
             ],
             [
              0.3333333333333333,
              "#9c179e"
             ],
             [
              0.4444444444444444,
              "#bd3786"
             ],
             [
              0.5555555555555556,
              "#d8576b"
             ],
             [
              0.6666666666666666,
              "#ed7953"
             ],
             [
              0.7777777777777778,
              "#fb9f3a"
             ],
             [
              0.8888888888888888,
              "#fdca26"
             ],
             [
              1,
              "#f0f921"
             ]
            ],
            "type": "surface"
           }
          ],
          "table": [
           {
            "cells": {
             "fill": {
              "color": "#EBF0F8"
             },
             "line": {
              "color": "white"
             }
            },
            "header": {
             "fill": {
              "color": "#C8D4E3"
             },
             "line": {
              "color": "white"
             }
            },
            "type": "table"
           }
          ]
         },
         "layout": {
          "annotationdefaults": {
           "arrowcolor": "#2a3f5f",
           "arrowhead": 0,
           "arrowwidth": 1
          },
          "autotypenumbers": "strict",
          "coloraxis": {
           "colorbar": {
            "outlinewidth": 0,
            "ticks": ""
           }
          },
          "colorscale": {
           "diverging": [
            [
             0,
             "#8e0152"
            ],
            [
             0.1,
             "#c51b7d"
            ],
            [
             0.2,
             "#de77ae"
            ],
            [
             0.3,
             "#f1b6da"
            ],
            [
             0.4,
             "#fde0ef"
            ],
            [
             0.5,
             "#f7f7f7"
            ],
            [
             0.6,
             "#e6f5d0"
            ],
            [
             0.7,
             "#b8e186"
            ],
            [
             0.8,
             "#7fbc41"
            ],
            [
             0.9,
             "#4d9221"
            ],
            [
             1,
             "#276419"
            ]
           ],
           "sequential": [
            [
             0,
             "#0d0887"
            ],
            [
             0.1111111111111111,
             "#46039f"
            ],
            [
             0.2222222222222222,
             "#7201a8"
            ],
            [
             0.3333333333333333,
             "#9c179e"
            ],
            [
             0.4444444444444444,
             "#bd3786"
            ],
            [
             0.5555555555555556,
             "#d8576b"
            ],
            [
             0.6666666666666666,
             "#ed7953"
            ],
            [
             0.7777777777777778,
             "#fb9f3a"
            ],
            [
             0.8888888888888888,
             "#fdca26"
            ],
            [
             1,
             "#f0f921"
            ]
           ],
           "sequentialminus": [
            [
             0,
             "#0d0887"
            ],
            [
             0.1111111111111111,
             "#46039f"
            ],
            [
             0.2222222222222222,
             "#7201a8"
            ],
            [
             0.3333333333333333,
             "#9c179e"
            ],
            [
             0.4444444444444444,
             "#bd3786"
            ],
            [
             0.5555555555555556,
             "#d8576b"
            ],
            [
             0.6666666666666666,
             "#ed7953"
            ],
            [
             0.7777777777777778,
             "#fb9f3a"
            ],
            [
             0.8888888888888888,
             "#fdca26"
            ],
            [
             1,
             "#f0f921"
            ]
           ]
          },
          "colorway": [
           "#636efa",
           "#EF553B",
           "#00cc96",
           "#ab63fa",
           "#FFA15A",
           "#19d3f3",
           "#FF6692",
           "#B6E880",
           "#FF97FF",
           "#FECB52"
          ],
          "font": {
           "color": "#2a3f5f"
          },
          "geo": {
           "bgcolor": "white",
           "lakecolor": "white",
           "landcolor": "#E5ECF6",
           "showlakes": true,
           "showland": true,
           "subunitcolor": "white"
          },
          "hoverlabel": {
           "align": "left"
          },
          "hovermode": "closest",
          "mapbox": {
           "style": "light"
          },
          "paper_bgcolor": "white",
          "plot_bgcolor": "#E5ECF6",
          "polar": {
           "angularaxis": {
            "gridcolor": "white",
            "linecolor": "white",
            "ticks": ""
           },
           "bgcolor": "#E5ECF6",
           "radialaxis": {
            "gridcolor": "white",
            "linecolor": "white",
            "ticks": ""
           }
          },
          "scene": {
           "xaxis": {
            "backgroundcolor": "#E5ECF6",
            "gridcolor": "white",
            "gridwidth": 2,
            "linecolor": "white",
            "showbackground": true,
            "ticks": "",
            "zerolinecolor": "white"
           },
           "yaxis": {
            "backgroundcolor": "#E5ECF6",
            "gridcolor": "white",
            "gridwidth": 2,
            "linecolor": "white",
            "showbackground": true,
            "ticks": "",
            "zerolinecolor": "white"
           },
           "zaxis": {
            "backgroundcolor": "#E5ECF6",
            "gridcolor": "white",
            "gridwidth": 2,
            "linecolor": "white",
            "showbackground": true,
            "ticks": "",
            "zerolinecolor": "white"
           }
          },
          "shapedefaults": {
           "line": {
            "color": "#2a3f5f"
           }
          },
          "ternary": {
           "aaxis": {
            "gridcolor": "white",
            "linecolor": "white",
            "ticks": ""
           },
           "baxis": {
            "gridcolor": "white",
            "linecolor": "white",
            "ticks": ""
           },
           "bgcolor": "#E5ECF6",
           "caxis": {
            "gridcolor": "white",
            "linecolor": "white",
            "ticks": ""
           }
          },
          "title": {
           "x": 0.05
          },
          "xaxis": {
           "automargin": true,
           "gridcolor": "white",
           "linecolor": "white",
           "ticks": "",
           "title": {
            "standoff": 15
           },
           "zerolinecolor": "white",
           "zerolinewidth": 2
          },
          "yaxis": {
           "automargin": true,
           "gridcolor": "white",
           "linecolor": "white",
           "ticks": "",
           "title": {
            "standoff": 15
           },
           "zerolinecolor": "white",
           "zerolinewidth": 2
          }
         }
        },
        "title": {
         "text": "Original vs. Inflation-Adjusted revenue (base year = 2013) of Movies"
        },
        "width": 800,
        "xaxis": {
         "anchor": "y",
         "domain": [
          0,
          1
         ],
         "title": {
          "text": "Release Year"
         }
        },
        "yaxis": {
         "anchor": "x",
         "domain": [
          0,
          1
         ],
         "title": {
          "text": "revenue (USD), log scale"
         },
         "type": "log"
        }
       }
      }
     },
     "metadata": {},
     "output_type": "display_data"
    }
   ],
   "source": [
    "df_revenue = gu.adjust_for_inflation(data, ['revenue'],cpiaucns_path='./data/CPIAUCNS.csv' ,title='BookTitle', is_plotting_enabled=True)"
   ]
  },
  {
   "cell_type": "markdown",
   "metadata": {},
   "source": [
    "With this inflation-adjustment trends can be visualized related to the cost of living at that momnent. This shows that the trend of increasing revenues is much less present than initially thought. Another thing that can be seen is the increase in movies at around 1980. After 1980 it seems that movies have a much harder time to make a lot of money. This may also arise because of a bias in the dataset which leads to only successful old movies being included."
   ]
  },
  {
   "cell_type": "markdown",
   "metadata": {},
   "source": [
    "### Let's plot the categories with Inflations-Adjustment"
   ]
  },
  {
   "cell_type": "code",
   "execution_count": 47,
   "metadata": {},
   "outputs": [
    {
     "data": {
      "application/vnd.plotly.v1+json": {
       "config": {
        "plotlyServerURL": "https://plot.ly"
       },
       "data": [
        {
         "hovertemplate": "<b>%{hovertext}</b><br><br>Success Cathegory=High Rating & High Revenue<br>Movie Revenue ($), logscale=%{x}<br>Normalized Movie Rating=%{y}<extra></extra>",
         "hovertext": [
          "Mary Poppins",
          "The Last Picture Show",
          "L.A. Confidential",
          "Giant",
          "Tarzan",
          "No Country for Old Men",
          "The Rescuers",
          "Death Wish",
          "Munich",
          "The Girl with the Dragon Tattoo",
          "The Wizard of Oz",
          "Catch-22",
          "War Horse",
          "The Sand Pebbles",
          "The Time Traveler's Wife",
          "Harry Potter and the Half-Blood Prince",
          "The Night of the Iguana",
          "The Bourne Supremacy",
          "The Lord of the Rings: The Two Towers",
          "The Hunchback of Notre Dame",
          "The Poseidon Adventure",
          "Pinocchio",
          "The Name of the Rose",
          "Harry Potter and the Goblet of Fire",
          "Payback",
          "I Am Legend",
          "Dances with Wolves",
          "Rebecca",
          "The Silence of the Lambs",
          "Clear and Present Danger",
          "The Bourne Identity",
          "The Reader",
          "Planet of the Apes",
          "Trading Places",
          "Moby Dick",
          "Three Days of the Condor",
          "The Rescuers Down Under",
          "Harry Potter and the Order of the Phoenix",
          "Stardust",
          "Carlito's Way",
          "Paper Moon",
          "Marathon Man",
          "Bullitt",
          "The Girl with the Dragon Tattoo",
          "About a Boy",
          "Les Misérables",
          "Peter Pan",
          "Song of the South",
          "Sideways",
          "The Black Stallion",
          "The Exorcist",
          "First Blood",
          "Ben-Hur",
          "Duel in the Sun",
          "20,000 Leagues Under the Sea",
          "Water for Elephants",
          "The African Queen",
          "In the Heat of the Night",
          "Spartacus",
          "Schindler's List",
          "Die Hard",
          "Runaway Jury",
          "Bicentennial Man",
          "The Constant Gardener",
          "20,000 Leagues Under the Sea",
          "The Spy Who Loved Me",
          "Rise of the Planet of the Apes",
          "Limitless",
          "The Guns of Navarone",
          "The Lincoln Lawyer",
          "The Outlaw Josey Wales",
          "The Talented Mr. Ripley",
          "Harry Potter and the Deathly Hallows – Part 2",
          "Chocolat",
          "Oliver!",
          "Swiss Family Robinson",
          "The Color of Money",
          "Psycho",
          "Treasure Planet",
          "The Phantom of the Opera",
          "Fight Club",
          "Love Story",
          "Peter Pan",
          "From Here to Eternity",
          "Identity",
          "The Cider House Rules",
          "The Sword in the Stone",
          "Jumanji",
          "The Hunt for Red October",
          "Frankenstein",
          "The Color Purple",
          "Young Frankenstein",
          "The King and I",
          "The Bridge on the River Kwai",
          "Misery",
          "The Godfather",
          "The Getaway",
          "Gone with the Wind",
          "Fletch",
          "The Caine Mutiny",
          "Casino Royale",
          "Who Framed Roger Rabbit",
          "The Bourne Ultimatum",
          "Revolutionary Road",
          "Harry Potter and the Chamber of Secrets",
          "Harry Potter and the Prisoner of Azkaban",
          "Get Shorty",
          "Atonement",
          "Thunderball",
          "The Natural",
          "The Dirty Dozen",
          "To Kill a Mockingbird",
          "What Dreams May Come",
          "You Only Live Twice",
          "Pride & Prejudice",
          "Rosemary's Baby",
          "One Flew Over the Cuckoo's Nest",
          "Blade Runner",
          "The Bridges of Madison County",
          "Beaches",
          "Contact",
          "Murder on the Orient Express",
          "Starship Troopers",
          "The Hunchback of Notre Dame",
          "A Time to Kill",
          "The Notebook",
          "Invasion of the Body Snatchers",
          "The Best Years of Our Lives",
          "The Towering Inferno",
          "Cold Mountain",
          "Harper",
          "Dr. No",
          "From Russia with Love",
          "O Brother, Where Art Thou?",
          "Finding Neverland",
          "The Devil Wears Prada",
          "Hombre",
          "The Devil's Advocate",
          "Jurassic Park",
          "Red Dragon",
          "The Count of Monte Cristo",
          "The Jungle Book",
          "Mystic River",
          "The Shining",
          "True Grit",
          "Cool Hand Luke",
          "The Help",
          "Forrest Gump",
          "Presumed Innocent",
          "The Hobbit: An Unexpected Journey",
          "A Clockwork Orange",
          "The Great Gatsby",
          "How Green Was My Valley",
          "Crouching Tiger, Hidden Dragon",
          "Empire of the Sun",
          "Cape Fear",
          "Cape Fear",
          "Fried Green Tomatoes",
          "Ordinary People",
          "The Last of the Mohicans",
          "Big Fish",
          "For Whom the Bell Tolls",
          "One Hundred and One Dalmatians",
          "Open Range",
          "Harry Potter and the Philosopher's Stone",
          "Sense and Sensibility",
          "Excalibur",
          "Out of Sight",
          "Terms of Endearment",
          "Shutter Island",
          "The Chronicles of Narnia: The Lion, the Witch and the Wardrobe",
          "Goldfinger",
          "The Green Mile",
          "Where Eagles Dare",
          "Patriot Games",
          "South Pacific",
          "There Will Be Blood",
          "Jaws",
          "Rambo",
          "Scarface",
          "The Hunger Games",
          "To Sir, with Love",
          "The English Patient",
          "About Schmidt",
          "A.I. Artificial Intelligence",
          "Bedknobs and Broomsticks",
          "The Lord of the Rings: The Fellowship of the Ring",
          "Bridge to Terabithia",
          "Field of Dreams",
          "Man on Fire",
          "The Lord of the Rings: The Return of the King"
         ],
         "legendgroup": "High Rating & High Revenue",
         "marker": {
          "color": "#636efa",
          "symbol": "circle"
         },
         "mode": "markers",
         "name": "High Rating & High Revenue",
         "orientation": "v",
         "showlegend": true,
         "type": "scatter",
         "x": [
          774221512.7735089,
          167608282.5787199,
          183178051.35287094,
          281569424.8366953,
          626801494.3905222,
          192829642.16821292,
          273728713.8064967,
          103938938.65134358,
          156244325.53341797,
          118816843.89788048,
          565377495.0508988,
          149474564.9494527,
          183914860.48869324,
          143542233.63286266,
          110045813.22406703,
          1014148657.2733939,
          90128479.31219774,
          355818419.2712631,
          1199639811.160065,
          483200445.1640288,
          471093917.74059385,
          1401899973.2302203,
          164077732.83661523,
          1068715091.6673609,
          226036018.24187553,
          657730436.7353762,
          756342541.9039991,
          126261879.95553243,
          466529246.3483877,
          339298855.6573593,
          277196878.7021728,
          117832377.73044516,
          218264985.73943463,
          211450186.01740295,
          89126437.76824035,
          179684135.74875352,
          84567853.6600453,
          1054117659.591252,
          154503484.83241692,
          102963384.15123738,
          162125537.72522524,
          88866949.44311026,
          283304877.71539295,
          240909037.00020745,
          167068596.24739403,
          448281543.78671116,
          760704828.1467465,
          775860482.4935954,
          135053403.99803892,
          121332340.12154667,
          2315958815.160173,
          302271843.642867,
          1310633333.3333333,
          243500828.35183606,
          171239509.9540582,
          121268728.99616192,
          96473398.87640451,
          191207388.95660755,
          472609467.45562136,
          518242066.37726855,
          277298787.596829,
          101503826.07379389,
          122263290.84375656,
          98373513.18201196,
          244670009.31098703,
          712760936.05308,
          500071650.58135164,
          167618550.0934234,
          225228649.28909954,
          88457425.58748476,
          130174876.26299605,
          180125878.14974484,
          1389329148.268315,
          206306824.1150576,
          250501153.83408004,
          317877127.81065094,
          111143497.5072379,
          252058382.64299807,
          141915208.15880242,
          190734423.31033045,
          141045151.68602982,
          818424885.1684912,
          154464015.23231483,
          265449229.4520548,
          114300873.83690147,
          123831345.49483214,
          168735877.75838095,
          401790873.3134092,
          357503722.05935013,
          183812712.32876712,
          316824520.9327549,
          407598121.17881525,
          182537800.42918456,
          372410680.4509048,
          109253508.84808981,
          1365244073.244988,
          204645429.24514747,
          6739188731.610635,
          129103605.67917572,
          188708251.86219743,
          692250835.2240916,
          649680795.9478755,
          497529744.64419776,
          82211558.53287816,
          1135403984.7596805,
          974096348.5567325,
          175962407.18400416,
          147202155.1879922,
          1043931087.0249404,
          107531716.68122496,
          316351412.69048214,
          101113739.79424243,
          102160096.84108941,
          779249558.5478266,
          145072436.6350224,
          223661745.2122904,
          471749023.7587102,
          100720561.70607945,
          278259172.3582221,
          112366768.21577762,
          248346128.60272297,
          168664550.4478621,
          175917855.20083323,
          115201116.126423,
          226148835.71267402,
          142577910.80078754,
          89087453.76022612,
          282293852.4765158,
          548041676.5252662,
          219097018.89325708,
          86125340.17971759,
          458729346.65833336,
          600173514.2857143,
          97228777.03182589,
          144012686.7553428,
          377537945.4717767,
          83801698.72595555,
          221967865.6733984,
          1483776030.2855496,
          270931254.6279963,
          97644533.59197591,
          1437503696.4572072,
          198592799.3566025,
          126591724.7922692,
          269517150.9373359,
          113256410.57932802,
          224361174.69142398,
          1064613031.5748918,
          394572193.70251936,
          1036061026.5118378,
          152972114.97221652,
          351040419,
          94923089.98302208,
          288863720.5294038,
          136750164.6497983,
          311825806.461482,
          793209242.4242424,
          204266431.05181733,
          154818598.18248054,
          125356626.59470247,
          156038621.0716376,
          239574545.01685122,
          662437203.7914692,
          86487548.19347905,
          1284696325.7208912,
          205744357.19477198,
          89589355.34959675,
          111107653.88452022,
          253595184.04724315,
          314946186.4831048,
          888701936.3284725,
          937945017.7460237,
          401095071.7876782,
          140644908.96023002,
          295605499.8721315,
          297065688.70921165,
          86746920.44031633,
          2037323322.5534225,
          122530205.18830097,
          154423716.4236655,
          704566444.676104,
          296328414.42531854,
          344536508.57566947,
          137066904.6929164,
          310395866.53695405,
          102982468.61494134,
          1146412458.1309016,
          154584293.05571222,
          158663176.40032604,
          160696251.2491353,
          1416913865.2139592
         ],
         "xaxis": "x",
         "y": [
          0.802816901408451,
          0.845070422535211,
          0.873239436619718,
          0.788732394366197,
          0.732394366197183,
          0.845070422535211,
          0.676056338028169,
          0.690140845070423,
          0.774647887323944,
          0.802816901408451,
          0.830985915492958,
          0.71830985915493,
          0.71830985915493,
          0.788732394366197,
          0.704225352112676,
          0.774647887323944,
          0.802816901408451,
          0.802816901408451,
          0.929577464788732,
          0.676056338028169,
          0.704225352112676,
          0.76056338028169,
          0.802816901408451,
          0.788732394366197,
          0.704225352112676,
          0.71830985915493,
          0.830985915492958,
          0.845070422535211,
          0.915492957746479,
          0.676056338028169,
          0.816901408450704,
          0.774647887323944,
          0.830985915492958,
          0.76056338028169,
          0.746478873239437,
          0.76056338028169,
          0.676056338028169,
          0.76056338028169,
          0.788732394366197,
          0.816901408450704,
          0.845070422535211,
          0.76056338028169,
          0.76056338028169,
          0.802816901408451,
          0.704225352112676,
          0.774647887323944,
          0.732394366197183,
          0.732394366197183,
          0.76056338028169,
          0.746478873239437,
          0.830985915492958,
          0.788732394366197,
          0.845070422535211,
          0.676056338028169,
          0.676056338028169,
          0.676056338028169,
          0.816901408450704,
          0.830985915492958,
          0.816901408450704,
          0.95774647887324,
          0.859154929577465,
          0.704225352112676,
          0.676056338028169,
          0.746478873239437,
          0.71830985915493,
          0.704225352112676,
          0.774647887323944,
          0.746478873239437,
          0.774647887323944,
          0.732394366197183,
          0.816901408450704,
          0.746478873239437,
          0.845070422535211,
          0.732394366197183,
          0.76056338028169,
          0.71830985915493,
          0.690140845070423,
          0.901408450704225,
          0.704225352112676,
          0.732394366197183,
          0.943661971830986,
          0.676056338028169,
          0.676056338028169,
          0.788732394366197,
          0.732394366197183,
          0.746478873239437,
          0.71830985915493,
          0.676056338028169,
          0.774647887323944,
          0.816901408450704,
          0.802816901408451,
          0.830985915492958,
          0.76056338028169,
          0.859154929577465,
          0.802816901408451,
          1,
          0.76056338028169,
          0.859154929577465,
          0.676056338028169,
          0.802816901408451,
          0.830985915492958,
          0.788732394366197,
          0.830985915492958,
          0.732394366197183,
          0.746478873239437,
          0.816901408450704,
          0.676056338028169,
          0.802816901408451,
          0.690140845070423,
          0.76056338028169,
          0.802816901408451,
          0.873239436619718,
          0.690140845070423,
          0.676056338028169,
          0.802816901408451,
          0.830985915492958,
          0.929577464788732,
          0.859154929577465,
          0.774647887323944,
          0.676056338028169,
          0.746478873239437,
          0.732394366197183,
          0.71830985915493,
          0.816901408450704,
          0.746478873239437,
          0.816901408450704,
          0.746478873239437,
          0.845070422535211,
          0.676056338028169,
          0.71830985915493,
          0.690140845070423,
          0.732394366197183,
          0.746478873239437,
          0.802816901408451,
          0.788732394366197,
          0.676056338028169,
          0.746478873239437,
          0.76056338028169,
          0.845070422535211,
          0.71830985915493,
          0.802816901408451,
          0.774647887323944,
          0.830985915492958,
          0.887323943661972,
          0.774647887323944,
          0.845070422535211,
          0.845070422535211,
          0.943661971830986,
          0.676056338028169,
          0.816901408450704,
          0.873239436619718,
          0.732394366197183,
          0.802816901408451,
          0.816901408450704,
          0.802816901408451,
          0.732394366197183,
          0.802816901408451,
          0.788732394366197,
          0.802816901408451,
          0.802816901408451,
          0.830985915492958,
          0.690140845070423,
          0.71830985915493,
          0.76056338028169,
          0.774647887323944,
          0.788732394366197,
          0.746478873239437,
          0.690140845070423,
          0.746478873239437,
          0.845070422535211,
          0.676056338028169,
          0.788732394366197,
          0.901408450704225,
          0.788732394366197,
          0.676056338028169,
          0.676056338028169,
          0.859154929577465,
          0.830985915492958,
          0.690140845070423,
          0.873239436619718,
          0.71830985915493,
          0.788732394366197,
          0.746478873239437,
          0.71830985915493,
          0.704225352112676,
          0.704225352112676,
          0.943661971830986,
          0.71830985915493,
          0.76056338028169,
          0.788732394366197,
          0.95774647887324
         ],
         "yaxis": "y"
        },
        {
         "hovertemplate": "<b>%{hovertext}</b><br><br>Success Cathegory=High Rating & Low Revenue<br>Movie Revenue ($), logscale=%{x}<br>Normalized Movie Rating=%{y}<extra></extra>",
         "hovertext": [
          "Straw Dogs",
          "Laura",
          "Dr. Strangelove or: How I Learned to Stop Worrying and Love the Bomb",
          "Zorba the Greek",
          "Lolita",
          "Pharaoh",
          "Altered States",
          "A Patch of Blue",
          "Stir of Echoes",
          "The Secret Life of Bees",
          "Willy Wonka & the Chocolate Factory",
          "The Hustler",
          "The Iron Giant",
          "Howards End",
          "Valmont",
          "Fanaa",
          "Jackie Brown",
          "The Desperate Hours",
          "Clockers",
          "Anna Karenina",
          "Abbott and Costello Meet Frankenstein",
          "Glory",
          "Gentlemen Prefer Blondes",
          "American Psycho",
          "Journey to the Center of the Earth",
          "To Catch a Thief",
          "The Long Goodbye",
          "Barry Lyndon",
          "The Big Sleep",
          "Manhunter",
          "Enemy Mine",
          "The Andromeda Strain",
          "The Joy Luck Club",
          "The Cowboys",
          "The Boy in the Striped Pyjamas",
          "Children of Men",
          "The Ghost Writer",
          "Lolita",
          "Mississippi Mermaid",
          "Winnie the Pooh",
          "Contempt",
          "The Girl Who Played with Fire",
          "Tess",
          "Double Indemnity",
          "Oliver Twist",
          "Birdy",
          "Across to Singapore",
          "Point Blank",
          "The Agony and the Ecstasy",
          "The Age of Innocence",
          "The Time Machine",
          "Dark Passage",
          "Marnie",
          "The Curse of Frankenstein",
          "Murphy's Romance",
          "Gettysburg",
          "After Hours",
          "Village of the Damned",
          "Sorcerer",
          "Naked Lunch",
          "The Trouble with Harry",
          "The Molly Maguires",
          "The Quiet American",
          "Fahrenheit 451",
          "The NeverEnding Story",
          "Mother of Mine",
          "The Thief of Bagdad",
          "Cross of Iron",
          "The Road",
          "Layer Cake",
          "Fear and Loathing in Las Vegas",
          "The Night of the Generals",
          "Matilda",
          "A Good Year",
          "Muppet Treasure Island",
          "Election",
          "The House of the Spirits",
          "3:10 to Yuma",
          "Mildred Pierce",
          "A Passage to India",
          "Mr. Hobbs Takes a Vacation",
          "Rob Roy",
          "Alice Adams",
          "Dangerous Liaisons",
          "A Place in the Sun",
          "Suspicion",
          "The Rainmaker",
          "Kiss of the Spider Woman",
          "The Power of One",
          "The Flim-Flam Man",
          "Being Julia",
          "The Outsiders",
          "The World According to Garp",
          "Frenzy",
          "Kandukondain Kandukondain",
          "Elmer Gantry",
          "A History of Violence",
          "Trainspotting",
          "Jude",
          "The Secret of NIMH",
          "Hud",
          "All Quiet on the Western Front",
          "Little Caesar",
          "Angel Heart",
          "The Dreamers",
          "Friendly Persuasion",
          "The Grapes of Wrath",
          "The Postman Always Rings Twice",
          "Gods and Monsters",
          "Strangers on a Train",
          "The Adventures of Mark Twain",
          "The Manchurian Candidate",
          "Beau Geste",
          "The Lady from Shanghai",
          "The Women of Brewster Place",
          "Let the Right One In",
          "The Fox and the Hound",
          "Watership Down",
          "The Last Detail",
          "The Hours",
          "High Fidelity",
          "The End of the Affair",
          "No Way Out",
          "The Treasure of the Sierra Madre",
          "Anatomy of a Murder",
          "Fantastic Mr. Fox",
          "A Simple Plan",
          "Like Water for Chocolate",
          "The Devils",
          "American Splendor",
          "Vertigo",
          "The Unbearable Lightness of Being",
          "A Room with a View",
          "Invasion of the Body Snatchers",
          "City of God",
          "The Sea Hawk",
          "The Boys from Brazil",
          "The Vikings",
          "Death on the Nile",
          "Maurice",
          "Hellraiser",
          "Evil Under the Sun",
          "Battle Royale",
          "The Painted Veil",
          "Let Me In",
          "Desert Hearts",
          "The Maltese Falcon",
          "The Great Mouse Detective",
          "The Remains of the Day",
          "A Walk to Remember",
          "The Dead Zone",
          "A Scanner Darkly",
          "The Assassination of Jesse James by the Coward Robert Ford",
          "The Princess Bride",
          "The Warriors"
         ],
         "legendgroup": "High Rating & Low Revenue",
         "marker": {
          "color": "#EF553B",
          "symbol": "circle"
         },
         "mode": "markers",
         "name": "High Rating & Low Revenue",
         "orientation": "v",
         "showlegend": true,
         "type": "scatter",
         "x": [
          18708255.505433217,
          26484936.049265753,
          71527944.008705,
          67596359.48414831,
          71234810.60606061,
          71771116.81643133,
          56124236.300556175,
          50216699.60327955,
          29554869.034066234,
          41229998.15824054,
          23012842.148590244,
          59229679.39782549,
          32388558.576179396,
          43376399.17504752,
          2127455.03785964,
          25626232.142276056,
          57577473.405445956,
          21751361.655773416,
          19983174.28427759,
          24424425.71341834,
          46631247.88679376,
          50415630.50015126,
          46127243.15068493,
          46356787.48719513,
          79916666.66666666,
          76129765.79520696,
          5031663.128753754,
          861379.9181170643,
          58487944.0649018,
          18322571.05266099,
          26645491.864994578,
          71204972.66527063,
          52992681.148520336,
          41781860.30290952,
          22090700.145940017,
          81579331.43732794,
          64454406.91199985,
          1554707.342786315,
          46714192.776010916,
          14975424.133191567,
          4019625.979809524,
          72890281.75426422,
          64522602.44551039,
          33106170.061582193,
          50792681.3102987,
          3139482.592652014,
          8091836.134045653,
          22347119.66025481,
          29574028.034911398,
          52015920.78938564,
          46489.017948717956,
          35791390.630832404,
          52574946.26544869,
          66341975.67487392,
          66849785.500949025,
          20480334.29477935,
          22976601.8869577,
          17132093.195266273,
          34592829.643888354,
          4518065.149082176,
          60903812.63616557,
          13200401.373685341,
          35840907.35702571,
          14354223.363286264,
          45205876.289010115,
          3401924.5255728615,
          20274666.463333335,
          772.5731953801733,
          30008064.109347496,
          14615324.92887585,
          15263303.797543582,
          16760339.745191108,
          49694663.445308685,
          48608810.948668934,
          50983799.080668904,
          20840678.415571064,
          10103595.570138449,
          78665883.5150309,
          73001132.14451134,
          60998996.379107185,
          30804242.424242426,
          48303998.00220661,
          13069359.137826353,
          68297849.12916638,
          62819887.64044945,
          71192317.48726656,
          66638790.87735697,
          36828217.0677603,
          4693630.604522509,
          8380169.872595554,
          17685051.373394072,
          78816320.88670933,
          71727056.25511228,
          70193525.308888,
          676414.2953929539,
          81918974.35897437,
          72455758.8078067,
          24492916.14801828,
          607669.7029221125,
          35404003.985755615,
          76067619.04761904,
          45614949.8502994,
          11518929.97260274,
          35235920.820520714,
          19148806.31484711,
          68558798.2832618,
          26458159.637120765,
          60708098.67634501,
          9220095.75153622,
          62819887.64044945,
          31119799.85788726,
          59298166.666666664,
          19742125.706214692,
          16326394.14096678,
          187919.13148695888,
          11670225.577379502,
          76349970.67179911,
          13262369.363157894,
          52467811.56156157,
          53873574.14757934,
          63753799.25381098,
          15142827.160318173,
          72802579.05374037,
          41733635.68457539,
          63933333.33333333,
          50461011.28288478,
          23317773.338482186,
          36100242.15018708,
          63285315.908623174,
          7602689.6510509625,
          62946669.52954085,
          19712406.504763585,
          45407451.81464209,
          25709549.356223177,
          39684321.70880241,
          33259785.84176086,
          67851577.6699029,
          163959.27183078256,
          51996035.284542665,
          4999077.563212321,
          29882459.408584524,
          14751866.079395512,
          41396554.878048785,
          31097874.881482787,
          25795687.70232999,
          5197678.95878525,
          28033952.57498585,
          82093169.34672698,
          37474030.36160081,
          61510922.05432477,
          48571589.297824636,
          8851715.873767104,
          16529258.426622389,
          63273429.83683535,
          72190339.50386381
         ],
         "xaxis": "x",
         "y": [
          0.76056338028169,
          0.830985915492958,
          0.887323943661972,
          0.788732394366197,
          0.774647887323944,
          0.774647887323944,
          0.676056338028169,
          0.830985915492958,
          0.690140845070423,
          0.732394366197183,
          0.802816901408451,
          0.830985915492958,
          0.830985915492958,
          0.76056338028169,
          0.690140845070423,
          0.71830985915493,
          0.76056338028169,
          0.76056338028169,
          0.676056338028169,
          0.704225352112676,
          0.774647887323944,
          0.816901408450704,
          0.71830985915493,
          0.774647887323944,
          0.704225352112676,
          0.76056338028169,
          0.788732394366197,
          0.845070422535211,
          0.830985915492958,
          0.71830985915493,
          0.676056338028169,
          0.71830985915493,
          0.774647887323944,
          0.746478873239437,
          0.802816901408451,
          0.816901408450704,
          0.71830985915493,
          0.676056338028169,
          0.704225352112676,
          0.71830985915493,
          0.788732394366197,
          0.71830985915493,
          0.732394366197183,
          0.873239436619718,
          0.676056338028169,
          0.732394366197183,
          0.71830985915493,
          0.746478873239437,
          0.71830985915493,
          0.71830985915493,
          0.774647887323944,
          0.774647887323944,
          0.71830985915493,
          0.71830985915493,
          0.690140845070423,
          0.788732394366197,
          0.788732394366197,
          0.732394366197183,
          0.788732394366197,
          0.704225352112676,
          0.704225352112676,
          0.676056338028169,
          0.704225352112676,
          0.732394366197183,
          0.746478873239437,
          0.788732394366197,
          0.802816901408451,
          0.76056338028169,
          0.732394366197183,
          0.732394366197183,
          0.788732394366197,
          0.732394366197183,
          0.676056338028169,
          0.690140845070423,
          0.690140845070423,
          0.732394366197183,
          0.676056338028169,
          0.788732394366197,
          0.830985915492958,
          0.746478873239437,
          0.676056338028169,
          0.676056338028169,
          0.690140845070423,
          0.774647887323944,
          0.802816901408451,
          0.746478873239437,
          0.704225352112676,
          0.746478873239437,
          0.71830985915493,
          0.690140845070423,
          0.690140845070423,
          0.71830985915493,
          0.71830985915493,
          0.76056338028169,
          0.774647887323944,
          0.802816901408451,
          0.76056338028169,
          0.859154929577465,
          0.690140845070423,
          0.774647887323944,
          0.816901408450704,
          0.845070422535211,
          0.732394366197183,
          0.732394366197183,
          0.71830985915493,
          0.76056338028169,
          0.845070422535211,
          0.76056338028169,
          0.76056338028169,
          0.830985915492958,
          0.71830985915493,
          0.830985915492958,
          0.704225352112676,
          0.788732394366197,
          0.788732394366197,
          0.816901408450704,
          0.732394366197183,
          0.788732394366197,
          0.774647887323944,
          0.774647887323944,
          0.76056338028169,
          0.704225352112676,
          0.704225352112676,
          0.859154929577465,
          0.830985915492958,
          0.816901408450704,
          0.76056338028169,
          0.71830985915493,
          0.816901408450704,
          0.76056338028169,
          0.873239436619718,
          0.746478873239437,
          0.746478873239437,
          0.802816901408451,
          0.915492957746479,
          0.788732394366197,
          0.690140845070423,
          0.704225352112676,
          0.732394366197183,
          0.788732394366197,
          0.690140845070423,
          0.704225352112676,
          0.788732394366197,
          0.76056338028169,
          0.704225352112676,
          0.690140845070423,
          0.845070422535211,
          0.71830985915493,
          0.816901408450704,
          0.746478873239437,
          0.71830985915493,
          0.704225352112676,
          0.76056338028169,
          0.845070422535211,
          0.788732394366197
         ],
         "yaxis": "y"
        },
        {
         "hovertemplate": "<b>%{hovertext}</b><br><br>Success Cathegory=Low Rating & High Revenue<br>Movie Revenue ($), logscale=%{x}<br>Normalized Movie Rating=%{y}<extra></extra>",
         "hovertext": [
          "The Forbidden Kingdom",
          "The Last Song",
          "The Other Boleyn Girl",
          "The Stepford Wives",
          "Gulliver's Travels",
          "The First Wives Club",
          "Jaws: The Revenge",
          "Airport '77",
          "Where the Wild Things Are",
          "Striptease",
          "Dreamcatcher",
          "Don't Say a Word",
          "Casino Royale",
          "Anna and the King",
          "Dying Young",
          "Gigi",
          "Airport",
          "Freaky Friday",
          "Moonraker",
          "Message in a Bottle",
          "The Firm",
          "The Chronicles of Narnia: The Voyage of the Dawn Treader",
          "Pirates of the Caribbean: On Stranger Tides",
          "War of the Worlds",
          "Cocoon",
          "Mercury Rising",
          "Valley of the Dolls",
          "Return to Never Land",
          "Pet Sematary",
          "The Blue Lagoon",
          "102 Dalmatians",
          "Air America",
          "Congo",
          "Rambo III",
          "A Farewell to Arms",
          "Around the World in 80 Days",
          "The Da Vinci Code",
          "The Jackal",
          "I Am Number Four",
          "The Jungle Book 2",
          "Black Rain",
          "Stuart Little",
          "Percy Jackson & the Olympians: The Lightning Thief",
          "Exorcist: The Beginning",
          "Live and Let Die",
          "The Witches of Eastwick",
          "The Man in the Iron Mask",
          "The Deep",
          "The Bourne Legacy",
          "Hannibal",
          "Random Hearts",
          "Twilight",
          "The Woman in Black",
          "Jaws 2",
          "The Nutty Professor",
          "Rambo: First Blood Part II",
          "Oliver & Company",
          "Ivanhoe",
          "Hook",
          "Race to Witch Mountain",
          "The Client",
          "The 13th Warrior",
          "The Princess Diaries 2: Royal Engagement",
          "Nutty Professor II: The Klumps",
          "Logan's Run",
          "The War of the Roses",
          "The Beach",
          "Firefox",
          "The Black Hole",
          "The Shaggy Dog",
          "The Robe",
          "The Lovely Bones",
          "Diamonds Are Forever",
          "The Spiderwick Chronicles",
          "Never Say Never Again",
          "Van Helsing",
          "Father of the Bride",
          "Jurassic Park III",
          "The Shaggy Dog",
          "Stuart Little 2",
          "Exodus",
          "Cobra",
          "Nanny McPhee",
          "I Know What You Did Last Summer",
          "Exorcist II: The Heretic",
          "The Man with the Golden Gun",
          "Divine Secrets of the Ya-Ya Sisterhood",
          "Along Came a Spider",
          "The Fury",
          "Nanny McPhee and the Big Bang",
          "Sahara",
          "Exit Wounds",
          "The Lost World: Jurassic Park",
          "Beowulf",
          "The Egyptian",
          "Bridget Jones: The Edge of Reason",
          "Cruel Intentions",
          "The Golden Compass",
          "The Prince of Tides",
          "Journey 2: The Mysterious Island",
          "The Chronicles of Narnia: Prince Caspian",
          "The Manchurian Candidate",
          "The Polar Express",
          "The Haunting",
          "On Her Majesty's Secret Service",
          "Journey to the Center of the Earth",
          "John Carter",
          "Charlotte's Web",
          "Dave",
          "The Amityville Horror",
          "Disclosure",
          "Bridget Jones's Diary",
          "The League of Extraordinary Gentlemen",
          "The Great Gatsby",
          "Poseidon",
          "The Three Musketeers",
          "Clueless",
          "Dear John",
          "The Sum of All Fears",
          "Taps",
          "Hawaii",
          "Planet of the Apes",
          "Charlie and the Chocolate Factory",
          "The Parent Trap",
          "The Three Musketeers",
          "The Lucky One",
          "Confessions of a Shopaholic",
          "Kiss the Girls",
          "The Pelican Brief",
          "Be Cool",
          "Eragon",
          "Sleeping with the Enemy",
          "Shaft",
          "Jaws 3-D",
          "101 Dalmatians",
          "Beneath the Planet of the Apes",
          "The Time Machine",
          "Rising Sun"
         ],
         "legendgroup": "Low Rating & High Revenue",
         "marker": {
          "color": "#00cc96",
          "symbol": "circle"
         },
         "mode": "markers",
         "name": "Low Rating & High Revenue",
         "orientation": "v",
         "showlegend": true,
         "type": "scatter",
         "x": [
          138394835.4805603,
          95228538.08349824,
          84688026.9564334,
          125800525.01544164,
          253605100.61320016,
          172879850.17532676,
          106367872.11316831,
          115309432.14629452,
          108738985.41365048,
          168290132.24437097,
          95863290.82672706,
          131591051.80940323,
          291523190.1029978,
          159426048.04114512,
          140714474.08209938,
          106556170.9500433,
          602953239.5003972,
          203689018.5327384,
          675063883.4918073,
          166255091.06396517,
          435809204.62820596,
          444093584.86342734,
          1082988084.8466327,
          720340621.3218328,
          184762595.6345987,
          133060697.19859159,
          349173744.6914814,
          142283752.4163864,
          107996123.25658445,
          166369678.45728588,
          248395253.41363484,
          102876130.17411827,
          232404846.8850405,
          372341840.1214397,
          165854939.1871848,
          89021008.68661211,
          887284765.3373632,
          231235285.94424254,
          155220827.28180027,
          171819435.92298982,
          252210128.10679957,
          419742816.7582145,
          241975685.9688493,
          96201124.21874614,
          663076848.4805932,
          130735843.20304362,
          261482961.50885436,
          384364773.82098174,
          280624268.7124514,
          462702588.389486,
          104340956.67939866,
          425892959.36422014,
          129601777.53220089,
          670959278.6259516,
          191251074.49119383,
          650577085.256833,
          146070731.78268623,
          95446597.08097929,
          514615211.20663285,
          115431216.95176901,
          184849360.8378788,
          86286630.9825479,
          166173220.07336318,
          166814513.46705624,
          102338739.20046858,
          301024924.3847876,
          194884256.4936145,
          170643704.52663213,
          115048222.08862671,
          141116850,
          313317123.2876712,
          101659640.54759009,
          667484880.3154867,
          177632124.79093176,
          374228246.31860775,
          370319097.98834157,
          152792558.3450407,
          485185062.0516589,
          100691402.8877682,
          220111976.75279593,
          171320931.95266274,
          104232343.6163917,
          147052897.2973736,
          182262565.5721057,
          118188870.1001925,
          460978641.91313165,
          95629598.25406533,
          138377771.8359775,
          85707256.0040879,
          99623761.68325838,
          142272694.29089397,
          105197225.20967385,
          897827869.4421737,
          219916693.89076608,
          130143621.97392926,
          323751351.1426807,
          106772767.10771424,
          418220013.18633556,
          127924867.64395462,
          360903063.70218146,
          454077712.50545937,
          118531183.61093268,
          383116932.16544163,
          247971715.92037368,
          410079569.6594844,
          110041524.21170989,
          288301262.32420504,
          166404795.17175812,
          148361476.78107876,
          128885911.67208664,
          336355749.18376625,
          370919857.38684815,
          227013902.06293997,
          125356029.41017407,
          209941393.82466415,
          136989384.5020098,
          86575910.56131467,
          122834465.52805746,
          251148615.52254808,
          91866060.23343875,
          248056927.25974327,
          476542491.52574354,
          566574803.6846832,
          131633342.07925464,
          86918611.3151572,
          100812553.80312052,
          117634160.25571153,
          87843817.38833195,
          314894099.52533025,
          113592139.4863495,
          288074555.91167176,
          299337388.17379004,
          145599699.01549798,
          205795258.07118055,
          476294820.44288075,
          114001774.35765187,
          160242323.6369516,
          172871421.66896453
         ],
         "xaxis": "x",
         "y": [
          0.633802816901408,
          0.535211267605634,
          0.647887323943662,
          0.450704225352113,
          0.394366197183099,
          0.591549295774648,
          0.112676056338028,
          0.492957746478873,
          0.661971830985915,
          0.323943661971831,
          0.47887323943662,
          0.591549295774648,
          0.436619718309859,
          0.647887323943662,
          0.549295774647887,
          0.661971830985915,
          0.633802816901408,
          0.577464788732394,
          0.591549295774648,
          0.577464788732394,
          0.661971830985915,
          0.591549295774648,
          0.633802816901408,
          0.619718309859155,
          0.647887323943662,
          0.563380281690141,
          0.549295774647887,
          0.52112676056338,
          0.633802816901408,
          0.507042253521127,
          0.394366197183099,
          0.52112676056338,
          0.422535211267606,
          0.52112676056338,
          0.535211267605634,
          0.535211267605634,
          0.633802816901408,
          0.605633802816901,
          0.563380281690141,
          0.464788732394366,
          0.633802816901408,
          0.535211267605634,
          0.535211267605634,
          0.422535211267606,
          0.661971830985915,
          0.619718309859155,
          0.619718309859155,
          0.577464788732394,
          0.647887323943662,
          0.661971830985915,
          0.422535211267606,
          0.436619718309859,
          0.605633802816901,
          0.507042253521127,
          0.492957746478873,
          0.605633802816901,
          0.647887323943662,
          0.661971830985915,
          0.647887323943662,
          0.507042253521127,
          0.647887323943662,
          0.633802816901408,
          0.52112676056338,
          0.323943661971831,
          0.661971830985915,
          0.661971830985915,
          0.633802816901408,
          0.535211267605634,
          0.535211267605634,
          0.619718309859155,
          0.661971830985915,
          0.647887323943662,
          0.647887323943662,
          0.633802816901408,
          0.577464788732394,
          0.563380281690141,
          0.619718309859155,
          0.535211267605634,
          0.323943661971831,
          0.47887323943662,
          0.661971830985915,
          0.507042253521127,
          0.633802816901408,
          0.507042253521127,
          0.225352112676056,
          0.661971830985915,
          0.549295774647887,
          0.591549295774648,
          0.605633802816901,
          0.563380281690141,
          0.549295774647887,
          0.47887323943662,
          0.619718309859155,
          0.577464788732394,
          0.633802816901408,
          0.549295774647887,
          0.661971830985915,
          0.563380281690141,
          0.647887323943662,
          0.52112676056338,
          0.619718309859155,
          0.633802816901408,
          0.633802816901408,
          0.394366197183099,
          0.661971830985915,
          0.52112676056338,
          0.633802816901408,
          0.591549295774648,
          0.661971830985915,
          0.549295774647887,
          0.563380281690141,
          0.647887323943662,
          0.52112676056338,
          0.605633802816901,
          0.492957746478873,
          0.52112676056338,
          0.661971830985915,
          0.591549295774648,
          0.605633802816901,
          0.661971830985915,
          0.633802816901408,
          0.507042253521127,
          0.647887323943662,
          0.619718309859155,
          0.605633802816901,
          0.619718309859155,
          0.535211267605634,
          0.633802816901408,
          0.633802816901408,
          0.507042253521127,
          0.422535211267606,
          0.577464788732394,
          0.535211267605634,
          0.211267605633803,
          0.507042253521127,
          0.563380281690141,
          0.535211267605634,
          0.577464788732394
         ],
         "yaxis": "y"
        },
        {
         "hovertemplate": "<b>%{hovertext}</b><br><br>Success Cathegory=Low Rating & Low Revenue<br>Movie Revenue ($), logscale=%{x}<br>Normalized Movie Rating=%{y}<extra></extra>",
         "hovertext": [
          "Beastmaster 2: Through the Portal of Time",
          "Shaft",
          "For Love of the Game",
          "Queen of the Damned",
          "Bee Season",
          "Original Sin",
          "Cirque du Freak: The Vampire's Assistant",
          "Battlefield Earth",
          "In Country",
          "The Sisterhood of the Traveling Pants",
          "Vanity Fair",
          "Johnny Handsome",
          "The Missing",
          "The American",
          "Force 10 from Navarone",
          "The Nanny Diaries",
          "The Invisible Woman",
          "The Hot Rock",
          "Body Snatchers",
          "Dune",
          "Emma",
          "Fever Pitch",
          "Freedomland",
          "Invisible Agent",
          "Beloved",
          "Pooh's Heffalump Movie",
          "The NeverEnding Story II: The Next Chapter",
          "The Adventures of Huck Finn",
          "Possession",
          "Conquest of the Planet of the Apes",
          "Lifeforce",
          "The Running Man",
          "The Apple Dumpling Gang Rides Again",
          "Psycho",
          "The Beastmaster",
          "Babylon A.D.",
          "Shalako",
          "Blue Fin",
          "Zardoz",
          "Dragon Seed",
          "Vampires",
          "The Wind in the Willows",
          "The Invasion",
          "Billy Bathgate",
          "The Bonfire of the Vanities",
          "Derailed",
          "Wolfen",
          "The Sea Beast",
          "Straw Dogs",
          "Great Expectations",
          "The Bedroom Window",
          "The Adventures of Huckleberry Finn",
          "Tarzan and the Lost City",
          "The Pope of Greenwich Village",
          "The Ninth Gate",
          "Black Knight",
          "Timeline",
          "The Postman",
          "The Drowning Pool",
          "Anthony Adverse",
          "Return to the Blue Lagoon",
          "The Exorcist III",
          "Blood Work",
          "Escape from the Planet of the Apes",
          "The Shipping News",
          "Flight of the Phoenix",
          "Ice Station Zebra",
          "Ride with the Devil",
          "Farewell to the King",
          "Mary Reilly",
          "Cry Wolf",
          "Sex Drive",
          "Fair Game",
          "Cimarron",
          "Pinocchio and the Emperor of the Night",
          "The Wiz",
          "The Swarm",
          "The Scarlet Letter",
          "Dominion: Prequel to the Exorcist",
          "Battle for the Planet of the Apes",
          "Frankenstein Unbound",
          "Dad",
          "The Big Bounce",
          "Bad Girl",
          "Big Trouble",
          "The Golden Bowl",
          "Desperate Hours",
          "Psycho II",
          "The Island",
          "James and the Giant Peach",
          "Return of the Living Dead 3",
          "The Killer Inside Me",
          "Solaris",
          "Flicka",
          "City of Ember",
          "Lost Horizon",
          "Cocoon: The Return",
          "The Human Stain",
          "An Awfully Big Adventure",
          "The Detective",
          "The Caveman's Valentine",
          "Bad Moon",
          "The Sisterhood of the Traveling Pants 2",
          "Something Wicked This Way Comes",
          "Amityville II: The Possession",
          "The Watcher in the Woods",
          "Elegy",
          "The Razor's Edge",
          "The Black Dahlia",
          "Return to Oz",
          "The Painted Veil",
          "Quest for Camelot",
          "Silver Bullet",
          "The Deep End of the Ocean",
          "Topaz",
          "Bringing Out the Dead",
          "Village of the Damned",
          "Funny Farm",
          "All the King's Men",
          "Fletch Lives",
          "Where the Boys Are",
          "Pinocchio",
          "The Clan of the Cave Bear",
          "The Door in the Floor",
          "December Boys",
          "Christine",
          "Monte Carlo",
          "Freejack",
          "Death Sentence",
          "Diabolique",
          "The King and I",
          "Sphere",
          "The Good German",
          "Killer Elite",
          "Anna Karenina",
          "The Four Feathers",
          "Family Plot",
          "Bel Ami",
          "The Pleasure Seekers",
          "The Fan",
          "When Worlds Collide",
          "Willard",
          "Bright Lights, Big City",
          "Young Adam",
          "Alatriste",
          "The Host",
          "The Postman Always Rings Twice",
          "The Deep End",
          "Flight of the Intruder",
          "The Musketeer",
          "Gods and Generals",
          "Woman Thou Art Loosed",
          "Black Sunday",
          "The Hand",
          "Return of the Living Dead Part II",
          "The Fan",
          "King Solomon's Mines",
          "The Howling",
          "At Play in the Fields of the Lord",
          "The Black Cauldron",
          "Hart's War",
          "Buck Rogers in the 25th Century",
          "Firestarter",
          "White Fang",
          "Psycho III",
          "The Island of Dr. Moreau",
          "Abandon",
          "Brideshead Revisited",
          "The Rules of Attraction",
          "The Chamber",
          "Piglet's Big Movie",
          "Shaft in Africa",
          "The Tigger Movie",
          "Absolute Power"
         ],
         "legendgroup": "Low Rating & Low Revenue",
         "marker": {
          "color": "#ab63fa",
          "symbol": "circle"
         },
         "mode": "markers",
         "name": "Low Rating & Low Revenue",
         "orientation": "v",
         "showlegend": true,
         "type": "scatter",
         "x": [
          1486988.3115860003,
          69738220.40487754,
          64489065.70133573,
          58900240.823882334,
          8179479.366189461,
          46576927.016754515,
          30588310.615975723,
          39232029.132791325,
          6637249.227571256,
          46585127.471553236,
          19886165.892850526,
          13601199.623615222,
          48582904.140133634,
          72514843.46541935,
          25819310.871231478,
          53724238.83145796,
          10969077.370612731,
          19498201.47469111,
          691603.1502624748,
          69350475.30053748,
          33018949.34870365,
          60239809.04629828,
          16935880.385093633,
          14833185.714285716,
          32726653.289709117,
          63102691.06037978,
          29032940.138717394,
          38870052.1909951,
          13098350.194813529,
          54037872.65842965,
          25129792.37242408,
          78158982.54193252,
          67186366.7858939,
          53078815.90821022,
          33933344.71164076,
          78022080.15931074,
          17547126.736942984,
          2510.508373786408,
          8504094.980564475,
          61272899.54997633,
          29023499.562609274,
          3416010.785251302,
          45133148.238533765,
          26624694.84553326,
          27976587.70847631,
          68564922.02767655,
          27226514.835143436,
          12345409.27495292,
          10692453.866743602,
          79307207.75625479,
          25915663.11824349,
          21661267.258382645,
          3105374.966200603,
          15330095.742407352,
          81675736.5703787,
          43972586.98743881,
          55638399.28881314,
          25580870.498125844,
          11254662.434190154,
          46199421.57451923,
          4802859.780450346,
          69578230.9501467,
          41177510.88637017,
          71045850.3682342,
          32483884.34623729,
          25911430.138665844,
          30807932.438907526,
          888189.1748261544,
          4549366.20042014,
          18386161.194331102,
          28069632.885405004,
          20293903.4416538,
          17633412.13843651,
          21184415.09589041,
          6687099.453193986,
          75169023.92144226,
          27497744.634644866,
          15872177.093073938,
          300000.21338809474,
          46405654.37983296,
          596838.4544805154,
          37091506.360765666,
          8397246.711704757,
          16849498.630136985,
          11000482.782788975,
          7783740.100575881,
          4890470.917992219,
          81219224.08383535,
          44381751.946607344,
          42991426.966632135,
          87415.54969426017,
          4248987.290743259,
          38856733.81868427,
          24267365.96254806,
          19334291.538757484,
          19937768.393393397,
          49296586.351007685,
          31532310.985277463,
          1301805.356187794,
          43532948.01149976,
          1045255.8915121423,
          1633744.2885984487,
          47989269.530561656,
          19646982.931726906,
          30259838.42939983,
          14134315.906562848,
          16115668.119388226,
          14692749.381273067,
          56752357.704505816,
          24121130.793682214,
          19495287.671232875,
          54552758.633249834,
          26854674.620390456,
          39327686.84451448,
          38102930.48614267,
          23494996.247936364,
          14398391.163745489,
          50305770.02831725,
          10921351.246349884,
          66055378.74132832,
          27568885.60157791,
          53517861.79427149,
          4152382.3462480046,
          8281950.530528104,
          52215.30483190247,
          49585242.63721553,
          41200729.673672885,
          28438018.320233997,
          19071449.650162034,
          77825637.02050793,
          16782140.177097403,
          52906103.49641889,
          6835201.765276344,
          59836560.68730064,
          1246013.9306432353,
          38701174.82410239,
          32339041.587348074,
          8424889.878609952,
          15021413.218699625,
          7942446.613509304,
          14358831.46067416,
          10845830.89205436,
          31750998.86008386,
          3165894.677236693,
          26950590.12760531,
          63327201,
          31709897.844491802,
          13197942.79299934,
          24952448.136829227,
          35593248.317618124,
          16366328.076539071,
          8391654.755033972,
          60611718.838402316,
          1452022.7174044545,
          18134749.103755902,
          27664368.78026512,
          32609945.417977225,
          46081288.69315829,
          2302179.310992474,
          46104911.02852495,
          41815124.94618485,
          69654408.65771042,
          38302062.125778124,
          59514016.32662302,
          30778615.02996275,
          73708273.17916003,
          13882697.105927728,
          14287029.267400905,
          15324751.637095205,
          33477438.890189674,
          79616610.77454586,
          7649806.925675676,
          61627474.682300135,
          72663902.8036289
         ],
         "xaxis": "x",
         "y": [
          0.253521126760563,
          0.633802816901408,
          0.633802816901408,
          0.450704225352113,
          0.47887323943662,
          0.549295774647887,
          0.535211267605634,
          0.0563380281690141,
          0.535211267605634,
          0.619718309859155,
          0.577464788732394,
          0.563380281690141,
          0.619718309859155,
          0.591549295774648,
          0.605633802816901,
          0.577464788732394,
          0.577464788732394,
          0.661971830985915,
          0.535211267605634,
          0.633802816901408,
          0.647887323943662,
          0.577464788732394,
          0.422535211267606,
          0.563380281690141,
          0.535211267605634,
          0.605633802816901,
          0.422535211267606,
          0.577464788732394,
          0.605633802816901,
          0.563380281690141,
          0.563380281690141,
          0.647887323943662,
          0.549295774647887,
          0.352112676056338,
          0.577464788732394,
          0.492957746478873,
          0.47887323943662,
          0.563380281690141,
          0.535211267605634,
          0.577464788732394,
          0.563380281690141,
          0.591549295774648,
          0.535211267605634,
          0.535211267605634,
          0.47887323943662,
          0.633802816901408,
          0.591549295774648,
          0.633802816901408,
          0.52112676056338,
          0.661971830985915,
          0.605633802816901,
          0.591549295774648,
          0.267605633802817,
          0.647887323943662,
          0.647887323943662,
          0.380281690140845,
          0.492957746478873,
          0.549295774647887,
          0.619718309859155,
          0.619718309859155,
          0.436619718309859,
          0.591549295774648,
          0.605633802816901,
          0.591549295774648,
          0.661971830985915,
          0.563380281690141,
          0.633802816901408,
          0.661971830985915,
          0.591549295774648,
          0.52112676056338,
          0.633802816901408,
          0.619718309859155,
          0.295774647887324,
          0.549295774647887,
          0.661971830985915,
          0.450704225352113,
          0.323943661971831,
          0.436619718309859,
          0.450704225352113,
          0.47887323943662,
          0.47887323943662,
          0.577464788732394,
          0.394366197183099,
          0.633802816901408,
          0.619718309859155,
          0.549295774647887,
          0.464788732394366,
          0.605633802816901,
          0.450704225352113,
          0.647887323943662,
          0.535211267605634,
          0.563380281690141,
          0.577464788732394,
          0.577464788732394,
          0.619718309859155,
          0.450704225352113,
          0.450704225352113,
          0.591549295774648,
          0.549295774647887,
          0.619718309859155,
          0.535211267605634,
          0.52112676056338,
          0.577464788732394,
          0.661971830985915,
          0.47887323943662,
          0.605633802816901,
          0.661971830985915,
          0.633802816901408,
          0.492957746478873,
          0.661971830985915,
          0.647887323943662,
          0.591549295774648,
          0.605633802816901,
          0.605633802816901,
          0.591549295774648,
          0.661971830985915,
          0.492957746478873,
          0.577464788732394,
          0.577464788732394,
          0.563380281690141,
          0.647887323943662,
          0.309859154929577,
          0.464788732394366,
          0.647887323943662,
          0.633802816901408,
          0.647887323943662,
          0.52112676056338,
          0.450704225352113,
          0.661971830985915,
          0.464788732394366,
          0.295774647887324,
          0.563380281690141,
          0.563380281690141,
          0.619718309859155,
          0.605633802816901,
          0.619718309859155,
          0.661971830985915,
          0.464788732394366,
          0.507042253521127,
          0.52112676056338,
          0.647887323943662,
          0.577464788732394,
          0.507042253521127,
          0.619718309859155,
          0.563380281690141,
          0.535211267605634,
          0.633802816901408,
          0.633802816901408,
          0.52112676056338,
          0.380281690140845,
          0.605633802816901,
          0.661971830985915,
          0.661971830985915,
          0.464788732394366,
          0.52112676056338,
          0.52112676056338,
          0.436619718309859,
          0.633802816901408,
          0.661971830985915,
          0.619718309859155,
          0.591549295774648,
          0.633802816901408,
          0.549295774647887,
          0.647887323943662,
          0.450704225352113,
          0.338028169014085,
          0.394366197183099,
          0.647887323943662,
          0.647887323943662,
          0.549295774647887,
          0.563380281690141,
          0.549295774647887,
          0.591549295774648,
          0.647887323943662
         ],
         "yaxis": "y"
        }
       ],
       "layout": {
        "height": 500,
        "legend": {
         "title": {
          "text": "Success Cathegory"
         },
         "tracegroupgap": 0
        },
        "shapes": [
         {
          "line": {
           "color": "Gray",
           "dash": "dash",
           "width": 1
          },
          "type": "line",
          "x0": 82152363.93980257,
          "x1": 82152363.93980257,
          "y0": 0.0563380281690141,
          "y1": 1
         },
         {
          "line": {
           "color": "Gray",
           "dash": "dash",
           "width": 1
          },
          "type": "line",
          "x0": 772.5731953801733,
          "x1": 6739188731.610635,
          "y0": 0.676056338028169,
          "y1": 0.676056338028169
         }
        ],
        "template": {
         "data": {
          "bar": [
           {
            "error_x": {
             "color": "#2a3f5f"
            },
            "error_y": {
             "color": "#2a3f5f"
            },
            "marker": {
             "line": {
              "color": "white",
              "width": 0.5
             },
             "pattern": {
              "fillmode": "overlay",
              "size": 10,
              "solidity": 0.2
             }
            },
            "type": "bar"
           }
          ],
          "barpolar": [
           {
            "marker": {
             "line": {
              "color": "white",
              "width": 0.5
             },
             "pattern": {
              "fillmode": "overlay",
              "size": 10,
              "solidity": 0.2
             }
            },
            "type": "barpolar"
           }
          ],
          "carpet": [
           {
            "aaxis": {
             "endlinecolor": "#2a3f5f",
             "gridcolor": "#C8D4E3",
             "linecolor": "#C8D4E3",
             "minorgridcolor": "#C8D4E3",
             "startlinecolor": "#2a3f5f"
            },
            "baxis": {
             "endlinecolor": "#2a3f5f",
             "gridcolor": "#C8D4E3",
             "linecolor": "#C8D4E3",
             "minorgridcolor": "#C8D4E3",
             "startlinecolor": "#2a3f5f"
            },
            "type": "carpet"
           }
          ],
          "choropleth": [
           {
            "colorbar": {
             "outlinewidth": 0,
             "ticks": ""
            },
            "type": "choropleth"
           }
          ],
          "contour": [
           {
            "colorbar": {
             "outlinewidth": 0,
             "ticks": ""
            },
            "colorscale": [
             [
              0,
              "#0d0887"
             ],
             [
              0.1111111111111111,
              "#46039f"
             ],
             [
              0.2222222222222222,
              "#7201a8"
             ],
             [
              0.3333333333333333,
              "#9c179e"
             ],
             [
              0.4444444444444444,
              "#bd3786"
             ],
             [
              0.5555555555555556,
              "#d8576b"
             ],
             [
              0.6666666666666666,
              "#ed7953"
             ],
             [
              0.7777777777777778,
              "#fb9f3a"
             ],
             [
              0.8888888888888888,
              "#fdca26"
             ],
             [
              1,
              "#f0f921"
             ]
            ],
            "type": "contour"
           }
          ],
          "contourcarpet": [
           {
            "colorbar": {
             "outlinewidth": 0,
             "ticks": ""
            },
            "type": "contourcarpet"
           }
          ],
          "heatmap": [
           {
            "colorbar": {
             "outlinewidth": 0,
             "ticks": ""
            },
            "colorscale": [
             [
              0,
              "#0d0887"
             ],
             [
              0.1111111111111111,
              "#46039f"
             ],
             [
              0.2222222222222222,
              "#7201a8"
             ],
             [
              0.3333333333333333,
              "#9c179e"
             ],
             [
              0.4444444444444444,
              "#bd3786"
             ],
             [
              0.5555555555555556,
              "#d8576b"
             ],
             [
              0.6666666666666666,
              "#ed7953"
             ],
             [
              0.7777777777777778,
              "#fb9f3a"
             ],
             [
              0.8888888888888888,
              "#fdca26"
             ],
             [
              1,
              "#f0f921"
             ]
            ],
            "type": "heatmap"
           }
          ],
          "heatmapgl": [
           {
            "colorbar": {
             "outlinewidth": 0,
             "ticks": ""
            },
            "colorscale": [
             [
              0,
              "#0d0887"
             ],
             [
              0.1111111111111111,
              "#46039f"
             ],
             [
              0.2222222222222222,
              "#7201a8"
             ],
             [
              0.3333333333333333,
              "#9c179e"
             ],
             [
              0.4444444444444444,
              "#bd3786"
             ],
             [
              0.5555555555555556,
              "#d8576b"
             ],
             [
              0.6666666666666666,
              "#ed7953"
             ],
             [
              0.7777777777777778,
              "#fb9f3a"
             ],
             [
              0.8888888888888888,
              "#fdca26"
             ],
             [
              1,
              "#f0f921"
             ]
            ],
            "type": "heatmapgl"
           }
          ],
          "histogram": [
           {
            "marker": {
             "pattern": {
              "fillmode": "overlay",
              "size": 10,
              "solidity": 0.2
             }
            },
            "type": "histogram"
           }
          ],
          "histogram2d": [
           {
            "colorbar": {
             "outlinewidth": 0,
             "ticks": ""
            },
            "colorscale": [
             [
              0,
              "#0d0887"
             ],
             [
              0.1111111111111111,
              "#46039f"
             ],
             [
              0.2222222222222222,
              "#7201a8"
             ],
             [
              0.3333333333333333,
              "#9c179e"
             ],
             [
              0.4444444444444444,
              "#bd3786"
             ],
             [
              0.5555555555555556,
              "#d8576b"
             ],
             [
              0.6666666666666666,
              "#ed7953"
             ],
             [
              0.7777777777777778,
              "#fb9f3a"
             ],
             [
              0.8888888888888888,
              "#fdca26"
             ],
             [
              1,
              "#f0f921"
             ]
            ],
            "type": "histogram2d"
           }
          ],
          "histogram2dcontour": [
           {
            "colorbar": {
             "outlinewidth": 0,
             "ticks": ""
            },
            "colorscale": [
             [
              0,
              "#0d0887"
             ],
             [
              0.1111111111111111,
              "#46039f"
             ],
             [
              0.2222222222222222,
              "#7201a8"
             ],
             [
              0.3333333333333333,
              "#9c179e"
             ],
             [
              0.4444444444444444,
              "#bd3786"
             ],
             [
              0.5555555555555556,
              "#d8576b"
             ],
             [
              0.6666666666666666,
              "#ed7953"
             ],
             [
              0.7777777777777778,
              "#fb9f3a"
             ],
             [
              0.8888888888888888,
              "#fdca26"
             ],
             [
              1,
              "#f0f921"
             ]
            ],
            "type": "histogram2dcontour"
           }
          ],
          "mesh3d": [
           {
            "colorbar": {
             "outlinewidth": 0,
             "ticks": ""
            },
            "type": "mesh3d"
           }
          ],
          "parcoords": [
           {
            "line": {
             "colorbar": {
              "outlinewidth": 0,
              "ticks": ""
             }
            },
            "type": "parcoords"
           }
          ],
          "pie": [
           {
            "automargin": true,
            "type": "pie"
           }
          ],
          "scatter": [
           {
            "fillpattern": {
             "fillmode": "overlay",
             "size": 10,
             "solidity": 0.2
            },
            "type": "scatter"
           }
          ],
          "scatter3d": [
           {
            "line": {
             "colorbar": {
              "outlinewidth": 0,
              "ticks": ""
             }
            },
            "marker": {
             "colorbar": {
              "outlinewidth": 0,
              "ticks": ""
             }
            },
            "type": "scatter3d"
           }
          ],
          "scattercarpet": [
           {
            "marker": {
             "colorbar": {
              "outlinewidth": 0,
              "ticks": ""
             }
            },
            "type": "scattercarpet"
           }
          ],
          "scattergeo": [
           {
            "marker": {
             "colorbar": {
              "outlinewidth": 0,
              "ticks": ""
             }
            },
            "type": "scattergeo"
           }
          ],
          "scattergl": [
           {
            "marker": {
             "colorbar": {
              "outlinewidth": 0,
              "ticks": ""
             }
            },
            "type": "scattergl"
           }
          ],
          "scattermapbox": [
           {
            "marker": {
             "colorbar": {
              "outlinewidth": 0,
              "ticks": ""
             }
            },
            "type": "scattermapbox"
           }
          ],
          "scatterpolar": [
           {
            "marker": {
             "colorbar": {
              "outlinewidth": 0,
              "ticks": ""
             }
            },
            "type": "scatterpolar"
           }
          ],
          "scatterpolargl": [
           {
            "marker": {
             "colorbar": {
              "outlinewidth": 0,
              "ticks": ""
             }
            },
            "type": "scatterpolargl"
           }
          ],
          "scatterternary": [
           {
            "marker": {
             "colorbar": {
              "outlinewidth": 0,
              "ticks": ""
             }
            },
            "type": "scatterternary"
           }
          ],
          "surface": [
           {
            "colorbar": {
             "outlinewidth": 0,
             "ticks": ""
            },
            "colorscale": [
             [
              0,
              "#0d0887"
             ],
             [
              0.1111111111111111,
              "#46039f"
             ],
             [
              0.2222222222222222,
              "#7201a8"
             ],
             [
              0.3333333333333333,
              "#9c179e"
             ],
             [
              0.4444444444444444,
              "#bd3786"
             ],
             [
              0.5555555555555556,
              "#d8576b"
             ],
             [
              0.6666666666666666,
              "#ed7953"
             ],
             [
              0.7777777777777778,
              "#fb9f3a"
             ],
             [
              0.8888888888888888,
              "#fdca26"
             ],
             [
              1,
              "#f0f921"
             ]
            ],
            "type": "surface"
           }
          ],
          "table": [
           {
            "cells": {
             "fill": {
              "color": "#EBF0F8"
             },
             "line": {
              "color": "white"
             }
            },
            "header": {
             "fill": {
              "color": "#C8D4E3"
             },
             "line": {
              "color": "white"
             }
            },
            "type": "table"
           }
          ]
         },
         "layout": {
          "annotationdefaults": {
           "arrowcolor": "#2a3f5f",
           "arrowhead": 0,
           "arrowwidth": 1
          },
          "autotypenumbers": "strict",
          "coloraxis": {
           "colorbar": {
            "outlinewidth": 0,
            "ticks": ""
           }
          },
          "colorscale": {
           "diverging": [
            [
             0,
             "#8e0152"
            ],
            [
             0.1,
             "#c51b7d"
            ],
            [
             0.2,
             "#de77ae"
            ],
            [
             0.3,
             "#f1b6da"
            ],
            [
             0.4,
             "#fde0ef"
            ],
            [
             0.5,
             "#f7f7f7"
            ],
            [
             0.6,
             "#e6f5d0"
            ],
            [
             0.7,
             "#b8e186"
            ],
            [
             0.8,
             "#7fbc41"
            ],
            [
             0.9,
             "#4d9221"
            ],
            [
             1,
             "#276419"
            ]
           ],
           "sequential": [
            [
             0,
             "#0d0887"
            ],
            [
             0.1111111111111111,
             "#46039f"
            ],
            [
             0.2222222222222222,
             "#7201a8"
            ],
            [
             0.3333333333333333,
             "#9c179e"
            ],
            [
             0.4444444444444444,
             "#bd3786"
            ],
            [
             0.5555555555555556,
             "#d8576b"
            ],
            [
             0.6666666666666666,
             "#ed7953"
            ],
            [
             0.7777777777777778,
             "#fb9f3a"
            ],
            [
             0.8888888888888888,
             "#fdca26"
            ],
            [
             1,
             "#f0f921"
            ]
           ],
           "sequentialminus": [
            [
             0,
             "#0d0887"
            ],
            [
             0.1111111111111111,
             "#46039f"
            ],
            [
             0.2222222222222222,
             "#7201a8"
            ],
            [
             0.3333333333333333,
             "#9c179e"
            ],
            [
             0.4444444444444444,
             "#bd3786"
            ],
            [
             0.5555555555555556,
             "#d8576b"
            ],
            [
             0.6666666666666666,
             "#ed7953"
            ],
            [
             0.7777777777777778,
             "#fb9f3a"
            ],
            [
             0.8888888888888888,
             "#fdca26"
            ],
            [
             1,
             "#f0f921"
            ]
           ]
          },
          "colorway": [
           "#636efa",
           "#EF553B",
           "#00cc96",
           "#ab63fa",
           "#FFA15A",
           "#19d3f3",
           "#FF6692",
           "#B6E880",
           "#FF97FF",
           "#FECB52"
          ],
          "font": {
           "color": "#2a3f5f"
          },
          "geo": {
           "bgcolor": "white",
           "lakecolor": "white",
           "landcolor": "white",
           "showlakes": true,
           "showland": true,
           "subunitcolor": "#C8D4E3"
          },
          "hoverlabel": {
           "align": "left"
          },
          "hovermode": "closest",
          "mapbox": {
           "style": "light"
          },
          "paper_bgcolor": "white",
          "plot_bgcolor": "white",
          "polar": {
           "angularaxis": {
            "gridcolor": "#EBF0F8",
            "linecolor": "#EBF0F8",
            "ticks": ""
           },
           "bgcolor": "white",
           "radialaxis": {
            "gridcolor": "#EBF0F8",
            "linecolor": "#EBF0F8",
            "ticks": ""
           }
          },
          "scene": {
           "xaxis": {
            "backgroundcolor": "white",
            "gridcolor": "#DFE8F3",
            "gridwidth": 2,
            "linecolor": "#EBF0F8",
            "showbackground": true,
            "ticks": "",
            "zerolinecolor": "#EBF0F8"
           },
           "yaxis": {
            "backgroundcolor": "white",
            "gridcolor": "#DFE8F3",
            "gridwidth": 2,
            "linecolor": "#EBF0F8",
            "showbackground": true,
            "ticks": "",
            "zerolinecolor": "#EBF0F8"
           },
           "zaxis": {
            "backgroundcolor": "white",
            "gridcolor": "#DFE8F3",
            "gridwidth": 2,
            "linecolor": "#EBF0F8",
            "showbackground": true,
            "ticks": "",
            "zerolinecolor": "#EBF0F8"
           }
          },
          "shapedefaults": {
           "line": {
            "color": "#2a3f5f"
           }
          },
          "ternary": {
           "aaxis": {
            "gridcolor": "#DFE8F3",
            "linecolor": "#A2B1C6",
            "ticks": ""
           },
           "baxis": {
            "gridcolor": "#DFE8F3",
            "linecolor": "#A2B1C6",
            "ticks": ""
           },
           "bgcolor": "white",
           "caxis": {
            "gridcolor": "#DFE8F3",
            "linecolor": "#A2B1C6",
            "ticks": ""
           }
          },
          "title": {
           "x": 0.05
          },
          "xaxis": {
           "automargin": true,
           "gridcolor": "#EBF0F8",
           "linecolor": "#EBF0F8",
           "ticks": "",
           "title": {
            "standoff": 15
           },
           "zerolinecolor": "#EBF0F8",
           "zerolinewidth": 2
          },
          "yaxis": {
           "automargin": true,
           "gridcolor": "#EBF0F8",
           "linecolor": "#EBF0F8",
           "ticks": "",
           "title": {
            "standoff": 15
           },
           "zerolinecolor": "#EBF0F8",
           "zerolinewidth": 2
          }
         }
        },
        "title": {
         "text": "Adjusted Revenue vs. Movie Ratings"
        },
        "width": 900,
        "xaxis": {
         "anchor": "y",
         "domain": [
          0,
          1
         ],
         "title": {
          "text": "Movie Revenue ($), logscale"
         },
         "type": "log"
        },
        "yaxis": {
         "anchor": "x",
         "domain": [
          0,
          1
         ],
         "title": {
          "text": "Normalized Movie Rating"
         }
        }
       }
      }
     },
     "metadata": {},
     "output_type": "display_data"
    }
   ],
   "source": [
    "gu.quadrant_revenue(df_revenue, 'adjusted_revenue', title='Adjusted Revenue vs. Movie Ratings')"
   ]
  },
  {
   "cell_type": "markdown",
   "metadata": {},
   "source": [
    "The inflation-adjustment has little impact on this particular plot. The main thing that can be seen is a shift to the right, so a general increase in revenues. Which comes from the fact that the inflation was adjusted to the value of today's money, rather than to the money from the past. "
   ]
  },
  {
   "cell_type": "markdown",
   "metadata": {},
   "source": [
    "### Top 10 Authors with the most different Books adapted into Movies"
   ]
  },
  {
   "cell_type": "code",
   "execution_count": 48,
   "metadata": {},
   "outputs": [
    {
     "data": {
      "image/png": "[encoded data removed]",
      "text/plain": [
       "<Figure size 1500x400 with 1 Axes>"
      ]
     },
     "metadata": {},
     "output_type": "display_data"
    }
   ],
   "source": [
    "unique_books_author = unique_books[unique_books.Author != '0']\n",
    "author_stats = unique_books_author.groupby('Author').agg(book_count=('BookTitle', 'size')).sort_values(by='book_count', ascending=False).head(10)\n",
    "\n",
    "fig, ax1 = plt.subplots(figsize=(15, 4))\n",
    "sns.barplot(x=author_stats.index, y=author_stats['book_count'], color='skyblue', ax=ax1)\n",
    "ax1.set_ylabel('Number of different Books')\n",
    "ax1.set_xlabel('Author')\n",
    "ax1.set_title('Top 10 Authors by Book Count')\n",
    "plt.show()"
   ]
  },
  {
   "cell_type": "markdown",
   "metadata": {},
   "source": [
    "Zane Grey seems to have understood the way of writing books that are later made into movies. While he is mainly known for western movies, Ian Fleming has gotten to his spot by writing all the \"James Bond\" books. Stephen King is on a well deserved third place with all of his horror movies. This plot shows, that most authors that write books which are adapted often, only write for a very specific niche. This is a sort of winner takes it all effect, which means that in some genres there is one author that will probably have all his books turned into films while most other authors are overlooked."
   ]
  },
  {
   "cell_type": "markdown",
   "metadata": {},
   "source": [
    "### Release Year of the Book"
   ]
  },
  {
   "cell_type": "code",
   "execution_count": 49,
   "metadata": {},
   "outputs": [
    {
     "data": {
      "image/png": "[encoded data removed]",
      "text/plain": [
       "<Figure size 700x400 with 1 Axes>"
      ]
     },
     "metadata": {},
     "output_type": "display_data"
    }
   ],
   "source": [
    "plt.figure(figsize=(7, 4))\n",
    "sns.histplot(unique_books['BookYear'].dropna(), bins=50, kde=True)\n",
    "plt.title('Distribution of Book Release Year')\n",
    "plt.xlabel('Book Release Year')\n",
    "plt.ylabel('Frequency')\n",
    "plt.show()"
   ]
  },
  {
   "cell_type": "code",
   "execution_count": 50,
   "metadata": {},
   "outputs": [
    {
     "data": {
      "text/html": [
       "<div>\n",
       "<style scoped>\n",
       "    .dataframe tbody tr th:only-of-type {\n",
       "        vertical-align: middle;\n",
       "    }\n",
       "\n",
       "    .dataframe tbody tr th {\n",
       "        vertical-align: top;\n",
       "    }\n",
       "\n",
       "    .dataframe thead th {\n",
       "        text-align: right;\n",
       "    }\n",
       "</style>\n",
       "<table border=\"1\" class=\"dataframe\">\n",
       "  <thead>\n",
       "    <tr style=\"text-align: right;\">\n",
       "      <th></th>\n",
       "      <th>length</th>\n",
       "      <th>book_id</th>\n",
       "      <th>BookTitle</th>\n",
       "      <th>Author</th>\n",
       "      <th>normalized_rating_y</th>\n",
       "      <th>BookYear</th>\n",
       "      <th>review_count</th>\n",
       "    </tr>\n",
       "  </thead>\n",
       "  <tbody>\n",
       "    <tr>\n",
       "      <th>692</th>\n",
       "      <td>224.0</td>\n",
       "      <td>25309336.0</td>\n",
       "      <td>The Rebel Outlaw: Josey Wales</td>\n",
       "      <td>Asa Earl Carter</td>\n",
       "      <td>0.686667</td>\n",
       "      <td>0</td>\n",
       "      <td>52.0</td>\n",
       "    </tr>\n",
       "    <tr>\n",
       "      <th>818</th>\n",
       "      <td>320.0</td>\n",
       "      <td>13109354.0</td>\n",
       "      <td>One Thousand and One Nights</td>\n",
       "      <td>0</td>\n",
       "      <td>0.596667</td>\n",
       "      <td>0</td>\n",
       "      <td>211.0</td>\n",
       "    </tr>\n",
       "    <tr>\n",
       "      <th>1337</th>\n",
       "      <td>541.0</td>\n",
       "      <td>1381.0</td>\n",
       "      <td>Odyssey</td>\n",
       "      <td>Homer</td>\n",
       "      <td>0.583333</td>\n",
       "      <td>0</td>\n",
       "      <td>9990.0</td>\n",
       "    </tr>\n",
       "    <tr>\n",
       "      <th>1370</th>\n",
       "      <td>213.0</td>\n",
       "      <td>52357.0</td>\n",
       "      <td>Beowulf</td>\n",
       "      <td>unknown</td>\n",
       "      <td>0.476667</td>\n",
       "      <td>0</td>\n",
       "      <td>5648.0</td>\n",
       "    </tr>\n",
       "  </tbody>\n",
       "</table>\n",
       "</div>"
      ],
      "text/plain": [
       "      length     book_id                      BookTitle           Author  \\\n",
       "692    224.0  25309336.0  The Rebel Outlaw: Josey Wales  Asa Earl Carter   \n",
       "818    320.0  13109354.0    One Thousand and One Nights                0   \n",
       "1337   541.0      1381.0                        Odyssey            Homer   \n",
       "1370   213.0     52357.0                        Beowulf          unknown   \n",
       "\n",
       "      normalized_rating_y  BookYear  review_count  \n",
       "692              0.686667         0          52.0  \n",
       "818              0.596667         0         211.0  \n",
       "1337             0.583333         0        9990.0  \n",
       "1370             0.476667         0        5648.0  "
      ]
     },
     "metadata": {},
     "output_type": "display_data"
    }
   ],
   "source": [
    "display(unique_books[unique_books.BookYear <= 50])"
   ]
  },
  {
   "cell_type": "markdown",
   "metadata": {},
   "source": [
    "Some of these books are actually written a very long time ago (like Odyssey from Homer for example was written around 700 B.C.), but others just don't seem to have the correct year (like Background to Danger from 1937). Let's exclude them for now from the analysis, since they are only a few. "
   ]
  },
  {
   "cell_type": "code",
   "execution_count": 51,
   "metadata": {},
   "outputs": [
    {
     "data": {
      "image/png": "[encoded data removed]",
      "text/plain": [
       "<Figure size 700x400 with 1 Axes>"
      ]
     },
     "metadata": {},
     "output_type": "display_data"
    }
   ],
   "source": [
    "unique_books_year = unique_books[unique_books.BookYear != 0]\n",
    "plt.figure(figsize=(7, 4))\n",
    "sns.histplot(unique_books_year['BookYear'].dropna(), bins=50, kde=True)\n",
    "plt.title('Distribution of Book Release Year')\n",
    "plt.xlabel('Book Release Year')\n",
    "plt.ylabel('Frequency')\n",
    "plt.show()"
   ]
  },
  {
   "cell_type": "markdown",
   "metadata": {},
   "source": [
    "Now the graph is more useful. Most books that were turned into movies were written in the 19th century. This mainly comes form an increase in book publishing since more people had the time and money to spend on writing. "
   ]
  },
  {
   "cell_type": "markdown",
   "metadata": {},
   "source": [
    "### How much time goes by between a Book and Movie Release?"
   ]
  },
  {
   "cell_type": "code",
   "execution_count": 52,
   "metadata": {},
   "outputs": [
    {
     "data": {
      "application/vnd.plotly.v1+json": {
       "config": {
        "plotlyServerURL": "https://plot.ly"
       },
       "data": [
        {
         "customdata": [
          [
           "Mary Poppins",
           1934
          ],
          [
           "The Siege of Trencher's Farm",
           1969
          ],
          [
           "Journey to the West",
           1590
          ],
          [
           "The Beast Master",
           1959
          ],
          [
           "Shaft",
           1970
          ],
          [
           "The Last Song",
           2009
          ],
          [
           "For Love of the Game",
           1991
          ],
          [
           "The Queen of the Damned",
           1988
          ],
          [
           "Laura",
           1942
          ],
          [
           "The Last Picture Show",
           1966
          ],
          [
           "Red Alert",
           1958
          ],
          [
           "Zorba the Greek",
           1946
          ],
          [
           "Lolita",
           1955
          ],
          [
           "Bee Season",
           2000
          ],
          [
           "The Other Boleyn Girl",
           2001
          ],
          [
           "L.A. Confidential",
           1990
          ],
          [
           "Giant",
           1952
          ],
          [
           "Ku Klux Klan Trilogy",
           1907
          ],
          [
           "Waltz into Darkness",
           1947
          ],
          [
           "Cirque Du Freak: The Saga of Darren Shan",
           2000
          ],
          [
           "Tarzan",
           1995
          ],
          [
           "Pharaoh",
           1895
          ],
          [
           "Battlefield Earth",
           1982
          ],
          [
           "No Country for Old Men",
           2005
          ],
          [
           "The Rescuers",
           1962
          ],
          [
           "Altered States",
           1978
          ],
          [
           "The Stepford Wives",
           1972
          ],
          [
           "Death Wish",
           1972
          ],
          [
           "Vengeance",
           1984
          ],
          [
           "Be Ready with Bells and Drums",
           1961
          ],
          [
           "Millennium",
           2007
          ],
          [
           "The Wonderful Wizard of Oz",
           1900
          ],
          [
           "Gulliver's Travels",
           1726
          ],
          [
           "A Stir of Echoes",
           1958
          ],
          [
           "The Secret Life of Bees",
           2002
          ],
          [
           "Charlie and the Chocolate Factory",
           1964
          ],
          [
           "The Hustler",
           1959
          ],
          [
           "The Iron Man",
           1968
          ],
          [
           "Catch-22",
           1961
          ],
          [
           "In Country",
           1985
          ],
          [
           "War Horse",
           1982
          ],
          [
           "The Sisterhood of the Traveling Pants",
           2001
          ],
          [
           "The Sand Pebbles",
           1962
          ],
          [
           "The Time Traveler's Wife",
           2003
          ],
          [
           "Howards End",
           1910
          ],
          [
           "Les Liaisons dangereuses",
           1782
          ],
          [
           "Eye of the Needle",
           1978
          ],
          [
           "The First Wives Club",
           1992
          ],
          [
           "Jaws",
           1974
          ],
          [
           "Airport",
           1968
          ],
          [
           "Where the Wild Things Are",
           1963
          ],
          [
           "Strip Tease",
           1993
          ],
          [
           "Rum Punch",
           1992
          ],
          [
           "Dreamcatcher",
           2001
          ],
          [
           "Harry Potter and the Half-Blood Prince",
           2005
          ],
          [
           "Vanity Fair",
           1847
          ],
          [
           "Don't Say a Word",
           1991
          ],
          [
           "Casino Royale",
           1953
          ],
          [
           "The Desperate Hours",
           1954
          ],
          [
           "The Three Worlds of Johnny Handsome",
           1973
          ],
          [
           "The Night of the Iguana",
           1967
          ],
          [
           "Bourne",
           2004
          ],
          [
           "Clockers",
           1992
          ],
          [
           "Anna and the King of Siam",
           1944
          ],
          [
           "The Lord of the Rings",
           1955
          ],
          [
           "Dying Young",
           1990
          ],
          [
           "Gigi",
           1944
          ],
          [
           "Airport",
           1968
          ],
          [
           "The Hunchback of Notre-Dame",
           1831
          ],
          [
           "The Poseidon Adventure",
           1972
          ],
          [
           "The Last Ride",
           1996
          ],
          [
           "A Very Private Gentleman",
           1990
          ],
          [
           "Force 10 From Navarone",
           1968
          ],
          [
           "Freaky Friday",
           1972
          ],
          [
           "The Adventures of Pinocchio",
           1883
          ],
          [
           "The Name of the Rose",
           1980
          ],
          [
           "The Nanny Diaries",
           2002
          ],
          [
           "Anna Karenina",
           1873
          ],
          [
           "Frankenstein",
           1818
          ],
          [
           "Harry Potter and the Goblet of Fire",
           2000
          ],
          [
           "The Hunter",
           1962
          ],
          [
           "Moonraker",
           1955
          ],
          [
           "Lay This Laurel",
           1973
          ],
          [
           "The Invisible Man",
           1897
          ],
          [
           "Gentlemen Prefer Blondes",
           1925
          ],
          [
           "I Am Legend",
           1954
          ],
          [
           "American Psycho",
           1991
          ],
          [
           "Voyage au centre de la Terre",
           1864
          ],
          [
           "Message in a Bottle",
           1998
          ],
          [
           "The Hot Rock",
           1970
          ],
          [
           "To Catch a Thief",
           1952
          ],
          [
           "The Body Snatchers",
           1955
          ],
          [
           "The Long Goodbye",
           1953
          ],
          [
           "Dune",
           1965
          ],
          [
           "The Firm",
           1991
          ],
          [
           "Dances with Wolves",
           1986
          ],
          [
           "The Chronicles of Narnia",
           1955
          ],
          [
           "The Luck of Barry Lyndon",
           1844
          ],
          [
           "On Stranger Tides",
           1987
          ],
          [
           "Emma",
           1815
          ],
          [
           "Fever Pitch",
           1992
          ],
          [
           "Freedomland",
           1998
          ],
          [
           "The Big Sleep",
           1939
          ],
          [
           "Red Dragon",
           1981
          ],
          [
           "The Invisible Man",
           1897
          ],
          [
           "The War of the Worlds",
           1898
          ],
          [
           "Rebecca",
           1938
          ],
          [
           "Beloved",
           1987
          ],
          [
           "Winnie-the-Pooh",
           1928
          ],
          [
           "The Silence of the Lambs",
           1988
          ],
          [
           "The Neverending Story",
           1979
          ],
          [
           "Enemy Mine",
           1979
          ],
          [
           "Adventures of Huckleberry Finn",
           1884
          ],
          [
           "Possession: A Romance",
           1990
          ],
          [
           "Cocoon",
           1985
          ],
          [
           "Clear and Present Danger",
           1989
          ],
          [
           "Bourne",
           2004
          ],
          [
           "The Andromeda Strain",
           1969
          ],
          [
           "The Reader",
           1995
          ],
          [
           "La Planète des singes",
           1963
          ],
          [
           "La Planète des singes",
           1963
          ],
          [
           "The Joy Luck Club",
           1989
          ],
          [
           "The Prince and the Pauper",
           1881
          ],
          [
           "Moby-Dick",
           1851
          ],
          [
           "The Cowboys",
           1971
          ],
          [
           "The Boy in the Striped Pyjamas",
           2006
          ],
          [
           "Six Days of the Condor",
           1974
          ],
          [
           "The Rescuers",
           1962
          ],
          [
           "The Children of Men",
           1992
          ],
          [
           "Harry Potter and the Order of the Phoenix",
           2003
          ],
          [
           "The Ghost",
           2007
          ],
          [
           "Lolita",
           1955
          ],
          [
           "The Space Vampires",
           1976
          ],
          [
           "Stardust",
           1999
          ],
          [
           "Waltz into Darkness",
           1947
          ],
          [
           "Winnie-the-Pooh",
           1928
          ],
          [
           "The Running Man",
           1982
          ],
          [
           "Simple Simon",
           1996
          ],
          [
           "The Apple Dumpling Gang",
           1971
          ],
          [
           "Il disprezzo",
           1954
          ],
          [
           "After Hours",
           1979
          ],
          [
           "Addie Pray",
           1971
          ],
          [
           "Millennium",
           2007
          ],
          [
           "Valley of the Dolls",
           1966
          ],
          [
           "Peter Pan, or The Boy Who Wouldn't Grow Up",
           1911
          ],
          [
           "Psycho",
           1959
          ],
          [
           "Tess of the d'Urbervilles",
           1891
          ],
          [
           "The Beast Master",
           1959
          ],
          [
           "Babylon Babies",
           1999
          ],
          [
           "Shalako",
           1962
          ],
          [
           "Pet Sematary",
           1983
          ],
          [
           "Blue Fin",
           1969
          ],
          [
           "The Wonderful Wizard of Oz",
           1900
          ],
          [
           "Dragon Seed",
           1942
          ],
          [
           "Vampire$",
           1990
          ],
          [
           "The Wind in the Willows",
           1908
          ],
          [
           "The Body Snatchers",
           1955
          ],
          [
           "The Blue Lagoon",
           1908
          ],
          [
           "Marathon Man",
           1974
          ],
          [
           "Mute Witness",
           1963
          ],
          [
           "The Hundred and One Dalmatians",
           1956
          ],
          [
           "Billy Bathgate",
           1989
          ],
          [
           "Millennium",
           2007
          ],
          [
           "Air America",
           1985
          ],
          [
           "Congo",
           1980
          ],
          [
           "About a Boy",
           1998
          ],
          [
           "Les Misérables",
           1862
          ],
          [
           "The Bonfire of the Vanities",
           1987
          ],
          [
           "Peter Pan, or The Boy Who Wouldn't Grow Up",
           1911
          ],
          [
           "Double Indemnity",
           1936
          ],
          [
           "Oliver Twist",
           1837
          ],
          [
           "Uncle Remus",
           1881
          ],
          [
           "First Blood",
           1972
          ],
          [
           "A Farewell to Arms",
           1929
          ],
          [
           "Sideways",
           2004
          ],
          [
           "Le tour du monde en quatre-vingts jours",
           1873
          ],
          [
           "The Black Stallion",
           1989
          ],
          [
           "Derailed",
           2003
          ],
          [
           "The Exorcist",
           1971
          ],
          [
           "First Blood",
           1972
          ],
          [
           "Birdy",
           1978
          ],
          [
           "All the Brothers Were Valiant",
           1919
          ],
          [
           "Ben-Hur: A Tale of the Christ",
           1880
          ],
          [
           "The Da Vinci Code",
           2003
          ],
          [
           "Duel in the Sun",
           1941
          ],
          [
           "The Wolfen",
           1978
          ],
          [
           "The Hunter",
           1962
          ],
          [
           "Moby-Dick",
           1851
          ],
          [
           "The Mysterious Island",
           1874
          ],
          [
           "The Siege of Trencher's Farm",
           1969
          ],
          [
           "Water for Elephants",
           2006
          ],
          [
           "The Day of the Jackal",
           1971
          ],
          [
           "Great Expectations",
           1860
          ],
          [
           "The African Queen",
           1935
          ],
          [
           "I Am Number Four",
           2010
          ],
          [
           "The Jungle Book",
           1895
          ],
          [
           "The Witnesses",
           1971
          ],
          [
           "The Agony and the Ecstasy",
           1961
          ],
          [
           "In the Heat of the Night",
           1965
          ],
          [
           "Kuroi Ame",
           1966
          ],
          [
           "Spartacus",
           1951
          ],
          [
           "Schindler's Ark",
           1982
          ],
          [
           "The Age of Innocence",
           1921
          ],
          [
           "Nothing Lasts Forever",
           1979
          ],
          [
           "Adventures of Huckleberry Finn",
           1884
          ],
          [
           "Tarzan",
           1995
          ],
          [
           "The Pope of Greenwich Village",
           1979
          ],
          [
           "El Club Dumas",
           1993
          ],
          [
           "The Time Machine",
           1895
          ],
          [
           "Dark Passage",
           1946
          ],
          [
           "Stuart Little",
           1945
          ],
          [
           "Marnie",
           1961
          ],
          [
           "The Runaway Jury",
           1996
          ],
          [
           "A Connecticut Yankee in King Arthur's Court",
           1889
          ],
          [
           "Frankenstein",
           1818
          ],
          [
           "The Positronic Man",
           1993
          ],
          [
           "The Constant Gardener",
           2001
          ],
          [
           "Vingt mille lieues sous les mers",
           1870
          ],
          [
           "The Spy Who Loved Me",
           1962
          ],
          [
           "Timeline",
           1999
          ],
          [
           "The Postman",
           1985
          ],
          [
           "Murphy’s Romance: A Novel",
           1980
          ],
          [
           "Percy Jackson & the Olympians",
           2006
          ],
          [
           "The Drowning Pool",
           1950
          ],
          [
           "Anthony Adverse",
           1933
          ],
          [
           "La Planète des singes",
           1963
          ],
          [
           "The Garden of God",
           1923
          ],
          [
           "The Dark Fields",
           2001
          ],
          [
           "The Exorcist",
           1971
          ],
          [
           "The Exorcist",
           1971
          ],
          [
           "Blood Work",
           1998
          ],
          [
           "Gods and Generals",
           1996
          ],
          [
           "The Guns of Navarone",
           1957
          ],
          [
           "The Trial",
           1925
          ],
          [
           "The Lincoln Lawyer",
           2005
          ],
          [
           "The Midwich Cuckoos",
           1957
          ],
          [
           "La Planète des singes",
           1963
          ],
          [
           "The Talented Mr. Ripley",
           1955
          ],
          [
           "The Wages of Fear",
           1950
          ],
          [
           "The Shipping News",
           1993
          ],
          [
           "Harry Potter and the Deathly Hallows",
           2007
          ],
          [
           "Chocolat",
           1999
          ],
          [
           "Oliver Twist",
           1837
          ],
          [
           "The Flight of the Phoenix",
           1964
          ],
          [
           "Live and Let Die",
           1954
          ],
          [
           "Der Schweizerische Robinson",
           1812
          ],
          [
           "The Color of Money",
           1984
          ],
          [
           "Naked Lunch",
           1959
          ],
          [
           "The Trouble with Harry",
           1950
          ],
          [
           "Ice Station Zebra",
           1963
          ],
          [
           "Psycho",
           1959
          ],
          [
           "Treasure Island",
           1883
          ],
          [
           "The Molly Maguires",
           1969
          ],
          [
           "The Phantom of the Opera",
           1909
          ],
          [
           "The Witches of Eastwick",
           1984
          ],
          [
           "Woe to Live On",
           1987
          ],
          [
           "Farewell to the King",
           1969
          ],
          [
           "The Quiet American",
           1955
          ],
          [
           "Strange Case of Dr Jekyll and Mr Hyde",
           1886
          ],
          [
           "Cry Wolf",
           1945
          ],
          [
           "Fahrenheit 451",
           1953
          ],
          [
           "Fight Club",
           1996
          ],
          [
           "Love Story",
           1977
          ],
          [
           "The Vicomte of Bragelonne: Ten Years Later",
           1847
          ],
          [
           "Peter Pan, or The Boy Who Wouldn't Grow Up",
           1911
          ],
          [
           "From Here to Eternity",
           1951
          ],
          [
           "The Deep",
           1976
          ],
          [
           "And Then There Were None",
           1939
          ],
          [
           "Bourne",
           2004
          ],
          [
           "Hannibal",
           1999
          ],
          [
           "Random Hearts",
           1984
          ],
          [
           "The Twilight Saga",
           2008
          ],
          [
           "The Woman in Black",
           1983
          ],
          [
           "The Cider House Rules",
           1985
          ],
          [
           "The Sword in the Stone",
           1938
          ],
          [
           "The Neverending Story",
           1979
          ],
          [
           "All the Way",
           2001
          ],
          [
           "Jaws",
           1974
          ],
          [
           "Äideistä parhain",
           1999
          ],
          [
           "Jumanji",
           1981
          ],
          [
           "The Hunt for Red October",
           1984
          ],
          [
           "A Running Duck",
           1974
          ],
          [
           "Strange Case of Dr Jekyll and Mr Hyde",
           1886
          ],
          [
           "First Blood",
           1972
          ],
          [
           "Oliver Twist",
           1837
          ],
          [
           "Cimarron",
           1929
          ],
          [
           "The Willing Flesh",
           1955
          ],
          [
           "Frankenstein",
           1818
          ],
          [
           "The Color Purple",
           1982
          ],
          [
           "The Adventures of Pinocchio",
           1883
          ],
          [
           "Frankenstein",
           1818
          ],
          [
           "Anna and the King of Siam",
           1944
          ],
          [
           "The Wonderful Wizard of Oz",
           1900
          ],
          [
           "Le Pont de la Rivière Kwaï",
           1952
          ],
          [
           "Misery",
           1987
          ],
          [
           "The Godfather",
           1969
          ],
          [
           "The Road",
           2006
          ],
          [
           "Ivanhoe",
           1820
          ],
          [
           "The Getaway",
           1959
          ],
          [
           "The Swarm",
           1974
          ],
          [
           "Peter Pan, or The Boy Who Wouldn't Grow Up",
           1911
          ],
          [
           "Gone with the Wind",
           1936
          ],
          [
           "The Scarlet Letter",
           1850
          ],
          [
           "Escape to Witch Mountain",
           1968
          ],
          [
           "Layer Cake",
           2000
          ],
          [
           "The Client",
           1993
          ],
          [
           "The Exorcist",
           1971
          ],
          [
           "La Planète des singes",
           1963
          ],
          [
           "Fear and Loathing in Las Vegas",
           1971
          ],
          [
           "Eaters of the Dead",
           1976
          ],
          [
           "The Night of the Generals",
           1963
          ],
          [
           "Frankenstein",
           1818
          ],
          [
           "Fletch",
           1974
          ],
          [
           "Matilda",
           1988
          ],
          [
           "Dad",
           1981
          ],
          [
           "A Good Year",
           2004
          ],
          [
           "The Princess Diaries",
           2000
          ],
          [
           "The Big Bounce",
           1966
          ],
          [
           "The Caine Mutiny",
           1952
          ],
          [
           "Bad Girl",
           1928
          ],
          [
           "Casino Royale",
           1953
          ],
          [
           "Who Censored Roger Rabbit?",
           1981
          ],
          [
           "Treasure Island",
           1883
          ],
          [
           "Bourne",
           2004
          ],
          [
           "Election",
           1998
          ],
          [
           "La Casa de los Espíritus",
           1982
          ],
          [
           "Revolutionary Road",
           1961
          ],
          [
           "Big Trouble",
           1999
          ],
          [
           "Three-Ten to Yuma",
           1953
          ],
          [
           "Mildred Pierce",
           1941
          ],
          [
           "Harry Potter and the Chamber of Secrets",
           1998
          ],
          [
           "Harry Potter and the Prisoner of Azkaban",
           1999
          ],
          [
           "Get Shorty",
           1990
          ],
          [
           "Strange Case of Dr Jekyll and Mr Hyde",
           1886
          ],
          [
           "Atonement",
           2001
          ],
          [
           "Thunderball",
           1961
          ],
          [
           "A Passage to India",
           1924
          ],
          [
           "Logan's Run",
           1967
          ],
          [
           "Mr. Hobbs' Vacation",
           1954
          ],
          [
           "The Natural",
           1952
          ],
          [
           "The War of the Roses",
           1981
          ],
          [
           "The Beach",
           1996
          ],
          [
           "The Golden Bowl",
           1904
          ],
          [
           "The Dirty Dozen",
           1965
          ],
          [
           "The Desperate Hours",
           1954
          ],
          [
           "The Highland Rogue",
           1917
          ],
          [
           "Alice Adams",
           1921
          ],
          [
           "Firefox",
           1977
          ],
          [
           "To Kill a Mockingbird",
           1960
          ],
          [
           "Psycho",
           1959
          ],
          [
           "The Island",
           1979
          ],
          [
           "Les Liaisons dangereuses",
           1782
          ],
          [
           "An American Tragedy",
           1925
          ],
          [
           "James and the Giant Peach",
           1961
          ],
          [
           "Return of the Living Dead",
           1977
          ],
          [
           "Before the Fact",
           1932
          ],
          [
           "The Rainmaker",
           1995
          ],
          [
           "The Killer Inside Me",
           1952
          ],
          [
           "Solaris",
           1961
          ],
          [
           "My Friend Flicka",
           1941
          ],
          [
           "What Dreams May Come",
           1978
          ],
          [
           "The City of Ember",
           2003
          ],
          [
           "Vingt mille lieues sous les mers",
           1870
          ],
          [
           "Kiss of the Spider Woman",
           1976
          ],
          [
           "The Hound of Florence",
           1923
          ],
          [
           "The Power of One",
           1989
          ],
          [
           "Lost Horizon",
           1933
          ],
          [
           "The Ballad of the Flim-Flam Man",
           1965
          ],
          [
           "You Only Live Twice",
           1964
          ],
          [
           "Theatre",
           1937
          ],
          [
           "Pride and Prejudice",
           1813
          ],
          [
           "Rosemary's Baby",
           1967
          ],
          [
           "One Flew Over the Cuckoo's Nest",
           1962
          ],
          [
           "Cocoon",
           1985
          ],
          [
           "The Robe",
           1942
          ],
          [
           "The Outsiders",
           1967
          ],
          [
           "The Human Stain",
           2000
          ],
          [
           "The Lovely Bones",
           2002
          ],
          [
           "Diamonds Are Forever",
           1956
          ],
          [
           "The Spiderwick Chronicles",
           2003
          ],
          [
           "Do Androids Dream of Electric Sheep?",
           1967
          ],
          [
           "An Awfully Big Adventure",
           1989
          ],
          [
           "The World According to Garp",
           1978
          ],
          [
           "Goodbye Piccadilly, Farewell Leicester Square",
           1969
          ],
          [
           "The Detective",
           1966
          ],
          [
           "The Caveman's Valentine",
           1994
          ],
          [
           "Thunderball",
           1961
          ],
          [
           "Thor",
           1993
          ],
          [
           "The Bridges of Madison County",
           1992
          ],
          [
           "The Sisterhood of the Traveling Pants",
           2001
          ],
          [
           "Something Wicked This Way Comes",
           1962
          ],
          [
           "Frankenstein",
           1818
          ],
          [
           "Murder in Amityville",
           1979
          ],
          [
           "Beaches",
           1985
          ],
          [
           "Father of the Bride",
           1949
          ],
          [
           "Sense and Sensibility",
           1811
          ],
          [
           "Elmer Gantry",
           1927
          ],
          [
           "A Watcher in the Woods",
           1976
          ],
          [
           "The Dying Animal",
           2001
          ],
          [
           "A History of Violence",
           1997
          ],
          [
           "Trainspotting",
           1993
          ],
          [
           "Jurassic Park",
           1990
          ],
          [
           "The Hound of Florence",
           1923
          ],
          [
           "Contact",
           1985
          ],
          [
           "Jude the Obscure",
           1895
          ],
          [
           "Murder on the Orient Express",
           1934
          ],
          [
           "Mrs. Frisby and the Rats of NIMH",
           1971
          ],
          [
           "Stuart Little",
           1945
          ],
          [
           "Horseman, Pass By",
           1961
          ],
          [
           "Exodus",
           1958
          ],
          [
           "The Razor's Edge",
           1944
          ],
          [
           "A Running Duck",
           1974
          ],
          [
           "Nurse Matilda",
           1964
          ],
          [
           "The Black Dahlia",
           1987
          ],
          [
           "Starship Troopers",
           1959
          ],
          [
           "The Hunchback of Notre-Dame",
           1831
          ],
          [
           "I Know What You Did Last Summer",
           1973
          ],
          [
           "A Time to Kill",
           1989
          ],
          [
           "Im Westen Nichts Neues",
           1929
          ],
          [
           "Little Caesar",
           1929
          ],
          [
           "The Wonderful Wizard of Oz",
           1900
          ],
          [
           "Falling Angel",
           1978
          ],
          [
           "The Holy Innocents",
           1988
          ],
          [
           "The Friendly Persuasion",
           1955
          ],
          [
           "The Grapes of Wrath",
           1939
          ],
          [
           "The Notebook",
           1996
          ],
          [
           "The Exorcist",
           1971
          ],
          [
           "The Painted Veil",
           1925
          ],
          [
           "The Body Snatchers",
           1955
          ],
          [
           "The King's Damosel",
           1976
          ],
          [
           "Glory for Me",
           1945
          ],
          [
           "Cycle of the Werewolf",
           1983
          ],
          [
           "The Glass Inferno",
           1974
          ],
          [
           "The Deep End of the Ocean",
           1996
          ],
          [
           "Topaz",
           1967
          ],
          [
           "Bringing Out the Dead",
           1998
          ],
          [
           "The Postman Always Rings Twice",
           1934
          ],
          [
           "The Man with the Golden Gun",
           1965
          ],
          [
           "Divine Secrets of the Ya-Ya Sisterhood",
           1996
          ],
          [
           "The Midwich Cuckoos",
           1957
          ],
          [
           "Along Came a Spider",
           1993
          ],
          [
           "The Fury",
           1976
          ],
          [
           "Cold Mountain",
           1997
          ],
          [
           "Nurse Matilda",
           1964
          ],
          [
           "Funny Farm",
           1985
          ],
          [
           "All the King's Men",
           1946
          ],
          [
           "Father of Frankenstein",
           1995
          ],
          [
           "The Moving Target",
           1949
          ],
          [
           "Strangers on a Train",
           1950
          ],
          [
           "The Adventures of Tom Sawyer",
           1876
          ],
          [
           "Fletch",
           1974
          ],
          [
           "Dr. No",
           1958
          ],
          [
           "From Russia, with Love",
           1957
          ],
          [
           "Sahara",
           1992
          ],
          [
           "Exit Wounds",
           1990
          ],
          [
           "Jurassic Park",
           1990
          ],
          [
           "The Manchurian Candidate",
           1959
          ],
          [
           "Peter Pan, or The Boy Who Wouldn't Grow Up",
           1911
          ],
          [
           "Beau Geste",
           1924
          ],
          [
           "The Devil Wears Prada",
           2003
          ],
          [
           "Where the Boys Are",
           1960
          ],
          [
           "Hombre",
           1961
          ],
          [
           "The Devil's Advocate",
           1990
          ],
          [
           "The Adventures of Pinocchio",
           1883
          ],
          [
           "The Clan of the Cave Bear",
           1980
          ],
          [
           "A Widow for One Year",
           1998
          ],
          [
           "The Egyptian",
           1945
          ],
          [
           "If I Die Before I Wake",
           1938
          ],
          [
           "Bridget Jones",
           1999
          ],
          [
           "Les Liaisons dangereuses",
           1782
          ],
          [
           "Northern Lights",
           1995
          ],
          [
           "The Women of Brewster Place",
           1982
          ],
          [
           "The Prince of Tides",
           1986
          ],
          [
           "Let the Right One In",
           2004
          ],
          [
           "December Boys",
           1963
          ],
          [
           "Christine",
           1983
          ],
          [
           "The Mysterious Island",
           1874
          ],
          [
           "The Chronicles of Narnia",
           1955
          ],
          [
           "Headhunters",
           2001
          ],
          [
           "Immortality, Inc.",
           1959
          ],
          [
           "Jurassic Park",
           1990
          ],
          [
           "The Manchurian Candidate",
           1959
          ],
          [
           "Death Sentence",
           1975
          ],
          [
           "The Polar Express",
           1985
          ],
          [
           "The Haunting of Hill House",
           1959
          ],
          [
           "On Her Majesty's Secret Service",
           1963
          ],
          [
           "Red Dragon",
           1981
          ],
          [
           "Le comte de Monte Cristo",
           1844
          ],
          [
           "Celle qui n'était plus",
           1954
          ],
          [
           "Anna and the King of Siam",
           1944
          ],
          [
           "The Jungle Book",
           1895
          ],
          [
           "Sphere",
           1987
          ],
          [
           "The Good German",
           2001
          ],
          [
           "At the Earth's Core",
           1914
          ],
          [
           "Mystic River",
           2001
          ],
          [
           "A Princess of Mars",
           1917
          ],
          [
           "The Shining",
           1977
          ],
          [
           "The Feather Men",
           1991
          ],
          [
           "Charlotte's Web",
           1952
          ],
          [
           "The Fox and the Hound",
           1967
          ],
          [
           "True Grit",
           1968
          ],
          [
           "The Prince and the Pauper",
           1881
          ],
          [
           "The Amityville Horror",
           1977
          ],
          [
           "Cool Hand Luke",
           1965
          ],
          [
           "Disclosure",
           1994
          ],
          [
           "The Help",
           2009
          ],
          [
           "Anna Karenina",
           1873
          ],
          [
           "Forrest Gump",
           1986
          ],
          [
           "Presumed Innocent",
           1987
          ],
          [
           "Watership Down",
           1972
          ],
          [
           "The Last Detail",
           1970
          ],
          [
           "Bridget Jones",
           1999
          ],
          [
           "The Four Feathers",
           1902
          ],
          [
           "The Hobbit",
           1937
          ],
          [
           "The Hours",
           1998
          ],
          [
           "The Rainbird Pattern",
           1972
          ],
          [
           "Bel Ami",
           1885
          ],
          [
           "Coins in the Fountain",
           1952
          ],
          [
           "High Fidelity",
           1995
          ],
          [
           "The End of the Affair",
           1951
          ],
          [
           "A Clockwork Orange",
           1962
          ],
          [
           "King Solomon's Mines",
           1885
          ],
          [
           "The Great Gatsby",
           1925
          ],
          [
           "The Fan",
           1978
          ],
          [
           "The Big Clock",
           1946
          ],
          [
           "How Green Was My Valley",
           1939
          ],
          [
           "The Treasure of the Sierra Madre",
           1927
          ],
          [
           "Crouching Tiger, Hidden Dragon",
           1942
          ],
          [
           "When Worlds Collide",
           1932
          ],
          [
           "Anatomy of a Murder",
           1958
          ],
          [
           "Ratman's Notebooks",
           1969
          ],
          [
           "Bright Lights, Big City",
           1984
          ],
          [
           "Fantastic Mr Fox",
           1970
          ],
          [
           "Empire of the Sun",
           1984
          ],
          [
           "A Simple Plan",
           1993
          ],
          [
           "The Executioners",
           1957
          ],
          [
           "The Executioners",
           1957
          ],
          [
           "Young Adam",
           1957
          ],
          [
           "Como agua para chocolate",
           1989
          ],
          [
           "The Great Gatsby",
           1925
          ],
          [
           "Fried Green Tomatoes at the Whistle Stop Cafe",
           1987
          ],
          [
           "The Adventures of Captain Alatriste",
           1996
          ],
          [
           "The Poseidon Adventure",
           1972
          ],
          [
           "The Devils of Loudun",
           1969
          ],
          [
           "Les Trois Mousquetaires",
           1844
          ],
          [
           "Emma",
           1815
          ],
          [
           "The Host",
           2008
          ],
          [
           "Ordinary People",
           1976
          ],
          [
           "American Splendor",
           1976
          ],
          [
           "The Last of the Mohicans",
           1826
          ],
          [
           "The Postman Always Rings Twice",
           1934
          ],
          [
           "D'entre les morts",
           1956
          ],
          [
           "Dear John",
           2006
          ],
          [
           "The Blank Wall",
           1947
          ],
          [
           "The Unbearable Lightness of Being",
           1984
          ],
          [
           "Big Fish: A Novel of Mythic Proportions",
           1998
          ],
          [
           "A Room with a View",
           1908
          ],
          [
           "For Whom the Bell Tolls",
           1940
          ],
          [
           "Flight of the Intruder",
           1986
          ],
          [
           "The Body Snatchers",
           1955
          ],
          [
           "The Sum of All Fears",
           1991
          ],
          [
           "Father Sky",
           1979
          ],
          [
           "The Hundred and One Dalmatians",
           1956
          ],
          [
           "Les Trois Mousquetaires",
           1844
          ],
          [
           "The Open Range Men",
           1990
          ],
          [
           "Gods and Generals",
           1996
          ],
          [
           "Harry Potter and the Philosopher's Stone",
           1997
          ],
          [
           "City of God",
           1997
          ],
          [
           "Sense and Sensibility",
           1811
          ],
          [
           "Hawaii",
           1959
          ],
          [
           "The Sea Hawk",
           1915
          ],
          [
           "Woman, Thou Art Loosed!: Healings the Wounds of the Past",
           1993
          ],
          [
           "Black Sunday",
           1971
          ],
          [
           "The Boys from Brazil",
           1976
          ],
          [
           "Le Morte d'Arthur",
           1485
          ],
          [
           "The Viking",
           1951
          ],
          [
           "The Lizard's Tail",
           1979
          ],
          [
           "Return of the Living Dead",
           1977
          ],
          [
           "Death on the Nile",
           1937
          ],
          [
           "La Planète des singes",
           1963
          ],
          [
           "Out of Sight",
           1996
          ],
          [
           "Terms of Endearment",
           1975
          ],
          [
           "Charlie and the Chocolate Factory",
           1964
          ],
          [
           "Maurice",
           1971
          ],
          [
           "Shutter Island",
           2003
          ],
          [
           "Lottie and Lisa",
           1949
          ],
          [
           "Les Trois Mousquetaires",
           1844
          ],
          [
           "The Hellbound Heart",
           1986
          ],
          [
           "The Fan",
           1995
          ],
          [
           "King Solomon's Mines",
           1885
          ],
          [
           "The Howling",
           1977
          ],
          [
           "At Play in the Fields of the Lord",
           1965
          ],
          [
           "The Chronicles of Prydain",
           1965
          ],
          [
           "The Chronicles of Narnia",
           1955
          ],
          [
           "The Lucky One",
           2008
          ],
          [
           "Evil Under the Sun",
           1981
          ],
          [
           "Goldfinger",
           1959
          ],
          [
           "The Secret Dreamworld of a Shopaholic",
           2003
          ],
          [
           "Hart's War",
           1999
          ],
          [
           "Battle Royale",
           1999
          ],
          [
           "The Painted Veil",
           1925
          ],
          [
           "The Green Mile",
           1996
          ],
          [
           "Kiss the Girls",
           1995
          ],
          [
           "The Pelican Brief",
           1992
          ],
          [
           "Let the Right One In",
           2004
          ],
          [
           "Be Cool",
           1999
          ],
          [
           "Where Eagles Dare",
           1967
          ],
          [
           "Desert of the Heart",
           1964
          ],
          [
           "Armageddon 2419 A.D.",
           1929
          ],
          [
           "Firestarter",
           1980
          ],
          [
           "Eragon",
           2003
          ],
          [
           "White Fang",
           1906
          ],
          [
           "Psycho",
           1959
          ],
          [
           "Patriot Games",
           1987
          ],
          [
           "Sleeping with the Enemy",
           1987
          ],
          [
           "Tales of the South Pacific",
           1947
          ],
          [
           "Shaft",
           1970
          ],
          [
           "The Island of Doctor Moreau",
           1896
          ],
          [
           "Oil!",
           1927
          ],
          [
           "Adams Fall",
           2000
          ],
          [
           "The Maltese Falcon",
           1930
          ],
          [
           "Jaws",
           1974
          ],
          [
           "Basil of Baker Street",
           1958
          ],
          [
           "Jaws",
           1974
          ],
          [
           "The Remains of the Day",
           1989
          ],
          [
           "Brideshead Revisited, The Sacred & Profane Memories of Captain Charles Ryder",
           1945
          ],
          [
           "First Blood",
           1972
          ],
          [
           "A Walk to Remember",
           1999
          ],
          [
           "Scarface",
           1929
          ],
          [
           "The Hunger Games Trilogy",
           2010
          ],
          [
           "The Dead Zone",
           1979
          ],
          [
           "The Rules of Attraction",
           1987
          ],
          [
           "To Sir, With Love",
           1959
          ],
          [
           "The English Patient",
           1992
          ],
          [
           "A Scanner Darkly",
           1977
          ],
          [
           "About Schmidt",
           1996
          ],
          [
           "The Assassination of Jesse James by the Coward Robert Ford",
           1983
          ],
          [
           "The Adventures of Pinocchio",
           1883
          ],
          [
           "The Magic Bed Knob; or, How to Become a Witch in Ten Easy Lessons",
           1945
          ],
          [
           "The Fellowship of the Ring",
           1953
          ],
          [
           "Bridge to Terabithia",
           1977
          ],
          [
           "The Hundred and One Dalmatians",
           1956
          ],
          [
           "The Chamber",
           1994
          ],
          [
           "Shoeless Joe",
           1982
          ],
          [
           "Winnie-the-Pooh",
           1928
          ],
          [
           "Man on Fire",
           1980
          ],
          [
           "The Princess Bride",
           1973
          ],
          [
           "La Planète des singes",
           1963
          ],
          [
           "Shaft",
           1970
          ],
          [
           "Winnie-the-Pooh",
           1928
          ],
          [
           "The Lord of the Rings",
           1955
          ],
          [
           "Absolute Power",
           1996
          ],
          [
           "The Time Machine",
           1895
          ],
          [
           "The Warriors",
           1965
          ],
          [
           "Rising Sun",
           1992
          ]
         ],
         "hovertemplate": "<b>Book Title:</b> %{customdata[0]}<br><b>Book Release Year:</b> %{customdata[1]}<br><b>Movie Release Year:</b> %{x}<br><b>Years to Movie Release:</b> %{y}<br>",
         "hovertext": [
          "Mary Poppins",
          "Straw Dogs",
          "The Forbidden Kingdom",
          "Beastmaster 2: Through the Portal of Time",
          "Shaft",
          "The Last Song",
          "For Love of the Game",
          "Queen of the Damned",
          "Laura",
          "The Last Picture Show",
          "Dr. Strangelove or: How I Learned to Stop Worrying and Love the Bomb",
          "Zorba the Greek",
          "Lolita",
          "Bee Season",
          "The Other Boleyn Girl",
          "L.A. Confidential",
          "Giant",
          "The Birth of a Nation",
          "Original Sin",
          "Cirque du Freak: The Vampire's Assistant",
          "Tarzan",
          "Pharaoh",
          "Battlefield Earth",
          "No Country for Old Men",
          "The Rescuers",
          "Altered States",
          "The Stepford Wives",
          "Death Wish",
          "Munich",
          "A Patch of Blue",
          "The Girl with the Dragon Tattoo",
          "The Wizard of Oz",
          "Gulliver's Travels",
          "Stir of Echoes",
          "The Secret Life of Bees",
          "Willy Wonka & the Chocolate Factory",
          "The Hustler",
          "The Iron Giant",
          "Catch-22",
          "In Country",
          "War Horse",
          "The Sisterhood of the Traveling Pants",
          "The Sand Pebbles",
          "The Time Traveler's Wife",
          "Howards End",
          "Valmont",
          "Fanaa",
          "The First Wives Club",
          "Jaws: The Revenge",
          "Airport '77",
          "Where the Wild Things Are",
          "Striptease",
          "Jackie Brown",
          "Dreamcatcher",
          "Harry Potter and the Half-Blood Prince",
          "Vanity Fair",
          "Don't Say a Word",
          "Casino Royale",
          "The Desperate Hours",
          "Johnny Handsome",
          "The Night of the Iguana",
          "The Bourne Supremacy",
          "Clockers",
          "Anna and the King",
          "The Lord of the Rings: The Two Towers",
          "Dying Young",
          "Gigi",
          "Airport",
          "The Hunchback of Notre Dame",
          "The Poseidon Adventure",
          "The Missing",
          "The American",
          "Force 10 from Navarone",
          "Freaky Friday",
          "Pinocchio",
          "The Name of the Rose",
          "The Nanny Diaries",
          "Anna Karenina",
          "Abbott and Costello Meet Frankenstein",
          "Harry Potter and the Goblet of Fire",
          "Payback",
          "Moonraker",
          "Glory",
          "The Invisible Woman",
          "Gentlemen Prefer Blondes",
          "I Am Legend",
          "American Psycho",
          "Journey to the Center of the Earth",
          "Message in a Bottle",
          "The Hot Rock",
          "To Catch a Thief",
          "Body Snatchers",
          "The Long Goodbye",
          "Dune",
          "The Firm",
          "Dances with Wolves",
          "The Chronicles of Narnia: The Voyage of the Dawn Treader",
          "Barry Lyndon",
          "Pirates of the Caribbean: On Stranger Tides",
          "Emma",
          "Fever Pitch",
          "Freedomland",
          "The Big Sleep",
          "Manhunter",
          "Invisible Agent",
          "War of the Worlds",
          "Rebecca",
          "Beloved",
          "Pooh's Heffalump Movie",
          "The Silence of the Lambs",
          "The NeverEnding Story II: The Next Chapter",
          "Enemy Mine",
          "The Adventures of Huck Finn",
          "Possession",
          "Cocoon",
          "Clear and Present Danger",
          "The Bourne Identity",
          "The Andromeda Strain",
          "The Reader",
          "Conquest of the Planet of the Apes",
          "Planet of the Apes",
          "The Joy Luck Club",
          "Trading Places",
          "Moby Dick",
          "The Cowboys",
          "The Boy in the Striped Pyjamas",
          "Three Days of the Condor",
          "The Rescuers Down Under",
          "Children of Men",
          "Harry Potter and the Order of the Phoenix",
          "The Ghost Writer",
          "Lolita",
          "Lifeforce",
          "Stardust",
          "Mississippi Mermaid",
          "Winnie the Pooh",
          "The Running Man",
          "Mercury Rising",
          "The Apple Dumpling Gang Rides Again",
          "Contempt",
          "Carlito's Way",
          "Paper Moon",
          "The Girl Who Played with Fire",
          "Valley of the Dolls",
          "Return to Never Land",
          "Psycho",
          "Tess",
          "The Beastmaster",
          "Babylon A.D.",
          "Shalako",
          "Pet Sematary",
          "Blue Fin",
          "Zardoz",
          "Dragon Seed",
          "Vampires",
          "The Wind in the Willows",
          "The Invasion",
          "The Blue Lagoon",
          "Marathon Man",
          "Bullitt",
          "102 Dalmatians",
          "Billy Bathgate",
          "The Girl with the Dragon Tattoo",
          "Air America",
          "Congo",
          "About a Boy",
          "Les Misérables",
          "The Bonfire of the Vanities",
          "Peter Pan",
          "Double Indemnity",
          "Oliver Twist",
          "Song of the South",
          "Rambo III",
          "A Farewell to Arms",
          "Sideways",
          "Around the World in 80 Days",
          "The Black Stallion",
          "Derailed",
          "The Exorcist",
          "First Blood",
          "Birdy",
          "Across to Singapore",
          "Ben-Hur",
          "The Da Vinci Code",
          "Duel in the Sun",
          "Wolfen",
          "Point Blank",
          "The Sea Beast",
          "20,000 Leagues Under the Sea",
          "Straw Dogs",
          "Water for Elephants",
          "The Jackal",
          "Great Expectations",
          "The African Queen",
          "I Am Number Four",
          "The Jungle Book 2",
          "The Bedroom Window",
          "The Agony and the Ecstasy",
          "In the Heat of the Night",
          "Black Rain",
          "Spartacus",
          "Schindler's List",
          "The Age of Innocence",
          "Die Hard",
          "The Adventures of Huckleberry Finn",
          "Tarzan and the Lost City",
          "The Pope of Greenwich Village",
          "The Ninth Gate",
          "The Time Machine",
          "Dark Passage",
          "Stuart Little",
          "Marnie",
          "Runaway Jury",
          "Black Knight",
          "The Curse of Frankenstein",
          "Bicentennial Man",
          "The Constant Gardener",
          "20,000 Leagues Under the Sea",
          "The Spy Who Loved Me",
          "Timeline",
          "The Postman",
          "Murphy's Romance",
          "Percy Jackson & the Olympians: The Lightning Thief",
          "The Drowning Pool",
          "Anthony Adverse",
          "Rise of the Planet of the Apes",
          "Return to the Blue Lagoon",
          "Limitless",
          "Exorcist: The Beginning",
          "The Exorcist III",
          "Blood Work",
          "Gettysburg",
          "The Guns of Navarone",
          "After Hours",
          "The Lincoln Lawyer",
          "Village of the Damned",
          "Escape from the Planet of the Apes",
          "The Talented Mr. Ripley",
          "Sorcerer",
          "The Shipping News",
          "Harry Potter and the Deathly Hallows – Part 2",
          "Chocolat",
          "Oliver!",
          "Flight of the Phoenix",
          "Live and Let Die",
          "Swiss Family Robinson",
          "The Color of Money",
          "Naked Lunch",
          "The Trouble with Harry",
          "Ice Station Zebra",
          "Psycho",
          "Treasure Planet",
          "The Molly Maguires",
          "The Phantom of the Opera",
          "The Witches of Eastwick",
          "Ride with the Devil",
          "Farewell to the King",
          "The Quiet American",
          "Mary Reilly",
          "Cry Wolf",
          "Fahrenheit 451",
          "Fight Club",
          "Love Story",
          "The Man in the Iron Mask",
          "Peter Pan",
          "From Here to Eternity",
          "The Deep",
          "Identity",
          "The Bourne Legacy",
          "Hannibal",
          "Random Hearts",
          "Twilight",
          "The Woman in Black",
          "The Cider House Rules",
          "The Sword in the Stone",
          "The NeverEnding Story",
          "Sex Drive",
          "Jaws 2",
          "Mother of Mine",
          "Jumanji",
          "The Hunt for Red October",
          "Fair Game",
          "The Nutty Professor",
          "Rambo: First Blood Part II",
          "Oliver & Company",
          "Cimarron",
          "Cross of Iron",
          "Frankenstein",
          "The Color Purple",
          "Pinocchio and the Emperor of the Night",
          "Young Frankenstein",
          "The King and I",
          "The Wiz",
          "The Bridge on the River Kwai",
          "Misery",
          "The Godfather",
          "The Road",
          "Ivanhoe",
          "The Getaway",
          "The Swarm",
          "Hook",
          "Gone with the Wind",
          "The Scarlet Letter",
          "Race to Witch Mountain",
          "Layer Cake",
          "The Client",
          "Dominion: Prequel to the Exorcist",
          "Battle for the Planet of the Apes",
          "Fear and Loathing in Las Vegas",
          "The 13th Warrior",
          "The Night of the Generals",
          "Frankenstein Unbound",
          "Fletch",
          "Matilda",
          "Dad",
          "A Good Year",
          "The Princess Diaries 2: Royal Engagement",
          "The Big Bounce",
          "The Caine Mutiny",
          "Bad Girl",
          "Casino Royale",
          "Who Framed Roger Rabbit",
          "Muppet Treasure Island",
          "The Bourne Ultimatum",
          "Election",
          "The House of the Spirits",
          "Revolutionary Road",
          "Big Trouble",
          "3:10 to Yuma",
          "Mildred Pierce",
          "Harry Potter and the Chamber of Secrets",
          "Harry Potter and the Prisoner of Azkaban",
          "Get Shorty",
          "Nutty Professor II: The Klumps",
          "Atonement",
          "Thunderball",
          "A Passage to India",
          "Logan's Run",
          "Mr. Hobbs Takes a Vacation",
          "The Natural",
          "The War of the Roses",
          "The Beach",
          "The Golden Bowl",
          "The Dirty Dozen",
          "Desperate Hours",
          "Rob Roy",
          "Alice Adams",
          "Firefox",
          "To Kill a Mockingbird",
          "Psycho II",
          "The Island",
          "Dangerous Liaisons",
          "A Place in the Sun",
          "James and the Giant Peach",
          "Return of the Living Dead 3",
          "Suspicion",
          "The Rainmaker",
          "The Killer Inside Me",
          "Solaris",
          "Flicka",
          "What Dreams May Come",
          "City of Ember",
          "The Black Hole",
          "Kiss of the Spider Woman",
          "The Shaggy Dog",
          "The Power of One",
          "Lost Horizon",
          "The Flim-Flam Man",
          "You Only Live Twice",
          "Being Julia",
          "Pride & Prejudice",
          "Rosemary's Baby",
          "One Flew Over the Cuckoo's Nest",
          "Cocoon: The Return",
          "The Robe",
          "The Outsiders",
          "The Human Stain",
          "The Lovely Bones",
          "Diamonds Are Forever",
          "The Spiderwick Chronicles",
          "Blade Runner",
          "An Awfully Big Adventure",
          "The World According to Garp",
          "Frenzy",
          "The Detective",
          "The Caveman's Valentine",
          "Never Say Never Again",
          "Bad Moon",
          "The Bridges of Madison County",
          "The Sisterhood of the Traveling Pants 2",
          "Something Wicked This Way Comes",
          "Van Helsing",
          "Amityville II: The Possession",
          "Beaches",
          "Father of the Bride",
          "Kandukondain Kandukondain",
          "Elmer Gantry",
          "The Watcher in the Woods",
          "Elegy",
          "A History of Violence",
          "Trainspotting",
          "Jurassic Park III",
          "The Shaggy Dog",
          "Contact",
          "Jude",
          "Murder on the Orient Express",
          "The Secret of NIMH",
          "Stuart Little 2",
          "Hud",
          "Exodus",
          "The Razor's Edge",
          "Cobra",
          "Nanny McPhee",
          "The Black Dahlia",
          "Starship Troopers",
          "The Hunchback of Notre Dame",
          "I Know What You Did Last Summer",
          "A Time to Kill",
          "All Quiet on the Western Front",
          "Little Caesar",
          "Return to Oz",
          "Angel Heart",
          "The Dreamers",
          "Friendly Persuasion",
          "The Grapes of Wrath",
          "The Notebook",
          "Exorcist II: The Heretic",
          "The Painted Veil",
          "Invasion of the Body Snatchers",
          "Quest for Camelot",
          "The Best Years of Our Lives",
          "Silver Bullet",
          "The Towering Inferno",
          "The Deep End of the Ocean",
          "Topaz",
          "Bringing Out the Dead",
          "The Postman Always Rings Twice",
          "The Man with the Golden Gun",
          "Divine Secrets of the Ya-Ya Sisterhood",
          "Village of the Damned",
          "Along Came a Spider",
          "The Fury",
          "Cold Mountain",
          "Nanny McPhee and the Big Bang",
          "Funny Farm",
          "All the King's Men",
          "Gods and Monsters",
          "Harper",
          "Strangers on a Train",
          "The Adventures of Mark Twain",
          "Fletch Lives",
          "Dr. No",
          "From Russia with Love",
          "Sahara",
          "Exit Wounds",
          "The Lost World: Jurassic Park",
          "The Manchurian Candidate",
          "Finding Neverland",
          "Beau Geste",
          "The Devil Wears Prada",
          "Where the Boys Are",
          "Hombre",
          "The Devil's Advocate",
          "Pinocchio",
          "The Clan of the Cave Bear",
          "The Door in the Floor",
          "The Egyptian",
          "The Lady from Shanghai",
          "Bridget Jones: The Edge of Reason",
          "Cruel Intentions",
          "The Golden Compass",
          "The Women of Brewster Place",
          "The Prince of Tides",
          "Let the Right One In",
          "December Boys",
          "Christine",
          "Journey 2: The Mysterious Island",
          "The Chronicles of Narnia: Prince Caspian",
          "Monte Carlo",
          "Freejack",
          "Jurassic Park",
          "The Manchurian Candidate",
          "Death Sentence",
          "The Polar Express",
          "The Haunting",
          "On Her Majesty's Secret Service",
          "Red Dragon",
          "The Count of Monte Cristo",
          "Diabolique",
          "The King and I",
          "The Jungle Book",
          "Sphere",
          "The Good German",
          "Journey to the Center of the Earth",
          "Mystic River",
          "John Carter",
          "The Shining",
          "Killer Elite",
          "Charlotte's Web",
          "The Fox and the Hound",
          "True Grit",
          "Dave",
          "The Amityville Horror",
          "Cool Hand Luke",
          "Disclosure",
          "The Help",
          "Anna Karenina",
          "Forrest Gump",
          "Presumed Innocent",
          "Watership Down",
          "The Last Detail",
          "Bridget Jones's Diary",
          "The Four Feathers",
          "The Hobbit: An Unexpected Journey",
          "The Hours",
          "Family Plot",
          "Bel Ami",
          "The Pleasure Seekers",
          "High Fidelity",
          "The End of the Affair",
          "A Clockwork Orange",
          "The League of Extraordinary Gentlemen",
          "The Great Gatsby",
          "The Fan",
          "No Way Out",
          "How Green Was My Valley",
          "The Treasure of the Sierra Madre",
          "Crouching Tiger, Hidden Dragon",
          "When Worlds Collide",
          "Anatomy of a Murder",
          "Willard",
          "Bright Lights, Big City",
          "Fantastic Mr. Fox",
          "Empire of the Sun",
          "A Simple Plan",
          "Cape Fear",
          "Cape Fear",
          "Young Adam",
          "Like Water for Chocolate",
          "The Great Gatsby",
          "Fried Green Tomatoes",
          "Alatriste",
          "Poseidon",
          "The Devils",
          "The Three Musketeers",
          "Clueless",
          "The Host",
          "Ordinary People",
          "American Splendor",
          "The Last of the Mohicans",
          "The Postman Always Rings Twice",
          "Vertigo",
          "Dear John",
          "The Deep End",
          "The Unbearable Lightness of Being",
          "Big Fish",
          "A Room with a View",
          "For Whom the Bell Tolls",
          "Flight of the Intruder",
          "Invasion of the Body Snatchers",
          "The Sum of All Fears",
          "Taps",
          "One Hundred and One Dalmatians",
          "The Musketeer",
          "Open Range",
          "Gods and Generals",
          "Harry Potter and the Philosopher's Stone",
          "City of God",
          "Sense and Sensibility",
          "Hawaii",
          "The Sea Hawk",
          "Woman Thou Art Loosed",
          "Black Sunday",
          "The Boys from Brazil",
          "Excalibur",
          "The Vikings",
          "The Hand",
          "Return of the Living Dead Part II",
          "Death on the Nile",
          "Planet of the Apes",
          "Out of Sight",
          "Terms of Endearment",
          "Charlie and the Chocolate Factory",
          "Maurice",
          "Shutter Island",
          "The Parent Trap",
          "The Three Musketeers",
          "Hellraiser",
          "The Fan",
          "King Solomon's Mines",
          "The Howling",
          "At Play in the Fields of the Lord",
          "The Black Cauldron",
          "The Chronicles of Narnia: The Lion, the Witch and the Wardrobe",
          "The Lucky One",
          "Evil Under the Sun",
          "Goldfinger",
          "Confessions of a Shopaholic",
          "Hart's War",
          "Battle Royale",
          "The Painted Veil",
          "The Green Mile",
          "Kiss the Girls",
          "The Pelican Brief",
          "Let Me In",
          "Be Cool",
          "Where Eagles Dare",
          "Desert Hearts",
          "Buck Rogers in the 25th Century",
          "Firestarter",
          "Eragon",
          "White Fang",
          "Psycho III",
          "Patriot Games",
          "Sleeping with the Enemy",
          "South Pacific",
          "Shaft",
          "The Island of Dr. Moreau",
          "There Will Be Blood",
          "Abandon",
          "The Maltese Falcon",
          "Jaws",
          "The Great Mouse Detective",
          "Jaws 3-D",
          "The Remains of the Day",
          "Brideshead Revisited",
          "Rambo",
          "A Walk to Remember",
          "Scarface",
          "The Hunger Games",
          "The Dead Zone",
          "The Rules of Attraction",
          "To Sir, with Love",
          "The English Patient",
          "A Scanner Darkly",
          "About Schmidt",
          "The Assassination of Jesse James by the Coward Robert Ford",
          "A.I. Artificial Intelligence",
          "Bedknobs and Broomsticks",
          "The Lord of the Rings: The Fellowship of the Ring",
          "Bridge to Terabithia",
          "101 Dalmatians",
          "The Chamber",
          "Field of Dreams",
          "Piglet's Big Movie",
          "Man on Fire",
          "The Princess Bride",
          "Beneath the Planet of the Apes",
          "Shaft in Africa",
          "The Tigger Movie",
          "The Lord of the Rings: The Return of the King",
          "Absolute Power",
          "The Time Machine",
          "The Warriors",
          "Rising Sun"
         ],
         "legendgroup": "",
         "marker": {
          "color": "#636efa",
          "symbol": "circle"
         },
         "mode": "markers",
         "name": "",
         "orientation": "v",
         "showlegend": false,
         "type": "scatter",
         "x": [
          1964,
          1971,
          2008,
          1991,
          1971,
          2010,
          1999,
          2002,
          1944,
          1971,
          1964,
          1964,
          1962,
          2005,
          2008,
          1997,
          1956,
          1915,
          2001,
          2009,
          1999,
          1966,
          2000,
          2007,
          1977,
          1980,
          2004,
          1974,
          2005,
          1965,
          2009,
          1939,
          2010,
          1999,
          2008,
          1971,
          1961,
          1999,
          1970,
          1989,
          2011,
          2005,
          1966,
          2009,
          1992,
          1989,
          2006,
          1996,
          1987,
          1977,
          2009,
          1996,
          1997,
          2003,
          2009,
          2004,
          2001,
          1967,
          1955,
          1989,
          1964,
          2004,
          1995,
          1999,
          2002,
          1991,
          1958,
          1970,
          1996,
          1972,
          2003,
          2010,
          1978,
          2003,
          1940,
          1986,
          2007,
          1935,
          1948,
          2005,
          1999,
          1979,
          1989,
          1940,
          1953,
          2007,
          2000,
          1959,
          1999,
          1972,
          1955,
          1993,
          1973,
          1984,
          1993,
          1990,
          2010,
          1975,
          2011,
          1996,
          2005,
          2006,
          1946,
          1986,
          1942,
          2005,
          1940,
          1998,
          2005,
          1991,
          1990,
          1985,
          1993,
          2002,
          1985,
          1994,
          2002,
          1971,
          2008,
          1972,
          1968,
          1993,
          1983,
          1956,
          1972,
          2008,
          1975,
          1990,
          2006,
          2007,
          2010,
          1997,
          1985,
          2007,
          1969,
          2011,
          1987,
          1998,
          1979,
          1963,
          1993,
          1973,
          2009,
          1967,
          2002,
          1998,
          1979,
          1982,
          2008,
          1968,
          1989,
          1978,
          1974,
          1944,
          1998,
          1996,
          2007,
          1980,
          1976,
          1968,
          2000,
          1991,
          2011,
          1990,
          1995,
          2002,
          2012,
          1990,
          1953,
          1944,
          2005,
          1946,
          1988,
          1957,
          2004,
          2004,
          1979,
          2005,
          1973,
          1982,
          1984,
          1928,
          1959,
          2006,
          1946,
          1981,
          1967,
          1926,
          1916,
          2011,
          2011,
          1997,
          1998,
          1951,
          2011,
          2003,
          1987,
          1965,
          1967,
          1989,
          1960,
          1993,
          1993,
          1988,
          1960,
          1998,
          1984,
          1999,
          1960,
          1947,
          1999,
          1964,
          2003,
          2001,
          1957,
          1999,
          2005,
          1954,
          1977,
          2003,
          1997,
          1985,
          2010,
          1975,
          1936,
          2011,
          1991,
          2011,
          2004,
          1990,
          2002,
          1993,
          1961,
          1985,
          2011,
          1960,
          1971,
          1999,
          1977,
          2001,
          2011,
          2000,
          1968,
          2004,
          1973,
          1960,
          1986,
          1991,
          1955,
          1968,
          1960,
          2002,
          1970,
          2004,
          1987,
          1999,
          1989,
          2002,
          1996,
          1947,
          1966,
          1999,
          1970,
          1998,
          2003,
          1953,
          1977,
          2003,
          2012,
          2001,
          1999,
          2008,
          2012,
          1999,
          1963,
          1984,
          2008,
          1978,
          2005,
          1995,
          1990,
          1995,
          1996,
          1985,
          1988,
          1931,
          1977,
          1931,
          1985,
          1987,
          1974,
          1956,
          1978,
          1957,
          1990,
          1972,
          2009,
          1952,
          1972,
          1978,
          1991,
          1939,
          1995,
          2009,
          2004,
          1994,
          2005,
          1973,
          1998,
          1999,
          1967,
          1990,
          1985,
          1996,
          1989,
          2006,
          2004,
          2004,
          1954,
          1931,
          2006,
          1988,
          1996,
          2007,
          1999,
          1993,
          2008,
          2002,
          2007,
          1945,
          2002,
          2004,
          1995,
          2000,
          2007,
          1965,
          1984,
          1976,
          1962,
          1984,
          1989,
          2000,
          2000,
          1967,
          1990,
          1995,
          1935,
          1982,
          1962,
          1983,
          1980,
          1988,
          1951,
          1996,
          1993,
          1941,
          1997,
          2010,
          2002,
          2006,
          1998,
          2008,
          1979,
          1985,
          1959,
          1992,
          1973,
          1967,
          1967,
          2004,
          2005,
          1968,
          1975,
          1988,
          1953,
          1983,
          2003,
          2009,
          1971,
          2008,
          1982,
          1995,
          1982,
          1972,
          1968,
          2001,
          1983,
          1996,
          1995,
          2008,
          1983,
          2004,
          1982,
          1988,
          1991,
          2000,
          1960,
          1980,
          2008,
          2005,
          1996,
          2001,
          2006,
          1997,
          1996,
          1974,
          1982,
          2002,
          1963,
          1960,
          1984,
          1986,
          2005,
          2006,
          1997,
          1939,
          1997,
          1996,
          1930,
          1931,
          1985,
          1987,
          2003,
          1956,
          1940,
          2004,
          1977,
          1934,
          1978,
          1998,
          1946,
          1985,
          1974,
          1999,
          1969,
          1999,
          1946,
          1974,
          2002,
          1995,
          2001,
          1978,
          2003,
          2010,
          1988,
          2006,
          1998,
          1966,
          1951,
          1944,
          1989,
          1962,
          1963,
          2005,
          2001,
          1997,
          1962,
          2004,
          1926,
          2006,
          1960,
          1967,
          1997,
          2002,
          1986,
          2004,
          1954,
          1947,
          2004,
          1999,
          2007,
          1989,
          1991,
          2008,
          2007,
          1983,
          2012,
          2008,
          2011,
          1992,
          1993,
          2004,
          2007,
          2004,
          1999,
          1969,
          2002,
          2002,
          1996,
          1999,
          1967,
          1998,
          2006,
          2008,
          2003,
          2012,
          1980,
          2011,
          2006,
          1981,
          2010,
          1993,
          2005,
          1967,
          1994,
          2011,
          1997,
          1994,
          1990,
          1978,
          1973,
          2001,
          2002,
          2012,
          2002,
          1976,
          2012,
          1964,
          2000,
          1999,
          1971,
          2003,
          2013,
          1981,
          1987,
          1941,
          1948,
          2000,
          1951,
          1959,
          2003,
          1988,
          2009,
          1987,
          1998,
          1991,
          1962,
          2003,
          1992,
          1974,
          1991,
          2006,
          2006,
          1971,
          2011,
          1995,
          2013,
          1980,
          2003,
          1992,
          1981,
          1958,
          2010,
          2001,
          1988,
          2003,
          1985,
          1943,
          1991,
          1956,
          2002,
          1981,
          1961,
          2001,
          2003,
          2003,
          2001,
          2002,
          1995,
          1966,
          1940,
          2004,
          1977,
          1978,
          1981,
          1958,
          1981,
          1988,
          1978,
          2001,
          1998,
          1983,
          2005,
          1987,
          2010,
          1998,
          1993,
          1987,
          1996,
          1985,
          1981,
          1991,
          1985,
          2005,
          2012,
          1982,
          1964,
          2009,
          2002,
          2000,
          2006,
          1999,
          1997,
          1993,
          2010,
          2005,
          1968,
          1985,
          1979,
          1984,
          2006,
          1991,
          1986,
          1992,
          1991,
          1958,
          2000,
          1996,
          2007,
          2002,
          1941,
          1975,
          1986,
          1983,
          1993,
          2008,
          2008,
          2002,
          1983,
          2012,
          1983,
          2002,
          1967,
          1996,
          2006,
          2002,
          2007,
          2001,
          1971,
          2001,
          2007,
          1996,
          1996,
          1989,
          2003,
          2004,
          1987,
          1970,
          1973,
          2000,
          2003,
          1997,
          2002,
          1979,
          1993
         ],
         "xaxis": "x",
         "y": [
          30,
          2,
          418,
          32,
          1,
          1,
          8,
          14,
          2,
          5,
          6,
          18,
          7,
          5,
          7,
          7,
          4,
          8,
          54,
          9,
          4,
          71,
          18,
          2,
          15,
          2,
          32,
          2,
          21,
          4,
          2,
          39,
          284,
          41,
          6,
          7,
          2,
          31,
          9,
          4,
          29,
          4,
          4,
          6,
          82,
          207,
          28,
          4,
          13,
          9,
          46,
          3,
          5,
          2,
          4,
          157,
          10,
          14,
          1,
          16,
          -3,
          0,
          3,
          55,
          47,
          1,
          14,
          2,
          165,
          0,
          7,
          20,
          10,
          31,
          57,
          6,
          5,
          62,
          130,
          5,
          37,
          24,
          16,
          43,
          28,
          53,
          9,
          95,
          1,
          2,
          3,
          38,
          20,
          19,
          2,
          4,
          55,
          131,
          24,
          181,
          13,
          8,
          7,
          5,
          45,
          107,
          2,
          11,
          77,
          3,
          11,
          6,
          109,
          12,
          0,
          5,
          -2,
          2,
          13,
          9,
          5,
          4,
          102,
          105,
          1,
          2,
          1,
          28,
          14,
          4,
          3,
          42,
          9,
          8,
          22,
          83,
          5,
          2,
          8,
          9,
          14,
          2,
          2,
          1,
          91,
          39,
          88,
          23,
          9,
          6,
          6,
          9,
          74,
          2,
          8,
          88,
          52,
          72,
          2,
          5,
          44,
          2,
          4,
          5,
          15,
          4,
          150,
          3,
          42,
          8,
          168,
          65,
          16,
          28,
          0,
          131,
          -10,
          2,
          2,
          10,
          6,
          9,
          79,
          3,
          5,
          3,
          5,
          75,
          42,
          42,
          5,
          26,
          138,
          16,
          1,
          108,
          16,
          4,
          2,
          23,
          9,
          11,
          72,
          9,
          76,
          3,
          5,
          6,
          65,
          1,
          54,
          3,
          7,
          112,
          139,
          6,
          4,
          84,
          15,
          4,
          12,
          5,
          4,
          25,
          3,
          48,
          68,
          10,
          33,
          19,
          4,
          -3,
          4,
          60,
          6,
          3,
          8,
          44,
          27,
          8,
          4,
          1,
          131,
          40,
          19,
          148,
          2,
          32,
          5,
          5,
          1,
          119,
          1,
          95,
          3,
          12,
          20,
          47,
          110,
          2,
          13,
          3,
          -7,
          151,
          92,
          2,
          1,
          64,
          8,
          2,
          15,
          0,
          29,
          14,
          25,
          5,
          7,
          4,
          6,
          14,
          6,
          21,
          110,
          13,
          151,
          2,
          22,
          113,
          3,
          104,
          156,
          12,
          78,
          5,
          3,
          3,
          3,
          132,
          13,
          4,
          80,
          3,
          145,
          41,
          4,
          1,
          34,
          10,
          27,
          23,
          4,
          172,
          11,
          8,
          8,
          2,
          4,
          38,
          2,
          3,
          53,
          7,
          113,
          3,
          1,
          11,
          47,
          3,
          54,
          4,
          4,
          5,
          5,
          114,
          6,
          4,
          60,
          9,
          8,
          32,
          8,
          4,
          96,
          2,
          36,
          78,
          14,
          5,
          2,
          24,
          1,
          206,
          26,
          35,
          16,
          9,
          2,
          58,
          41,
          65,
          20,
          5,
          109,
          9,
          36,
          3,
          40,
          2,
          3,
          67,
          192,
          1,
          13,
          3,
          11,
          16,
          3,
          7,
          15,
          5,
          15,
          6,
          4,
          3,
          2,
          7,
          22,
          3,
          3,
          7,
          21,
          186,
          3,
          3,
          42,
          189,
          33,
          4,
          7,
          8,
          3,
          11,
          83,
          12,
          101,
          40,
          11,
          57,
          2,
          2,
          40,
          12,
          41,
          19,
          38,
          108,
          24,
          7,
          1,
          2,
          85,
          9,
          15,
          1,
          1,
          8,
          6,
          9,
          23,
          22,
          1,
          2,
          0,
          3,
          2,
          1,
          12,
          9,
          6,
          38,
          8,
          2,
          6,
          46,
          3,
          60,
          3,
          17,
          1,
          68,
          15,
          4,
          6,
          13,
          11,
          7,
          3,
          93,
          2,
          3,
          0,
          6,
          7,
          119,
          6,
          6,
          9,
          9,
          5,
          217,
          12,
          7,
          5,
          4,
          44,
          0,
          138,
          53,
          10,
          33,
          3,
          45,
          32,
          19,
          40,
          6,
          21,
          158,
          42,
          55,
          72,
          11,
          5,
          94,
          2,
          95,
          3,
          20,
          54,
          14,
          42,
          112,
          28,
          2,
          0,
          2,
          124,
          8,
          3,
          6,
          3,
          2,
          100,
          75,
          4,
          4,
          127,
          12,
          5,
          48,
          9,
          118,
          88,
          3,
          41,
          2,
          21,
          58,
          19,
          1,
          34,
          4,
          39,
          3,
          5,
          34,
          5,
          46,
          3,
          49,
          4,
          10,
          34,
          2,
          167,
          180,
          5,
          4,
          27,
          166,
          47,
          2,
          4,
          54,
          4,
          5,
          77,
          3,
          5,
          1,
          11,
          2,
          5,
          157,
          13,
          7,
          4,
          5,
          184,
          7,
          25,
          11,
          6,
          2,
          496,
          7,
          2,
          11,
          41,
          38,
          2,
          8,
          41,
          16,
          7,
          49,
          149,
          1,
          1,
          100,
          4,
          26,
          20,
          50,
          4,
          1,
          5,
          6,
          3,
          1,
          81,
          3,
          2,
          1,
          6,
          6,
          1,
          21,
          50,
          4,
          3,
          85,
          27,
          5,
          4,
          11,
          30,
          100,
          80,
          2,
          11,
          1,
          28,
          9,
          4,
          63,
          36,
          3,
          54,
          2,
          4,
          15,
          8,
          4,
          29,
          6,
          24,
          118,
          26,
          48,
          30,
          40,
          2,
          7,
          75,
          24,
          14,
          7,
          3,
          72,
          48,
          1,
          107,
          14,
          1
         ],
         "yaxis": "y"
        }
       ],
       "layout": {
        "height": 400,
        "legend": {
         "tracegroupgap": 0
        },
        "template": {
         "data": {
          "bar": [
           {
            "error_x": {
             "color": "#2a3f5f"
            },
            "error_y": {
             "color": "#2a3f5f"
            },
            "marker": {
             "line": {
              "color": "white",
              "width": 0.5
             },
             "pattern": {
              "fillmode": "overlay",
              "size": 10,
              "solidity": 0.2
             }
            },
            "type": "bar"
           }
          ],
          "barpolar": [
           {
            "marker": {
             "line": {
              "color": "white",
              "width": 0.5
             },
             "pattern": {
              "fillmode": "overlay",
              "size": 10,
              "solidity": 0.2
             }
            },
            "type": "barpolar"
           }
          ],
          "carpet": [
           {
            "aaxis": {
             "endlinecolor": "#2a3f5f",
             "gridcolor": "#C8D4E3",
             "linecolor": "#C8D4E3",
             "minorgridcolor": "#C8D4E3",
             "startlinecolor": "#2a3f5f"
            },
            "baxis": {
             "endlinecolor": "#2a3f5f",
             "gridcolor": "#C8D4E3",
             "linecolor": "#C8D4E3",
             "minorgridcolor": "#C8D4E3",
             "startlinecolor": "#2a3f5f"
            },
            "type": "carpet"
           }
          ],
          "choropleth": [
           {
            "colorbar": {
             "outlinewidth": 0,
             "ticks": ""
            },
            "type": "choropleth"
           }
          ],
          "contour": [
           {
            "colorbar": {
             "outlinewidth": 0,
             "ticks": ""
            },
            "colorscale": [
             [
              0,
              "#0d0887"
             ],
             [
              0.1111111111111111,
              "#46039f"
             ],
             [
              0.2222222222222222,
              "#7201a8"
             ],
             [
              0.3333333333333333,
              "#9c179e"
             ],
             [
              0.4444444444444444,
              "#bd3786"
             ],
             [
              0.5555555555555556,
              "#d8576b"
             ],
             [
              0.6666666666666666,
              "#ed7953"
             ],
             [
              0.7777777777777778,
              "#fb9f3a"
             ],
             [
              0.8888888888888888,
              "#fdca26"
             ],
             [
              1,
              "#f0f921"
             ]
            ],
            "type": "contour"
           }
          ],
          "contourcarpet": [
           {
            "colorbar": {
             "outlinewidth": 0,
             "ticks": ""
            },
            "type": "contourcarpet"
           }
          ],
          "heatmap": [
           {
            "colorbar": {
             "outlinewidth": 0,
             "ticks": ""
            },
            "colorscale": [
             [
              0,
              "#0d0887"
             ],
             [
              0.1111111111111111,
              "#46039f"
             ],
             [
              0.2222222222222222,
              "#7201a8"
             ],
             [
              0.3333333333333333,
              "#9c179e"
             ],
             [
              0.4444444444444444,
              "#bd3786"
             ],
             [
              0.5555555555555556,
              "#d8576b"
             ],
             [
              0.6666666666666666,
              "#ed7953"
             ],
             [
              0.7777777777777778,
              "#fb9f3a"
             ],
             [
              0.8888888888888888,
              "#fdca26"
             ],
             [
              1,
              "#f0f921"
             ]
            ],
            "type": "heatmap"
           }
          ],
          "heatmapgl": [
           {
            "colorbar": {
             "outlinewidth": 0,
             "ticks": ""
            },
            "colorscale": [
             [
              0,
              "#0d0887"
             ],
             [
              0.1111111111111111,
              "#46039f"
             ],
             [
              0.2222222222222222,
              "#7201a8"
             ],
             [
              0.3333333333333333,
              "#9c179e"
             ],
             [
              0.4444444444444444,
              "#bd3786"
             ],
             [
              0.5555555555555556,
              "#d8576b"
             ],
             [
              0.6666666666666666,
              "#ed7953"
             ],
             [
              0.7777777777777778,
              "#fb9f3a"
             ],
             [
              0.8888888888888888,
              "#fdca26"
             ],
             [
              1,
              "#f0f921"
             ]
            ],
            "type": "heatmapgl"
           }
          ],
          "histogram": [
           {
            "marker": {
             "pattern": {
              "fillmode": "overlay",
              "size": 10,
              "solidity": 0.2
             }
            },
            "type": "histogram"
           }
          ],
          "histogram2d": [
           {
            "colorbar": {
             "outlinewidth": 0,
             "ticks": ""
            },
            "colorscale": [
             [
              0,
              "#0d0887"
             ],
             [
              0.1111111111111111,
              "#46039f"
             ],
             [
              0.2222222222222222,
              "#7201a8"
             ],
             [
              0.3333333333333333,
              "#9c179e"
             ],
             [
              0.4444444444444444,
              "#bd3786"
             ],
             [
              0.5555555555555556,
              "#d8576b"
             ],
             [
              0.6666666666666666,
              "#ed7953"
             ],
             [
              0.7777777777777778,
              "#fb9f3a"
             ],
             [
              0.8888888888888888,
              "#fdca26"
             ],
             [
              1,
              "#f0f921"
             ]
            ],
            "type": "histogram2d"
           }
          ],
          "histogram2dcontour": [
           {
            "colorbar": {
             "outlinewidth": 0,
             "ticks": ""
            },
            "colorscale": [
             [
              0,
              "#0d0887"
             ],
             [
              0.1111111111111111,
              "#46039f"
             ],
             [
              0.2222222222222222,
              "#7201a8"
             ],
             [
              0.3333333333333333,
              "#9c179e"
             ],
             [
              0.4444444444444444,
              "#bd3786"
             ],
             [
              0.5555555555555556,
              "#d8576b"
             ],
             [
              0.6666666666666666,
              "#ed7953"
             ],
             [
              0.7777777777777778,
              "#fb9f3a"
             ],
             [
              0.8888888888888888,
              "#fdca26"
             ],
             [
              1,
              "#f0f921"
             ]
            ],
            "type": "histogram2dcontour"
           }
          ],
          "mesh3d": [
           {
            "colorbar": {
             "outlinewidth": 0,
             "ticks": ""
            },
            "type": "mesh3d"
           }
          ],
          "parcoords": [
           {
            "line": {
             "colorbar": {
              "outlinewidth": 0,
              "ticks": ""
             }
            },
            "type": "parcoords"
           }
          ],
          "pie": [
           {
            "automargin": true,
            "type": "pie"
           }
          ],
          "scatter": [
           {
            "fillpattern": {
             "fillmode": "overlay",
             "size": 10,
             "solidity": 0.2
            },
            "type": "scatter"
           }
          ],
          "scatter3d": [
           {
            "line": {
             "colorbar": {
              "outlinewidth": 0,
              "ticks": ""
             }
            },
            "marker": {
             "colorbar": {
              "outlinewidth": 0,
              "ticks": ""
             }
            },
            "type": "scatter3d"
           }
          ],
          "scattercarpet": [
           {
            "marker": {
             "colorbar": {
              "outlinewidth": 0,
              "ticks": ""
             }
            },
            "type": "scattercarpet"
           }
          ],
          "scattergeo": [
           {
            "marker": {
             "colorbar": {
              "outlinewidth": 0,
              "ticks": ""
             }
            },
            "type": "scattergeo"
           }
          ],
          "scattergl": [
           {
            "marker": {
             "colorbar": {
              "outlinewidth": 0,
              "ticks": ""
             }
            },
            "type": "scattergl"
           }
          ],
          "scattermapbox": [
           {
            "marker": {
             "colorbar": {
              "outlinewidth": 0,
              "ticks": ""
             }
            },
            "type": "scattermapbox"
           }
          ],
          "scatterpolar": [
           {
            "marker": {
             "colorbar": {
              "outlinewidth": 0,
              "ticks": ""
             }
            },
            "type": "scatterpolar"
           }
          ],
          "scatterpolargl": [
           {
            "marker": {
             "colorbar": {
              "outlinewidth": 0,
              "ticks": ""
             }
            },
            "type": "scatterpolargl"
           }
          ],
          "scatterternary": [
           {
            "marker": {
             "colorbar": {
              "outlinewidth": 0,
              "ticks": ""
             }
            },
            "type": "scatterternary"
           }
          ],
          "surface": [
           {
            "colorbar": {
             "outlinewidth": 0,
             "ticks": ""
            },
            "colorscale": [
             [
              0,
              "#0d0887"
             ],
             [
              0.1111111111111111,
              "#46039f"
             ],
             [
              0.2222222222222222,
              "#7201a8"
             ],
             [
              0.3333333333333333,
              "#9c179e"
             ],
             [
              0.4444444444444444,
              "#bd3786"
             ],
             [
              0.5555555555555556,
              "#d8576b"
             ],
             [
              0.6666666666666666,
              "#ed7953"
             ],
             [
              0.7777777777777778,
              "#fb9f3a"
             ],
             [
              0.8888888888888888,
              "#fdca26"
             ],
             [
              1,
              "#f0f921"
             ]
            ],
            "type": "surface"
           }
          ],
          "table": [
           {
            "cells": {
             "fill": {
              "color": "#EBF0F8"
             },
             "line": {
              "color": "white"
             }
            },
            "header": {
             "fill": {
              "color": "#C8D4E3"
             },
             "line": {
              "color": "white"
             }
            },
            "type": "table"
           }
          ]
         },
         "layout": {
          "annotationdefaults": {
           "arrowcolor": "#2a3f5f",
           "arrowhead": 0,
           "arrowwidth": 1
          },
          "autotypenumbers": "strict",
          "coloraxis": {
           "colorbar": {
            "outlinewidth": 0,
            "ticks": ""
           }
          },
          "colorscale": {
           "diverging": [
            [
             0,
             "#8e0152"
            ],
            [
             0.1,
             "#c51b7d"
            ],
            [
             0.2,
             "#de77ae"
            ],
            [
             0.3,
             "#f1b6da"
            ],
            [
             0.4,
             "#fde0ef"
            ],
            [
             0.5,
             "#f7f7f7"
            ],
            [
             0.6,
             "#e6f5d0"
            ],
            [
             0.7,
             "#b8e186"
            ],
            [
             0.8,
             "#7fbc41"
            ],
            [
             0.9,
             "#4d9221"
            ],
            [
             1,
             "#276419"
            ]
           ],
           "sequential": [
            [
             0,
             "#0d0887"
            ],
            [
             0.1111111111111111,
             "#46039f"
            ],
            [
             0.2222222222222222,
             "#7201a8"
            ],
            [
             0.3333333333333333,
             "#9c179e"
            ],
            [
             0.4444444444444444,
             "#bd3786"
            ],
            [
             0.5555555555555556,
             "#d8576b"
            ],
            [
             0.6666666666666666,
             "#ed7953"
            ],
            [
             0.7777777777777778,
             "#fb9f3a"
            ],
            [
             0.8888888888888888,
             "#fdca26"
            ],
            [
             1,
             "#f0f921"
            ]
           ],
           "sequentialminus": [
            [
             0,
             "#0d0887"
            ],
            [
             0.1111111111111111,
             "#46039f"
            ],
            [
             0.2222222222222222,
             "#7201a8"
            ],
            [
             0.3333333333333333,
             "#9c179e"
            ],
            [
             0.4444444444444444,
             "#bd3786"
            ],
            [
             0.5555555555555556,
             "#d8576b"
            ],
            [
             0.6666666666666666,
             "#ed7953"
            ],
            [
             0.7777777777777778,
             "#fb9f3a"
            ],
            [
             0.8888888888888888,
             "#fdca26"
            ],
            [
             1,
             "#f0f921"
            ]
           ]
          },
          "colorway": [
           "#636efa",
           "#EF553B",
           "#00cc96",
           "#ab63fa",
           "#FFA15A",
           "#19d3f3",
           "#FF6692",
           "#B6E880",
           "#FF97FF",
           "#FECB52"
          ],
          "font": {
           "color": "#2a3f5f"
          },
          "geo": {
           "bgcolor": "white",
           "lakecolor": "white",
           "landcolor": "white",
           "showlakes": true,
           "showland": true,
           "subunitcolor": "#C8D4E3"
          },
          "hoverlabel": {
           "align": "left"
          },
          "hovermode": "closest",
          "mapbox": {
           "style": "light"
          },
          "paper_bgcolor": "white",
          "plot_bgcolor": "white",
          "polar": {
           "angularaxis": {
            "gridcolor": "#EBF0F8",
            "linecolor": "#EBF0F8",
            "ticks": ""
           },
           "bgcolor": "white",
           "radialaxis": {
            "gridcolor": "#EBF0F8",
            "linecolor": "#EBF0F8",
            "ticks": ""
           }
          },
          "scene": {
           "xaxis": {
            "backgroundcolor": "white",
            "gridcolor": "#DFE8F3",
            "gridwidth": 2,
            "linecolor": "#EBF0F8",
            "showbackground": true,
            "ticks": "",
            "zerolinecolor": "#EBF0F8"
           },
           "yaxis": {
            "backgroundcolor": "white",
            "gridcolor": "#DFE8F3",
            "gridwidth": 2,
            "linecolor": "#EBF0F8",
            "showbackground": true,
            "ticks": "",
            "zerolinecolor": "#EBF0F8"
           },
           "zaxis": {
            "backgroundcolor": "white",
            "gridcolor": "#DFE8F3",
            "gridwidth": 2,
            "linecolor": "#EBF0F8",
            "showbackground": true,
            "ticks": "",
            "zerolinecolor": "#EBF0F8"
           }
          },
          "shapedefaults": {
           "line": {
            "color": "#2a3f5f"
           }
          },
          "ternary": {
           "aaxis": {
            "gridcolor": "#DFE8F3",
            "linecolor": "#A2B1C6",
            "ticks": ""
           },
           "baxis": {
            "gridcolor": "#DFE8F3",
            "linecolor": "#A2B1C6",
            "ticks": ""
           },
           "bgcolor": "white",
           "caxis": {
            "gridcolor": "#DFE8F3",
            "linecolor": "#A2B1C6",
            "ticks": ""
           }
          },
          "title": {
           "x": 0.05
          },
          "xaxis": {
           "automargin": true,
           "gridcolor": "#EBF0F8",
           "linecolor": "#EBF0F8",
           "ticks": "",
           "title": {
            "standoff": 15
           },
           "zerolinecolor": "#EBF0F8",
           "zerolinewidth": 2
          },
          "yaxis": {
           "automargin": true,
           "gridcolor": "#EBF0F8",
           "linecolor": "#EBF0F8",
           "ticks": "",
           "title": {
            "standoff": 15
           },
           "zerolinecolor": "#EBF0F8",
           "zerolinewidth": 2
          }
         }
        },
        "title": {
         "text": "Revenue vs. Book Ratings"
        },
        "width": 1200,
        "xaxis": {
         "anchor": "y",
         "domain": [
          0,
          1
         ],
         "title": {
          "text": "movie_year"
         },
         "type": "linear"
        },
        "yaxis": {
         "anchor": "x",
         "domain": [
          0,
          1
         ],
         "title": {
          "text": "Years to Movie Release"
         }
        }
       }
      }
     },
     "metadata": {},
     "output_type": "display_data"
    }
   ],
   "source": [
    "year_book_movie = data.dropna(subset=['BookYear', 'movie_year'])\n",
    "year_book_movie = year_book_movie[year_book_movie['BookYear']!=0]\n",
    "year_book_movie['years_to_movie'] = year_book_movie['movie_year'] - year_book_movie['BookYear']\n",
    "\n",
    "\n",
    "labels={'BookYear': 'Book Release Year', 'years_to_movie': 'Years to Movie Release'}\n",
    "hover_data={'BookTitle': True, 'BookYear': True, 'movie_year': True, 'years_to_movie': True}\n",
    "gu.px_scatter_plot(year_book_movie,'movie_year','years_to_movie','movie_name', 'Revenue vs. Book Ratings', labels, height=400, width=1200, update_traces=True, hover_data=hover_data)\n",
    "\n"
   ]
  },
  {
   "cell_type": "markdown",
   "metadata": {},
   "source": [
    "There seems to be something weird going on for the Tarzan movies... After some quick research, we found out that while in 1995 the last written work for a Tarzan novel was found, the original books were released much sooner. "
   ]
  },
  {
   "cell_type": "markdown",
   "metadata": {},
   "source": [
    "### Summary Similarity Distribution"
   ]
  },
  {
   "cell_type": "code",
   "execution_count": 53,
   "metadata": {},
   "outputs": [
    {
     "data": {
      "text/html": [
       "<div>\n",
       "<style scoped>\n",
       "    .dataframe tbody tr th:only-of-type {\n",
       "        vertical-align: middle;\n",
       "    }\n",
       "\n",
       "    .dataframe tbody tr th {\n",
       "        vertical-align: top;\n",
       "    }\n",
       "\n",
       "    .dataframe thead th {\n",
       "        text-align: right;\n",
       "    }\n",
       "</style>\n",
       "<table border=\"1\" class=\"dataframe\">\n",
       "  <thead>\n",
       "    <tr style=\"text-align: right;\">\n",
       "      <th></th>\n",
       "      <th>movie_id</th>\n",
       "      <th>book_title</th>\n",
       "      <th>movie_name</th>\n",
       "      <th>book_summary</th>\n",
       "      <th>film_summary</th>\n",
       "      <th>similarity</th>\n",
       "      <th>film_sentiment</th>\n",
       "      <th>film_sentiment_score</th>\n",
       "      <th>book_sentiment</th>\n",
       "      <th>book_sentiment_score</th>\n",
       "    </tr>\n",
       "  </thead>\n",
       "  <tbody>\n",
       "    <tr>\n",
       "      <th>0</th>\n",
       "      <td>196176</td>\n",
       "      <td>The Siege of Trencher's Farm</td>\n",
       "      <td>Straw Dogs</td>\n",
       "      <td>George Magruder, an American professor of Eng...</td>\n",
       "      <td>David Sumner , a timid American mathematician,...</td>\n",
       "      <td>0.451876</td>\n",
       "      <td>positive</td>\n",
       "      <td>0.333608</td>\n",
       "      <td>positive</td>\n",
       "      <td>0.994480</td>\n",
       "    </tr>\n",
       "    <tr>\n",
       "      <th>1</th>\n",
       "      <td>6703617</td>\n",
       "      <td>Journey to the West</td>\n",
       "      <td>The Forbidden Kingdom</td>\n",
       "      <td>The novel has 100 chapters. These can be divi...</td>\n",
       "      <td>In this film, which is based loosely on the an...</td>\n",
       "      <td>0.559594</td>\n",
       "      <td>positive</td>\n",
       "      <td>0.995482</td>\n",
       "      <td>positive</td>\n",
       "      <td>0.995404</td>\n",
       "    </tr>\n",
       "    <tr>\n",
       "      <th>2</th>\n",
       "      <td>24416479</td>\n",
       "      <td>The Beast Master</td>\n",
       "      <td>Beastmaster 2: Through the Portal of Time</td>\n",
       "      <td>It tells the story of Hosteen Storm, an ex-so...</td>\n",
       "      <td>Dar, the Beastmaster , is back and now he has ...</td>\n",
       "      <td>0.344548</td>\n",
       "      <td>positive</td>\n",
       "      <td>0.997562</td>\n",
       "      <td>positive</td>\n",
       "      <td>0.998812</td>\n",
       "    </tr>\n",
       "    <tr>\n",
       "      <th>3</th>\n",
       "      <td>9384481</td>\n",
       "      <td>The Blessing</td>\n",
       "      <td>Count Your Blessings</td>\n",
       "      <td>It is set in the post-war World War II period...</td>\n",
       "      <td>While visiting Grace Allingham in wartime Lond...</td>\n",
       "      <td>0.669707</td>\n",
       "      <td>positive</td>\n",
       "      <td>0.996070</td>\n",
       "      <td>positive</td>\n",
       "      <td>0.996607</td>\n",
       "    </tr>\n",
       "    <tr>\n",
       "      <th>4</th>\n",
       "      <td>22224559</td>\n",
       "      <td>The Last Song</td>\n",
       "      <td>The Last Song</td>\n",
       "      <td>Veronica “Ronnie” Miller’s life was turned up...</td>\n",
       "      <td>At seventeen, Veronica \"Ronnie\" Miller  remain...</td>\n",
       "      <td>0.852735</td>\n",
       "      <td>positive</td>\n",
       "      <td>0.978184</td>\n",
       "      <td>positive</td>\n",
       "      <td>0.998164</td>\n",
       "    </tr>\n",
       "  </tbody>\n",
       "</table>\n",
       "</div>"
      ],
      "text/plain": [
       "   movie_id                    book_title  \\\n",
       "0    196176  The Siege of Trencher's Farm   \n",
       "1   6703617           Journey to the West   \n",
       "2  24416479              The Beast Master   \n",
       "3   9384481                  The Blessing   \n",
       "4  22224559                 The Last Song   \n",
       "\n",
       "                                  movie_name  \\\n",
       "0                                 Straw Dogs   \n",
       "1                      The Forbidden Kingdom   \n",
       "2  Beastmaster 2: Through the Portal of Time   \n",
       "3                       Count Your Blessings   \n",
       "4                              The Last Song   \n",
       "\n",
       "                                        book_summary  \\\n",
       "0   George Magruder, an American professor of Eng...   \n",
       "1   The novel has 100 chapters. These can be divi...   \n",
       "2   It tells the story of Hosteen Storm, an ex-so...   \n",
       "3   It is set in the post-war World War II period...   \n",
       "4   Veronica “Ronnie” Miller’s life was turned up...   \n",
       "\n",
       "                                        film_summary  similarity  \\\n",
       "0  David Sumner , a timid American mathematician,...    0.451876   \n",
       "1  In this film, which is based loosely on the an...    0.559594   \n",
       "2  Dar, the Beastmaster , is back and now he has ...    0.344548   \n",
       "3  While visiting Grace Allingham in wartime Lond...    0.669707   \n",
       "4  At seventeen, Veronica \"Ronnie\" Miller  remain...    0.852735   \n",
       "\n",
       "  film_sentiment  film_sentiment_score book_sentiment  book_sentiment_score  \n",
       "0       positive              0.333608       positive              0.994480  \n",
       "1       positive              0.995482       positive              0.995404  \n",
       "2       positive              0.997562       positive              0.998812  \n",
       "3       positive              0.996070       positive              0.996607  \n",
       "4       positive              0.978184       positive              0.998164  "
      ]
     },
     "metadata": {},
     "output_type": "display_data"
    },
    {
     "data": {
      "image/png": "[encoded data removed]",
      "text/plain": [
       "<Figure size 500x300 with 1 Axes>"
      ]
     },
     "metadata": {},
     "output_type": "display_data"
    }
   ],
   "source": [
    "nlp_df = load_dataset(\"ada-datadruids/bookfilm_summaries_with_similarity_and_sentiment\")['train'].to_pandas()\n",
    "display(nlp_df.head(5))\n",
    "plt.figure(figsize=(5, 3))\n",
    "sns.histplot(nlp_df['similarity'], bins=50, kde=True)\n",
    "plt.title('Distribution of Book-Movie-Pair Summary Similarity')\n",
    "plt.xlabel('Cosine Similarity of Summary Embedding')\n",
    "plt.ylabel('Frequency')\n",
    "plt.show()\n"
   ]
  },
  {
   "cell_type": "markdown",
   "metadata": {},
   "source": [
    "The summary similarity between books and movies is quite high. There are however also quite a few summaries where the movie and book seem to differ a lot. Which of these movie-book pairs performed better or worse have not yet been analysed, but there will surely be some interesting conclusions to make."
   ]
  },
  {
   "cell_type": "markdown",
   "metadata": {},
   "source": [
    "### Sentiment Analysis"
   ]
  },
  {
   "cell_type": "code",
   "execution_count": 54,
   "metadata": {},
   "outputs": [
    {
     "data": {
      "image/png": "[encoded data removed]",
      "text/plain": [
       "<Figure size 640x480 with 1 Axes>"
      ]
     },
     "metadata": {},
     "output_type": "display_data"
    }
   ],
   "source": [
    "sns.scatterplot(x=nlp_df['book_sentiment_score'], y=nlp_df['film_sentiment_score'])\n",
    "\n",
    "plt.xlabel('Book Sentiment Score')\n",
    "plt.ylabel('Movie Sentiment Score')\n",
    "\n",
    "plt.title('Book Sentiment Score vs Movie Sentiment Score')\n",
    "plt.show()"
   ]
  },
  {
   "cell_type": "markdown",
   "metadata": {},
   "source": [
    "This plot has no visual correlations between book and movie sentiment scores. One would expect to have quite a clear correlation of the movies were direct adaptations of the books, since this is not the case, some further investigation is needed."
   ]
  },
  {
   "cell_type": "markdown",
   "metadata": {},
   "source": [
    "## Linear Regression "
   ]
  },
  {
   "cell_type": "markdown",
   "metadata": {},
   "source": [
    "### Create Dataset of Movies not Based on Books"
   ]
  },
  {
   "cell_type": "code",
   "execution_count": null,
   "metadata": {},
   "outputs": [
    {
     "data": {
      "text/plain": [
       "based_on_book\n",
       "False    7694\n",
       "True      659\n",
       "Name: count, dtype: int64"
      ]
     },
     "execution_count": 55,
     "metadata": {},
     "output_type": "execute_result"
    }
   ],
   "source": [
    "regression_dataset_tmdb_raw_df['based_on_book'].value_counts()\n",
    "regression_dataset_tmdb_raw_df = gu.adjust_for_inflation(regression_dataset_tmdb_raw_df, ['budget', 'revenue'], is_plotting_enabled=False)"
   ]
  },
  {
   "cell_type": "code",
   "execution_count": null,
   "metadata": {},
   "outputs": [],
   "source": []
  }
 ],
 "metadata": {
  "kernelspec": {
   "display_name": "ada",
   "language": "python",
   "name": "python3"
  },
  "language_info": {
   "codemirror_mode": {
    "name": "ipython",
    "version": 3
   },
   "file_extension": ".py",
   "mimetype": "text/x-python",
   "name": "python",
   "nbconvert_exporter": "python",
   "pygments_lexer": "ipython3",
   "version": "3.11.10"
  }
 },
 "nbformat": 4,
 "nbformat_minor": 2
}
