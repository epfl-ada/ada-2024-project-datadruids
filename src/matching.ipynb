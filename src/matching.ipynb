{
 "cells": [
  {
   "cell_type": "code",
   "execution_count": 22,
   "metadata": {},
   "outputs": [],
   "source": [
    "from datasets import load_dataset\n",
    "\n",
    "regression_dataset_tmdb_raw_df = load_dataset(\"ada-datadruids/regression_dataset_tmdb\")['train'].to_pandas()"
   ]
  },
  {
   "cell_type": "code",
   "execution_count": 23,
   "metadata": {},
   "outputs": [
    {
     "data": {
      "text/html": [
       "<div>\n",
       "<style scoped>\n",
       "    .dataframe tbody tr th:only-of-type {\n",
       "        vertical-align: middle;\n",
       "    }\n",
       "\n",
       "    .dataframe tbody tr th {\n",
       "        vertical-align: top;\n",
       "    }\n",
       "\n",
       "    .dataframe thead th {\n",
       "        text-align: right;\n",
       "    }\n",
       "</style>\n",
       "<table border=\"1\" class=\"dataframe\">\n",
       "  <thead>\n",
       "    <tr style=\"text-align: right;\">\n",
       "      <th></th>\n",
       "      <th>id</th>\n",
       "      <th>title</th>\n",
       "      <th>vote_average</th>\n",
       "      <th>vote_count</th>\n",
       "      <th>status</th>\n",
       "      <th>release_date</th>\n",
       "      <th>revenue</th>\n",
       "      <th>runtime</th>\n",
       "      <th>adult</th>\n",
       "      <th>backdrop_path</th>\n",
       "      <th>...</th>\n",
       "      <th>tagline</th>\n",
       "      <th>genres</th>\n",
       "      <th>production_companies</th>\n",
       "      <th>production_countries</th>\n",
       "      <th>spoken_languages</th>\n",
       "      <th>keywords</th>\n",
       "      <th>based_on_book</th>\n",
       "      <th>movie_year</th>\n",
       "      <th>adjusted_budget</th>\n",
       "      <th>adjusted_revenue</th>\n",
       "    </tr>\n",
       "  </thead>\n",
       "  <tbody>\n",
       "    <tr>\n",
       "      <th>0</th>\n",
       "      <td>27205</td>\n",
       "      <td>Inception</td>\n",
       "      <td>8.364</td>\n",
       "      <td>34495</td>\n",
       "      <td>Released</td>\n",
       "      <td>2010-07-15</td>\n",
       "      <td>825532764</td>\n",
       "      <td>148</td>\n",
       "      <td>False</td>\n",
       "      <td>/8ZTVqvKDQ8emSGUEMjsS4yHAwrp.jpg</td>\n",
       "      <td>...</td>\n",
       "      <td>Your mind is the scene of the crime.</td>\n",
       "      <td>Action, Science Fiction, Adventure</td>\n",
       "      <td>Legendary Pictures, Syncopy, Warner Bros. Pict...</td>\n",
       "      <td>United Kingdom, United States of America</td>\n",
       "      <td>English, French, Japanese, Swahili</td>\n",
       "      <td>rescue, mission, dream, airplane, paris, franc...</td>\n",
       "      <td>False</td>\n",
       "      <td>2010</td>\n",
       "      <td>1.737071e+08</td>\n",
       "      <td>8.962556e+08</td>\n",
       "    </tr>\n",
       "    <tr>\n",
       "      <th>1</th>\n",
       "      <td>157336</td>\n",
       "      <td>Interstellar</td>\n",
       "      <td>8.417</td>\n",
       "      <td>32571</td>\n",
       "      <td>Released</td>\n",
       "      <td>2014-11-05</td>\n",
       "      <td>701729206</td>\n",
       "      <td>169</td>\n",
       "      <td>False</td>\n",
       "      <td>/pbrkL804c8yAv3zBZR4QPEafpAR.jpg</td>\n",
       "      <td>...</td>\n",
       "      <td>Mankind was born on Earth. It was never meant ...</td>\n",
       "      <td>Adventure, Drama, Science Fiction</td>\n",
       "      <td>Legendary Pictures, Syncopy, Lynda Obst Produc...</td>\n",
       "      <td>United Kingdom, United States of America</td>\n",
       "      <td>English</td>\n",
       "      <td>rescue, future, spacecraft, race against time,...</td>\n",
       "      <td>False</td>\n",
       "      <td>2014</td>\n",
       "      <td>1.650000e+08</td>\n",
       "      <td>7.017292e+08</td>\n",
       "    </tr>\n",
       "    <tr>\n",
       "      <th>2</th>\n",
       "      <td>155</td>\n",
       "      <td>The Dark Knight</td>\n",
       "      <td>8.512</td>\n",
       "      <td>30619</td>\n",
       "      <td>Released</td>\n",
       "      <td>2008-07-16</td>\n",
       "      <td>1004558444</td>\n",
       "      <td>152</td>\n",
       "      <td>False</td>\n",
       "      <td>/nMKdUUepR0i5zn0y1T4CsSB5chy.jpg</td>\n",
       "      <td>...</td>\n",
       "      <td>Welcome to a world without rules.</td>\n",
       "      <td>Drama, Action, Crime, Thriller</td>\n",
       "      <td>DC Comics, Legendary Pictures, Syncopy, Isobel...</td>\n",
       "      <td>United Kingdom, United States of America</td>\n",
       "      <td>English, Mandarin</td>\n",
       "      <td>joker, sadism, chaos, secret identity, crime f...</td>\n",
       "      <td>False</td>\n",
       "      <td>2008</td>\n",
       "      <td>2.034170e+08</td>\n",
       "      <td>1.104564e+09</td>\n",
       "    </tr>\n",
       "    <tr>\n",
       "      <th>3</th>\n",
       "      <td>19995</td>\n",
       "      <td>Avatar</td>\n",
       "      <td>7.573</td>\n",
       "      <td>29815</td>\n",
       "      <td>Released</td>\n",
       "      <td>2009-12-15</td>\n",
       "      <td>2923706026</td>\n",
       "      <td>162</td>\n",
       "      <td>False</td>\n",
       "      <td>/vL5LR6WdxWPjLPFRLe133jXWsh5.jpg</td>\n",
       "      <td>...</td>\n",
       "      <td>Enter the world of Pandora.</td>\n",
       "      <td>Action, Adventure, Fantasy, Science Fiction</td>\n",
       "      <td>Dune Entertainment, Lightstorm Entertainment, ...</td>\n",
       "      <td>United States of America, United Kingdom</td>\n",
       "      <td>English, Spanish</td>\n",
       "      <td>future, society, culture clash, space travel, ...</td>\n",
       "      <td>False</td>\n",
       "      <td>2009</td>\n",
       "      <td>2.615235e+08</td>\n",
       "      <td>3.226236e+09</td>\n",
       "    </tr>\n",
       "    <tr>\n",
       "      <th>4</th>\n",
       "      <td>24428</td>\n",
       "      <td>The Avengers</td>\n",
       "      <td>7.710</td>\n",
       "      <td>29166</td>\n",
       "      <td>Released</td>\n",
       "      <td>2012-04-25</td>\n",
       "      <td>1518815515</td>\n",
       "      <td>143</td>\n",
       "      <td>False</td>\n",
       "      <td>/9BBTo63ANSmhC4e6r62OJFuK2GL.jpg</td>\n",
       "      <td>...</td>\n",
       "      <td>Some assembly required.</td>\n",
       "      <td>Science Fiction, Action, Adventure</td>\n",
       "      <td>Marvel Studios</td>\n",
       "      <td>United States of America</td>\n",
       "      <td>English, Hindi, Russian</td>\n",
       "      <td>new york city, superhero, shield, based on com...</td>\n",
       "      <td>False</td>\n",
       "      <td>2012</td>\n",
       "      <td>2.268438e+08</td>\n",
       "      <td>1.566063e+09</td>\n",
       "    </tr>\n",
       "  </tbody>\n",
       "</table>\n",
       "<p>5 rows × 28 columns</p>\n",
       "</div>"
      ],
      "text/plain": [
       "       id            title  vote_average  vote_count    status release_date  \\\n",
       "0   27205        Inception         8.364       34495  Released   2010-07-15   \n",
       "1  157336     Interstellar         8.417       32571  Released   2014-11-05   \n",
       "2     155  The Dark Knight         8.512       30619  Released   2008-07-16   \n",
       "3   19995           Avatar         7.573       29815  Released   2009-12-15   \n",
       "4   24428     The Avengers         7.710       29166  Released   2012-04-25   \n",
       "\n",
       "      revenue  runtime  adult                     backdrop_path  ...  \\\n",
       "0   825532764      148  False  /8ZTVqvKDQ8emSGUEMjsS4yHAwrp.jpg  ...   \n",
       "1   701729206      169  False  /pbrkL804c8yAv3zBZR4QPEafpAR.jpg  ...   \n",
       "2  1004558444      152  False  /nMKdUUepR0i5zn0y1T4CsSB5chy.jpg  ...   \n",
       "3  2923706026      162  False  /vL5LR6WdxWPjLPFRLe133jXWsh5.jpg  ...   \n",
       "4  1518815515      143  False  /9BBTo63ANSmhC4e6r62OJFuK2GL.jpg  ...   \n",
       "\n",
       "                                             tagline  \\\n",
       "0               Your mind is the scene of the crime.   \n",
       "1  Mankind was born on Earth. It was never meant ...   \n",
       "2                  Welcome to a world without rules.   \n",
       "3                        Enter the world of Pandora.   \n",
       "4                            Some assembly required.   \n",
       "\n",
       "                                        genres  \\\n",
       "0           Action, Science Fiction, Adventure   \n",
       "1            Adventure, Drama, Science Fiction   \n",
       "2               Drama, Action, Crime, Thriller   \n",
       "3  Action, Adventure, Fantasy, Science Fiction   \n",
       "4           Science Fiction, Action, Adventure   \n",
       "\n",
       "                                production_companies  \\\n",
       "0  Legendary Pictures, Syncopy, Warner Bros. Pict...   \n",
       "1  Legendary Pictures, Syncopy, Lynda Obst Produc...   \n",
       "2  DC Comics, Legendary Pictures, Syncopy, Isobel...   \n",
       "3  Dune Entertainment, Lightstorm Entertainment, ...   \n",
       "4                                     Marvel Studios   \n",
       "\n",
       "                       production_countries  \\\n",
       "0  United Kingdom, United States of America   \n",
       "1  United Kingdom, United States of America   \n",
       "2  United Kingdom, United States of America   \n",
       "3  United States of America, United Kingdom   \n",
       "4                  United States of America   \n",
       "\n",
       "                     spoken_languages  \\\n",
       "0  English, French, Japanese, Swahili   \n",
       "1                             English   \n",
       "2                   English, Mandarin   \n",
       "3                    English, Spanish   \n",
       "4             English, Hindi, Russian   \n",
       "\n",
       "                                            keywords  based_on_book  \\\n",
       "0  rescue, mission, dream, airplane, paris, franc...          False   \n",
       "1  rescue, future, spacecraft, race against time,...          False   \n",
       "2  joker, sadism, chaos, secret identity, crime f...          False   \n",
       "3  future, society, culture clash, space travel, ...          False   \n",
       "4  new york city, superhero, shield, based on com...          False   \n",
       "\n",
       "  movie_year adjusted_budget adjusted_revenue  \n",
       "0       2010    1.737071e+08     8.962556e+08  \n",
       "1       2014    1.650000e+08     7.017292e+08  \n",
       "2       2008    2.034170e+08     1.104564e+09  \n",
       "3       2009    2.615235e+08     3.226236e+09  \n",
       "4       2012    2.268438e+08     1.566063e+09  \n",
       "\n",
       "[5 rows x 28 columns]"
      ]
     },
     "execution_count": 23,
     "metadata": {},
     "output_type": "execute_result"
    }
   ],
   "source": [
    "from utils.regression_utils import adjust_for_inflation\n",
    "\n",
    "regression_dataset_tmdb_raw_df = adjust_for_inflation(regression_dataset_tmdb_raw_df, ['budget', 'revenue'], is_plotting_enabled=False)\n",
    "regression_dataset_tmdb_raw_df.head()"
   ]
  },
  {
   "cell_type": "code",
   "execution_count": 24,
   "metadata": {},
   "outputs": [],
   "source": [
    "from utils.regression_utils import multi_one_hot_encode_columns\n",
    "\n",
    "regression_dataset_tmdb_raw_df.drop(columns=['keywords', 'release_date', 'backdrop_path', 'homepage', 'original_title', 'overview', 'poster_path', 'tagline', 'production_companies', 'original_language','budget', 'imdb_id'], inplace=True)\n",
    "\n",
    "regression_dataset_processed_df = multi_one_hot_encode_columns(\n",
    "    regression_dataset_tmdb_raw_df,\n",
    "    column_names_mohe=['genres', 'spoken_languages', 'production_countries'], # keywords not taken for now\n",
    "    column_names_ohe=['status'],\n",
    ")\n"
   ]
  },
  {
   "cell_type": "code",
   "execution_count": 25,
   "metadata": {},
   "outputs": [
    {
     "name": "stdout",
     "output_type": "stream",
     "text": [
      "658\n"
     ]
    }
   ],
   "source": [
    "from utils.regression_utils import create_train_test_split\n",
    "import pandas as pd\n",
    "\n",
    "from sklearn.preprocessing import StandardScaler\n",
    "\n",
    "columns = ['vote_count', 'movie_year', 'adjusted_budget', 'adjusted_revenue', 'runtime', 'popularity', 'vote_average', 'genres_Adventure', 'genres_count']\n",
    "\n",
    "# split_dict = create_train_test_split(\n",
    "#     regression_dataset_processed_df,\n",
    "#     target_column='revenue',\n",
    "#     should_split_based_on_book=True,\n",
    "#     test_size=0.2,\n",
    "#     seed=42\n",
    "# )\n",
    "\n",
    "scaler = StandardScaler()\n",
    "scaler.fit_transform(regression_dataset_processed_df[columns])\n",
    "\n",
    "regression_dataset_normalized= pd.DataFrame(scaler.transform(regression_dataset_processed_df[columns]), columns=columns)\n",
    "regression_dataset_normalized[\"id\"] = regression_dataset_processed_df[\"id\"]\n",
    "regression_dataset_normalized[\"notnorm_revenue\"] = regression_dataset_processed_df[\"adjusted_revenue\"]\n",
    "regression_dataset_normalized[\"notnorm_budget\"] = regression_dataset_processed_df[\"adjusted_budget\"]\n",
    "regression_dataset_normalized[\"based_on_book\"] = regression_dataset_processed_df[\"based_on_book\"]\n",
    "regression_dataset_normalized[\"title\"] = regression_dataset_processed_df[\"title\"]\n",
    "\n",
    "print(regression_dataset_normalized['based_on_book'].sum())\n",
    "\n",
    "\n",
    "# X_train_based_on_book, X_test_based_on_book, y_train_based_on_book, y_test_based_on_book = split_dict['based_on_book']\n",
    "# X_train_not_based_on_book, X_test_not_based_on_book, y_train_not_based_on_book, y_test_not_based_on_book = split_dict['not_based_on_book']\n",
    "\n",
    "X_not_book = regression_dataset_normalized[regression_dataset_normalized['based_on_book'] == False].copy().reset_index(drop=True)\n",
    "X_book = regression_dataset_normalized[regression_dataset_normalized['based_on_book'] == True].copy().reset_index(drop=True)"
   ]
  },
  {
   "cell_type": "code",
   "execution_count": 26,
   "metadata": {},
   "outputs": [
    {
     "name": "stdout",
     "output_type": "stream",
     "text": [
      "      vote_count  movie_year  adjusted_budget  adjusted_revenue   runtime  \\\n",
      "0      11.937342    0.759024         3.478228          3.928964  1.312824   \n",
      "1      11.244760    0.976144         3.269037          2.984607  1.923253   \n",
      "2      10.542098    0.650463         4.192020          4.940226  1.429097   \n",
      "3      10.252682    0.704743         5.588050         15.240198  1.719777   \n",
      "4      10.019061    0.867584         4.754857          7.180643  1.167484   \n",
      "...          ...         ...              ...               ...       ...   \n",
      "7681   -0.479825    0.487623        -0.695148         -0.422012 -2.989247   \n",
      "7682   -0.479825    0.541903        -0.686968         -0.416512  0.934940   \n",
      "7683   -0.479825    0.487623        -0.687207         -0.420276  1.516301   \n",
      "7684   -0.479825    0.379063        -0.679691         -0.414607 -0.402190   \n",
      "7685   -0.479825    0.704743        -0.655383         -0.418689 -0.692871   \n",
      "\n",
      "      popularity  vote_average  genres_Adventure  genres_count      id  \\\n",
      "0       4.622025      1.289944          2.414156      0.542578   27205   \n",
      "1       8.384199      1.318518          2.414156      0.542578  157336   \n",
      "2       7.742700      1.369734         -0.414223      1.466510     155   \n",
      "3       4.353341      0.863499          2.414156      1.466510   19995   \n",
      "4       5.566428      0.937358          2.414156      0.542578   24428   \n",
      "...          ...           ...               ...           ...     ...   \n",
      "7681   -0.948953     -3.219272         -0.414223     -1.305287  724198   \n",
      "7682   -0.948953     -3.219272         -0.414223     -0.381355  721807   \n",
      "7683   -0.948953     -3.219272         -0.414223     -0.381355  753853   \n",
      "7684   -0.948953     -3.219272         -0.414223     -0.381355   73571   \n",
      "7685   -0.948953     -3.219272         -0.414223     -0.381355   73051   \n",
      "\n",
      "      notnorm_revenue  notnorm_budget  based_on_book                 title  \n",
      "0        8.962556e+08    1.737071e+08          False             Inception  \n",
      "1        7.017292e+08    1.650000e+08          False          Interstellar  \n",
      "2        1.104564e+09    2.034170e+08          False       The Dark Knight  \n",
      "3        3.226236e+09    2.615235e+08          False                Avatar  \n",
      "4        1.566063e+09    2.268438e+08          False          The Avengers  \n",
      "...               ...             ...            ...                   ...  \n",
      "7681     6.061092e+03    1.212218e+02          False  Delivery de la droga  \n",
      "7682     1.139105e+06    3.405572e+05          False      Care of Footpath  \n",
      "7683     3.636655e+05    3.306132e+05          False    Vetrivel Sakthivel  \n",
      "7684     1.531412e+06    6.434505e+05          False                Indigo  \n",
      "7685     6.906671e+05    1.655212e+06          False          A Third Wish  \n",
      "\n",
      "[7686 rows x 14 columns]\n"
     ]
    }
   ],
   "source": [
    "columns = ['vote_count', 'movie_year', 'adjusted_budget', 'adjusted_revenue', 'runtime', 'popularity', 'vote_average', 'genres_Adventure', 'genres_count']\n",
    "\n",
    "\n",
    "print(X_not_book)"
   ]
  },
  {
   "cell_type": "code",
   "execution_count": 27,
   "metadata": {},
   "outputs": [
    {
     "name": "stdout",
     "output_type": "stream",
     "text": [
      "Out of 658 films, 434 were matched\n",
      "vote_count                                                   7.915756\n",
      "movie_year                                                   0.270503\n",
      "adjusted_budget                                              2.292164\n",
      "adjusted_revenue                                             5.233671\n",
      "runtime                                                      2.213934\n",
      "popularity                                                   4.828216\n",
      "vote_average                                                 1.310431\n",
      "genres_Adventure                                             2.414156\n",
      "genres_count                                                 0.542578\n",
      "id                                                                120\n",
      "notnorm_revenue                                     1165009824.442571\n",
      "notnorm_budget                                       124339967.055723\n",
      "based_on_book                                                    True\n",
      "title               The Lord of the Rings: The Fellowship of the Ring\n",
      "Propensity                                                   4.238001\n",
      "Name: 3, dtype: object\n",
      "vote_count                   8.84088\n",
      "movie_year                 -0.109458\n",
      "adjusted_budget            -0.368989\n",
      "adjusted_revenue            1.236444\n",
      "runtime                     1.487233\n",
      "popularity                  4.014478\n",
      "vote_average                1.356795\n",
      "genres_Adventure           -0.414223\n",
      "genres_count               -0.381355\n",
      "id                               680\n",
      "notnorm_revenue     341628376.117389\n",
      "notnorm_budget        13575695.17063\n",
      "based_on_book                  False\n",
      "title                   Pulp Fiction\n",
      "Propensity                  4.237266\n",
      "Name: 6, dtype: object\n"
     ]
    }
   ],
   "source": [
    "coeffs = [0.4603, -0.2067, 0.1360, 0.0585, 0.0387, -0.0282, 0.0256, -0.0049]\n",
    "X_book[\"Propensity\"] = coeffs[0] * X_book[\"vote_count\"] + coeffs[1] * X_book[\"movie_year\"] + coeffs[2] * X_book[\"adjusted_budget\"] + coeffs[3] * X_book[\"runtime\"] + coeffs[4] * X_book[\"popularity\"] + coeffs[5] * X_book[\"vote_average\"] + coeffs[6] * X_book[\"genres_Adventure\"] + coeffs[7] * X_book[\"genres_count\"]\n",
    "X_not_book[\"Propensity\"] = coeffs[0] * X_not_book[\"vote_count\"] + coeffs[1] * X_not_book[\"movie_year\"] + coeffs[2] * X_not_book[\"adjusted_budget\"] + coeffs[3] * X_not_book[\"runtime\"] + coeffs[4] * X_not_book[\"popularity\"] + coeffs[5] * X_not_book[\"vote_average\"] + coeffs[6] * X_not_book[\"genres_Adventure\"] + coeffs[7] * X_not_book[\"genres_count\"]\n",
    "\n",
    "X_not_book_drop = X_not_book.copy()\n",
    "pairs = []\n",
    "for index in range(len(X_book)):\n",
    "    df_sort = X_not_book_drop.iloc[(X_not_book_drop['Propensity']-X_book[\"Propensity\"][index]).abs().argsort()[:2]]\n",
    "    df_sort = abs(X_book['Propensity'][index] - df_sort[\"Propensity\"])\n",
    "    df_sort.sort_values(inplace=True)\n",
    "    if df_sort[df_sort.index[0]] / abs(X_book[\"Propensity\"][index]) <= 0.001:\n",
    "            pairs.append([index, df_sort.index[0]])\n",
    "            X_not_book_drop.drop(df_sort.index[0], inplace=True)\n",
    "            \n",
    "\n",
    "print(\"Out of %d films, %d were matched\" % (len(X_book), len(pairs)))\n",
    "print(X_book.iloc[pairs[0][0]])\n",
    "print(X_not_book.iloc[pairs[0][1]])"
   ]
  },
  {
   "cell_type": "code",
   "execution_count": 28,
   "metadata": {},
   "outputs": [
    {
     "name": "stdout",
     "output_type": "stream",
     "text": [
      "73126028.41073287 59841599.94407889 10706696.259445317 31327180.48486026\n",
      "The revenue of the book based film was better for a total of 253 times out of 434 (ratio 0.5829)\n"
     ]
    },
    {
     "data": {
      "image/png": "[encoded data removed]",
      "text/plain": [
       "<Figure size 640x480 with 1 Axes>"
      ]
     },
     "metadata": {},
     "output_type": "display_data"
    }
   ],
   "source": [
    "import numpy as np\n",
    "import matplotlib.pyplot as plt\n",
    "sum = 0\n",
    "book_rev = []\n",
    "not_book_rev = []\n",
    "book_perc = []\n",
    "total_rev = []\n",
    "for i in range(len(pairs)):\n",
    "    sum += (X_book['adjusted_revenue'][pairs[i][0]]) >= (X_not_book['adjusted_revenue'][pairs[i][1]])\n",
    "    book_rev.append(X_book['notnorm_revenue'][pairs[i][0]])\n",
    "    not_book_rev.append(X_not_book['notnorm_revenue'][pairs[i][1]])\n",
    "\n",
    "    book_perc.append((X_book[\"notnorm_revenue\"][pairs[i][0]] - X_not_book[\"notnorm_revenue\"][pairs[i][1]]))#/X_not_book[\"notnorm_revenue\"][pairs[i][1]])\n",
    "    total_rev.append((X_book[\"notnorm_revenue\"][pairs[i][0]] - X_not_book[\"notnorm_revenue\"][pairs[i][1]]))\n",
    "print(np.median(book_rev), np.median(not_book_rev), np.median(np.sort(book_perc)[0:-1]), np.mean(np.sort(book_perc)[0:-1]))\n",
    "plt.hist(np.sort(book_perc)[0:-1], bins=100)\n",
    "plt.grid()\n",
    "print(\"The revenue of the book based film was better for a total of %d times out of %d (ratio %.4f)\" %(sum, len(pairs), sum/len(pairs)))"
   ]
  },
  {
   "cell_type": "code",
   "execution_count": 38,
   "metadata": {},
   "outputs": [
    {
     "data": {
      "application/vnd.plotly.v1+json": {
       "config": {
        "plotlyServerURL": "https://plot.ly"
       },
       "data": [
        {
         "boxmean": true,
         "legendrank": 2,
         "marker": {
          "color": "#44AA99"
         },
         "name": "NOB",
         "orientation": "h",
         "type": "box",
         "x": [
          341628376.1173891,
          398359114.0714402,
          612722809.5811003,
          973947385.0154804,
          1081462862.9935298,
          1164058578.170908,
          288885818,
          357617353.00201243,
          559801943.3748584,
          590699087.9183973,
          54610298.92666666,
          34673724.52119932,
          1233715993.4029827,
          342282498.5211092,
          360611640.80196357,
          103215094,
          441962744.46696794,
          1104054072,
          244189085.70780906,
          475428692.4193573,
          377630786.73892254,
          134541953.17744407,
          38066305.51301684,
          351760953.2184389,
          105077763.0537737,
          1291334285.6457229,
          206031851.97333997,
          82076100.34528926,
          130237272.6956437,
          409778667.25507873,
          362332649.02178586,
          275005734.6645504,
          137492956.30435154,
          249411870.0486184,
          120397490.28305478,
          316490068.2083911,
          40486945.36817102,
          230586561.72358415,
          129656195.88157941,
          268031828,
          31802439.873725105,
          184959704.67079082,
          217327439.23883665,
          111928365,
          118878349.17808825,
          447841913.52848333,
          3799211.1227153284,
          10896349.589041095,
          190517167.96892798,
          96580077.70762505,
          149661781.50021777,
          29950497.20642024,
          318221278.50764245,
          136480004.44515967,
          66072587.72373344,
          355445636.38024545,
          177262896.93288788,
          142508707.20065948,
          26173614.89530277,
          141183205.45697322,
          62648576.1322275,
          27102274.323035575,
          2592865144.875727,
          90777736.51259728,
          102167715.80866806,
          225005196.5387943,
          99079973.6992567,
          158908470.05400512,
          101637114.61283402,
          1707.2319711538462,
          16043978.506905563,
          64942399.7769724,
          70329889.87423001,
          171241257.06879407,
          387842379.276601,
          27898882.15200683,
          81561775.47395389,
          320998192.0903955,
          224653086.30709505,
          157079446.47613043,
          5435269.132653062,
          102330750.09327707,
          11293253.599306623,
          237472134.0241796,
          85125215.75990398,
          210214083.12297714,
          191854333.41252008,
          73226931.14632665,
          239765189.81236854,
          6129116.427319712,
          47973099.94626101,
          335468338.48670596,
          76519646.15840995,
          28711865.43459428,
          150476747.3717108,
          73642357.84728092,
          18615132.282250438,
          400637263.5562979,
          42249167.16240333,
          373552094,
          39502879.455827415,
          49097467.11473835,
          831579.5093392807,
          79682319.60561308,
          23636016.54245571,
          293692898.5210133,
          4299703.189844021,
          170993765.32405698,
          15218753.571428573,
          176318571.36779723,
          61616508.77158459,
          29080329.11886458,
          228428002.75006023,
          3237.0648941469494,
          169837010,
          98548847.6166613,
          46280956.39674173,
          267840036.08929673,
          16126273.699565487,
          103590271,
          221051263.1954075,
          445662964.3574296,
          365700494.41010946,
          29929454.24874258,
          108127412.7166932,
          250449940.17155698,
          139662135.43814433,
          17417743.715511955,
          47900616.471075326,
          42314351.66394434,
          35191502.01300713,
          296489171.1277613,
          403753426.302751,
          22995542.96388543,
          720943046.8142564,
          38365753.05102041,
          206654449.53885028,
          274771739.84614384,
          256562883.31276888,
          68583624.19286613,
          135611637.35731426,
          71332931.57564344,
          3546074.8742112066,
          881698.9447548107,
          172363272.3227829,
          438660.6722888704,
          95186651.9227465,
          2235427.47712098,
          174244702.4079964,
          33357359.09479078,
          46286399.980377115,
          44667321.65752163,
          708866174.0773998,
          15851604.623355916,
          21974733.194106884,
          7848612.916509086,
          83382625.89670786,
          67032199.43268646,
          233997718.66047722,
          145200040.6124775,
          31243706.351388507,
          38796660.71792497,
          29026032.196094308,
          100207528.1357559,
          11346294.642185144,
          153168732.39544302,
          82411108.20877951,
          166500493.41208544,
          197286505.02686667,
          14747729.1604865,
          41223711.18624965,
          32228977.822666567,
          45888291.141068846,
          478939132.3627844,
          76898511.72391233,
          16854547.611984573,
          287258360.83022887,
          24761937.49245802,
          46028170.00643663,
          3643825.0831353916,
          10777935.445353875,
          294600571.06112397,
          24203911.685568318,
          18541529.181335922,
          9031529.953998387,
          100978042.63539466,
          12932907.799289608,
          77764647.60032888,
          296157895.24765724,
          191869.7718402204,
          590.2009695290859,
          27834044.515638262,
          39741174.90881951,
          83719388,
          132418313.49438687,
          24442412.72863009,
          198261317.18273705,
          272092997.84864676,
          74121013.53092232,
          29635214.89143607,
          231260511.73970369,
          2302908.820867495,
          76764063.8133412,
          4077158.1019682023,
          39527535.967663,
          54159098.1830051,
          581651.6897614816,
          191255672.87887797,
          17683373.793962028,
          107517626.81735831,
          92599659.54670319,
          70967624.28178866,
          83710761.63663663,
          13227922.749563908,
          106907496.22090693,
          192349638.36985078,
          191656872.99713275,
          62150937.39046702,
          146237031.93812135,
          73590467.9325699,
          33640692.41836735,
          27829920.452339392,
          69055324.89254266,
          33538465.04723373,
          14914145.466477087,
          343253484.79614586,
          76726126.03878117,
          83359562.44289055,
          3925268.9141355637,
          49100000,
          8916616.44695543,
          36237438.61215638,
          31579154.89171027,
          8121309.319611205,
          101498005.46425013,
          53949406.55485148,
          6547756.392973617,
          359692105.03310513,
          18494653.648913756,
          791.9804850850293,
          4114010.746486272,
          38375583.55354379,
          55188395.204653755,
          75793062.8661061,
          117802691.15876137,
          120892360.15675372,
          926164161.9076805,
          16782630.441457875,
          9098225.796289815,
          53439145.66583774,
          7043555.283650957,
          54044323.5067647,
          35870243.40861778,
          93788646.06821732,
          115986013.04209805,
          116633941.1366992,
          45704963.239393,
          425765.4499877635,
          185949465.3233025,
          12490738.389718333,
          6314423.924767582,
          566.1287365484256,
          10984228.011218963,
          207591174.2975308,
          5395438.788758909,
          50411959.09024666,
          14548495.581956968,
          5591346.358286703,
          41193609.06659254,
          9016922,
          884443.9601494396,
          16735137.771024827,
          27799750.85956096,
          28214366.23215394,
          62191502.61001275,
          37120646.61165167,
          170173702.21475106,
          19217519.907047156,
          41171990.600127056,
          19701959.378276628,
          61117315.20062601,
          1128854.9237638325,
          12795427.660273973,
          17944557.171416,
          5452007.683134186,
          37492731.59528669,
          17334577.706415266,
          212902372,
          303053378.7090465,
          20876281.9062108,
          13013732.475648142,
          11293638.119036803,
          253650514.27170375,
          8255258.595360826,
          28857922.56677982,
          80966519.2761275,
          68656261.45612186,
          64637517.21582335,
          146130381.90452966,
          18845165.281754963,
          5207284.391898084,
          16854547.611984573,
          101835782.32758783,
          6618385.122765925,
          11772873.54954003,
          12706661.286177568,
          26112503.294775262,
          165096438.14711472,
          88171822.57752933,
          4031313.44938232,
          50053987.69869388,
          82359614.62305301,
          62607911.84573003,
          19564972.451790635,
          58852664.0537514,
          37188128.29862541,
          89.58992445911257,
          1989678.122967632,
          113929033.42085515,
          52441.1237381021,
          44779195,
          117032231.60207745,
          353365554.1390594,
          15163072.200097132,
          374396046.2732464,
          12365210.810835611,
          34698903.530990906,
          1361486.2109767443,
          3605327.2569945194,
          70850439.57497676,
          61666903.10571454,
          32023640.462770686,
          4819925.37270894,
          8893828.865160652,
          19750873.69640788,
          119173330.04167788,
          425331003.25319177,
          204524.39063038238,
          104085376.74165675,
          11032909.56233125,
          1920519.4899504513,
          51412073.72509827,
          6252182.220893628,
          149510686.80318546,
          1550979.2876374866,
          4516034.790627462,
          12707178.79553181,
          104882247.4762042,
          181948753.3484023,
          104086839.25653973,
          270794211.2939475,
          8827798.157582762,
          10934099.991933635,
          41752205.88917526,
          67671569.01728328,
          19797202.164497674,
          26914580.767408814,
          15644316.221012054,
          23294397.59366528,
          103443564.99874565,
          965966.364746718,
          72290891.80257389,
          151855088.84206134,
          58834384,
          390805578.78157705,
          12576130.684685012,
          7048158.8899868205,
          59088073.314065464,
          26976488.071403567,
          27438834.513844177,
          28331149.943427745,
          26042001.949088857,
          54304777.25683105,
          5588052.7475469075,
          90593.59653039096,
          96401957.27024943,
          163308035.25804803,
          2255922.0439374857,
          43626971.99686843,
          99059086.09034646,
          8858998.721946731,
          32965220.716974694,
          7455927.462079481,
          28559537.55174453,
          507525739.6297613,
          41223458.16521418,
          17672733.797865663,
          84761798.23614722,
          12806989.93742404,
          37971669.664395444,
          59744,
          40096543.60772599,
          196781193,
          19264104.560866237,
          1336890.6769676772,
          45640143,
          85082008.38808592,
          25028666.051369537,
          820339.0124169795,
          15292774.155502016,
          117677505.09527119,
          72332217.08261746,
          117799514.0970938,
          68176313.76880148,
          25258686.97833118,
          14397283.924467113,
          137645527.61861467,
          89186147.487181,
          32858786.989369486,
          28432236.634313606,
          60595126.57409231,
          26509341.009207096,
          11565692.611041047,
          32109722.57897143,
          4121474.4811313045,
          239738751.14928305,
          176150.26249431606,
          3449341.194672052,
          2587.280510018215,
          110582838.48272866,
          127017360.75625958,
          2653084.3887845296,
          353070335.06688535,
          338701551.4386847,
          34128577.0532547,
          201884405.05122936,
          523192.93306201627,
          33113169.49975716,
          99231457.80734488,
          84498334.32480666,
          32493711.981121615,
          91137704.93779983,
          154644350.64243898,
          345753510.64830774
         ]
        },
        {
         "boxmean": true,
         "legendrank": 1,
         "marker": {
          "color": "sandybrown"
         },
         "name": "BOB",
         "orientation": "h",
         "type": "box",
         "x": [
          1165009824.4425712,
          1086052033.4474182,
          407601728.2034699,
          668400291.0095049,
          1100556566.4016078,
          102354473.80105008,
          432801892.81019026,
          356735077.33700806,
          195957768.9307197,
          508183927.8005868,
          156928813.43405786,
          144890842.43050647,
          408308817.18142843,
          903118663.3402647,
          47108797.94540069,
          479401844.8178229,
          2070373249.6159801,
          256147331.64271626,
          901678502.6757083,
          912392639.4378393,
          228000813.21965125,
          361590587.4265322,
          40328089.8939912,
          493055845.6112132,
          22449060.5595778,
          82902730.09672026,
          201814417.3792435,
          307175366.94467705,
          1424641916.7162404,
          376326499.4856393,
          285176620.0796885,
          63967804.866162285,
          660220067.0995504,
          574549178.6847094,
          32913973.215453494,
          522963417.4080646,
          51279601.40254827,
          163303102.76073235,
          376937004.5411473,
          491039033.81241846,
          111826643.10216245,
          186149607.79148582,
          157738855.20768875,
          103308786.59530367,
          15510908.618858954,
          64299865.95424275,
          111025844.37224822,
          50500821.69426416,
          252374856.5644201,
          87980364.8753407,
          366757716.12772834,
          124827114.45203015,
          275326363.693552,
          149590102.3726919,
          768612104.4066789,
          144217389.2739912,
          98806044.59348916,
          133768728.40039466,
          62508766.36550568,
          157009875.86426482,
          230696573.74411595,
          45939216.40130916,
          6848513399.705729,
          484273073.3203877,
          124517918.331131,
          171473149.93850884,
          83545213.3254839,
          661130896.219622,
          116155088.87566206,
          206993308.59383374,
          30494861.820404712,
          146348893.65027088,
          131704207.3464577,
          466170959.52393943,
          953160577.3393552,
          79942019.55279292,
          183047921.53334832,
          186898369.6144091,
          484021384.4603103,
          316884316.3433886,
          42068099.30313589,
          209653580.8198132,
          292747767.5497375,
          168868920.2316924,
          77588537.43928145,
          108504859.46935013,
          363303229.5836864,
          89892402.27058871,
          214880379.52074963,
          293549734.177228,
          73631152.77564242,
          414210271.55606216,
          104633679.82725583,
          149438423.1862761,
          119743881.63681486,
          120744318.04062313,
          83000699.13599078,
          166739439.51950127,
          194353593.36613005,
          609909666.9387754,
          329003319.95058674,
          875353.4210715392,
          185219270.7900301,
          139211657.7740115,
          180513713.93454868,
          278169203.8976296,
          90465127.94424689,
          16797399.854814243,
          229817474.08874613,
          223682683.8157072,
          144591912.1412036,
          257719140.82722667,
          103817361.40578805,
          79426895.51563622,
          109748061.18276285,
          350125658.98334396,
          282773156.58896315,
          480276246.830093,
          73361427.7787645,
          14852418.088094942,
          378452012.07950157,
          673833433.4745195,
          468456743.36319077,
          442879001.6833446,
          64788028.034277,
          686014924.9219956,
          724323507.7317228,
          50389625.83668005,
          138968557.2423909,
          681843734.2128743,
          101239881.23624259,
          110502974.22043127,
          140622567.8463262,
          234986437.88470563,
          416731974.6641573,
          169068565.60866013,
          229702826.46701384,
          97418407.1574179,
          222651261.0765599,
          8995310.442566244,
          117303768.67626251,
          1579928.1625324471,
          255222806.07099748,
          321964121.10938954,
          209081989.43190637,
          74072724.65317947,
          63838966.29213484,
          28488725.79513299,
          137244271.34946704,
          53764358.46378917,
          300400880.2135396,
          148440324.75693327,
          135219238.40244672,
          120454023.70686314,
          320002383.96233284,
          49397354.24892315,
          35807526.02437256,
          144580674.62825862,
          344803039.6559161,
          380299062.91833997,
          171400665.53996956,
          115093682.09513365,
          132856670.09119177,
          252424778.28930214,
          73691195.91814697,
          20623115.80629734,
          47340842.11345168,
          207580088.03147158,
          169520616.83417052,
          147961650.78796455,
          187759856.914639,
          85939732.81361948,
          209133716.03402773,
          67719820.65483646,
          46852835.48894329,
          103150444.46331143,
          115851137.33593476,
          29494325.441361893,
          30034314.91047976,
          321483337.99650264,
          341812189.4328588,
          42410648.3119584,
          125840166.03468306,
          31602351.753295854,
          54595765.77821953,
          69405792.5308153,
          19380831.0885118,
          132286603.01654707,
          182599013.08562714,
          305908219.87588334,
          53427829.124126814,
          31084521.21918907,
          287900714.53781027,
          25995849.257167477,
          73842673.33119094,
          26126615.573267937,
          24512429.319828015,
          90308569.51629813,
          59855734.06427612,
          52859735.0083415,
          87890569.07287066,
          4591358.240064859,
          23876137.475611582,
          69677197.94725156,
          194309199.15476394,
          21178760.68947621,
          108093396.1751683,
          59436748.9325363,
          72198372.47740276,
          53939872.656009406,
          27077741.156471957,
          88328624.9995558,
          14587080.87291399,
          64970474.55688964,
          46875529.887920305,
          95853626.80477087,
          103998901.74256845,
          556932134.5276322,
          54914487.445197284,
          47158457.56799925,
          478736111.5193543,
          142926482.98993772,
          236174971.71181998,
          15218358.904444534,
          88833.62482722814,
          39868460.12388695,
          4084833.2760598636,
          61891808.278867096,
          14631965.173580881,
          55437726.01860846,
          47243.17347985348,
          48767762.487576775,
          54386040.84531573,
          35978335.87333506,
          41845501.929493636,
          168952119.35231575,
          26914580.767408814,
          72347215.6196944,
          175684346.82817978,
          46828829.9466245,
          257709063.3924581,
          45284539.7560222,
          70706944.99989413,
          61217033.07019416,
          164755575.45045045,
          286137108.7437523,
          120106157.10769697,
          831701561.7085212,
          60260115.151515156,
          72360076.09290388,
          38923406.97840366,
          131197954.0351658,
          170327262.65075117,
          57034696.55771868,
          286873288.21520066,
          269755407.8455791,
          60479466.37425198,
          33554590.3319371,
          109276120.89722927,
          102324841.96168824,
          18428935.170612358,
          27290317.322590645,
          4317915.33888085,
          806076865.0137742,
          62627209.73699283,
          10865909.310218688,
          207965234.42057788,
          15573353.279382905,
          41898840.661948495,
          8561560.3780421,
          44080061.08923744,
          3190412.0006417455,
          32224303.093437813,
          35154002.47490719,
          28430430.342577968,
          127389583.72283252,
          116914560.78244804,
          106903758.76862103,
          16129659.196892705,
          36685868.57324742,
          32043835.379388448,
          7726022.229471347,
          81213093.19611205,
          142997176.6131983,
          64126357.41412418,
          20032185.69248397,
          14991174.240531951,
          254564841.11024916,
          17410013.947590873,
          33138951.44546793,
          702822.4954785116,
          34483819.22655613,
          90572267.32066217,
          96462954.15959252,
          68952281.55339806,
          185498970.57020235,
          33010845.382056657,
          38721044.97955475,
          63838966.29213484,
          31277912.79510682,
          22709639.77017237,
          106033599.65349941,
          80908169.72836421,
          9369666.26335668,
          304866.8857819501,
          20208763.84528986,
          70869529.84032105,
          30750720.481328152,
          68692923.15959162,
          17210618.12812699,
          61692919.40222032,
          72890629.04270121,
          36372006.7935797,
          65569302.928003214,
          191769520.48417133,
          108284749.63904129,
          20307345.92913267,
          11021774.452876104,
          301135522.0527155,
          6946083.978864867,
          28899346.387744386,
          323033803.6179206,
          166619.0568120127,
          151899375.68744367,
          11098519.915711628,
          77301605.44217686,
          36422326.79148298,
          24661036.74920425,
          11178935.142117212,
          67418190.4479383,
          61988536.11435746,
          47387710.704665504,
          37425652.86720329,
          16377100.19058379,
          788446669.5132365,
          2161967.1023178278,
          11705792.701369863,
          114189607.74874498,
          51121841.788678735,
          13821841.409112666,
          8533468.777331686,
          1660247.263840187,
          15388477.581942067,
          76388433.09938936,
          97180923.57014593,
          27387788.79320243,
          318399825.6537983,
          36170650.17023248,
          27668189.614746585,
          8416302.235011911,
          85161149.13814639,
          53062.35350460933,
          26041946.768332023,
          174100139.47590873,
          243460978.33413577,
          4969805.260927355,
          117069935.10245657,
          902597.5837030365,
          39500611.10896798,
          14591763.723916534,
          13310834.641335187,
          19965700.803212848,
          27943819.366377104,
          87522485.23748395,
          96994953.70998117,
          3217252.54813137,
          14107905.408264073,
          31307705.79779588,
          17032229.82762928,
          20603566.761294402,
          83247882.78388278,
          22104217.242452532,
          14518796.738965718,
          13412042.853532564,
          5281996.901146576,
          14363606.026898574,
          1475577.7635633764,
          1266227.054927837,
          30053784.713038877,
          1062212.2727569651,
          4769771.758663736,
          15578784.077999359,
          617527.4604696631,
          33799333.72992267,
          21528073.545205478,
          26336072.96009534,
          354838121.4089433,
          25357232.483930737,
          17054383.91115113,
          301884756.5694485,
          17971942.340339717,
          51031326.44274001,
          33257552.579111498,
          606520.5050271063,
          8312168.75990015,
          37693213.299616836,
          24820644.35944141,
          45101722.92446152,
          31303955.922865015,
          143406079.96569467,
          132254841.7132216,
          13414541.317879375,
          14931098.537749078,
          70784358.47973362,
          68276279.46558043,
          7910009.720989159,
          11147020.264128495,
          44239149.496885486,
          1511110.5776479228,
          7773903.8513513515,
          6744920.209608766,
          3471426.097120391,
          168545476.11984572,
          1322923.5417970032,
          13281373.28476017,
          252080963.73080355,
          3457111.32690079,
          3155751.072436992,
          15073813.06122449,
          20261203.453453455,
          22012661.31304593,
          687387.2435152922,
          28524984.919746175,
          46948879.20673077,
          6795579.117045837,
          19811544.70734745,
          8527786.106654901,
          62266882.605400294,
          190967.59881688628,
          8223103.759106361,
          31624632.40170536,
          15265094.035464805,
          2551.234417475728,
          12545679.34086629
         ]
        }
       ],
       "layout": {
        "template": {
         "data": {
          "bar": [
           {
            "error_x": {
             "color": "#2a3f5f"
            },
            "error_y": {
             "color": "#2a3f5f"
            },
            "marker": {
             "line": {
              "color": "white",
              "width": 0.5
             },
             "pattern": {
              "fillmode": "overlay",
              "size": 10,
              "solidity": 0.2
             }
            },
            "type": "bar"
           }
          ],
          "barpolar": [
           {
            "marker": {
             "line": {
              "color": "white",
              "width": 0.5
             },
             "pattern": {
              "fillmode": "overlay",
              "size": 10,
              "solidity": 0.2
             }
            },
            "type": "barpolar"
           }
          ],
          "carpet": [
           {
            "aaxis": {
             "endlinecolor": "#2a3f5f",
             "gridcolor": "#C8D4E3",
             "linecolor": "#C8D4E3",
             "minorgridcolor": "#C8D4E3",
             "startlinecolor": "#2a3f5f"
            },
            "baxis": {
             "endlinecolor": "#2a3f5f",
             "gridcolor": "#C8D4E3",
             "linecolor": "#C8D4E3",
             "minorgridcolor": "#C8D4E3",
             "startlinecolor": "#2a3f5f"
            },
            "type": "carpet"
           }
          ],
          "choropleth": [
           {
            "colorbar": {
             "outlinewidth": 0,
             "ticks": ""
            },
            "type": "choropleth"
           }
          ],
          "contour": [
           {
            "colorbar": {
             "outlinewidth": 0,
             "ticks": ""
            },
            "colorscale": [
             [
              0,
              "#0d0887"
             ],
             [
              0.1111111111111111,
              "#46039f"
             ],
             [
              0.2222222222222222,
              "#7201a8"
             ],
             [
              0.3333333333333333,
              "#9c179e"
             ],
             [
              0.4444444444444444,
              "#bd3786"
             ],
             [
              0.5555555555555556,
              "#d8576b"
             ],
             [
              0.6666666666666666,
              "#ed7953"
             ],
             [
              0.7777777777777778,
              "#fb9f3a"
             ],
             [
              0.8888888888888888,
              "#fdca26"
             ],
             [
              1,
              "#f0f921"
             ]
            ],
            "type": "contour"
           }
          ],
          "contourcarpet": [
           {
            "colorbar": {
             "outlinewidth": 0,
             "ticks": ""
            },
            "type": "contourcarpet"
           }
          ],
          "heatmap": [
           {
            "colorbar": {
             "outlinewidth": 0,
             "ticks": ""
            },
            "colorscale": [
             [
              0,
              "#0d0887"
             ],
             [
              0.1111111111111111,
              "#46039f"
             ],
             [
              0.2222222222222222,
              "#7201a8"
             ],
             [
              0.3333333333333333,
              "#9c179e"
             ],
             [
              0.4444444444444444,
              "#bd3786"
             ],
             [
              0.5555555555555556,
              "#d8576b"
             ],
             [
              0.6666666666666666,
              "#ed7953"
             ],
             [
              0.7777777777777778,
              "#fb9f3a"
             ],
             [
              0.8888888888888888,
              "#fdca26"
             ],
             [
              1,
              "#f0f921"
             ]
            ],
            "type": "heatmap"
           }
          ],
          "heatmapgl": [
           {
            "colorbar": {
             "outlinewidth": 0,
             "ticks": ""
            },
            "colorscale": [
             [
              0,
              "#0d0887"
             ],
             [
              0.1111111111111111,
              "#46039f"
             ],
             [
              0.2222222222222222,
              "#7201a8"
             ],
             [
              0.3333333333333333,
              "#9c179e"
             ],
             [
              0.4444444444444444,
              "#bd3786"
             ],
             [
              0.5555555555555556,
              "#d8576b"
             ],
             [
              0.6666666666666666,
              "#ed7953"
             ],
             [
              0.7777777777777778,
              "#fb9f3a"
             ],
             [
              0.8888888888888888,
              "#fdca26"
             ],
             [
              1,
              "#f0f921"
             ]
            ],
            "type": "heatmapgl"
           }
          ],
          "histogram": [
           {
            "marker": {
             "pattern": {
              "fillmode": "overlay",
              "size": 10,
              "solidity": 0.2
             }
            },
            "type": "histogram"
           }
          ],
          "histogram2d": [
           {
            "colorbar": {
             "outlinewidth": 0,
             "ticks": ""
            },
            "colorscale": [
             [
              0,
              "#0d0887"
             ],
             [
              0.1111111111111111,
              "#46039f"
             ],
             [
              0.2222222222222222,
              "#7201a8"
             ],
             [
              0.3333333333333333,
              "#9c179e"
             ],
             [
              0.4444444444444444,
              "#bd3786"
             ],
             [
              0.5555555555555556,
              "#d8576b"
             ],
             [
              0.6666666666666666,
              "#ed7953"
             ],
             [
              0.7777777777777778,
              "#fb9f3a"
             ],
             [
              0.8888888888888888,
              "#fdca26"
             ],
             [
              1,
              "#f0f921"
             ]
            ],
            "type": "histogram2d"
           }
          ],
          "histogram2dcontour": [
           {
            "colorbar": {
             "outlinewidth": 0,
             "ticks": ""
            },
            "colorscale": [
             [
              0,
              "#0d0887"
             ],
             [
              0.1111111111111111,
              "#46039f"
             ],
             [
              0.2222222222222222,
              "#7201a8"
             ],
             [
              0.3333333333333333,
              "#9c179e"
             ],
             [
              0.4444444444444444,
              "#bd3786"
             ],
             [
              0.5555555555555556,
              "#d8576b"
             ],
             [
              0.6666666666666666,
              "#ed7953"
             ],
             [
              0.7777777777777778,
              "#fb9f3a"
             ],
             [
              0.8888888888888888,
              "#fdca26"
             ],
             [
              1,
              "#f0f921"
             ]
            ],
            "type": "histogram2dcontour"
           }
          ],
          "mesh3d": [
           {
            "colorbar": {
             "outlinewidth": 0,
             "ticks": ""
            },
            "type": "mesh3d"
           }
          ],
          "parcoords": [
           {
            "line": {
             "colorbar": {
              "outlinewidth": 0,
              "ticks": ""
             }
            },
            "type": "parcoords"
           }
          ],
          "pie": [
           {
            "automargin": true,
            "type": "pie"
           }
          ],
          "scatter": [
           {
            "fillpattern": {
             "fillmode": "overlay",
             "size": 10,
             "solidity": 0.2
            },
            "type": "scatter"
           }
          ],
          "scatter3d": [
           {
            "line": {
             "colorbar": {
              "outlinewidth": 0,
              "ticks": ""
             }
            },
            "marker": {
             "colorbar": {
              "outlinewidth": 0,
              "ticks": ""
             }
            },
            "type": "scatter3d"
           }
          ],
          "scattercarpet": [
           {
            "marker": {
             "colorbar": {
              "outlinewidth": 0,
              "ticks": ""
             }
            },
            "type": "scattercarpet"
           }
          ],
          "scattergeo": [
           {
            "marker": {
             "colorbar": {
              "outlinewidth": 0,
              "ticks": ""
             }
            },
            "type": "scattergeo"
           }
          ],
          "scattergl": [
           {
            "marker": {
             "colorbar": {
              "outlinewidth": 0,
              "ticks": ""
             }
            },
            "type": "scattergl"
           }
          ],
          "scattermapbox": [
           {
            "marker": {
             "colorbar": {
              "outlinewidth": 0,
              "ticks": ""
             }
            },
            "type": "scattermapbox"
           }
          ],
          "scatterpolar": [
           {
            "marker": {
             "colorbar": {
              "outlinewidth": 0,
              "ticks": ""
             }
            },
            "type": "scatterpolar"
           }
          ],
          "scatterpolargl": [
           {
            "marker": {
             "colorbar": {
              "outlinewidth": 0,
              "ticks": ""
             }
            },
            "type": "scatterpolargl"
           }
          ],
          "scatterternary": [
           {
            "marker": {
             "colorbar": {
              "outlinewidth": 0,
              "ticks": ""
             }
            },
            "type": "scatterternary"
           }
          ],
          "surface": [
           {
            "colorbar": {
             "outlinewidth": 0,
             "ticks": ""
            },
            "colorscale": [
             [
              0,
              "#0d0887"
             ],
             [
              0.1111111111111111,
              "#46039f"
             ],
             [
              0.2222222222222222,
              "#7201a8"
             ],
             [
              0.3333333333333333,
              "#9c179e"
             ],
             [
              0.4444444444444444,
              "#bd3786"
             ],
             [
              0.5555555555555556,
              "#d8576b"
             ],
             [
              0.6666666666666666,
              "#ed7953"
             ],
             [
              0.7777777777777778,
              "#fb9f3a"
             ],
             [
              0.8888888888888888,
              "#fdca26"
             ],
             [
              1,
              "#f0f921"
             ]
            ],
            "type": "surface"
           }
          ],
          "table": [
           {
            "cells": {
             "fill": {
              "color": "#EBF0F8"
             },
             "line": {
              "color": "white"
             }
            },
            "header": {
             "fill": {
              "color": "#C8D4E3"
             },
             "line": {
              "color": "white"
             }
            },
            "type": "table"
           }
          ]
         },
         "layout": {
          "annotationdefaults": {
           "arrowcolor": "#2a3f5f",
           "arrowhead": 0,
           "arrowwidth": 1
          },
          "autotypenumbers": "strict",
          "coloraxis": {
           "colorbar": {
            "outlinewidth": 0,
            "ticks": ""
           }
          },
          "colorscale": {
           "diverging": [
            [
             0,
             "#8e0152"
            ],
            [
             0.1,
             "#c51b7d"
            ],
            [
             0.2,
             "#de77ae"
            ],
            [
             0.3,
             "#f1b6da"
            ],
            [
             0.4,
             "#fde0ef"
            ],
            [
             0.5,
             "#f7f7f7"
            ],
            [
             0.6,
             "#e6f5d0"
            ],
            [
             0.7,
             "#b8e186"
            ],
            [
             0.8,
             "#7fbc41"
            ],
            [
             0.9,
             "#4d9221"
            ],
            [
             1,
             "#276419"
            ]
           ],
           "sequential": [
            [
             0,
             "#0d0887"
            ],
            [
             0.1111111111111111,
             "#46039f"
            ],
            [
             0.2222222222222222,
             "#7201a8"
            ],
            [
             0.3333333333333333,
             "#9c179e"
            ],
            [
             0.4444444444444444,
             "#bd3786"
            ],
            [
             0.5555555555555556,
             "#d8576b"
            ],
            [
             0.6666666666666666,
             "#ed7953"
            ],
            [
             0.7777777777777778,
             "#fb9f3a"
            ],
            [
             0.8888888888888888,
             "#fdca26"
            ],
            [
             1,
             "#f0f921"
            ]
           ],
           "sequentialminus": [
            [
             0,
             "#0d0887"
            ],
            [
             0.1111111111111111,
             "#46039f"
            ],
            [
             0.2222222222222222,
             "#7201a8"
            ],
            [
             0.3333333333333333,
             "#9c179e"
            ],
            [
             0.4444444444444444,
             "#bd3786"
            ],
            [
             0.5555555555555556,
             "#d8576b"
            ],
            [
             0.6666666666666666,
             "#ed7953"
            ],
            [
             0.7777777777777778,
             "#fb9f3a"
            ],
            [
             0.8888888888888888,
             "#fdca26"
            ],
            [
             1,
             "#f0f921"
            ]
           ]
          },
          "colorway": [
           "#636efa",
           "#EF553B",
           "#00cc96",
           "#ab63fa",
           "#FFA15A",
           "#19d3f3",
           "#FF6692",
           "#B6E880",
           "#FF97FF",
           "#FECB52"
          ],
          "font": {
           "color": "#2a3f5f"
          },
          "geo": {
           "bgcolor": "white",
           "lakecolor": "white",
           "landcolor": "white",
           "showlakes": true,
           "showland": true,
           "subunitcolor": "#C8D4E3"
          },
          "hoverlabel": {
           "align": "left"
          },
          "hovermode": "closest",
          "mapbox": {
           "style": "light"
          },
          "paper_bgcolor": "white",
          "plot_bgcolor": "white",
          "polar": {
           "angularaxis": {
            "gridcolor": "#EBF0F8",
            "linecolor": "#EBF0F8",
            "ticks": ""
           },
           "bgcolor": "white",
           "radialaxis": {
            "gridcolor": "#EBF0F8",
            "linecolor": "#EBF0F8",
            "ticks": ""
           }
          },
          "scene": {
           "xaxis": {
            "backgroundcolor": "white",
            "gridcolor": "#DFE8F3",
            "gridwidth": 2,
            "linecolor": "#EBF0F8",
            "showbackground": true,
            "ticks": "",
            "zerolinecolor": "#EBF0F8"
           },
           "yaxis": {
            "backgroundcolor": "white",
            "gridcolor": "#DFE8F3",
            "gridwidth": 2,
            "linecolor": "#EBF0F8",
            "showbackground": true,
            "ticks": "",
            "zerolinecolor": "#EBF0F8"
           },
           "zaxis": {
            "backgroundcolor": "white",
            "gridcolor": "#DFE8F3",
            "gridwidth": 2,
            "linecolor": "#EBF0F8",
            "showbackground": true,
            "ticks": "",
            "zerolinecolor": "#EBF0F8"
           }
          },
          "shapedefaults": {
           "line": {
            "color": "#2a3f5f"
           }
          },
          "ternary": {
           "aaxis": {
            "gridcolor": "#DFE8F3",
            "linecolor": "#A2B1C6",
            "ticks": ""
           },
           "baxis": {
            "gridcolor": "#DFE8F3",
            "linecolor": "#A2B1C6",
            "ticks": ""
           },
           "bgcolor": "white",
           "caxis": {
            "gridcolor": "#DFE8F3",
            "linecolor": "#A2B1C6",
            "ticks": ""
           }
          },
          "title": {
           "x": 0.05
          },
          "xaxis": {
           "automargin": true,
           "gridcolor": "#EBF0F8",
           "linecolor": "#EBF0F8",
           "ticks": "",
           "title": {
            "standoff": 15
           },
           "zerolinecolor": "#EBF0F8",
           "zerolinewidth": 2
          },
          "yaxis": {
           "automargin": true,
           "gridcolor": "#EBF0F8",
           "linecolor": "#EBF0F8",
           "ticks": "",
           "title": {
            "standoff": 15
           },
           "zerolinecolor": "#EBF0F8",
           "zerolinewidth": 2
          }
         }
        },
        "title": {
         "text": "Revenue of matched Nobs and Bobs"
        },
        "xaxis": {
         "title": {
          "text": "Revenue [$]"
         },
         "type": "log"
        },
        "yaxis": {
         "title": {
          "text": ""
         }
        }
       }
      }
     },
     "metadata": {},
     "output_type": "display_data"
    }
   ],
   "source": [
    "import plotly.graph_objects as go\n",
    "\n",
    "df_boxplot = pd.DataFrame()\n",
    "df_boxplot['NOB'] = X_not_book[\"notnorm_revenue\"][[pairs[i][1] for i in range(len(pairs))]].reset_index(drop=True)\n",
    "df_boxplot[\"BOB\"] = X_book[\"notnorm_revenue\"][np.sort([pairs[i][0] for i in range(len(pairs))])].reset_index(drop=True)\n",
    "# plt.boxplot(df_boxplot, labels=[\"NOB\", \"BOB\"], whis=(0, 100), )\n",
    "# plt.grid()\n",
    "# plt.yscale('log')\n",
    "\n",
    "# fig = plx.box(df_boxplot, x=['NOB', 'BOB'], title='Revenue of NOB and BOB that were matched', labels={\"variable\":\"\", \"value\":'Revenue [$]'}, )\n",
    "# fig.update_layout(xaxis_type='log')\n",
    "# fig.show()\n",
    "\n",
    "# Create box plot using plotly.graph_objects\n",
    "fig = go.Figure()\n",
    "\n",
    "# Add traces for NOB and BOB\n",
    "fig.add_trace(go.Box(x=df_boxplot['NOB'], name='NOB', boxmean=True, orientation='h', marker_color = '#44AA99', legendrank=2))\n",
    "fig.add_trace(go.Box(x=df_boxplot['BOB'], name='BOB', boxmean=True, orientation='h', marker_color = 'sandybrown' ,legendrank=1))\n",
    "\n",
    "# Update layout with title, labels, and log scale\n",
    "fig.update_layout(\n",
    "    title='Revenue of matched Nobs and Bobs',\n",
    "    xaxis=dict(\n",
    "        title='Revenue [$]',\n",
    "        type='log'\n",
    "    ),\n",
    "    yaxis=dict(\n",
    "        title=''\n",
    "    )\n",
    ")\n",
    "fig.update_layout(\n",
    "        width=None,\n",
    "        height=None,\n",
    "        template='plotly_white'\n",
    "    )\n",
    "\n",
    "# Show the figure\n",
    "fig.show()\n",
    "\n",
    "html_content = f\"\"\"\n",
    "        <!DOCTYPE html>\n",
    "        <html>\n",
    "        <head>\n",
    "            <style>\n",
    "                .plotly-graph-div {{\n",
    "                    width: 100% !important;\n",
    "                    height: 100% !important;\n",
    "                }}\n",
    "            </style>\n",
    "        </head>\n",
    "        <body>\n",
    "            <div id=\"plotly-div\"></div>\n",
    "            <script src=\"https://cdn.plot.ly/plotly-latest.min.js\"></script>\n",
    "            <script>\n",
    "                var plotly_data = {fig.to_json()};\n",
    "                Plotly.newPlot('plotly-div', plotly_data.data, plotly_data.layout);\n",
    "            </script>\n",
    "        </body>\n",
    "        </html>\n",
    "        \"\"\"\n",
    "\n",
    "with open('matches.html', 'w') as f:\n",
    "    f.write(html_content)"
   ]
  },
  {
   "cell_type": "code",
   "execution_count": 30,
   "metadata": {},
   "outputs": [
    {
     "data": {
      "text/plain": [
       "<matplotlib.legend.Legend at 0x24b1529a9d0>"
      ]
     },
     "execution_count": 30,
     "metadata": {},
     "output_type": "execute_result"
    },
    {
     "data": {
      "image/png": "[encoded data removed]",
      "text/plain": [
       "<Figure size 640x480 with 1 Axes>"
      ]
     },
     "metadata": {},
     "output_type": "display_data"
    }
   ],
   "source": [
    "bins = 10**(np.arange(2, 10, step=0.1))\n",
    "plt.xscale('log')\n",
    "\n",
    "plt.hist(X_not_book[\"notnorm_revenue\"][[pairs[i][1] for i in range(len(pairs))]], bins=bins, alpha=0.7)\n",
    "plt.hist(X_book[\"notnorm_revenue\"][np.sort([pairs[i][0] for i in range(len(pairs))])], bins=bins, alpha=0.7)\n",
    "plt.legend([\"NOB\", \"BOB\"])"
   ]
  },
  {
   "cell_type": "code",
   "execution_count": 31,
   "metadata": {},
   "outputs": [
    {
     "name": "stdout",
     "output_type": "stream",
     "text": [
      "The biggest total revenue is found with Gone with the Wind and Cinderella with a difference of: 4255648255\n",
      "6848513399.705729\n",
      "2592865144.875727\n",
      "The biggest total revenue is found with Jaws and Mulan with a difference of: 1628410505\n",
      "2070373249.6159801\n",
      "441962744.46696794\n",
      "The biggest total revenue is found with Pinocchio and Saw with a difference of: 1294404644\n",
      "1424641916.7162404\n",
      "130237272.6956437\n",
      "The biggest total revenue is found with The Lord of the Rings: The Fellowship of the Ring and Pulp Fiction with a difference of: 823381448\n",
      "1165009824.4425712\n",
      "341628376.1173891\n",
      "The biggest total revenue is found with Love Story and Melancholia with a difference of: 814918931\n",
      "831701561.7085212\n",
      "16782630.441457875\n",
      "The biggest total revenue is found with Song of the South and The Bride Wore Red with a difference of: 768695796\n",
      "788446669.5132365\n",
      "19750873.69640788\n",
      "The biggest total revenue is found with Dances with Wolves and Raging Bull with a difference of: 702539517\n",
      "768612104.4066789\n",
      "66072587.72373344\n",
      "The biggest total revenue is found with Harry Potter and the Goblet of Fire and The Wolf of Wall Street with a difference of: 687692919\n",
      "1086052033.4474182\n",
      "398359114.0714402\n",
      "The biggest total revenue is found with The Da Vinci Code and The Social Network with a difference of: 657489417\n",
      "901678502.6757083\n",
      "244189085.70780906\n",
      "The biggest total revenue is found with Jaws 2 and Dredd with a difference of: 639529383\n",
      "681843734.2128743\n",
      "42314351.66394434\n",
      "The biggest total revenue is found with Cape Fear and Meet Joe Black with a difference of: 598485691\n",
      "806076865.0137742\n",
      "207591174.2975308\n",
      "The biggest total revenue is found with The Spy Who Loved Me and Cavalcade with a difference of: 584661372\n",
      "724323507.7317228\n",
      "139662135.43814433\n",
      "The biggest total revenue is found with Goldfinger and Taken 2 with a difference of: 565318198\n",
      "953160577.3393552\n",
      "387842379.276601\n",
      "The biggest total revenue is found with The Chronicles of Narnia: The Lion, the Witch and the Wardrobe and Alien with a difference of: 560836165\n",
      "903118663.3402647\n",
      "342282498.5211092\n",
      "The biggest total revenue is found with Who Framed Roger Rabbit and Coraline with a difference of: 522727111\n",
      "660220067.0995504\n",
      "137492956.30435154\n",
      "The biggest total revenue is found with Rambo: First Blood Part II and The Untouchables with a difference of: 502222426\n",
      "661130896.219622\n",
      "158908470.05400512\n",
      "The biggest total revenue is found with The Towering Inferno and Destination Tokyo with a difference of: 494781197\n",
      "556932134.5276322\n",
      "62150937.39046702\n",
      "The biggest total revenue is found with The Poseidon Adventure and Crossroads with a difference of: 445095419\n",
      "478736111.5193543\n",
      "33640692.41836735\n",
      "The biggest total revenue is found with The Lost World: Jurassic Park and How the Grinch Stole Christmas with a difference of: 436963947\n",
      "912392639.4378393\n",
      "475428692.4193573\n",
      "The biggest total revenue is found with Moonraker and Lethal Weapon with a difference of: 435564985\n",
      "686014924.9219956\n",
      "250449940.17155698\n"
     ]
    }
   ],
   "source": [
    "for item in range(20):\n",
    "    i = total_rev.index(np.sort(total_rev)[-(item + 1)])\n",
    "    print(\"The biggest total revenue is found with %s and %s with a difference of: %.0f\" % (X_book[\"title\"][pairs[i][0]], X_not_book[\"title\"][pairs[i][1]], book_perc[i]))\n",
    "    print(X_book[\"notnorm_revenue\"][pairs[i][0]])\n",
    "    print(X_not_book[\"notnorm_revenue\"][pairs[i][1]])"
   ]
  }
 ],
 "metadata": {
  "kernelspec": {
   "display_name": "base",
   "language": "python",
   "name": "python3"
  },
  "language_info": {
   "codemirror_mode": {
    "name": "ipython",
    "version": 3
   },
   "file_extension": ".py",
   "mimetype": "text/x-python",
   "name": "python",
   "nbconvert_exporter": "python",
   "pygments_lexer": "ipython3",
   "version": "3.9.19"
  }
 },
 "nbformat": 4,
 "nbformat_minor": 2
}
