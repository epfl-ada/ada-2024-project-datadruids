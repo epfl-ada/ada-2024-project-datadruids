{
 "cells": [
  {
   "cell_type": "code",
   "execution_count": 2,
   "metadata": {},
   "outputs": [
    {
     "name": "stderr",
     "output_type": "stream",
     "text": [
      "c:\\Users\\franz\\anaconda3\\envs\\ada\\Lib\\site-packages\\tqdm\\auto.py:21: TqdmWarning: IProgress not found. Please update jupyter and ipywidgets. See https://ipywidgets.readthedocs.io/en/stable/user_install.html\n",
      "  from .autonotebook import tqdm as notebook_tqdm\n"
     ]
    }
   ],
   "source": [
    "import numpy as np\n",
    "import pandas as pd \n",
    "from datasets import load_dataset\n",
    "import tqdm as tqdm\n",
    "import matplotlib.pyplot as plt\n",
    "import plotly.express as px\n"
   ]
  },
  {
   "cell_type": "code",
   "execution_count": 3,
   "metadata": {},
   "outputs": [],
   "source": [
    "regression_dataset = load_dataset(\"ada-datadruids/regression_dataset_tmdb\")\n",
    "regression_dataset_df = regression_dataset['train'].to_pandas()"
   ]
  },
  {
   "cell_type": "code",
   "execution_count": 4,
   "metadata": {},
   "outputs": [
    {
     "data": {
      "text/plain": [
       "Index(['id', 'title', 'vote_average', 'vote_count', 'status', 'release_date',\n",
       "       'revenue', 'runtime', 'adult', 'backdrop_path', 'budget', 'homepage',\n",
       "       'imdb_id', 'original_language', 'original_title', 'overview',\n",
       "       'popularity', 'poster_path', 'tagline', 'genres',\n",
       "       'production_companies', 'production_countries', 'spoken_languages',\n",
       "       'keywords', 'based_on_book'],\n",
       "      dtype='object')"
      ]
     },
     "execution_count": 4,
     "metadata": {},
     "output_type": "execute_result"
    }
   ],
   "source": [
    "regression_dataset_df.columns"
   ]
  },
  {
   "cell_type": "code",
   "execution_count": 5,
   "metadata": {},
   "outputs": [
    {
     "data": {
      "text/plain": [
       "Index(['Unnamed: 0', 'movie_id', 'movie_cluster', 'movie_name', 'release_date',\n",
       "       'runtime_x', 'language', 'country', 'genres', 'movie_year', 'index',\n",
       "       'id', 'BookTitle', 'BookYear', 'Author', 'full name', 'tmdb_id',\n",
       "       'id_goodreads', 'imdbid', 'runtime_y', 'revenue', 'budget', 'rb_ratio',\n",
       "       'book_id', 'normalized_rating_x', 'standardized_rating_x',\n",
       "       'normalized_rating_y', 'standardized_rating_y', 'length',\n",
       "       'review_count'],\n",
       "      dtype='object')"
      ]
     },
     "execution_count": 5,
     "metadata": {},
     "output_type": "execute_result"
    }
   ],
   "source": [
    "books_movie_dataset = pd.read_csv(\"../data/final_dataset.csv\")\n",
    "books_movie_dataset.columns"
   ]
  },
  {
   "cell_type": "code",
   "execution_count": 6,
   "metadata": {},
   "outputs": [],
   "source": [
    "from utils.general_utils import adjust_for_inflation_final_dataset\n",
    "books_movie_dataset_cleaned = books_movie_dataset[books_movie_dataset['revenue'] != 0]\n",
    "books_movie_dataset_cleaned = adjust_for_inflation_final_dataset(books_movie_dataset, books_movie_dataset_cleaned)"
   ]
  },
  {
   "cell_type": "code",
   "execution_count": 7,
   "metadata": {},
   "outputs": [
    {
     "name": "stdout",
     "output_type": "stream",
     "text": [
      "        book_id                                   BookTitle  adaptation_count\n",
      "297    414895.0                       La Planète des singes                 7\n",
      "629  35031085.0                                Frankenstein                 7\n",
      "405    897831.0                                The Exorcist                 5\n",
      "114     34268.0  Peter Pan, or The Boy Who Wouldn't Grow Up                 5\n",
      "47       7190.0                     Les Trois Mousquetaires                 5\n",
      "..          ...                                         ...               ...\n",
      "50       7604.0                                      Lolita                 2\n",
      "16       2493.0                            The Time Machine                 2\n",
      "618  19161905.0                                 The Getaway                 2\n",
      "632  40940649.0                                 I Am Legend                 2\n",
      "574   6356906.0                     The Apple Dumpling Gang                 2\n",
      "\n",
      "[87 rows x 3 columns]\n"
     ]
    }
   ],
   "source": [
    "book_adaptations = books_movie_dataset_cleaned.groupby(['book_id', 'BookTitle']).size().reset_index(name='adaptation_count')\n",
    "\n",
    "# Sort by 'adaptation_count' in descending order to see the most frequently adapted books\n",
    "book_adaptations = book_adaptations.sort_values(by='adaptation_count', ascending=False)\n",
    "\n",
    "# Display the top books with the most adaptations\n",
    "print(book_adaptations[book_adaptations.adaptation_count > 1])"
   ]
  },
  {
   "cell_type": "code",
   "execution_count": 8,
   "metadata": {},
   "outputs": [],
   "source": [
    "Planete_singes=books_movie_dataset_cleaned[books_movie_dataset_cleaned['BookTitle']=='La Planète des singes']\n",
    "frankenstein = books_movie_dataset_cleaned[books_movie_dataset_cleaned['BookTitle']=='Frankenstein']\n",
    "exorcist= books_movie_dataset_cleaned[books_movie_dataset_cleaned['BookTitle']=='The Exorcist']\n",
    "peter_pan=books_movie_dataset_cleaned[books_movie_dataset_cleaned['BookTitle']==\"Peter Pan, or The Boy Who Wouldn't Grow Up\"]\n",
    "trois_mousquetaires=books_movie_dataset_cleaned[books_movie_dataset_cleaned['BookTitle']=='Les Trois Mousquetaires']"
   ]
  },
  {
   "cell_type": "code",
   "execution_count": 9,
   "metadata": {},
   "outputs": [],
   "source": [
    "books_with_multiple_films = ['La Planète des singes', 'Frankenstein', 'The Exorcist',\"Peter Pan, or The Boy Who Wouldn't Grow Up\", 'Les Trois Mousquetaires']\n",
    "books_movie_dataset_cleaned['BookIdentifier'] = books_movie_dataset_cleaned['BookTitle'].where(books_movie_dataset_cleaned['BookTitle'].isin(books_with_multiple_films))\n",
    "books_filtered = books_movie_dataset_cleaned[books_movie_dataset_cleaned['BookIdentifier'].notnull()]"
   ]
  },
  {
   "cell_type": "code",
   "execution_count": 10,
   "metadata": {},
   "outputs": [
    {
     "data": {
      "application/vnd.plotly.v1+json": {
       "config": {
        "plotlyServerURL": "https://plot.ly"
       },
       "data": [
        {
         "customdata": [
          [
           "Frankenstein",
           1818
          ],
          [
           "Frankenstein",
           1818
          ],
          [
           "Frankenstein",
           1818
          ],
          [
           "Frankenstein",
           1818
          ],
          [
           "Frankenstein",
           1818
          ],
          [
           "Frankenstein",
           1818
          ],
          [
           "Frankenstein",
           1818
          ]
         ],
         "hovertemplate": "<b>Book Title:</b> %{customdata[0]}<br><b>Book Release Year:</b> %{customdata[1]}<br><b>Movie Release Year:</b> %{x}<br><b>Years to Movie Release:</b> %{y}<br>",
         "legendgroup": "Frankenstein",
         "marker": {
          "color": "#636efa",
          "symbol": "circle"
         },
         "mode": "markers",
         "name": "Frankenstein",
         "orientation": "v",
         "showlegend": true,
         "type": "scatter",
         "x": [
          1948,
          1957,
          1985,
          1931,
          1974,
          1990,
          2004
         ],
         "xaxis": "x",
         "y": [
          4812444,
          8000000,
          3558669,
          12000000,
          86273333,
          334748,
          300257475
         ],
         "yaxis": "y"
        },
        {
         "customdata": [
          [
           "La Planète des singes",
           1963
          ],
          [
           "La Planète des singes",
           1963
          ],
          [
           "La Planète des singes",
           1963
          ],
          [
           "La Planète des singes",
           1963
          ],
          [
           "La Planète des singes",
           1963
          ],
          [
           "La Planète des singes",
           1963
          ],
          [
           "La Planète des singes",
           1963
          ]
         ],
         "hovertemplate": "<b>Book Title:</b> %{customdata[0]}<br><b>Book Release Year:</b> %{customdata[1]}<br><b>Movie Release Year:</b> %{x}<br><b>Years to Movie Release:</b> %{y}<br>",
         "legendgroup": "La Planète des singes",
         "marker": {
          "color": "#EF553B",
          "symbol": "circle"
         },
         "mode": "markers",
         "name": "La Planète des singes",
         "orientation": "v",
         "showlegend": true,
         "type": "scatter",
         "x": [
          1972,
          1968,
          2011,
          1971,
          1973,
          2001,
          1970
         ],
         "xaxis": "x",
         "y": [
          9700000,
          32589624,
          482860185,
          12348905,
          8844595,
          362211740,
          18999718
         ],
         "yaxis": "y"
        },
        {
         "customdata": [
          [
           "Peter Pan, or The Boy Who Wouldn't Grow Up",
           1911
          ],
          [
           "Peter Pan, or The Boy Who Wouldn't Grow Up",
           1911
          ],
          [
           "Peter Pan, or The Boy Who Wouldn't Grow Up",
           1911
          ],
          [
           "Peter Pan, or The Boy Who Wouldn't Grow Up",
           1911
          ],
          [
           "Peter Pan, or The Boy Who Wouldn't Grow Up",
           1911
          ]
         ],
         "hovertemplate": "<b>Book Title:</b> %{customdata[0]}<br><b>Book Release Year:</b> %{customdata[1]}<br><b>Movie Release Year:</b> %{x}<br><b>Years to Movie Release:</b> %{y}<br>",
         "legendgroup": "Peter Pan, or The Boy Who Wouldn't Grow Up",
         "marker": {
          "color": "#00cc96",
          "symbol": "circle"
         },
         "mode": "markers",
         "name": "Peter Pan, or The Boy Who Wouldn't Grow Up",
         "orientation": "v",
         "showlegend": true,
         "type": "scatter",
         "x": [
          2002,
          1953,
          2003,
          1991,
          2004
         ],
         "xaxis": "x",
         "y": [
          109862682,
          87404651,
          121975011,
          300855000,
          116766556
         ],
         "yaxis": "y"
        },
        {
         "customdata": [
          [
           "The Exorcist",
           1971
          ],
          [
           "The Exorcist",
           1971
          ],
          [
           "The Exorcist",
           1971
          ],
          [
           "The Exorcist",
           1971
          ],
          [
           "The Exorcist",
           1971
          ]
         ],
         "hovertemplate": "<b>Book Title:</b> %{customdata[0]}<br><b>Book Release Year:</b> %{customdata[1]}<br><b>Movie Release Year:</b> %{x}<br><b>Years to Movie Release:</b> %{y}<br>",
         "legendgroup": "The Exorcist",
         "marker": {
          "color": "#ab63fa",
          "symbol": "circle"
         },
         "mode": "markers",
         "name": "The Exorcist",
         "orientation": "v",
         "showlegend": true,
         "type": "scatter",
         "x": [
          1973,
          2004,
          1990,
          2005,
          1977
         ],
         "xaxis": "x",
         "y": [
          441405644,
          78000586,
          39024251,
          251495,
          30749142
         ],
         "yaxis": "y"
        },
        {
         "customdata": [
          [
           "Les Trois Mousquetaires",
           1844
          ],
          [
           "Les Trois Mousquetaires",
           1844
          ],
          [
           "Les Trois Mousquetaires",
           1844
          ],
          [
           "Les Trois Mousquetaires",
           1844
          ],
          [
           "Les Trois Mousquetaires",
           1844
          ]
         ],
         "hovertemplate": "<b>Book Title:</b> %{customdata[0]}<br><b>Book Release Year:</b> %{customdata[1]}<br><b>Movie Release Year:</b> %{x}<br><b>Years to Movie Release:</b> %{y}<br>",
         "legendgroup": "Les Trois Mousquetaires",
         "marker": {
          "color": "#FFA15A",
          "symbol": "circle"
         },
         "mode": "markers",
         "name": "Les Trois Mousquetaires",
         "orientation": "v",
         "showlegend": true,
         "type": "scatter",
         "x": [
          1973,
          2004,
          2011,
          2001,
          1993
         ],
         "xaxis": "x",
         "y": [
          22018000,
          null,
          132274484,
          27053815,
          53898845
         ],
         "yaxis": "y"
        }
       ],
       "layout": {
        "legend": {
         "title": {
          "text": "BookIdentifier"
         },
         "tracegroupgap": 0
        },
        "template": {
         "data": {
          "bar": [
           {
            "error_x": {
             "color": "#2a3f5f"
            },
            "error_y": {
             "color": "#2a3f5f"
            },
            "marker": {
             "line": {
              "color": "white",
              "width": 0.5
             },
             "pattern": {
              "fillmode": "overlay",
              "size": 10,
              "solidity": 0.2
             }
            },
            "type": "bar"
           }
          ],
          "barpolar": [
           {
            "marker": {
             "line": {
              "color": "white",
              "width": 0.5
             },
             "pattern": {
              "fillmode": "overlay",
              "size": 10,
              "solidity": 0.2
             }
            },
            "type": "barpolar"
           }
          ],
          "carpet": [
           {
            "aaxis": {
             "endlinecolor": "#2a3f5f",
             "gridcolor": "#C8D4E3",
             "linecolor": "#C8D4E3",
             "minorgridcolor": "#C8D4E3",
             "startlinecolor": "#2a3f5f"
            },
            "baxis": {
             "endlinecolor": "#2a3f5f",
             "gridcolor": "#C8D4E3",
             "linecolor": "#C8D4E3",
             "minorgridcolor": "#C8D4E3",
             "startlinecolor": "#2a3f5f"
            },
            "type": "carpet"
           }
          ],
          "choropleth": [
           {
            "colorbar": {
             "outlinewidth": 0,
             "ticks": ""
            },
            "type": "choropleth"
           }
          ],
          "contour": [
           {
            "colorbar": {
             "outlinewidth": 0,
             "ticks": ""
            },
            "colorscale": [
             [
              0,
              "#0d0887"
             ],
             [
              0.1111111111111111,
              "#46039f"
             ],
             [
              0.2222222222222222,
              "#7201a8"
             ],
             [
              0.3333333333333333,
              "#9c179e"
             ],
             [
              0.4444444444444444,
              "#bd3786"
             ],
             [
              0.5555555555555556,
              "#d8576b"
             ],
             [
              0.6666666666666666,
              "#ed7953"
             ],
             [
              0.7777777777777778,
              "#fb9f3a"
             ],
             [
              0.8888888888888888,
              "#fdca26"
             ],
             [
              1,
              "#f0f921"
             ]
            ],
            "type": "contour"
           }
          ],
          "contourcarpet": [
           {
            "colorbar": {
             "outlinewidth": 0,
             "ticks": ""
            },
            "type": "contourcarpet"
           }
          ],
          "heatmap": [
           {
            "colorbar": {
             "outlinewidth": 0,
             "ticks": ""
            },
            "colorscale": [
             [
              0,
              "#0d0887"
             ],
             [
              0.1111111111111111,
              "#46039f"
             ],
             [
              0.2222222222222222,
              "#7201a8"
             ],
             [
              0.3333333333333333,
              "#9c179e"
             ],
             [
              0.4444444444444444,
              "#bd3786"
             ],
             [
              0.5555555555555556,
              "#d8576b"
             ],
             [
              0.6666666666666666,
              "#ed7953"
             ],
             [
              0.7777777777777778,
              "#fb9f3a"
             ],
             [
              0.8888888888888888,
              "#fdca26"
             ],
             [
              1,
              "#f0f921"
             ]
            ],
            "type": "heatmap"
           }
          ],
          "heatmapgl": [
           {
            "colorbar": {
             "outlinewidth": 0,
             "ticks": ""
            },
            "colorscale": [
             [
              0,
              "#0d0887"
             ],
             [
              0.1111111111111111,
              "#46039f"
             ],
             [
              0.2222222222222222,
              "#7201a8"
             ],
             [
              0.3333333333333333,
              "#9c179e"
             ],
             [
              0.4444444444444444,
              "#bd3786"
             ],
             [
              0.5555555555555556,
              "#d8576b"
             ],
             [
              0.6666666666666666,
              "#ed7953"
             ],
             [
              0.7777777777777778,
              "#fb9f3a"
             ],
             [
              0.8888888888888888,
              "#fdca26"
             ],
             [
              1,
              "#f0f921"
             ]
            ],
            "type": "heatmapgl"
           }
          ],
          "histogram": [
           {
            "marker": {
             "pattern": {
              "fillmode": "overlay",
              "size": 10,
              "solidity": 0.2
             }
            },
            "type": "histogram"
           }
          ],
          "histogram2d": [
           {
            "colorbar": {
             "outlinewidth": 0,
             "ticks": ""
            },
            "colorscale": [
             [
              0,
              "#0d0887"
             ],
             [
              0.1111111111111111,
              "#46039f"
             ],
             [
              0.2222222222222222,
              "#7201a8"
             ],
             [
              0.3333333333333333,
              "#9c179e"
             ],
             [
              0.4444444444444444,
              "#bd3786"
             ],
             [
              0.5555555555555556,
              "#d8576b"
             ],
             [
              0.6666666666666666,
              "#ed7953"
             ],
             [
              0.7777777777777778,
              "#fb9f3a"
             ],
             [
              0.8888888888888888,
              "#fdca26"
             ],
             [
              1,
              "#f0f921"
             ]
            ],
            "type": "histogram2d"
           }
          ],
          "histogram2dcontour": [
           {
            "colorbar": {
             "outlinewidth": 0,
             "ticks": ""
            },
            "colorscale": [
             [
              0,
              "#0d0887"
             ],
             [
              0.1111111111111111,
              "#46039f"
             ],
             [
              0.2222222222222222,
              "#7201a8"
             ],
             [
              0.3333333333333333,
              "#9c179e"
             ],
             [
              0.4444444444444444,
              "#bd3786"
             ],
             [
              0.5555555555555556,
              "#d8576b"
             ],
             [
              0.6666666666666666,
              "#ed7953"
             ],
             [
              0.7777777777777778,
              "#fb9f3a"
             ],
             [
              0.8888888888888888,
              "#fdca26"
             ],
             [
              1,
              "#f0f921"
             ]
            ],
            "type": "histogram2dcontour"
           }
          ],
          "mesh3d": [
           {
            "colorbar": {
             "outlinewidth": 0,
             "ticks": ""
            },
            "type": "mesh3d"
           }
          ],
          "parcoords": [
           {
            "line": {
             "colorbar": {
              "outlinewidth": 0,
              "ticks": ""
             }
            },
            "type": "parcoords"
           }
          ],
          "pie": [
           {
            "automargin": true,
            "type": "pie"
           }
          ],
          "scatter": [
           {
            "fillpattern": {
             "fillmode": "overlay",
             "size": 10,
             "solidity": 0.2
            },
            "type": "scatter"
           }
          ],
          "scatter3d": [
           {
            "line": {
             "colorbar": {
              "outlinewidth": 0,
              "ticks": ""
             }
            },
            "marker": {
             "colorbar": {
              "outlinewidth": 0,
              "ticks": ""
             }
            },
            "type": "scatter3d"
           }
          ],
          "scattercarpet": [
           {
            "marker": {
             "colorbar": {
              "outlinewidth": 0,
              "ticks": ""
             }
            },
            "type": "scattercarpet"
           }
          ],
          "scattergeo": [
           {
            "marker": {
             "colorbar": {
              "outlinewidth": 0,
              "ticks": ""
             }
            },
            "type": "scattergeo"
           }
          ],
          "scattergl": [
           {
            "marker": {
             "colorbar": {
              "outlinewidth": 0,
              "ticks": ""
             }
            },
            "type": "scattergl"
           }
          ],
          "scattermapbox": [
           {
            "marker": {
             "colorbar": {
              "outlinewidth": 0,
              "ticks": ""
             }
            },
            "type": "scattermapbox"
           }
          ],
          "scatterpolar": [
           {
            "marker": {
             "colorbar": {
              "outlinewidth": 0,
              "ticks": ""
             }
            },
            "type": "scatterpolar"
           }
          ],
          "scatterpolargl": [
           {
            "marker": {
             "colorbar": {
              "outlinewidth": 0,
              "ticks": ""
             }
            },
            "type": "scatterpolargl"
           }
          ],
          "scatterternary": [
           {
            "marker": {
             "colorbar": {
              "outlinewidth": 0,
              "ticks": ""
             }
            },
            "type": "scatterternary"
           }
          ],
          "surface": [
           {
            "colorbar": {
             "outlinewidth": 0,
             "ticks": ""
            },
            "colorscale": [
             [
              0,
              "#0d0887"
             ],
             [
              0.1111111111111111,
              "#46039f"
             ],
             [
              0.2222222222222222,
              "#7201a8"
             ],
             [
              0.3333333333333333,
              "#9c179e"
             ],
             [
              0.4444444444444444,
              "#bd3786"
             ],
             [
              0.5555555555555556,
              "#d8576b"
             ],
             [
              0.6666666666666666,
              "#ed7953"
             ],
             [
              0.7777777777777778,
              "#fb9f3a"
             ],
             [
              0.8888888888888888,
              "#fdca26"
             ],
             [
              1,
              "#f0f921"
             ]
            ],
            "type": "surface"
           }
          ],
          "table": [
           {
            "cells": {
             "fill": {
              "color": "#EBF0F8"
             },
             "line": {
              "color": "white"
             }
            },
            "header": {
             "fill": {
              "color": "#C8D4E3"
             },
             "line": {
              "color": "white"
             }
            },
            "type": "table"
           }
          ]
         },
         "layout": {
          "annotationdefaults": {
           "arrowcolor": "#2a3f5f",
           "arrowhead": 0,
           "arrowwidth": 1
          },
          "autotypenumbers": "strict",
          "coloraxis": {
           "colorbar": {
            "outlinewidth": 0,
            "ticks": ""
           }
          },
          "colorscale": {
           "diverging": [
            [
             0,
             "#8e0152"
            ],
            [
             0.1,
             "#c51b7d"
            ],
            [
             0.2,
             "#de77ae"
            ],
            [
             0.3,
             "#f1b6da"
            ],
            [
             0.4,
             "#fde0ef"
            ],
            [
             0.5,
             "#f7f7f7"
            ],
            [
             0.6,
             "#e6f5d0"
            ],
            [
             0.7,
             "#b8e186"
            ],
            [
             0.8,
             "#7fbc41"
            ],
            [
             0.9,
             "#4d9221"
            ],
            [
             1,
             "#276419"
            ]
           ],
           "sequential": [
            [
             0,
             "#0d0887"
            ],
            [
             0.1111111111111111,
             "#46039f"
            ],
            [
             0.2222222222222222,
             "#7201a8"
            ],
            [
             0.3333333333333333,
             "#9c179e"
            ],
            [
             0.4444444444444444,
             "#bd3786"
            ],
            [
             0.5555555555555556,
             "#d8576b"
            ],
            [
             0.6666666666666666,
             "#ed7953"
            ],
            [
             0.7777777777777778,
             "#fb9f3a"
            ],
            [
             0.8888888888888888,
             "#fdca26"
            ],
            [
             1,
             "#f0f921"
            ]
           ],
           "sequentialminus": [
            [
             0,
             "#0d0887"
            ],
            [
             0.1111111111111111,
             "#46039f"
            ],
            [
             0.2222222222222222,
             "#7201a8"
            ],
            [
             0.3333333333333333,
             "#9c179e"
            ],
            [
             0.4444444444444444,
             "#bd3786"
            ],
            [
             0.5555555555555556,
             "#d8576b"
            ],
            [
             0.6666666666666666,
             "#ed7953"
            ],
            [
             0.7777777777777778,
             "#fb9f3a"
            ],
            [
             0.8888888888888888,
             "#fdca26"
            ],
            [
             1,
             "#f0f921"
            ]
           ]
          },
          "colorway": [
           "#636efa",
           "#EF553B",
           "#00cc96",
           "#ab63fa",
           "#FFA15A",
           "#19d3f3",
           "#FF6692",
           "#B6E880",
           "#FF97FF",
           "#FECB52"
          ],
          "font": {
           "color": "#2a3f5f"
          },
          "geo": {
           "bgcolor": "white",
           "lakecolor": "white",
           "landcolor": "white",
           "showlakes": true,
           "showland": true,
           "subunitcolor": "#C8D4E3"
          },
          "hoverlabel": {
           "align": "left"
          },
          "hovermode": "closest",
          "mapbox": {
           "style": "light"
          },
          "paper_bgcolor": "white",
          "plot_bgcolor": "white",
          "polar": {
           "angularaxis": {
            "gridcolor": "#EBF0F8",
            "linecolor": "#EBF0F8",
            "ticks": ""
           },
           "bgcolor": "white",
           "radialaxis": {
            "gridcolor": "#EBF0F8",
            "linecolor": "#EBF0F8",
            "ticks": ""
           }
          },
          "scene": {
           "xaxis": {
            "backgroundcolor": "white",
            "gridcolor": "#DFE8F3",
            "gridwidth": 2,
            "linecolor": "#EBF0F8",
            "showbackground": true,
            "ticks": "",
            "zerolinecolor": "#EBF0F8"
           },
           "yaxis": {
            "backgroundcolor": "white",
            "gridcolor": "#DFE8F3",
            "gridwidth": 2,
            "linecolor": "#EBF0F8",
            "showbackground": true,
            "ticks": "",
            "zerolinecolor": "#EBF0F8"
           },
           "zaxis": {
            "backgroundcolor": "white",
            "gridcolor": "#DFE8F3",
            "gridwidth": 2,
            "linecolor": "#EBF0F8",
            "showbackground": true,
            "ticks": "",
            "zerolinecolor": "#EBF0F8"
           }
          },
          "shapedefaults": {
           "line": {
            "color": "#2a3f5f"
           }
          },
          "ternary": {
           "aaxis": {
            "gridcolor": "#DFE8F3",
            "linecolor": "#A2B1C6",
            "ticks": ""
           },
           "baxis": {
            "gridcolor": "#DFE8F3",
            "linecolor": "#A2B1C6",
            "ticks": ""
           },
           "bgcolor": "white",
           "caxis": {
            "gridcolor": "#DFE8F3",
            "linecolor": "#A2B1C6",
            "ticks": ""
           }
          },
          "title": {
           "x": 0.05
          },
          "xaxis": {
           "automargin": true,
           "gridcolor": "#EBF0F8",
           "linecolor": "#EBF0F8",
           "ticks": "",
           "title": {
            "standoff": 15
           },
           "zerolinecolor": "#EBF0F8",
           "zerolinewidth": 2
          },
          "yaxis": {
           "automargin": true,
           "gridcolor": "#EBF0F8",
           "linecolor": "#EBF0F8",
           "ticks": "",
           "title": {
            "standoff": 15
           },
           "zerolinecolor": "#EBF0F8",
           "zerolinewidth": 2
          }
         }
        },
        "title": {
         "text": "Revenue for different Books adapted multiple Times"
        },
        "xaxis": {
         "anchor": "y",
         "domain": [
          0,
          1
         ],
         "title": {
          "text": "movie_year"
         }
        },
        "yaxis": {
         "anchor": "x",
         "domain": [
          0,
          1
         ],
         "title": {
          "text": "revenue"
         }
        }
       }
      }
     },
     "metadata": {},
     "output_type": "display_data"
    }
   ],
   "source": [
    "fig = px.scatter(\n",
    "    books_filtered,\n",
    "    x='movie_year',\n",
    "    y='revenue',\n",
    "    color='BookIdentifier',\n",
    "    hover_data={'BookTitle': True, 'BookYear': True, 'movie_year': True},\n",
    "    title='Revenue for different Books adapted multiple Times',\n",
    "    labels={'BookYear': 'Book Release Year', 'years_to_movie': 'Years to Movie Release'},\n",
    "    template='plotly_white'\n",
    ")\n",
    "\n",
    "fig.update_traces(\n",
    "    hovertemplate='<b>Book Title:</b> %{customdata[0]}<br>' +\n",
    "                  '<b>Book Release Year:</b> %{customdata[1]}<br>' +\n",
    "                  '<b>Movie Release Year:</b> %{x}<br>' +\n",
    "                  '<b>Years to Movie Release:</b> %{y}<br>'\n",
    ")\n",
    "\n",
    "fig.show()\n"
   ]
  },
  {
   "cell_type": "code",
   "execution_count": 11,
   "metadata": {},
   "outputs": [
    {
     "data": {
      "text/html": [
       "<div>\n",
       "<style scoped>\n",
       "    .dataframe tbody tr th:only-of-type {\n",
       "        vertical-align: middle;\n",
       "    }\n",
       "\n",
       "    .dataframe tbody tr th {\n",
       "        vertical-align: top;\n",
       "    }\n",
       "\n",
       "    .dataframe thead th {\n",
       "        text-align: right;\n",
       "    }\n",
       "</style>\n",
       "<table border=\"1\" class=\"dataframe\">\n",
       "  <thead>\n",
       "    <tr style=\"text-align: right;\">\n",
       "      <th></th>\n",
       "      <th>Unnamed: 0</th>\n",
       "      <th>movie_id</th>\n",
       "      <th>movie_cluster</th>\n",
       "      <th>movie_name</th>\n",
       "      <th>release_date</th>\n",
       "      <th>runtime_x</th>\n",
       "      <th>language</th>\n",
       "      <th>country</th>\n",
       "      <th>genres</th>\n",
       "      <th>movie_year</th>\n",
       "      <th>...</th>\n",
       "      <th>book_id</th>\n",
       "      <th>normalized_rating_x</th>\n",
       "      <th>standardized_rating_x</th>\n",
       "      <th>normalized_rating_y</th>\n",
       "      <th>standardized_rating_y</th>\n",
       "      <th>length</th>\n",
       "      <th>review_count</th>\n",
       "      <th>Year</th>\n",
       "      <th>CPI</th>\n",
       "      <th>AdjustedRevenue</th>\n",
       "    </tr>\n",
       "  </thead>\n",
       "  <tbody>\n",
       "    <tr>\n",
       "      <th>142</th>\n",
       "      <td>365</td>\n",
       "      <td>657159</td>\n",
       "      <td>/m/0308n2</td>\n",
       "      <td>Conquest of the Planet of the Apes</td>\n",
       "      <td>1972-06-29</td>\n",
       "      <td>88.0</td>\n",
       "      <td>{\"/m/02h40lc\": \"English Language\"}</td>\n",
       "      <td>{\"/m/09c7w0\": \"United States of America\"}</td>\n",
       "      <td>{\"/m/01q03\": \"Cult\", \"/m/06n90\": \"Science Fict...</td>\n",
       "      <td>1972</td>\n",
       "      <td>...</td>\n",
       "      <td>414895.0</td>\n",
       "      <td>0.563380</td>\n",
       "      <td>-0.418388</td>\n",
       "      <td>0.643333</td>\n",
       "      <td>0.293655</td>\n",
       "      <td>268.0</td>\n",
       "      <td>1245.0</td>\n",
       "      <td>1972</td>\n",
       "      <td>41.816667</td>\n",
       "      <td>5.403787e+07</td>\n",
       "    </tr>\n",
       "    <tr>\n",
       "      <th>143</th>\n",
       "      <td>366</td>\n",
       "      <td>18618306</td>\n",
       "      <td>/m/0k2r1</td>\n",
       "      <td>Planet of the Apes</td>\n",
       "      <td>1968-02-08</td>\n",
       "      <td>107.0</td>\n",
       "      <td>{\"/m/02h40lc\": \"English Language\"}</td>\n",
       "      <td>{\"/m/09c7w0\": \"United States of America\"}</td>\n",
       "      <td>{\"/m/01q03\": \"Cult\", \"/m/01jfsb\": \"Thriller\", ...</td>\n",
       "      <td>1968</td>\n",
       "      <td>...</td>\n",
       "      <td>414895.0</td>\n",
       "      <td>0.830986</td>\n",
       "      <td>1.460964</td>\n",
       "      <td>0.643333</td>\n",
       "      <td>0.293655</td>\n",
       "      <td>268.0</td>\n",
       "      <td>1245.0</td>\n",
       "      <td>1968</td>\n",
       "      <td>34.783333</td>\n",
       "      <td>2.182650e+08</td>\n",
       "    </tr>\n",
       "    <tr>\n",
       "      <th>266</th>\n",
       "      <td>654</td>\n",
       "      <td>27279709</td>\n",
       "      <td>/m/0btyf5z</td>\n",
       "      <td>Rise of the Planet of the Apes</td>\n",
       "      <td>2011-08-03</td>\n",
       "      <td>105.0</td>\n",
       "      <td>{\"/m/02h40lc\": \"English Language\", \"/m/0my5\": ...</td>\n",
       "      <td>{\"/m/09c7w0\": \"United States of America\"}</td>\n",
       "      <td>{\"/m/01jfsb\": \"Thriller\", \"/m/06n90\": \"Science...</td>\n",
       "      <td>2011</td>\n",
       "      <td>...</td>\n",
       "      <td>414895.0</td>\n",
       "      <td>0.774648</td>\n",
       "      <td>1.065311</td>\n",
       "      <td>0.643333</td>\n",
       "      <td>0.293655</td>\n",
       "      <td>268.0</td>\n",
       "      <td>1245.0</td>\n",
       "      <td>2011</td>\n",
       "      <td>224.939167</td>\n",
       "      <td>5.000717e+08</td>\n",
       "    </tr>\n",
       "    <tr>\n",
       "      <th>282</th>\n",
       "      <td>692</td>\n",
       "      <td>303928</td>\n",
       "      <td>/m/01s7vd</td>\n",
       "      <td>Escape from the Planet of the Apes</td>\n",
       "      <td>1971-05-21</td>\n",
       "      <td>98.0</td>\n",
       "      <td>{\"/m/02h40lc\": \"English Language\"}</td>\n",
       "      <td>{\"/m/09c7w0\": \"United States of America\"}</td>\n",
       "      <td>{\"/m/06n90\": \"Science Fiction\", \"/m/03k9fj\": \"...</td>\n",
       "      <td>1971</td>\n",
       "      <td>...</td>\n",
       "      <td>414895.0</td>\n",
       "      <td>0.591549</td>\n",
       "      <td>-0.220562</td>\n",
       "      <td>0.643333</td>\n",
       "      <td>0.293655</td>\n",
       "      <td>268.0</td>\n",
       "      <td>1245.0</td>\n",
       "      <td>1971</td>\n",
       "      <td>40.491667</td>\n",
       "      <td>7.104585e+07</td>\n",
       "    </tr>\n",
       "    <tr>\n",
       "      <th>367</th>\n",
       "      <td>899</td>\n",
       "      <td>709860</td>\n",
       "      <td>/m/034rv2</td>\n",
       "      <td>Battle for the Planet of the Apes</td>\n",
       "      <td>1973-06-15</td>\n",
       "      <td>96.0</td>\n",
       "      <td>{\"/m/02h40lc\": \"English Language\"}</td>\n",
       "      <td>{\"/m/09c7w0\": \"United States of America\"}</td>\n",
       "      <td>{\"/m/06n90\": \"Science Fiction\", \"/m/03k9fj\": \"...</td>\n",
       "      <td>1973</td>\n",
       "      <td>...</td>\n",
       "      <td>414895.0</td>\n",
       "      <td>0.478873</td>\n",
       "      <td>-1.011868</td>\n",
       "      <td>0.643333</td>\n",
       "      <td>0.293655</td>\n",
       "      <td>268.0</td>\n",
       "      <td>1245.0</td>\n",
       "      <td>1973</td>\n",
       "      <td>44.400000</td>\n",
       "      <td>4.640565e+07</td>\n",
       "    </tr>\n",
       "    <tr>\n",
       "      <th>685</th>\n",
       "      <td>1635</td>\n",
       "      <td>20181491</td>\n",
       "      <td>/m/047wh1</td>\n",
       "      <td>Planet of the Apes</td>\n",
       "      <td>2001-07-26</td>\n",
       "      <td>119.0</td>\n",
       "      <td>{\"/m/02h40lc\": \"English Language\"}</td>\n",
       "      <td>{\"/m/09c7w0\": \"United States of America\"}</td>\n",
       "      <td>{\"/m/01jfsb\": \"Thriller\", \"/m/07s2s\": \"Time tr...</td>\n",
       "      <td>2001</td>\n",
       "      <td>...</td>\n",
       "      <td>414895.0</td>\n",
       "      <td>0.507042</td>\n",
       "      <td>-0.814041</td>\n",
       "      <td>0.643333</td>\n",
       "      <td>0.293655</td>\n",
       "      <td>268.0</td>\n",
       "      <td>1245.0</td>\n",
       "      <td>2001</td>\n",
       "      <td>177.066667</td>\n",
       "      <td>4.765425e+08</td>\n",
       "    </tr>\n",
       "    <tr>\n",
       "      <th>766</th>\n",
       "      <td>1825</td>\n",
       "      <td>152058</td>\n",
       "      <td>/m/013szf</td>\n",
       "      <td>Beneath the Planet of the Apes</td>\n",
       "      <td>1970-05-26</td>\n",
       "      <td>95.0</td>\n",
       "      <td>{\"/m/02h40lc\": \"English Language\"}</td>\n",
       "      <td>{\"/m/09c7w0\": \"United States of America\"}</td>\n",
       "      <td>{\"/m/06n90\": \"Science Fiction\", \"/m/02kdv5l\": ...</td>\n",
       "      <td>1970</td>\n",
       "      <td>...</td>\n",
       "      <td>414895.0</td>\n",
       "      <td>0.563380</td>\n",
       "      <td>-0.418388</td>\n",
       "      <td>0.643333</td>\n",
       "      <td>0.293655</td>\n",
       "      <td>268.0</td>\n",
       "      <td>1245.0</td>\n",
       "      <td>1970</td>\n",
       "      <td>38.825000</td>\n",
       "      <td>1.140018e+08</td>\n",
       "    </tr>\n",
       "  </tbody>\n",
       "</table>\n",
       "<p>7 rows × 33 columns</p>\n",
       "</div>"
      ],
      "text/plain": [
       "     Unnamed: 0  movie_id movie_cluster                          movie_name  \\\n",
       "142         365    657159     /m/0308n2  Conquest of the Planet of the Apes   \n",
       "143         366  18618306      /m/0k2r1                  Planet of the Apes   \n",
       "266         654  27279709    /m/0btyf5z      Rise of the Planet of the Apes   \n",
       "282         692    303928     /m/01s7vd  Escape from the Planet of the Apes   \n",
       "367         899    709860     /m/034rv2   Battle for the Planet of the Apes   \n",
       "685        1635  20181491     /m/047wh1                  Planet of the Apes   \n",
       "766        1825    152058     /m/013szf      Beneath the Planet of the Apes   \n",
       "\n",
       "    release_date  runtime_x  \\\n",
       "142   1972-06-29       88.0   \n",
       "143   1968-02-08      107.0   \n",
       "266   2011-08-03      105.0   \n",
       "282   1971-05-21       98.0   \n",
       "367   1973-06-15       96.0   \n",
       "685   2001-07-26      119.0   \n",
       "766   1970-05-26       95.0   \n",
       "\n",
       "                                              language  \\\n",
       "142                 {\"/m/02h40lc\": \"English Language\"}   \n",
       "143                 {\"/m/02h40lc\": \"English Language\"}   \n",
       "266  {\"/m/02h40lc\": \"English Language\", \"/m/0my5\": ...   \n",
       "282                 {\"/m/02h40lc\": \"English Language\"}   \n",
       "367                 {\"/m/02h40lc\": \"English Language\"}   \n",
       "685                 {\"/m/02h40lc\": \"English Language\"}   \n",
       "766                 {\"/m/02h40lc\": \"English Language\"}   \n",
       "\n",
       "                                       country  \\\n",
       "142  {\"/m/09c7w0\": \"United States of America\"}   \n",
       "143  {\"/m/09c7w0\": \"United States of America\"}   \n",
       "266  {\"/m/09c7w0\": \"United States of America\"}   \n",
       "282  {\"/m/09c7w0\": \"United States of America\"}   \n",
       "367  {\"/m/09c7w0\": \"United States of America\"}   \n",
       "685  {\"/m/09c7w0\": \"United States of America\"}   \n",
       "766  {\"/m/09c7w0\": \"United States of America\"}   \n",
       "\n",
       "                                                genres  movie_year  ...  \\\n",
       "142  {\"/m/01q03\": \"Cult\", \"/m/06n90\": \"Science Fict...        1972  ...   \n",
       "143  {\"/m/01q03\": \"Cult\", \"/m/01jfsb\": \"Thriller\", ...        1968  ...   \n",
       "266  {\"/m/01jfsb\": \"Thriller\", \"/m/06n90\": \"Science...        2011  ...   \n",
       "282  {\"/m/06n90\": \"Science Fiction\", \"/m/03k9fj\": \"...        1971  ...   \n",
       "367  {\"/m/06n90\": \"Science Fiction\", \"/m/03k9fj\": \"...        1973  ...   \n",
       "685  {\"/m/01jfsb\": \"Thriller\", \"/m/07s2s\": \"Time tr...        2001  ...   \n",
       "766  {\"/m/06n90\": \"Science Fiction\", \"/m/02kdv5l\": ...        1970  ...   \n",
       "\n",
       "      book_id  normalized_rating_x standardized_rating_x  normalized_rating_y  \\\n",
       "142  414895.0             0.563380             -0.418388             0.643333   \n",
       "143  414895.0             0.830986              1.460964             0.643333   \n",
       "266  414895.0             0.774648              1.065311             0.643333   \n",
       "282  414895.0             0.591549             -0.220562             0.643333   \n",
       "367  414895.0             0.478873             -1.011868             0.643333   \n",
       "685  414895.0             0.507042             -0.814041             0.643333   \n",
       "766  414895.0             0.563380             -0.418388             0.643333   \n",
       "\n",
       "    standardized_rating_y length  review_count  Year         CPI  \\\n",
       "142              0.293655  268.0        1245.0  1972   41.816667   \n",
       "143              0.293655  268.0        1245.0  1968   34.783333   \n",
       "266              0.293655  268.0        1245.0  2011  224.939167   \n",
       "282              0.293655  268.0        1245.0  1971   40.491667   \n",
       "367              0.293655  268.0        1245.0  1973   44.400000   \n",
       "685              0.293655  268.0        1245.0  2001  177.066667   \n",
       "766              0.293655  268.0        1245.0  1970   38.825000   \n",
       "\n",
       "     AdjustedRevenue  \n",
       "142     5.403787e+07  \n",
       "143     2.182650e+08  \n",
       "266     5.000717e+08  \n",
       "282     7.104585e+07  \n",
       "367     4.640565e+07  \n",
       "685     4.765425e+08  \n",
       "766     1.140018e+08  \n",
       "\n",
       "[7 rows x 33 columns]"
      ]
     },
     "execution_count": 11,
     "metadata": {},
     "output_type": "execute_result"
    }
   ],
   "source": [
    "Planete_singes"
   ]
  },
  {
   "cell_type": "code",
   "execution_count": 13,
   "metadata": {},
   "outputs": [
    {
     "data": {
      "text/plain": [
       "Index(['Unnamed: 0', 'movie_id', 'movie_cluster', 'movie_name', 'release_date',\n",
       "       'runtime_x', 'language', 'country', 'genres', 'movie_year', 'index',\n",
       "       'id', 'BookTitle', 'BookYear', 'Author', 'full name', 'tmdb_id',\n",
       "       'id_goodreads', 'imdbid', 'runtime_y', 'revenue', 'budget', 'rb_ratio',\n",
       "       'book_id', 'normalized_rating_x', 'standardized_rating_x',\n",
       "       'normalized_rating_y', 'standardized_rating_y', 'length',\n",
       "       'review_count', 'Year', 'CPI', 'AdjustedRevenue'],\n",
       "      dtype='object')"
      ]
     },
     "execution_count": 13,
     "metadata": {},
     "output_type": "execute_result"
    }
   ],
   "source": [
    "frankenstein.columns"
   ]
  },
  {
   "cell_type": "code",
   "execution_count": null,
   "metadata": {},
   "outputs": [],
   "source": []
  }
 ],
 "metadata": {
  "kernelspec": {
   "display_name": "ada",
   "language": "python",
   "name": "python3"
  },
  "language_info": {
   "codemirror_mode": {
    "name": "ipython",
    "version": 3
   },
   "file_extension": ".py",
   "mimetype": "text/x-python",
   "name": "python",
   "nbconvert_exporter": "python",
   "pygments_lexer": "ipython3",
   "version": "3.11.10"
  }
 },
 "nbformat": 4,
 "nbformat_minor": 2
}
