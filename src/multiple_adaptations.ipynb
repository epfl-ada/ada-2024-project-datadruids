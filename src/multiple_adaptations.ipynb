{
 "cells": [
  {
   "cell_type": "code",
   "execution_count": 54,
   "metadata": {},
   "outputs": [],
   "source": [
    "import numpy as np\n",
    "import pandas as pd \n",
    "from datasets import load_dataset\n",
    "import tqdm as tqdm\n",
    "import matplotlib.pyplot as plt\n",
    "import plotly.express as px\n"
   ]
  },
  {
   "cell_type": "code",
   "execution_count": 55,
   "metadata": {},
   "outputs": [
    {
     "name": "stdout",
     "output_type": "stream",
     "text": [
      "Index(['Unnamed: 0', 'movie_id', 'movie_cluster', 'movie_name', 'release_date',\n",
      "       'runtime_x', 'language', 'country', 'genres', 'movie_year', 'index',\n",
      "       'id', 'BookTitle', 'BookYear', 'Author', 'full name', 'tmdb_id',\n",
      "       'id_goodreads', 'imdbid', 'runtime_y', 'revenue', 'budget', 'rb_ratio',\n",
      "       'book_id', 'normalized_rating_x', 'standardized_rating_x',\n",
      "       'normalized_rating_y', 'standardized_rating_y', 'length',\n",
      "       'review_count'],\n",
      "      dtype='object')\n"
     ]
    }
   ],
   "source": [
    "# regression_dataset = load_dataset(\"ada-datadruids/regression_dataset_tmdb\")\n",
    "# regression_dataset_df = regression_dataset['train'].to_pandas()\n",
    "books_movie_dataset = pd.read_csv(\"../data/final_dataset.csv\")\n",
    "print(books_movie_dataset.columns)\n",
    "similarites = load_dataset(\"ada-datadruids/bookfilm_summaries_with_similarity_and_sentiment\")\n",
    "similarites_df = similarites['train'].to_pandas()\n"
   ]
  },
  {
   "cell_type": "code",
   "execution_count": 56,
   "metadata": {},
   "outputs": [
    {
     "data": {
      "text/plain": [
       "5       0.451876\n",
       "6       0.559594\n",
       "7       0.344548\n",
       "8       0.669707\n",
       "14      0.852735\n",
       "          ...   \n",
       "1857    0.704500\n",
       "1861    0.677893\n",
       "1863    0.686086\n",
       "1864    0.762416\n",
       "1866    0.825776\n",
       "Name: similarity, Length: 837, dtype: float64"
      ]
     },
     "execution_count": 56,
     "metadata": {},
     "output_type": "execute_result"
    }
   ],
   "source": [
    "books_movie_dataset_n= pd.merge(books_movie_dataset, similarites_df, on = 'movie_id', how ='left')\n",
    "books_movie_dataset_n.dropna(subset='similarity', inplace=True)\n",
    "books_movie_dataset_n['similarity']"
   ]
  },
  {
   "cell_type": "code",
   "execution_count": 57,
   "metadata": {},
   "outputs": [],
   "source": [
    "from utils.general_utils import adjust_for_inflation_final_dataset\n",
    "#books_movie_dataset_cleaned = books_movie_dataset[books_movie_dataset['revenue'] != 0]\n",
    "books_movie_dataset_cleaned = books_movie_dataset_n[books_movie_dataset_n['revenue'] != 0]\n",
    "books_movie_dataset_cleaned = adjust_for_inflation_final_dataset(books_movie_dataset, books_movie_dataset_cleaned)"
   ]
  },
  {
   "cell_type": "code",
   "execution_count": 58,
   "metadata": {},
   "outputs": [
    {
     "name": "stdout",
     "output_type": "stream",
     "text": [
      "        book_id                              BookTitle  adaptation_count\n",
      "370  35031085.0                           Frankenstein                 7\n",
      "245    897831.0                           The Exorcist                 5\n",
      "123    126232.0                                   Jaws                 4\n",
      "65      21853.0                            First Blood                 4\n",
      "151    236093.0             The Wonderful Wizard of Oz                 4\n",
      "140    180617.0            The Adventures of Pinocchio                 4\n",
      "60      18254.0                           Oliver Twist                 3\n",
      "89      49540.0               Les Liaisons dangereuses                 3\n",
      "333   3148286.0                          Anna Karenina                 3\n",
      "50      14935.0                  Sense and Sensibility                 3\n",
      "57      17184.0                      The Invisible Man                 3\n",
      "66      23814.0                   King Solomon's Mines                 3\n",
      "189    511614.0         The Hundred and One Dalmatians                 3\n",
      "156    287625.0                        The Running Man                 3\n",
      "192    526270.0                          Jurassic Park                 3\n",
      "86      42697.0                                 Exodus                 3\n",
      "153    257845.0                              True Grit                 3\n",
      "6         295.0                        Treasure Island                 3\n",
      "132    156427.0                                 Psycho                 3\n",
      "257    982001.0                  The Day of the Jackal                 2\n",
      "67      24178.0                        Charlotte's Web                 2\n",
      "334   3236244.0                                 Fletch                 2\n",
      "280   1188373.0                      Gods and Generals                 2\n",
      "114     99664.0                       The Painted Veil                 2\n",
      "51      15241.0                  The Lord of the Rings                 2\n",
      "54      16299.0               And Then There Were None                 2\n",
      "62      18512.0                  The Lord of the Rings                 2\n",
      "273   1147028.0                                Maurice                 2\n",
      "128    138959.0                          Stuart Little                 2\n",
      "323   2429135.0                             Millennium                 2\n",
      "139    177194.0                            Thunderball                 2\n",
      "109     92364.0                      Eye of the Needle                 2\n",
      "69      24583.0           The Adventures of Tom Sawyer                 2\n",
      "251    940536.0                             Red Dragon                 2\n",
      "134    161846.0                    The Midwich Cuckoos                 2\n",
      "252    940998.0                               Vampire$                 2\n",
      "267   1071623.0                          Freaky Friday                 2\n",
      "82      39988.0                                Matilda                 2\n",
      "341   4907587.0                   Let the Right One In                 2\n",
      "101     78548.0                        Lottie and Lisa                 2\n",
      "177    376514.0               The Manchurian Candidate                 2\n",
      "206    597251.0                 The Poseidon Adventure                 2\n",
      "122    124918.0                                Airport                 2\n",
      "36       6969.0                                   Emma                 2\n",
      "32       6310.0      Charlie and the Chocolate Factory                 2\n",
      "15       2493.0                       The Time Machine                 2\n",
      "353   8432594.0                             The Hunter                 2\n",
      "185    452306.0  The Sisterhood of the Traveling Pants                 2\n",
      "354   9893072.0                                 Damage                 2\n",
      "188    480204.0               The Phantom of the Opera                 2\n",
      "21       3758.0                          Casino Royale                 2\n",
      "355  10051695.0           The Siege of Trencher's Farm                 2\n",
      "37       7604.0                                 Lolita                 2\n",
      "358  10831203.0                       The Executioners                 2\n",
      "343   6062175.0                   What Dreams May Come                 2\n",
      "17       2956.0         Adventures of Huckleberry Finn                 2\n",
      "372  40940649.0                            I Am Legend                 2\n",
      "205    591352.0         The Postman Always Rings Twice                 2\n"
     ]
    }
   ],
   "source": [
    "book_adaptations = books_movie_dataset_cleaned.groupby(['book_id', 'BookTitle']).size().reset_index(name='adaptation_count')\n",
    "\n",
    "# Sort by 'adaptation_count' in descending order to see the most frequently adapted books\n",
    "book_adaptations = book_adaptations.sort_values(by='adaptation_count', ascending=False)\n",
    "\n",
    "# Display the top books with the most adaptations\n",
    "print(book_adaptations[book_adaptations.adaptation_count > 1])"
   ]
  },
  {
   "cell_type": "code",
   "execution_count": 59,
   "metadata": {},
   "outputs": [],
   "source": [
    "Planete_singes=books_movie_dataset_cleaned[books_movie_dataset_cleaned['BookTitle']=='La Planète des singes']\n",
    "frankenstein = books_movie_dataset_cleaned[books_movie_dataset_cleaned['BookTitle']=='Frankenstein']\n",
    "exorcist= books_movie_dataset_cleaned[books_movie_dataset_cleaned['BookTitle']=='The Exorcist']\n",
    "peter_pan=books_movie_dataset_cleaned[books_movie_dataset_cleaned['BookTitle']==\"Peter Pan, or The Boy Who Wouldn't Grow Up\"]\n",
    "trois_mousquetaires=books_movie_dataset_cleaned[books_movie_dataset_cleaned['BookTitle']=='Les Trois Mousquetaires']"
   ]
  },
  {
   "cell_type": "code",
   "execution_count": 60,
   "metadata": {},
   "outputs": [],
   "source": [
    "books_with_multiple_films = ['La Planète des singes', 'Frankenstein',\"The Exorcist\",\"Peter Pan, or The Boy Who Wouldn't Grow Up\", 'Les Trois Mousquetaires']\n",
    "books_movie_dataset_cleaned['BookIdentifier'] = books_movie_dataset_cleaned['BookTitle'].where(books_movie_dataset_cleaned['BookTitle'].isin(books_with_multiple_films))\n",
    "books_filtered = books_movie_dataset_cleaned[books_movie_dataset_cleaned['BookIdentifier'].notnull()]"
   ]
  },
  {
   "cell_type": "code",
   "execution_count": 61,
   "metadata": {},
   "outputs": [
    {
     "data": {
      "application/vnd.plotly.v1+json": {
       "config": {
        "plotlyServerURL": "https://plot.ly"
       },
       "data": [
        {
         "customdata": [
          [
           "Frankenstein",
           1818
          ],
          [
           "Frankenstein",
           1818
          ],
          [
           "Frankenstein",
           1818
          ],
          [
           "Frankenstein",
           1818
          ],
          [
           "Frankenstein",
           1818
          ],
          [
           "Frankenstein",
           1818
          ],
          [
           "Frankenstein",
           1818
          ]
         ],
         "hovertemplate": "<b>Book Title:</b> %{customdata[0]}<br><b>Book Release Year:</b> %{customdata[1]}<br><b>Movie Release Year:</b> %{x}<br><b>Years to Movie Release:</b> %{y}<br>",
         "legendgroup": "Frankenstein",
         "marker": {
          "color": "#636efa",
          "symbol": "circle"
         },
         "mode": "markers",
         "name": "Frankenstein",
         "orientation": "v",
         "showlegend": true,
         "type": "scatter",
         "x": [
          1948,
          1957,
          1985,
          1931,
          1974,
          1990,
          2004
         ],
         "xaxis": "x",
         "y": [
          46631247.88679376,
          66341975.67487392,
          7707007.909408894,
          183812712.32876712,
          407598121.17881525,
          596838.4544805154,
          370319097.98834157
         ],
         "yaxis": "y"
        },
        {
         "customdata": [
          [
           "The Exorcist",
           1971
          ],
          [
           "The Exorcist",
           1971
          ],
          [
           "The Exorcist",
           1971
          ],
          [
           "The Exorcist",
           1971
          ],
          [
           "The Exorcist",
           1971
          ]
         ],
         "hovertemplate": "<b>Book Title:</b> %{customdata[0]}<br><b>Book Release Year:</b> %{customdata[1]}<br><b>Movie Release Year:</b> %{x}<br><b>Years to Movie Release:</b> %{y}<br>",
         "legendgroup": "The Exorcist",
         "marker": {
          "color": "#EF553B",
          "symbol": "circle"
         },
         "mode": "markers",
         "name": "The Exorcist",
         "orientation": "v",
         "showlegend": true,
         "type": "scatter",
         "x": [
          1973,
          2004,
          1990,
          2005,
          1977
         ],
         "xaxis": "x",
         "y": [
          2315958815.160173,
          96201124.21874614,
          69578230.9501467,
          300000.21338809474,
          118188870.1001925
         ],
         "yaxis": "y"
        }
       ],
       "layout": {
        "legend": {
         "title": {
          "text": "BookIdentifier"
         },
         "tracegroupgap": 0
        },
        "template": {
         "data": {
          "bar": [
           {
            "error_x": {
             "color": "#2a3f5f"
            },
            "error_y": {
             "color": "#2a3f5f"
            },
            "marker": {
             "line": {
              "color": "white",
              "width": 0.5
             },
             "pattern": {
              "fillmode": "overlay",
              "size": 10,
              "solidity": 0.2
             }
            },
            "type": "bar"
           }
          ],
          "barpolar": [
           {
            "marker": {
             "line": {
              "color": "white",
              "width": 0.5
             },
             "pattern": {
              "fillmode": "overlay",
              "size": 10,
              "solidity": 0.2
             }
            },
            "type": "barpolar"
           }
          ],
          "carpet": [
           {
            "aaxis": {
             "endlinecolor": "#2a3f5f",
             "gridcolor": "#C8D4E3",
             "linecolor": "#C8D4E3",
             "minorgridcolor": "#C8D4E3",
             "startlinecolor": "#2a3f5f"
            },
            "baxis": {
             "endlinecolor": "#2a3f5f",
             "gridcolor": "#C8D4E3",
             "linecolor": "#C8D4E3",
             "minorgridcolor": "#C8D4E3",
             "startlinecolor": "#2a3f5f"
            },
            "type": "carpet"
           }
          ],
          "choropleth": [
           {
            "colorbar": {
             "outlinewidth": 0,
             "ticks": ""
            },
            "type": "choropleth"
           }
          ],
          "contour": [
           {
            "colorbar": {
             "outlinewidth": 0,
             "ticks": ""
            },
            "colorscale": [
             [
              0,
              "#0d0887"
             ],
             [
              0.1111111111111111,
              "#46039f"
             ],
             [
              0.2222222222222222,
              "#7201a8"
             ],
             [
              0.3333333333333333,
              "#9c179e"
             ],
             [
              0.4444444444444444,
              "#bd3786"
             ],
             [
              0.5555555555555556,
              "#d8576b"
             ],
             [
              0.6666666666666666,
              "#ed7953"
             ],
             [
              0.7777777777777778,
              "#fb9f3a"
             ],
             [
              0.8888888888888888,
              "#fdca26"
             ],
             [
              1,
              "#f0f921"
             ]
            ],
            "type": "contour"
           }
          ],
          "contourcarpet": [
           {
            "colorbar": {
             "outlinewidth": 0,
             "ticks": ""
            },
            "type": "contourcarpet"
           }
          ],
          "heatmap": [
           {
            "colorbar": {
             "outlinewidth": 0,
             "ticks": ""
            },
            "colorscale": [
             [
              0,
              "#0d0887"
             ],
             [
              0.1111111111111111,
              "#46039f"
             ],
             [
              0.2222222222222222,
              "#7201a8"
             ],
             [
              0.3333333333333333,
              "#9c179e"
             ],
             [
              0.4444444444444444,
              "#bd3786"
             ],
             [
              0.5555555555555556,
              "#d8576b"
             ],
             [
              0.6666666666666666,
              "#ed7953"
             ],
             [
              0.7777777777777778,
              "#fb9f3a"
             ],
             [
              0.8888888888888888,
              "#fdca26"
             ],
             [
              1,
              "#f0f921"
             ]
            ],
            "type": "heatmap"
           }
          ],
          "heatmapgl": [
           {
            "colorbar": {
             "outlinewidth": 0,
             "ticks": ""
            },
            "colorscale": [
             [
              0,
              "#0d0887"
             ],
             [
              0.1111111111111111,
              "#46039f"
             ],
             [
              0.2222222222222222,
              "#7201a8"
             ],
             [
              0.3333333333333333,
              "#9c179e"
             ],
             [
              0.4444444444444444,
              "#bd3786"
             ],
             [
              0.5555555555555556,
              "#d8576b"
             ],
             [
              0.6666666666666666,
              "#ed7953"
             ],
             [
              0.7777777777777778,
              "#fb9f3a"
             ],
             [
              0.8888888888888888,
              "#fdca26"
             ],
             [
              1,
              "#f0f921"
             ]
            ],
            "type": "heatmapgl"
           }
          ],
          "histogram": [
           {
            "marker": {
             "pattern": {
              "fillmode": "overlay",
              "size": 10,
              "solidity": 0.2
             }
            },
            "type": "histogram"
           }
          ],
          "histogram2d": [
           {
            "colorbar": {
             "outlinewidth": 0,
             "ticks": ""
            },
            "colorscale": [
             [
              0,
              "#0d0887"
             ],
             [
              0.1111111111111111,
              "#46039f"
             ],
             [
              0.2222222222222222,
              "#7201a8"
             ],
             [
              0.3333333333333333,
              "#9c179e"
             ],
             [
              0.4444444444444444,
              "#bd3786"
             ],
             [
              0.5555555555555556,
              "#d8576b"
             ],
             [
              0.6666666666666666,
              "#ed7953"
             ],
             [
              0.7777777777777778,
              "#fb9f3a"
             ],
             [
              0.8888888888888888,
              "#fdca26"
             ],
             [
              1,
              "#f0f921"
             ]
            ],
            "type": "histogram2d"
           }
          ],
          "histogram2dcontour": [
           {
            "colorbar": {
             "outlinewidth": 0,
             "ticks": ""
            },
            "colorscale": [
             [
              0,
              "#0d0887"
             ],
             [
              0.1111111111111111,
              "#46039f"
             ],
             [
              0.2222222222222222,
              "#7201a8"
             ],
             [
              0.3333333333333333,
              "#9c179e"
             ],
             [
              0.4444444444444444,
              "#bd3786"
             ],
             [
              0.5555555555555556,
              "#d8576b"
             ],
             [
              0.6666666666666666,
              "#ed7953"
             ],
             [
              0.7777777777777778,
              "#fb9f3a"
             ],
             [
              0.8888888888888888,
              "#fdca26"
             ],
             [
              1,
              "#f0f921"
             ]
            ],
            "type": "histogram2dcontour"
           }
          ],
          "mesh3d": [
           {
            "colorbar": {
             "outlinewidth": 0,
             "ticks": ""
            },
            "type": "mesh3d"
           }
          ],
          "parcoords": [
           {
            "line": {
             "colorbar": {
              "outlinewidth": 0,
              "ticks": ""
             }
            },
            "type": "parcoords"
           }
          ],
          "pie": [
           {
            "automargin": true,
            "type": "pie"
           }
          ],
          "scatter": [
           {
            "fillpattern": {
             "fillmode": "overlay",
             "size": 10,
             "solidity": 0.2
            },
            "type": "scatter"
           }
          ],
          "scatter3d": [
           {
            "line": {
             "colorbar": {
              "outlinewidth": 0,
              "ticks": ""
             }
            },
            "marker": {
             "colorbar": {
              "outlinewidth": 0,
              "ticks": ""
             }
            },
            "type": "scatter3d"
           }
          ],
          "scattercarpet": [
           {
            "marker": {
             "colorbar": {
              "outlinewidth": 0,
              "ticks": ""
             }
            },
            "type": "scattercarpet"
           }
          ],
          "scattergeo": [
           {
            "marker": {
             "colorbar": {
              "outlinewidth": 0,
              "ticks": ""
             }
            },
            "type": "scattergeo"
           }
          ],
          "scattergl": [
           {
            "marker": {
             "colorbar": {
              "outlinewidth": 0,
              "ticks": ""
             }
            },
            "type": "scattergl"
           }
          ],
          "scattermapbox": [
           {
            "marker": {
             "colorbar": {
              "outlinewidth": 0,
              "ticks": ""
             }
            },
            "type": "scattermapbox"
           }
          ],
          "scatterpolar": [
           {
            "marker": {
             "colorbar": {
              "outlinewidth": 0,
              "ticks": ""
             }
            },
            "type": "scatterpolar"
           }
          ],
          "scatterpolargl": [
           {
            "marker": {
             "colorbar": {
              "outlinewidth": 0,
              "ticks": ""
             }
            },
            "type": "scatterpolargl"
           }
          ],
          "scatterternary": [
           {
            "marker": {
             "colorbar": {
              "outlinewidth": 0,
              "ticks": ""
             }
            },
            "type": "scatterternary"
           }
          ],
          "surface": [
           {
            "colorbar": {
             "outlinewidth": 0,
             "ticks": ""
            },
            "colorscale": [
             [
              0,
              "#0d0887"
             ],
             [
              0.1111111111111111,
              "#46039f"
             ],
             [
              0.2222222222222222,
              "#7201a8"
             ],
             [
              0.3333333333333333,
              "#9c179e"
             ],
             [
              0.4444444444444444,
              "#bd3786"
             ],
             [
              0.5555555555555556,
              "#d8576b"
             ],
             [
              0.6666666666666666,
              "#ed7953"
             ],
             [
              0.7777777777777778,
              "#fb9f3a"
             ],
             [
              0.8888888888888888,
              "#fdca26"
             ],
             [
              1,
              "#f0f921"
             ]
            ],
            "type": "surface"
           }
          ],
          "table": [
           {
            "cells": {
             "fill": {
              "color": "#EBF0F8"
             },
             "line": {
              "color": "white"
             }
            },
            "header": {
             "fill": {
              "color": "#C8D4E3"
             },
             "line": {
              "color": "white"
             }
            },
            "type": "table"
           }
          ]
         },
         "layout": {
          "annotationdefaults": {
           "arrowcolor": "#2a3f5f",
           "arrowhead": 0,
           "arrowwidth": 1
          },
          "autotypenumbers": "strict",
          "coloraxis": {
           "colorbar": {
            "outlinewidth": 0,
            "ticks": ""
           }
          },
          "colorscale": {
           "diverging": [
            [
             0,
             "#8e0152"
            ],
            [
             0.1,
             "#c51b7d"
            ],
            [
             0.2,
             "#de77ae"
            ],
            [
             0.3,
             "#f1b6da"
            ],
            [
             0.4,
             "#fde0ef"
            ],
            [
             0.5,
             "#f7f7f7"
            ],
            [
             0.6,
             "#e6f5d0"
            ],
            [
             0.7,
             "#b8e186"
            ],
            [
             0.8,
             "#7fbc41"
            ],
            [
             0.9,
             "#4d9221"
            ],
            [
             1,
             "#276419"
            ]
           ],
           "sequential": [
            [
             0,
             "#0d0887"
            ],
            [
             0.1111111111111111,
             "#46039f"
            ],
            [
             0.2222222222222222,
             "#7201a8"
            ],
            [
             0.3333333333333333,
             "#9c179e"
            ],
            [
             0.4444444444444444,
             "#bd3786"
            ],
            [
             0.5555555555555556,
             "#d8576b"
            ],
            [
             0.6666666666666666,
             "#ed7953"
            ],
            [
             0.7777777777777778,
             "#fb9f3a"
            ],
            [
             0.8888888888888888,
             "#fdca26"
            ],
            [
             1,
             "#f0f921"
            ]
           ],
           "sequentialminus": [
            [
             0,
             "#0d0887"
            ],
            [
             0.1111111111111111,
             "#46039f"
            ],
            [
             0.2222222222222222,
             "#7201a8"
            ],
            [
             0.3333333333333333,
             "#9c179e"
            ],
            [
             0.4444444444444444,
             "#bd3786"
            ],
            [
             0.5555555555555556,
             "#d8576b"
            ],
            [
             0.6666666666666666,
             "#ed7953"
            ],
            [
             0.7777777777777778,
             "#fb9f3a"
            ],
            [
             0.8888888888888888,
             "#fdca26"
            ],
            [
             1,
             "#f0f921"
            ]
           ]
          },
          "colorway": [
           "#636efa",
           "#EF553B",
           "#00cc96",
           "#ab63fa",
           "#FFA15A",
           "#19d3f3",
           "#FF6692",
           "#B6E880",
           "#FF97FF",
           "#FECB52"
          ],
          "font": {
           "color": "#2a3f5f"
          },
          "geo": {
           "bgcolor": "white",
           "lakecolor": "white",
           "landcolor": "white",
           "showlakes": true,
           "showland": true,
           "subunitcolor": "#C8D4E3"
          },
          "hoverlabel": {
           "align": "left"
          },
          "hovermode": "closest",
          "mapbox": {
           "style": "light"
          },
          "paper_bgcolor": "white",
          "plot_bgcolor": "white",
          "polar": {
           "angularaxis": {
            "gridcolor": "#EBF0F8",
            "linecolor": "#EBF0F8",
            "ticks": ""
           },
           "bgcolor": "white",
           "radialaxis": {
            "gridcolor": "#EBF0F8",
            "linecolor": "#EBF0F8",
            "ticks": ""
           }
          },
          "scene": {
           "xaxis": {
            "backgroundcolor": "white",
            "gridcolor": "#DFE8F3",
            "gridwidth": 2,
            "linecolor": "#EBF0F8",
            "showbackground": true,
            "ticks": "",
            "zerolinecolor": "#EBF0F8"
           },
           "yaxis": {
            "backgroundcolor": "white",
            "gridcolor": "#DFE8F3",
            "gridwidth": 2,
            "linecolor": "#EBF0F8",
            "showbackground": true,
            "ticks": "",
            "zerolinecolor": "#EBF0F8"
           },
           "zaxis": {
            "backgroundcolor": "white",
            "gridcolor": "#DFE8F3",
            "gridwidth": 2,
            "linecolor": "#EBF0F8",
            "showbackground": true,
            "ticks": "",
            "zerolinecolor": "#EBF0F8"
           }
          },
          "shapedefaults": {
           "line": {
            "color": "#2a3f5f"
           }
          },
          "ternary": {
           "aaxis": {
            "gridcolor": "#DFE8F3",
            "linecolor": "#A2B1C6",
            "ticks": ""
           },
           "baxis": {
            "gridcolor": "#DFE8F3",
            "linecolor": "#A2B1C6",
            "ticks": ""
           },
           "bgcolor": "white",
           "caxis": {
            "gridcolor": "#DFE8F3",
            "linecolor": "#A2B1C6",
            "ticks": ""
           }
          },
          "title": {
           "x": 0.05
          },
          "xaxis": {
           "automargin": true,
           "gridcolor": "#EBF0F8",
           "linecolor": "#EBF0F8",
           "ticks": "",
           "title": {
            "standoff": 15
           },
           "zerolinecolor": "#EBF0F8",
           "zerolinewidth": 2
          },
          "yaxis": {
           "automargin": true,
           "gridcolor": "#EBF0F8",
           "linecolor": "#EBF0F8",
           "ticks": "",
           "title": {
            "standoff": 15
           },
           "zerolinecolor": "#EBF0F8",
           "zerolinewidth": 2
          }
         }
        },
        "title": {
         "text": "Revenue for different Books adapted multiple Times"
        },
        "xaxis": {
         "anchor": "y",
         "domain": [
          0,
          1
         ],
         "title": {
          "text": "movie_year"
         }
        },
        "yaxis": {
         "anchor": "x",
         "domain": [
          0,
          1
         ],
         "title": {
          "text": "AdjustedRevenue"
         }
        }
       }
      }
     },
     "metadata": {},
     "output_type": "display_data"
    }
   ],
   "source": [
    "fig = px.scatter(\n",
    "    books_filtered,\n",
    "    x='movie_year',\n",
    "    y='AdjustedRevenue',\n",
    "    color='BookIdentifier',\n",
    "    hover_data={'BookTitle': True, 'BookYear': True, 'movie_year': True},\n",
    "    title='Revenue for different Books adapted multiple Times',\n",
    "    labels={'BookYear': 'Book Release Year', 'years_to_movie': 'Years to Movie Release'},\n",
    "    template='plotly_white'\n",
    ")\n",
    "\n",
    "fig.update_traces(\n",
    "    hovertemplate='<b>Book Title:</b> %{customdata[0]}<br>' +\n",
    "                  '<b>Book Release Year:</b> %{customdata[1]}<br>' +\n",
    "                  '<b>Movie Release Year:</b> %{x}<br>' +\n",
    "                  '<b>Years to Movie Release:</b> %{y}<br>'\n",
    ")\n",
    "\n",
    "fig.show()\n"
   ]
  },
  {
   "cell_type": "code",
   "execution_count": 62,
   "metadata": {},
   "outputs": [
    {
     "data": {
      "text/html": [
       "<div>\n",
       "<style scoped>\n",
       "    .dataframe tbody tr th:only-of-type {\n",
       "        vertical-align: middle;\n",
       "    }\n",
       "\n",
       "    .dataframe tbody tr th {\n",
       "        vertical-align: top;\n",
       "    }\n",
       "\n",
       "    .dataframe thead th {\n",
       "        text-align: right;\n",
       "    }\n",
       "</style>\n",
       "<table border=\"1\" class=\"dataframe\">\n",
       "  <thead>\n",
       "    <tr style=\"text-align: right;\">\n",
       "      <th></th>\n",
       "      <th>Unnamed: 0</th>\n",
       "      <th>movie_id</th>\n",
       "      <th>movie_cluster</th>\n",
       "      <th>movie_name_x</th>\n",
       "      <th>release_date</th>\n",
       "      <th>runtime_x</th>\n",
       "      <th>language</th>\n",
       "      <th>country</th>\n",
       "      <th>genres</th>\n",
       "      <th>movie_year</th>\n",
       "      <th>...</th>\n",
       "      <th>book_summary</th>\n",
       "      <th>film_summary</th>\n",
       "      <th>similarity</th>\n",
       "      <th>film_sentiment</th>\n",
       "      <th>film_sentiment_score</th>\n",
       "      <th>book_sentiment</th>\n",
       "      <th>book_sentiment_score</th>\n",
       "      <th>Year</th>\n",
       "      <th>CPI</th>\n",
       "      <th>AdjustedRevenue</th>\n",
       "    </tr>\n",
       "  </thead>\n",
       "  <tbody>\n",
       "  </tbody>\n",
       "</table>\n",
       "<p>0 rows × 42 columns</p>\n",
       "</div>"
      ],
      "text/plain": [
       "Empty DataFrame\n",
       "Columns: [Unnamed: 0, movie_id, movie_cluster, movie_name_x, release_date, runtime_x, language, country, genres, movie_year, index, id, BookTitle, BookYear, Author, full name, tmdb_id, id_goodreads, imdbid, runtime_y, revenue, budget, rb_ratio, book_id, normalized_rating_x, standardized_rating_x, normalized_rating_y, standardized_rating_y, length, review_count, book_title, movie_name_y, book_summary, film_summary, similarity, film_sentiment, film_sentiment_score, book_sentiment, book_sentiment_score, Year, CPI, AdjustedRevenue]\n",
       "Index: []\n",
       "\n",
       "[0 rows x 42 columns]"
      ]
     },
     "execution_count": 62,
     "metadata": {},
     "output_type": "execute_result"
    }
   ],
   "source": [
    "Planete_singes"
   ]
  },
  {
   "cell_type": "code",
   "execution_count": 63,
   "metadata": {},
   "outputs": [
    {
     "data": {
      "text/plain": [
       "Index(['Unnamed: 0', 'movie_id', 'movie_cluster', 'movie_name_x',\n",
       "       'release_date', 'runtime_x', 'language', 'country', 'genres',\n",
       "       'movie_year', 'index', 'id', 'BookTitle', 'BookYear', 'Author',\n",
       "       'full name', 'tmdb_id', 'id_goodreads', 'imdbid', 'runtime_y',\n",
       "       'revenue', 'budget', 'rb_ratio', 'book_id', 'normalized_rating_x',\n",
       "       'standardized_rating_x', 'normalized_rating_y', 'standardized_rating_y',\n",
       "       'length', 'review_count', 'book_title', 'movie_name_y', 'book_summary',\n",
       "       'film_summary', 'similarity', 'film_sentiment', 'film_sentiment_score',\n",
       "       'book_sentiment', 'book_sentiment_score', 'Year', 'CPI',\n",
       "       'AdjustedRevenue'],\n",
       "      dtype='object')"
      ]
     },
     "execution_count": 63,
     "metadata": {},
     "output_type": "execute_result"
    }
   ],
   "source": [
    "frankenstein.columns"
   ]
  },
  {
   "cell_type": "code",
   "execution_count": null,
   "metadata": {},
   "outputs": [],
   "source": []
  }
 ],
 "metadata": {
  "kernelspec": {
   "display_name": "ada",
   "language": "python",
   "name": "python3"
  },
  "language_info": {
   "codemirror_mode": {
    "name": "ipython",
    "version": 3
   },
   "file_extension": ".py",
   "mimetype": "text/x-python",
   "name": "python",
   "nbconvert_exporter": "python",
   "pygments_lexer": "ipython3",
   "version": "3.11.10"
  }
 },
 "nbformat": 4,
 "nbformat_minor": 2
}
