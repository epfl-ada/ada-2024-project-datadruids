{
 "cells": [
  {
   "cell_type": "code",
   "execution_count": 10,
   "metadata": {},
   "outputs": [],
   "source": [
    "import numpy as np\n",
    "import pandas as pd \n",
    "from datasets import load_dataset\n",
    "import tqdm as tqdm\n",
    "import matplotlib.pyplot as plt\n",
    "import plotly.express as px\n"
   ]
  },
  {
   "cell_type": "code",
   "execution_count": 11,
   "metadata": {},
   "outputs": [],
   "source": [
    "regression_dataset = load_dataset(\"ada-datadruids/regression_dataset_tmdb\")\n",
    "regression_dataset_df = regression_dataset['train'].to_pandas()"
   ]
  },
  {
   "cell_type": "code",
   "execution_count": 12,
   "metadata": {},
   "outputs": [
    {
     "data": {
      "text/plain": [
       "Index(['id', 'title', 'vote_average', 'vote_count', 'status', 'release_date',\n",
       "       'revenue', 'runtime', 'adult', 'backdrop_path', 'budget', 'homepage',\n",
       "       'imdb_id', 'original_language', 'original_title', 'overview',\n",
       "       'popularity', 'poster_path', 'tagline', 'genres',\n",
       "       'production_companies', 'production_countries', 'spoken_languages',\n",
       "       'keywords', 'based_on_book'],\n",
       "      dtype='object')"
      ]
     },
     "execution_count": 12,
     "metadata": {},
     "output_type": "execute_result"
    }
   ],
   "source": [
    "regression_dataset_df.columns"
   ]
  },
  {
   "cell_type": "code",
   "execution_count": 13,
   "metadata": {},
   "outputs": [
    {
     "data": {
      "text/plain": [
       "Index(['Unnamed: 0', 'movie_id', 'movie_cluster', 'movie_name', 'release_date',\n",
       "       'runtime_x', 'language', 'country', 'genres', 'movie_year', 'index',\n",
       "       'id', 'BookTitle', 'BookYear', 'Author', 'full name', 'tmdb_id',\n",
       "       'id_goodreads', 'imdbid', 'runtime_y', 'revenue', 'budget', 'rb_ratio',\n",
       "       'book_id', 'normalized_rating_x', 'standardized_rating_x',\n",
       "       'normalized_rating_y', 'standardized_rating_y', 'length',\n",
       "       'review_count'],\n",
       "      dtype='object')"
      ]
     },
     "execution_count": 13,
     "metadata": {},
     "output_type": "execute_result"
    }
   ],
   "source": [
    "books_movie_dataset = pd.read_csv(\"../data/final_dataset.csv\")\n",
    "books_movie_dataset.columns"
   ]
  },
  {
   "cell_type": "code",
   "execution_count": 14,
   "metadata": {},
   "outputs": [],
   "source": [
    "from utils.general_utils import adjust_for_inflation_final_dataset\n",
    "books_movie_dataset_cleaned = books_movie_dataset[books_movie_dataset['revenue'] != 0]\n",
    "books_movie_dataset_cleaned = adjust_for_inflation_final_dataset(books_movie_dataset, books_movie_dataset_cleaned)"
   ]
  },
  {
   "cell_type": "code",
   "execution_count": 15,
   "metadata": {},
   "outputs": [
    {
     "name": "stdout",
     "output_type": "stream",
     "text": [
      "        book_id                                   BookTitle  adaptation_count\n",
      "297    414895.0                       La Planète des singes                 7\n",
      "629  35031085.0                                Frankenstein                 7\n",
      "405    897831.0                                The Exorcist                 5\n",
      "114     34268.0  Peter Pan, or The Boy Who Wouldn't Grow Up                 5\n",
      "47       7190.0                     Les Trois Mousquetaires                 5\n",
      "..          ...                                         ...               ...\n",
      "50       7604.0                                      Lolita                 2\n",
      "16       2493.0                            The Time Machine                 2\n",
      "618  19161905.0                                 The Getaway                 2\n",
      "632  40940649.0                                 I Am Legend                 2\n",
      "574   6356906.0                     The Apple Dumpling Gang                 2\n",
      "\n",
      "[87 rows x 3 columns]\n"
     ]
    }
   ],
   "source": [
    "book_adaptations = books_movie_dataset_cleaned.groupby(['book_id', 'BookTitle']).size().reset_index(name='adaptation_count')\n",
    "\n",
    "# Sort by 'adaptation_count' in descending order to see the most frequently adapted books\n",
    "book_adaptations = book_adaptations.sort_values(by='adaptation_count', ascending=False)\n",
    "\n",
    "# Display the top books with the most adaptations\n",
    "print(book_adaptations[book_adaptations.adaptation_count > 1])"
   ]
  },
  {
   "cell_type": "code",
   "execution_count": 16,
   "metadata": {},
   "outputs": [],
   "source": [
    "Planete_singes=books_movie_dataset_cleaned[books_movie_dataset_cleaned['BookTitle']=='La Planète des singes']\n",
    "frankenstein = books_movie_dataset_cleaned[books_movie_dataset_cleaned['BookTitle']=='Frankenstein']\n",
    "exorcist= books_movie_dataset_cleaned[books_movie_dataset_cleaned['BookTitle']=='The Exorcist']\n",
    "peter_pan=books_movie_dataset_cleaned[books_movie_dataset_cleaned['BookTitle']==\"Peter Pan, or The Boy Who Wouldn't Grow Up\"]\n",
    "trois_mousquetaires=books_movie_dataset_cleaned[books_movie_dataset_cleaned['BookTitle']=='Les Trois Mousquetaires']"
   ]
  },
  {
   "cell_type": "code",
   "execution_count": 29,
   "metadata": {},
   "outputs": [],
   "source": [
    "books_with_multiple_films = ['La Planète des singes', 'Frankenstein', 'The Exorcist',\"Peter Pan, or The Boy Who Wouldn't Grow Up\", 'Les Trois Mousquetaires']\n",
    "books_movie_dataset_cleaned['BookIdentifier'] = books_movie_dataset_cleaned['BookTitle'].where(books_movie_dataset_cleaned['BookTitle'].isin(books_with_multiple_films))\n",
    "books_filtered = books_movie_dataset_cleaned[books_movie_dataset_cleaned['BookIdentifier'].notnull()]"
   ]
  },
  {
   "cell_type": "code",
   "execution_count": 31,
   "metadata": {},
   "outputs": [
    {
     "data": {
      "application/vnd.plotly.v1+json": {
       "config": {
        "plotlyServerURL": "https://plot.ly"
       },
       "data": [
        {
         "customdata": [
          [
           "Frankenstein",
           1818
          ],
          [
           "Frankenstein",
           1818
          ],
          [
           "Frankenstein",
           1818
          ],
          [
           "Frankenstein",
           1818
          ],
          [
           "Frankenstein",
           1818
          ],
          [
           "Frankenstein",
           1818
          ],
          [
           "Frankenstein",
           1818
          ]
         ],
         "hovertemplate": "<b>Book Title:</b> %{customdata[0]}<br><b>Book Release Year:</b> %{customdata[1]}<br><b>Movie Release Year:</b> %{x}<br><b>Years to Movie Release:</b> %{y}<br>",
         "legendgroup": "Frankenstein",
         "marker": {
          "color": "#636efa",
          "symbol": "circle"
         },
         "mode": "markers",
         "name": "Frankenstein",
         "orientation": "v",
         "showlegend": true,
         "type": "scatter",
         "x": [
          1948,
          1957,
          1985,
          1931,
          1974,
          1990,
          2004
         ],
         "xaxis": "x",
         "y": [
          4812444,
          8000000,
          3558669,
          12000000,
          86273333,
          334748,
          300257475
         ],
         "yaxis": "y"
        },
        {
         "customdata": [
          [
           "La Planète des singes",
           1963
          ],
          [
           "La Planète des singes",
           1963
          ],
          [
           "La Planète des singes",
           1963
          ],
          [
           "La Planète des singes",
           1963
          ],
          [
           "La Planète des singes",
           1963
          ],
          [
           "La Planète des singes",
           1963
          ],
          [
           "La Planète des singes",
           1963
          ]
         ],
         "hovertemplate": "<b>Book Title:</b> %{customdata[0]}<br><b>Book Release Year:</b> %{customdata[1]}<br><b>Movie Release Year:</b> %{x}<br><b>Years to Movie Release:</b> %{y}<br>",
         "legendgroup": "La Planète des singes",
         "marker": {
          "color": "#EF553B",
          "symbol": "circle"
         },
         "mode": "markers",
         "name": "La Planète des singes",
         "orientation": "v",
         "showlegend": true,
         "type": "scatter",
         "x": [
          1972,
          1968,
          2011,
          1971,
          1973,
          2001,
          1970
         ],
         "xaxis": "x",
         "y": [
          9700000,
          32589624,
          482860185,
          12348905,
          8844595,
          362211740,
          18999718
         ],
         "yaxis": "y"
        },
        {
         "customdata": [
          [
           "Peter Pan, or The Boy Who Wouldn't Grow Up",
           1911
          ],
          [
           "Peter Pan, or The Boy Who Wouldn't Grow Up",
           1911
          ],
          [
           "Peter Pan, or The Boy Who Wouldn't Grow Up",
           1911
          ],
          [
           "Peter Pan, or The Boy Who Wouldn't Grow Up",
           1911
          ],
          [
           "Peter Pan, or The Boy Who Wouldn't Grow Up",
           1911
          ]
         ],
         "hovertemplate": "<b>Book Title:</b> %{customdata[0]}<br><b>Book Release Year:</b> %{customdata[1]}<br><b>Movie Release Year:</b> %{x}<br><b>Years to Movie Release:</b> %{y}<br>",
         "legendgroup": "Peter Pan, or The Boy Who Wouldn't Grow Up",
         "marker": {
          "color": "#00cc96",
          "symbol": "circle"
         },
         "mode": "markers",
         "name": "Peter Pan, or The Boy Who Wouldn't Grow Up",
         "orientation": "v",
         "showlegend": true,
         "type": "scatter",
         "x": [
          2002,
          1953,
          2003,
          1991,
          2004
         ],
         "xaxis": "x",
         "y": [
          109862682,
          87404651,
          121975011,
          300855000,
          116766556
         ],
         "yaxis": "y"
        },
        {
         "customdata": [
          [
           "The Exorcist",
           1971
          ],
          [
           "The Exorcist",
           1971
          ],
          [
           "The Exorcist",
           1971
          ],
          [
           "The Exorcist",
           1971
          ],
          [
           "The Exorcist",
           1971
          ]
         ],
         "hovertemplate": "<b>Book Title:</b> %{customdata[0]}<br><b>Book Release Year:</b> %{customdata[1]}<br><b>Movie Release Year:</b> %{x}<br><b>Years to Movie Release:</b> %{y}<br>",
         "legendgroup": "The Exorcist",
         "marker": {
          "color": "#ab63fa",
          "symbol": "circle"
         },
         "mode": "markers",
         "name": "The Exorcist",
         "orientation": "v",
         "showlegend": true,
         "type": "scatter",
         "x": [
          1973,
          2004,
          1990,
          2005,
          1977
         ],
         "xaxis": "x",
         "y": [
          441405644,
          78000586,
          39024251,
          251495,
          30749142
         ],
         "yaxis": "y"
        },
        {
         "customdata": [
          [
           "Les Trois Mousquetaires",
           1844
          ],
          [
           "Les Trois Mousquetaires",
           1844
          ],
          [
           "Les Trois Mousquetaires",
           1844
          ],
          [
           "Les Trois Mousquetaires",
           1844
          ],
          [
           "Les Trois Mousquetaires",
           1844
          ]
         ],
         "hovertemplate": "<b>Book Title:</b> %{customdata[0]}<br><b>Book Release Year:</b> %{customdata[1]}<br><b>Movie Release Year:</b> %{x}<br><b>Years to Movie Release:</b> %{y}<br>",
         "legendgroup": "Les Trois Mousquetaires",
         "marker": {
          "color": "#FFA15A",
          "symbol": "circle"
         },
         "mode": "markers",
         "name": "Les Trois Mousquetaires",
         "orientation": "v",
         "showlegend": true,
         "type": "scatter",
         "x": [
          1973,
          2004,
          2011,
          2001,
          1993
         ],
         "xaxis": "x",
         "y": [
          22018000,
          null,
          132274484,
          27053815,
          53898845
         ],
         "yaxis": "y"
        }
       ],
       "layout": {
        "legend": {
         "title": {
          "text": "BookIdentifier"
         },
         "tracegroupgap": 0
        },
        "template": {
         "data": {
          "bar": [
           {
            "error_x": {
             "color": "#2a3f5f"
            },
            "error_y": {
             "color": "#2a3f5f"
            },
            "marker": {
             "line": {
              "color": "white",
              "width": 0.5
             },
             "pattern": {
              "fillmode": "overlay",
              "size": 10,
              "solidity": 0.2
             }
            },
            "type": "bar"
           }
          ],
          "barpolar": [
           {
            "marker": {
             "line": {
              "color": "white",
              "width": 0.5
             },
             "pattern": {
              "fillmode": "overlay",
              "size": 10,
              "solidity": 0.2
             }
            },
            "type": "barpolar"
           }
          ],
          "carpet": [
           {
            "aaxis": {
             "endlinecolor": "#2a3f5f",
             "gridcolor": "#C8D4E3",
             "linecolor": "#C8D4E3",
             "minorgridcolor": "#C8D4E3",
             "startlinecolor": "#2a3f5f"
            },
            "baxis": {
             "endlinecolor": "#2a3f5f",
             "gridcolor": "#C8D4E3",
             "linecolor": "#C8D4E3",
             "minorgridcolor": "#C8D4E3",
             "startlinecolor": "#2a3f5f"
            },
            "type": "carpet"
           }
          ],
          "choropleth": [
           {
            "colorbar": {
             "outlinewidth": 0,
             "ticks": ""
            },
            "type": "choropleth"
           }
          ],
          "contour": [
           {
            "colorbar": {
             "outlinewidth": 0,
             "ticks": ""
            },
            "colorscale": [
             [
              0,
              "#0d0887"
             ],
             [
              0.1111111111111111,
              "#46039f"
             ],
             [
              0.2222222222222222,
              "#7201a8"
             ],
             [
              0.3333333333333333,
              "#9c179e"
             ],
             [
              0.4444444444444444,
              "#bd3786"
             ],
             [
              0.5555555555555556,
              "#d8576b"
             ],
             [
              0.6666666666666666,
              "#ed7953"
             ],
             [
              0.7777777777777778,
              "#fb9f3a"
             ],
             [
              0.8888888888888888,
              "#fdca26"
             ],
             [
              1,
              "#f0f921"
             ]
            ],
            "type": "contour"
           }
          ],
          "contourcarpet": [
           {
            "colorbar": {
             "outlinewidth": 0,
             "ticks": ""
            },
            "type": "contourcarpet"
           }
          ],
          "heatmap": [
           {
            "colorbar": {
             "outlinewidth": 0,
             "ticks": ""
            },
            "colorscale": [
             [
              0,
              "#0d0887"
             ],
             [
              0.1111111111111111,
              "#46039f"
             ],
             [
              0.2222222222222222,
              "#7201a8"
             ],
             [
              0.3333333333333333,
              "#9c179e"
             ],
             [
              0.4444444444444444,
              "#bd3786"
             ],
             [
              0.5555555555555556,
              "#d8576b"
             ],
             [
              0.6666666666666666,
              "#ed7953"
             ],
             [
              0.7777777777777778,
              "#fb9f3a"
             ],
             [
              0.8888888888888888,
              "#fdca26"
             ],
             [
              1,
              "#f0f921"
             ]
            ],
            "type": "heatmap"
           }
          ],
          "heatmapgl": [
           {
            "colorbar": {
             "outlinewidth": 0,
             "ticks": ""
            },
            "colorscale": [
             [
              0,
              "#0d0887"
             ],
             [
              0.1111111111111111,
              "#46039f"
             ],
             [
              0.2222222222222222,
              "#7201a8"
             ],
             [
              0.3333333333333333,
              "#9c179e"
             ],
             [
              0.4444444444444444,
              "#bd3786"
             ],
             [
              0.5555555555555556,
              "#d8576b"
             ],
             [
              0.6666666666666666,
              "#ed7953"
             ],
             [
              0.7777777777777778,
              "#fb9f3a"
             ],
             [
              0.8888888888888888,
              "#fdca26"
             ],
             [
              1,
              "#f0f921"
             ]
            ],
            "type": "heatmapgl"
           }
          ],
          "histogram": [
           {
            "marker": {
             "pattern": {
              "fillmode": "overlay",
              "size": 10,
              "solidity": 0.2
             }
            },
            "type": "histogram"
           }
          ],
          "histogram2d": [
           {
            "colorbar": {
             "outlinewidth": 0,
             "ticks": ""
            },
            "colorscale": [
             [
              0,
              "#0d0887"
             ],
             [
              0.1111111111111111,
              "#46039f"
             ],
             [
              0.2222222222222222,
              "#7201a8"
             ],
             [
              0.3333333333333333,
              "#9c179e"
             ],
             [
              0.4444444444444444,
              "#bd3786"
             ],
             [
              0.5555555555555556,
              "#d8576b"
             ],
             [
              0.6666666666666666,
              "#ed7953"
             ],
             [
              0.7777777777777778,
              "#fb9f3a"
             ],
             [
              0.8888888888888888,
              "#fdca26"
             ],
             [
              1,
              "#f0f921"
             ]
            ],
            "type": "histogram2d"
           }
          ],
          "histogram2dcontour": [
           {
            "colorbar": {
             "outlinewidth": 0,
             "ticks": ""
            },
            "colorscale": [
             [
              0,
              "#0d0887"
             ],
             [
              0.1111111111111111,
              "#46039f"
             ],
             [
              0.2222222222222222,
              "#7201a8"
             ],
             [
              0.3333333333333333,
              "#9c179e"
             ],
             [
              0.4444444444444444,
              "#bd3786"
             ],
             [
              0.5555555555555556,
              "#d8576b"
             ],
             [
              0.6666666666666666,
              "#ed7953"
             ],
             [
              0.7777777777777778,
              "#fb9f3a"
             ],
             [
              0.8888888888888888,
              "#fdca26"
             ],
             [
              1,
              "#f0f921"
             ]
            ],
            "type": "histogram2dcontour"
           }
          ],
          "mesh3d": [
           {
            "colorbar": {
             "outlinewidth": 0,
             "ticks": ""
            },
            "type": "mesh3d"
           }
          ],
          "parcoords": [
           {
            "line": {
             "colorbar": {
              "outlinewidth": 0,
              "ticks": ""
             }
            },
            "type": "parcoords"
           }
          ],
          "pie": [
           {
            "automargin": true,
            "type": "pie"
           }
          ],
          "scatter": [
           {
            "fillpattern": {
             "fillmode": "overlay",
             "size": 10,
             "solidity": 0.2
            },
            "type": "scatter"
           }
          ],
          "scatter3d": [
           {
            "line": {
             "colorbar": {
              "outlinewidth": 0,
              "ticks": ""
             }
            },
            "marker": {
             "colorbar": {
              "outlinewidth": 0,
              "ticks": ""
             }
            },
            "type": "scatter3d"
           }
          ],
          "scattercarpet": [
           {
            "marker": {
             "colorbar": {
              "outlinewidth": 0,
              "ticks": ""
             }
            },
            "type": "scattercarpet"
           }
          ],
          "scattergeo": [
           {
            "marker": {
             "colorbar": {
              "outlinewidth": 0,
              "ticks": ""
             }
            },
            "type": "scattergeo"
           }
          ],
          "scattergl": [
           {
            "marker": {
             "colorbar": {
              "outlinewidth": 0,
              "ticks": ""
             }
            },
            "type": "scattergl"
           }
          ],
          "scattermapbox": [
           {
            "marker": {
             "colorbar": {
              "outlinewidth": 0,
              "ticks": ""
             }
            },
            "type": "scattermapbox"
           }
          ],
          "scatterpolar": [
           {
            "marker": {
             "colorbar": {
              "outlinewidth": 0,
              "ticks": ""
             }
            },
            "type": "scatterpolar"
           }
          ],
          "scatterpolargl": [
           {
            "marker": {
             "colorbar": {
              "outlinewidth": 0,
              "ticks": ""
             }
            },
            "type": "scatterpolargl"
           }
          ],
          "scatterternary": [
           {
            "marker": {
             "colorbar": {
              "outlinewidth": 0,
              "ticks": ""
             }
            },
            "type": "scatterternary"
           }
          ],
          "surface": [
           {
            "colorbar": {
             "outlinewidth": 0,
             "ticks": ""
            },
            "colorscale": [
             [
              0,
              "#0d0887"
             ],
             [
              0.1111111111111111,
              "#46039f"
             ],
             [
              0.2222222222222222,
              "#7201a8"
             ],
             [
              0.3333333333333333,
              "#9c179e"
             ],
             [
              0.4444444444444444,
              "#bd3786"
             ],
             [
              0.5555555555555556,
              "#d8576b"
             ],
             [
              0.6666666666666666,
              "#ed7953"
             ],
             [
              0.7777777777777778,
              "#fb9f3a"
             ],
             [
              0.8888888888888888,
              "#fdca26"
             ],
             [
              1,
              "#f0f921"
             ]
            ],
            "type": "surface"
           }
          ],
          "table": [
           {
            "cells": {
             "fill": {
              "color": "#EBF0F8"
             },
             "line": {
              "color": "white"
             }
            },
            "header": {
             "fill": {
              "color": "#C8D4E3"
             },
             "line": {
              "color": "white"
             }
            },
            "type": "table"
           }
          ]
         },
         "layout": {
          "annotationdefaults": {
           "arrowcolor": "#2a3f5f",
           "arrowhead": 0,
           "arrowwidth": 1
          },
          "autotypenumbers": "strict",
          "coloraxis": {
           "colorbar": {
            "outlinewidth": 0,
            "ticks": ""
           }
          },
          "colorscale": {
           "diverging": [
            [
             0,
             "#8e0152"
            ],
            [
             0.1,
             "#c51b7d"
            ],
            [
             0.2,
             "#de77ae"
            ],
            [
             0.3,
             "#f1b6da"
            ],
            [
             0.4,
             "#fde0ef"
            ],
            [
             0.5,
             "#f7f7f7"
            ],
            [
             0.6,
             "#e6f5d0"
            ],
            [
             0.7,
             "#b8e186"
            ],
            [
             0.8,
             "#7fbc41"
            ],
            [
             0.9,
             "#4d9221"
            ],
            [
             1,
             "#276419"
            ]
           ],
           "sequential": [
            [
             0,
             "#0d0887"
            ],
            [
             0.1111111111111111,
             "#46039f"
            ],
            [
             0.2222222222222222,
             "#7201a8"
            ],
            [
             0.3333333333333333,
             "#9c179e"
            ],
            [
             0.4444444444444444,
             "#bd3786"
            ],
            [
             0.5555555555555556,
             "#d8576b"
            ],
            [
             0.6666666666666666,
             "#ed7953"
            ],
            [
             0.7777777777777778,
             "#fb9f3a"
            ],
            [
             0.8888888888888888,
             "#fdca26"
            ],
            [
             1,
             "#f0f921"
            ]
           ],
           "sequentialminus": [
            [
             0,
             "#0d0887"
            ],
            [
             0.1111111111111111,
             "#46039f"
            ],
            [
             0.2222222222222222,
             "#7201a8"
            ],
            [
             0.3333333333333333,
             "#9c179e"
            ],
            [
             0.4444444444444444,
             "#bd3786"
            ],
            [
             0.5555555555555556,
             "#d8576b"
            ],
            [
             0.6666666666666666,
             "#ed7953"
            ],
            [
             0.7777777777777778,
             "#fb9f3a"
            ],
            [
             0.8888888888888888,
             "#fdca26"
            ],
            [
             1,
             "#f0f921"
            ]
           ]
          },
          "colorway": [
           "#636efa",
           "#EF553B",
           "#00cc96",
           "#ab63fa",
           "#FFA15A",
           "#19d3f3",
           "#FF6692",
           "#B6E880",
           "#FF97FF",
           "#FECB52"
          ],
          "font": {
           "color": "#2a3f5f"
          },
          "geo": {
           "bgcolor": "white",
           "lakecolor": "white",
           "landcolor": "white",
           "showlakes": true,
           "showland": true,
           "subunitcolor": "#C8D4E3"
          },
          "hoverlabel": {
           "align": "left"
          },
          "hovermode": "closest",
          "mapbox": {
           "style": "light"
          },
          "paper_bgcolor": "white",
          "plot_bgcolor": "white",
          "polar": {
           "angularaxis": {
            "gridcolor": "#EBF0F8",
            "linecolor": "#EBF0F8",
            "ticks": ""
           },
           "bgcolor": "white",
           "radialaxis": {
            "gridcolor": "#EBF0F8",
            "linecolor": "#EBF0F8",
            "ticks": ""
           }
          },
          "scene": {
           "xaxis": {
            "backgroundcolor": "white",
            "gridcolor": "#DFE8F3",
            "gridwidth": 2,
            "linecolor": "#EBF0F8",
            "showbackground": true,
            "ticks": "",
            "zerolinecolor": "#EBF0F8"
           },
           "yaxis": {
            "backgroundcolor": "white",
            "gridcolor": "#DFE8F3",
            "gridwidth": 2,
            "linecolor": "#EBF0F8",
            "showbackground": true,
            "ticks": "",
            "zerolinecolor": "#EBF0F8"
           },
           "zaxis": {
            "backgroundcolor": "white",
            "gridcolor": "#DFE8F3",
            "gridwidth": 2,
            "linecolor": "#EBF0F8",
            "showbackground": true,
            "ticks": "",
            "zerolinecolor": "#EBF0F8"
           }
          },
          "shapedefaults": {
           "line": {
            "color": "#2a3f5f"
           }
          },
          "ternary": {
           "aaxis": {
            "gridcolor": "#DFE8F3",
            "linecolor": "#A2B1C6",
            "ticks": ""
           },
           "baxis": {
            "gridcolor": "#DFE8F3",
            "linecolor": "#A2B1C6",
            "ticks": ""
           },
           "bgcolor": "white",
           "caxis": {
            "gridcolor": "#DFE8F3",
            "linecolor": "#A2B1C6",
            "ticks": ""
           }
          },
          "title": {
           "x": 0.05
          },
          "xaxis": {
           "automargin": true,
           "gridcolor": "#EBF0F8",
           "linecolor": "#EBF0F8",
           "ticks": "",
           "title": {
            "standoff": 15
           },
           "zerolinecolor": "#EBF0F8",
           "zerolinewidth": 2
          },
          "yaxis": {
           "automargin": true,
           "gridcolor": "#EBF0F8",
           "linecolor": "#EBF0F8",
           "ticks": "",
           "title": {
            "standoff": 15
           },
           "zerolinecolor": "#EBF0F8",
           "zerolinewidth": 2
          }
         }
        },
        "title": {
         "text": "Revenue for different Books adapted multiple Times"
        },
        "xaxis": {
         "anchor": "y",
         "domain": [
          0,
          1
         ],
         "title": {
          "text": "movie_year"
         }
        },
        "yaxis": {
         "anchor": "x",
         "domain": [
          0,
          1
         ],
         "title": {
          "text": "revenue"
         }
        }
       }
      }
     },
     "metadata": {},
     "output_type": "display_data"
    }
   ],
   "source": [
    "fig = px.scatter(\n",
    "    books_filtered,\n",
    "    x='movie_year',\n",
    "    y='revenue',\n",
    "    color='BookIdentifier',\n",
    "    hover_data={'BookTitle': True, 'BookYear': True, 'movie_year': True},\n",
    "    title='Revenue for different Books adapted multiple Times',\n",
    "    labels={'BookYear': 'Book Release Year', 'years_to_movie': 'Years to Movie Release'},\n",
    "    template='plotly_white'\n",
    ")\n",
    "\n",
    "fig.update_traces(\n",
    "    hovertemplate='<b>Book Title:</b> %{customdata[0]}<br>' +\n",
    "                  '<b>Book Release Year:</b> %{customdata[1]}<br>' +\n",
    "                  '<b>Movie Release Year:</b> %{x}<br>' +\n",
    "                  '<b>Years to Movie Release:</b> %{y}<br>'\n",
    ")\n",
    "\n",
    "fig.show()\n"
   ]
  },
  {
   "cell_type": "code",
   "execution_count": null,
   "metadata": {},
   "outputs": [],
   "source": []
  }
 ],
 "metadata": {
  "kernelspec": {
   "display_name": "ada",
   "language": "python",
   "name": "python3"
  },
  "language_info": {
   "codemirror_mode": {
    "name": "ipython",
    "version": 3
   },
   "file_extension": ".py",
   "mimetype": "text/x-python",
   "name": "python",
   "nbconvert_exporter": "python",
   "pygments_lexer": "ipython3",
   "version": "3.11.10"
  }
 },
 "nbformat": 4,
 "nbformat_minor": 2
}
