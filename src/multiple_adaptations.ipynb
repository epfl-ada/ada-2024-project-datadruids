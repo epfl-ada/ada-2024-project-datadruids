{
 "cells": [
  {
   "cell_type": "code",
   "execution_count": 1804,
   "metadata": {},
   "outputs": [],
   "source": [
    "import numpy as np\n",
    "import pandas as pd \n",
    "from datasets import load_dataset\n",
    "import tqdm as tqdm\n",
    "import matplotlib.pyplot as plt\n",
    "import plotly.express as px\n",
    "import plotly.graph_objects as go\n",
    "from utils.regression_utils import adjust_for_inflation\n",
    "from utils.general_utils import adjust_for_inflation_final_dataset\n",
    "from sklearn.preprocessing import StandardScaler\n"
   ]
  },
  {
   "cell_type": "code",
   "execution_count": 1805,
   "metadata": {},
   "outputs": [],
   "source": [
    "books_movie_dataset = pd.read_csv(\"../data/final_dataset.csv\")\n",
    "similarites = load_dataset(\"ada-datadruids/bookfilm_summaries_with_similarity_and_sentiment\")\n",
    "similarites_df = similarites['train'].to_pandas()\n"
   ]
  },
  {
   "cell_type": "code",
   "execution_count": 1806,
   "metadata": {},
   "outputs": [
    {
     "data": {
      "text/plain": [
       "5       0.451876\n",
       "6       0.559594\n",
       "7       0.344548\n",
       "8       0.669707\n",
       "14      0.852735\n",
       "          ...   \n",
       "1857    0.704500\n",
       "1861    0.677893\n",
       "1863    0.686086\n",
       "1864    0.762416\n",
       "1866    0.825776\n",
       "Name: similarity, Length: 837, dtype: float64"
      ]
     },
     "execution_count": 1806,
     "metadata": {},
     "output_type": "execute_result"
    }
   ],
   "source": [
    "books_movie_dataset_n= pd.merge(books_movie_dataset, similarites_df, on = 'movie_id', how ='left')\n",
    "books_movie_dataset_n.dropna(subset='similarity', inplace=True)\n",
    "books_movie_dataset_n['similarity']"
   ]
  },
  {
   "cell_type": "code",
   "execution_count": 1807,
   "metadata": {},
   "outputs": [
    {
     "name": "stderr",
     "output_type": "stream",
     "text": [
      "c:\\Users\\manse\\Desktop\\MA3\\ADA\\MS3\\ada-2024-project-datadruids\\src\\utils\\regression_utils.py:49: SettingWithCopyWarning:\n",
      "\n",
      "\n",
      "A value is trying to be set on a copy of a slice from a DataFrame.\n",
      "Try using .loc[row_indexer,col_indexer] = value instead\n",
      "\n",
      "See the caveats in the documentation: https://pandas.pydata.org/pandas-docs/stable/user_guide/indexing.html#returning-a-view-versus-a-copy\n",
      "\n",
      "c:\\Users\\manse\\Desktop\\MA3\\ADA\\MS3\\ada-2024-project-datadruids\\src\\utils\\regression_utils.py:52: SettingWithCopyWarning:\n",
      "\n",
      "\n",
      "A value is trying to be set on a copy of a slice from a DataFrame.\n",
      "Try using .loc[row_indexer,col_indexer] = value instead\n",
      "\n",
      "See the caveats in the documentation: https://pandas.pydata.org/pandas-docs/stable/user_guide/indexing.html#returning-a-view-versus-a-copy\n",
      "\n"
     ]
    },
    {
     "data": {
      "text/plain": [
       "Index(['BookTitle', 'runtime_y', 'movie_name_x', 'movie_year', 'similarity',\n",
       "       'film_sentiment_score', 'book_sentiment_score', 'adjusted_budget',\n",
       "       'adjusted_revenue'],\n",
       "      dtype='object')"
      ]
     },
     "execution_count": 1807,
     "metadata": {},
     "output_type": "execute_result"
    }
   ],
   "source": [
    "books_movie_dataset_cleaned = books_movie_dataset_n[books_movie_dataset_n['revenue'] != 0]\n",
    "relevant_columns = ['BookTitle','runtime_y','budget','revenue','movie_name_x','release_date','movie_year','similarity','film_sentiment_score','book_sentiment_score']\n",
    "relevant_movies = books_movie_dataset_cleaned[relevant_columns]\n",
    "relevant_movies = adjust_for_inflation(relevant_movies, ['budget', 'revenue'], is_plotting_enabled=False)\n",
    "relevant_movies.drop(columns=['revenue','budget','release_date'], inplace=True)\n",
    "relevant_movies.columns"
   ]
  },
  {
   "cell_type": "code",
   "execution_count": 1808,
   "metadata": {},
   "outputs": [
    {
     "name": "stderr",
     "output_type": "stream",
     "text": [
      "C:\\Users\\manse\\AppData\\Local\\Temp\\ipykernel_48000\\2851071356.py:26: FutureWarning:\n",
      "\n",
      "The behavior of DataFrame concatenation with empty or all-NA entries is deprecated. In a future version, this will no longer exclude empty or all-NA columns when determining the result dtypes. To retain the old behavior, exclude the relevant entries before the concat operation.\n",
      "\n",
      "C:\\Users\\manse\\AppData\\Local\\Temp\\ipykernel_48000\\2851071356.py:36: FutureWarning:\n",
      "\n",
      "The behavior of DataFrame concatenation with empty or all-NA entries is deprecated. In a future version, this will no longer exclude empty or all-NA columns when determining the result dtypes. To retain the old behavior, exclude the relevant entries before the concat operation.\n",
      "\n",
      "C:\\Users\\manse\\AppData\\Local\\Temp\\ipykernel_48000\\2851071356.py:46: FutureWarning:\n",
      "\n",
      "The behavior of DataFrame concatenation with empty or all-NA entries is deprecated. In a future version, this will no longer exclude empty or all-NA columns when determining the result dtypes. To retain the old behavior, exclude the relevant entries before the concat operation.\n",
      "\n",
      "C:\\Users\\manse\\AppData\\Local\\Temp\\ipykernel_48000\\2851071356.py:50: UserWarning:\n",
      "\n",
      "Boolean Series key will be reindexed to match DataFrame index.\n",
      "\n",
      "C:\\Users\\manse\\AppData\\Local\\Temp\\ipykernel_48000\\2851071356.py:56: FutureWarning:\n",
      "\n",
      "The behavior of DataFrame concatenation with empty or all-NA entries is deprecated. In a future version, this will no longer exclude empty or all-NA columns when determining the result dtypes. To retain the old behavior, exclude the relevant entries before the concat operation.\n",
      "\n",
      "C:\\Users\\manse\\AppData\\Local\\Temp\\ipykernel_48000\\2851071356.py:50: UserWarning:\n",
      "\n",
      "Boolean Series key will be reindexed to match DataFrame index.\n",
      "\n"
     ]
    },
    {
     "data": {
      "text/html": [
       "<div>\n",
       "<style scoped>\n",
       "    .dataframe tbody tr th:only-of-type {\n",
       "        vertical-align: middle;\n",
       "    }\n",
       "\n",
       "    .dataframe tbody tr th {\n",
       "        vertical-align: top;\n",
       "    }\n",
       "\n",
       "    .dataframe thead th {\n",
       "        text-align: right;\n",
       "    }\n",
       "</style>\n",
       "<table border=\"1\" class=\"dataframe\">\n",
       "  <thead>\n",
       "    <tr style=\"text-align: right;\">\n",
       "      <th></th>\n",
       "      <th>runtime_y</th>\n",
       "      <th>movie_year</th>\n",
       "      <th>similarity</th>\n",
       "      <th>adjusted_budget</th>\n",
       "      <th>adjusted_revenue</th>\n",
       "      <th>BookTitle</th>\n",
       "    </tr>\n",
       "  </thead>\n",
       "  <tbody>\n",
       "    <tr>\n",
       "      <th>0</th>\n",
       "      <td>0.504869</td>\n",
       "      <td>0.173943</td>\n",
       "      <td>0.351785</td>\n",
       "      <td>-0.328208</td>\n",
       "      <td>1.594200</td>\n",
       "      <td>Frankenstein</td>\n",
       "    </tr>\n",
       "    <tr>\n",
       "      <th>1</th>\n",
       "      <td>1.781064</td>\n",
       "      <td>1.433530</td>\n",
       "      <td>-1.345154</td>\n",
       "      <td>2.437871</td>\n",
       "      <td>1.359189</td>\n",
       "      <td>Frankenstein</td>\n",
       "    </tr>\n",
       "    <tr>\n",
       "      <th>2</th>\n",
       "      <td>-1.213087</td>\n",
       "      <td>-1.631465</td>\n",
       "      <td>1.279729</td>\n",
       "      <td>-0.459989</td>\n",
       "      <td>0.183433</td>\n",
       "      <td>Frankenstein</td>\n",
       "    </tr>\n",
       "    <tr>\n",
       "      <th>7</th>\n",
       "      <td>1.442804</td>\n",
       "      <td>-1.267212</td>\n",
       "      <td>1.330674</td>\n",
       "      <td>0.340685</td>\n",
       "      <td>1.998053</td>\n",
       "      <td>The Exorcist</td>\n",
       "    </tr>\n",
       "    <tr>\n",
       "      <th>12</th>\n",
       "      <td>-0.829450</td>\n",
       "      <td>-1.688969</td>\n",
       "      <td>0.612689</td>\n",
       "      <td>-0.069306</td>\n",
       "      <td>1.722121</td>\n",
       "      <td>The Wonderful Wizard of Oz</td>\n",
       "    </tr>\n",
       "    <tr>\n",
       "      <th>16</th>\n",
       "      <td>-0.736398</td>\n",
       "      <td>-1.683581</td>\n",
       "      <td>0.703022</td>\n",
       "      <td>-0.408079</td>\n",
       "      <td>1.695461</td>\n",
       "      <td>The Adventures of Pinocchio</td>\n",
       "    </tr>\n",
       "    <tr>\n",
       "      <th>24</th>\n",
       "      <td>0.064150</td>\n",
       "      <td>-0.564683</td>\n",
       "      <td>-0.001110</td>\n",
       "      <td>0.518915</td>\n",
       "      <td>1.519737</td>\n",
       "      <td>First Blood</td>\n",
       "    </tr>\n",
       "    <tr>\n",
       "      <th>28</th>\n",
       "      <td>1.234936</td>\n",
       "      <td>-1.249189</td>\n",
       "      <td>1.135798</td>\n",
       "      <td>-1.291788</td>\n",
       "      <td>1.664451</td>\n",
       "      <td>Jaws</td>\n",
       "    </tr>\n",
       "    <tr>\n",
       "      <th>32</th>\n",
       "      <td>-1.263466</td>\n",
       "      <td>1.409428</td>\n",
       "      <td>-0.958688</td>\n",
       "      <td>-1.004831</td>\n",
       "      <td>1.103885</td>\n",
       "      <td>Les Liaisons dangereuses</td>\n",
       "    </tr>\n",
       "    <tr>\n",
       "      <th>33</th>\n",
       "      <td>0.081514</td>\n",
       "      <td>-0.805387</td>\n",
       "      <td>1.379726</td>\n",
       "      <td>-0.359406</td>\n",
       "      <td>0.213615</td>\n",
       "      <td>Les Liaisons dangereuses</td>\n",
       "    </tr>\n",
       "    <tr>\n",
       "      <th>35</th>\n",
       "      <td>0.647432</td>\n",
       "      <td>-1.224745</td>\n",
       "      <td>0.987865</td>\n",
       "      <td>-0.936283</td>\n",
       "      <td>1.289141</td>\n",
       "      <td>Jurassic Park</td>\n",
       "    </tr>\n",
       "    <tr>\n",
       "      <th>38</th>\n",
       "      <td>-1.404879</td>\n",
       "      <td>-1.408056</td>\n",
       "      <td>1.399234</td>\n",
       "      <td>-1.287923</td>\n",
       "      <td>1.181571</td>\n",
       "      <td>The Hundred and One Dalmatians</td>\n",
       "    </tr>\n",
       "    <tr>\n",
       "      <th>41</th>\n",
       "      <td>0.130086</td>\n",
       "      <td>-1.047385</td>\n",
       "      <td>1.300455</td>\n",
       "      <td>1.413797</td>\n",
       "      <td>1.414053</td>\n",
       "      <td>Sense and Sensibility</td>\n",
       "    </tr>\n",
       "    <tr>\n",
       "      <th>44</th>\n",
       "      <td>0.267261</td>\n",
       "      <td>1.224745</td>\n",
       "      <td>-1.060016</td>\n",
       "      <td>-1.413854</td>\n",
       "      <td>1.329084</td>\n",
       "      <td>The Invisible Man</td>\n",
       "    </tr>\n",
       "    <tr>\n",
       "      <th>47</th>\n",
       "      <td>1.024828</td>\n",
       "      <td>-1.256470</td>\n",
       "      <td>0.824454</td>\n",
       "      <td>1.390302</td>\n",
       "      <td>1.243019</td>\n",
       "      <td>Oliver Twist</td>\n",
       "    </tr>\n",
       "    <tr>\n",
       "      <th>50</th>\n",
       "      <td>0.933416</td>\n",
       "      <td>1.414214</td>\n",
       "      <td>1.089013</td>\n",
       "      <td>1.407700</td>\n",
       "      <td>1.363872</td>\n",
       "      <td>Millennium</td>\n",
       "    </tr>\n",
       "    <tr>\n",
       "      <th>53</th>\n",
       "      <td>1.315307</td>\n",
       "      <td>0.920092</td>\n",
       "      <td>-0.724149</td>\n",
       "      <td>-1.120948</td>\n",
       "      <td>1.334184</td>\n",
       "      <td>Anna Karenina</td>\n",
       "    </tr>\n",
       "    <tr>\n",
       "      <th>59</th>\n",
       "      <td>1.135550</td>\n",
       "      <td>-0.925820</td>\n",
       "      <td>1.219615</td>\n",
       "      <td>-0.796894</td>\n",
       "      <td>1.269181</td>\n",
       "      <td>Psycho</td>\n",
       "    </tr>\n",
       "    <tr>\n",
       "      <th>65</th>\n",
       "      <td>-0.592999</td>\n",
       "      <td>1.401175</td>\n",
       "      <td>0.766853</td>\n",
       "      <td>1.414214</td>\n",
       "      <td>1.040392</td>\n",
       "      <td>True Grit</td>\n",
       "    </tr>\n",
       "    <tr>\n",
       "      <th>66</th>\n",
       "      <td>1.408374</td>\n",
       "      <td>-0.866516</td>\n",
       "      <td>0.645628</td>\n",
       "      <td>-0.707107</td>\n",
       "      <td>0.309374</td>\n",
       "      <td>True Grit</td>\n",
       "    </tr>\n",
       "    <tr>\n",
       "      <th>71</th>\n",
       "      <td>-0.925820</td>\n",
       "      <td>0.832317</td>\n",
       "      <td>-1.405641</td>\n",
       "      <td>1.371375</td>\n",
       "      <td>1.410279</td>\n",
       "      <td>Treasure Island</td>\n",
       "    </tr>\n",
       "  </tbody>\n",
       "</table>\n",
       "</div>"
      ],
      "text/plain": [
       "    runtime_y  movie_year  similarity  adjusted_budget  adjusted_revenue  \\\n",
       "0    0.504869    0.173943    0.351785        -0.328208          1.594200   \n",
       "1    1.781064    1.433530   -1.345154         2.437871          1.359189   \n",
       "2   -1.213087   -1.631465    1.279729        -0.459989          0.183433   \n",
       "7    1.442804   -1.267212    1.330674         0.340685          1.998053   \n",
       "12  -0.829450   -1.688969    0.612689        -0.069306          1.722121   \n",
       "16  -0.736398   -1.683581    0.703022        -0.408079          1.695461   \n",
       "24   0.064150   -0.564683   -0.001110         0.518915          1.519737   \n",
       "28   1.234936   -1.249189    1.135798        -1.291788          1.664451   \n",
       "32  -1.263466    1.409428   -0.958688        -1.004831          1.103885   \n",
       "33   0.081514   -0.805387    1.379726        -0.359406          0.213615   \n",
       "35   0.647432   -1.224745    0.987865        -0.936283          1.289141   \n",
       "38  -1.404879   -1.408056    1.399234        -1.287923          1.181571   \n",
       "41   0.130086   -1.047385    1.300455         1.413797          1.414053   \n",
       "44   0.267261    1.224745   -1.060016        -1.413854          1.329084   \n",
       "47   1.024828   -1.256470    0.824454         1.390302          1.243019   \n",
       "50   0.933416    1.414214    1.089013         1.407700          1.363872   \n",
       "53   1.315307    0.920092   -0.724149        -1.120948          1.334184   \n",
       "59   1.135550   -0.925820    1.219615        -0.796894          1.269181   \n",
       "65  -0.592999    1.401175    0.766853         1.414214          1.040392   \n",
       "66   1.408374   -0.866516    0.645628        -0.707107          0.309374   \n",
       "71  -0.925820    0.832317   -1.405641         1.371375          1.410279   \n",
       "\n",
       "                         BookTitle  \n",
       "0                     Frankenstein  \n",
       "1                     Frankenstein  \n",
       "2                     Frankenstein  \n",
       "7                     The Exorcist  \n",
       "12      The Wonderful Wizard of Oz  \n",
       "16     The Adventures of Pinocchio  \n",
       "24                     First Blood  \n",
       "28                            Jaws  \n",
       "32        Les Liaisons dangereuses  \n",
       "33        Les Liaisons dangereuses  \n",
       "35                   Jurassic Park  \n",
       "38  The Hundred and One Dalmatians  \n",
       "41           Sense and Sensibility  \n",
       "44               The Invisible Man  \n",
       "47                    Oliver Twist  \n",
       "50                      Millennium  \n",
       "53                   Anna Karenina  \n",
       "59                          Psycho  \n",
       "65                       True Grit  \n",
       "66                       True Grit  \n",
       "71                 Treasure Island  "
      ]
     },
     "execution_count": 1808,
     "metadata": {},
     "output_type": "execute_result"
    }
   ],
   "source": [
    "multi_adapt_2 = relevant_movies[relevant_movies.groupby('BookTitle').BookTitle.transform(len) >= 2]\n",
    "multi_adapt_3 = relevant_movies[relevant_movies.groupby('BookTitle').BookTitle.transform(len) >= 3]\n",
    "multi_adapt_4 = relevant_movies[relevant_movies.groupby('BookTitle').BookTitle.transform(len) >= 4]\n",
    "multi_adapt_5 = relevant_movies[relevant_movies.groupby('BookTitle').BookTitle.transform(len) >= 5]\n",
    "\n",
    "Booktitles_2 = multi_adapt_2.value_counts('BookTitle').index.to_list()\n",
    "Booktitles_3 = multi_adapt_3.value_counts('BookTitle').index.to_list()\n",
    "Booktitles_4 = multi_adapt_4.value_counts('BookTitle').index.to_list()\n",
    "Booktitles_5 = multi_adapt_5.value_counts('BookTitle').index.to_list()\n",
    "\n",
    "target_columns = ['runtime_y', 'movie_year','similarity','adjusted_budget', 'adjusted_revenue']\n",
    "dataframe_columns = ['runtime_y', 'movie_year','similarity','adjusted_budget', 'adjusted_revenue', 'BookTitle']\n",
    "\n",
    "Std_2_films = pd.DataFrame(columns=dataframe_columns)\n",
    "Std_3_films = pd.DataFrame(columns=dataframe_columns)\n",
    "Std_4_films = pd.DataFrame(columns=dataframe_columns)\n",
    "Std_5_films = pd.DataFrame(columns=dataframe_columns)\n",
    "\n",
    "for title in Booktitles_2:\n",
    "    df = multi_adapt_2[multi_adapt_2['BookTitle']==title]\n",
    "    df = df[target_columns]\n",
    "    scaler = StandardScaler()\n",
    "    df = pd.DataFrame(scaler.fit_transform(df), columns=df.columns)\n",
    "    df.sort_values('adjusted_revenue', ascending=False, inplace=True)\n",
    "    df['BookTitle'] = title\n",
    "    Std_2_films = pd.concat([Std_2_films,df])\n",
    "Std_2_films.reset_index(drop=True,inplace=True)\n",
    "\n",
    "for title in Booktitles_3:\n",
    "    df = multi_adapt_3[multi_adapt_3['BookTitle']==title]\n",
    "    df = df[target_columns]\n",
    "    scaler = StandardScaler()\n",
    "    df = pd.DataFrame(scaler.fit_transform(df), columns=df.columns)\n",
    "    df.sort_values('adjusted_revenue', ascending=False, inplace=True)\n",
    "    df['BookTitle'] = title\n",
    "    Std_3_films = pd.concat([Std_3_films,df])\n",
    "Std_3_films.reset_index(drop=True,inplace=True)\n",
    "\n",
    "for title in Booktitles_4:\n",
    "    df = multi_adapt_4[multi_adapt_4['BookTitle']==title]\n",
    "    df = df[target_columns]\n",
    "    scaler = StandardScaler()\n",
    "    df = pd.DataFrame(scaler.fit_transform(df), columns=df.columns)\n",
    "    df.sort_values('adjusted_revenue', ascending=False, inplace=True)\n",
    "    df['BookTitle'] = title\n",
    "    Std_4_films = pd.concat([Std_4_films,df])\n",
    "Std_4_films.reset_index(drop=True,inplace=True)\n",
    "\n",
    "for title in Booktitles_5:\n",
    "    df = multi_adapt_5[multi_adapt_3['BookTitle']==title]\n",
    "    df = df[target_columns]\n",
    "    scaler = StandardScaler()\n",
    "    df = pd.DataFrame(scaler.fit_transform(df), columns=df.columns)\n",
    "    df.sort_values('adjusted_revenue', ascending=False, inplace=True)\n",
    "    df['BookTitle'] = title\n",
    "    Std_5_films = pd.concat([Std_5_films,df])\n",
    "Std_5_films.reset_index(drop=True,inplace=True)\n",
    "\n",
    "Positive_revenue_films_2 = Std_2_films[(Std_2_films['adjusted_revenue']>1.01) | ((Std_2_films['adjusted_revenue'] >0.1)&(Std_2_films['adjusted_revenue']<0.999 ))]\n",
    "Positive_revenue_films_3 = Std_3_films[(Std_3_films['adjusted_revenue']>0) & (Std_3_films['adjusted_revenue'] !=1.000000)]\n",
    "Positive_revenue_films_4 = Std_4_films[(Std_4_films['adjusted_revenue']>0) & (Std_4_films['adjusted_revenue'] !=1.000000)]\n",
    "Positive_revenue_films_5 = Std_5_films[(Std_5_films['adjusted_revenue']>0) & (Std_5_films['adjusted_revenue'] !=1.000000)]\n",
    "Positive_revenue_films_2\n",
    "\n"
   ]
  },
  {
   "cell_type": "code",
   "execution_count": null,
   "metadata": {},
   "outputs": [
    {
     "data": {
      "application/vnd.plotly.v1+json": {
       "config": {
        "plotlyServerURL": "https://plot.ly"
       },
       "data": [
        {
         "boxpoints": false,
         "name": "runtime_y",
         "type": "box",
         "y": [
          0.504868616370098,
          1.7810642855278447,
          -1.2130870921114842,
          1.4428039258044834,
          -0.8294501308100325,
          -0.7363976299669784,
          0.06415002990995841,
          1.2349356108966516,
          -1.263465676205795,
          0.08151391459392195,
          0.6474323062869342,
          -1.404878717372541,
          0.130085600097487,
          0.2672612419124244,
          1.0248280646447898,
          0.933416307359663,
          1.3153067888830305,
          1.135549947915337,
          -0.5929994533288804,
          1.4083737016560927,
          -0.9258200997725514
         ]
        },
        {
         "boxpoints": false,
         "name": "movie_year",
         "type": "box",
         "y": [
          0.17394295606408136,
          1.4335298792867492,
          -1.6314649672217427,
          -1.2672119501236472,
          -1.688968589698727,
          -1.6835809693463613,
          -0.5646829085612718,
          -1.2491885271652075,
          1.409427715949451,
          -0.8053872662568292,
          -1.224744871391589,
          -1.4080558543328756,
          -1.0473848029130146,
          1.224744871391589,
          -1.2564701354056056,
          1.4142135623730148,
          0.9200920138023028,
          -0.9258200997725514,
          1.4011746067931528,
          -0.866515875253667,
          0.8323167879989194
         ]
        },
        {
         "boxpoints": false,
         "name": "similarity",
         "type": "box",
         "y": [
          0.3517846051813324,
          -1.345153598013826,
          1.2797294516550017,
          1.3306741791191763,
          0.6126890114486381,
          0.7030223662311927,
          -0.00110974041390035,
          1.1357984585673966,
          -0.9586884316343102,
          1.379726006108312,
          0.9878649113901977,
          1.3992344075125183,
          1.3004554093898384,
          -1.0600160115232524,
          0.8244535851636595,
          1.089012967310856,
          -0.7241494326987733,
          1.219615246909482,
          0.7668530342573087,
          0.6456275717742411,
          -1.4056408937044444
         ]
        },
        {
         "boxpoints": false,
         "name": "adjusted_budget",
         "type": "box",
         "y": [
          -0.32820798201919305,
          2.4378711606367793,
          -0.4599891730345987,
          0.34068515375856295,
          -0.06930597093353182,
          -0.4080792419034834,
          0.5189149074517077,
          -1.291788474733497,
          -1.0048310686951076,
          -0.3594057304973014,
          -0.9362828631483401,
          -1.2879230682552514,
          1.4137967346500244,
          -1.4138537441172168,
          1.3903016550750413,
          1.4077001895369217,
          -1.1209479879157567,
          -0.7968944763114314,
          1.4142135623730951,
          -0.7071067811865475,
          1.3713749849257886
         ]
        },
        {
         "boxpoints": false,
         "name": "adjusted_revenue",
         "type": "box",
         "y": [
          1.594199527226006,
          1.3591887124973026,
          0.18343318312058238,
          1.9980526744545806,
          1.7221214114694443,
          1.6954611928133365,
          1.5197365190582142,
          1.6644505588257537,
          1.103885081796736,
          0.2136149648710941,
          1.2891410848470692,
          1.1815706823240222,
          1.4140527131951601,
          1.3290837231610393,
          1.24301930752821,
          1.3638724598997967,
          1.3341835463340392,
          1.2691808348837301,
          1.0403924927494232,
          0.3093744834446219,
          1.4102786812500392
         ]
        }
       ],
       "layout": {
        "sliders": [
         {
          "active": 0,
          "currentvalue": {
           "prefix": "Datase: "
          },
          "pad": {
           "t": 50
          },
          "steps": [
           {
            "args": [
             {
              "y": [
               [
                0.504868616370098,
                1.7810642855278447,
                -1.2130870921114842,
                1.4428039258044834,
                -0.8294501308100325,
                -0.7363976299669784,
                0.06415002990995841,
                1.2349356108966516,
                -1.263465676205795,
                0.08151391459392195,
                0.6474323062869342,
                -1.404878717372541,
                0.130085600097487,
                0.2672612419124244,
                1.0248280646447898,
                0.933416307359663,
                1.3153067888830305,
                1.135549947915337,
                -0.5929994533288804,
                1.4083737016560927,
                -0.9258200997725514
               ],
               [
                0.17394295606408136,
                1.4335298792867492,
                -1.6314649672217427,
                -1.2672119501236472,
                -1.688968589698727,
                -1.6835809693463613,
                -0.5646829085612718,
                -1.2491885271652075,
                1.409427715949451,
                -0.8053872662568292,
                -1.224744871391589,
                -1.4080558543328756,
                -1.0473848029130146,
                1.224744871391589,
                -1.2564701354056056,
                1.4142135623730148,
                0.9200920138023028,
                -0.9258200997725514,
                1.4011746067931528,
                -0.866515875253667,
                0.8323167879989194
               ],
               [
                0.3517846051813324,
                -1.345153598013826,
                1.2797294516550017,
                1.3306741791191763,
                0.6126890114486381,
                0.7030223662311927,
                -0.00110974041390035,
                1.1357984585673966,
                -0.9586884316343102,
                1.379726006108312,
                0.9878649113901977,
                1.3992344075125183,
                1.3004554093898384,
                -1.0600160115232524,
                0.8244535851636595,
                1.089012967310856,
                -0.7241494326987733,
                1.219615246909482,
                0.7668530342573087,
                0.6456275717742411,
                -1.4056408937044444
               ],
               [
                -0.32820798201919305,
                2.4378711606367793,
                -0.4599891730345987,
                0.34068515375856295,
                -0.06930597093353182,
                -0.4080792419034834,
                0.5189149074517077,
                -1.291788474733497,
                -1.0048310686951076,
                -0.3594057304973014,
                -0.9362828631483401,
                -1.2879230682552514,
                1.4137967346500244,
                -1.4138537441172168,
                1.3903016550750413,
                1.4077001895369217,
                -1.1209479879157567,
                -0.7968944763114314,
                1.4142135623730951,
                -0.7071067811865475,
                1.3713749849257886
               ],
               [
                1.594199527226006,
                1.3591887124973026,
                0.18343318312058238,
                1.9980526744545806,
                1.7221214114694443,
                1.6954611928133365,
                1.5197365190582142,
                1.6644505588257537,
                1.103885081796736,
                0.2136149648710941,
                1.2891410848470692,
                1.1815706823240222,
                1.4140527131951601,
                1.3290837231610393,
                1.24301930752821,
                1.3638724598997967,
                1.3341835463340392,
                1.2691808348837301,
                1.0403924927494232,
                0.3093744834446219,
                1.4102786812500392
               ]
              ]
             },
             {
              "title": "Boxplot for Dataset 1"
             }
            ],
            "label": "Dataset 1",
            "method": "update"
           },
           {
            "args": [
             {
              "y": [
               [
                0.504868616370098,
                1.7810642855278447,
                -1.2130870921114842,
                1.4428039258044834,
                -0.7363976299669784,
                0.06415002990995841,
                1.6037507477489603,
                1.2349356108966516,
                -0.8294501308100325,
                1,
                1,
                1.3153067888830305,
                -0.9258200997725514,
                0.2672612419124244,
                -1.404878717372541,
                0.8429272304235246,
                1.135549947915337,
                0.130085600097487,
                1.0248280646447898,
                0.933416307359663,
                -1.263465676205795,
                0.08151391459392195,
                0.6474323062869342,
                -0.5929994533288804,
                1.4083737016560927
               ],
               [
                0.17394295606408136,
                1.4335298792867492,
                -1.6314649672217427,
                -1.2672119501236472,
                -1.6835809693463613,
                -0.5646829085612718,
                -0.27006573887713,
                -1.2491885271652075,
                -1.688968589698727,
                1,
                1,
                0.9200920138023028,
                0.8323167879989194,
                1.224744871391589,
                -1.4080558543328756,
                0.5898612362745769,
                -0.9258200997725514,
                -1.0473848029130146,
                -1.2564701354056056,
                1.4142135623730148,
                1.409427715949451,
                -0.8053872662568292,
                -1.224744871391589,
                1.4011746067931528,
                -0.866515875253667
               ],
               [
                0.3517846051813324,
                -1.345153598013826,
                1.2797294516550017,
                1.3306741791191763,
                0.7030223662311927,
                -0.00110974041390035,
                -1.451661216821597,
                1.1357984585673966,
                0.6126890114486381,
                0.6075560092176173,
                -1.2136011615151037,
                -0.7241494326987733,
                -1.4056408937044444,
                -1.0600160115232524,
                1.3992344075125183,
                -0.5218327707346264,
                1.219615246909482,
                1.3004554093898384,
                0.8244535851636595,
                1.089012967310856,
                -0.9586884316343102,
                1.379726006108312,
                0.9878649113901977,
                0.7668530342573087,
                0.6456275717742411
               ],
               [
                -0.32820798201919305,
                2.4378711606367793,
                -0.4599891730345987,
                0.34068515375856295,
                -0.4080792419034834,
                0.5189149074517077,
                1.3558542526095485,
                -1.291788474733497,
                -0.06930597093353182,
                0.9999999999999991,
                0.9999999999999991,
                -1.1209479879157567,
                1.3713749849257886,
                -1.4138537441172168,
                -1.2879230682552514,
                0.1380557843164727,
                -0.7968944763114314,
                1.4137967346500244,
                1.3903016550750413,
                1.4077001895369217,
                -1.0048310686951076,
                -0.3594057304973014,
                -0.9362828631483401,
                1.4142135623730951,
                -0.7071067811865475
               ],
               [
                1.594199527226006,
                1.3591887124973026,
                0.18343318312058238,
                1.9980526744545806,
                1.6954611928133365,
                1.5197365190582142,
                0.054817449012421214,
                1.6644505588257537,
                1.7221214114694443,
                0.9999999999999989,
                0.9999999999999989,
                1.3341835463340392,
                1.4102786812500392,
                1.3290837231610393,
                1.1815706823240222,
                0.08220651763292026,
                1.2691808348837301,
                1.4140527131951601,
                1.24301930752821,
                1.3638724598997967,
                1.103885081796736,
                0.2136149648710941,
                1.2891410848470692,
                1.0403924927494232,
                0.3093744834446219
               ]
              ]
             },
             {
              "title": "Boxplot for Dataset 2"
             }
            ],
            "label": "Dataset 2",
            "method": "update"
           },
           {
            "args": [
             {
              "y": [
               [
                0.504868616370098,
                1.7810642855278447,
                -1.2130870921114842,
                1.4428039258044834,
                0.06415002990995841,
                1.6037507477489603,
                1.2349356108966516,
                -0.7363976299669784,
                1,
                1,
                -0.8294501308100325
               ],
               [
                0.17394295606408136,
                1.4335298792867492,
                -1.6314649672217427,
                -1.2672119501236472,
                -0.5646829085612718,
                -0.27006573887713,
                -1.2491885271652075,
                -1.6835809693463613,
                1,
                1,
                -1.688968589698727
               ],
               [
                0.3517846051813324,
                -1.345153598013826,
                1.2797294516550017,
                1.3306741791191763,
                -0.00110974041390035,
                -1.451661216821597,
                1.1357984585673966,
                0.7030223662311927,
                0.6075560092176173,
                -1.2136011615151037,
                0.6126890114486381
               ],
               [
                -0.32820798201919305,
                2.4378711606367793,
                -0.4599891730345987,
                0.34068515375856295,
                0.5189149074517077,
                1.3558542526095485,
                -1.291788474733497,
                -0.4080792419034834,
                0.9999999999999991,
                0.9999999999999991,
                -0.06930597093353182
               ],
               [
                1.594199527226006,
                1.3591887124973026,
                0.18343318312058238,
                1.9980526744545806,
                1.5197365190582142,
                0.054817449012421214,
                1.6644505588257537,
                1.6954611928133365,
                0.9999999999999989,
                0.9999999999999989,
                1.7221214114694443
               ]
              ]
             },
             {
              "title": "Boxplot for Dataset 3"
             }
            ],
            "label": "Dataset 3",
            "method": "update"
           },
           {
            "args": [
             {
              "y": [
               [
                0.504868616370098,
                1.7810642855278447,
                -1.2130870921114842,
                1.4428039258044834
               ],
               [
                0.17394295606408136,
                1.4335298792867492,
                -1.6314649672217427,
                -1.2672119501236472
               ],
               [
                0.3517846051813324,
                -1.345153598013826,
                1.2797294516550017,
                1.3306741791191763
               ],
               [
                -0.32820798201919305,
                2.4378711606367793,
                -0.4599891730345987,
                0.34068515375856295
               ],
               [
                1.594199527226006,
                1.3591887124973026,
                0.18343318312058238,
                1.9980526744545806
               ]
              ]
             },
             {
              "title": "Boxplot for Dataset 4"
             }
            ],
            "label": "Dataset 4",
            "method": "update"
           }
          ]
         }
        ],
        "template": {
         "data": {
          "bar": [
           {
            "error_x": {
             "color": "#2a3f5f"
            },
            "error_y": {
             "color": "#2a3f5f"
            },
            "marker": {
             "line": {
              "color": "#E5ECF6",
              "width": 0.5
             },
             "pattern": {
              "fillmode": "overlay",
              "size": 10,
              "solidity": 0.2
             }
            },
            "type": "bar"
           }
          ],
          "barpolar": [
           {
            "marker": {
             "line": {
              "color": "#E5ECF6",
              "width": 0.5
             },
             "pattern": {
              "fillmode": "overlay",
              "size": 10,
              "solidity": 0.2
             }
            },
            "type": "barpolar"
           }
          ],
          "carpet": [
           {
            "aaxis": {
             "endlinecolor": "#2a3f5f",
             "gridcolor": "white",
             "linecolor": "white",
             "minorgridcolor": "white",
             "startlinecolor": "#2a3f5f"
            },
            "baxis": {
             "endlinecolor": "#2a3f5f",
             "gridcolor": "white",
             "linecolor": "white",
             "minorgridcolor": "white",
             "startlinecolor": "#2a3f5f"
            },
            "type": "carpet"
           }
          ],
          "choropleth": [
           {
            "colorbar": {
             "outlinewidth": 0,
             "ticks": ""
            },
            "type": "choropleth"
           }
          ],
          "contour": [
           {
            "colorbar": {
             "outlinewidth": 0,
             "ticks": ""
            },
            "colorscale": [
             [
              0,
              "#0d0887"
             ],
             [
              0.1111111111111111,
              "#46039f"
             ],
             [
              0.2222222222222222,
              "#7201a8"
             ],
             [
              0.3333333333333333,
              "#9c179e"
             ],
             [
              0.4444444444444444,
              "#bd3786"
             ],
             [
              0.5555555555555556,
              "#d8576b"
             ],
             [
              0.6666666666666666,
              "#ed7953"
             ],
             [
              0.7777777777777778,
              "#fb9f3a"
             ],
             [
              0.8888888888888888,
              "#fdca26"
             ],
             [
              1,
              "#f0f921"
             ]
            ],
            "type": "contour"
           }
          ],
          "contourcarpet": [
           {
            "colorbar": {
             "outlinewidth": 0,
             "ticks": ""
            },
            "type": "contourcarpet"
           }
          ],
          "heatmap": [
           {
            "colorbar": {
             "outlinewidth": 0,
             "ticks": ""
            },
            "colorscale": [
             [
              0,
              "#0d0887"
             ],
             [
              0.1111111111111111,
              "#46039f"
             ],
             [
              0.2222222222222222,
              "#7201a8"
             ],
             [
              0.3333333333333333,
              "#9c179e"
             ],
             [
              0.4444444444444444,
              "#bd3786"
             ],
             [
              0.5555555555555556,
              "#d8576b"
             ],
             [
              0.6666666666666666,
              "#ed7953"
             ],
             [
              0.7777777777777778,
              "#fb9f3a"
             ],
             [
              0.8888888888888888,
              "#fdca26"
             ],
             [
              1,
              "#f0f921"
             ]
            ],
            "type": "heatmap"
           }
          ],
          "heatmapgl": [
           {
            "colorbar": {
             "outlinewidth": 0,
             "ticks": ""
            },
            "colorscale": [
             [
              0,
              "#0d0887"
             ],
             [
              0.1111111111111111,
              "#46039f"
             ],
             [
              0.2222222222222222,
              "#7201a8"
             ],
             [
              0.3333333333333333,
              "#9c179e"
             ],
             [
              0.4444444444444444,
              "#bd3786"
             ],
             [
              0.5555555555555556,
              "#d8576b"
             ],
             [
              0.6666666666666666,
              "#ed7953"
             ],
             [
              0.7777777777777778,
              "#fb9f3a"
             ],
             [
              0.8888888888888888,
              "#fdca26"
             ],
             [
              1,
              "#f0f921"
             ]
            ],
            "type": "heatmapgl"
           }
          ],
          "histogram": [
           {
            "marker": {
             "pattern": {
              "fillmode": "overlay",
              "size": 10,
              "solidity": 0.2
             }
            },
            "type": "histogram"
           }
          ],
          "histogram2d": [
           {
            "colorbar": {
             "outlinewidth": 0,
             "ticks": ""
            },
            "colorscale": [
             [
              0,
              "#0d0887"
             ],
             [
              0.1111111111111111,
              "#46039f"
             ],
             [
              0.2222222222222222,
              "#7201a8"
             ],
             [
              0.3333333333333333,
              "#9c179e"
             ],
             [
              0.4444444444444444,
              "#bd3786"
             ],
             [
              0.5555555555555556,
              "#d8576b"
             ],
             [
              0.6666666666666666,
              "#ed7953"
             ],
             [
              0.7777777777777778,
              "#fb9f3a"
             ],
             [
              0.8888888888888888,
              "#fdca26"
             ],
             [
              1,
              "#f0f921"
             ]
            ],
            "type": "histogram2d"
           }
          ],
          "histogram2dcontour": [
           {
            "colorbar": {
             "outlinewidth": 0,
             "ticks": ""
            },
            "colorscale": [
             [
              0,
              "#0d0887"
             ],
             [
              0.1111111111111111,
              "#46039f"
             ],
             [
              0.2222222222222222,
              "#7201a8"
             ],
             [
              0.3333333333333333,
              "#9c179e"
             ],
             [
              0.4444444444444444,
              "#bd3786"
             ],
             [
              0.5555555555555556,
              "#d8576b"
             ],
             [
              0.6666666666666666,
              "#ed7953"
             ],
             [
              0.7777777777777778,
              "#fb9f3a"
             ],
             [
              0.8888888888888888,
              "#fdca26"
             ],
             [
              1,
              "#f0f921"
             ]
            ],
            "type": "histogram2dcontour"
           }
          ],
          "mesh3d": [
           {
            "colorbar": {
             "outlinewidth": 0,
             "ticks": ""
            },
            "type": "mesh3d"
           }
          ],
          "parcoords": [
           {
            "line": {
             "colorbar": {
              "outlinewidth": 0,
              "ticks": ""
             }
            },
            "type": "parcoords"
           }
          ],
          "pie": [
           {
            "automargin": true,
            "type": "pie"
           }
          ],
          "scatter": [
           {
            "fillpattern": {
             "fillmode": "overlay",
             "size": 10,
             "solidity": 0.2
            },
            "type": "scatter"
           }
          ],
          "scatter3d": [
           {
            "line": {
             "colorbar": {
              "outlinewidth": 0,
              "ticks": ""
             }
            },
            "marker": {
             "colorbar": {
              "outlinewidth": 0,
              "ticks": ""
             }
            },
            "type": "scatter3d"
           }
          ],
          "scattercarpet": [
           {
            "marker": {
             "colorbar": {
              "outlinewidth": 0,
              "ticks": ""
             }
            },
            "type": "scattercarpet"
           }
          ],
          "scattergeo": [
           {
            "marker": {
             "colorbar": {
              "outlinewidth": 0,
              "ticks": ""
             }
            },
            "type": "scattergeo"
           }
          ],
          "scattergl": [
           {
            "marker": {
             "colorbar": {
              "outlinewidth": 0,
              "ticks": ""
             }
            },
            "type": "scattergl"
           }
          ],
          "scattermapbox": [
           {
            "marker": {
             "colorbar": {
              "outlinewidth": 0,
              "ticks": ""
             }
            },
            "type": "scattermapbox"
           }
          ],
          "scatterpolar": [
           {
            "marker": {
             "colorbar": {
              "outlinewidth": 0,
              "ticks": ""
             }
            },
            "type": "scatterpolar"
           }
          ],
          "scatterpolargl": [
           {
            "marker": {
             "colorbar": {
              "outlinewidth": 0,
              "ticks": ""
             }
            },
            "type": "scatterpolargl"
           }
          ],
          "scatterternary": [
           {
            "marker": {
             "colorbar": {
              "outlinewidth": 0,
              "ticks": ""
             }
            },
            "type": "scatterternary"
           }
          ],
          "surface": [
           {
            "colorbar": {
             "outlinewidth": 0,
             "ticks": ""
            },
            "colorscale": [
             [
              0,
              "#0d0887"
             ],
             [
              0.1111111111111111,
              "#46039f"
             ],
             [
              0.2222222222222222,
              "#7201a8"
             ],
             [
              0.3333333333333333,
              "#9c179e"
             ],
             [
              0.4444444444444444,
              "#bd3786"
             ],
             [
              0.5555555555555556,
              "#d8576b"
             ],
             [
              0.6666666666666666,
              "#ed7953"
             ],
             [
              0.7777777777777778,
              "#fb9f3a"
             ],
             [
              0.8888888888888888,
              "#fdca26"
             ],
             [
              1,
              "#f0f921"
             ]
            ],
            "type": "surface"
           }
          ],
          "table": [
           {
            "cells": {
             "fill": {
              "color": "#EBF0F8"
             },
             "line": {
              "color": "white"
             }
            },
            "header": {
             "fill": {
              "color": "#C8D4E3"
             },
             "line": {
              "color": "white"
             }
            },
            "type": "table"
           }
          ]
         },
         "layout": {
          "annotationdefaults": {
           "arrowcolor": "#2a3f5f",
           "arrowhead": 0,
           "arrowwidth": 1
          },
          "autotypenumbers": "strict",
          "coloraxis": {
           "colorbar": {
            "outlinewidth": 0,
            "ticks": ""
           }
          },
          "colorscale": {
           "diverging": [
            [
             0,
             "#8e0152"
            ],
            [
             0.1,
             "#c51b7d"
            ],
            [
             0.2,
             "#de77ae"
            ],
            [
             0.3,
             "#f1b6da"
            ],
            [
             0.4,
             "#fde0ef"
            ],
            [
             0.5,
             "#f7f7f7"
            ],
            [
             0.6,
             "#e6f5d0"
            ],
            [
             0.7,
             "#b8e186"
            ],
            [
             0.8,
             "#7fbc41"
            ],
            [
             0.9,
             "#4d9221"
            ],
            [
             1,
             "#276419"
            ]
           ],
           "sequential": [
            [
             0,
             "#0d0887"
            ],
            [
             0.1111111111111111,
             "#46039f"
            ],
            [
             0.2222222222222222,
             "#7201a8"
            ],
            [
             0.3333333333333333,
             "#9c179e"
            ],
            [
             0.4444444444444444,
             "#bd3786"
            ],
            [
             0.5555555555555556,
             "#d8576b"
            ],
            [
             0.6666666666666666,
             "#ed7953"
            ],
            [
             0.7777777777777778,
             "#fb9f3a"
            ],
            [
             0.8888888888888888,
             "#fdca26"
            ],
            [
             1,
             "#f0f921"
            ]
           ],
           "sequentialminus": [
            [
             0,
             "#0d0887"
            ],
            [
             0.1111111111111111,
             "#46039f"
            ],
            [
             0.2222222222222222,
             "#7201a8"
            ],
            [
             0.3333333333333333,
             "#9c179e"
            ],
            [
             0.4444444444444444,
             "#bd3786"
            ],
            [
             0.5555555555555556,
             "#d8576b"
            ],
            [
             0.6666666666666666,
             "#ed7953"
            ],
            [
             0.7777777777777778,
             "#fb9f3a"
            ],
            [
             0.8888888888888888,
             "#fdca26"
            ],
            [
             1,
             "#f0f921"
            ]
           ]
          },
          "colorway": [
           "#636efa",
           "#EF553B",
           "#00cc96",
           "#ab63fa",
           "#FFA15A",
           "#19d3f3",
           "#FF6692",
           "#B6E880",
           "#FF97FF",
           "#FECB52"
          ],
          "font": {
           "color": "#2a3f5f"
          },
          "geo": {
           "bgcolor": "white",
           "lakecolor": "white",
           "landcolor": "#E5ECF6",
           "showlakes": true,
           "showland": true,
           "subunitcolor": "white"
          },
          "hoverlabel": {
           "align": "left"
          },
          "hovermode": "closest",
          "mapbox": {
           "style": "light"
          },
          "paper_bgcolor": "white",
          "plot_bgcolor": "#E5ECF6",
          "polar": {
           "angularaxis": {
            "gridcolor": "white",
            "linecolor": "white",
            "ticks": ""
           },
           "bgcolor": "#E5ECF6",
           "radialaxis": {
            "gridcolor": "white",
            "linecolor": "white",
            "ticks": ""
           }
          },
          "scene": {
           "xaxis": {
            "backgroundcolor": "#E5ECF6",
            "gridcolor": "white",
            "gridwidth": 2,
            "linecolor": "white",
            "showbackground": true,
            "ticks": "",
            "zerolinecolor": "white"
           },
           "yaxis": {
            "backgroundcolor": "#E5ECF6",
            "gridcolor": "white",
            "gridwidth": 2,
            "linecolor": "white",
            "showbackground": true,
            "ticks": "",
            "zerolinecolor": "white"
           },
           "zaxis": {
            "backgroundcolor": "#E5ECF6",
            "gridcolor": "white",
            "gridwidth": 2,
            "linecolor": "white",
            "showbackground": true,
            "ticks": "",
            "zerolinecolor": "white"
           }
          },
          "shapedefaults": {
           "line": {
            "color": "#2a3f5f"
           }
          },
          "ternary": {
           "aaxis": {
            "gridcolor": "white",
            "linecolor": "white",
            "ticks": ""
           },
           "baxis": {
            "gridcolor": "white",
            "linecolor": "white",
            "ticks": ""
           },
           "bgcolor": "#E5ECF6",
           "caxis": {
            "gridcolor": "white",
            "linecolor": "white",
            "ticks": ""
           }
          },
          "title": {
           "x": 0.05
          },
          "xaxis": {
           "automargin": true,
           "gridcolor": "white",
           "linecolor": "white",
           "ticks": "",
           "title": {
            "standoff": 15
           },
           "zerolinecolor": "white",
           "zerolinewidth": 2
          },
          "yaxis": {
           "automargin": true,
           "gridcolor": "white",
           "linecolor": "white",
           "ticks": "",
           "title": {
            "standoff": 15
           },
           "zerolinecolor": "white",
           "zerolinewidth": 2
          }
         }
        },
        "title": {
         "text": "Boxplot with Slider for Multiple Datasets"
        },
        "yaxis": {
         "title": {
          "text": "Values"
         }
        }
       }
      }
     },
     "metadata": {},
     "output_type": "display_data"
    }
   ],
   "source": [
    "datasets = [\n",
    "    {col: Positive_revenue_films_2[col].values for col in target_columns},\n",
    "    {col: Positive_revenue_films_3[col].values for col in target_columns},\n",
    "    {col: Positive_revenue_films_4[col].values for col in target_columns},\n",
    "    {col: Positive_revenue_films_5[col].values for col in target_columns},\n",
    "]\n",
    "\n",
    "# Step 3: Create the initial figure with box plots for the first dataset\n",
    "fig = go.Figure()\n",
    "\n",
    "for col in target_columns:\n",
    "    fig.add_trace(\n",
    "        go.Box(\n",
    "            y=datasets[0][col],  # Use the first dataset\n",
    "            name=col,            # Label the boxplot with the column name\n",
    "            boxpoints=False      # Do not show points\n",
    "        )\n",
    "    )\n",
    "\n",
    "# Step 4: Define the slider steps\n",
    "steps = []\n",
    "for i, dataset in enumerate(datasets):\n",
    "    step = dict(\n",
    "        method=\"update\",\n",
    "        args=[\n",
    "            {\"y\": [dataset[col] for col in target_columns]},  # Update y-values for all traces\n",
    "            {\"title\": f\"Boxplot for Dataset {i + 1}\"}         # Update the plot title\n",
    "        ],\n",
    "        label=f\"Dataset {i + 1}\"  # Label for the slider step\n",
    "    )\n",
    "    steps.append(step)\n",
    "\n",
    "# Step 5: Add slider to the layout\n",
    "sliders = [dict(\n",
    "    active=0,\n",
    "    currentvalue={\"prefix\": \"Dataset: \"},\n",
    "    pad={\"t\": 50},  # Padding to position the slider\n",
    "    steps=steps\n",
    ")]\n",
    "\n",
    "fig.update_layout(\n",
    "    sliders=sliders,\n",
    "    title=\"Boxplot of Standard deviations for each feature of intrest\",\n",
    "    yaxis_title=\"Standard deviations\"\n",
    ")\n",
    "\n",
    "# Display the plot\n",
    "fig.show()"
   ]
  },
  {
   "cell_type": "code",
   "execution_count": 1810,
   "metadata": {},
   "outputs": [
    {
     "data": {
      "text/plain": [
       "{'whiskers': [<matplotlib.lines.Line2D at 0x242ee9f0790>,\n",
       "  <matplotlib.lines.Line2D at 0x242ee94b610>,\n",
       "  <matplotlib.lines.Line2D at 0x242ee4e6e50>,\n",
       "  <matplotlib.lines.Line2D at 0x242ee4e6ad0>,\n",
       "  <matplotlib.lines.Line2D at 0x242ee9b48d0>,\n",
       "  <matplotlib.lines.Line2D at 0x242ee9b6050>,\n",
       "  <matplotlib.lines.Line2D at 0x242ee7043d0>,\n",
       "  <matplotlib.lines.Line2D at 0x242ee4eabd0>,\n",
       "  <matplotlib.lines.Line2D at 0x242ee8f9ed0>,\n",
       "  <matplotlib.lines.Line2D at 0x242efb8d710>],\n",
       " 'caps': [<matplotlib.lines.Line2D at 0x242efad83d0>,\n",
       "  <matplotlib.lines.Line2D at 0x242ee92b410>,\n",
       "  <matplotlib.lines.Line2D at 0x242ee4e7b10>,\n",
       "  <matplotlib.lines.Line2D at 0x242ee4e6990>,\n",
       "  <matplotlib.lines.Line2D at 0x242ee473010>,\n",
       "  <matplotlib.lines.Line2D at 0x242ee472e10>,\n",
       "  <matplotlib.lines.Line2D at 0x242ee8fa2d0>,\n",
       "  <matplotlib.lines.Line2D at 0x242ee8fa710>,\n",
       "  <matplotlib.lines.Line2D at 0x242ee8a05d0>,\n",
       "  <matplotlib.lines.Line2D at 0x242e90830d0>],\n",
       " 'boxes': [<matplotlib.lines.Line2D at 0x242e935ea50>,\n",
       "  <matplotlib.lines.Line2D at 0x242ee4e7210>,\n",
       "  <matplotlib.lines.Line2D at 0x242ee9b7450>,\n",
       "  <matplotlib.lines.Line2D at 0x242ee89c450>,\n",
       "  <matplotlib.lines.Line2D at 0x242ee8fb810>],\n",
       " 'medians': [<matplotlib.lines.Line2D at 0x242ee6819d0>,\n",
       "  <matplotlib.lines.Line2D at 0x242ee46bd10>,\n",
       "  <matplotlib.lines.Line2D at 0x242ee470850>,\n",
       "  <matplotlib.lines.Line2D at 0x242ee8faa90>,\n",
       "  <matplotlib.lines.Line2D at 0x242e9082950>],\n",
       " 'fliers': [<matplotlib.lines.Line2D at 0x242ee683ed0>,\n",
       "  <matplotlib.lines.Line2D at 0x242ee83b610>,\n",
       "  <matplotlib.lines.Line2D at 0x242ee472d10>,\n",
       "  <matplotlib.lines.Line2D at 0x242ee9b6190>,\n",
       "  <matplotlib.lines.Line2D at 0x242e9081d90>],\n",
       " 'means': []}"
      ]
     },
     "execution_count": 1810,
     "metadata": {},
     "output_type": "execute_result"
    },
    {
     "data": {
      "image/png": "[encoded data removed]",
      "text/plain": [
       "<Figure size 640x480 with 1 Axes>"
      ]
     },
     "metadata": {},
     "output_type": "display_data"
    }
   ],
   "source": [
    "\n",
    "plt.boxplot(Positive_revenue_films_2[target_columns], labels=target_columns)"
   ]
  },
  {
   "cell_type": "code",
   "execution_count": null,
   "metadata": {},
   "outputs": [],
   "source": []
  }
 ],
 "metadata": {
  "kernelspec": {
   "display_name": "ada",
   "language": "python",
   "name": "python3"
  },
  "language_info": {
   "codemirror_mode": {
    "name": "ipython",
    "version": 3
   },
   "file_extension": ".py",
   "mimetype": "text/x-python",
   "name": "python",
   "nbconvert_exporter": "python",
   "pygments_lexer": "ipython3",
   "version": "3.11.9"
  }
 },
 "nbformat": 4,
 "nbformat_minor": 2
}
