{
 "cells": [
  {
   "cell_type": "code",
   "execution_count": 33,
   "metadata": {},
   "outputs": [],
   "source": [
    "import numpy as np\n",
    "import pandas as pd \n",
    "from datasets import load_dataset\n",
    "import tqdm as tqdm\n",
    "import matplotlib.pyplot as plt\n",
    "import plotly.express as px\n",
    "import plotly.graph_objects as go\n",
    "from utils.regression_utils import adjust_for_inflation\n",
    "from sklearn.preprocessing import StandardScaler\n"
   ]
  },
  {
   "cell_type": "code",
   "execution_count": 34,
   "metadata": {},
   "outputs": [],
   "source": [
    "books_movie_dataset = pd.read_csv(\"../data/final_dataset.csv\")\n",
    "similarites = load_dataset(\"ada-datadruids/bookfilm_summaries_with_similarity_and_sentiment\")\n",
    "similarites_df = similarites['train'].to_pandas()\n"
   ]
  },
  {
   "cell_type": "code",
   "execution_count": 35,
   "metadata": {},
   "outputs": [
    {
     "data": {
      "text/plain": [
       "5       0.451876\n",
       "6       0.559594\n",
       "7       0.344548\n",
       "8       0.669707\n",
       "14      0.852735\n",
       "          ...   \n",
       "1857    0.704500\n",
       "1861    0.677893\n",
       "1863    0.686086\n",
       "1864    0.762416\n",
       "1866    0.825776\n",
       "Name: similarity, Length: 837, dtype: float64"
      ]
     },
     "execution_count": 35,
     "metadata": {},
     "output_type": "execute_result"
    }
   ],
   "source": [
    "books_movie_dataset_n= pd.merge(books_movie_dataset, similarites_df, on = 'movie_id', how ='left')\n",
    "books_movie_dataset_n.dropna(subset='similarity', inplace=True)\n",
    "books_movie_dataset_n['similarity']"
   ]
  },
  {
   "cell_type": "code",
   "execution_count": 36,
   "metadata": {},
   "outputs": [
    {
     "name": "stderr",
     "output_type": "stream",
     "text": [
      "c:\\Users\\manse\\Desktop\\MA3\\ADA\\MS3\\ada-2024-project-datadruids\\src\\utils\\regression_utils.py:49: SettingWithCopyWarning:\n",
      "\n",
      "\n",
      "A value is trying to be set on a copy of a slice from a DataFrame.\n",
      "Try using .loc[row_indexer,col_indexer] = value instead\n",
      "\n",
      "See the caveats in the documentation: https://pandas.pydata.org/pandas-docs/stable/user_guide/indexing.html#returning-a-view-versus-a-copy\n",
      "\n",
      "c:\\Users\\manse\\Desktop\\MA3\\ADA\\MS3\\ada-2024-project-datadruids\\src\\utils\\regression_utils.py:52: SettingWithCopyWarning:\n",
      "\n",
      "\n",
      "A value is trying to be set on a copy of a slice from a DataFrame.\n",
      "Try using .loc[row_indexer,col_indexer] = value instead\n",
      "\n",
      "See the caveats in the documentation: https://pandas.pydata.org/pandas-docs/stable/user_guide/indexing.html#returning-a-view-versus-a-copy\n",
      "\n"
     ]
    },
    {
     "data": {
      "text/plain": [
       "Index(['BookTitle', 'Runtime', 'Movie Name', 'Release Year', 'Similarity',\n",
       "       'film_sentiment_score', 'book_sentiment_score', 'Budget',\n",
       "       'Box Office Revenue'],\n",
       "      dtype='object')"
      ]
     },
     "execution_count": 36,
     "metadata": {},
     "output_type": "execute_result"
    }
   ],
   "source": [
    "books_movie_dataset_cleaned = books_movie_dataset_n[books_movie_dataset_n['revenue'] != 0]\n",
    "relevant_columns = ['BookTitle','runtime_y','budget','revenue','movie_name_x','release_date','movie_year','similarity','film_sentiment_score','book_sentiment_score']\n",
    "relevant_movies = books_movie_dataset_cleaned[relevant_columns]\n",
    "relevant_movies = adjust_for_inflation(relevant_movies, ['budget', 'revenue'], is_plotting_enabled=False)\n",
    "relevant_movies.drop(columns=['revenue','budget','release_date'], inplace=True)\n",
    "relevant_movies.rename(columns={\"BookTitle\": \"BookTitle\", \"runtime_y\": \"Runtime\", \"movie_name_x\": \"Movie Name\", \"movie_year\": \"Release Year\", \n",
    "                                \"similarity\": \"Similarity\", \"adjusted_budget\": \"Budget\",\"adjusted_revenue\": \"Box Office Revenue\"  },inplace=True)\n",
    "relevant_movies.columns"
   ]
  },
  {
   "cell_type": "code",
   "execution_count": 37,
   "metadata": {},
   "outputs": [
    {
     "name": "stderr",
     "output_type": "stream",
     "text": [
      "C:\\Users\\manse\\AppData\\Local\\Temp\\ipykernel_9056\\3729362357.py:26: FutureWarning:\n",
      "\n",
      "The behavior of DataFrame concatenation with empty or all-NA entries is deprecated. In a future version, this will no longer exclude empty or all-NA columns when determining the result dtypes. To retain the old behavior, exclude the relevant entries before the concat operation.\n",
      "\n",
      "C:\\Users\\manse\\AppData\\Local\\Temp\\ipykernel_9056\\3729362357.py:36: FutureWarning:\n",
      "\n",
      "The behavior of DataFrame concatenation with empty or all-NA entries is deprecated. In a future version, this will no longer exclude empty or all-NA columns when determining the result dtypes. To retain the old behavior, exclude the relevant entries before the concat operation.\n",
      "\n",
      "C:\\Users\\manse\\AppData\\Local\\Temp\\ipykernel_9056\\3729362357.py:46: FutureWarning:\n",
      "\n",
      "The behavior of DataFrame concatenation with empty or all-NA entries is deprecated. In a future version, this will no longer exclude empty or all-NA columns when determining the result dtypes. To retain the old behavior, exclude the relevant entries before the concat operation.\n",
      "\n",
      "C:\\Users\\manse\\AppData\\Local\\Temp\\ipykernel_9056\\3729362357.py:50: UserWarning:\n",
      "\n",
      "Boolean Series key will be reindexed to match DataFrame index.\n",
      "\n",
      "C:\\Users\\manse\\AppData\\Local\\Temp\\ipykernel_9056\\3729362357.py:56: FutureWarning:\n",
      "\n",
      "The behavior of DataFrame concatenation with empty or all-NA entries is deprecated. In a future version, this will no longer exclude empty or all-NA columns when determining the result dtypes. To retain the old behavior, exclude the relevant entries before the concat operation.\n",
      "\n",
      "C:\\Users\\manse\\AppData\\Local\\Temp\\ipykernel_9056\\3729362357.py:50: UserWarning:\n",
      "\n",
      "Boolean Series key will be reindexed to match DataFrame index.\n",
      "\n"
     ]
    }
   ],
   "source": [
    "multi_adapt_2 = relevant_movies[relevant_movies.groupby('BookTitle').BookTitle.transform(len) >= 2]\n",
    "multi_adapt_3 = relevant_movies[relevant_movies.groupby('BookTitle').BookTitle.transform(len) >= 3]\n",
    "multi_adapt_4 = relevant_movies[relevant_movies.groupby('BookTitle').BookTitle.transform(len) >= 4]\n",
    "multi_adapt_5 = relevant_movies[relevant_movies.groupby('BookTitle').BookTitle.transform(len) >= 5]\n",
    "\n",
    "Booktitles_2 = multi_adapt_2.value_counts('BookTitle').index.to_list()\n",
    "Booktitles_3 = multi_adapt_3.value_counts('BookTitle').index.to_list()\n",
    "Booktitles_4 = multi_adapt_4.value_counts('BookTitle').index.to_list()\n",
    "Booktitles_5 = multi_adapt_5.value_counts('BookTitle').index.to_list()\n",
    "\n",
    "target_columns = ['Runtime', 'Release Year','Similarity','Budget', 'Box Office Revenue']\n",
    "dataframe_columns = ['Runtime', 'Release Year','Similarity','Budget', 'Box Office Revenue', 'BookTitle']\n",
    "\n",
    "Std_2_films = pd.DataFrame(columns=dataframe_columns)\n",
    "Std_3_films = pd.DataFrame(columns=dataframe_columns)\n",
    "Std_4_films = pd.DataFrame(columns=dataframe_columns)\n",
    "Std_5_films = pd.DataFrame(columns=dataframe_columns)\n",
    "\n",
    "for title in Booktitles_2:\n",
    "    df = multi_adapt_2[multi_adapt_2['BookTitle']==title]\n",
    "    df = df[target_columns]\n",
    "    scaler = StandardScaler()\n",
    "    df = pd.DataFrame(scaler.fit_transform(df), columns=df.columns)\n",
    "    df.sort_values('Box Office Revenue', ascending=False, inplace=True)\n",
    "    df['BookTitle'] = title\n",
    "    Std_2_films = pd.concat([Std_2_films,df])\n",
    "Std_2_films.reset_index(drop=True,inplace=True)\n",
    "\n",
    "for title in Booktitles_3:\n",
    "    df = multi_adapt_3[multi_adapt_3['BookTitle']==title]\n",
    "    df = df[target_columns]\n",
    "    scaler = StandardScaler()\n",
    "    df = pd.DataFrame(scaler.fit_transform(df), columns=df.columns)\n",
    "    df.sort_values('Box Office Revenue', ascending=False, inplace=True)\n",
    "    df['BookTitle'] = title\n",
    "    Std_3_films = pd.concat([Std_3_films,df])\n",
    "Std_3_films.reset_index(drop=True,inplace=True)\n",
    "\n",
    "for title in Booktitles_4:\n",
    "    df = multi_adapt_4[multi_adapt_4['BookTitle']==title]\n",
    "    df = df[target_columns]\n",
    "    scaler = StandardScaler()\n",
    "    df = pd.DataFrame(scaler.fit_transform(df), columns=df.columns)\n",
    "    df.sort_values('Box Office Revenue', ascending=False, inplace=True)\n",
    "    df['BookTitle'] = title\n",
    "    Std_4_films = pd.concat([Std_4_films,df])\n",
    "Std_4_films.reset_index(drop=True,inplace=True)\n",
    "\n",
    "for title in Booktitles_5:\n",
    "    df = multi_adapt_5[multi_adapt_3['BookTitle']==title]\n",
    "    df = df[target_columns]\n",
    "    scaler = StandardScaler()\n",
    "    df = pd.DataFrame(scaler.fit_transform(df), columns=df.columns)\n",
    "    df.sort_values('Box Office Revenue', ascending=False, inplace=True)\n",
    "    df['BookTitle'] = title\n",
    "    Std_5_films = pd.concat([Std_5_films,df])\n",
    "Std_5_films.reset_index(drop=True,inplace=True)\n",
    "\n",
    "Positive_revenue_films_2 = Std_2_films[(Std_2_films['Box Office Revenue']>1.01) | ((Std_2_films['Box Office Revenue'] >0)&(Std_2_films['Box Office Revenue']<0.999 ))]\n",
    "Positive_revenue_films_3 = Std_3_films[(Std_3_films['Box Office Revenue']>0) & (Std_3_films['Box Office Revenue'] !=1.000000)]\n",
    "Positive_revenue_films_4 = Std_4_films[(Std_4_films['Box Office Revenue']>0) & (Std_4_films['Box Office Revenue'] !=1.000000)]\n",
    "Positive_revenue_films_5 = Std_5_films[(Std_5_films['Box Office Revenue']>0) & (Std_5_films['Box Office Revenue'] !=1.000000)]\n",
    "\n"
   ]
  },
  {
   "cell_type": "code",
   "execution_count": 38,
   "metadata": {},
   "outputs": [
    {
     "data": {
      "application/vnd.plotly.v1+json": {
       "config": {
        "plotlyServerURL": "https://plot.ly"
       },
       "data": [
        {
         "marker": {
          "color": "#2E2E2E"
         },
         "name": "Runtime",
         "type": "box",
         "y": [
          0.504868616370098,
          1.7810642855278447,
          -1.2130870921114842,
          1.4428039258044834,
          -0.8294501308100325,
          -0.7363976299669784,
          0.06415002990995841,
          1.6037507477489603,
          1.2349356108966516,
          -1.263465676205795,
          0.08151391459392195,
          0.6474323062869342,
          -1.404878717372541,
          0.8429272304235246,
          0.130085600097487,
          0.2672612419124244,
          1.0248280646447898,
          0.933416307359663,
          1.3153067888830305,
          1.135549947915337,
          -0.5929994533288804,
          1.4083737016560927,
          -0.9258200997725514
         ]
        },
        {
         "marker": {
          "color": "#44AA99"
         },
         "name": "Release Year",
         "type": "box",
         "y": [
          0.17394295606408136,
          1.4335298792867492,
          -1.6314649672217427,
          -1.2672119501236472,
          -1.688968589698727,
          -1.6835809693463613,
          -0.5646829085612718,
          -0.27006573887713,
          -1.2491885271652075,
          1.409427715949451,
          -0.8053872662568292,
          -1.224744871391589,
          -1.4080558543328756,
          0.5898612362745769,
          -1.0473848029130146,
          1.224744871391589,
          -1.2564701354056056,
          1.4142135623730148,
          0.9200920138023028,
          -0.9258200997725514,
          1.4011746067931528,
          -0.866515875253667,
          0.8323167879989194
         ]
        },
        {
         "marker": {
          "color": "sandybrown"
         },
         "name": "Similarity",
         "type": "box",
         "y": [
          0.3517846051813324,
          -1.345153598013826,
          1.2797294516550017,
          1.3306741791191763,
          0.6126890114486381,
          0.7030223662311927,
          -0.00110974041390035,
          -1.451661216821597,
          1.1357984585673966,
          -0.9586884316343102,
          1.379726006108312,
          0.9878649113901977,
          1.3992344075125183,
          -0.5218327707346264,
          1.3004554093898384,
          -1.0600160115232524,
          0.8244535851636595,
          1.089012967310856,
          -0.7241494326987733,
          1.219615246909482,
          0.7668530342573087,
          0.6456275717742411,
          -1.4056408937044444
         ]
        },
        {
         "marker": {
          "color": "#DDCC77"
         },
         "name": "Budget",
         "type": "box",
         "y": [
          -0.32820798201919305,
          2.4378711606367793,
          -0.4599891730345987,
          0.34068515375856295,
          -0.06930597093353182,
          -0.4080792419034834,
          0.5189149074517077,
          1.3558542526095485,
          -1.291788474733497,
          -1.0048310686951076,
          -0.3594057304973014,
          -0.9362828631483401,
          -1.2879230682552514,
          0.1380557843164727,
          1.4137967346500244,
          -1.4138537441172168,
          1.3903016550750413,
          1.4077001895369217,
          -1.1209479879157567,
          -0.7968944763114314,
          1.4142135623730951,
          -0.7071067811865475,
          1.3713749849257886
         ]
        },
        {
         "marker": {
          "color": "#999933"
         },
         "name": "Box Office Revenue",
         "type": "box",
         "y": [
          1.594199527226006,
          1.3591887124973026,
          0.18343318312058238,
          1.9980526744545806,
          1.7221214114694443,
          1.6954611928133365,
          1.5197365190582142,
          0.054817449012421214,
          1.6644505588257537,
          1.103885081796736,
          0.2136149648710941,
          1.2891410848470692,
          1.1815706823240222,
          0.08220651763292026,
          1.4140527131951601,
          1.3290837231610393,
          1.24301930752821,
          1.3638724598997967,
          1.3341835463340392,
          1.2691808348837301,
          1.0403924927494232,
          0.3093744834446219,
          1.4102786812500392
         ]
        }
       ],
       "layout": {
        "sliders": [
         {
          "active": 0,
          "currentvalue": {
           "prefix": ""
          },
          "pad": {
           "t": 50
          },
          "steps": [
           {
            "args": [
             {
              "y": [
               [
                0.504868616370098,
                1.7810642855278447,
                -1.2130870921114842,
                1.4428039258044834,
                -0.8294501308100325,
                -0.7363976299669784,
                0.06415002990995841,
                1.6037507477489603,
                1.2349356108966516,
                -1.263465676205795,
                0.08151391459392195,
                0.6474323062869342,
                -1.404878717372541,
                0.8429272304235246,
                0.130085600097487,
                0.2672612419124244,
                1.0248280646447898,
                0.933416307359663,
                1.3153067888830305,
                1.135549947915337,
                -0.5929994533288804,
                1.4083737016560927,
                -0.9258200997725514
               ],
               [
                0.17394295606408136,
                1.4335298792867492,
                -1.6314649672217427,
                -1.2672119501236472,
                -1.688968589698727,
                -1.6835809693463613,
                -0.5646829085612718,
                -0.27006573887713,
                -1.2491885271652075,
                1.409427715949451,
                -0.8053872662568292,
                -1.224744871391589,
                -1.4080558543328756,
                0.5898612362745769,
                -1.0473848029130146,
                1.224744871391589,
                -1.2564701354056056,
                1.4142135623730148,
                0.9200920138023028,
                -0.9258200997725514,
                1.4011746067931528,
                -0.866515875253667,
                0.8323167879989194
               ],
               [
                0.3517846051813324,
                -1.345153598013826,
                1.2797294516550017,
                1.3306741791191763,
                0.6126890114486381,
                0.7030223662311927,
                -0.00110974041390035,
                -1.451661216821597,
                1.1357984585673966,
                -0.9586884316343102,
                1.379726006108312,
                0.9878649113901977,
                1.3992344075125183,
                -0.5218327707346264,
                1.3004554093898384,
                -1.0600160115232524,
                0.8244535851636595,
                1.089012967310856,
                -0.7241494326987733,
                1.219615246909482,
                0.7668530342573087,
                0.6456275717742411,
                -1.4056408937044444
               ],
               [
                -0.32820798201919305,
                2.4378711606367793,
                -0.4599891730345987,
                0.34068515375856295,
                -0.06930597093353182,
                -0.4080792419034834,
                0.5189149074517077,
                1.3558542526095485,
                -1.291788474733497,
                -1.0048310686951076,
                -0.3594057304973014,
                -0.9362828631483401,
                -1.2879230682552514,
                0.1380557843164727,
                1.4137967346500244,
                -1.4138537441172168,
                1.3903016550750413,
                1.4077001895369217,
                -1.1209479879157567,
                -0.7968944763114314,
                1.4142135623730951,
                -0.7071067811865475,
                1.3713749849257886
               ],
               [
                1.594199527226006,
                1.3591887124973026,
                0.18343318312058238,
                1.9980526744545806,
                1.7221214114694443,
                1.6954611928133365,
                1.5197365190582142,
                0.054817449012421214,
                1.6644505588257537,
                1.103885081796736,
                0.2136149648710941,
                1.2891410848470692,
                1.1815706823240222,
                0.08220651763292026,
                1.4140527131951601,
                1.3290837231610393,
                1.24301930752821,
                1.3638724598997967,
                1.3341835463340392,
                1.2691808348837301,
                1.0403924927494232,
                0.3093744834446219,
                1.4102786812500392
               ]
              ]
             },
             {
              "title": "Standardised features of best performing adaptations"
             }
            ],
            "label": "Bobs with 1 sibling(s) or more",
            "method": "update"
           },
           {
            "args": [
             {
              "y": [
               [
                0.504868616370098,
                1.7810642855278447,
                -1.2130870921114842,
                1.4428039258044834,
                -0.7363976299669784,
                0.06415002990995841,
                1.6037507477489603,
                1.2349356108966516,
                -0.8294501308100325,
                1,
                1,
                1.3153067888830305,
                -0.9258200997725514,
                0.2672612419124244,
                -1.404878717372541,
                0.8429272304235246,
                1.135549947915337,
                0.130085600097487,
                1.0248280646447898,
                0.933416307359663,
                -1.263465676205795,
                0.08151391459392195,
                0.6474323062869342,
                -0.5929994533288804,
                1.4083737016560927
               ],
               [
                0.17394295606408136,
                1.4335298792867492,
                -1.6314649672217427,
                -1.2672119501236472,
                -1.6835809693463613,
                -0.5646829085612718,
                -0.27006573887713,
                -1.2491885271652075,
                -1.688968589698727,
                1,
                1,
                0.9200920138023028,
                0.8323167879989194,
                1.224744871391589,
                -1.4080558543328756,
                0.5898612362745769,
                -0.9258200997725514,
                -1.0473848029130146,
                -1.2564701354056056,
                1.4142135623730148,
                1.409427715949451,
                -0.8053872662568292,
                -1.224744871391589,
                1.4011746067931528,
                -0.866515875253667
               ],
               [
                0.3517846051813324,
                -1.345153598013826,
                1.2797294516550017,
                1.3306741791191763,
                0.7030223662311927,
                -0.00110974041390035,
                -1.451661216821597,
                1.1357984585673966,
                0.6126890114486381,
                0.6075560092176173,
                -1.2136011615151037,
                -0.7241494326987733,
                -1.4056408937044444,
                -1.0600160115232524,
                1.3992344075125183,
                -0.5218327707346264,
                1.219615246909482,
                1.3004554093898384,
                0.8244535851636595,
                1.089012967310856,
                -0.9586884316343102,
                1.379726006108312,
                0.9878649113901977,
                0.7668530342573087,
                0.6456275717742411
               ],
               [
                -0.32820798201919305,
                2.4378711606367793,
                -0.4599891730345987,
                0.34068515375856295,
                -0.4080792419034834,
                0.5189149074517077,
                1.3558542526095485,
                -1.291788474733497,
                -0.06930597093353182,
                0.9999999999999991,
                0.9999999999999991,
                -1.1209479879157567,
                1.3713749849257886,
                -1.4138537441172168,
                -1.2879230682552514,
                0.1380557843164727,
                -0.7968944763114314,
                1.4137967346500244,
                1.3903016550750413,
                1.4077001895369217,
                -1.0048310686951076,
                -0.3594057304973014,
                -0.9362828631483401,
                1.4142135623730951,
                -0.7071067811865475
               ],
               [
                1.594199527226006,
                1.3591887124973026,
                0.18343318312058238,
                1.9980526744545806,
                1.6954611928133365,
                1.5197365190582142,
                0.054817449012421214,
                1.6644505588257537,
                1.7221214114694443,
                0.9999999999999989,
                0.9999999999999989,
                1.3341835463340392,
                1.4102786812500392,
                1.3290837231610393,
                1.1815706823240222,
                0.08220651763292026,
                1.2691808348837301,
                1.4140527131951601,
                1.24301930752821,
                1.3638724598997967,
                1.103885081796736,
                0.2136149648710941,
                1.2891410848470692,
                1.0403924927494232,
                0.3093744834446219
               ]
              ]
             },
             {
              "title": "Standardised features of best performing adaptations"
             }
            ],
            "label": "Bobs with 2 sibling(s) or more",
            "method": "update"
           },
           {
            "args": [
             {
              "y": [
               [
                0.504868616370098,
                1.7810642855278447,
                -1.2130870921114842,
                1.4428039258044834,
                0.06415002990995841,
                1.6037507477489603,
                1.2349356108966516,
                -0.7363976299669784,
                1,
                1,
                -0.8294501308100325
               ],
               [
                0.17394295606408136,
                1.4335298792867492,
                -1.6314649672217427,
                -1.2672119501236472,
                -0.5646829085612718,
                -0.27006573887713,
                -1.2491885271652075,
                -1.6835809693463613,
                1,
                1,
                -1.688968589698727
               ],
               [
                0.3517846051813324,
                -1.345153598013826,
                1.2797294516550017,
                1.3306741791191763,
                -0.00110974041390035,
                -1.451661216821597,
                1.1357984585673966,
                0.7030223662311927,
                0.6075560092176173,
                -1.2136011615151037,
                0.6126890114486381
               ],
               [
                -0.32820798201919305,
                2.4378711606367793,
                -0.4599891730345987,
                0.34068515375856295,
                0.5189149074517077,
                1.3558542526095485,
                -1.291788474733497,
                -0.4080792419034834,
                0.9999999999999991,
                0.9999999999999991,
                -0.06930597093353182
               ],
               [
                1.594199527226006,
                1.3591887124973026,
                0.18343318312058238,
                1.9980526744545806,
                1.5197365190582142,
                0.054817449012421214,
                1.6644505588257537,
                1.6954611928133365,
                0.9999999999999989,
                0.9999999999999989,
                1.7221214114694443
               ]
              ]
             },
             {
              "title": "Standardised features of best performing adaptations"
             }
            ],
            "label": "Bobs with 3 sibling(s) or more",
            "method": "update"
           },
           {
            "args": [
             {
              "y": [
               [
                0.504868616370098,
                1.7810642855278447,
                -1.2130870921114842,
                1.4428039258044834
               ],
               [
                0.17394295606408136,
                1.4335298792867492,
                -1.6314649672217427,
                -1.2672119501236472
               ],
               [
                0.3517846051813324,
                -1.345153598013826,
                1.2797294516550017,
                1.3306741791191763
               ],
               [
                -0.32820798201919305,
                2.4378711606367793,
                -0.4599891730345987,
                0.34068515375856295
               ],
               [
                1.594199527226006,
                1.3591887124973026,
                0.18343318312058238,
                1.9980526744545806
               ]
              ]
             },
             {
              "title": "Standardised features of best performing adaptations"
             }
            ],
            "label": "Bobs with 4 sibling(s) or more",
            "method": "update"
           }
          ]
         }
        ],
        "template": {
         "data": {
          "bar": [
           {
            "error_x": {
             "color": "#2a3f5f"
            },
            "error_y": {
             "color": "#2a3f5f"
            },
            "marker": {
             "line": {
              "color": "white",
              "width": 0.5
             },
             "pattern": {
              "fillmode": "overlay",
              "size": 10,
              "solidity": 0.2
             }
            },
            "type": "bar"
           }
          ],
          "barpolar": [
           {
            "marker": {
             "line": {
              "color": "white",
              "width": 0.5
             },
             "pattern": {
              "fillmode": "overlay",
              "size": 10,
              "solidity": 0.2
             }
            },
            "type": "barpolar"
           }
          ],
          "carpet": [
           {
            "aaxis": {
             "endlinecolor": "#2a3f5f",
             "gridcolor": "#C8D4E3",
             "linecolor": "#C8D4E3",
             "minorgridcolor": "#C8D4E3",
             "startlinecolor": "#2a3f5f"
            },
            "baxis": {
             "endlinecolor": "#2a3f5f",
             "gridcolor": "#C8D4E3",
             "linecolor": "#C8D4E3",
             "minorgridcolor": "#C8D4E3",
             "startlinecolor": "#2a3f5f"
            },
            "type": "carpet"
           }
          ],
          "choropleth": [
           {
            "colorbar": {
             "outlinewidth": 0,
             "ticks": ""
            },
            "type": "choropleth"
           }
          ],
          "contour": [
           {
            "colorbar": {
             "outlinewidth": 0,
             "ticks": ""
            },
            "colorscale": [
             [
              0,
              "#0d0887"
             ],
             [
              0.1111111111111111,
              "#46039f"
             ],
             [
              0.2222222222222222,
              "#7201a8"
             ],
             [
              0.3333333333333333,
              "#9c179e"
             ],
             [
              0.4444444444444444,
              "#bd3786"
             ],
             [
              0.5555555555555556,
              "#d8576b"
             ],
             [
              0.6666666666666666,
              "#ed7953"
             ],
             [
              0.7777777777777778,
              "#fb9f3a"
             ],
             [
              0.8888888888888888,
              "#fdca26"
             ],
             [
              1,
              "#f0f921"
             ]
            ],
            "type": "contour"
           }
          ],
          "contourcarpet": [
           {
            "colorbar": {
             "outlinewidth": 0,
             "ticks": ""
            },
            "type": "contourcarpet"
           }
          ],
          "heatmap": [
           {
            "colorbar": {
             "outlinewidth": 0,
             "ticks": ""
            },
            "colorscale": [
             [
              0,
              "#0d0887"
             ],
             [
              0.1111111111111111,
              "#46039f"
             ],
             [
              0.2222222222222222,
              "#7201a8"
             ],
             [
              0.3333333333333333,
              "#9c179e"
             ],
             [
              0.4444444444444444,
              "#bd3786"
             ],
             [
              0.5555555555555556,
              "#d8576b"
             ],
             [
              0.6666666666666666,
              "#ed7953"
             ],
             [
              0.7777777777777778,
              "#fb9f3a"
             ],
             [
              0.8888888888888888,
              "#fdca26"
             ],
             [
              1,
              "#f0f921"
             ]
            ],
            "type": "heatmap"
           }
          ],
          "heatmapgl": [
           {
            "colorbar": {
             "outlinewidth": 0,
             "ticks": ""
            },
            "colorscale": [
             [
              0,
              "#0d0887"
             ],
             [
              0.1111111111111111,
              "#46039f"
             ],
             [
              0.2222222222222222,
              "#7201a8"
             ],
             [
              0.3333333333333333,
              "#9c179e"
             ],
             [
              0.4444444444444444,
              "#bd3786"
             ],
             [
              0.5555555555555556,
              "#d8576b"
             ],
             [
              0.6666666666666666,
              "#ed7953"
             ],
             [
              0.7777777777777778,
              "#fb9f3a"
             ],
             [
              0.8888888888888888,
              "#fdca26"
             ],
             [
              1,
              "#f0f921"
             ]
            ],
            "type": "heatmapgl"
           }
          ],
          "histogram": [
           {
            "marker": {
             "pattern": {
              "fillmode": "overlay",
              "size": 10,
              "solidity": 0.2
             }
            },
            "type": "histogram"
           }
          ],
          "histogram2d": [
           {
            "colorbar": {
             "outlinewidth": 0,
             "ticks": ""
            },
            "colorscale": [
             [
              0,
              "#0d0887"
             ],
             [
              0.1111111111111111,
              "#46039f"
             ],
             [
              0.2222222222222222,
              "#7201a8"
             ],
             [
              0.3333333333333333,
              "#9c179e"
             ],
             [
              0.4444444444444444,
              "#bd3786"
             ],
             [
              0.5555555555555556,
              "#d8576b"
             ],
             [
              0.6666666666666666,
              "#ed7953"
             ],
             [
              0.7777777777777778,
              "#fb9f3a"
             ],
             [
              0.8888888888888888,
              "#fdca26"
             ],
             [
              1,
              "#f0f921"
             ]
            ],
            "type": "histogram2d"
           }
          ],
          "histogram2dcontour": [
           {
            "colorbar": {
             "outlinewidth": 0,
             "ticks": ""
            },
            "colorscale": [
             [
              0,
              "#0d0887"
             ],
             [
              0.1111111111111111,
              "#46039f"
             ],
             [
              0.2222222222222222,
              "#7201a8"
             ],
             [
              0.3333333333333333,
              "#9c179e"
             ],
             [
              0.4444444444444444,
              "#bd3786"
             ],
             [
              0.5555555555555556,
              "#d8576b"
             ],
             [
              0.6666666666666666,
              "#ed7953"
             ],
             [
              0.7777777777777778,
              "#fb9f3a"
             ],
             [
              0.8888888888888888,
              "#fdca26"
             ],
             [
              1,
              "#f0f921"
             ]
            ],
            "type": "histogram2dcontour"
           }
          ],
          "mesh3d": [
           {
            "colorbar": {
             "outlinewidth": 0,
             "ticks": ""
            },
            "type": "mesh3d"
           }
          ],
          "parcoords": [
           {
            "line": {
             "colorbar": {
              "outlinewidth": 0,
              "ticks": ""
             }
            },
            "type": "parcoords"
           }
          ],
          "pie": [
           {
            "automargin": true,
            "type": "pie"
           }
          ],
          "scatter": [
           {
            "fillpattern": {
             "fillmode": "overlay",
             "size": 10,
             "solidity": 0.2
            },
            "type": "scatter"
           }
          ],
          "scatter3d": [
           {
            "line": {
             "colorbar": {
              "outlinewidth": 0,
              "ticks": ""
             }
            },
            "marker": {
             "colorbar": {
              "outlinewidth": 0,
              "ticks": ""
             }
            },
            "type": "scatter3d"
           }
          ],
          "scattercarpet": [
           {
            "marker": {
             "colorbar": {
              "outlinewidth": 0,
              "ticks": ""
             }
            },
            "type": "scattercarpet"
           }
          ],
          "scattergeo": [
           {
            "marker": {
             "colorbar": {
              "outlinewidth": 0,
              "ticks": ""
             }
            },
            "type": "scattergeo"
           }
          ],
          "scattergl": [
           {
            "marker": {
             "colorbar": {
              "outlinewidth": 0,
              "ticks": ""
             }
            },
            "type": "scattergl"
           }
          ],
          "scattermapbox": [
           {
            "marker": {
             "colorbar": {
              "outlinewidth": 0,
              "ticks": ""
             }
            },
            "type": "scattermapbox"
           }
          ],
          "scatterpolar": [
           {
            "marker": {
             "colorbar": {
              "outlinewidth": 0,
              "ticks": ""
             }
            },
            "type": "scatterpolar"
           }
          ],
          "scatterpolargl": [
           {
            "marker": {
             "colorbar": {
              "outlinewidth": 0,
              "ticks": ""
             }
            },
            "type": "scatterpolargl"
           }
          ],
          "scatterternary": [
           {
            "marker": {
             "colorbar": {
              "outlinewidth": 0,
              "ticks": ""
             }
            },
            "type": "scatterternary"
           }
          ],
          "surface": [
           {
            "colorbar": {
             "outlinewidth": 0,
             "ticks": ""
            },
            "colorscale": [
             [
              0,
              "#0d0887"
             ],
             [
              0.1111111111111111,
              "#46039f"
             ],
             [
              0.2222222222222222,
              "#7201a8"
             ],
             [
              0.3333333333333333,
              "#9c179e"
             ],
             [
              0.4444444444444444,
              "#bd3786"
             ],
             [
              0.5555555555555556,
              "#d8576b"
             ],
             [
              0.6666666666666666,
              "#ed7953"
             ],
             [
              0.7777777777777778,
              "#fb9f3a"
             ],
             [
              0.8888888888888888,
              "#fdca26"
             ],
             [
              1,
              "#f0f921"
             ]
            ],
            "type": "surface"
           }
          ],
          "table": [
           {
            "cells": {
             "fill": {
              "color": "#EBF0F8"
             },
             "line": {
              "color": "white"
             }
            },
            "header": {
             "fill": {
              "color": "#C8D4E3"
             },
             "line": {
              "color": "white"
             }
            },
            "type": "table"
           }
          ]
         },
         "layout": {
          "annotationdefaults": {
           "arrowcolor": "#2a3f5f",
           "arrowhead": 0,
           "arrowwidth": 1
          },
          "autotypenumbers": "strict",
          "coloraxis": {
           "colorbar": {
            "outlinewidth": 0,
            "ticks": ""
           }
          },
          "colorscale": {
           "diverging": [
            [
             0,
             "#8e0152"
            ],
            [
             0.1,
             "#c51b7d"
            ],
            [
             0.2,
             "#de77ae"
            ],
            [
             0.3,
             "#f1b6da"
            ],
            [
             0.4,
             "#fde0ef"
            ],
            [
             0.5,
             "#f7f7f7"
            ],
            [
             0.6,
             "#e6f5d0"
            ],
            [
             0.7,
             "#b8e186"
            ],
            [
             0.8,
             "#7fbc41"
            ],
            [
             0.9,
             "#4d9221"
            ],
            [
             1,
             "#276419"
            ]
           ],
           "sequential": [
            [
             0,
             "#0d0887"
            ],
            [
             0.1111111111111111,
             "#46039f"
            ],
            [
             0.2222222222222222,
             "#7201a8"
            ],
            [
             0.3333333333333333,
             "#9c179e"
            ],
            [
             0.4444444444444444,
             "#bd3786"
            ],
            [
             0.5555555555555556,
             "#d8576b"
            ],
            [
             0.6666666666666666,
             "#ed7953"
            ],
            [
             0.7777777777777778,
             "#fb9f3a"
            ],
            [
             0.8888888888888888,
             "#fdca26"
            ],
            [
             1,
             "#f0f921"
            ]
           ],
           "sequentialminus": [
            [
             0,
             "#0d0887"
            ],
            [
             0.1111111111111111,
             "#46039f"
            ],
            [
             0.2222222222222222,
             "#7201a8"
            ],
            [
             0.3333333333333333,
             "#9c179e"
            ],
            [
             0.4444444444444444,
             "#bd3786"
            ],
            [
             0.5555555555555556,
             "#d8576b"
            ],
            [
             0.6666666666666666,
             "#ed7953"
            ],
            [
             0.7777777777777778,
             "#fb9f3a"
            ],
            [
             0.8888888888888888,
             "#fdca26"
            ],
            [
             1,
             "#f0f921"
            ]
           ]
          },
          "colorway": [
           "#636efa",
           "#EF553B",
           "#00cc96",
           "#ab63fa",
           "#FFA15A",
           "#19d3f3",
           "#FF6692",
           "#B6E880",
           "#FF97FF",
           "#FECB52"
          ],
          "font": {
           "color": "#2a3f5f"
          },
          "geo": {
           "bgcolor": "white",
           "lakecolor": "white",
           "landcolor": "white",
           "showlakes": true,
           "showland": true,
           "subunitcolor": "#C8D4E3"
          },
          "hoverlabel": {
           "align": "left"
          },
          "hovermode": "closest",
          "mapbox": {
           "style": "light"
          },
          "paper_bgcolor": "white",
          "plot_bgcolor": "white",
          "polar": {
           "angularaxis": {
            "gridcolor": "#EBF0F8",
            "linecolor": "#EBF0F8",
            "ticks": ""
           },
           "bgcolor": "white",
           "radialaxis": {
            "gridcolor": "#EBF0F8",
            "linecolor": "#EBF0F8",
            "ticks": ""
           }
          },
          "scene": {
           "xaxis": {
            "backgroundcolor": "white",
            "gridcolor": "#DFE8F3",
            "gridwidth": 2,
            "linecolor": "#EBF0F8",
            "showbackground": true,
            "ticks": "",
            "zerolinecolor": "#EBF0F8"
           },
           "yaxis": {
            "backgroundcolor": "white",
            "gridcolor": "#DFE8F3",
            "gridwidth": 2,
            "linecolor": "#EBF0F8",
            "showbackground": true,
            "ticks": "",
            "zerolinecolor": "#EBF0F8"
           },
           "zaxis": {
            "backgroundcolor": "white",
            "gridcolor": "#DFE8F3",
            "gridwidth": 2,
            "linecolor": "#EBF0F8",
            "showbackground": true,
            "ticks": "",
            "zerolinecolor": "#EBF0F8"
           }
          },
          "shapedefaults": {
           "line": {
            "color": "#2a3f5f"
           }
          },
          "ternary": {
           "aaxis": {
            "gridcolor": "#DFE8F3",
            "linecolor": "#A2B1C6",
            "ticks": ""
           },
           "baxis": {
            "gridcolor": "#DFE8F3",
            "linecolor": "#A2B1C6",
            "ticks": ""
           },
           "bgcolor": "white",
           "caxis": {
            "gridcolor": "#DFE8F3",
            "linecolor": "#A2B1C6",
            "ticks": ""
           }
          },
          "title": {
           "x": 0.05
          },
          "xaxis": {
           "automargin": true,
           "gridcolor": "#EBF0F8",
           "linecolor": "#EBF0F8",
           "ticks": "",
           "title": {
            "standoff": 15
           },
           "zerolinecolor": "#EBF0F8",
           "zerolinewidth": 2
          },
          "yaxis": {
           "automargin": true,
           "gridcolor": "#EBF0F8",
           "linecolor": "#EBF0F8",
           "ticks": "",
           "title": {
            "standoff": 15
           },
           "zerolinecolor": "#EBF0F8",
           "zerolinewidth": 2
          }
         }
        },
        "title": {
         "text": "Standardised features of best performing adaptations"
        },
        "yaxis": {
         "title": {
          "text": "Relative placement in std deviations"
         }
        }
       }
      }
     },
     "metadata": {},
     "output_type": "display_data"
    }
   ],
   "source": [
    "colors = {'Runtime':'#2E2E2E',\n",
    "          'Release Year':'#44AA99',\n",
    "          'Similarity': 'sandybrown',\n",
    "          'Budget':'#DDCC77',\n",
    "          'Box Office Revenue':'#999933'\n",
    "}\n",
    "\n",
    "datasets = [\n",
    "    {col: Positive_revenue_films_2[col].values for col in target_columns},\n",
    "    {col: Positive_revenue_films_3[col].values for col in target_columns},\n",
    "    {col: Positive_revenue_films_4[col].values for col in target_columns},\n",
    "    {col: Positive_revenue_films_5[col].values for col in target_columns},\n",
    "]\n",
    "\n",
    "# Step 3: Create the initial figure with box plots for the first dataset\n",
    "fig = go.Figure()\n",
    "\n",
    "for col in target_columns:\n",
    "    fig.add_trace(\n",
    "        go.Box(\n",
    "            y=datasets[0][col],  # Use the first dataset\n",
    "            name=col,            # Label the boxplot with the column name\n",
    "            marker_color = colors[col]\n",
    "            \n",
    "    )\n",
    "    )\n",
    "\n",
    "# Step 4: Define the slider steps\n",
    "steps = []\n",
    "for i, dataset in enumerate(datasets):\n",
    "    step = dict(\n",
    "        method=\"update\",\n",
    "        args=[\n",
    "            {\"y\": [dataset[col] for col in target_columns]},  # Update y-values for all traces\n",
    "            {\"title\": \"Standardised features of best performing adaptations\"}         # Update the plot title\n",
    "        ],\n",
    "        label=f\"Bobs with {i + 1} sibling(s) or more\"  # Label for the slider step\n",
    "    )\n",
    "    steps.append(step)\n",
    "\n",
    "# Step 5: Add slider to the layout\n",
    "sliders = [dict(\n",
    "    active=0,\n",
    "    currentvalue={\"prefix\": \"\"},\n",
    "    pad={\"t\": 50},  # Padding to position the slider\n",
    "    steps=steps\n",
    ")]\n",
    "\n",
    "fig.update_layout(\n",
    "    sliders=sliders,\n",
    "    title=\"Standardised features of best performing adaptations\",\n",
    "    yaxis_title=\"Relative placement in std deviations\"\n",
    ")\n",
    "\n",
    "\n",
    "fig.update_layout(\n",
    "        width=None,\n",
    "        height=None,\n",
    "        template='plotly_white'\n",
    "    )\n",
    "# Display the plot\n",
    "fig.show()"
   ]
  },
  {
   "cell_type": "code",
   "execution_count": 39,
   "metadata": {},
   "outputs": [],
   "source": [
    "html_content = f\"\"\"\n",
    "        <!DOCTYPE html>\n",
    "        <html>\n",
    "        <head>\n",
    "            <style>\n",
    "                .plotly-graph-div {{\n",
    "                    width: 100% !important;\n",
    "                    height: 100% !important;\n",
    "                }}\n",
    "            </style>\n",
    "        </head>\n",
    "        <body>\n",
    "            <div id=\"plotly-div\"></div>\n",
    "            <script src=\"https://cdn.plot.ly/plotly-latest.min.js\"></script>\n",
    "            <script>\n",
    "                var plotly_data = {fig.to_json()};\n",
    "                Plotly.newPlot('plotly-div', plotly_data.data, plotly_data.layout);\n",
    "            </script>\n",
    "        </body>\n",
    "        </html>\n",
    "        \"\"\"\n",
    "\n",
    "with open('Interactive_Boxplot.html', 'w') as f:\n",
    "    f.write(html_content)\n"
   ]
  },
  {
   "cell_type": "code",
   "execution_count": null,
   "metadata": {},
   "outputs": [],
   "source": []
  }
 ],
 "metadata": {
  "kernelspec": {
   "display_name": "ada",
   "language": "python",
   "name": "python3"
  },
  "language_info": {
   "codemirror_mode": {
    "name": "ipython",
    "version": 3
   },
   "file_extension": ".py",
   "mimetype": "text/x-python",
   "name": "python",
   "nbconvert_exporter": "python",
   "pygments_lexer": "ipython3",
   "version": "3.11.9"
  }
 },
 "nbformat": 4,
 "nbformat_minor": 2
}
