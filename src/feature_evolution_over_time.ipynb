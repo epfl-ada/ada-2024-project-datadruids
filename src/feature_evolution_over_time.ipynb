{
 "cells": [
  {
   "metadata": {
    "ExecuteTime": {
     "end_time": "2024-12-11T16:45:23.818091Z",
     "start_time": "2024-12-11T16:45:23.751814Z"
    }
   },
   "cell_type": "code",
   "source": [
    "%load_ext autoreload\n",
    "%autoreload 2"
   ],
   "id": "e82110b137dd46f4",
   "outputs": [],
   "execution_count": 1
  },
  {
   "cell_type": "code",
   "id": "initial_id",
   "metadata": {
    "collapsed": true,
    "ExecuteTime": {
     "end_time": "2024-12-11T16:49:55.901213Z",
     "start_time": "2024-12-11T16:49:52.988666Z"
    }
   },
   "source": [
    "import pandas as pd\n",
    "from datasets import load_dataset\n",
    "import tqdm as tqdm\n",
    "\n",
    "regression_dataset_tmdb_raw_df = load_dataset(\"ada-datadruids/regression_dataset_tmdb\")['train'].to_pandas()\n",
    "# interpret release_date as datetime\n",
    "regression_dataset_tmdb_raw_df['release_date'] = pd.to_datetime(regression_dataset_tmdb_raw_df['release_date'])\n",
    "regression_dataset_tmdb_raw_df.head()"
   ],
   "outputs": [
    {
     "data": {
      "text/plain": [
       "       id            title  vote_average  vote_count    status release_date  \\\n",
       "0   27205        Inception         8.364       34495  Released   2010-07-15   \n",
       "1  157336     Interstellar         8.417       32571  Released   2014-11-05   \n",
       "2     155  The Dark Knight         8.512       30619  Released   2008-07-16   \n",
       "3   19995           Avatar         7.573       29815  Released   2009-12-15   \n",
       "4   24428     The Avengers         7.710       29166  Released   2012-04-25   \n",
       "\n",
       "      revenue  runtime  adult                     backdrop_path  ...  \\\n",
       "0   825532764      148  False  /8ZTVqvKDQ8emSGUEMjsS4yHAwrp.jpg  ...   \n",
       "1   701729206      169  False  /pbrkL804c8yAv3zBZR4QPEafpAR.jpg  ...   \n",
       "2  1004558444      152  False  /nMKdUUepR0i5zn0y1T4CsSB5chy.jpg  ...   \n",
       "3  2923706026      162  False  /vL5LR6WdxWPjLPFRLe133jXWsh5.jpg  ...   \n",
       "4  1518815515      143  False  /9BBTo63ANSmhC4e6r62OJFuK2GL.jpg  ...   \n",
       "\n",
       "                                            overview popularity  \\\n",
       "0  Cobb, a skilled thief who commits corporate es...     83.952   \n",
       "1  The adventures of a group of explorers who mak...    140.241   \n",
       "2  Batman raises the stakes in his war on crime. ...    130.643   \n",
       "3  In the 22nd century, a paraplegic Marine is di...     79.932   \n",
       "4  When an unexpected enemy emerges and threatens...     98.082   \n",
       "\n",
       "                        poster_path  \\\n",
       "0  /oYuLEt3zVCKq57qu2F8dT7NIa6f.jpg   \n",
       "1  /gEU2QniE6E77NI6lCU6MxlNBvIx.jpg   \n",
       "2  /qJ2tW6WMUDux911r6m7haRef0WH.jpg   \n",
       "3  /kyeqWdyUXW608qlYkRqosgbbJyK.jpg   \n",
       "4   /RYMX2wcKCBAr24UyPD7xwmjaTn.jpg   \n",
       "\n",
       "                                             tagline  \\\n",
       "0               Your mind is the scene of the crime.   \n",
       "1  Mankind was born on Earth. It was never meant ...   \n",
       "2                  Welcome to a world without rules.   \n",
       "3                        Enter the world of Pandora.   \n",
       "4                            Some assembly required.   \n",
       "\n",
       "                                        genres  \\\n",
       "0           Action, Science Fiction, Adventure   \n",
       "1            Adventure, Drama, Science Fiction   \n",
       "2               Drama, Action, Crime, Thriller   \n",
       "3  Action, Adventure, Fantasy, Science Fiction   \n",
       "4           Science Fiction, Action, Adventure   \n",
       "\n",
       "                                production_companies  \\\n",
       "0  Legendary Pictures, Syncopy, Warner Bros. Pict...   \n",
       "1  Legendary Pictures, Syncopy, Lynda Obst Produc...   \n",
       "2  DC Comics, Legendary Pictures, Syncopy, Isobel...   \n",
       "3  Dune Entertainment, Lightstorm Entertainment, ...   \n",
       "4                                     Marvel Studios   \n",
       "\n",
       "                       production_countries  \\\n",
       "0  United Kingdom, United States of America   \n",
       "1  United Kingdom, United States of America   \n",
       "2  United Kingdom, United States of America   \n",
       "3  United States of America, United Kingdom   \n",
       "4                  United States of America   \n",
       "\n",
       "                     spoken_languages  \\\n",
       "0  English, French, Japanese, Swahili   \n",
       "1                             English   \n",
       "2                   English, Mandarin   \n",
       "3                    English, Spanish   \n",
       "4             English, Hindi, Russian   \n",
       "\n",
       "                                            keywords based_on_book  \n",
       "0  rescue, mission, dream, airplane, paris, franc...         False  \n",
       "1  rescue, future, spacecraft, race against time,...         False  \n",
       "2  joker, sadism, chaos, secret identity, crime f...         False  \n",
       "3  future, society, culture clash, space travel, ...         False  \n",
       "4  new york city, superhero, shield, based on com...         False  \n",
       "\n",
       "[5 rows x 25 columns]"
      ],
      "text/html": [
       "<div>\n",
       "<style scoped>\n",
       "    .dataframe tbody tr th:only-of-type {\n",
       "        vertical-align: middle;\n",
       "    }\n",
       "\n",
       "    .dataframe tbody tr th {\n",
       "        vertical-align: top;\n",
       "    }\n",
       "\n",
       "    .dataframe thead th {\n",
       "        text-align: right;\n",
       "    }\n",
       "</style>\n",
       "<table border=\"1\" class=\"dataframe\">\n",
       "  <thead>\n",
       "    <tr style=\"text-align: right;\">\n",
       "      <th></th>\n",
       "      <th>id</th>\n",
       "      <th>title</th>\n",
       "      <th>vote_average</th>\n",
       "      <th>vote_count</th>\n",
       "      <th>status</th>\n",
       "      <th>release_date</th>\n",
       "      <th>revenue</th>\n",
       "      <th>runtime</th>\n",
       "      <th>adult</th>\n",
       "      <th>backdrop_path</th>\n",
       "      <th>...</th>\n",
       "      <th>overview</th>\n",
       "      <th>popularity</th>\n",
       "      <th>poster_path</th>\n",
       "      <th>tagline</th>\n",
       "      <th>genres</th>\n",
       "      <th>production_companies</th>\n",
       "      <th>production_countries</th>\n",
       "      <th>spoken_languages</th>\n",
       "      <th>keywords</th>\n",
       "      <th>based_on_book</th>\n",
       "    </tr>\n",
       "  </thead>\n",
       "  <tbody>\n",
       "    <tr>\n",
       "      <th>0</th>\n",
       "      <td>27205</td>\n",
       "      <td>Inception</td>\n",
       "      <td>8.364</td>\n",
       "      <td>34495</td>\n",
       "      <td>Released</td>\n",
       "      <td>2010-07-15</td>\n",
       "      <td>825532764</td>\n",
       "      <td>148</td>\n",
       "      <td>False</td>\n",
       "      <td>/8ZTVqvKDQ8emSGUEMjsS4yHAwrp.jpg</td>\n",
       "      <td>...</td>\n",
       "      <td>Cobb, a skilled thief who commits corporate es...</td>\n",
       "      <td>83.952</td>\n",
       "      <td>/oYuLEt3zVCKq57qu2F8dT7NIa6f.jpg</td>\n",
       "      <td>Your mind is the scene of the crime.</td>\n",
       "      <td>Action, Science Fiction, Adventure</td>\n",
       "      <td>Legendary Pictures, Syncopy, Warner Bros. Pict...</td>\n",
       "      <td>United Kingdom, United States of America</td>\n",
       "      <td>English, French, Japanese, Swahili</td>\n",
       "      <td>rescue, mission, dream, airplane, paris, franc...</td>\n",
       "      <td>False</td>\n",
       "    </tr>\n",
       "    <tr>\n",
       "      <th>1</th>\n",
       "      <td>157336</td>\n",
       "      <td>Interstellar</td>\n",
       "      <td>8.417</td>\n",
       "      <td>32571</td>\n",
       "      <td>Released</td>\n",
       "      <td>2014-11-05</td>\n",
       "      <td>701729206</td>\n",
       "      <td>169</td>\n",
       "      <td>False</td>\n",
       "      <td>/pbrkL804c8yAv3zBZR4QPEafpAR.jpg</td>\n",
       "      <td>...</td>\n",
       "      <td>The adventures of a group of explorers who mak...</td>\n",
       "      <td>140.241</td>\n",
       "      <td>/gEU2QniE6E77NI6lCU6MxlNBvIx.jpg</td>\n",
       "      <td>Mankind was born on Earth. It was never meant ...</td>\n",
       "      <td>Adventure, Drama, Science Fiction</td>\n",
       "      <td>Legendary Pictures, Syncopy, Lynda Obst Produc...</td>\n",
       "      <td>United Kingdom, United States of America</td>\n",
       "      <td>English</td>\n",
       "      <td>rescue, future, spacecraft, race against time,...</td>\n",
       "      <td>False</td>\n",
       "    </tr>\n",
       "    <tr>\n",
       "      <th>2</th>\n",
       "      <td>155</td>\n",
       "      <td>The Dark Knight</td>\n",
       "      <td>8.512</td>\n",
       "      <td>30619</td>\n",
       "      <td>Released</td>\n",
       "      <td>2008-07-16</td>\n",
       "      <td>1004558444</td>\n",
       "      <td>152</td>\n",
       "      <td>False</td>\n",
       "      <td>/nMKdUUepR0i5zn0y1T4CsSB5chy.jpg</td>\n",
       "      <td>...</td>\n",
       "      <td>Batman raises the stakes in his war on crime. ...</td>\n",
       "      <td>130.643</td>\n",
       "      <td>/qJ2tW6WMUDux911r6m7haRef0WH.jpg</td>\n",
       "      <td>Welcome to a world without rules.</td>\n",
       "      <td>Drama, Action, Crime, Thriller</td>\n",
       "      <td>DC Comics, Legendary Pictures, Syncopy, Isobel...</td>\n",
       "      <td>United Kingdom, United States of America</td>\n",
       "      <td>English, Mandarin</td>\n",
       "      <td>joker, sadism, chaos, secret identity, crime f...</td>\n",
       "      <td>False</td>\n",
       "    </tr>\n",
       "    <tr>\n",
       "      <th>3</th>\n",
       "      <td>19995</td>\n",
       "      <td>Avatar</td>\n",
       "      <td>7.573</td>\n",
       "      <td>29815</td>\n",
       "      <td>Released</td>\n",
       "      <td>2009-12-15</td>\n",
       "      <td>2923706026</td>\n",
       "      <td>162</td>\n",
       "      <td>False</td>\n",
       "      <td>/vL5LR6WdxWPjLPFRLe133jXWsh5.jpg</td>\n",
       "      <td>...</td>\n",
       "      <td>In the 22nd century, a paraplegic Marine is di...</td>\n",
       "      <td>79.932</td>\n",
       "      <td>/kyeqWdyUXW608qlYkRqosgbbJyK.jpg</td>\n",
       "      <td>Enter the world of Pandora.</td>\n",
       "      <td>Action, Adventure, Fantasy, Science Fiction</td>\n",
       "      <td>Dune Entertainment, Lightstorm Entertainment, ...</td>\n",
       "      <td>United States of America, United Kingdom</td>\n",
       "      <td>English, Spanish</td>\n",
       "      <td>future, society, culture clash, space travel, ...</td>\n",
       "      <td>False</td>\n",
       "    </tr>\n",
       "    <tr>\n",
       "      <th>4</th>\n",
       "      <td>24428</td>\n",
       "      <td>The Avengers</td>\n",
       "      <td>7.710</td>\n",
       "      <td>29166</td>\n",
       "      <td>Released</td>\n",
       "      <td>2012-04-25</td>\n",
       "      <td>1518815515</td>\n",
       "      <td>143</td>\n",
       "      <td>False</td>\n",
       "      <td>/9BBTo63ANSmhC4e6r62OJFuK2GL.jpg</td>\n",
       "      <td>...</td>\n",
       "      <td>When an unexpected enemy emerges and threatens...</td>\n",
       "      <td>98.082</td>\n",
       "      <td>/RYMX2wcKCBAr24UyPD7xwmjaTn.jpg</td>\n",
       "      <td>Some assembly required.</td>\n",
       "      <td>Science Fiction, Action, Adventure</td>\n",
       "      <td>Marvel Studios</td>\n",
       "      <td>United States of America</td>\n",
       "      <td>English, Hindi, Russian</td>\n",
       "      <td>new york city, superhero, shield, based on com...</td>\n",
       "      <td>False</td>\n",
       "    </tr>\n",
       "  </tbody>\n",
       "</table>\n",
       "<p>5 rows × 25 columns</p>\n",
       "</div>"
      ]
     },
     "execution_count": 8,
     "metadata": {},
     "output_type": "execute_result"
    }
   ],
   "execution_count": 8
  },
  {
   "metadata": {},
   "cell_type": "markdown",
   "source": "# Feature Evolution Over Time",
   "id": "f09ad644b7c40ec0"
  },
  {
   "metadata": {},
   "cell_type": "markdown",
   "source": "## Popularity over time (only movies based on books)",
   "id": "ddd7b77f898248d0"
  },
  {
   "metadata": {
    "ExecuteTime": {
     "end_time": "2024-12-11T17:04:49.962874Z",
     "start_time": "2024-12-11T17:04:49.793312Z"
    }
   },
   "cell_type": "code",
   "source": "based_on_books_df = regression_dataset_tmdb_raw_df[regression_dataset_tmdb_raw_df['based_on_book'] == 1]",
   "id": "f7612d4156d0feac",
   "outputs": [],
   "execution_count": 29
  },
  {
   "metadata": {
    "ExecuteTime": {
     "end_time": "2024-12-11T17:01:36.813699Z",
     "start_time": "2024-12-11T17:01:36.675494Z"
    }
   },
   "cell_type": "code",
   "source": [
    "import pandas as pd\n",
    "import plotly.express as px\n",
    "\n",
    "based_on_books_df.loc[:, 'popularity'] = pd.to_numeric(based_on_books_df['popularity'], errors='coerce')\n",
    "based_on_books_df.loc[:, 'year'] = pd.to_datetime(based_on_books_df['release_date'], errors='coerce').dt.year\n",
    "based_on_books_df = based_on_books_df.dropna(subset=['popularity', 'year'])\n",
    "\n",
    "based_on_books_df['year_group'] = (based_on_books_df['year'] // 3) * 3\n",
    "\n",
    "trend = based_on_books_df.groupby('year_group')['popularity'].median().reset_index()\n",
    "\n",
    "fig = px.box(based_on_books_df, x='year_group', y='popularity',\n",
    "             title='Box Plot of Popularity per 3-Year Interval',\n",
    "             labels={'year_group': 'Year Group', 'popularity': 'Popularity'},\n",
    "             points=None)\n",
    "\n",
    "fig.add_scatter(x=trend['year_group'], y=trend['popularity'], mode='lines+markers',\n",
    "                name='Median Trend', line=dict(color='red', width=2))\n",
    "\n",
    "mean_trend = based_on_books_df.groupby('year_group')['popularity'].mean().reset_index()\n",
    "fig.add_scatter(x=mean_trend['year_group'], y=mean_trend['popularity'], mode='lines+markers',\n",
    "                name='Mean Trend', line=dict(color='blue', width=2, dash='dash'))\n",
    "\n",
    "fig.update_layout(\n",
    "    xaxis_title='Year Group',\n",
    "    yaxis_title='Popularity',\n",
    "    width=1000,\n",
    "    height=600\n",
    ")\n",
    "\n",
    "fig.show()\n"
   ],
   "id": "e9cad85996518a5e",
   "outputs": [
    {
     "data": {
      "application/vnd.plotly.v1+json": {
       "data": [
        {
         "alignmentgroup": "True",
         "hovertemplate": "Year Group=%{x}<br>Popularity=%{y}<extra></extra>",
         "legendgroup": "",
         "marker": {
          "color": "#636efa"
         },
         "name": "",
         "notched": false,
         "offsetgroup": "",
         "orientation": "v",
         "showlegend": false,
         "x": [
          1998,
          1992,
          2001,
          2001,
          2001,
          2010,
          2010,
          2001,
          2001,
          2004,
          2004,
          2010,
          1971,
          2007,
          2007,
          2010,
          1980,
          1998,
          1992,
          1989,
          2007,
          1992,
          2004,
          2010,
          1980,
          2007,
          1971,
          2013,
          2004,
          2007,
          2010,
          1983,
          2004,
          1986,
          2004,
          2010,
          1995,
          2004,
          1998,
          1974,
          1974,
          1959,
          1995,
          2004,
          2001,
          1995,
          2004,
          2010,
          2004,
          1971,
          2007,
          2004,
          2010,
          2001,
          2001,
          2001,
          2007,
          2004,
          2010,
          1998,
          2001,
          2007,
          2007,
          1995,
          1959,
          1965,
          2001,
          2004,
          1980,
          1938,
          1995,
          2004,
          2010,
          1956,
          2010,
          1986,
          2010,
          1938,
          1962,
          1998,
          1953,
          2010,
          1989,
          2010,
          2007,
          2004,
          2001,
          1995,
          2007,
          1995,
          1995,
          2010,
          2007,
          1962,
          2001,
          2007,
          2007,
          1998,
          1986,
          1989,
          1998,
          1995,
          1995,
          1998,
          1995,
          2010,
          2010,
          2001,
          2007,
          1989,
          2001,
          1998,
          1998,
          2001,
          2013,
          2007,
          2001,
          1983,
          1938,
          2001,
          2007,
          1962,
          1998,
          2007,
          1968,
          1983,
          2001,
          2001,
          2007,
          2010,
          2004,
          1998,
          2010,
          1962,
          1962,
          2007,
          1998,
          2010,
          2010,
          1995,
          1971,
          1989,
          1968,
          1998,
          1998,
          2004,
          2004,
          1980,
          1998,
          1989,
          2010,
          1983,
          1998,
          2004,
          1974,
          1986,
          1992,
          2004,
          2007,
          1992,
          2007,
          1998,
          1986,
          1995,
          1962,
          2007,
          2001,
          2007,
          1983,
          2004,
          1974,
          1995,
          2010,
          2007,
          1959,
          2001,
          2007,
          2010,
          1962,
          2004,
          1977,
          2004,
          2007,
          2007,
          1995,
          1986,
          2001,
          2001,
          2010,
          1998,
          1986,
          1965,
          2001,
          2001,
          2010,
          2004,
          2010,
          2004,
          1965,
          2010,
          1989,
          1995,
          1995,
          1959,
          1977,
          2007,
          1971,
          2004,
          2010,
          2007,
          1956,
          1962,
          1971,
          1974,
          1992,
          1998,
          1977,
          1977,
          1983,
          1986,
          1977,
          2010,
          2007,
          2001,
          1995,
          1968,
          1980,
          1998,
          1998,
          2007,
          1944,
          2001,
          2001,
          2001,
          2004,
          2007,
          1938,
          1986,
          1995,
          2001,
          1983,
          2007,
          2001,
          1995,
          2007,
          1950,
          1986,
          1941,
          2004,
          2004,
          1998,
          1983,
          1992,
          1986,
          1989,
          1998,
          2004,
          1992,
          1929,
          2004,
          2007,
          1995,
          1953,
          1986,
          2004,
          2004,
          1992,
          1989,
          1983,
          2004,
          1983,
          1974,
          1965,
          1986,
          1998,
          1998,
          2010,
          1989,
          2007,
          2004,
          2004,
          1989,
          1986,
          1995,
          1998,
          1983,
          2001,
          1992,
          1986,
          1998,
          1983,
          1989,
          1983,
          1995,
          1983,
          2001,
          1998,
          1968,
          1998,
          2001,
          1989,
          2004,
          1998,
          1965,
          1992,
          1947,
          1998,
          2001,
          2004,
          2007,
          1986,
          2007,
          2001,
          1974,
          1974,
          1989,
          1992,
          1962,
          2004,
          2007,
          1995,
          1968,
          2001,
          1995,
          1989,
          1989,
          1995,
          1956,
          1983,
          1974,
          2001,
          1992,
          2001,
          1989,
          1998,
          1977,
          2004,
          1986,
          1965,
          1998,
          1986,
          1944,
          1995,
          1971,
          1998,
          1980,
          1983,
          1992,
          1938,
          1971,
          1959,
          1965,
          1959,
          1953,
          1950,
          2001,
          1971,
          1974,
          2001,
          1974,
          1971,
          1971,
          2004,
          1971,
          1998,
          1971,
          1968,
          1995,
          2004,
          2010,
          1953,
          1992,
          1998,
          1962,
          1953,
          2001,
          1989,
          1995,
          1998,
          1959,
          2007,
          1974,
          2001,
          1980,
          1995,
          2001,
          1998,
          2004,
          1944,
          1998,
          1941,
          1959,
          1929,
          1977,
          1995,
          1980,
          1992,
          1983,
          1992,
          1986,
          1989,
          1965,
          2004,
          1992,
          1971,
          1956,
          1977,
          1968,
          1962,
          1971,
          1983,
          1986,
          1983,
          1971,
          1989,
          1980,
          1947,
          1944,
          1995,
          1953,
          1983,
          1977,
          1980,
          2001,
          1989,
          1998,
          1995,
          1983,
          2004,
          1986,
          1989,
          1971,
          1983,
          2010,
          1962,
          1998,
          1983,
          2010,
          1971,
          2001,
          2001,
          1980,
          1914,
          1995,
          2007,
          2010,
          1986,
          1992,
          1983,
          1980,
          1977,
          1989,
          1974,
          1977,
          2001,
          1995,
          1992,
          2001,
          2001,
          1959,
          1989,
          2004,
          1974,
          1986,
          1974,
          1980,
          1968,
          1998,
          1959,
          1998,
          1983,
          1992,
          1980,
          1995,
          1956,
          1944,
          1941,
          1977,
          1977,
          1956,
          2001,
          1968,
          1968,
          1950,
          1986,
          1965,
          1998,
          2001,
          1998,
          1977,
          1971,
          2004,
          2004,
          1971,
          1971,
          1980,
          1962,
          2004,
          1944,
          1980,
          1947,
          1977,
          1953,
          1956,
          1995,
          1995,
          2001,
          1965,
          2004,
          1992,
          1959,
          1956,
          1968,
          2004,
          1962,
          1992,
          2001,
          2004,
          2001,
          1995,
          1977,
          1989,
          1995,
          1977,
          1956,
          1983,
          1947,
          1977,
          1983,
          1989,
          2007,
          1944,
          1980,
          1989,
          1929,
          1986,
          1986,
          1989,
          1995,
          2004,
          1995,
          1998,
          1977,
          1965,
          2001,
          2004,
          1971,
          1953,
          2001,
          1977,
          1989,
          1980,
          2004,
          1965,
          2007,
          2004,
          1968,
          1959,
          1941,
          1989,
          1938,
          1998,
          1992,
          2001,
          1950,
          2001,
          1983,
          1977,
          1965,
          1950,
          2001,
          2001,
          1968,
          1965,
          1944,
          1923,
          1959,
          1953,
          2007,
          2001,
          1962,
          1992,
          1977,
          1983,
          1980,
          1980,
          1995,
          1965,
          2001,
          1992,
          1983,
          1995,
          1938,
          1986,
          1929,
          1986,
          1956,
          1965,
          1974,
          1986,
          1989,
          1998,
          1956,
          2004,
          1971,
          1965,
          1998,
          1989,
          2004,
          1989,
          1935,
          1980,
          1962,
          1959,
          1968,
          1953,
          1968,
          1965,
          1983,
          1977,
          1989,
          1983,
          1977,
          1998,
          1938,
          1968,
          1989,
          1914,
          1971,
          1989,
          1995,
          1956,
          1995,
          1980,
          1935,
          1989,
          1965,
          2004,
          1998,
          1941,
          1971,
          1959,
          1998,
          1959,
          1947,
          1929,
          1935,
          1986,
          1932,
          1965,
          2004,
          1944,
          1989,
          1926,
          1926,
          1944,
          1962,
          1977,
          1926
         ],
         "x0": " ",
         "xaxis": "x",
         "y": [
          69.498,
          92.693,
          185.482,
          87.037,
          99.276,
          56.595,
          29.577,
          121.699,
          78.73,
          124.386,
          134.276,
          110.974,
          158.448,
          117.168,
          121.735,
          83.524,
          45.252,
          83.739,
          24.213,
          9.119,
          59.815,
          65.084,
          60.854,
          79.192,
          56.798,
          71.541,
          38.323,
          36.651,
          50.84,
          33.115,
          38.032,
          54.199,
          55.483,
          36.754,
          43.407,
          33.384,
          13.444,
          123.542,
          55.224,
          36.673,
          34.492,
          51.373,
          27.042,
          30.602,
          31.217,
          2.257,
          40.932,
          52.139,
          49.413,
          94.668,
          24.667,
          28.983,
          62.104,
          29.573,
          18.982,
          1.49,
          45.822,
          28.409,
          23.466,
          72.359,
          25.675,
          28.909,
          39.516,
          22.8,
          38.721,
          55.91,
          26.617,
          45.535,
          41.721,
          34.383,
          28.22,
          45.54,
          32.088,
          28.086,
          38.495,
          29.829,
          38.313,
          44.236,
          18.253,
          41.39,
          37.561,
          26.344,
          29.223,
          18.656,
          32.693,
          33.347,
          26.933,
          37.775,
          24.977,
          22.473,
          36.346,
          40.182,
          29.744,
          27.399,
          5.532,
          21.653,
          32.51,
          28.552,
          31.347,
          28.704,
          30.173,
          35.03,
          25.311,
          17.58,
          34.275,
          42.913,
          19.388,
          5.289,
          24.878,
          28.076,
          31.427,
          23.423,
          41.954,
          27.659,
          23.075,
          22.676,
          25.498,
          29.369,
          46.849,
          33.651,
          44.904,
          32.576,
          19.751,
          26.031,
          34.702,
          52.373,
          27.747,
          33.708,
          24.262,
          19.689,
          18.56,
          28.882,
          20.153,
          28.018,
          27.343,
          21.659,
          23.241,
          14.923,
          20.494,
          34.452,
          34.56,
          22.32,
          40.773,
          30.218,
          17.438,
          24.517,
          28.943,
          29.86,
          26.358,
          34.195,
          20.214,
          25.555,
          25.021,
          21.136,
          23.236,
          46.671,
          17.949,
          29.478,
          20.8,
          28.684,
          22.538,
          20.071,
          19.635,
          16.421,
          27.531,
          15.833,
          28.149,
          27.464,
          35.361,
          15.401,
          19.26,
          23.811,
          27.124,
          23.891,
          33.33,
          22.167,
          25.373,
          14.302,
          25.426,
          18.494,
          24.21,
          18.754,
          25.506,
          26.452,
          23.837,
          19.038,
          21.927,
          21.717,
          17.6,
          20.617,
          22.21,
          27.879,
          12.669,
          25.896,
          12.429,
          30.749,
          15.7,
          18.283,
          27.294,
          22.108,
          27.325,
          22.154,
          21.869,
          35.343,
          30.244,
          20.492,
          33.045,
          24.943,
          23.453,
          19.719,
          18.514,
          25.037,
          25.922,
          30.703,
          22.902,
          13.527,
          26.572,
          28.088,
          24.274,
          14.322,
          24.336,
          25.575,
          20.454,
          31.674,
          18.051,
          22.017,
          22.65,
          24.27,
          22.743,
          18.698,
          20.719,
          28.294,
          22.448,
          26.928,
          16.731,
          23.286,
          14.81,
          29.641,
          48.44,
          23.775,
          15.337,
          31.475,
          15.915,
          22.296,
          19.188,
          19.469,
          28.145,
          22.121,
          19.85,
          26.003,
          20.272,
          19.547,
          19.267,
          22.265,
          19.474,
          19.957,
          13.506,
          23.113,
          25.884,
          18.446,
          18.489,
          29.783,
          16.206,
          15.026,
          18.348,
          20.597,
          26.538,
          21.172,
          22.607,
          26.342,
          18.834,
          19.557,
          23.354,
          24.574,
          17.782,
          17.476,
          21.079,
          15.388,
          25.512,
          13.303,
          121.658,
          28.572,
          19.519,
          27.497,
          18.464,
          24.929,
          15.841,
          18.126,
          0.781,
          18.997,
          14.331,
          5.786,
          26.602,
          17.688,
          20.004,
          16.752,
          15.685,
          23.486,
          19.243,
          15.247,
          27.466,
          14.245,
          15.653,
          26.602,
          25.114,
          17.341,
          12.759,
          25.169,
          15.842,
          20.937,
          12.852,
          14.797,
          19.043,
          21.233,
          17.625,
          14.529,
          21.406,
          13.143,
          16.556,
          23.221,
          19.644,
          27.583,
          20.039,
          17.36,
          19.34,
          23.601,
          15.84,
          13.857,
          17.736,
          13.542,
          16.319,
          15.455,
          23.061,
          14.182,
          13.911,
          24.22,
          16.295,
          11.883,
          16.62,
          13.393,
          18.953,
          22.279,
          12.3,
          23.406,
          17.737,
          19.284,
          17.065,
          20.241,
          13.497,
          20.367,
          13.673,
          17.397,
          15.147,
          14.153,
          17.167,
          12.988,
          15.299,
          16.344,
          18.256,
          19.487,
          16.495,
          12.411,
          12.229,
          25.107,
          12.835,
          23.588,
          16.298,
          21.668,
          14.741,
          22.546,
          20.578,
          24.55,
          13.416,
          28.027,
          11.329,
          33.784,
          24.001,
          11.491,
          20.075,
          26.468,
          13.699,
          23.036,
          14.964,
          28.956,
          12.679,
          14.042,
          15.047,
          22.696,
          14.557,
          14.761,
          13.484,
          21.499,
          16.367,
          18.563,
          15.685,
          19.573,
          13.425,
          14.578,
          15.117,
          22.518,
          29.093,
          20.508,
          12.935,
          16.662,
          17.603,
          17.285,
          29.943,
          18.411,
          17.928,
          12.571,
          15.883,
          13.326,
          16.16,
          15.747,
          22.689,
          13.71,
          10.06,
          15.903,
          12.865,
          19.5,
          12.044,
          13.231,
          13.498,
          19.729,
          14.784,
          12.812,
          13.653,
          14.787,
          16.01,
          18.266,
          14.769,
          16.362,
          18.928,
          18.14,
          13.287,
          18.841,
          23.009,
          17.75,
          12.592,
          23.58,
          15.488,
          16.603,
          13.791,
          12.37,
          12.793,
          12.525,
          17.23,
          14.88,
          12.065,
          14.425,
          20.925,
          10.822,
          17.76,
          22.837,
          14.589,
          15.716,
          14.354,
          14.389,
          7.305,
          17.002,
          11.681,
          19.447,
          10.677,
          17.891,
          13.359,
          14.356,
          19.885,
          18.99,
          13.365,
          15.104,
          14.649,
          14.129,
          17.173,
          14.439,
          17.804,
          11.618,
          15.108,
          12.579,
          16.014,
          19.579,
          12.739,
          12.012,
          14.059,
          11.841,
          11.995,
          11.324,
          14.714,
          18.839,
          13.461,
          11.252,
          16.416,
          20.328,
          11.029,
          15.058,
          10.747,
          18.37,
          20.793,
          12.434,
          15.079,
          16.156,
          14.668,
          17.706,
          12.754,
          11.897,
          13.148,
          11.058,
          8.311,
          15.756,
          8.357,
          12.078,
          13.408,
          18.144,
          8.979,
          11.964,
          14.327,
          13.067,
          10.743,
          11.278,
          8.527,
          15.823,
          19.25,
          10.241,
          9.39,
          13.879,
          17.538,
          11.022,
          12.153,
          13.049,
          11.707,
          12.9,
          10.836,
          16.863,
          13.792,
          12.508,
          8.433,
          13.376,
          8.871,
          16.526,
          11.413,
          10.724,
          29.032,
          12.567,
          23.666,
          11.362,
          8.853,
          9.703,
          13.866,
          13.783,
          8.441,
          12.189,
          11.206,
          11.945,
          9.849,
          17.378,
          13.077,
          10.878,
          6.643,
          14.393,
          10.558,
          9.192,
          17.814,
          9.762,
          5.941,
          9.144,
          8.831,
          11.997,
          9.026,
          13.313,
          11.048,
          14.76,
          12.83,
          10.898,
          15.38,
          12.335,
          8.974,
          10.927,
          9.567,
          11.984,
          13.234,
          9.408,
          10.844,
          10.332,
          8.475,
          11.522,
          8.726,
          9.157,
          10.466,
          16.066,
          7.708,
          13.888,
          12.453,
          13.971,
          8.311,
          11.998,
          8.966,
          14.503,
          11.734,
          19.902,
          8.147,
          8.17,
          10.735,
          9.24,
          10.584,
          10.486,
          9.014,
          10.222,
          12.072,
          6.49,
          7.867,
          9.333,
          5.71,
          7.328,
          7.816,
          11.262,
          10.107,
          9.846,
          9.901,
          7.47,
          10.748,
          5.156,
          5.583,
          5.275,
          6.476,
          5.118,
          7.413,
          5.694,
          11.068,
          3.474,
          7.589,
          5.837,
          7.587,
          8.845,
          5.306,
          5.887,
          4.992,
          4.609,
          9.039,
          3.27,
          5.545,
          4.511,
          11.51,
          6.624,
          4.251,
          6.401,
          3.28,
          3.766,
          3.964,
          4.944,
          3.808,
          3.204,
          2.263,
          5.475,
          3.594,
          2.693,
          2.146,
          2.292,
          2.075,
          2.954,
          1.384
         ],
         "y0": " ",
         "yaxis": "y",
         "type": "box"
        },
        {
         "line": {
          "color": "red",
          "width": 2
         },
         "mode": "lines+markers",
         "name": "Median Trend",
         "x": [
          1914,
          1923,
          1926,
          1929,
          1932,
          1935,
          1938,
          1941,
          1944,
          1947,
          1950,
          1953,
          1956,
          1959,
          1962,
          1965,
          1968,
          1971,
          1974,
          1977,
          1980,
          1983,
          1986,
          1989,
          1992,
          1995,
          1998,
          2001,
          2004,
          2007,
          2010,
          2013
         ],
         "y": [
          8.6325,
          10.927,
          2.146,
          8.966,
          3.808,
          4.992,
          16.312,
          13.484,
          14.818000000000001,
          12.153,
          14.76,
          13.968,
          17.4115,
          14.77,
          20.793,
          16.343,
          15.838999999999999,
          16.416,
          19.3735,
          17.706,
          16.3795,
          16.6125,
          18.0785,
          14.649000000000001,
          18.0375,
          17.524,
          18.464,
          19.386,
          18.657,
          24.262,
          23.4595,
          29.863
         ],
         "type": "scatter"
        },
        {
         "line": {
          "color": "blue",
          "dash": "dash",
          "width": 2
         },
         "mode": "lines+markers",
         "name": "Mean Trend",
         "x": [
          1914,
          1923,
          1926,
          1929,
          1932,
          1935,
          1938,
          1941,
          1944,
          1947,
          1950,
          1953,
          1956,
          1959,
          1962,
          1965,
          1968,
          1971,
          1974,
          1977,
          1980,
          1983,
          1986,
          1989,
          1992,
          1995,
          1998,
          2001,
          2004,
          2007,
          2010,
          2013
         ],
         "y": [
          8.6325,
          10.927,
          2.074333333333333,
          12.6832,
          3.808,
          4.8886666666666665,
          23.414125,
          13.1564,
          13.375900000000001,
          11.5004,
          14.413599999999999,
          16.769399999999997,
          16.155583333333333,
          20.4735,
          19.989588235294118,
          18.0335,
          17.870625,
          27.22856,
          20.3206875,
          17.565080000000002,
          20.237272727272728,
          19.74934375,
          18.884433333333334,
          16.477184210526318,
          22.661846153846152,
          19.873391304347827,
          22.37677358490566,
          26.3094375,
          29.01695,
          30.1342,
          32.5325,
          29.863
         ],
         "type": "scatter"
        }
       ],
       "layout": {
        "template": {
         "data": {
          "histogram2dcontour": [
           {
            "type": "histogram2dcontour",
            "colorbar": {
             "outlinewidth": 0,
             "ticks": ""
            },
            "colorscale": [
             [
              0.0,
              "#0d0887"
             ],
             [
              0.1111111111111111,
              "#46039f"
             ],
             [
              0.2222222222222222,
              "#7201a8"
             ],
             [
              0.3333333333333333,
              "#9c179e"
             ],
             [
              0.4444444444444444,
              "#bd3786"
             ],
             [
              0.5555555555555556,
              "#d8576b"
             ],
             [
              0.6666666666666666,
              "#ed7953"
             ],
             [
              0.7777777777777778,
              "#fb9f3a"
             ],
             [
              0.8888888888888888,
              "#fdca26"
             ],
             [
              1.0,
              "#f0f921"
             ]
            ]
           }
          ],
          "choropleth": [
           {
            "type": "choropleth",
            "colorbar": {
             "outlinewidth": 0,
             "ticks": ""
            }
           }
          ],
          "histogram2d": [
           {
            "type": "histogram2d",
            "colorbar": {
             "outlinewidth": 0,
             "ticks": ""
            },
            "colorscale": [
             [
              0.0,
              "#0d0887"
             ],
             [
              0.1111111111111111,
              "#46039f"
             ],
             [
              0.2222222222222222,
              "#7201a8"
             ],
             [
              0.3333333333333333,
              "#9c179e"
             ],
             [
              0.4444444444444444,
              "#bd3786"
             ],
             [
              0.5555555555555556,
              "#d8576b"
             ],
             [
              0.6666666666666666,
              "#ed7953"
             ],
             [
              0.7777777777777778,
              "#fb9f3a"
             ],
             [
              0.8888888888888888,
              "#fdca26"
             ],
             [
              1.0,
              "#f0f921"
             ]
            ]
           }
          ],
          "heatmap": [
           {
            "type": "heatmap",
            "colorbar": {
             "outlinewidth": 0,
             "ticks": ""
            },
            "colorscale": [
             [
              0.0,
              "#0d0887"
             ],
             [
              0.1111111111111111,
              "#46039f"
             ],
             [
              0.2222222222222222,
              "#7201a8"
             ],
             [
              0.3333333333333333,
              "#9c179e"
             ],
             [
              0.4444444444444444,
              "#bd3786"
             ],
             [
              0.5555555555555556,
              "#d8576b"
             ],
             [
              0.6666666666666666,
              "#ed7953"
             ],
             [
              0.7777777777777778,
              "#fb9f3a"
             ],
             [
              0.8888888888888888,
              "#fdca26"
             ],
             [
              1.0,
              "#f0f921"
             ]
            ]
           }
          ],
          "heatmapgl": [
           {
            "type": "heatmapgl",
            "colorbar": {
             "outlinewidth": 0,
             "ticks": ""
            },
            "colorscale": [
             [
              0.0,
              "#0d0887"
             ],
             [
              0.1111111111111111,
              "#46039f"
             ],
             [
              0.2222222222222222,
              "#7201a8"
             ],
             [
              0.3333333333333333,
              "#9c179e"
             ],
             [
              0.4444444444444444,
              "#bd3786"
             ],
             [
              0.5555555555555556,
              "#d8576b"
             ],
             [
              0.6666666666666666,
              "#ed7953"
             ],
             [
              0.7777777777777778,
              "#fb9f3a"
             ],
             [
              0.8888888888888888,
              "#fdca26"
             ],
             [
              1.0,
              "#f0f921"
             ]
            ]
           }
          ],
          "contourcarpet": [
           {
            "type": "contourcarpet",
            "colorbar": {
             "outlinewidth": 0,
             "ticks": ""
            }
           }
          ],
          "contour": [
           {
            "type": "contour",
            "colorbar": {
             "outlinewidth": 0,
             "ticks": ""
            },
            "colorscale": [
             [
              0.0,
              "#0d0887"
             ],
             [
              0.1111111111111111,
              "#46039f"
             ],
             [
              0.2222222222222222,
              "#7201a8"
             ],
             [
              0.3333333333333333,
              "#9c179e"
             ],
             [
              0.4444444444444444,
              "#bd3786"
             ],
             [
              0.5555555555555556,
              "#d8576b"
             ],
             [
              0.6666666666666666,
              "#ed7953"
             ],
             [
              0.7777777777777778,
              "#fb9f3a"
             ],
             [
              0.8888888888888888,
              "#fdca26"
             ],
             [
              1.0,
              "#f0f921"
             ]
            ]
           }
          ],
          "surface": [
           {
            "type": "surface",
            "colorbar": {
             "outlinewidth": 0,
             "ticks": ""
            },
            "colorscale": [
             [
              0.0,
              "#0d0887"
             ],
             [
              0.1111111111111111,
              "#46039f"
             ],
             [
              0.2222222222222222,
              "#7201a8"
             ],
             [
              0.3333333333333333,
              "#9c179e"
             ],
             [
              0.4444444444444444,
              "#bd3786"
             ],
             [
              0.5555555555555556,
              "#d8576b"
             ],
             [
              0.6666666666666666,
              "#ed7953"
             ],
             [
              0.7777777777777778,
              "#fb9f3a"
             ],
             [
              0.8888888888888888,
              "#fdca26"
             ],
             [
              1.0,
              "#f0f921"
             ]
            ]
           }
          ],
          "mesh3d": [
           {
            "type": "mesh3d",
            "colorbar": {
             "outlinewidth": 0,
             "ticks": ""
            }
           }
          ],
          "scatter": [
           {
            "fillpattern": {
             "fillmode": "overlay",
             "size": 10,
             "solidity": 0.2
            },
            "type": "scatter"
           }
          ],
          "parcoords": [
           {
            "type": "parcoords",
            "line": {
             "colorbar": {
              "outlinewidth": 0,
              "ticks": ""
             }
            }
           }
          ],
          "scatterpolargl": [
           {
            "type": "scatterpolargl",
            "marker": {
             "colorbar": {
              "outlinewidth": 0,
              "ticks": ""
             }
            }
           }
          ],
          "bar": [
           {
            "error_x": {
             "color": "#2a3f5f"
            },
            "error_y": {
             "color": "#2a3f5f"
            },
            "marker": {
             "line": {
              "color": "#E5ECF6",
              "width": 0.5
             },
             "pattern": {
              "fillmode": "overlay",
              "size": 10,
              "solidity": 0.2
             }
            },
            "type": "bar"
           }
          ],
          "scattergeo": [
           {
            "type": "scattergeo",
            "marker": {
             "colorbar": {
              "outlinewidth": 0,
              "ticks": ""
             }
            }
           }
          ],
          "scatterpolar": [
           {
            "type": "scatterpolar",
            "marker": {
             "colorbar": {
              "outlinewidth": 0,
              "ticks": ""
             }
            }
           }
          ],
          "histogram": [
           {
            "marker": {
             "pattern": {
              "fillmode": "overlay",
              "size": 10,
              "solidity": 0.2
             }
            },
            "type": "histogram"
           }
          ],
          "scattergl": [
           {
            "type": "scattergl",
            "marker": {
             "colorbar": {
              "outlinewidth": 0,
              "ticks": ""
             }
            }
           }
          ],
          "scatter3d": [
           {
            "type": "scatter3d",
            "line": {
             "colorbar": {
              "outlinewidth": 0,
              "ticks": ""
             }
            },
            "marker": {
             "colorbar": {
              "outlinewidth": 0,
              "ticks": ""
             }
            }
           }
          ],
          "scattermapbox": [
           {
            "type": "scattermapbox",
            "marker": {
             "colorbar": {
              "outlinewidth": 0,
              "ticks": ""
             }
            }
           }
          ],
          "scatterternary": [
           {
            "type": "scatterternary",
            "marker": {
             "colorbar": {
              "outlinewidth": 0,
              "ticks": ""
             }
            }
           }
          ],
          "scattercarpet": [
           {
            "type": "scattercarpet",
            "marker": {
             "colorbar": {
              "outlinewidth": 0,
              "ticks": ""
             }
            }
           }
          ],
          "carpet": [
           {
            "aaxis": {
             "endlinecolor": "#2a3f5f",
             "gridcolor": "white",
             "linecolor": "white",
             "minorgridcolor": "white",
             "startlinecolor": "#2a3f5f"
            },
            "baxis": {
             "endlinecolor": "#2a3f5f",
             "gridcolor": "white",
             "linecolor": "white",
             "minorgridcolor": "white",
             "startlinecolor": "#2a3f5f"
            },
            "type": "carpet"
           }
          ],
          "table": [
           {
            "cells": {
             "fill": {
              "color": "#EBF0F8"
             },
             "line": {
              "color": "white"
             }
            },
            "header": {
             "fill": {
              "color": "#C8D4E3"
             },
             "line": {
              "color": "white"
             }
            },
            "type": "table"
           }
          ],
          "barpolar": [
           {
            "marker": {
             "line": {
              "color": "#E5ECF6",
              "width": 0.5
             },
             "pattern": {
              "fillmode": "overlay",
              "size": 10,
              "solidity": 0.2
             }
            },
            "type": "barpolar"
           }
          ],
          "pie": [
           {
            "automargin": true,
            "type": "pie"
           }
          ]
         },
         "layout": {
          "autotypenumbers": "strict",
          "colorway": [
           "#636efa",
           "#EF553B",
           "#00cc96",
           "#ab63fa",
           "#FFA15A",
           "#19d3f3",
           "#FF6692",
           "#B6E880",
           "#FF97FF",
           "#FECB52"
          ],
          "font": {
           "color": "#2a3f5f"
          },
          "hovermode": "closest",
          "hoverlabel": {
           "align": "left"
          },
          "paper_bgcolor": "white",
          "plot_bgcolor": "#E5ECF6",
          "polar": {
           "bgcolor": "#E5ECF6",
           "angularaxis": {
            "gridcolor": "white",
            "linecolor": "white",
            "ticks": ""
           },
           "radialaxis": {
            "gridcolor": "white",
            "linecolor": "white",
            "ticks": ""
           }
          },
          "ternary": {
           "bgcolor": "#E5ECF6",
           "aaxis": {
            "gridcolor": "white",
            "linecolor": "white",
            "ticks": ""
           },
           "baxis": {
            "gridcolor": "white",
            "linecolor": "white",
            "ticks": ""
           },
           "caxis": {
            "gridcolor": "white",
            "linecolor": "white",
            "ticks": ""
           }
          },
          "coloraxis": {
           "colorbar": {
            "outlinewidth": 0,
            "ticks": ""
           }
          },
          "colorscale": {
           "sequential": [
            [
             0.0,
             "#0d0887"
            ],
            [
             0.1111111111111111,
             "#46039f"
            ],
            [
             0.2222222222222222,
             "#7201a8"
            ],
            [
             0.3333333333333333,
             "#9c179e"
            ],
            [
             0.4444444444444444,
             "#bd3786"
            ],
            [
             0.5555555555555556,
             "#d8576b"
            ],
            [
             0.6666666666666666,
             "#ed7953"
            ],
            [
             0.7777777777777778,
             "#fb9f3a"
            ],
            [
             0.8888888888888888,
             "#fdca26"
            ],
            [
             1.0,
             "#f0f921"
            ]
           ],
           "sequentialminus": [
            [
             0.0,
             "#0d0887"
            ],
            [
             0.1111111111111111,
             "#46039f"
            ],
            [
             0.2222222222222222,
             "#7201a8"
            ],
            [
             0.3333333333333333,
             "#9c179e"
            ],
            [
             0.4444444444444444,
             "#bd3786"
            ],
            [
             0.5555555555555556,
             "#d8576b"
            ],
            [
             0.6666666666666666,
             "#ed7953"
            ],
            [
             0.7777777777777778,
             "#fb9f3a"
            ],
            [
             0.8888888888888888,
             "#fdca26"
            ],
            [
             1.0,
             "#f0f921"
            ]
           ],
           "diverging": [
            [
             0,
             "#8e0152"
            ],
            [
             0.1,
             "#c51b7d"
            ],
            [
             0.2,
             "#de77ae"
            ],
            [
             0.3,
             "#f1b6da"
            ],
            [
             0.4,
             "#fde0ef"
            ],
            [
             0.5,
             "#f7f7f7"
            ],
            [
             0.6,
             "#e6f5d0"
            ],
            [
             0.7,
             "#b8e186"
            ],
            [
             0.8,
             "#7fbc41"
            ],
            [
             0.9,
             "#4d9221"
            ],
            [
             1,
             "#276419"
            ]
           ]
          },
          "xaxis": {
           "gridcolor": "white",
           "linecolor": "white",
           "ticks": "",
           "title": {
            "standoff": 15
           },
           "zerolinecolor": "white",
           "automargin": true,
           "zerolinewidth": 2
          },
          "yaxis": {
           "gridcolor": "white",
           "linecolor": "white",
           "ticks": "",
           "title": {
            "standoff": 15
           },
           "zerolinecolor": "white",
           "automargin": true,
           "zerolinewidth": 2
          },
          "scene": {
           "xaxis": {
            "backgroundcolor": "#E5ECF6",
            "gridcolor": "white",
            "linecolor": "white",
            "showbackground": true,
            "ticks": "",
            "zerolinecolor": "white",
            "gridwidth": 2
           },
           "yaxis": {
            "backgroundcolor": "#E5ECF6",
            "gridcolor": "white",
            "linecolor": "white",
            "showbackground": true,
            "ticks": "",
            "zerolinecolor": "white",
            "gridwidth": 2
           },
           "zaxis": {
            "backgroundcolor": "#E5ECF6",
            "gridcolor": "white",
            "linecolor": "white",
            "showbackground": true,
            "ticks": "",
            "zerolinecolor": "white",
            "gridwidth": 2
           }
          },
          "shapedefaults": {
           "line": {
            "color": "#2a3f5f"
           }
          },
          "annotationdefaults": {
           "arrowcolor": "#2a3f5f",
           "arrowhead": 0,
           "arrowwidth": 1
          },
          "geo": {
           "bgcolor": "white",
           "landcolor": "#E5ECF6",
           "subunitcolor": "white",
           "showland": true,
           "showlakes": true,
           "lakecolor": "white"
          },
          "title": {
           "x": 0.05
          },
          "mapbox": {
           "style": "light"
          }
         }
        },
        "xaxis": {
         "anchor": "y",
         "domain": [
          0.0,
          1.0
         ],
         "title": {
          "text": "Year Group"
         }
        },
        "yaxis": {
         "anchor": "x",
         "domain": [
          0.0,
          1.0
         ],
         "title": {
          "text": "Popularity"
         }
        },
        "legend": {
         "tracegroupgap": 0
        },
        "title": {
         "text": "Box Plot of Popularity per 3-Year Interval"
        },
        "boxmode": "group",
        "width": 1000,
        "height": 600
       },
       "config": {
        "plotlyServerURL": "https://plot.ly"
       }
      },
      "text/html": [
       "<div>                            <div id=\"e12e314d-d15d-499d-b8ad-4e18f37d98c6\" class=\"plotly-graph-div\" style=\"height:600px; width:1000px;\"></div>            <script type=\"text/javascript\">                require([\"plotly\"], function(Plotly) {                    window.PLOTLYENV=window.PLOTLYENV || {};                                    if (document.getElementById(\"e12e314d-d15d-499d-b8ad-4e18f37d98c6\")) {                    Plotly.newPlot(                        \"e12e314d-d15d-499d-b8ad-4e18f37d98c6\",                        [{\"alignmentgroup\":\"True\",\"hovertemplate\":\"Year Group=%{x}\\u003cbr\\u003ePopularity=%{y}\\u003cextra\\u003e\\u003c\\u002fextra\\u003e\",\"legendgroup\":\"\",\"marker\":{\"color\":\"#636efa\"},\"name\":\"\",\"notched\":false,\"offsetgroup\":\"\",\"orientation\":\"v\",\"showlegend\":false,\"x\":[1998,1992,2001,2001,2001,2010,2010,2001,2001,2004,2004,2010,1971,2007,2007,2010,1980,1998,1992,1989,2007,1992,2004,2010,1980,2007,1971,2013,2004,2007,2010,1983,2004,1986,2004,2010,1995,2004,1998,1974,1974,1959,1995,2004,2001,1995,2004,2010,2004,1971,2007,2004,2010,2001,2001,2001,2007,2004,2010,1998,2001,2007,2007,1995,1959,1965,2001,2004,1980,1938,1995,2004,2010,1956,2010,1986,2010,1938,1962,1998,1953,2010,1989,2010,2007,2004,2001,1995,2007,1995,1995,2010,2007,1962,2001,2007,2007,1998,1986,1989,1998,1995,1995,1998,1995,2010,2010,2001,2007,1989,2001,1998,1998,2001,2013,2007,2001,1983,1938,2001,2007,1962,1998,2007,1968,1983,2001,2001,2007,2010,2004,1998,2010,1962,1962,2007,1998,2010,2010,1995,1971,1989,1968,1998,1998,2004,2004,1980,1998,1989,2010,1983,1998,2004,1974,1986,1992,2004,2007,1992,2007,1998,1986,1995,1962,2007,2001,2007,1983,2004,1974,1995,2010,2007,1959,2001,2007,2010,1962,2004,1977,2004,2007,2007,1995,1986,2001,2001,2010,1998,1986,1965,2001,2001,2010,2004,2010,2004,1965,2010,1989,1995,1995,1959,1977,2007,1971,2004,2010,2007,1956,1962,1971,1974,1992,1998,1977,1977,1983,1986,1977,2010,2007,2001,1995,1968,1980,1998,1998,2007,1944,2001,2001,2001,2004,2007,1938,1986,1995,2001,1983,2007,2001,1995,2007,1950,1986,1941,2004,2004,1998,1983,1992,1986,1989,1998,2004,1992,1929,2004,2007,1995,1953,1986,2004,2004,1992,1989,1983,2004,1983,1974,1965,1986,1998,1998,2010,1989,2007,2004,2004,1989,1986,1995,1998,1983,2001,1992,1986,1998,1983,1989,1983,1995,1983,2001,1998,1968,1998,2001,1989,2004,1998,1965,1992,1947,1998,2001,2004,2007,1986,2007,2001,1974,1974,1989,1992,1962,2004,2007,1995,1968,2001,1995,1989,1989,1995,1956,1983,1974,2001,1992,2001,1989,1998,1977,2004,1986,1965,1998,1986,1944,1995,1971,1998,1980,1983,1992,1938,1971,1959,1965,1959,1953,1950,2001,1971,1974,2001,1974,1971,1971,2004,1971,1998,1971,1968,1995,2004,2010,1953,1992,1998,1962,1953,2001,1989,1995,1998,1959,2007,1974,2001,1980,1995,2001,1998,2004,1944,1998,1941,1959,1929,1977,1995,1980,1992,1983,1992,1986,1989,1965,2004,1992,1971,1956,1977,1968,1962,1971,1983,1986,1983,1971,1989,1980,1947,1944,1995,1953,1983,1977,1980,2001,1989,1998,1995,1983,2004,1986,1989,1971,1983,2010,1962,1998,1983,2010,1971,2001,2001,1980,1914,1995,2007,2010,1986,1992,1983,1980,1977,1989,1974,1977,2001,1995,1992,2001,2001,1959,1989,2004,1974,1986,1974,1980,1968,1998,1959,1998,1983,1992,1980,1995,1956,1944,1941,1977,1977,1956,2001,1968,1968,1950,1986,1965,1998,2001,1998,1977,1971,2004,2004,1971,1971,1980,1962,2004,1944,1980,1947,1977,1953,1956,1995,1995,2001,1965,2004,1992,1959,1956,1968,2004,1962,1992,2001,2004,2001,1995,1977,1989,1995,1977,1956,1983,1947,1977,1983,1989,2007,1944,1980,1989,1929,1986,1986,1989,1995,2004,1995,1998,1977,1965,2001,2004,1971,1953,2001,1977,1989,1980,2004,1965,2007,2004,1968,1959,1941,1989,1938,1998,1992,2001,1950,2001,1983,1977,1965,1950,2001,2001,1968,1965,1944,1923,1959,1953,2007,2001,1962,1992,1977,1983,1980,1980,1995,1965,2001,1992,1983,1995,1938,1986,1929,1986,1956,1965,1974,1986,1989,1998,1956,2004,1971,1965,1998,1989,2004,1989,1935,1980,1962,1959,1968,1953,1968,1965,1983,1977,1989,1983,1977,1998,1938,1968,1989,1914,1971,1989,1995,1956,1995,1980,1935,1989,1965,2004,1998,1941,1971,1959,1998,1959,1947,1929,1935,1986,1932,1965,2004,1944,1989,1926,1926,1944,1962,1977,1926],\"x0\":\" \",\"xaxis\":\"x\",\"y\":[69.498,92.693,185.482,87.037,99.276,56.595,29.577,121.699,78.73,124.386,134.276,110.974,158.448,117.168,121.735,83.524,45.252,83.739,24.213,9.119,59.815,65.084,60.854,79.192,56.798,71.541,38.323,36.651,50.84,33.115,38.032,54.199,55.483,36.754,43.407,33.384,13.444,123.542,55.224,36.673,34.492,51.373,27.042,30.602,31.217,2.257,40.932,52.139,49.413,94.668,24.667,28.983,62.104,29.573,18.982,1.49,45.822,28.409,23.466,72.359,25.675,28.909,39.516,22.8,38.721,55.91,26.617,45.535,41.721,34.383,28.22,45.54,32.088,28.086,38.495,29.829,38.313,44.236,18.253,41.39,37.561,26.344,29.223,18.656,32.693,33.347,26.933,37.775,24.977,22.473,36.346,40.182,29.744,27.399,5.532,21.653,32.51,28.552,31.347,28.704,30.173,35.03,25.311,17.58,34.275,42.913,19.388,5.289,24.878,28.076,31.427,23.423,41.954,27.659,23.075,22.676,25.498,29.369,46.849,33.651,44.904,32.576,19.751,26.031,34.702,52.373,27.747,33.708,24.262,19.689,18.56,28.882,20.153,28.018,27.343,21.659,23.241,14.923,20.494,34.452,34.56,22.32,40.773,30.218,17.438,24.517,28.943,29.86,26.358,34.195,20.214,25.555,25.021,21.136,23.236,46.671,17.949,29.478,20.8,28.684,22.538,20.071,19.635,16.421,27.531,15.833,28.149,27.464,35.361,15.401,19.26,23.811,27.124,23.891,33.33,22.167,25.373,14.302,25.426,18.494,24.21,18.754,25.506,26.452,23.837,19.038,21.927,21.717,17.6,20.617,22.21,27.879,12.669,25.896,12.429,30.749,15.7,18.283,27.294,22.108,27.325,22.154,21.869,35.343,30.244,20.492,33.045,24.943,23.453,19.719,18.514,25.037,25.922,30.703,22.902,13.527,26.572,28.088,24.274,14.322,24.336,25.575,20.454,31.674,18.051,22.017,22.65,24.27,22.743,18.698,20.719,28.294,22.448,26.928,16.731,23.286,14.81,29.641,48.44,23.775,15.337,31.475,15.915,22.296,19.188,19.469,28.145,22.121,19.85,26.003,20.272,19.547,19.267,22.265,19.474,19.957,13.506,23.113,25.884,18.446,18.489,29.783,16.206,15.026,18.348,20.597,26.538,21.172,22.607,26.342,18.834,19.557,23.354,24.574,17.782,17.476,21.079,15.388,25.512,13.303,121.658,28.572,19.519,27.497,18.464,24.929,15.841,18.126,0.781,18.997,14.331,5.786,26.602,17.688,20.004,16.752,15.685,23.486,19.243,15.247,27.466,14.245,15.653,26.602,25.114,17.341,12.759,25.169,15.842,20.937,12.852,14.797,19.043,21.233,17.625,14.529,21.406,13.143,16.556,23.221,19.644,27.583,20.039,17.36,19.34,23.601,15.84,13.857,17.736,13.542,16.319,15.455,23.061,14.182,13.911,24.22,16.295,11.883,16.62,13.393,18.953,22.279,12.3,23.406,17.737,19.284,17.065,20.241,13.497,20.367,13.673,17.397,15.147,14.153,17.167,12.988,15.299,16.344,18.256,19.487,16.495,12.411,12.229,25.107,12.835,23.588,16.298,21.668,14.741,22.546,20.578,24.55,13.416,28.027,11.329,33.784,24.001,11.491,20.075,26.468,13.699,23.036,14.964,28.956,12.679,14.042,15.047,22.696,14.557,14.761,13.484,21.499,16.367,18.563,15.685,19.573,13.425,14.578,15.117,22.518,29.093,20.508,12.935,16.662,17.603,17.285,29.943,18.411,17.928,12.571,15.883,13.326,16.16,15.747,22.689,13.71,10.06,15.903,12.865,19.5,12.044,13.231,13.498,19.729,14.784,12.812,13.653,14.787,16.01,18.266,14.769,16.362,18.928,18.14,13.287,18.841,23.009,17.75,12.592,23.58,15.488,16.603,13.791,12.37,12.793,12.525,17.23,14.88,12.065,14.425,20.925,10.822,17.76,22.837,14.589,15.716,14.354,14.389,7.305,17.002,11.681,19.447,10.677,17.891,13.359,14.356,19.885,18.99,13.365,15.104,14.649,14.129,17.173,14.439,17.804,11.618,15.108,12.579,16.014,19.579,12.739,12.012,14.059,11.841,11.995,11.324,14.714,18.839,13.461,11.252,16.416,20.328,11.029,15.058,10.747,18.37,20.793,12.434,15.079,16.156,14.668,17.706,12.754,11.897,13.148,11.058,8.311,15.756,8.357,12.078,13.408,18.144,8.979,11.964,14.327,13.067,10.743,11.278,8.527,15.823,19.25,10.241,9.39,13.879,17.538,11.022,12.153,13.049,11.707,12.9,10.836,16.863,13.792,12.508,8.433,13.376,8.871,16.526,11.413,10.724,29.032,12.567,23.666,11.362,8.853,9.703,13.866,13.783,8.441,12.189,11.206,11.945,9.849,17.378,13.077,10.878,6.643,14.393,10.558,9.192,17.814,9.762,5.941,9.144,8.831,11.997,9.026,13.313,11.048,14.76,12.83,10.898,15.38,12.335,8.974,10.927,9.567,11.984,13.234,9.408,10.844,10.332,8.475,11.522,8.726,9.157,10.466,16.066,7.708,13.888,12.453,13.971,8.311,11.998,8.966,14.503,11.734,19.902,8.147,8.17,10.735,9.24,10.584,10.486,9.014,10.222,12.072,6.49,7.867,9.333,5.71,7.328,7.816,11.262,10.107,9.846,9.901,7.47,10.748,5.156,5.583,5.275,6.476,5.118,7.413,5.694,11.068,3.474,7.589,5.837,7.587,8.845,5.306,5.887,4.992,4.609,9.039,3.27,5.545,4.511,11.51,6.624,4.251,6.401,3.28,3.766,3.964,4.944,3.808,3.204,2.263,5.475,3.594,2.693,2.146,2.292,2.075,2.954,1.384],\"y0\":\" \",\"yaxis\":\"y\",\"type\":\"box\"},{\"line\":{\"color\":\"red\",\"width\":2},\"mode\":\"lines+markers\",\"name\":\"Median Trend\",\"x\":[1914,1923,1926,1929,1932,1935,1938,1941,1944,1947,1950,1953,1956,1959,1962,1965,1968,1971,1974,1977,1980,1983,1986,1989,1992,1995,1998,2001,2004,2007,2010,2013],\"y\":[8.6325,10.927,2.146,8.966,3.808,4.992,16.312,13.484,14.818000000000001,12.153,14.76,13.968,17.4115,14.77,20.793,16.343,15.838999999999999,16.416,19.3735,17.706,16.3795,16.6125,18.0785,14.649000000000001,18.0375,17.524,18.464,19.386,18.657,24.262,23.4595,29.863],\"type\":\"scatter\"},{\"line\":{\"color\":\"blue\",\"dash\":\"dash\",\"width\":2},\"mode\":\"lines+markers\",\"name\":\"Mean Trend\",\"x\":[1914,1923,1926,1929,1932,1935,1938,1941,1944,1947,1950,1953,1956,1959,1962,1965,1968,1971,1974,1977,1980,1983,1986,1989,1992,1995,1998,2001,2004,2007,2010,2013],\"y\":[8.6325,10.927,2.074333333333333,12.6832,3.808,4.8886666666666665,23.414125,13.1564,13.375900000000001,11.5004,14.413599999999999,16.769399999999997,16.155583333333333,20.4735,19.989588235294118,18.0335,17.870625,27.22856,20.3206875,17.565080000000002,20.237272727272728,19.74934375,18.884433333333334,16.477184210526318,22.661846153846152,19.873391304347827,22.37677358490566,26.3094375,29.01695,30.1342,32.5325,29.863],\"type\":\"scatter\"}],                        {\"template\":{\"data\":{\"histogram2dcontour\":[{\"type\":\"histogram2dcontour\",\"colorbar\":{\"outlinewidth\":0,\"ticks\":\"\"},\"colorscale\":[[0.0,\"#0d0887\"],[0.1111111111111111,\"#46039f\"],[0.2222222222222222,\"#7201a8\"],[0.3333333333333333,\"#9c179e\"],[0.4444444444444444,\"#bd3786\"],[0.5555555555555556,\"#d8576b\"],[0.6666666666666666,\"#ed7953\"],[0.7777777777777778,\"#fb9f3a\"],[0.8888888888888888,\"#fdca26\"],[1.0,\"#f0f921\"]]}],\"choropleth\":[{\"type\":\"choropleth\",\"colorbar\":{\"outlinewidth\":0,\"ticks\":\"\"}}],\"histogram2d\":[{\"type\":\"histogram2d\",\"colorbar\":{\"outlinewidth\":0,\"ticks\":\"\"},\"colorscale\":[[0.0,\"#0d0887\"],[0.1111111111111111,\"#46039f\"],[0.2222222222222222,\"#7201a8\"],[0.3333333333333333,\"#9c179e\"],[0.4444444444444444,\"#bd3786\"],[0.5555555555555556,\"#d8576b\"],[0.6666666666666666,\"#ed7953\"],[0.7777777777777778,\"#fb9f3a\"],[0.8888888888888888,\"#fdca26\"],[1.0,\"#f0f921\"]]}],\"heatmap\":[{\"type\":\"heatmap\",\"colorbar\":{\"outlinewidth\":0,\"ticks\":\"\"},\"colorscale\":[[0.0,\"#0d0887\"],[0.1111111111111111,\"#46039f\"],[0.2222222222222222,\"#7201a8\"],[0.3333333333333333,\"#9c179e\"],[0.4444444444444444,\"#bd3786\"],[0.5555555555555556,\"#d8576b\"],[0.6666666666666666,\"#ed7953\"],[0.7777777777777778,\"#fb9f3a\"],[0.8888888888888888,\"#fdca26\"],[1.0,\"#f0f921\"]]}],\"heatmapgl\":[{\"type\":\"heatmapgl\",\"colorbar\":{\"outlinewidth\":0,\"ticks\":\"\"},\"colorscale\":[[0.0,\"#0d0887\"],[0.1111111111111111,\"#46039f\"],[0.2222222222222222,\"#7201a8\"],[0.3333333333333333,\"#9c179e\"],[0.4444444444444444,\"#bd3786\"],[0.5555555555555556,\"#d8576b\"],[0.6666666666666666,\"#ed7953\"],[0.7777777777777778,\"#fb9f3a\"],[0.8888888888888888,\"#fdca26\"],[1.0,\"#f0f921\"]]}],\"contourcarpet\":[{\"type\":\"contourcarpet\",\"colorbar\":{\"outlinewidth\":0,\"ticks\":\"\"}}],\"contour\":[{\"type\":\"contour\",\"colorbar\":{\"outlinewidth\":0,\"ticks\":\"\"},\"colorscale\":[[0.0,\"#0d0887\"],[0.1111111111111111,\"#46039f\"],[0.2222222222222222,\"#7201a8\"],[0.3333333333333333,\"#9c179e\"],[0.4444444444444444,\"#bd3786\"],[0.5555555555555556,\"#d8576b\"],[0.6666666666666666,\"#ed7953\"],[0.7777777777777778,\"#fb9f3a\"],[0.8888888888888888,\"#fdca26\"],[1.0,\"#f0f921\"]]}],\"surface\":[{\"type\":\"surface\",\"colorbar\":{\"outlinewidth\":0,\"ticks\":\"\"},\"colorscale\":[[0.0,\"#0d0887\"],[0.1111111111111111,\"#46039f\"],[0.2222222222222222,\"#7201a8\"],[0.3333333333333333,\"#9c179e\"],[0.4444444444444444,\"#bd3786\"],[0.5555555555555556,\"#d8576b\"],[0.6666666666666666,\"#ed7953\"],[0.7777777777777778,\"#fb9f3a\"],[0.8888888888888888,\"#fdca26\"],[1.0,\"#f0f921\"]]}],\"mesh3d\":[{\"type\":\"mesh3d\",\"colorbar\":{\"outlinewidth\":0,\"ticks\":\"\"}}],\"scatter\":[{\"fillpattern\":{\"fillmode\":\"overlay\",\"size\":10,\"solidity\":0.2},\"type\":\"scatter\"}],\"parcoords\":[{\"type\":\"parcoords\",\"line\":{\"colorbar\":{\"outlinewidth\":0,\"ticks\":\"\"}}}],\"scatterpolargl\":[{\"type\":\"scatterpolargl\",\"marker\":{\"colorbar\":{\"outlinewidth\":0,\"ticks\":\"\"}}}],\"bar\":[{\"error_x\":{\"color\":\"#2a3f5f\"},\"error_y\":{\"color\":\"#2a3f5f\"},\"marker\":{\"line\":{\"color\":\"#E5ECF6\",\"width\":0.5},\"pattern\":{\"fillmode\":\"overlay\",\"size\":10,\"solidity\":0.2}},\"type\":\"bar\"}],\"scattergeo\":[{\"type\":\"scattergeo\",\"marker\":{\"colorbar\":{\"outlinewidth\":0,\"ticks\":\"\"}}}],\"scatterpolar\":[{\"type\":\"scatterpolar\",\"marker\":{\"colorbar\":{\"outlinewidth\":0,\"ticks\":\"\"}}}],\"histogram\":[{\"marker\":{\"pattern\":{\"fillmode\":\"overlay\",\"size\":10,\"solidity\":0.2}},\"type\":\"histogram\"}],\"scattergl\":[{\"type\":\"scattergl\",\"marker\":{\"colorbar\":{\"outlinewidth\":0,\"ticks\":\"\"}}}],\"scatter3d\":[{\"type\":\"scatter3d\",\"line\":{\"colorbar\":{\"outlinewidth\":0,\"ticks\":\"\"}},\"marker\":{\"colorbar\":{\"outlinewidth\":0,\"ticks\":\"\"}}}],\"scattermapbox\":[{\"type\":\"scattermapbox\",\"marker\":{\"colorbar\":{\"outlinewidth\":0,\"ticks\":\"\"}}}],\"scatterternary\":[{\"type\":\"scatterternary\",\"marker\":{\"colorbar\":{\"outlinewidth\":0,\"ticks\":\"\"}}}],\"scattercarpet\":[{\"type\":\"scattercarpet\",\"marker\":{\"colorbar\":{\"outlinewidth\":0,\"ticks\":\"\"}}}],\"carpet\":[{\"aaxis\":{\"endlinecolor\":\"#2a3f5f\",\"gridcolor\":\"white\",\"linecolor\":\"white\",\"minorgridcolor\":\"white\",\"startlinecolor\":\"#2a3f5f\"},\"baxis\":{\"endlinecolor\":\"#2a3f5f\",\"gridcolor\":\"white\",\"linecolor\":\"white\",\"minorgridcolor\":\"white\",\"startlinecolor\":\"#2a3f5f\"},\"type\":\"carpet\"}],\"table\":[{\"cells\":{\"fill\":{\"color\":\"#EBF0F8\"},\"line\":{\"color\":\"white\"}},\"header\":{\"fill\":{\"color\":\"#C8D4E3\"},\"line\":{\"color\":\"white\"}},\"type\":\"table\"}],\"barpolar\":[{\"marker\":{\"line\":{\"color\":\"#E5ECF6\",\"width\":0.5},\"pattern\":{\"fillmode\":\"overlay\",\"size\":10,\"solidity\":0.2}},\"type\":\"barpolar\"}],\"pie\":[{\"automargin\":true,\"type\":\"pie\"}]},\"layout\":{\"autotypenumbers\":\"strict\",\"colorway\":[\"#636efa\",\"#EF553B\",\"#00cc96\",\"#ab63fa\",\"#FFA15A\",\"#19d3f3\",\"#FF6692\",\"#B6E880\",\"#FF97FF\",\"#FECB52\"],\"font\":{\"color\":\"#2a3f5f\"},\"hovermode\":\"closest\",\"hoverlabel\":{\"align\":\"left\"},\"paper_bgcolor\":\"white\",\"plot_bgcolor\":\"#E5ECF6\",\"polar\":{\"bgcolor\":\"#E5ECF6\",\"angularaxis\":{\"gridcolor\":\"white\",\"linecolor\":\"white\",\"ticks\":\"\"},\"radialaxis\":{\"gridcolor\":\"white\",\"linecolor\":\"white\",\"ticks\":\"\"}},\"ternary\":{\"bgcolor\":\"#E5ECF6\",\"aaxis\":{\"gridcolor\":\"white\",\"linecolor\":\"white\",\"ticks\":\"\"},\"baxis\":{\"gridcolor\":\"white\",\"linecolor\":\"white\",\"ticks\":\"\"},\"caxis\":{\"gridcolor\":\"white\",\"linecolor\":\"white\",\"ticks\":\"\"}},\"coloraxis\":{\"colorbar\":{\"outlinewidth\":0,\"ticks\":\"\"}},\"colorscale\":{\"sequential\":[[0.0,\"#0d0887\"],[0.1111111111111111,\"#46039f\"],[0.2222222222222222,\"#7201a8\"],[0.3333333333333333,\"#9c179e\"],[0.4444444444444444,\"#bd3786\"],[0.5555555555555556,\"#d8576b\"],[0.6666666666666666,\"#ed7953\"],[0.7777777777777778,\"#fb9f3a\"],[0.8888888888888888,\"#fdca26\"],[1.0,\"#f0f921\"]],\"sequentialminus\":[[0.0,\"#0d0887\"],[0.1111111111111111,\"#46039f\"],[0.2222222222222222,\"#7201a8\"],[0.3333333333333333,\"#9c179e\"],[0.4444444444444444,\"#bd3786\"],[0.5555555555555556,\"#d8576b\"],[0.6666666666666666,\"#ed7953\"],[0.7777777777777778,\"#fb9f3a\"],[0.8888888888888888,\"#fdca26\"],[1.0,\"#f0f921\"]],\"diverging\":[[0,\"#8e0152\"],[0.1,\"#c51b7d\"],[0.2,\"#de77ae\"],[0.3,\"#f1b6da\"],[0.4,\"#fde0ef\"],[0.5,\"#f7f7f7\"],[0.6,\"#e6f5d0\"],[0.7,\"#b8e186\"],[0.8,\"#7fbc41\"],[0.9,\"#4d9221\"],[1,\"#276419\"]]},\"xaxis\":{\"gridcolor\":\"white\",\"linecolor\":\"white\",\"ticks\":\"\",\"title\":{\"standoff\":15},\"zerolinecolor\":\"white\",\"automargin\":true,\"zerolinewidth\":2},\"yaxis\":{\"gridcolor\":\"white\",\"linecolor\":\"white\",\"ticks\":\"\",\"title\":{\"standoff\":15},\"zerolinecolor\":\"white\",\"automargin\":true,\"zerolinewidth\":2},\"scene\":{\"xaxis\":{\"backgroundcolor\":\"#E5ECF6\",\"gridcolor\":\"white\",\"linecolor\":\"white\",\"showbackground\":true,\"ticks\":\"\",\"zerolinecolor\":\"white\",\"gridwidth\":2},\"yaxis\":{\"backgroundcolor\":\"#E5ECF6\",\"gridcolor\":\"white\",\"linecolor\":\"white\",\"showbackground\":true,\"ticks\":\"\",\"zerolinecolor\":\"white\",\"gridwidth\":2},\"zaxis\":{\"backgroundcolor\":\"#E5ECF6\",\"gridcolor\":\"white\",\"linecolor\":\"white\",\"showbackground\":true,\"ticks\":\"\",\"zerolinecolor\":\"white\",\"gridwidth\":2}},\"shapedefaults\":{\"line\":{\"color\":\"#2a3f5f\"}},\"annotationdefaults\":{\"arrowcolor\":\"#2a3f5f\",\"arrowhead\":0,\"arrowwidth\":1},\"geo\":{\"bgcolor\":\"white\",\"landcolor\":\"#E5ECF6\",\"subunitcolor\":\"white\",\"showland\":true,\"showlakes\":true,\"lakecolor\":\"white\"},\"title\":{\"x\":0.05},\"mapbox\":{\"style\":\"light\"}}},\"xaxis\":{\"anchor\":\"y\",\"domain\":[0.0,1.0],\"title\":{\"text\":\"Year Group\"}},\"yaxis\":{\"anchor\":\"x\",\"domain\":[0.0,1.0],\"title\":{\"text\":\"Popularity\"}},\"legend\":{\"tracegroupgap\":0},\"title\":{\"text\":\"Box Plot of Popularity per 3-Year Interval\"},\"boxmode\":\"group\",\"width\":1000,\"height\":600},                        {\"responsive\": true}                    ).then(function(){\n",
       "                            \n",
       "var gd = document.getElementById('e12e314d-d15d-499d-b8ad-4e18f37d98c6');\n",
       "var x = new MutationObserver(function (mutations, observer) {{\n",
       "        var display = window.getComputedStyle(gd).display;\n",
       "        if (!display || display === 'none') {{\n",
       "            console.log([gd, 'removed!']);\n",
       "            Plotly.purge(gd);\n",
       "            observer.disconnect();\n",
       "        }}\n",
       "}});\n",
       "\n",
       "// Listen for the removal of the full notebook cells\n",
       "var notebookContainer = gd.closest('#notebook-container');\n",
       "if (notebookContainer) {{\n",
       "    x.observe(notebookContainer, {childList: true});\n",
       "}}\n",
       "\n",
       "// Listen for the clearing of the current output cell\n",
       "var outputEl = gd.closest('.output');\n",
       "if (outputEl) {{\n",
       "    x.observe(outputEl, {childList: true});\n",
       "}}\n",
       "\n",
       "                        })                };                });            </script>        </div>"
      ]
     },
     "metadata": {},
     "output_type": "display_data"
    }
   ],
   "execution_count": 28
  },
  {
   "metadata": {},
   "cell_type": "markdown",
   "source": "## Number of movies based on books over time",
   "id": "c846a2475493b92a"
  },
  {
   "metadata": {
    "ExecuteTime": {
     "end_time": "2024-12-11T17:14:13.257199Z",
     "start_time": "2024-12-11T17:14:13.094996Z"
    }
   },
   "cell_type": "code",
   "source": [
    "import plotly.express as px\n",
    "\n",
    "based_on_books_df.loc[:, 'year'] = pd.to_datetime(based_on_books_df['release_date'], errors='coerce').dt.year\n",
    "based_on_books_df = based_on_books_df.dropna(subset=['year'])\n",
    "\n",
    "based_on_books_df['year_group'] = (based_on_books_df['year'] // 3) * 3\n",
    "\n",
    "trend = based_on_books_df.groupby('year_group').size().reset_index()\n",
    "\n",
    "fig = px.bar(trend, x='year_group', y=0,\n",
    "                title='Number of Movies Based on Books per 3-Year Interval',\n",
    "                labels={'year_group': 'Year Group', '0': 'Number of Movies'},\n",
    "                text=0)\n",
    "\n",
    "fig.update_layout(\n",
    "    xaxis_title='Year Group',\n",
    "    yaxis_title='Number of Movies',\n",
    "    width=1000,\n",
    "    height=600\n",
    ")\n",
    "\n",
    "fig.show()"
   ],
   "id": "ad7bd10b918fcc04",
   "outputs": [
    {
     "data": {
      "application/vnd.plotly.v1+json": {
       "data": [
        {
         "alignmentgroup": "True",
         "hovertemplate": "Year Group=%{x}<br>Number of Movies=%{text}<extra></extra>",
         "legendgroup": "",
         "marker": {
          "color": "#636efa",
          "pattern": {
           "shape": ""
          }
         },
         "name": "",
         "offsetgroup": "",
         "orientation": "v",
         "showlegend": false,
         "text": [
          2.0,
          1.0,
          3.0,
          5.0,
          1.0,
          3.0,
          8.0,
          5.0,
          10.0,
          5.0,
          5.0,
          10.0,
          12.0,
          16.0,
          17.0,
          20.0,
          16.0,
          25.0,
          16.0,
          25.0,
          22.0,
          32.0,
          30.0,
          38.0,
          26.0,
          46.0,
          53.0,
          64.0,
          60.0,
          45.0,
          36.0,
          2.0
         ],
         "textposition": "auto",
         "x": [
          1914,
          1923,
          1926,
          1929,
          1932,
          1935,
          1938,
          1941,
          1944,
          1947,
          1950,
          1953,
          1956,
          1959,
          1962,
          1965,
          1968,
          1971,
          1974,
          1977,
          1980,
          1983,
          1986,
          1989,
          1992,
          1995,
          1998,
          2001,
          2004,
          2007,
          2010,
          2013
         ],
         "xaxis": "x",
         "y": [
          2,
          1,
          3,
          5,
          1,
          3,
          8,
          5,
          10,
          5,
          5,
          10,
          12,
          16,
          17,
          20,
          16,
          25,
          16,
          25,
          22,
          32,
          30,
          38,
          26,
          46,
          53,
          64,
          60,
          45,
          36,
          2
         ],
         "yaxis": "y",
         "type": "bar"
        }
       ],
       "layout": {
        "template": {
         "data": {
          "histogram2dcontour": [
           {
            "type": "histogram2dcontour",
            "colorbar": {
             "outlinewidth": 0,
             "ticks": ""
            },
            "colorscale": [
             [
              0.0,
              "#0d0887"
             ],
             [
              0.1111111111111111,
              "#46039f"
             ],
             [
              0.2222222222222222,
              "#7201a8"
             ],
             [
              0.3333333333333333,
              "#9c179e"
             ],
             [
              0.4444444444444444,
              "#bd3786"
             ],
             [
              0.5555555555555556,
              "#d8576b"
             ],
             [
              0.6666666666666666,
              "#ed7953"
             ],
             [
              0.7777777777777778,
              "#fb9f3a"
             ],
             [
              0.8888888888888888,
              "#fdca26"
             ],
             [
              1.0,
              "#f0f921"
             ]
            ]
           }
          ],
          "choropleth": [
           {
            "type": "choropleth",
            "colorbar": {
             "outlinewidth": 0,
             "ticks": ""
            }
           }
          ],
          "histogram2d": [
           {
            "type": "histogram2d",
            "colorbar": {
             "outlinewidth": 0,
             "ticks": ""
            },
            "colorscale": [
             [
              0.0,
              "#0d0887"
             ],
             [
              0.1111111111111111,
              "#46039f"
             ],
             [
              0.2222222222222222,
              "#7201a8"
             ],
             [
              0.3333333333333333,
              "#9c179e"
             ],
             [
              0.4444444444444444,
              "#bd3786"
             ],
             [
              0.5555555555555556,
              "#d8576b"
             ],
             [
              0.6666666666666666,
              "#ed7953"
             ],
             [
              0.7777777777777778,
              "#fb9f3a"
             ],
             [
              0.8888888888888888,
              "#fdca26"
             ],
             [
              1.0,
              "#f0f921"
             ]
            ]
           }
          ],
          "heatmap": [
           {
            "type": "heatmap",
            "colorbar": {
             "outlinewidth": 0,
             "ticks": ""
            },
            "colorscale": [
             [
              0.0,
              "#0d0887"
             ],
             [
              0.1111111111111111,
              "#46039f"
             ],
             [
              0.2222222222222222,
              "#7201a8"
             ],
             [
              0.3333333333333333,
              "#9c179e"
             ],
             [
              0.4444444444444444,
              "#bd3786"
             ],
             [
              0.5555555555555556,
              "#d8576b"
             ],
             [
              0.6666666666666666,
              "#ed7953"
             ],
             [
              0.7777777777777778,
              "#fb9f3a"
             ],
             [
              0.8888888888888888,
              "#fdca26"
             ],
             [
              1.0,
              "#f0f921"
             ]
            ]
           }
          ],
          "heatmapgl": [
           {
            "type": "heatmapgl",
            "colorbar": {
             "outlinewidth": 0,
             "ticks": ""
            },
            "colorscale": [
             [
              0.0,
              "#0d0887"
             ],
             [
              0.1111111111111111,
              "#46039f"
             ],
             [
              0.2222222222222222,
              "#7201a8"
             ],
             [
              0.3333333333333333,
              "#9c179e"
             ],
             [
              0.4444444444444444,
              "#bd3786"
             ],
             [
              0.5555555555555556,
              "#d8576b"
             ],
             [
              0.6666666666666666,
              "#ed7953"
             ],
             [
              0.7777777777777778,
              "#fb9f3a"
             ],
             [
              0.8888888888888888,
              "#fdca26"
             ],
             [
              1.0,
              "#f0f921"
             ]
            ]
           }
          ],
          "contourcarpet": [
           {
            "type": "contourcarpet",
            "colorbar": {
             "outlinewidth": 0,
             "ticks": ""
            }
           }
          ],
          "contour": [
           {
            "type": "contour",
            "colorbar": {
             "outlinewidth": 0,
             "ticks": ""
            },
            "colorscale": [
             [
              0.0,
              "#0d0887"
             ],
             [
              0.1111111111111111,
              "#46039f"
             ],
             [
              0.2222222222222222,
              "#7201a8"
             ],
             [
              0.3333333333333333,
              "#9c179e"
             ],
             [
              0.4444444444444444,
              "#bd3786"
             ],
             [
              0.5555555555555556,
              "#d8576b"
             ],
             [
              0.6666666666666666,
              "#ed7953"
             ],
             [
              0.7777777777777778,
              "#fb9f3a"
             ],
             [
              0.8888888888888888,
              "#fdca26"
             ],
             [
              1.0,
              "#f0f921"
             ]
            ]
           }
          ],
          "surface": [
           {
            "type": "surface",
            "colorbar": {
             "outlinewidth": 0,
             "ticks": ""
            },
            "colorscale": [
             [
              0.0,
              "#0d0887"
             ],
             [
              0.1111111111111111,
              "#46039f"
             ],
             [
              0.2222222222222222,
              "#7201a8"
             ],
             [
              0.3333333333333333,
              "#9c179e"
             ],
             [
              0.4444444444444444,
              "#bd3786"
             ],
             [
              0.5555555555555556,
              "#d8576b"
             ],
             [
              0.6666666666666666,
              "#ed7953"
             ],
             [
              0.7777777777777778,
              "#fb9f3a"
             ],
             [
              0.8888888888888888,
              "#fdca26"
             ],
             [
              1.0,
              "#f0f921"
             ]
            ]
           }
          ],
          "mesh3d": [
           {
            "type": "mesh3d",
            "colorbar": {
             "outlinewidth": 0,
             "ticks": ""
            }
           }
          ],
          "scatter": [
           {
            "fillpattern": {
             "fillmode": "overlay",
             "size": 10,
             "solidity": 0.2
            },
            "type": "scatter"
           }
          ],
          "parcoords": [
           {
            "type": "parcoords",
            "line": {
             "colorbar": {
              "outlinewidth": 0,
              "ticks": ""
             }
            }
           }
          ],
          "scatterpolargl": [
           {
            "type": "scatterpolargl",
            "marker": {
             "colorbar": {
              "outlinewidth": 0,
              "ticks": ""
             }
            }
           }
          ],
          "bar": [
           {
            "error_x": {
             "color": "#2a3f5f"
            },
            "error_y": {
             "color": "#2a3f5f"
            },
            "marker": {
             "line": {
              "color": "#E5ECF6",
              "width": 0.5
             },
             "pattern": {
              "fillmode": "overlay",
              "size": 10,
              "solidity": 0.2
             }
            },
            "type": "bar"
           }
          ],
          "scattergeo": [
           {
            "type": "scattergeo",
            "marker": {
             "colorbar": {
              "outlinewidth": 0,
              "ticks": ""
             }
            }
           }
          ],
          "scatterpolar": [
           {
            "type": "scatterpolar",
            "marker": {
             "colorbar": {
              "outlinewidth": 0,
              "ticks": ""
             }
            }
           }
          ],
          "histogram": [
           {
            "marker": {
             "pattern": {
              "fillmode": "overlay",
              "size": 10,
              "solidity": 0.2
             }
            },
            "type": "histogram"
           }
          ],
          "scattergl": [
           {
            "type": "scattergl",
            "marker": {
             "colorbar": {
              "outlinewidth": 0,
              "ticks": ""
             }
            }
           }
          ],
          "scatter3d": [
           {
            "type": "scatter3d",
            "line": {
             "colorbar": {
              "outlinewidth": 0,
              "ticks": ""
             }
            },
            "marker": {
             "colorbar": {
              "outlinewidth": 0,
              "ticks": ""
             }
            }
           }
          ],
          "scattermapbox": [
           {
            "type": "scattermapbox",
            "marker": {
             "colorbar": {
              "outlinewidth": 0,
              "ticks": ""
             }
            }
           }
          ],
          "scatterternary": [
           {
            "type": "scatterternary",
            "marker": {
             "colorbar": {
              "outlinewidth": 0,
              "ticks": ""
             }
            }
           }
          ],
          "scattercarpet": [
           {
            "type": "scattercarpet",
            "marker": {
             "colorbar": {
              "outlinewidth": 0,
              "ticks": ""
             }
            }
           }
          ],
          "carpet": [
           {
            "aaxis": {
             "endlinecolor": "#2a3f5f",
             "gridcolor": "white",
             "linecolor": "white",
             "minorgridcolor": "white",
             "startlinecolor": "#2a3f5f"
            },
            "baxis": {
             "endlinecolor": "#2a3f5f",
             "gridcolor": "white",
             "linecolor": "white",
             "minorgridcolor": "white",
             "startlinecolor": "#2a3f5f"
            },
            "type": "carpet"
           }
          ],
          "table": [
           {
            "cells": {
             "fill": {
              "color": "#EBF0F8"
             },
             "line": {
              "color": "white"
             }
            },
            "header": {
             "fill": {
              "color": "#C8D4E3"
             },
             "line": {
              "color": "white"
             }
            },
            "type": "table"
           }
          ],
          "barpolar": [
           {
            "marker": {
             "line": {
              "color": "#E5ECF6",
              "width": 0.5
             },
             "pattern": {
              "fillmode": "overlay",
              "size": 10,
              "solidity": 0.2
             }
            },
            "type": "barpolar"
           }
          ],
          "pie": [
           {
            "automargin": true,
            "type": "pie"
           }
          ]
         },
         "layout": {
          "autotypenumbers": "strict",
          "colorway": [
           "#636efa",
           "#EF553B",
           "#00cc96",
           "#ab63fa",
           "#FFA15A",
           "#19d3f3",
           "#FF6692",
           "#B6E880",
           "#FF97FF",
           "#FECB52"
          ],
          "font": {
           "color": "#2a3f5f"
          },
          "hovermode": "closest",
          "hoverlabel": {
           "align": "left"
          },
          "paper_bgcolor": "white",
          "plot_bgcolor": "#E5ECF6",
          "polar": {
           "bgcolor": "#E5ECF6",
           "angularaxis": {
            "gridcolor": "white",
            "linecolor": "white",
            "ticks": ""
           },
           "radialaxis": {
            "gridcolor": "white",
            "linecolor": "white",
            "ticks": ""
           }
          },
          "ternary": {
           "bgcolor": "#E5ECF6",
           "aaxis": {
            "gridcolor": "white",
            "linecolor": "white",
            "ticks": ""
           },
           "baxis": {
            "gridcolor": "white",
            "linecolor": "white",
            "ticks": ""
           },
           "caxis": {
            "gridcolor": "white",
            "linecolor": "white",
            "ticks": ""
           }
          },
          "coloraxis": {
           "colorbar": {
            "outlinewidth": 0,
            "ticks": ""
           }
          },
          "colorscale": {
           "sequential": [
            [
             0.0,
             "#0d0887"
            ],
            [
             0.1111111111111111,
             "#46039f"
            ],
            [
             0.2222222222222222,
             "#7201a8"
            ],
            [
             0.3333333333333333,
             "#9c179e"
            ],
            [
             0.4444444444444444,
             "#bd3786"
            ],
            [
             0.5555555555555556,
             "#d8576b"
            ],
            [
             0.6666666666666666,
             "#ed7953"
            ],
            [
             0.7777777777777778,
             "#fb9f3a"
            ],
            [
             0.8888888888888888,
             "#fdca26"
            ],
            [
             1.0,
             "#f0f921"
            ]
           ],
           "sequentialminus": [
            [
             0.0,
             "#0d0887"
            ],
            [
             0.1111111111111111,
             "#46039f"
            ],
            [
             0.2222222222222222,
             "#7201a8"
            ],
            [
             0.3333333333333333,
             "#9c179e"
            ],
            [
             0.4444444444444444,
             "#bd3786"
            ],
            [
             0.5555555555555556,
             "#d8576b"
            ],
            [
             0.6666666666666666,
             "#ed7953"
            ],
            [
             0.7777777777777778,
             "#fb9f3a"
            ],
            [
             0.8888888888888888,
             "#fdca26"
            ],
            [
             1.0,
             "#f0f921"
            ]
           ],
           "diverging": [
            [
             0,
             "#8e0152"
            ],
            [
             0.1,
             "#c51b7d"
            ],
            [
             0.2,
             "#de77ae"
            ],
            [
             0.3,
             "#f1b6da"
            ],
            [
             0.4,
             "#fde0ef"
            ],
            [
             0.5,
             "#f7f7f7"
            ],
            [
             0.6,
             "#e6f5d0"
            ],
            [
             0.7,
             "#b8e186"
            ],
            [
             0.8,
             "#7fbc41"
            ],
            [
             0.9,
             "#4d9221"
            ],
            [
             1,
             "#276419"
            ]
           ]
          },
          "xaxis": {
           "gridcolor": "white",
           "linecolor": "white",
           "ticks": "",
           "title": {
            "standoff": 15
           },
           "zerolinecolor": "white",
           "automargin": true,
           "zerolinewidth": 2
          },
          "yaxis": {
           "gridcolor": "white",
           "linecolor": "white",
           "ticks": "",
           "title": {
            "standoff": 15
           },
           "zerolinecolor": "white",
           "automargin": true,
           "zerolinewidth": 2
          },
          "scene": {
           "xaxis": {
            "backgroundcolor": "#E5ECF6",
            "gridcolor": "white",
            "linecolor": "white",
            "showbackground": true,
            "ticks": "",
            "zerolinecolor": "white",
            "gridwidth": 2
           },
           "yaxis": {
            "backgroundcolor": "#E5ECF6",
            "gridcolor": "white",
            "linecolor": "white",
            "showbackground": true,
            "ticks": "",
            "zerolinecolor": "white",
            "gridwidth": 2
           },
           "zaxis": {
            "backgroundcolor": "#E5ECF6",
            "gridcolor": "white",
            "linecolor": "white",
            "showbackground": true,
            "ticks": "",
            "zerolinecolor": "white",
            "gridwidth": 2
           }
          },
          "shapedefaults": {
           "line": {
            "color": "#2a3f5f"
           }
          },
          "annotationdefaults": {
           "arrowcolor": "#2a3f5f",
           "arrowhead": 0,
           "arrowwidth": 1
          },
          "geo": {
           "bgcolor": "white",
           "landcolor": "#E5ECF6",
           "subunitcolor": "white",
           "showland": true,
           "showlakes": true,
           "lakecolor": "white"
          },
          "title": {
           "x": 0.05
          },
          "mapbox": {
           "style": "light"
          }
         }
        },
        "xaxis": {
         "anchor": "y",
         "domain": [
          0.0,
          1.0
         ],
         "title": {
          "text": "Year Group"
         }
        },
        "yaxis": {
         "anchor": "x",
         "domain": [
          0.0,
          1.0
         ],
         "title": {
          "text": "Number of Movies"
         }
        },
        "legend": {
         "tracegroupgap": 0
        },
        "title": {
         "text": "Number of Movies Based on Books per 3-Year Interval"
        },
        "barmode": "relative",
        "width": 1000,
        "height": 600
       },
       "config": {
        "plotlyServerURL": "https://plot.ly"
       }
      },
      "text/html": [
       "<div>                            <div id=\"3dd886d4-0d57-4498-a84d-b5779c970d4c\" class=\"plotly-graph-div\" style=\"height:600px; width:1000px;\"></div>            <script type=\"text/javascript\">                require([\"plotly\"], function(Plotly) {                    window.PLOTLYENV=window.PLOTLYENV || {};                                    if (document.getElementById(\"3dd886d4-0d57-4498-a84d-b5779c970d4c\")) {                    Plotly.newPlot(                        \"3dd886d4-0d57-4498-a84d-b5779c970d4c\",                        [{\"alignmentgroup\":\"True\",\"hovertemplate\":\"Year Group=%{x}\\u003cbr\\u003eNumber of Movies=%{text}\\u003cextra\\u003e\\u003c\\u002fextra\\u003e\",\"legendgroup\":\"\",\"marker\":{\"color\":\"#636efa\",\"pattern\":{\"shape\":\"\"}},\"name\":\"\",\"offsetgroup\":\"\",\"orientation\":\"v\",\"showlegend\":false,\"text\":[2.0,1.0,3.0,5.0,1.0,3.0,8.0,5.0,10.0,5.0,5.0,10.0,12.0,16.0,17.0,20.0,16.0,25.0,16.0,25.0,22.0,32.0,30.0,38.0,26.0,46.0,53.0,64.0,60.0,45.0,36.0,2.0],\"textposition\":\"auto\",\"x\":[1914,1923,1926,1929,1932,1935,1938,1941,1944,1947,1950,1953,1956,1959,1962,1965,1968,1971,1974,1977,1980,1983,1986,1989,1992,1995,1998,2001,2004,2007,2010,2013],\"xaxis\":\"x\",\"y\":[2,1,3,5,1,3,8,5,10,5,5,10,12,16,17,20,16,25,16,25,22,32,30,38,26,46,53,64,60,45,36,2],\"yaxis\":\"y\",\"type\":\"bar\"}],                        {\"template\":{\"data\":{\"histogram2dcontour\":[{\"type\":\"histogram2dcontour\",\"colorbar\":{\"outlinewidth\":0,\"ticks\":\"\"},\"colorscale\":[[0.0,\"#0d0887\"],[0.1111111111111111,\"#46039f\"],[0.2222222222222222,\"#7201a8\"],[0.3333333333333333,\"#9c179e\"],[0.4444444444444444,\"#bd3786\"],[0.5555555555555556,\"#d8576b\"],[0.6666666666666666,\"#ed7953\"],[0.7777777777777778,\"#fb9f3a\"],[0.8888888888888888,\"#fdca26\"],[1.0,\"#f0f921\"]]}],\"choropleth\":[{\"type\":\"choropleth\",\"colorbar\":{\"outlinewidth\":0,\"ticks\":\"\"}}],\"histogram2d\":[{\"type\":\"histogram2d\",\"colorbar\":{\"outlinewidth\":0,\"ticks\":\"\"},\"colorscale\":[[0.0,\"#0d0887\"],[0.1111111111111111,\"#46039f\"],[0.2222222222222222,\"#7201a8\"],[0.3333333333333333,\"#9c179e\"],[0.4444444444444444,\"#bd3786\"],[0.5555555555555556,\"#d8576b\"],[0.6666666666666666,\"#ed7953\"],[0.7777777777777778,\"#fb9f3a\"],[0.8888888888888888,\"#fdca26\"],[1.0,\"#f0f921\"]]}],\"heatmap\":[{\"type\":\"heatmap\",\"colorbar\":{\"outlinewidth\":0,\"ticks\":\"\"},\"colorscale\":[[0.0,\"#0d0887\"],[0.1111111111111111,\"#46039f\"],[0.2222222222222222,\"#7201a8\"],[0.3333333333333333,\"#9c179e\"],[0.4444444444444444,\"#bd3786\"],[0.5555555555555556,\"#d8576b\"],[0.6666666666666666,\"#ed7953\"],[0.7777777777777778,\"#fb9f3a\"],[0.8888888888888888,\"#fdca26\"],[1.0,\"#f0f921\"]]}],\"heatmapgl\":[{\"type\":\"heatmapgl\",\"colorbar\":{\"outlinewidth\":0,\"ticks\":\"\"},\"colorscale\":[[0.0,\"#0d0887\"],[0.1111111111111111,\"#46039f\"],[0.2222222222222222,\"#7201a8\"],[0.3333333333333333,\"#9c179e\"],[0.4444444444444444,\"#bd3786\"],[0.5555555555555556,\"#d8576b\"],[0.6666666666666666,\"#ed7953\"],[0.7777777777777778,\"#fb9f3a\"],[0.8888888888888888,\"#fdca26\"],[1.0,\"#f0f921\"]]}],\"contourcarpet\":[{\"type\":\"contourcarpet\",\"colorbar\":{\"outlinewidth\":0,\"ticks\":\"\"}}],\"contour\":[{\"type\":\"contour\",\"colorbar\":{\"outlinewidth\":0,\"ticks\":\"\"},\"colorscale\":[[0.0,\"#0d0887\"],[0.1111111111111111,\"#46039f\"],[0.2222222222222222,\"#7201a8\"],[0.3333333333333333,\"#9c179e\"],[0.4444444444444444,\"#bd3786\"],[0.5555555555555556,\"#d8576b\"],[0.6666666666666666,\"#ed7953\"],[0.7777777777777778,\"#fb9f3a\"],[0.8888888888888888,\"#fdca26\"],[1.0,\"#f0f921\"]]}],\"surface\":[{\"type\":\"surface\",\"colorbar\":{\"outlinewidth\":0,\"ticks\":\"\"},\"colorscale\":[[0.0,\"#0d0887\"],[0.1111111111111111,\"#46039f\"],[0.2222222222222222,\"#7201a8\"],[0.3333333333333333,\"#9c179e\"],[0.4444444444444444,\"#bd3786\"],[0.5555555555555556,\"#d8576b\"],[0.6666666666666666,\"#ed7953\"],[0.7777777777777778,\"#fb9f3a\"],[0.8888888888888888,\"#fdca26\"],[1.0,\"#f0f921\"]]}],\"mesh3d\":[{\"type\":\"mesh3d\",\"colorbar\":{\"outlinewidth\":0,\"ticks\":\"\"}}],\"scatter\":[{\"fillpattern\":{\"fillmode\":\"overlay\",\"size\":10,\"solidity\":0.2},\"type\":\"scatter\"}],\"parcoords\":[{\"type\":\"parcoords\",\"line\":{\"colorbar\":{\"outlinewidth\":0,\"ticks\":\"\"}}}],\"scatterpolargl\":[{\"type\":\"scatterpolargl\",\"marker\":{\"colorbar\":{\"outlinewidth\":0,\"ticks\":\"\"}}}],\"bar\":[{\"error_x\":{\"color\":\"#2a3f5f\"},\"error_y\":{\"color\":\"#2a3f5f\"},\"marker\":{\"line\":{\"color\":\"#E5ECF6\",\"width\":0.5},\"pattern\":{\"fillmode\":\"overlay\",\"size\":10,\"solidity\":0.2}},\"type\":\"bar\"}],\"scattergeo\":[{\"type\":\"scattergeo\",\"marker\":{\"colorbar\":{\"outlinewidth\":0,\"ticks\":\"\"}}}],\"scatterpolar\":[{\"type\":\"scatterpolar\",\"marker\":{\"colorbar\":{\"outlinewidth\":0,\"ticks\":\"\"}}}],\"histogram\":[{\"marker\":{\"pattern\":{\"fillmode\":\"overlay\",\"size\":10,\"solidity\":0.2}},\"type\":\"histogram\"}],\"scattergl\":[{\"type\":\"scattergl\",\"marker\":{\"colorbar\":{\"outlinewidth\":0,\"ticks\":\"\"}}}],\"scatter3d\":[{\"type\":\"scatter3d\",\"line\":{\"colorbar\":{\"outlinewidth\":0,\"ticks\":\"\"}},\"marker\":{\"colorbar\":{\"outlinewidth\":0,\"ticks\":\"\"}}}],\"scattermapbox\":[{\"type\":\"scattermapbox\",\"marker\":{\"colorbar\":{\"outlinewidth\":0,\"ticks\":\"\"}}}],\"scatterternary\":[{\"type\":\"scatterternary\",\"marker\":{\"colorbar\":{\"outlinewidth\":0,\"ticks\":\"\"}}}],\"scattercarpet\":[{\"type\":\"scattercarpet\",\"marker\":{\"colorbar\":{\"outlinewidth\":0,\"ticks\":\"\"}}}],\"carpet\":[{\"aaxis\":{\"endlinecolor\":\"#2a3f5f\",\"gridcolor\":\"white\",\"linecolor\":\"white\",\"minorgridcolor\":\"white\",\"startlinecolor\":\"#2a3f5f\"},\"baxis\":{\"endlinecolor\":\"#2a3f5f\",\"gridcolor\":\"white\",\"linecolor\":\"white\",\"minorgridcolor\":\"white\",\"startlinecolor\":\"#2a3f5f\"},\"type\":\"carpet\"}],\"table\":[{\"cells\":{\"fill\":{\"color\":\"#EBF0F8\"},\"line\":{\"color\":\"white\"}},\"header\":{\"fill\":{\"color\":\"#C8D4E3\"},\"line\":{\"color\":\"white\"}},\"type\":\"table\"}],\"barpolar\":[{\"marker\":{\"line\":{\"color\":\"#E5ECF6\",\"width\":0.5},\"pattern\":{\"fillmode\":\"overlay\",\"size\":10,\"solidity\":0.2}},\"type\":\"barpolar\"}],\"pie\":[{\"automargin\":true,\"type\":\"pie\"}]},\"layout\":{\"autotypenumbers\":\"strict\",\"colorway\":[\"#636efa\",\"#EF553B\",\"#00cc96\",\"#ab63fa\",\"#FFA15A\",\"#19d3f3\",\"#FF6692\",\"#B6E880\",\"#FF97FF\",\"#FECB52\"],\"font\":{\"color\":\"#2a3f5f\"},\"hovermode\":\"closest\",\"hoverlabel\":{\"align\":\"left\"},\"paper_bgcolor\":\"white\",\"plot_bgcolor\":\"#E5ECF6\",\"polar\":{\"bgcolor\":\"#E5ECF6\",\"angularaxis\":{\"gridcolor\":\"white\",\"linecolor\":\"white\",\"ticks\":\"\"},\"radialaxis\":{\"gridcolor\":\"white\",\"linecolor\":\"white\",\"ticks\":\"\"}},\"ternary\":{\"bgcolor\":\"#E5ECF6\",\"aaxis\":{\"gridcolor\":\"white\",\"linecolor\":\"white\",\"ticks\":\"\"},\"baxis\":{\"gridcolor\":\"white\",\"linecolor\":\"white\",\"ticks\":\"\"},\"caxis\":{\"gridcolor\":\"white\",\"linecolor\":\"white\",\"ticks\":\"\"}},\"coloraxis\":{\"colorbar\":{\"outlinewidth\":0,\"ticks\":\"\"}},\"colorscale\":{\"sequential\":[[0.0,\"#0d0887\"],[0.1111111111111111,\"#46039f\"],[0.2222222222222222,\"#7201a8\"],[0.3333333333333333,\"#9c179e\"],[0.4444444444444444,\"#bd3786\"],[0.5555555555555556,\"#d8576b\"],[0.6666666666666666,\"#ed7953\"],[0.7777777777777778,\"#fb9f3a\"],[0.8888888888888888,\"#fdca26\"],[1.0,\"#f0f921\"]],\"sequentialminus\":[[0.0,\"#0d0887\"],[0.1111111111111111,\"#46039f\"],[0.2222222222222222,\"#7201a8\"],[0.3333333333333333,\"#9c179e\"],[0.4444444444444444,\"#bd3786\"],[0.5555555555555556,\"#d8576b\"],[0.6666666666666666,\"#ed7953\"],[0.7777777777777778,\"#fb9f3a\"],[0.8888888888888888,\"#fdca26\"],[1.0,\"#f0f921\"]],\"diverging\":[[0,\"#8e0152\"],[0.1,\"#c51b7d\"],[0.2,\"#de77ae\"],[0.3,\"#f1b6da\"],[0.4,\"#fde0ef\"],[0.5,\"#f7f7f7\"],[0.6,\"#e6f5d0\"],[0.7,\"#b8e186\"],[0.8,\"#7fbc41\"],[0.9,\"#4d9221\"],[1,\"#276419\"]]},\"xaxis\":{\"gridcolor\":\"white\",\"linecolor\":\"white\",\"ticks\":\"\",\"title\":{\"standoff\":15},\"zerolinecolor\":\"white\",\"automargin\":true,\"zerolinewidth\":2},\"yaxis\":{\"gridcolor\":\"white\",\"linecolor\":\"white\",\"ticks\":\"\",\"title\":{\"standoff\":15},\"zerolinecolor\":\"white\",\"automargin\":true,\"zerolinewidth\":2},\"scene\":{\"xaxis\":{\"backgroundcolor\":\"#E5ECF6\",\"gridcolor\":\"white\",\"linecolor\":\"white\",\"showbackground\":true,\"ticks\":\"\",\"zerolinecolor\":\"white\",\"gridwidth\":2},\"yaxis\":{\"backgroundcolor\":\"#E5ECF6\",\"gridcolor\":\"white\",\"linecolor\":\"white\",\"showbackground\":true,\"ticks\":\"\",\"zerolinecolor\":\"white\",\"gridwidth\":2},\"zaxis\":{\"backgroundcolor\":\"#E5ECF6\",\"gridcolor\":\"white\",\"linecolor\":\"white\",\"showbackground\":true,\"ticks\":\"\",\"zerolinecolor\":\"white\",\"gridwidth\":2}},\"shapedefaults\":{\"line\":{\"color\":\"#2a3f5f\"}},\"annotationdefaults\":{\"arrowcolor\":\"#2a3f5f\",\"arrowhead\":0,\"arrowwidth\":1},\"geo\":{\"bgcolor\":\"white\",\"landcolor\":\"#E5ECF6\",\"subunitcolor\":\"white\",\"showland\":true,\"showlakes\":true,\"lakecolor\":\"white\"},\"title\":{\"x\":0.05},\"mapbox\":{\"style\":\"light\"}}},\"xaxis\":{\"anchor\":\"y\",\"domain\":[0.0,1.0],\"title\":{\"text\":\"Year Group\"}},\"yaxis\":{\"anchor\":\"x\",\"domain\":[0.0,1.0],\"title\":{\"text\":\"Number of Movies\"}},\"legend\":{\"tracegroupgap\":0},\"title\":{\"text\":\"Number of Movies Based on Books per 3-Year Interval\"},\"barmode\":\"relative\",\"width\":1000,\"height\":600},                        {\"responsive\": true}                    ).then(function(){\n",
       "                            \n",
       "var gd = document.getElementById('3dd886d4-0d57-4498-a84d-b5779c970d4c');\n",
       "var x = new MutationObserver(function (mutations, observer) {{\n",
       "        var display = window.getComputedStyle(gd).display;\n",
       "        if (!display || display === 'none') {{\n",
       "            console.log([gd, 'removed!']);\n",
       "            Plotly.purge(gd);\n",
       "            observer.disconnect();\n",
       "        }}\n",
       "}});\n",
       "\n",
       "// Listen for the removal of the full notebook cells\n",
       "var notebookContainer = gd.closest('#notebook-container');\n",
       "if (notebookContainer) {{\n",
       "    x.observe(notebookContainer, {childList: true});\n",
       "}}\n",
       "\n",
       "// Listen for the clearing of the current output cell\n",
       "var outputEl = gd.closest('.output');\n",
       "if (outputEl) {{\n",
       "    x.observe(outputEl, {childList: true});\n",
       "}}\n",
       "\n",
       "                        })                };                });            </script>        </div>"
      ]
     },
     "metadata": {},
     "output_type": "display_data"
    }
   ],
   "execution_count": 38
  },
  {
   "metadata": {},
   "cell_type": "markdown",
   "source": "## Number of languages per movie over time",
   "id": "88958e3f70571403"
  },
  {
   "metadata": {
    "ExecuteTime": {
     "end_time": "2024-12-11T17:12:21.726463Z",
     "start_time": "2024-12-11T17:12:21.611273Z"
    }
   },
   "cell_type": "code",
   "source": [
    "based_on_books_df['num_languages'] = based_on_books_df['spoken_languages'].apply(lambda x: 1 if x is None else len(x.split(',')))\n",
    "based_on_books_df['num_languages'] = based_on_books_df['num_languages'].replace(0, 1)\n",
    "\n",
    "based_on_books_df.loc[:, 'year'] = pd.to_datetime(based_on_books_df['release_date'], errors='coerce').dt.year\n",
    "based_on_books_df = based_on_books_df.dropna(subset=['year'])\n",
    "\n",
    "# based_on_books_df['year_group'] = (based_on_books_df['year'] // 3) * 3\n",
    "\n",
    "trend = based_on_books_df.groupby('year_group')['num_languages'].median().reset_index()\n",
    "\n",
    "fig = px.box(based_on_books_df, x='year_group', y='num_languages',\n",
    "                title='Box Plot of Number of Languages per Movie per 3-Year Interval',\n",
    "                labels={'year_group': 'Year Group', 'num_languages': 'Number of Languages'},\n",
    "                points=None)\n",
    "\n",
    "fig.add_scatter(x=trend['year_group'], y=trend['num_languages'], mode='lines+markers',\n",
    "                name='Median Trend', line=dict(color='red', width=2))\n",
    "\n",
    "mean_trend = based_on_books_df.groupby('year_group')['num_languages'].mean().reset_index()\n",
    "fig.add_scatter(x=mean_trend['year_group'], y=mean_trend['num_languages'], mode='lines+markers',\n",
    "                name='Mean Trend', line=dict(color='blue', width=2, dash='dash'))\n",
    "\n",
    "fig.update_layout(\n",
    "    xaxis_title='Year Group',\n",
    "    yaxis_title='Number of Languages',\n",
    "    width=1000,\n",
    "    height=600\n",
    ")\n",
    "\n",
    "fig.show()"
   ],
   "id": "fdd6bcff64bf5277",
   "outputs": [
    {
     "data": {
      "application/vnd.plotly.v1+json": {
       "data": [
        {
         "alignmentgroup": "True",
         "hovertemplate": "Year Group=%{x}<br>Number of Languages=%{y}<extra></extra>",
         "legendgroup": "",
         "marker": {
          "color": "#636efa"
         },
         "name": "",
         "notched": false,
         "offsetgroup": "",
         "orientation": "v",
         "showlegend": false,
         "x": [
          1998,
          1992,
          2001,
          2001,
          2001,
          2010,
          2010,
          2001,
          2001,
          2004,
          2004,
          2010,
          1971,
          2007,
          2007,
          2010,
          1980,
          1998,
          1992,
          1989,
          2007,
          1992,
          2004,
          2010,
          1980,
          2007,
          1971,
          2013,
          2004,
          2007,
          2010,
          1983,
          2004,
          1986,
          2004,
          2010,
          1995,
          2004,
          1998,
          1974,
          1974,
          1959,
          1995,
          2004,
          2001,
          1995,
          2004,
          2010,
          2004,
          1971,
          2007,
          2004,
          2010,
          2001,
          2001,
          2001,
          2007,
          2004,
          2010,
          1998,
          2001,
          2007,
          2007,
          1995,
          1959,
          1965,
          2001,
          2004,
          1980,
          1938,
          1995,
          2004,
          2010,
          1956,
          2010,
          1986,
          2010,
          1938,
          1962,
          1998,
          1953,
          2010,
          1989,
          2010,
          2007,
          2004,
          2001,
          1995,
          2007,
          1995,
          1995,
          2010,
          2007,
          1962,
          2001,
          2007,
          2007,
          1998,
          1986,
          1989,
          1998,
          1995,
          1995,
          1998,
          1995,
          2010,
          2010,
          2001,
          2007,
          1989,
          2001,
          1998,
          1998,
          2001,
          2013,
          2007,
          2001,
          1983,
          1938,
          2001,
          2007,
          1962,
          1998,
          2007,
          1968,
          1983,
          2001,
          2001,
          2007,
          2010,
          2004,
          1998,
          2010,
          1962,
          1962,
          2007,
          1998,
          2010,
          2010,
          1995,
          1971,
          1989,
          1968,
          1998,
          1998,
          2004,
          2004,
          1980,
          1998,
          1989,
          2010,
          1983,
          1998,
          2004,
          1974,
          1986,
          1992,
          2004,
          2007,
          1992,
          2007,
          1998,
          1986,
          1995,
          1962,
          2007,
          2001,
          2007,
          1983,
          2004,
          1974,
          1995,
          2010,
          2007,
          1959,
          2001,
          2007,
          2010,
          1962,
          2004,
          1977,
          2004,
          2007,
          2007,
          1995,
          1986,
          2001,
          2001,
          2010,
          1998,
          1986,
          1965,
          2001,
          2001,
          2010,
          2004,
          2010,
          2004,
          1965,
          2010,
          1989,
          1995,
          1995,
          1959,
          1977,
          2007,
          1971,
          2004,
          2010,
          2007,
          1956,
          1962,
          1971,
          1974,
          1992,
          1998,
          1977,
          1977,
          1983,
          1986,
          1977,
          2010,
          2007,
          2001,
          1995,
          1968,
          1980,
          1998,
          1998,
          2007,
          1944,
          2001,
          2001,
          2001,
          2004,
          2007,
          1938,
          1986,
          1995,
          2001,
          1983,
          2007,
          2001,
          1995,
          2007,
          1950,
          1986,
          1941,
          2004,
          2004,
          1998,
          1983,
          1992,
          1986,
          1989,
          1998,
          2004,
          1992,
          1929,
          2004,
          2007,
          1995,
          1953,
          1986,
          2004,
          2004,
          1992,
          1989,
          1983,
          2004,
          1983,
          1974,
          1965,
          1986,
          1998,
          1998,
          2010,
          1989,
          2007,
          2004,
          2004,
          1989,
          1986,
          1995,
          1998,
          1983,
          2001,
          1992,
          1986,
          1998,
          1983,
          1989,
          1983,
          1995,
          1983,
          2001,
          1998,
          1968,
          1998,
          2001,
          1989,
          2004,
          1998,
          1965,
          1992,
          1947,
          1998,
          2001,
          2004,
          2007,
          1986,
          2007,
          2001,
          1974,
          1974,
          1989,
          1992,
          1962,
          2004,
          2007,
          1995,
          1968,
          2001,
          1995,
          1989,
          1989,
          1995,
          1956,
          1983,
          1974,
          2001,
          1992,
          2001,
          1989,
          1998,
          1977,
          2004,
          1986,
          1965,
          1998,
          1986,
          1944,
          1995,
          1971,
          1998,
          1980,
          1983,
          1992,
          1938,
          1971,
          1959,
          1965,
          1959,
          1953,
          1950,
          2001,
          1971,
          1974,
          2001,
          1974,
          1971,
          1971,
          2004,
          1971,
          1998,
          1971,
          1968,
          1995,
          2004,
          2010,
          1953,
          1992,
          1998,
          1962,
          1953,
          2001,
          1989,
          1995,
          1998,
          1959,
          2007,
          1974,
          2001,
          1980,
          1995,
          2001,
          1998,
          2004,
          1944,
          1998,
          1941,
          1959,
          1929,
          1977,
          1995,
          1980,
          1992,
          1983,
          1992,
          1986,
          1989,
          1965,
          2004,
          1992,
          1971,
          1956,
          1977,
          1968,
          1962,
          1971,
          1983,
          1986,
          1983,
          1971,
          1989,
          1980,
          1947,
          1944,
          1995,
          1953,
          1983,
          1977,
          1980,
          2001,
          1989,
          1998,
          1995,
          1983,
          2004,
          1986,
          1989,
          1971,
          1983,
          2010,
          1962,
          1998,
          1983,
          2010,
          1971,
          2001,
          2001,
          1980,
          1914,
          1995,
          2007,
          2010,
          1986,
          1992,
          1983,
          1980,
          1977,
          1989,
          1974,
          1977,
          2001,
          1995,
          1992,
          2001,
          2001,
          1959,
          1989,
          2004,
          1974,
          1986,
          1974,
          1980,
          1968,
          1998,
          1959,
          1998,
          1983,
          1992,
          1980,
          1995,
          1956,
          1944,
          1941,
          1977,
          1977,
          1956,
          2001,
          1968,
          1968,
          1950,
          1986,
          1965,
          1998,
          2001,
          1998,
          1977,
          1971,
          2004,
          2004,
          1971,
          1971,
          1980,
          1962,
          2004,
          1944,
          1980,
          1947,
          1977,
          1953,
          1956,
          1995,
          1995,
          2001,
          1965,
          2004,
          1992,
          1959,
          1956,
          1968,
          2004,
          1962,
          1992,
          2001,
          2004,
          2001,
          1995,
          1977,
          1989,
          1995,
          1977,
          1956,
          1983,
          1947,
          1977,
          1983,
          1989,
          2007,
          1944,
          1980,
          1989,
          1929,
          1986,
          1986,
          1989,
          1995,
          2004,
          1995,
          1998,
          1977,
          1965,
          2001,
          2004,
          1971,
          1953,
          2001,
          1977,
          1989,
          1980,
          2004,
          1965,
          2007,
          2004,
          1968,
          1959,
          1941,
          1989,
          1938,
          1998,
          1992,
          2001,
          1950,
          2001,
          1983,
          1977,
          1965,
          1950,
          2001,
          2001,
          1968,
          1965,
          1944,
          1923,
          1959,
          1953,
          2007,
          2001,
          1962,
          1992,
          1977,
          1983,
          1980,
          1980,
          1995,
          1965,
          2001,
          1992,
          1983,
          1995,
          1938,
          1986,
          1929,
          1986,
          1956,
          1965,
          1974,
          1986,
          1989,
          1998,
          1956,
          2004,
          1971,
          1965,
          1998,
          1989,
          2004,
          1989,
          1935,
          1980,
          1962,
          1959,
          1968,
          1953,
          1968,
          1965,
          1983,
          1977,
          1989,
          1983,
          1977,
          1998,
          1938,
          1968,
          1989,
          1914,
          1971,
          1989,
          1995,
          1956,
          1995,
          1980,
          1935,
          1989,
          1965,
          2004,
          1998,
          1941,
          1971,
          1959,
          1998,
          1959,
          1947,
          1929,
          1935,
          1986,
          1932,
          1965,
          2004,
          1944,
          1989,
          1926,
          1926,
          1944,
          1962,
          1977,
          1926
         ],
         "x0": " ",
         "xaxis": "x",
         "y": [
          1,
          1,
          1,
          1,
          1,
          2,
          1,
          1,
          1,
          1,
          2,
          1,
          3,
          1,
          1,
          1,
          1,
          2,
          2,
          1,
          1,
          4,
          1,
          2,
          5,
          1,
          1,
          1,
          2,
          2,
          1,
          2,
          1,
          3,
          2,
          5,
          2,
          2,
          3,
          1,
          1,
          1,
          1,
          4,
          5,
          1,
          1,
          1,
          1,
          6,
          5,
          4,
          1,
          1,
          1,
          2,
          1,
          1,
          2,
          1,
          1,
          1,
          1,
          1,
          1,
          1,
          1,
          1,
          1,
          1,
          5,
          2,
          2,
          1,
          1,
          1,
          1,
          1,
          1,
          1,
          1,
          1,
          1,
          1,
          3,
          2,
          1,
          2,
          3,
          1,
          1,
          2,
          1,
          1,
          1,
          4,
          1,
          1,
          1,
          1,
          1,
          1,
          3,
          5,
          2,
          1,
          1,
          2,
          2,
          1,
          1,
          1,
          4,
          1,
          1,
          1,
          3,
          1,
          1,
          1,
          3,
          1,
          2,
          1,
          1,
          2,
          1,
          2,
          1,
          1,
          1,
          1,
          1,
          2,
          3,
          1,
          2,
          1,
          1,
          2,
          4,
          1,
          1,
          1,
          2,
          1,
          1,
          1,
          1,
          2,
          1,
          1,
          1,
          1,
          2,
          2,
          2,
          1,
          4,
          2,
          2,
          5,
          4,
          1,
          4,
          1,
          2,
          1,
          1,
          3,
          3,
          1,
          1,
          2,
          1,
          5,
          1,
          2,
          2,
          8,
          1,
          6,
          1,
          1,
          1,
          1,
          1,
          1,
          1,
          1,
          1,
          2,
          1,
          1,
          1,
          1,
          1,
          2,
          3,
          1,
          1,
          4,
          1,
          1,
          1,
          1,
          2,
          2,
          1,
          2,
          3,
          1,
          2,
          3,
          1,
          2,
          2,
          3,
          1,
          3,
          1,
          1,
          1,
          2,
          2,
          2,
          1,
          7,
          1,
          1,
          1,
          1,
          1,
          3,
          1,
          1,
          2,
          1,
          1,
          5,
          1,
          2,
          1,
          1,
          3,
          2,
          1,
          1,
          2,
          2,
          1,
          2,
          1,
          1,
          1,
          1,
          1,
          1,
          1,
          3,
          2,
          2,
          2,
          2,
          4,
          3,
          1,
          1,
          4,
          1,
          1,
          6,
          1,
          1,
          1,
          1,
          2,
          1,
          1,
          3,
          1,
          1,
          2,
          1,
          1,
          1,
          1,
          2,
          1,
          3,
          1,
          1,
          1,
          1,
          3,
          3,
          1,
          1,
          2,
          1,
          1,
          1,
          3,
          5,
          1,
          1,
          1,
          1,
          3,
          1,
          1,
          1,
          1,
          3,
          2,
          1,
          1,
          1,
          2,
          1,
          2,
          1,
          2,
          1,
          2,
          1,
          1,
          1,
          1,
          6,
          1,
          2,
          1,
          2,
          1,
          2,
          2,
          1,
          1,
          2,
          1,
          1,
          1,
          1,
          1,
          1,
          1,
          1,
          1,
          1,
          1,
          1,
          1,
          2,
          2,
          2,
          1,
          1,
          3,
          1,
          1,
          3,
          2,
          1,
          1,
          1,
          2,
          2,
          2,
          1,
          1,
          1,
          2,
          4,
          1,
          5,
          1,
          1,
          1,
          1,
          1,
          4,
          1,
          1,
          1,
          2,
          1,
          1,
          1,
          4,
          1,
          3,
          4,
          4,
          1,
          1,
          2,
          1,
          2,
          2,
          1,
          5,
          1,
          2,
          1,
          2,
          1,
          1,
          1,
          1,
          1,
          2,
          1,
          1,
          1,
          2,
          2,
          1,
          1,
          2,
          2,
          1,
          1,
          2,
          1,
          1,
          1,
          1,
          1,
          1,
          2,
          2,
          1,
          1,
          1,
          1,
          1,
          1,
          2,
          2,
          1,
          2,
          1,
          1,
          1,
          3,
          2,
          2,
          1,
          1,
          4,
          1,
          1,
          1,
          1,
          1,
          2,
          1,
          1,
          5,
          3,
          1,
          1,
          1,
          1,
          3,
          1,
          1,
          1,
          1,
          1,
          1,
          1,
          1,
          1,
          1,
          2,
          1,
          4,
          3,
          1,
          4,
          2,
          1,
          1,
          1,
          1,
          1,
          2,
          1,
          3,
          1,
          3,
          1,
          1,
          1,
          2,
          2,
          1,
          1,
          2,
          1,
          1,
          2,
          1,
          1,
          1,
          1,
          4,
          1,
          2,
          1,
          2,
          1,
          1,
          1,
          3,
          1,
          1,
          2,
          4,
          1,
          2,
          1,
          1,
          2,
          1,
          4,
          5,
          1,
          2,
          1,
          1,
          1,
          1,
          1,
          1,
          1,
          1,
          1,
          1,
          1,
          1,
          2,
          1,
          1,
          1,
          1,
          2,
          2,
          1,
          1,
          1,
          1,
          1,
          1,
          1,
          1,
          2,
          1,
          2,
          1,
          2,
          1,
          5,
          1,
          1,
          1,
          1,
          1,
          1,
          2,
          3,
          5,
          1,
          1,
          1,
          1,
          5,
          1,
          2,
          4,
          1,
          1,
          1,
          1,
          2,
          2,
          1,
          1,
          1,
          2,
          1,
          1,
          2,
          1,
          1,
          1,
          1,
          1,
          1,
          1,
          2,
          1,
          1,
          1,
          1,
          1,
          1,
          1,
          1,
          1,
          1,
          2,
          3,
          2,
          1,
          1,
          1,
          2,
          1,
          1,
          1,
          1,
          1,
          1,
          1,
          1,
          1,
          1,
          1,
          2,
          1,
          1,
          1,
          1,
          1,
          2,
          1,
          1,
          1,
          1,
          2,
          2,
          1,
          1,
          2,
          1,
          1,
          1,
          1,
          1,
          1,
          1,
          1,
          1,
          1,
          1,
          1
         ],
         "y0": " ",
         "yaxis": "y",
         "type": "box"
        },
        {
         "line": {
          "color": "red",
          "width": 2
         },
         "mode": "lines+markers",
         "name": "Median Trend",
         "x": [
          1914,
          1923,
          1926,
          1929,
          1932,
          1935,
          1938,
          1941,
          1944,
          1947,
          1950,
          1953,
          1956,
          1959,
          1962,
          1965,
          1968,
          1971,
          1974,
          1977,
          1980,
          1983,
          1986,
          1989,
          1992,
          1995,
          1998,
          2001,
          2004,
          2007,
          2010,
          2013
         ],
         "y": [
          1.0,
          1.0,
          1.0,
          1.0,
          1.0,
          1.0,
          1.0,
          1.0,
          1.0,
          1.0,
          2.0,
          1.0,
          1.5,
          1.0,
          1.0,
          1.0,
          1.0,
          1.0,
          1.5,
          1.0,
          1.0,
          1.0,
          1.0,
          1.0,
          1.5,
          1.0,
          1.0,
          1.0,
          1.0,
          1.0,
          1.0,
          1.0
         ],
         "type": "scatter"
        },
        {
         "line": {
          "color": "blue",
          "dash": "dash",
          "width": 2
         },
         "mode": "lines+markers",
         "name": "Mean Trend",
         "x": [
          1914,
          1923,
          1926,
          1929,
          1932,
          1935,
          1938,
          1941,
          1944,
          1947,
          1950,
          1953,
          1956,
          1959,
          1962,
          1965,
          1968,
          1971,
          1974,
          1977,
          1980,
          1983,
          1986,
          1989,
          1992,
          1995,
          1998,
          2001,
          2004,
          2007,
          2010,
          2013
         ],
         "y": [
          1.0,
          1.0,
          1.0,
          1.8,
          1.0,
          1.3333333333333333,
          1.25,
          1.4,
          1.0,
          1.4,
          2.2,
          1.4,
          1.6666666666666667,
          1.5625,
          1.7058823529411764,
          1.85,
          1.6875,
          1.72,
          2.3125,
          1.84,
          1.3636363636363635,
          1.4375,
          1.4333333333333333,
          1.1578947368421053,
          1.6538461538461537,
          1.4565217391304348,
          1.679245283018868,
          1.59375,
          1.8666666666666667,
          1.6666666666666667,
          1.3611111111111112,
          1.0
         ],
         "type": "scatter"
        }
       ],
       "layout": {
        "template": {
         "data": {
          "histogram2dcontour": [
           {
            "type": "histogram2dcontour",
            "colorbar": {
             "outlinewidth": 0,
             "ticks": ""
            },
            "colorscale": [
             [
              0.0,
              "#0d0887"
             ],
             [
              0.1111111111111111,
              "#46039f"
             ],
             [
              0.2222222222222222,
              "#7201a8"
             ],
             [
              0.3333333333333333,
              "#9c179e"
             ],
             [
              0.4444444444444444,
              "#bd3786"
             ],
             [
              0.5555555555555556,
              "#d8576b"
             ],
             [
              0.6666666666666666,
              "#ed7953"
             ],
             [
              0.7777777777777778,
              "#fb9f3a"
             ],
             [
              0.8888888888888888,
              "#fdca26"
             ],
             [
              1.0,
              "#f0f921"
             ]
            ]
           }
          ],
          "choropleth": [
           {
            "type": "choropleth",
            "colorbar": {
             "outlinewidth": 0,
             "ticks": ""
            }
           }
          ],
          "histogram2d": [
           {
            "type": "histogram2d",
            "colorbar": {
             "outlinewidth": 0,
             "ticks": ""
            },
            "colorscale": [
             [
              0.0,
              "#0d0887"
             ],
             [
              0.1111111111111111,
              "#46039f"
             ],
             [
              0.2222222222222222,
              "#7201a8"
             ],
             [
              0.3333333333333333,
              "#9c179e"
             ],
             [
              0.4444444444444444,
              "#bd3786"
             ],
             [
              0.5555555555555556,
              "#d8576b"
             ],
             [
              0.6666666666666666,
              "#ed7953"
             ],
             [
              0.7777777777777778,
              "#fb9f3a"
             ],
             [
              0.8888888888888888,
              "#fdca26"
             ],
             [
              1.0,
              "#f0f921"
             ]
            ]
           }
          ],
          "heatmap": [
           {
            "type": "heatmap",
            "colorbar": {
             "outlinewidth": 0,
             "ticks": ""
            },
            "colorscale": [
             [
              0.0,
              "#0d0887"
             ],
             [
              0.1111111111111111,
              "#46039f"
             ],
             [
              0.2222222222222222,
              "#7201a8"
             ],
             [
              0.3333333333333333,
              "#9c179e"
             ],
             [
              0.4444444444444444,
              "#bd3786"
             ],
             [
              0.5555555555555556,
              "#d8576b"
             ],
             [
              0.6666666666666666,
              "#ed7953"
             ],
             [
              0.7777777777777778,
              "#fb9f3a"
             ],
             [
              0.8888888888888888,
              "#fdca26"
             ],
             [
              1.0,
              "#f0f921"
             ]
            ]
           }
          ],
          "heatmapgl": [
           {
            "type": "heatmapgl",
            "colorbar": {
             "outlinewidth": 0,
             "ticks": ""
            },
            "colorscale": [
             [
              0.0,
              "#0d0887"
             ],
             [
              0.1111111111111111,
              "#46039f"
             ],
             [
              0.2222222222222222,
              "#7201a8"
             ],
             [
              0.3333333333333333,
              "#9c179e"
             ],
             [
              0.4444444444444444,
              "#bd3786"
             ],
             [
              0.5555555555555556,
              "#d8576b"
             ],
             [
              0.6666666666666666,
              "#ed7953"
             ],
             [
              0.7777777777777778,
              "#fb9f3a"
             ],
             [
              0.8888888888888888,
              "#fdca26"
             ],
             [
              1.0,
              "#f0f921"
             ]
            ]
           }
          ],
          "contourcarpet": [
           {
            "type": "contourcarpet",
            "colorbar": {
             "outlinewidth": 0,
             "ticks": ""
            }
           }
          ],
          "contour": [
           {
            "type": "contour",
            "colorbar": {
             "outlinewidth": 0,
             "ticks": ""
            },
            "colorscale": [
             [
              0.0,
              "#0d0887"
             ],
             [
              0.1111111111111111,
              "#46039f"
             ],
             [
              0.2222222222222222,
              "#7201a8"
             ],
             [
              0.3333333333333333,
              "#9c179e"
             ],
             [
              0.4444444444444444,
              "#bd3786"
             ],
             [
              0.5555555555555556,
              "#d8576b"
             ],
             [
              0.6666666666666666,
              "#ed7953"
             ],
             [
              0.7777777777777778,
              "#fb9f3a"
             ],
             [
              0.8888888888888888,
              "#fdca26"
             ],
             [
              1.0,
              "#f0f921"
             ]
            ]
           }
          ],
          "surface": [
           {
            "type": "surface",
            "colorbar": {
             "outlinewidth": 0,
             "ticks": ""
            },
            "colorscale": [
             [
              0.0,
              "#0d0887"
             ],
             [
              0.1111111111111111,
              "#46039f"
             ],
             [
              0.2222222222222222,
              "#7201a8"
             ],
             [
              0.3333333333333333,
              "#9c179e"
             ],
             [
              0.4444444444444444,
              "#bd3786"
             ],
             [
              0.5555555555555556,
              "#d8576b"
             ],
             [
              0.6666666666666666,
              "#ed7953"
             ],
             [
              0.7777777777777778,
              "#fb9f3a"
             ],
             [
              0.8888888888888888,
              "#fdca26"
             ],
             [
              1.0,
              "#f0f921"
             ]
            ]
           }
          ],
          "mesh3d": [
           {
            "type": "mesh3d",
            "colorbar": {
             "outlinewidth": 0,
             "ticks": ""
            }
           }
          ],
          "scatter": [
           {
            "fillpattern": {
             "fillmode": "overlay",
             "size": 10,
             "solidity": 0.2
            },
            "type": "scatter"
           }
          ],
          "parcoords": [
           {
            "type": "parcoords",
            "line": {
             "colorbar": {
              "outlinewidth": 0,
              "ticks": ""
             }
            }
           }
          ],
          "scatterpolargl": [
           {
            "type": "scatterpolargl",
            "marker": {
             "colorbar": {
              "outlinewidth": 0,
              "ticks": ""
             }
            }
           }
          ],
          "bar": [
           {
            "error_x": {
             "color": "#2a3f5f"
            },
            "error_y": {
             "color": "#2a3f5f"
            },
            "marker": {
             "line": {
              "color": "#E5ECF6",
              "width": 0.5
             },
             "pattern": {
              "fillmode": "overlay",
              "size": 10,
              "solidity": 0.2
             }
            },
            "type": "bar"
           }
          ],
          "scattergeo": [
           {
            "type": "scattergeo",
            "marker": {
             "colorbar": {
              "outlinewidth": 0,
              "ticks": ""
             }
            }
           }
          ],
          "scatterpolar": [
           {
            "type": "scatterpolar",
            "marker": {
             "colorbar": {
              "outlinewidth": 0,
              "ticks": ""
             }
            }
           }
          ],
          "histogram": [
           {
            "marker": {
             "pattern": {
              "fillmode": "overlay",
              "size": 10,
              "solidity": 0.2
             }
            },
            "type": "histogram"
           }
          ],
          "scattergl": [
           {
            "type": "scattergl",
            "marker": {
             "colorbar": {
              "outlinewidth": 0,
              "ticks": ""
             }
            }
           }
          ],
          "scatter3d": [
           {
            "type": "scatter3d",
            "line": {
             "colorbar": {
              "outlinewidth": 0,
              "ticks": ""
             }
            },
            "marker": {
             "colorbar": {
              "outlinewidth": 0,
              "ticks": ""
             }
            }
           }
          ],
          "scattermapbox": [
           {
            "type": "scattermapbox",
            "marker": {
             "colorbar": {
              "outlinewidth": 0,
              "ticks": ""
             }
            }
           }
          ],
          "scatterternary": [
           {
            "type": "scatterternary",
            "marker": {
             "colorbar": {
              "outlinewidth": 0,
              "ticks": ""
             }
            }
           }
          ],
          "scattercarpet": [
           {
            "type": "scattercarpet",
            "marker": {
             "colorbar": {
              "outlinewidth": 0,
              "ticks": ""
             }
            }
           }
          ],
          "carpet": [
           {
            "aaxis": {
             "endlinecolor": "#2a3f5f",
             "gridcolor": "white",
             "linecolor": "white",
             "minorgridcolor": "white",
             "startlinecolor": "#2a3f5f"
            },
            "baxis": {
             "endlinecolor": "#2a3f5f",
             "gridcolor": "white",
             "linecolor": "white",
             "minorgridcolor": "white",
             "startlinecolor": "#2a3f5f"
            },
            "type": "carpet"
           }
          ],
          "table": [
           {
            "cells": {
             "fill": {
              "color": "#EBF0F8"
             },
             "line": {
              "color": "white"
             }
            },
            "header": {
             "fill": {
              "color": "#C8D4E3"
             },
             "line": {
              "color": "white"
             }
            },
            "type": "table"
           }
          ],
          "barpolar": [
           {
            "marker": {
             "line": {
              "color": "#E5ECF6",
              "width": 0.5
             },
             "pattern": {
              "fillmode": "overlay",
              "size": 10,
              "solidity": 0.2
             }
            },
            "type": "barpolar"
           }
          ],
          "pie": [
           {
            "automargin": true,
            "type": "pie"
           }
          ]
         },
         "layout": {
          "autotypenumbers": "strict",
          "colorway": [
           "#636efa",
           "#EF553B",
           "#00cc96",
           "#ab63fa",
           "#FFA15A",
           "#19d3f3",
           "#FF6692",
           "#B6E880",
           "#FF97FF",
           "#FECB52"
          ],
          "font": {
           "color": "#2a3f5f"
          },
          "hovermode": "closest",
          "hoverlabel": {
           "align": "left"
          },
          "paper_bgcolor": "white",
          "plot_bgcolor": "#E5ECF6",
          "polar": {
           "bgcolor": "#E5ECF6",
           "angularaxis": {
            "gridcolor": "white",
            "linecolor": "white",
            "ticks": ""
           },
           "radialaxis": {
            "gridcolor": "white",
            "linecolor": "white",
            "ticks": ""
           }
          },
          "ternary": {
           "bgcolor": "#E5ECF6",
           "aaxis": {
            "gridcolor": "white",
            "linecolor": "white",
            "ticks": ""
           },
           "baxis": {
            "gridcolor": "white",
            "linecolor": "white",
            "ticks": ""
           },
           "caxis": {
            "gridcolor": "white",
            "linecolor": "white",
            "ticks": ""
           }
          },
          "coloraxis": {
           "colorbar": {
            "outlinewidth": 0,
            "ticks": ""
           }
          },
          "colorscale": {
           "sequential": [
            [
             0.0,
             "#0d0887"
            ],
            [
             0.1111111111111111,
             "#46039f"
            ],
            [
             0.2222222222222222,
             "#7201a8"
            ],
            [
             0.3333333333333333,
             "#9c179e"
            ],
            [
             0.4444444444444444,
             "#bd3786"
            ],
            [
             0.5555555555555556,
             "#d8576b"
            ],
            [
             0.6666666666666666,
             "#ed7953"
            ],
            [
             0.7777777777777778,
             "#fb9f3a"
            ],
            [
             0.8888888888888888,
             "#fdca26"
            ],
            [
             1.0,
             "#f0f921"
            ]
           ],
           "sequentialminus": [
            [
             0.0,
             "#0d0887"
            ],
            [
             0.1111111111111111,
             "#46039f"
            ],
            [
             0.2222222222222222,
             "#7201a8"
            ],
            [
             0.3333333333333333,
             "#9c179e"
            ],
            [
             0.4444444444444444,
             "#bd3786"
            ],
            [
             0.5555555555555556,
             "#d8576b"
            ],
            [
             0.6666666666666666,
             "#ed7953"
            ],
            [
             0.7777777777777778,
             "#fb9f3a"
            ],
            [
             0.8888888888888888,
             "#fdca26"
            ],
            [
             1.0,
             "#f0f921"
            ]
           ],
           "diverging": [
            [
             0,
             "#8e0152"
            ],
            [
             0.1,
             "#c51b7d"
            ],
            [
             0.2,
             "#de77ae"
            ],
            [
             0.3,
             "#f1b6da"
            ],
            [
             0.4,
             "#fde0ef"
            ],
            [
             0.5,
             "#f7f7f7"
            ],
            [
             0.6,
             "#e6f5d0"
            ],
            [
             0.7,
             "#b8e186"
            ],
            [
             0.8,
             "#7fbc41"
            ],
            [
             0.9,
             "#4d9221"
            ],
            [
             1,
             "#276419"
            ]
           ]
          },
          "xaxis": {
           "gridcolor": "white",
           "linecolor": "white",
           "ticks": "",
           "title": {
            "standoff": 15
           },
           "zerolinecolor": "white",
           "automargin": true,
           "zerolinewidth": 2
          },
          "yaxis": {
           "gridcolor": "white",
           "linecolor": "white",
           "ticks": "",
           "title": {
            "standoff": 15
           },
           "zerolinecolor": "white",
           "automargin": true,
           "zerolinewidth": 2
          },
          "scene": {
           "xaxis": {
            "backgroundcolor": "#E5ECF6",
            "gridcolor": "white",
            "linecolor": "white",
            "showbackground": true,
            "ticks": "",
            "zerolinecolor": "white",
            "gridwidth": 2
           },
           "yaxis": {
            "backgroundcolor": "#E5ECF6",
            "gridcolor": "white",
            "linecolor": "white",
            "showbackground": true,
            "ticks": "",
            "zerolinecolor": "white",
            "gridwidth": 2
           },
           "zaxis": {
            "backgroundcolor": "#E5ECF6",
            "gridcolor": "white",
            "linecolor": "white",
            "showbackground": true,
            "ticks": "",
            "zerolinecolor": "white",
            "gridwidth": 2
           }
          },
          "shapedefaults": {
           "line": {
            "color": "#2a3f5f"
           }
          },
          "annotationdefaults": {
           "arrowcolor": "#2a3f5f",
           "arrowhead": 0,
           "arrowwidth": 1
          },
          "geo": {
           "bgcolor": "white",
           "landcolor": "#E5ECF6",
           "subunitcolor": "white",
           "showland": true,
           "showlakes": true,
           "lakecolor": "white"
          },
          "title": {
           "x": 0.05
          },
          "mapbox": {
           "style": "light"
          }
         }
        },
        "xaxis": {
         "anchor": "y",
         "domain": [
          0.0,
          1.0
         ],
         "title": {
          "text": "Year Group"
         }
        },
        "yaxis": {
         "anchor": "x",
         "domain": [
          0.0,
          1.0
         ],
         "title": {
          "text": "Number of Languages"
         }
        },
        "legend": {
         "tracegroupgap": 0
        },
        "title": {
         "text": "Box Plot of Number of Languages per Movie per 3-Year Interval"
        },
        "boxmode": "group",
        "width": 1000,
        "height": 600
       },
       "config": {
        "plotlyServerURL": "https://plot.ly"
       }
      },
      "text/html": [
       "<div>                            <div id=\"d19de09a-5603-46d1-a627-22e806bcc98c\" class=\"plotly-graph-div\" style=\"height:600px; width:1000px;\"></div>            <script type=\"text/javascript\">                require([\"plotly\"], function(Plotly) {                    window.PLOTLYENV=window.PLOTLYENV || {};                                    if (document.getElementById(\"d19de09a-5603-46d1-a627-22e806bcc98c\")) {                    Plotly.newPlot(                        \"d19de09a-5603-46d1-a627-22e806bcc98c\",                        [{\"alignmentgroup\":\"True\",\"hovertemplate\":\"Year Group=%{x}\\u003cbr\\u003eNumber of Languages=%{y}\\u003cextra\\u003e\\u003c\\u002fextra\\u003e\",\"legendgroup\":\"\",\"marker\":{\"color\":\"#636efa\"},\"name\":\"\",\"notched\":false,\"offsetgroup\":\"\",\"orientation\":\"v\",\"showlegend\":false,\"x\":[1998,1992,2001,2001,2001,2010,2010,2001,2001,2004,2004,2010,1971,2007,2007,2010,1980,1998,1992,1989,2007,1992,2004,2010,1980,2007,1971,2013,2004,2007,2010,1983,2004,1986,2004,2010,1995,2004,1998,1974,1974,1959,1995,2004,2001,1995,2004,2010,2004,1971,2007,2004,2010,2001,2001,2001,2007,2004,2010,1998,2001,2007,2007,1995,1959,1965,2001,2004,1980,1938,1995,2004,2010,1956,2010,1986,2010,1938,1962,1998,1953,2010,1989,2010,2007,2004,2001,1995,2007,1995,1995,2010,2007,1962,2001,2007,2007,1998,1986,1989,1998,1995,1995,1998,1995,2010,2010,2001,2007,1989,2001,1998,1998,2001,2013,2007,2001,1983,1938,2001,2007,1962,1998,2007,1968,1983,2001,2001,2007,2010,2004,1998,2010,1962,1962,2007,1998,2010,2010,1995,1971,1989,1968,1998,1998,2004,2004,1980,1998,1989,2010,1983,1998,2004,1974,1986,1992,2004,2007,1992,2007,1998,1986,1995,1962,2007,2001,2007,1983,2004,1974,1995,2010,2007,1959,2001,2007,2010,1962,2004,1977,2004,2007,2007,1995,1986,2001,2001,2010,1998,1986,1965,2001,2001,2010,2004,2010,2004,1965,2010,1989,1995,1995,1959,1977,2007,1971,2004,2010,2007,1956,1962,1971,1974,1992,1998,1977,1977,1983,1986,1977,2010,2007,2001,1995,1968,1980,1998,1998,2007,1944,2001,2001,2001,2004,2007,1938,1986,1995,2001,1983,2007,2001,1995,2007,1950,1986,1941,2004,2004,1998,1983,1992,1986,1989,1998,2004,1992,1929,2004,2007,1995,1953,1986,2004,2004,1992,1989,1983,2004,1983,1974,1965,1986,1998,1998,2010,1989,2007,2004,2004,1989,1986,1995,1998,1983,2001,1992,1986,1998,1983,1989,1983,1995,1983,2001,1998,1968,1998,2001,1989,2004,1998,1965,1992,1947,1998,2001,2004,2007,1986,2007,2001,1974,1974,1989,1992,1962,2004,2007,1995,1968,2001,1995,1989,1989,1995,1956,1983,1974,2001,1992,2001,1989,1998,1977,2004,1986,1965,1998,1986,1944,1995,1971,1998,1980,1983,1992,1938,1971,1959,1965,1959,1953,1950,2001,1971,1974,2001,1974,1971,1971,2004,1971,1998,1971,1968,1995,2004,2010,1953,1992,1998,1962,1953,2001,1989,1995,1998,1959,2007,1974,2001,1980,1995,2001,1998,2004,1944,1998,1941,1959,1929,1977,1995,1980,1992,1983,1992,1986,1989,1965,2004,1992,1971,1956,1977,1968,1962,1971,1983,1986,1983,1971,1989,1980,1947,1944,1995,1953,1983,1977,1980,2001,1989,1998,1995,1983,2004,1986,1989,1971,1983,2010,1962,1998,1983,2010,1971,2001,2001,1980,1914,1995,2007,2010,1986,1992,1983,1980,1977,1989,1974,1977,2001,1995,1992,2001,2001,1959,1989,2004,1974,1986,1974,1980,1968,1998,1959,1998,1983,1992,1980,1995,1956,1944,1941,1977,1977,1956,2001,1968,1968,1950,1986,1965,1998,2001,1998,1977,1971,2004,2004,1971,1971,1980,1962,2004,1944,1980,1947,1977,1953,1956,1995,1995,2001,1965,2004,1992,1959,1956,1968,2004,1962,1992,2001,2004,2001,1995,1977,1989,1995,1977,1956,1983,1947,1977,1983,1989,2007,1944,1980,1989,1929,1986,1986,1989,1995,2004,1995,1998,1977,1965,2001,2004,1971,1953,2001,1977,1989,1980,2004,1965,2007,2004,1968,1959,1941,1989,1938,1998,1992,2001,1950,2001,1983,1977,1965,1950,2001,2001,1968,1965,1944,1923,1959,1953,2007,2001,1962,1992,1977,1983,1980,1980,1995,1965,2001,1992,1983,1995,1938,1986,1929,1986,1956,1965,1974,1986,1989,1998,1956,2004,1971,1965,1998,1989,2004,1989,1935,1980,1962,1959,1968,1953,1968,1965,1983,1977,1989,1983,1977,1998,1938,1968,1989,1914,1971,1989,1995,1956,1995,1980,1935,1989,1965,2004,1998,1941,1971,1959,1998,1959,1947,1929,1935,1986,1932,1965,2004,1944,1989,1926,1926,1944,1962,1977,1926],\"x0\":\" \",\"xaxis\":\"x\",\"y\":[1,1,1,1,1,2,1,1,1,1,2,1,3,1,1,1,1,2,2,1,1,4,1,2,5,1,1,1,2,2,1,2,1,3,2,5,2,2,3,1,1,1,1,4,5,1,1,1,1,6,5,4,1,1,1,2,1,1,2,1,1,1,1,1,1,1,1,1,1,1,5,2,2,1,1,1,1,1,1,1,1,1,1,1,3,2,1,2,3,1,1,2,1,1,1,4,1,1,1,1,1,1,3,5,2,1,1,2,2,1,1,1,4,1,1,1,3,1,1,1,3,1,2,1,1,2,1,2,1,1,1,1,1,2,3,1,2,1,1,2,4,1,1,1,2,1,1,1,1,2,1,1,1,1,2,2,2,1,4,2,2,5,4,1,4,1,2,1,1,3,3,1,1,2,1,5,1,2,2,8,1,6,1,1,1,1,1,1,1,1,1,2,1,1,1,1,1,2,3,1,1,4,1,1,1,1,2,2,1,2,3,1,2,3,1,2,2,3,1,3,1,1,1,2,2,2,1,7,1,1,1,1,1,3,1,1,2,1,1,5,1,2,1,1,3,2,1,1,2,2,1,2,1,1,1,1,1,1,1,3,2,2,2,2,4,3,1,1,4,1,1,6,1,1,1,1,2,1,1,3,1,1,2,1,1,1,1,2,1,3,1,1,1,1,3,3,1,1,2,1,1,1,3,5,1,1,1,1,3,1,1,1,1,3,2,1,1,1,2,1,2,1,2,1,2,1,1,1,1,6,1,2,1,2,1,2,2,1,1,2,1,1,1,1,1,1,1,1,1,1,1,1,1,2,2,2,1,1,3,1,1,3,2,1,1,1,2,2,2,1,1,1,2,4,1,5,1,1,1,1,1,4,1,1,1,2,1,1,1,4,1,3,4,4,1,1,2,1,2,2,1,5,1,2,1,2,1,1,1,1,1,2,1,1,1,2,2,1,1,2,2,1,1,2,1,1,1,1,1,1,2,2,1,1,1,1,1,1,2,2,1,2,1,1,1,3,2,2,1,1,4,1,1,1,1,1,2,1,1,5,3,1,1,1,1,3,1,1,1,1,1,1,1,1,1,1,2,1,4,3,1,4,2,1,1,1,1,1,2,1,3,1,3,1,1,1,2,2,1,1,2,1,1,2,1,1,1,1,4,1,2,1,2,1,1,1,3,1,1,2,4,1,2,1,1,2,1,4,5,1,2,1,1,1,1,1,1,1,1,1,1,1,1,2,1,1,1,1,2,2,1,1,1,1,1,1,1,1,2,1,2,1,2,1,5,1,1,1,1,1,1,2,3,5,1,1,1,1,5,1,2,4,1,1,1,1,2,2,1,1,1,2,1,1,2,1,1,1,1,1,1,1,2,1,1,1,1,1,1,1,1,1,1,2,3,2,1,1,1,2,1,1,1,1,1,1,1,1,1,1,1,2,1,1,1,1,1,2,1,1,1,1,2,2,1,1,2,1,1,1,1,1,1,1,1,1,1,1,1],\"y0\":\" \",\"yaxis\":\"y\",\"type\":\"box\"},{\"line\":{\"color\":\"red\",\"width\":2},\"mode\":\"lines+markers\",\"name\":\"Median Trend\",\"x\":[1914,1923,1926,1929,1932,1935,1938,1941,1944,1947,1950,1953,1956,1959,1962,1965,1968,1971,1974,1977,1980,1983,1986,1989,1992,1995,1998,2001,2004,2007,2010,2013],\"y\":[1.0,1.0,1.0,1.0,1.0,1.0,1.0,1.0,1.0,1.0,2.0,1.0,1.5,1.0,1.0,1.0,1.0,1.0,1.5,1.0,1.0,1.0,1.0,1.0,1.5,1.0,1.0,1.0,1.0,1.0,1.0,1.0],\"type\":\"scatter\"},{\"line\":{\"color\":\"blue\",\"dash\":\"dash\",\"width\":2},\"mode\":\"lines+markers\",\"name\":\"Mean Trend\",\"x\":[1914,1923,1926,1929,1932,1935,1938,1941,1944,1947,1950,1953,1956,1959,1962,1965,1968,1971,1974,1977,1980,1983,1986,1989,1992,1995,1998,2001,2004,2007,2010,2013],\"y\":[1.0,1.0,1.0,1.8,1.0,1.3333333333333333,1.25,1.4,1.0,1.4,2.2,1.4,1.6666666666666667,1.5625,1.7058823529411764,1.85,1.6875,1.72,2.3125,1.84,1.3636363636363635,1.4375,1.4333333333333333,1.1578947368421053,1.6538461538461537,1.4565217391304348,1.679245283018868,1.59375,1.8666666666666667,1.6666666666666667,1.3611111111111112,1.0],\"type\":\"scatter\"}],                        {\"template\":{\"data\":{\"histogram2dcontour\":[{\"type\":\"histogram2dcontour\",\"colorbar\":{\"outlinewidth\":0,\"ticks\":\"\"},\"colorscale\":[[0.0,\"#0d0887\"],[0.1111111111111111,\"#46039f\"],[0.2222222222222222,\"#7201a8\"],[0.3333333333333333,\"#9c179e\"],[0.4444444444444444,\"#bd3786\"],[0.5555555555555556,\"#d8576b\"],[0.6666666666666666,\"#ed7953\"],[0.7777777777777778,\"#fb9f3a\"],[0.8888888888888888,\"#fdca26\"],[1.0,\"#f0f921\"]]}],\"choropleth\":[{\"type\":\"choropleth\",\"colorbar\":{\"outlinewidth\":0,\"ticks\":\"\"}}],\"histogram2d\":[{\"type\":\"histogram2d\",\"colorbar\":{\"outlinewidth\":0,\"ticks\":\"\"},\"colorscale\":[[0.0,\"#0d0887\"],[0.1111111111111111,\"#46039f\"],[0.2222222222222222,\"#7201a8\"],[0.3333333333333333,\"#9c179e\"],[0.4444444444444444,\"#bd3786\"],[0.5555555555555556,\"#d8576b\"],[0.6666666666666666,\"#ed7953\"],[0.7777777777777778,\"#fb9f3a\"],[0.8888888888888888,\"#fdca26\"],[1.0,\"#f0f921\"]]}],\"heatmap\":[{\"type\":\"heatmap\",\"colorbar\":{\"outlinewidth\":0,\"ticks\":\"\"},\"colorscale\":[[0.0,\"#0d0887\"],[0.1111111111111111,\"#46039f\"],[0.2222222222222222,\"#7201a8\"],[0.3333333333333333,\"#9c179e\"],[0.4444444444444444,\"#bd3786\"],[0.5555555555555556,\"#d8576b\"],[0.6666666666666666,\"#ed7953\"],[0.7777777777777778,\"#fb9f3a\"],[0.8888888888888888,\"#fdca26\"],[1.0,\"#f0f921\"]]}],\"heatmapgl\":[{\"type\":\"heatmapgl\",\"colorbar\":{\"outlinewidth\":0,\"ticks\":\"\"},\"colorscale\":[[0.0,\"#0d0887\"],[0.1111111111111111,\"#46039f\"],[0.2222222222222222,\"#7201a8\"],[0.3333333333333333,\"#9c179e\"],[0.4444444444444444,\"#bd3786\"],[0.5555555555555556,\"#d8576b\"],[0.6666666666666666,\"#ed7953\"],[0.7777777777777778,\"#fb9f3a\"],[0.8888888888888888,\"#fdca26\"],[1.0,\"#f0f921\"]]}],\"contourcarpet\":[{\"type\":\"contourcarpet\",\"colorbar\":{\"outlinewidth\":0,\"ticks\":\"\"}}],\"contour\":[{\"type\":\"contour\",\"colorbar\":{\"outlinewidth\":0,\"ticks\":\"\"},\"colorscale\":[[0.0,\"#0d0887\"],[0.1111111111111111,\"#46039f\"],[0.2222222222222222,\"#7201a8\"],[0.3333333333333333,\"#9c179e\"],[0.4444444444444444,\"#bd3786\"],[0.5555555555555556,\"#d8576b\"],[0.6666666666666666,\"#ed7953\"],[0.7777777777777778,\"#fb9f3a\"],[0.8888888888888888,\"#fdca26\"],[1.0,\"#f0f921\"]]}],\"surface\":[{\"type\":\"surface\",\"colorbar\":{\"outlinewidth\":0,\"ticks\":\"\"},\"colorscale\":[[0.0,\"#0d0887\"],[0.1111111111111111,\"#46039f\"],[0.2222222222222222,\"#7201a8\"],[0.3333333333333333,\"#9c179e\"],[0.4444444444444444,\"#bd3786\"],[0.5555555555555556,\"#d8576b\"],[0.6666666666666666,\"#ed7953\"],[0.7777777777777778,\"#fb9f3a\"],[0.8888888888888888,\"#fdca26\"],[1.0,\"#f0f921\"]]}],\"mesh3d\":[{\"type\":\"mesh3d\",\"colorbar\":{\"outlinewidth\":0,\"ticks\":\"\"}}],\"scatter\":[{\"fillpattern\":{\"fillmode\":\"overlay\",\"size\":10,\"solidity\":0.2},\"type\":\"scatter\"}],\"parcoords\":[{\"type\":\"parcoords\",\"line\":{\"colorbar\":{\"outlinewidth\":0,\"ticks\":\"\"}}}],\"scatterpolargl\":[{\"type\":\"scatterpolargl\",\"marker\":{\"colorbar\":{\"outlinewidth\":0,\"ticks\":\"\"}}}],\"bar\":[{\"error_x\":{\"color\":\"#2a3f5f\"},\"error_y\":{\"color\":\"#2a3f5f\"},\"marker\":{\"line\":{\"color\":\"#E5ECF6\",\"width\":0.5},\"pattern\":{\"fillmode\":\"overlay\",\"size\":10,\"solidity\":0.2}},\"type\":\"bar\"}],\"scattergeo\":[{\"type\":\"scattergeo\",\"marker\":{\"colorbar\":{\"outlinewidth\":0,\"ticks\":\"\"}}}],\"scatterpolar\":[{\"type\":\"scatterpolar\",\"marker\":{\"colorbar\":{\"outlinewidth\":0,\"ticks\":\"\"}}}],\"histogram\":[{\"marker\":{\"pattern\":{\"fillmode\":\"overlay\",\"size\":10,\"solidity\":0.2}},\"type\":\"histogram\"}],\"scattergl\":[{\"type\":\"scattergl\",\"marker\":{\"colorbar\":{\"outlinewidth\":0,\"ticks\":\"\"}}}],\"scatter3d\":[{\"type\":\"scatter3d\",\"line\":{\"colorbar\":{\"outlinewidth\":0,\"ticks\":\"\"}},\"marker\":{\"colorbar\":{\"outlinewidth\":0,\"ticks\":\"\"}}}],\"scattermapbox\":[{\"type\":\"scattermapbox\",\"marker\":{\"colorbar\":{\"outlinewidth\":0,\"ticks\":\"\"}}}],\"scatterternary\":[{\"type\":\"scatterternary\",\"marker\":{\"colorbar\":{\"outlinewidth\":0,\"ticks\":\"\"}}}],\"scattercarpet\":[{\"type\":\"scattercarpet\",\"marker\":{\"colorbar\":{\"outlinewidth\":0,\"ticks\":\"\"}}}],\"carpet\":[{\"aaxis\":{\"endlinecolor\":\"#2a3f5f\",\"gridcolor\":\"white\",\"linecolor\":\"white\",\"minorgridcolor\":\"white\",\"startlinecolor\":\"#2a3f5f\"},\"baxis\":{\"endlinecolor\":\"#2a3f5f\",\"gridcolor\":\"white\",\"linecolor\":\"white\",\"minorgridcolor\":\"white\",\"startlinecolor\":\"#2a3f5f\"},\"type\":\"carpet\"}],\"table\":[{\"cells\":{\"fill\":{\"color\":\"#EBF0F8\"},\"line\":{\"color\":\"white\"}},\"header\":{\"fill\":{\"color\":\"#C8D4E3\"},\"line\":{\"color\":\"white\"}},\"type\":\"table\"}],\"barpolar\":[{\"marker\":{\"line\":{\"color\":\"#E5ECF6\",\"width\":0.5},\"pattern\":{\"fillmode\":\"overlay\",\"size\":10,\"solidity\":0.2}},\"type\":\"barpolar\"}],\"pie\":[{\"automargin\":true,\"type\":\"pie\"}]},\"layout\":{\"autotypenumbers\":\"strict\",\"colorway\":[\"#636efa\",\"#EF553B\",\"#00cc96\",\"#ab63fa\",\"#FFA15A\",\"#19d3f3\",\"#FF6692\",\"#B6E880\",\"#FF97FF\",\"#FECB52\"],\"font\":{\"color\":\"#2a3f5f\"},\"hovermode\":\"closest\",\"hoverlabel\":{\"align\":\"left\"},\"paper_bgcolor\":\"white\",\"plot_bgcolor\":\"#E5ECF6\",\"polar\":{\"bgcolor\":\"#E5ECF6\",\"angularaxis\":{\"gridcolor\":\"white\",\"linecolor\":\"white\",\"ticks\":\"\"},\"radialaxis\":{\"gridcolor\":\"white\",\"linecolor\":\"white\",\"ticks\":\"\"}},\"ternary\":{\"bgcolor\":\"#E5ECF6\",\"aaxis\":{\"gridcolor\":\"white\",\"linecolor\":\"white\",\"ticks\":\"\"},\"baxis\":{\"gridcolor\":\"white\",\"linecolor\":\"white\",\"ticks\":\"\"},\"caxis\":{\"gridcolor\":\"white\",\"linecolor\":\"white\",\"ticks\":\"\"}},\"coloraxis\":{\"colorbar\":{\"outlinewidth\":0,\"ticks\":\"\"}},\"colorscale\":{\"sequential\":[[0.0,\"#0d0887\"],[0.1111111111111111,\"#46039f\"],[0.2222222222222222,\"#7201a8\"],[0.3333333333333333,\"#9c179e\"],[0.4444444444444444,\"#bd3786\"],[0.5555555555555556,\"#d8576b\"],[0.6666666666666666,\"#ed7953\"],[0.7777777777777778,\"#fb9f3a\"],[0.8888888888888888,\"#fdca26\"],[1.0,\"#f0f921\"]],\"sequentialminus\":[[0.0,\"#0d0887\"],[0.1111111111111111,\"#46039f\"],[0.2222222222222222,\"#7201a8\"],[0.3333333333333333,\"#9c179e\"],[0.4444444444444444,\"#bd3786\"],[0.5555555555555556,\"#d8576b\"],[0.6666666666666666,\"#ed7953\"],[0.7777777777777778,\"#fb9f3a\"],[0.8888888888888888,\"#fdca26\"],[1.0,\"#f0f921\"]],\"diverging\":[[0,\"#8e0152\"],[0.1,\"#c51b7d\"],[0.2,\"#de77ae\"],[0.3,\"#f1b6da\"],[0.4,\"#fde0ef\"],[0.5,\"#f7f7f7\"],[0.6,\"#e6f5d0\"],[0.7,\"#b8e186\"],[0.8,\"#7fbc41\"],[0.9,\"#4d9221\"],[1,\"#276419\"]]},\"xaxis\":{\"gridcolor\":\"white\",\"linecolor\":\"white\",\"ticks\":\"\",\"title\":{\"standoff\":15},\"zerolinecolor\":\"white\",\"automargin\":true,\"zerolinewidth\":2},\"yaxis\":{\"gridcolor\":\"white\",\"linecolor\":\"white\",\"ticks\":\"\",\"title\":{\"standoff\":15},\"zerolinecolor\":\"white\",\"automargin\":true,\"zerolinewidth\":2},\"scene\":{\"xaxis\":{\"backgroundcolor\":\"#E5ECF6\",\"gridcolor\":\"white\",\"linecolor\":\"white\",\"showbackground\":true,\"ticks\":\"\",\"zerolinecolor\":\"white\",\"gridwidth\":2},\"yaxis\":{\"backgroundcolor\":\"#E5ECF6\",\"gridcolor\":\"white\",\"linecolor\":\"white\",\"showbackground\":true,\"ticks\":\"\",\"zerolinecolor\":\"white\",\"gridwidth\":2},\"zaxis\":{\"backgroundcolor\":\"#E5ECF6\",\"gridcolor\":\"white\",\"linecolor\":\"white\",\"showbackground\":true,\"ticks\":\"\",\"zerolinecolor\":\"white\",\"gridwidth\":2}},\"shapedefaults\":{\"line\":{\"color\":\"#2a3f5f\"}},\"annotationdefaults\":{\"arrowcolor\":\"#2a3f5f\",\"arrowhead\":0,\"arrowwidth\":1},\"geo\":{\"bgcolor\":\"white\",\"landcolor\":\"#E5ECF6\",\"subunitcolor\":\"white\",\"showland\":true,\"showlakes\":true,\"lakecolor\":\"white\"},\"title\":{\"x\":0.05},\"mapbox\":{\"style\":\"light\"}}},\"xaxis\":{\"anchor\":\"y\",\"domain\":[0.0,1.0],\"title\":{\"text\":\"Year Group\"}},\"yaxis\":{\"anchor\":\"x\",\"domain\":[0.0,1.0],\"title\":{\"text\":\"Number of Languages\"}},\"legend\":{\"tracegroupgap\":0},\"title\":{\"text\":\"Box Plot of Number of Languages per Movie per 3-Year Interval\"},\"boxmode\":\"group\",\"width\":1000,\"height\":600},                        {\"responsive\": true}                    ).then(function(){\n",
       "                            \n",
       "var gd = document.getElementById('d19de09a-5603-46d1-a627-22e806bcc98c');\n",
       "var x = new MutationObserver(function (mutations, observer) {{\n",
       "        var display = window.getComputedStyle(gd).display;\n",
       "        if (!display || display === 'none') {{\n",
       "            console.log([gd, 'removed!']);\n",
       "            Plotly.purge(gd);\n",
       "            observer.disconnect();\n",
       "        }}\n",
       "}});\n",
       "\n",
       "// Listen for the removal of the full notebook cells\n",
       "var notebookContainer = gd.closest('#notebook-container');\n",
       "if (notebookContainer) {{\n",
       "    x.observe(notebookContainer, {childList: true});\n",
       "}}\n",
       "\n",
       "// Listen for the clearing of the current output cell\n",
       "var outputEl = gd.closest('.output');\n",
       "if (outputEl) {{\n",
       "    x.observe(outputEl, {childList: true});\n",
       "}}\n",
       "\n",
       "                        })                };                });            </script>        </div>"
      ]
     },
     "metadata": {},
     "output_type": "display_data"
    }
   ],
   "execution_count": 37
  },
  {
   "metadata": {},
   "cell_type": "markdown",
   "source": "",
   "id": "e31be9c6df7b9163"
  }
 ],
 "metadata": {
  "kernelspec": {
   "display_name": "Python 3",
   "language": "python",
   "name": "python3"
  },
  "language_info": {
   "codemirror_mode": {
    "name": "ipython",
    "version": 2
   },
   "file_extension": ".py",
   "mimetype": "text/x-python",
   "name": "python",
   "nbconvert_exporter": "python",
   "pygments_lexer": "ipython2",
   "version": "2.7.6"
  }
 },
 "nbformat": 4,
 "nbformat_minor": 5
}
